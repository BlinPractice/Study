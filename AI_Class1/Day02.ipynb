{
  "nbformat": 4,
  "nbformat_minor": 0,
  "metadata": {
    "colab": {
      "name": "Day02.ipynb",
      "provenance": [],
      "collapsed_sections": [],
      "toc_visible": true,
      "authorship_tag": "ABX9TyOEyz3pkqRDgopTtP4qfaIq",
      "include_colab_link": true
    },
    "kernelspec": {
      "name": "python3",
      "display_name": "Python 3"
    },
    "language_info": {
      "name": "python"
    }
  },
  "cells": [
    {
      "cell_type": "markdown",
      "metadata": {
        "id": "view-in-github",
        "colab_type": "text"
      },
      "source": [
        "<a href=\"https://colab.research.google.com/github/PyBlin/Study/blob/main/AI_Class1/Day02.ipynb\" target=\"_parent\"><img src=\"https://colab.research.google.com/assets/colab-badge.svg\" alt=\"Open In Colab\"/></a>"
      ]
    },
    {
      "cell_type": "code",
      "metadata": {
        "id": "_OcnkXAdz6mv",
        "colab": {
          "base_uri": "https://localhost:8080/"
        },
        "outputId": "edc5aa80-f851-4f9a-94d0-9e054194191e"
      },
      "source": [
        "5 + 3 * 2 - 1"
      ],
      "execution_count": 1,
      "outputs": [
        {
          "output_type": "execute_result",
          "data": {
            "text/plain": [
              "10"
            ]
          },
          "metadata": {
            "tags": []
          },
          "execution_count": 1
        }
      ]
    },
    {
      "cell_type": "code",
      "metadata": {
        "colab": {
          "base_uri": "https://localhost:8080/"
        },
        "id": "ztKkvxqz65mr",
        "outputId": "9390728b-418c-403d-a8dc-df3af0eafed4"
      },
      "source": [
        "print(5 + 3 * 2 - 1)"
      ],
      "execution_count": 2,
      "outputs": [
        {
          "output_type": "stream",
          "text": [
            "10\n"
          ],
          "name": "stdout"
        }
      ]
    },
    {
      "cell_type": "code",
      "metadata": {
        "colab": {
          "base_uri": "https://localhost:8080/"
        },
        "id": "bUHlEPan69tM",
        "outputId": "7563f26e-e4b9-4eb1-cc97-bab5b13ee884"
      },
      "source": [
        "variable1 = 5\n",
        "variable2 = 3\n",
        "variable3 = 2\n",
        "variable4 = 1\n",
        "result = variable1 + variable2 * variable3 - variable4\n",
        "변수1 = 10\n",
        "\n",
        "print(variable1, \"+\", variable2, \"*\", variable3, \"-\", variable4, \"=\", result)\n",
        "print(변수1)"
      ],
      "execution_count": 3,
      "outputs": [
        {
          "output_type": "stream",
          "text": [
            "5 + 3 * 2 - 1 = 10\n",
            "10\n"
          ],
          "name": "stdout"
        }
      ]
    },
    {
      "cell_type": "code",
      "metadata": {
        "colab": {
          "base_uri": "https://localhost:8080/"
        },
        "id": "AEc4yQ627acW",
        "outputId": "027e1448-7b0e-4866-9382-7f5f55a645a9"
      },
      "source": [
        "total = 0\n",
        "for i in range (1, 11):\n",
        "    total = total + i\n",
        "    print(f'{total}')\n",
        "\n",
        "print()\n",
        "print(f'1 + 2 + ... + 9 + 10 = {total}')"
      ],
      "execution_count": 4,
      "outputs": [
        {
          "output_type": "stream",
          "text": [
            "1\n",
            "3\n",
            "6\n",
            "10\n",
            "15\n",
            "21\n",
            "28\n",
            "36\n",
            "45\n",
            "55\n",
            "\n",
            "1 + 2 + ... + 9 + 10 = 55\n"
          ],
          "name": "stdout"
        }
      ]
    }
  ]
}