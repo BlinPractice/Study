{
  "nbformat": 4,
  "nbformat_minor": 0,
  "metadata": {
    "colab": {
      "name": "Day05.ipynb",
      "provenance": [],
      "collapsed_sections": [],
      "toc_visible": true,
      "authorship_tag": "ABX9TyNnJnM8mIWN071QVWy4ArKG",
      "include_colab_link": true
    },
    "kernelspec": {
      "name": "python3",
      "display_name": "Python 3"
    },
    "language_info": {
      "name": "python"
    }
  },
  "cells": [
    {
      "cell_type": "markdown",
      "metadata": {
        "id": "view-in-github",
        "colab_type": "text"
      },
      "source": [
        "<a href=\"https://colab.research.google.com/github/PyBlin/Study/blob/main/AI_Class1/Day05.ipynb\" target=\"_parent\"><img src=\"https://colab.research.google.com/assets/colab-badge.svg\" alt=\"Open In Colab\"/></a>"
      ]
    },
    {
      "cell_type": "markdown",
      "metadata": {
        "id": "ITURvobKm_QE"
      },
      "source": [
        "## 표준 입/출력"
      ]
    },
    {
      "cell_type": "markdown",
      "metadata": {
        "id": "2oMVY_sRnIcg"
      },
      "source": [
        "표준 입력"
      ]
    },
    {
      "cell_type": "code",
      "metadata": {
        "colab": {
          "base_uri": "https://localhost:8080/"
        },
        "id": "_29RhaB7nKCE",
        "outputId": "2bf54aa2-f452-43f6-8c2f-6654e018dc37"
      },
      "source": [
        "# type : 함수 이름\n",
        "# (10) : 인수(매개변수, parameter)\n",
        "type(10)            # 함수 호출"
      ],
      "execution_count": 1,
      "outputs": [
        {
          "output_type": "execute_result",
          "data": {
            "text/plain": [
              "int"
            ]
          },
          "metadata": {
            "tags": []
          },
          "execution_count": 1
        }
      ]
    },
    {
      "cell_type": "code",
      "metadata": {
        "colab": {
          "base_uri": "https://localhost:8080/",
          "height": 172
        },
        "id": "T0POsr-VnfPa",
        "outputId": "2bb473ce-60f7-4dd5-fb3b-a387850d0f29"
      },
      "source": [
        "type()              # type() 함수는 인수가 반드시 있어야 한다."
      ],
      "execution_count": 2,
      "outputs": [
        {
          "output_type": "error",
          "ename": "TypeError",
          "evalue": "ignored",
          "traceback": [
            "\u001b[0;31m---------------------------------------------------------------------------\u001b[0m",
            "\u001b[0;31mTypeError\u001b[0m                                 Traceback (most recent call last)",
            "\u001b[0;32m<ipython-input-2-dbab1bea295b>\u001b[0m in \u001b[0;36m<module>\u001b[0;34m()\u001b[0m\n\u001b[0;32m----> 1\u001b[0;31m \u001b[0mtype\u001b[0m\u001b[0;34m(\u001b[0m\u001b[0;34m)\u001b[0m              \u001b[0;31m# type() 함수는 인수가 반드시 있어야 한다.\u001b[0m\u001b[0;34m\u001b[0m\u001b[0;34m\u001b[0m\u001b[0m\n\u001b[0m",
            "\u001b[0;31mTypeError\u001b[0m: type() takes 1 or 3 arguments"
          ]
        }
      ]
    },
    {
      "cell_type": "code",
      "metadata": {
        "colab": {
          "base_uri": "https://localhost:8080/",
          "height": 53
        },
        "id": "Vta5dzsir-9N",
        "outputId": "74f871c9-066a-491b-eefa-061e1e64ebf0"
      },
      "source": [
        "input()                     # input 함수를 호출하고 결과를 별도로 저장하지 않음"
      ],
      "execution_count": 3,
      "outputs": [
        {
          "output_type": "stream",
          "text": [
            "10\n"
          ],
          "name": "stdout"
        },
        {
          "output_type": "execute_result",
          "data": {
            "application/vnd.google.colaboratory.intrinsic+json": {
              "type": "string"
            },
            "text/plain": [
              "'10'"
            ]
          },
          "metadata": {
            "tags": []
          },
          "execution_count": 3
        }
      ]
    },
    {
      "cell_type": "code",
      "metadata": {
        "colab": {
          "base_uri": "https://localhost:8080/",
          "height": 53
        },
        "id": "zfFD6EfLsBi0",
        "outputId": "c8cda0cd-efd9-4378-f086-3f879ceade83"
      },
      "source": [
        "variable = input()          # input 함수를 호출하고 결과를 variable에 저장\n",
        "\n",
        "variable"
      ],
      "execution_count": 4,
      "outputs": [
        {
          "output_type": "stream",
          "text": [
            "10\n"
          ],
          "name": "stdout"
        },
        {
          "output_type": "execute_result",
          "data": {
            "application/vnd.google.colaboratory.intrinsic+json": {
              "type": "string"
            },
            "text/plain": [
              "'10'"
            ]
          },
          "metadata": {
            "tags": []
          },
          "execution_count": 4
        }
      ]
    },
    {
      "cell_type": "code",
      "metadata": {
        "colab": {
          "base_uri": "https://localhost:8080/",
          "height": 53
        },
        "id": "eSlR2n8EsNXh",
        "outputId": "c6ea19fd-77f7-48cc-a5d6-e83cbfb9a9a1"
      },
      "source": [
        "variable = input('아무 값이나 입력하세요 : ')\n",
        "\n",
        "variable"
      ],
      "execution_count": 5,
      "outputs": [
        {
          "output_type": "stream",
          "text": [
            "아무 값이나 입력하세요 : 10\n"
          ],
          "name": "stdout"
        },
        {
          "output_type": "execute_result",
          "data": {
            "application/vnd.google.colaboratory.intrinsic+json": {
              "type": "string"
            },
            "text/plain": [
              "'10'"
            ]
          },
          "metadata": {
            "tags": []
          },
          "execution_count": 5
        }
      ]
    },
    {
      "cell_type": "code",
      "metadata": {
        "colab": {
          "base_uri": "https://localhost:8080/"
        },
        "id": "dmt1Y2YQssiP",
        "outputId": "713951ea-462b-467e-859b-6f494ec2b0e9"
      },
      "source": [
        "variable = input('숫자를 입력하세요 : ')\n",
        "\n",
        "variable, type(variable)            # input 함수는 문자열(str) 함수이다"
      ],
      "execution_count": 6,
      "outputs": [
        {
          "output_type": "stream",
          "text": [
            "숫자를 입력하세요 : 10\n"
          ],
          "name": "stdout"
        },
        {
          "output_type": "execute_result",
          "data": {
            "text/plain": [
              "('10', str)"
            ]
          },
          "metadata": {
            "tags": []
          },
          "execution_count": 6
        }
      ]
    },
    {
      "cell_type": "code",
      "metadata": {
        "colab": {
          "base_uri": "https://localhost:8080/"
        },
        "id": "ImxNABeds-i5",
        "outputId": "be0b7cd1-1836-4aad-93fa-bda8b93e1887"
      },
      "source": [
        "# 입력 받은 문자를 정수로 변환\n",
        "variable = int(input('숫자를 입력하세요 : '))\n",
        "\n",
        "variable, type(variable)            # 형변환을 활용하면 문자열에서 벗어날 수 있다"
      ],
      "execution_count": 7,
      "outputs": [
        {
          "output_type": "stream",
          "text": [
            "숫자를 입력하세요 : 10\n"
          ],
          "name": "stdout"
        },
        {
          "output_type": "execute_result",
          "data": {
            "text/plain": [
              "(10, int)"
            ]
          },
          "metadata": {
            "tags": []
          },
          "execution_count": 7
        }
      ]
    },
    {
      "cell_type": "code",
      "metadata": {
        "colab": {
          "base_uri": "https://localhost:8080/"
        },
        "id": "YMAOT0b7tnqp",
        "outputId": "aaa50d42-5ace-4dc6-9df6-b92c8b9b2cd6"
      },
      "source": [
        "# 입력 받은 문자를 실수로 변환 후 정수로 변환\n",
        "variable = int(float(input('숫자를 입력하세요 : ')))\n",
        "\n",
        "variable, type(variable)"
      ],
      "execution_count": 8,
      "outputs": [
        {
          "output_type": "stream",
          "text": [
            "숫자를 입력하세요 : 10\n"
          ],
          "name": "stdout"
        },
        {
          "output_type": "execute_result",
          "data": {
            "text/plain": [
              "(10, int)"
            ]
          },
          "metadata": {
            "tags": []
          },
          "execution_count": 8
        }
      ]
    },
    {
      "cell_type": "markdown",
      "metadata": {
        "id": "9HSg-KKCvFwi"
      },
      "source": [
        "## 두 개의 정수를 입력 받아 사칙연산의 결과를 출력\n",
        "\n",
        "문제 이해  \n",
        "    입력 자료 : 두 개의 정수  \n",
        "    출력 자료 : 사칙연산 결과  \n",
        "\n",
        "알고리즘 설계  \n",
        "    0. 변수 정의  \n",
        "    1. 두 개의 정수 입력  \n",
        "    2. 사칙연산 계산  \n",
        "    3. 사칙연산 결과 출력  \n",
        "    4. 종료  "
      ]
    },
    {
      "cell_type": "code",
      "metadata": {
        "colab": {
          "base_uri": "https://localhost:8080/"
        },
        "id": "QDMFdobavkl2",
        "outputId": "e91aaaa2-f4c7-4faf-bf7d-ced1ff644414"
      },
      "source": [
        "# 1. 두 개의 정수 입력\n",
        "number1 = int(float(input('첫 번째 정수를 입력하세요 : ')))\n",
        "number2 = int(float(input('두 번째 정수를 입력하세요 : ')))\n",
        "\n",
        "# 2. 사칙연산 계산\n",
        "add = number1 + number2\n",
        "subtract = number1 - number2\n",
        "multiple = number1 * number2\n",
        "divide = number1 / number2\n",
        "\n",
        "# 3. 사칙연산 결과 출력\n",
        "print(add)\n",
        "print(subtract)\n",
        "print(multiple)\n",
        "print(divide)"
      ],
      "execution_count": 9,
      "outputs": [
        {
          "output_type": "stream",
          "text": [
            "첫 번째 정수를 입력하세요 : 10\n",
            "두 번째 정수를 입력하세요 : 20\n",
            "30\n",
            "-10\n",
            "200\n",
            "0.5\n"
          ],
          "name": "stdout"
        }
      ]
    },
    {
      "cell_type": "code",
      "metadata": {
        "colab": {
          "base_uri": "https://localhost:8080/"
        },
        "id": "sIlUrk0DwdSr",
        "outputId": "a7a9deeb-3b82-4b53-c7fa-55a3e920665a"
      },
      "source": [
        "print('python programing')"
      ],
      "execution_count": 10,
      "outputs": [
        {
          "output_type": "stream",
          "text": [
            "python programing\n"
          ],
          "name": "stdout"
        }
      ]
    },
    {
      "cell_type": "code",
      "metadata": {
        "colab": {
          "base_uri": "https://localhost:8080/"
        },
        "id": "2bl6RzhxxysN",
        "outputId": "c24f72ac-dd0a-4df7-a4d3-1d425834edf5"
      },
      "source": [
        "print('add = ', add)\n",
        "print('subtract = ', subtract)\n",
        "print('multiple = ', multiple)\n",
        "print('divide = ', divide)"
      ],
      "execution_count": 11,
      "outputs": [
        {
          "output_type": "stream",
          "text": [
            "add =  30\n",
            "subtract =  -10\n",
            "multiple =  200\n",
            "divide =  0.5\n"
          ],
          "name": "stdout"
        }
      ]
    },
    {
      "cell_type": "code",
      "metadata": {
        "colab": {
          "base_uri": "https://localhost:8080/"
        },
        "id": "5t8_vAl9yGOk",
        "outputId": "e2bf4b61-39fe-425a-bd19-e41498976cd2"
      },
      "source": [
        "print(number1, '+', number2, ' = ', add)\n",
        "print(number1, '-', number2, ' = ', subtract)\n",
        "print(number1, '*', number2, ' = ', multiple)\n",
        "print(number1, '/', number2, ' = ', divide)"
      ],
      "execution_count": 12,
      "outputs": [
        {
          "output_type": "stream",
          "text": [
            "10 + 20  =  30\n",
            "10 - 20  =  -10\n",
            "10 * 20  =  200\n",
            "10 / 20  =  0.5\n"
          ],
          "name": "stdout"
        }
      ]
    },
    {
      "cell_type": "code",
      "metadata": {
        "colab": {
          "base_uri": "https://localhost:8080/"
        },
        "id": "L-HftFQUyXFK",
        "outputId": "8d80f315-df20-4ab5-868b-10295cb4d29c"
      },
      "source": [
        "print('add = ', add, '\\nsubtract = ', subtract, '\\nmultiple = ', multiple, '\\ndivide = ', divide)"
      ],
      "execution_count": 13,
      "outputs": [
        {
          "output_type": "stream",
          "text": [
            "add =  30 \n",
            "subtract =  -10 \n",
            "multiple =  200 \n",
            "divide =  0.5\n"
          ],
          "name": "stdout"
        }
      ]
    },
    {
      "cell_type": "code",
      "metadata": {
        "colab": {
          "base_uri": "https://localhost:8080/"
        },
        "id": "knz-dmSgzr4j",
        "outputId": "1f221469-8e3a-4967-cf75-26ad46a76abe"
      },
      "source": [
        "print('add = ', add, '\\t\\t\\tsubtract = ', subtract)"
      ],
      "execution_count": 14,
      "outputs": [
        {
          "output_type": "stream",
          "text": [
            "add =  30 \t\t\tsubtract =  -10\n"
          ],
          "name": "stdout"
        }
      ]
    },
    {
      "cell_type": "code",
      "metadata": {
        "colab": {
          "base_uri": "https://localhost:8080/"
        },
        "id": "WnFjTqwRzuiF",
        "outputId": "fa1433bc-59ec-4a50-e4ec-400814c93219"
      },
      "source": [
        "# end 인수는 print 각각을 줄바꿈하지 않고 end에 부여된 문자를 출력함. 즉, 자동 줄바꿈 off 역할.\n",
        "print('add = ', add, end='|')\n",
        "print('subtract = ', subtract, end='|')\n",
        "print('multiple = ', multiple, end='|')\n",
        "print('divide = ', divide, end='|')"
      ],
      "execution_count": 15,
      "outputs": [
        {
          "output_type": "stream",
          "text": [
            "add =  30|subtract =  -10|multiple =  200|divide =  0.5|"
          ],
          "name": "stdout"
        }
      ]
    },
    {
      "cell_type": "code",
      "metadata": {
        "colab": {
          "base_uri": "https://localhost:8080/"
        },
        "id": "tszqZU7K0Wt1",
        "outputId": "0df7c9c2-5331-4fce-fc15-579a29f95bf0"
      },
      "source": [
        "print('add = ', add, end='\\t')\n",
        "print('subtract = ', subtract)"
      ],
      "execution_count": 16,
      "outputs": [
        {
          "output_type": "stream",
          "text": [
            "add =  30\tsubtract =  -10\n"
          ],
          "name": "stdout"
        }
      ]
    },
    {
      "cell_type": "markdown",
      "metadata": {
        "id": "mOegpKrC1TFQ"
      },
      "source": [
        "## 실습문제) 5개의 정수를 입력받아 합계와 평균을 출력\n",
        "\n",
        "실행 결과)  \n",
        "    첫 번째 정수 입력 :  \n",
        "    두 번째 정수 입력 :  \n",
        "    세 번째 정수 입력 :  \n",
        "    네 번째 정수 입력 :  \n",
        "    다섯 번째 정수 입력 :  \n",
        "\n",
        "    첫 번째 정수 + 두 번째 정수 + 세 번째 정수 + 네 번째 정수 + 다섯 번째 정수 = 합계  \n",
        "\n",
        "    합계 / 5 = 평균  "
      ]
    },
    {
      "cell_type": "code",
      "metadata": {
        "colab": {
          "base_uri": "https://localhost:8080/"
        },
        "id": "HtAR-Qhb16fG",
        "outputId": "5937330b-7bcf-4585-bc2b-a3e776fb3a14"
      },
      "source": [
        "a = int(float(input('첫 번째 정수 : ')))\n",
        "b = int(float(input('두 번째 정수 : ')))\n",
        "c = int(float(input('세 번째 정수 : ')))\n",
        "d = int(float(input('네 번째 정수 : ')))\n",
        "e = int(float(input('다섯 번째 정수 : ')))\n",
        "\n",
        "add = a + b + c + d + e\n",
        "avg = add / 5\n",
        "print('\\n')\n",
        "\n",
        "# if문 오류,,, 뭐가 문제야 say something ㅠㅠ\n",
        "if type(add) or type(avg) == str:\n",
        "    print('Result is a string... Try again.')\n",
        "elif type(add) == int and type(avg) == float:\n",
        "    print('\\nSuccess Output!')\n",
        "else:\n",
        "    print(\"Something is wrong... Try again\")\n",
        "\n",
        "print('\\n')\n",
        "print(a, '+', b, '+', c, '+', d, '+', e, ' = ', add, '\\t\\t', type(add))\n",
        "print(add, '/', '5', ' = ', avg, '\\t\\t\\t', type(avg))"
      ],
      "execution_count": 17,
      "outputs": [
        {
          "output_type": "stream",
          "text": [
            "첫 번째 정수 : 10\n",
            "두 번째 정수 : 20\n",
            "세 번째 정수 : 30\n",
            "네 번째 정수 : 40\n",
            "다섯 번째 정수 : 50\n",
            "\n",
            "\n",
            "Result is a string... Try again.\n",
            "\n",
            "\n",
            "10 + 20 + 30 + 40 + 50  =  150 \t\t <class 'int'>\n",
            "150 / 5  =  30.0 \t\t\t <class 'float'>\n"
          ],
          "name": "stdout"
        }
      ]
    },
    {
      "cell_type": "code",
      "metadata": {
        "colab": {
          "base_uri": "https://localhost:8080/",
          "height": 136
        },
        "id": "Qq0h9OFi_mFa",
        "outputId": "4f5e840e-a88f-46af-f921-92f0184b1856"
      },
      "source": [
        "print('python\n",
        "program')\n",
        "# 그냥 줄바꿈을 하면 에러 발생"
      ],
      "execution_count": 18,
      "outputs": [
        {
          "output_type": "error",
          "ename": "SyntaxError",
          "evalue": "ignored",
          "traceback": [
            "\u001b[0;36m  File \u001b[0;32m\"<ipython-input-18-53e0a1235dd9>\"\u001b[0;36m, line \u001b[0;32m1\u001b[0m\n\u001b[0;31m    print('python\u001b[0m\n\u001b[0m                 ^\u001b[0m\n\u001b[0;31mSyntaxError\u001b[0m\u001b[0;31m:\u001b[0m EOL while scanning string literal\n"
          ]
        }
      ]
    },
    {
      "cell_type": "code",
      "metadata": {
        "colab": {
          "base_uri": "https://localhost:8080/"
        },
        "id": "QyRFAnp9Cz0W",
        "outputId": "ffebaf66-45d4-4bca-abd7-31e3c32915a0"
      },
      "source": [
        "print('python \\\n",
        "program')           # \\ 뒤에 아무것도 없어야 함"
      ],
      "execution_count": 19,
      "outputs": [
        {
          "output_type": "stream",
          "text": [
            "python program\n"
          ],
          "name": "stdout"
        }
      ]
    },
    {
      "cell_type": "markdown",
      "metadata": {
        "id": "2XG9Qk-2JOtn"
      },
      "source": [
        "## 제어 구조\n",
        "\n",
        "### 선택 구조\n",
        "\n",
        "단순 선택"
      ]
    },
    {
      "cell_type": "code",
      "metadata": {
        "colab": {
          "base_uri": "https://localhost:8080/"
        },
        "id": "IHkRSlQPJTHP",
        "outputId": "1717f148-7a0c-417e-84f0-d587c9d1f5e3"
      },
      "source": [
        "if 10 > 5:\n",
        "    print('10 > 5')"
      ],
      "execution_count": 20,
      "outputs": [
        {
          "output_type": "stream",
          "text": [
            "10 > 5\n"
          ],
          "name": "stdout"
        }
      ]
    },
    {
      "cell_type": "code",
      "metadata": {
        "colab": {
          "base_uri": "https://localhost:8080/"
        },
        "id": "HgnBeCjOJZJC",
        "outputId": "3c0f0e12-fc5b-43b3-fe42-023c3fc53466"
      },
      "source": [
        "if 10 < 5:\n",
        "    print('10 > 5')\n",
        "print('stop script')"
      ],
      "execution_count": 21,
      "outputs": [
        {
          "output_type": "stream",
          "text": [
            "stop script\n"
          ],
          "name": "stdout"
        }
      ]
    },
    {
      "cell_type": "code",
      "metadata": {
        "colab": {
          "base_uri": "https://localhost:8080/"
        },
        "id": "Trb56QyjJjjm",
        "outputId": "bc03666a-309c-4f8e-ca6e-c44c2ace2e5b"
      },
      "source": [
        "if 10 > 5:\n",
        "    print('True')\n",
        "    print('10 > 5')"
      ],
      "execution_count": 22,
      "outputs": [
        {
          "output_type": "stream",
          "text": [
            "True\n",
            "10 > 5\n"
          ],
          "name": "stdout"
        }
      ]
    },
    {
      "cell_type": "code",
      "metadata": {
        "colab": {
          "base_uri": "https://localhost:8080/"
        },
        "id": "r4kh3OP7KGbW",
        "outputId": "bb0ef9d7-7ff1-4453-c991-02be6d007b93"
      },
      "source": [
        "if True:\n",
        "    print('10 > 5')\n",
        "# 이건 의미없는 동작..."
      ],
      "execution_count": 23,
      "outputs": [
        {
          "output_type": "stream",
          "text": [
            "10 > 5\n"
          ],
          "name": "stdout"
        }
      ]
    },
    {
      "cell_type": "code",
      "metadata": {
        "colab": {
          "base_uri": "https://localhost:8080/"
        },
        "id": "EHFLrsjRKNwc",
        "outputId": "5fce4ba4-b302-4b30-f776-edcf7f00d3ee"
      },
      "source": [
        "if 10:\n",
        "    print('10 > 5')\n",
        "# 이것도 의미없는 동작... bool type에서 0이 아니면 True로 보기 때문."
      ],
      "execution_count": 24,
      "outputs": [
        {
          "output_type": "stream",
          "text": [
            "10 > 5\n"
          ],
          "name": "stdout"
        }
      ]
    },
    {
      "cell_type": "markdown",
      "metadata": {
        "id": "aGHtv46eKsPU"
      },
      "source": [
        "### 양자 택일 구조"
      ]
    },
    {
      "cell_type": "code",
      "metadata": {
        "colab": {
          "base_uri": "https://localhost:8080/"
        },
        "id": "9mOOGkRAKtqX",
        "outputId": "11bfbf34-8ea3-4dd6-aac8-a84b6e42005d"
      },
      "source": [
        "if 10 > 5:\n",
        "    print('10 > 5')\n",
        "else:\n",
        "    print('10 <= 5')"
      ],
      "execution_count": 25,
      "outputs": [
        {
          "output_type": "stream",
          "text": [
            "10 > 5\n"
          ],
          "name": "stdout"
        }
      ]
    },
    {
      "cell_type": "code",
      "metadata": {
        "colab": {
          "base_uri": "https://localhost:8080/"
        },
        "id": "x7cSHC8iK1LV",
        "outputId": "ef362184-b048-4405-9850-8235eb69fd3f"
      },
      "source": [
        "if 10 > 15:\n",
        "    print('10 > 15')\n",
        "else:\n",
        "    print('10 <= 15')"
      ],
      "execution_count": 26,
      "outputs": [
        {
          "output_type": "stream",
          "text": [
            "10 <= 15\n"
          ],
          "name": "stdout"
        }
      ]
    },
    {
      "cell_type": "markdown",
      "metadata": {
        "id": "mDkOCvqzLCmn"
      },
      "source": [
        "### 다중 선택 구조"
      ]
    },
    {
      "cell_type": "code",
      "metadata": {
        "colab": {
          "base_uri": "https://localhost:8080/"
        },
        "id": "SolIN-2iK8kd",
        "outputId": "caf65846-a1f1-43ec-97c8-095dd08ea314"
      },
      "source": [
        "number = 51\n",
        "\n",
        "if number >= 90:\n",
        "    print('over 90')\n",
        "elif number >= 80:\n",
        "    print('over 80')\n",
        "elif number >= 70:\n",
        "    print('over 70')\n",
        "elif number >= 60:\n",
        "    print('over 60')\n",
        "else:\n",
        "    print('under 60')"
      ],
      "execution_count": 27,
      "outputs": [
        {
          "output_type": "stream",
          "text": [
            "under 60\n"
          ],
          "name": "stdout"
        }
      ]
    },
    {
      "cell_type": "markdown",
      "metadata": {
        "id": "1ceMP7v-MBwc"
      },
      "source": [
        "### 중첩 선택"
      ]
    },
    {
      "cell_type": "code",
      "metadata": {
        "colab": {
          "base_uri": "https://localhost:8080/"
        },
        "id": "XYyz05C7MDpu",
        "outputId": "6191416f-7a7e-44d2-efe5-ffcb52aab285"
      },
      "source": [
        "number1 = 10\n",
        "number2 = 20\n",
        "\n",
        "if number1 >= 10:\n",
        "    if number2 >= 20:\n",
        "        print('number1 = ', number1, '\\tnumber2 = ', number2)\n",
        "else:\n",
        "    print('number1 < 10')"
      ],
      "execution_count": 28,
      "outputs": [
        {
          "output_type": "stream",
          "text": [
            "number1 =  10 \tnumber2 =  20\n"
          ],
          "name": "stdout"
        }
      ]
    },
    {
      "cell_type": "code",
      "metadata": {
        "colab": {
          "base_uri": "https://localhost:8080/"
        },
        "id": "bIHt07aeMbsm",
        "outputId": "c998aa4e-871e-46a7-9d20-3af5112f8156"
      },
      "source": [
        "if number1 >= 10 and number2 >= 20:\n",
        "    print('number1 = ', number1, '\\tnumber2 = ', number2)\n",
        "else:\n",
        "    print('number1 < 10')"
      ],
      "execution_count": 29,
      "outputs": [
        {
          "output_type": "stream",
          "text": [
            "number1 =  10 \tnumber2 =  20\n"
          ],
          "name": "stdout"
        }
      ]
    },
    {
      "cell_type": "markdown",
      "metadata": {
        "id": "f7LukzB0NxWG"
      },
      "source": [
        "## 반복 구조\n",
        "\n",
        "### 반복 횟수가 정해진 경우"
      ]
    },
    {
      "cell_type": "code",
      "metadata": {
        "colab": {
          "base_uri": "https://localhost:8080/"
        },
        "id": "1I0IUYUON1hy",
        "outputId": "b9a71490-2c69-48db-b519-06f3595de66e"
      },
      "source": [
        "for i in range(1, 10, 1):\n",
        "    print(i)"
      ],
      "execution_count": 30,
      "outputs": [
        {
          "output_type": "stream",
          "text": [
            "1\n",
            "2\n",
            "3\n",
            "4\n",
            "5\n",
            "6\n",
            "7\n",
            "8\n",
            "9\n"
          ],
          "name": "stdout"
        }
      ]
    },
    {
      "cell_type": "code",
      "metadata": {
        "colab": {
          "base_uri": "https://localhost:8080/"
        },
        "id": "_7a08BUqN7fD",
        "outputId": "9871448d-2df4-480d-bcf8-ce9c1bf851fa"
      },
      "source": [
        "for i in range(10):\n",
        "    print(i)"
      ],
      "execution_count": 31,
      "outputs": [
        {
          "output_type": "stream",
          "text": [
            "0\n",
            "1\n",
            "2\n",
            "3\n",
            "4\n",
            "5\n",
            "6\n",
            "7\n",
            "8\n",
            "9\n"
          ],
          "name": "stdout"
        }
      ]
    },
    {
      "cell_type": "code",
      "metadata": {
        "colab": {
          "base_uri": "https://localhost:8080/"
        },
        "id": "CF8Tb9fwOeAw",
        "outputId": "82a96d31-d5ec-4e87-ca84-30bc0f5f735a"
      },
      "source": [
        "for i in range(1, 11, 2):\n",
        "    print(i)"
      ],
      "execution_count": 32,
      "outputs": [
        {
          "output_type": "stream",
          "text": [
            "1\n",
            "3\n",
            "5\n",
            "7\n",
            "9\n"
          ],
          "name": "stdout"
        }
      ]
    },
    {
      "cell_type": "code",
      "metadata": {
        "colab": {
          "base_uri": "https://localhost:8080/"
        },
        "id": "kZDd9QhzOrD6",
        "outputId": "d87d60e6-1d97-4314-92ae-fda02edb39b4"
      },
      "source": [
        "for _ in range(10):\n",
        "    print(i, 'loop...')"
      ],
      "execution_count": 33,
      "outputs": [
        {
          "output_type": "stream",
          "text": [
            "9 loop...\n",
            "9 loop...\n",
            "9 loop...\n",
            "9 loop...\n",
            "9 loop...\n",
            "9 loop...\n",
            "9 loop...\n",
            "9 loop...\n",
            "9 loop...\n",
            "9 loop...\n"
          ],
          "name": "stdout"
        }
      ]
    },
    {
      "cell_type": "code",
      "metadata": {
        "colab": {
          "base_uri": "https://localhost:8080/"
        },
        "id": "BY6387YCPQyn",
        "outputId": "a855e6b5-2f93-49bc-86a6-b425136cb9d2"
      },
      "source": [
        "for i in range(1, 11, 1):\n",
        "    if i > 5:\n",
        "        break\n",
        "    print('loop...', i)"
      ],
      "execution_count": 34,
      "outputs": [
        {
          "output_type": "stream",
          "text": [
            "loop... 1\n",
            "loop... 2\n",
            "loop... 3\n",
            "loop... 4\n",
            "loop... 5\n"
          ],
          "name": "stdout"
        }
      ]
    },
    {
      "cell_type": "code",
      "metadata": {
        "colab": {
          "base_uri": "https://localhost:8080/"
        },
        "id": "c_GaTyyDP4o0",
        "outputId": "73b6ef77-4dfd-48d1-c7ef-e2511317294a"
      },
      "source": [
        "total = 0\n",
        "\n",
        "for i in range(5):\n",
        "    number = int(float(input('정수 입력 : ')))\n",
        "    total += number\n",
        "avg = total / 5\n",
        "print()\n",
        "\n",
        "print('number1 + number2 + number3 + number4 + number5 = ', total, end='')\n",
        "print('\\n', total, '/ 5 = ', avg, '\\t\\t\\t', type(avg))"
      ],
      "execution_count": 35,
      "outputs": [
        {
          "output_type": "stream",
          "text": [
            "정수 입력 : 10\n",
            "정수 입력 : 20\n",
            "정수 입력 : 30\n",
            "정수 입력 : 40\n",
            "정수 입력 : 50\n",
            "\n",
            "number1 + number2 + number3 + number4 + number5 =  150\n",
            " 150 / 5 =  30.0 \t\t\t <class 'float'>\n"
          ],
          "name": "stdout"
        }
      ]
    },
    {
      "cell_type": "code",
      "metadata": {
        "colab": {
          "base_uri": "https://localhost:8080/"
        },
        "id": "0HHnuqaLdy_9",
        "outputId": "edb31238-82d8-4f38-fa53-09b6f8e97dc7"
      },
      "source": [
        "total = 0\n",
        "number = 0\n",
        "\n",
        "for i in range(1, 6):\n",
        "    number = int(float(input('정수 입력 : ')))\n",
        "    total += number\n",
        "    print(f'sum = ', total)\n",
        "\n",
        "    if i == 5:\n",
        "        print(total, '\\t\\t\\t\\t', type(total))\n",
        "\n",
        "avg = total / 5\n",
        "print('\\n5')\n",
        "print(total, '/ 5 = ', avg, '\\t\\t', type(avg))"
      ],
      "execution_count": 36,
      "outputs": [
        {
          "output_type": "stream",
          "text": [
            "정수 입력 : 10\n",
            "sum =  10\n",
            "정수 입력 : 20\n",
            "sum =  30\n",
            "정수 입력 : 30\n",
            "sum =  60\n",
            "정수 입력 : 40\n",
            "sum =  100\n",
            "정수 입력 : 50\n",
            "sum =  150\n",
            "150 \t\t\t\t <class 'int'>\n",
            "\n",
            "5\n",
            "150 / 5 =  30.0 \t\t <class 'float'>\n"
          ],
          "name": "stdout"
        }
      ]
    },
    {
      "cell_type": "code",
      "metadata": {
        "colab": {
          "base_uri": "https://localhost:8080/"
        },
        "id": "pgS8lwhfRKcH",
        "outputId": "c60d2cdb-1efc-4575-e1c5-75c11307884a"
      },
      "source": [
        "i = 1\n",
        "while i <= 10:\n",
        "    print(i)\n",
        "    i += 1"
      ],
      "execution_count": 37,
      "outputs": [
        {
          "output_type": "stream",
          "text": [
            "1\n",
            "2\n",
            "3\n",
            "4\n",
            "5\n",
            "6\n",
            "7\n",
            "8\n",
            "9\n",
            "10\n"
          ],
          "name": "stdout"
        }
      ]
    },
    {
      "cell_type": "code",
      "metadata": {
        "colab": {
          "base_uri": "https://localhost:8080/"
        },
        "id": "xvjNUcBzRq9K",
        "outputId": "b313147d-f22e-41f6-89a1-6d24a7acf6a4"
      },
      "source": [
        "# 무한 루프를 이용\n",
        "while True:\n",
        "    number = int(float(input('정수 입력 (0이면 종료) : ')))\n",
        "    \n",
        "    if number == 0:\n",
        "        break\n",
        "    print(number)"
      ],
      "execution_count": 38,
      "outputs": [
        {
          "output_type": "stream",
          "text": [
            "정수 입력 (0이면 종료) : 10\n",
            "10\n",
            "정수 입력 (0이면 종료) : 0\n"
          ],
          "name": "stdout"
        }
      ]
    },
    {
      "cell_type": "code",
      "metadata": {
        "colab": {
          "base_uri": "https://localhost:8080/"
        },
        "id": "wXo8KPpGSR3E",
        "outputId": "209f8b94-4d7f-4d62-cd65-89652bb0790b"
      },
      "source": [
        "# 2-read 기법 이용 --> 입력 값에 따라 한 번도 반복을 수행하지 않을 수도 있음\n",
        "# 무한 루프의 break 누락 방지를 위해 사용\n",
        "number = int(float(input('정수 입력 (0이면 종료) : ')))\n",
        "\n",
        "while number != 0:\n",
        "    print(number)\n",
        "    number = int(float(input('정수 입력 (0이면 종료) : ')))"
      ],
      "execution_count": 39,
      "outputs": [
        {
          "output_type": "stream",
          "text": [
            "정수 입력 (0이면 종료) : 10\n",
            "10\n",
            "정수 입력 (0이면 종료) : 20\n",
            "20\n",
            "정수 입력 (0이면 종료) : 0\n"
          ],
          "name": "stdout"
        }
      ]
    }
  ]
}