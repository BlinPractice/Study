{
  "nbformat": 4,
  "nbformat_minor": 0,
  "metadata": {
    "colab": {
      "name": "Day04.ipynb",
      "provenance": [],
      "collapsed_sections": [],
      "toc_visible": true,
      "authorship_tag": "ABX9TyOugw9cP1Vpq0/cojKH12UQ",
      "include_colab_link": true
    },
    "kernelspec": {
      "name": "python3",
      "display_name": "Python 3"
    },
    "language_info": {
      "name": "python"
    }
  },
  "cells": [
    {
      "cell_type": "markdown",
      "metadata": {
        "id": "view-in-github",
        "colab_type": "text"
      },
      "source": [
        "<a href=\"https://colab.research.google.com/github/PyBlin/Study/blob/main/AI_Class1/Day04.ipynb\" target=\"_parent\"><img src=\"https://colab.research.google.com/assets/colab-badge.svg\" alt=\"Open In Colab\"/></a>"
      ]
    },
    {
      "cell_type": "markdown",
      "metadata": {
        "id": "aq92Rj_nbDnV"
      },
      "source": [
        "## 기본 자료형 값"
      ]
    },
    {
      "cell_type": "code",
      "metadata": {
        "colab": {
          "base_uri": "https://localhost:8080/"
        },
        "id": "ughiUq6BbGck",
        "outputId": "d9176f4e-42a7-4c07-ca73-b1491a910d59"
      },
      "source": [
        "True, type(True)            # 논리형 literal"
      ],
      "execution_count": 1,
      "outputs": [
        {
          "output_type": "execute_result",
          "data": {
            "text/plain": [
              "(True, bool)"
            ]
          },
          "metadata": {
            "tags": []
          },
          "execution_count": 1
        }
      ]
    },
    {
      "cell_type": "code",
      "metadata": {
        "colab": {
          "base_uri": "https://localhost:8080/"
        },
        "id": "8cRlkHVxbPV9",
        "outputId": "ae559ebd-085c-4812-b3b4-b8f17d49872d"
      },
      "source": [
        "10, type(10)                # 정수형"
      ],
      "execution_count": 2,
      "outputs": [
        {
          "output_type": "execute_result",
          "data": {
            "text/plain": [
              "(10, int)"
            ]
          },
          "metadata": {
            "tags": []
          },
          "execution_count": 2
        }
      ]
    },
    {
      "cell_type": "code",
      "metadata": {
        "colab": {
          "base_uri": "https://localhost:8080/"
        },
        "id": "3VYK3p2XbRMq",
        "outputId": "701fa1ff-904a-4776-8952-d69d126bb1ae"
      },
      "source": [
        "10.0, type(10.0)            # 실수형"
      ],
      "execution_count": 3,
      "outputs": [
        {
          "output_type": "execute_result",
          "data": {
            "text/plain": [
              "(10.0, float)"
            ]
          },
          "metadata": {
            "tags": []
          },
          "execution_count": 3
        }
      ]
    },
    {
      "cell_type": "code",
      "metadata": {
        "colab": {
          "base_uri": "https://localhost:8080/"
        },
        "id": "U4CFw64obTts",
        "outputId": "5a00eb58-36bf-4046-af5d-2608e6068685"
      },
      "source": [
        "2 + 3j, type(2 + 3j)        # 복소수형"
      ],
      "execution_count": 4,
      "outputs": [
        {
          "output_type": "execute_result",
          "data": {
            "text/plain": [
              "((2+3j), complex)"
            ]
          },
          "metadata": {
            "tags": []
          },
          "execution_count": 4
        }
      ]
    },
    {
      "cell_type": "code",
      "metadata": {
        "colab": {
          "base_uri": "https://localhost:8080/"
        },
        "id": "Ei8Kw_0xbYUM",
        "outputId": "c6062155-a32e-47b6-9060-e0571ddade7e"
      },
      "source": [
        "b'python', type(b'python')  # byte형"
      ],
      "execution_count": 5,
      "outputs": [
        {
          "output_type": "execute_result",
          "data": {
            "text/plain": [
              "(b'python', bytes)"
            ]
          },
          "metadata": {
            "tags": []
          },
          "execution_count": 5
        }
      ]
    },
    {
      "cell_type": "code",
      "metadata": {
        "id": "VAd38_2Pe68N"
      },
      "source": [
        "# 기본 자료형 변수 정의\n",
        "bool_variable = False\n",
        "int_variable = 15\n",
        "float_variable = 15.9\n",
        "comp_variable = 2 + 3j\n",
        "byte_variable = b'python'"
      ],
      "execution_count": 6,
      "outputs": []
    },
    {
      "cell_type": "code",
      "metadata": {
        "colab": {
          "base_uri": "https://localhost:8080/"
        },
        "id": "8E9dVcGbfOZr",
        "outputId": "38c31f86-bd97-4a79-dc59-1d0d42e10b56"
      },
      "source": [
        "print(bool_variable, type(bool_variable))\n",
        "print(int_variable, type(int_variable))\n",
        "print(float_variable, type(float_variable))\n",
        "print(comp_variable, type(comp_variable))\n",
        "print(byte_variable, type(byte_variable))"
      ],
      "execution_count": 7,
      "outputs": [
        {
          "output_type": "stream",
          "text": [
            "False <class 'bool'>\n",
            "15 <class 'int'>\n",
            "15.9 <class 'float'>\n",
            "(2+3j) <class 'complex'>\n",
            "b'python' <class 'bytes'>\n"
          ],
          "name": "stdout"
        }
      ]
    },
    {
      "cell_type": "code",
      "metadata": {
        "colab": {
          "base_uri": "https://localhost:8080/"
        },
        "id": "gyc2KVd3f4s6",
        "outputId": "cae11bfc-faab-4c6e-e352-8aedc0d53849"
      },
      "source": [
        "bool_variable = True\n",
        "bool_variable"
      ],
      "execution_count": 8,
      "outputs": [
        {
          "output_type": "execute_result",
          "data": {
            "text/plain": [
              "True"
            ]
          },
          "metadata": {
            "tags": []
          },
          "execution_count": 8
        }
      ]
    },
    {
      "cell_type": "markdown",
      "metadata": {
        "id": "xM8shl-xgypV"
      },
      "source": [
        "## 형변환"
      ]
    },
    {
      "cell_type": "code",
      "metadata": {
        "colab": {
          "base_uri": "https://localhost:8080/"
        },
        "id": "XP5hYFvggzrI",
        "outputId": "b7d00edb-0b27-4322-f146-e1ae14854f32"
      },
      "source": [
        "bool_variable = 1\n",
        "bool_variable"
      ],
      "execution_count": 9,
      "outputs": [
        {
          "output_type": "execute_result",
          "data": {
            "text/plain": [
              "1"
            ]
          },
          "metadata": {
            "tags": []
          },
          "execution_count": 9
        }
      ]
    },
    {
      "cell_type": "code",
      "metadata": {
        "colab": {
          "base_uri": "https://localhost:8080/"
        },
        "id": "infac_Szg4NV",
        "outputId": "dfbdb0c3-2c9e-4730-9ee6-8d5cc6b83411"
      },
      "source": [
        "type(bool_variable)"
      ],
      "execution_count": 10,
      "outputs": [
        {
          "output_type": "execute_result",
          "data": {
            "text/plain": [
              "int"
            ]
          },
          "metadata": {
            "tags": []
          },
          "execution_count": 10
        }
      ]
    },
    {
      "cell_type": "code",
      "metadata": {
        "colab": {
          "base_uri": "https://localhost:8080/"
        },
        "id": "-mPExI14g6ps",
        "outputId": "aafe6b67-6600-453b-ad41-902e89eeb6df"
      },
      "source": [
        "bool_variable = True\n",
        "bool_variable"
      ],
      "execution_count": 11,
      "outputs": [
        {
          "output_type": "execute_result",
          "data": {
            "text/plain": [
              "True"
            ]
          },
          "metadata": {
            "tags": []
          },
          "execution_count": 11
        }
      ]
    },
    {
      "cell_type": "code",
      "metadata": {
        "colab": {
          "base_uri": "https://localhost:8080/"
        },
        "id": "XF-gb9uWg-5A",
        "outputId": "1b0d4bf7-05e8-46b3-b20c-90ad3ce1e33d"
      },
      "source": [
        "type(bool_variable)"
      ],
      "execution_count": 12,
      "outputs": [
        {
          "output_type": "execute_result",
          "data": {
            "text/plain": [
              "bool"
            ]
          },
          "metadata": {
            "tags": []
          },
          "execution_count": 12
        }
      ]
    },
    {
      "cell_type": "code",
      "metadata": {
        "colab": {
          "base_uri": "https://localhost:8080/"
        },
        "id": "eGAyakINhCYn",
        "outputId": "14f38165-d933-4f06-f8e7-c1647fb0e2ee"
      },
      "source": [
        "bool_variable = bool(-2)         # bool() 함수 : 논리형으로 형변환하는 함수\n",
        "bool_variable"
      ],
      "execution_count": 13,
      "outputs": [
        {
          "output_type": "execute_result",
          "data": {
            "text/plain": [
              "True"
            ]
          },
          "metadata": {
            "tags": []
          },
          "execution_count": 13
        }
      ]
    },
    {
      "cell_type": "code",
      "metadata": {
        "colab": {
          "base_uri": "https://localhost:8080/"
        },
        "id": "dlqOAppPhHD9",
        "outputId": "2e8313d6-ab31-4f16-c61b-9268b14ba079"
      },
      "source": [
        "type(bool_variable)"
      ],
      "execution_count": 14,
      "outputs": [
        {
          "output_type": "execute_result",
          "data": {
            "text/plain": [
              "bool"
            ]
          },
          "metadata": {
            "tags": []
          },
          "execution_count": 14
        }
      ]
    },
    {
      "cell_type": "code",
      "metadata": {
        "colab": {
          "base_uri": "https://localhost:8080/"
        },
        "id": "teHRlJKzhJv_",
        "outputId": "73787ec4-fd87-4f07-fdf2-5b007febc570"
      },
      "source": [
        "bool_variable = bool(0)\n",
        "bool_variable"
      ],
      "execution_count": 15,
      "outputs": [
        {
          "output_type": "execute_result",
          "data": {
            "text/plain": [
              "False"
            ]
          },
          "metadata": {
            "tags": []
          },
          "execution_count": 15
        }
      ]
    },
    {
      "cell_type": "code",
      "metadata": {
        "colab": {
          "base_uri": "https://localhost:8080/"
        },
        "id": "bA5fyz3ahN7W",
        "outputId": "700c0312-c50c-4137-db54-979161024e9c"
      },
      "source": [
        "type(bool_variable)"
      ],
      "execution_count": 16,
      "outputs": [
        {
          "output_type": "execute_result",
          "data": {
            "text/plain": [
              "bool"
            ]
          },
          "metadata": {
            "tags": []
          },
          "execution_count": 16
        }
      ]
    },
    {
      "cell_type": "code",
      "metadata": {
        "colab": {
          "base_uri": "https://localhost:8080/"
        },
        "id": "Zq_3u6bghmgB",
        "outputId": "524e022b-6d25-41d0-9796-3aa3993725c1"
      },
      "source": [
        "type(10.5)          # 10.5 : 실수"
      ],
      "execution_count": 17,
      "outputs": [
        {
          "output_type": "execute_result",
          "data": {
            "text/plain": [
              "float"
            ]
          },
          "metadata": {
            "tags": []
          },
          "execution_count": 17
        }
      ]
    },
    {
      "cell_type": "code",
      "metadata": {
        "colab": {
          "base_uri": "https://localhost:8080/"
        },
        "id": "C3yrqekhhqSv",
        "outputId": "0ecf6e27-e485-466c-878e-68727986ca92"
      },
      "source": [
        "type(int(10.5))     # int(10.5) : 10.5(실수)를 정수로 변환"
      ],
      "execution_count": 18,
      "outputs": [
        {
          "output_type": "execute_result",
          "data": {
            "text/plain": [
              "int"
            ]
          },
          "metadata": {
            "tags": []
          },
          "execution_count": 18
        }
      ]
    },
    {
      "cell_type": "code",
      "metadata": {
        "colab": {
          "base_uri": "https://localhost:8080/"
        },
        "id": "RrP143XeiRmS",
        "outputId": "2c776e4e-1845-4dfd-8b6a-02a7376d4cc0"
      },
      "source": [
        "type(10)"
      ],
      "execution_count": 19,
      "outputs": [
        {
          "output_type": "execute_result",
          "data": {
            "text/plain": [
              "int"
            ]
          },
          "metadata": {
            "tags": []
          },
          "execution_count": 19
        }
      ]
    },
    {
      "cell_type": "code",
      "metadata": {
        "colab": {
          "base_uri": "https://localhost:8080/"
        },
        "id": "fdxoIpIziU5S",
        "outputId": "f2bd6d7f-3b79-4ba6-f3ea-352f6f9ae68d"
      },
      "source": [
        "type(float(10))"
      ],
      "execution_count": 20,
      "outputs": [
        {
          "output_type": "execute_result",
          "data": {
            "text/plain": [
              "float"
            ]
          },
          "metadata": {
            "tags": []
          },
          "execution_count": 20
        }
      ]
    },
    {
      "cell_type": "code",
      "metadata": {
        "id": "kQjEwQFWicik"
      },
      "source": [
        "variable = 10\n",
        "float_variable = float(variable)            # 실수로 형변환해서 저장\n",
        "bool_variable = bool(variable)              # 논리형으로 형변환해서 저장"
      ],
      "execution_count": 21,
      "outputs": []
    },
    {
      "cell_type": "code",
      "metadata": {
        "colab": {
          "base_uri": "https://localhost:8080/"
        },
        "id": "8eQLB0w4iloM",
        "outputId": "538f54cc-fdca-409f-cd88-658490a4dcd5"
      },
      "source": [
        "print(variable)\n",
        "print(float_variable)\n",
        "print(bool_variable)"
      ],
      "execution_count": 22,
      "outputs": [
        {
          "output_type": "stream",
          "text": [
            "10\n",
            "10.0\n",
            "True\n"
          ],
          "name": "stdout"
        }
      ]
    },
    {
      "cell_type": "markdown",
      "metadata": {
        "id": "5TFjXBs9nKqf"
      },
      "source": [
        "##변수(variable)"
      ]
    },
    {
      "cell_type": "code",
      "metadata": {
        "colab": {
          "base_uri": "https://localhost:8080/"
        },
        "id": "nC5Bi2JBnOIl",
        "outputId": "8e601359-471e-4970-99c7-b788dcccd1c8"
      },
      "source": [
        "number1 = 999999999                 # 변수 정의, 초기값\n",
        "number1                             # 제곱"
      ],
      "execution_count": 23,
      "outputs": [
        {
          "output_type": "execute_result",
          "data": {
            "text/plain": [
              "999999999"
            ]
          },
          "metadata": {
            "tags": []
          },
          "execution_count": 23
        }
      ]
    },
    {
      "cell_type": "code",
      "metadata": {
        "colab": {
          "base_uri": "https://localhost:8080/"
        },
        "id": "r-aF6s-6oOnP",
        "outputId": "39cdf39b-1838-4239-df6c-a081ac6d003b"
      },
      "source": [
        "# 변수에 값 치환(값 저장), number1에 10(literal)을 기억시켜라\n",
        "number1 = 10\n",
        "number1"
      ],
      "execution_count": 24,
      "outputs": [
        {
          "output_type": "execute_result",
          "data": {
            "text/plain": [
              "10"
            ]
          },
          "metadata": {
            "tags": []
          },
          "execution_count": 24
        }
      ]
    },
    {
      "cell_type": "code",
      "metadata": {
        "colab": {
          "base_uri": "https://localhost:8080/"
        },
        "id": "cIuhEkydpZZ2",
        "outputId": "e1a9385c-743d-4923-812e-06a8bb6b329a"
      },
      "source": [
        "# number2 변수에 number1 변수의 내용을 기억시켜라\n",
        "number2 = number1\n",
        "number2"
      ],
      "execution_count": 25,
      "outputs": [
        {
          "output_type": "execute_result",
          "data": {
            "text/plain": [
              "10"
            ]
          },
          "metadata": {
            "tags": []
          },
          "execution_count": 25
        }
      ]
    },
    {
      "cell_type": "code",
      "metadata": {
        "colab": {
          "base_uri": "https://localhost:8080/"
        },
        "id": "Ij9SfTiiqLeL",
        "outputId": "53a8a17e-e333-46a2-c88e-883c4064bbdd"
      },
      "source": [
        "number1"
      ],
      "execution_count": 26,
      "outputs": [
        {
          "output_type": "execute_result",
          "data": {
            "text/plain": [
              "10"
            ]
          },
          "metadata": {
            "tags": []
          },
          "execution_count": 26
        }
      ]
    },
    {
      "cell_type": "code",
      "metadata": {
        "colab": {
          "base_uri": "https://localhost:8080/"
        },
        "id": "Tqe6DIv_qMuq",
        "outputId": "b6b332da-683b-4baf-f9bd-036338d5cc6a"
      },
      "source": [
        "number1 = 20\n",
        "number1"
      ],
      "execution_count": 27,
      "outputs": [
        {
          "output_type": "execute_result",
          "data": {
            "text/plain": [
              "20"
            ]
          },
          "metadata": {
            "tags": []
          },
          "execution_count": 27
        }
      ]
    },
    {
      "cell_type": "code",
      "metadata": {
        "colab": {
          "base_uri": "https://localhost:8080/"
        },
        "id": "fMMWYFSgqP9i",
        "outputId": "104e4850-16c4-4b66-fa01-ee503cd82073"
      },
      "source": [
        "number2"
      ],
      "execution_count": 28,
      "outputs": [
        {
          "output_type": "execute_result",
          "data": {
            "text/plain": [
              "10"
            ]
          },
          "metadata": {
            "tags": []
          },
          "execution_count": 28
        }
      ]
    },
    {
      "cell_type": "markdown",
      "metadata": {
        "id": "FXDBw9-Xqfao"
      },
      "source": [
        "##누적"
      ]
    },
    {
      "cell_type": "code",
      "metadata": {
        "colab": {
          "base_uri": "https://localhost:8080/"
        },
        "id": "h92HY4Ffqgt9",
        "outputId": "87efe635-d955-456d-d94e-1ad1b092f4f6"
      },
      "source": [
        "# 변수에 초기값 0을 기억\n",
        "total = 0\n",
        "total"
      ],
      "execution_count": 29,
      "outputs": [
        {
          "output_type": "execute_result",
          "data": {
            "text/plain": [
              "0"
            ]
          },
          "metadata": {
            "tags": []
          },
          "execution_count": 29
        }
      ]
    },
    {
      "cell_type": "code",
      "metadata": {
        "colab": {
          "base_uri": "https://localhost:8080/"
        },
        "id": "fng5nyzXqkOr",
        "outputId": "2b69b259-25f0-442d-960e-c5a30cfa85ab"
      },
      "source": [
        "# total 변수의 내용을 읽어 1을 더한 후 변수에 기억\n",
        "total += 2\n",
        "total"
      ],
      "execution_count": 30,
      "outputs": [
        {
          "output_type": "execute_result",
          "data": {
            "text/plain": [
              "2"
            ]
          },
          "metadata": {
            "tags": []
          },
          "execution_count": 30
        }
      ]
    },
    {
      "cell_type": "code",
      "metadata": {
        "colab": {
          "base_uri": "https://localhost:8080/"
        },
        "id": "mI78Yf2aqoms",
        "outputId": "c43f9cd1-3509-4d72-d568-2ef7038a4e10"
      },
      "source": [
        "total += 2\n",
        "total"
      ],
      "execution_count": 31,
      "outputs": [
        {
          "output_type": "execute_result",
          "data": {
            "text/plain": [
              "4"
            ]
          },
          "metadata": {
            "tags": []
          },
          "execution_count": 31
        }
      ]
    },
    {
      "cell_type": "code",
      "metadata": {
        "colab": {
          "base_uri": "https://localhost:8080/"
        },
        "id": "cxtd_MBzrEyd",
        "outputId": "9ea09d44-45ad-486f-b0a6-a359f93e279c"
      },
      "source": [
        "total += 2\n",
        "total"
      ],
      "execution_count": 32,
      "outputs": [
        {
          "output_type": "execute_result",
          "data": {
            "text/plain": [
              "6"
            ]
          },
          "metadata": {
            "tags": []
          },
          "execution_count": 32
        }
      ]
    },
    {
      "cell_type": "code",
      "metadata": {
        "colab": {
          "base_uri": "https://localhost:8080/"
        },
        "id": "1lOHk6ugrdYH",
        "outputId": "e575bb3d-a63d-4819-9186-3cfd50ab4c51"
      },
      "source": [
        "total = 0\n",
        "total"
      ],
      "execution_count": 33,
      "outputs": [
        {
          "output_type": "execute_result",
          "data": {
            "text/plain": [
              "0"
            ]
          },
          "metadata": {
            "tags": []
          },
          "execution_count": 33
        }
      ]
    },
    {
      "cell_type": "code",
      "metadata": {
        "colab": {
          "base_uri": "https://localhost:8080/"
        },
        "id": "ugQ5rrDvrf_j",
        "outputId": "af9f2154-906a-45ec-aca9-8872baaac7a1"
      },
      "source": [
        "total = 2+2+2           # 누적 표현일까요? 아닐까요? --> 누적이 아니라 연산 결과 치환\n",
        "total"
      ],
      "execution_count": 34,
      "outputs": [
        {
          "output_type": "execute_result",
          "data": {
            "text/plain": [
              "6"
            ]
          },
          "metadata": {
            "tags": []
          },
          "execution_count": 34
        }
      ]
    },
    {
      "cell_type": "code",
      "metadata": {
        "colab": {
          "base_uri": "https://localhost:8080/"
        },
        "id": "hM-CjHe2rqRp",
        "outputId": "743295c0-7812-4fca-90bb-2cf423ce2c2a"
      },
      "source": [
        "total = 100\n",
        "total"
      ],
      "execution_count": 35,
      "outputs": [
        {
          "output_type": "execute_result",
          "data": {
            "text/plain": [
              "100"
            ]
          },
          "metadata": {
            "tags": []
          },
          "execution_count": 35
        }
      ]
    },
    {
      "cell_type": "code",
      "metadata": {
        "colab": {
          "base_uri": "https://localhost:8080/"
        },
        "id": "nNWXCqfCsMGk",
        "outputId": "62f6cca6-ad74-42c3-f8d4-7b5595966a04"
      },
      "source": [
        "total -= 5\n",
        "total"
      ],
      "execution_count": 36,
      "outputs": [
        {
          "output_type": "execute_result",
          "data": {
            "text/plain": [
              "95"
            ]
          },
          "metadata": {
            "tags": []
          },
          "execution_count": 36
        }
      ]
    },
    {
      "cell_type": "code",
      "metadata": {
        "colab": {
          "base_uri": "https://localhost:8080/"
        },
        "id": "SfZMNW8PsQ5u",
        "outputId": "9b9ed0e6-4c69-4276-d405-90559349b7ae"
      },
      "source": [
        "total -= 5\n",
        "total"
      ],
      "execution_count": 37,
      "outputs": [
        {
          "output_type": "execute_result",
          "data": {
            "text/plain": [
              "90"
            ]
          },
          "metadata": {
            "tags": []
          },
          "execution_count": 37
        }
      ]
    },
    {
      "cell_type": "code",
      "metadata": {
        "colab": {
          "base_uri": "https://localhost:8080/"
        },
        "id": "aXVkWcLmsTjc",
        "outputId": "916bca95-06bc-4865-f6b3-a9466ffb63b1"
      },
      "source": [
        "total -= 5\n",
        "total"
      ],
      "execution_count": 38,
      "outputs": [
        {
          "output_type": "execute_result",
          "data": {
            "text/plain": [
              "85"
            ]
          },
          "metadata": {
            "tags": []
          },
          "execution_count": 38
        }
      ]
    },
    {
      "cell_type": "markdown",
      "metadata": {
        "id": "WBwzn7tasoyp"
      },
      "source": [
        "##산술연산"
      ]
    },
    {
      "cell_type": "code",
      "metadata": {
        "id": "_ZLolf1vsqkR"
      },
      "source": [
        "# 정수 산술 연산\n",
        "number1 = 10\n",
        "number2 = 5\n",
        "\n",
        "add = number1 + number2\n",
        "subtract = number1 - number2\n",
        "multiple = number1 * number2\n",
        "divide_float = number1 / number2\n",
        "divide_int = number1 // number2\n",
        "remainder = number1 % number2\n",
        "square = number1 ** number2"
      ],
      "execution_count": 39,
      "outputs": []
    },
    {
      "cell_type": "code",
      "metadata": {
        "colab": {
          "base_uri": "https://localhost:8080/"
        },
        "id": "7VrNyKo_tHVL",
        "outputId": "bd9a5b6b-a724-4775-8262-2ac5ae4c9a3d"
      },
      "source": [
        "print(add)\n",
        "print(subtract)\n",
        "print(multiple)\n",
        "print(divide_float)\n",
        "print(divide_int)\n",
        "print(remainder)\n",
        "print(square)"
      ],
      "execution_count": 40,
      "outputs": [
        {
          "output_type": "stream",
          "text": [
            "15\n",
            "5\n",
            "50\n",
            "2.0\n",
            "2\n",
            "0\n",
            "100000\n"
          ],
          "name": "stdout"
        }
      ]
    },
    {
      "cell_type": "code",
      "metadata": {
        "id": "GC_ol_9nukMb"
      },
      "source": [
        "# 실수 산술 연산\n",
        "number1 = 10.5\n",
        "number2 = 5.9\n",
        "\n",
        "add = number1 + number2\n",
        "subtract = number1 - number2\n",
        "multiple = number1 * number2\n",
        "divide_float = number1 / number2\n",
        "divide_int = number1 // number2\n",
        "remainder = number1 % number2\n",
        "square = number1 ** number2"
      ],
      "execution_count": 41,
      "outputs": []
    },
    {
      "cell_type": "code",
      "metadata": {
        "colab": {
          "base_uri": "https://localhost:8080/"
        },
        "id": "7CEbtQSLuoKa",
        "outputId": "955b6e9f-9e05-4cfc-d8ed-6b8ff1b37cd3"
      },
      "source": [
        "print(add)\n",
        "print(subtract)\n",
        "print(multiple)\n",
        "print(divide_float)\n",
        "print(divide_int)\n",
        "print(remainder)\n",
        "print(square)"
      ],
      "execution_count": 42,
      "outputs": [
        {
          "output_type": "stream",
          "text": [
            "16.4\n",
            "4.6\n",
            "61.95\n",
            "1.7796610169491525\n",
            "1.0\n",
            "4.6\n",
            "1059294.8588905274\n"
          ],
          "name": "stdout"
        }
      ]
    },
    {
      "cell_type": "code",
      "metadata": {
        "id": "cEawj5t4uuqH"
      },
      "source": [
        "# 정수, 실수 산술 연산\n",
        "number1 = 10\n",
        "number2 = 5.9\n",
        "\n",
        "add = number1 + number2\n",
        "subtract = number1 - number2\n",
        "multiple = number1 * number2\n",
        "divide_float = number1 / number2\n",
        "divide_int = number1 // number2\n",
        "remainder = number1 % number2\n",
        "square = number1 ** number2"
      ],
      "execution_count": 43,
      "outputs": []
    },
    {
      "cell_type": "code",
      "metadata": {
        "colab": {
          "base_uri": "https://localhost:8080/"
        },
        "id": "3FjWiciouzLu",
        "outputId": "0f86bcdb-7f8c-4174-8048-6e2d0a658aca"
      },
      "source": [
        "print(add)\n",
        "print(subtract)\n",
        "print(multiple)\n",
        "print(divide_float)\n",
        "print(divide_int)\n",
        "print(remainder)\n",
        "print(square)"
      ],
      "execution_count": 44,
      "outputs": [
        {
          "output_type": "stream",
          "text": [
            "15.9\n",
            "4.1\n",
            "59.0\n",
            "1.694915254237288\n",
            "1.0\n",
            "4.1\n",
            "794328.2347242822\n"
          ],
          "name": "stdout"
        }
      ]
    },
    {
      "cell_type": "code",
      "metadata": {
        "colab": {
          "base_uri": "https://localhost:8080/"
        },
        "id": "3AqK7yqLvNfO",
        "outputId": "e1b7626b-4422-41d4-a9e7-5d2fea345bc7"
      },
      "source": [
        "# 산술 연산 결과를 int() 함수를 이용하여 형변환하여 출력\n",
        "print(int(add))\n",
        "print(int(subtract))\n",
        "print(int(multiple))\n",
        "print(int(divide_float))\n",
        "print(int(divide_int))\n",
        "print(int(remainder))\n",
        "print(int(square))"
      ],
      "execution_count": 45,
      "outputs": [
        {
          "output_type": "stream",
          "text": [
            "15\n",
            "4\n",
            "59\n",
            "1\n",
            "1\n",
            "4\n",
            "794328\n"
          ],
          "name": "stdout"
        }
      ]
    },
    {
      "cell_type": "code",
      "metadata": {
        "colab": {
          "base_uri": "https://localhost:8080/"
        },
        "id": "jsXghZExvqmi",
        "outputId": "da7746ae-5cc4-4126-dd72-802c44375153"
      },
      "source": [
        "# 논리형에 대한 산술 연산\n",
        "# 파이썬에서 True는 정수 1, False는 정수 0\n",
        "bool_variable1 = True\n",
        "bool_variable2 = False\n",
        "\n",
        "print(bool_variable1 + bool_variable2)\n",
        "print(bool_variable1 - bool_variable2)\n",
        "print(bool_variable1 * 2)\n",
        "print(bool_variable2 * 2)"
      ],
      "execution_count": 46,
      "outputs": [
        {
          "output_type": "stream",
          "text": [
            "1\n",
            "1\n",
            "2\n",
            "0\n"
          ],
          "name": "stdout"
        }
      ]
    },
    {
      "cell_type": "code",
      "metadata": {
        "colab": {
          "base_uri": "https://localhost:8080/"
        },
        "id": "5wpbS6Z_v2_e",
        "outputId": "18661373-ae2c-4ecc-c463-39adffa4a4cc"
      },
      "source": [
        "print(5 + True)"
      ],
      "execution_count": 47,
      "outputs": [
        {
          "output_type": "stream",
          "text": [
            "6\n"
          ],
          "name": "stdout"
        }
      ]
    },
    {
      "cell_type": "markdown",
      "metadata": {
        "id": "mKi2POUS17QR"
      },
      "source": [
        "##관계연산"
      ]
    },
    {
      "cell_type": "code",
      "metadata": {
        "colab": {
          "base_uri": "https://localhost:8080/"
        },
        "id": "ehWHoDHs18c7",
        "outputId": "c3e81f64-b7eb-4d7b-8e97-583f51045717"
      },
      "source": [
        "number1 = 10\n",
        "number2 = 9\n",
        "number3 = 10\n",
        "\n",
        "print(number1 > number2)\n",
        "print(number1 < number3)\n",
        "print(number1 >= number2)\n",
        "print(number1 <= number3)\n",
        "print(number1 == number3)\n",
        "print(number1 != number3)"
      ],
      "execution_count": 48,
      "outputs": [
        {
          "output_type": "stream",
          "text": [
            "True\n",
            "False\n",
            "True\n",
            "True\n",
            "True\n",
            "False\n"
          ],
          "name": "stdout"
        }
      ]
    },
    {
      "cell_type": "code",
      "metadata": {
        "colab": {
          "base_uri": "https://localhost:8080/"
        },
        "id": "OowOgltK2jpe",
        "outputId": "ac8b283f-07a3-43b6-baee-04b8acd700b4"
      },
      "source": [
        "float_number1 = 10.5\n",
        "float_number2 = 9.9\n",
        "float_number3 = 10.5\n",
        "\n",
        "print(float_number1 > float_number2)\n",
        "print(float_number1 < float_number3)\n",
        "print(float_number1 >= float_number2)\n",
        "print(float_number1 <= float_number3)\n",
        "print(float_number1 == float_number3)           # 실수형에 대해서는 등가 연산을 수행하지 않는다.\n",
        "print(float_number1 != float_number3)"
      ],
      "execution_count": 49,
      "outputs": [
        {
          "output_type": "stream",
          "text": [
            "True\n",
            "False\n",
            "True\n",
            "True\n",
            "True\n",
            "False\n"
          ],
          "name": "stdout"
        }
      ]
    },
    {
      "cell_type": "markdown",
      "metadata": {
        "id": "MN80jLxS37FN"
      },
      "source": [
        "##논리연산"
      ]
    },
    {
      "cell_type": "code",
      "metadata": {
        "colab": {
          "base_uri": "https://localhost:8080/"
        },
        "id": "CWch2jtp38uI",
        "outputId": "b330f967-889f-4774-b74f-8bf3a744e453"
      },
      "source": [
        "number1 = 25\n",
        "number2 = 52\n",
        "number3 = 15\n",
        "\n",
        "print(number1 > number2 and number1 > number3)\n",
        "print(number1 > number2 or number1 > number3)\n",
        "print(not(number1))\n",
        "print(not(not(number1)))"
      ],
      "execution_count": 50,
      "outputs": [
        {
          "output_type": "stream",
          "text": [
            "False\n",
            "True\n",
            "False\n",
            "True\n"
          ],
          "name": "stdout"
        }
      ]
    },
    {
      "cell_type": "code",
      "metadata": {
        "colab": {
          "base_uri": "https://localhost:8080/"
        },
        "id": "BtriGRIB5FFw",
        "outputId": "de632b1a-861b-4d41-8980-55bc75643969"
      },
      "source": [
        "print(number1 > number2 and number1 > number3)\n",
        "print(number2 < number1 > number3)              # and 연산의 다른 표현"
      ],
      "execution_count": 51,
      "outputs": [
        {
          "output_type": "stream",
          "text": [
            "False\n",
            "False\n"
          ],
          "name": "stdout"
        }
      ]
    },
    {
      "cell_type": "code",
      "metadata": {
        "id": "2k1WgrMu6STc"
      },
      "source": [
        "number1 = 15\n",
        "number2 = 25.7\n",
        "number3 = 35\n",
        "number4 = 25.9"
      ],
      "execution_count": 52,
      "outputs": []
    },
    {
      "cell_type": "code",
      "metadata": {
        "colab": {
          "base_uri": "https://localhost:8080/"
        },
        "id": "YsRoFMKH6ZKk",
        "outputId": "3a6c63fb-0ae9-4a9b-a147-795044c1417e"
      },
      "source": [
        "print(number1 + number2 * number3 / number4)\n",
        "print(number1 + number2 + number3 + number4)\n",
        "print(number1 * (number2 + (number3 - number4)))"
      ],
      "execution_count": 53,
      "outputs": [
        {
          "output_type": "stream",
          "text": [
            "49.72972972972973\n",
            "101.6\n",
            "522.0\n"
          ],
          "name": "stdout"
        }
      ]
    },
    {
      "cell_type": "code",
      "metadata": {
        "id": "GyFG3cin612u",
        "colab": {
          "base_uri": "https://localhost:8080/"
        },
        "outputId": "f43f9045-953c-4f67-f357-7c1ca1a9bb89"
      },
      "source": [
        "number1 += 2\n",
        "number1"
      ],
      "execution_count": 54,
      "outputs": [
        {
          "output_type": "execute_result",
          "data": {
            "text/plain": [
              "17"
            ]
          },
          "metadata": {
            "tags": []
          },
          "execution_count": 54
        }
      ]
    }
  ]
}