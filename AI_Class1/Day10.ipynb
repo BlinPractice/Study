{
  "nbformat": 4,
  "nbformat_minor": 0,
  "metadata": {
    "colab": {
      "name": "Day10.ipynb",
      "provenance": [],
      "collapsed_sections": [
        "1HYRYk1z-WAK",
        "xjsdm1nJ-2us"
      ],
      "toc_visible": true,
      "authorship_tag": "ABX9TyMY1jo3/g6IYSlqdMILXYNV",
      "include_colab_link": true
    },
    "kernelspec": {
      "name": "python3",
      "display_name": "Python 3"
    },
    "language_info": {
      "name": "python"
    }
  },
  "cells": [
    {
      "cell_type": "markdown",
      "metadata": {
        "id": "view-in-github",
        "colab_type": "text"
      },
      "source": [
        "<a href=\"https://colab.research.google.com/github/PyBlin/Study/blob/main/AI_Class1/Day10.ipynb\" target=\"_parent\"><img src=\"https://colab.research.google.com/assets/colab-badge.svg\" alt=\"Open In Colab\"/></a>"
      ]
    },
    {
      "cell_type": "markdown",
      "metadata": {
        "id": "IgcN6kRsXc4T"
      },
      "source": [
        "# set(집합)\n",
        "\n",
        "## 생성"
      ]
    },
    {
      "cell_type": "code",
      "metadata": {
        "colab": {
          "base_uri": "https://localhost:8080/"
        },
        "id": "YcihsOP2QWP7",
        "outputId": "e7a2f961-385f-4d1a-9816-6e3aa7a3c489"
      },
      "source": [
        "# 빈 set 생성\n",
        "s = set()\n",
        "\n",
        "print(f's = {s}\\t( {len(s)} - {type(s)} )')"
      ],
      "execution_count": 1,
      "outputs": [
        {
          "output_type": "stream",
          "text": [
            "s = set()\t( 0 - <class 'set'> )\n"
          ],
          "name": "stdout"
        }
      ]
    },
    {
      "cell_type": "code",
      "metadata": {
        "colab": {
          "base_uri": "https://localhost:8080/"
        },
        "id": "iXU0oS_lZ7pc",
        "outputId": "b2576238-3938-49c1-9554-1f4e7d22cfe3"
      },
      "source": [
        "# 초기값을 이용한 set 생성\n",
        "s = {1, 2, 3, 4, 5}\n",
        "print(f's = {s}\\t( {len(s)} - {type(s)} )')"
      ],
      "execution_count": 2,
      "outputs": [
        {
          "output_type": "stream",
          "text": [
            "s = {1, 2, 3, 4, 5}\t( 5 - <class 'set'> )\n"
          ],
          "name": "stdout"
        }
      ]
    },
    {
      "cell_type": "code",
      "metadata": {
        "colab": {
          "base_uri": "https://localhost:8080/"
        },
        "id": "Dz61sZulZ_tq",
        "outputId": "64382e88-8fcc-4b04-e841-527685d04cc7"
      },
      "source": [
        "s = {1, 2, 3, 1, 2, 3}\n",
        "print(f's = {s}\\t( {len(s)} - {type(s)} )')"
      ],
      "execution_count": 3,
      "outputs": [
        {
          "output_type": "stream",
          "text": [
            "s = {1, 2, 3}\t( 3 - <class 'set'> )\n"
          ],
          "name": "stdout"
        }
      ]
    },
    {
      "cell_type": "code",
      "metadata": {
        "colab": {
          "base_uri": "https://localhost:8080/"
        },
        "id": "s8KcZllsaQT2",
        "outputId": "0a73de17-6683-42d6-cc6b-8a43932c2a1d"
      },
      "source": [
        "string = 'abcdabcd'\n",
        "t = (1, 2, 3, 1)\n",
        "l = [1, 2, 3, 1, 2]\n",
        "\n",
        "s1 = set(string)    # 순서 없이 무작위로 저장\n",
        "s2 = set(t)\n",
        "s3 = set(l)\n",
        "\n",
        "print(f's1 = {s1}\\t( {len(s1)} - {type(s1)} )')\n",
        "print(f's2 = {s2}\\t( {len(s2)} - {type(s2)} )')\n",
        "print(f's3 = {s3}\\t( {len(s3)} - {type(s3)} )')"
      ],
      "execution_count": 4,
      "outputs": [
        {
          "output_type": "stream",
          "text": [
            "s1 = {'b', 'a', 'c', 'd'}\t( 4 - <class 'set'> )\n",
            "s2 = {1, 2, 3}\t( 3 - <class 'set'> )\n",
            "s3 = {1, 2, 3}\t( 3 - <class 'set'> )\n"
          ],
          "name": "stdout"
        }
      ]
    },
    {
      "cell_type": "code",
      "metadata": {
        "id": "XVQLYD-Iba6S"
      },
      "source": [
        "# l1 = [1, 2, 3]\n",
        "# l2 = [4, 5, 6]\n",
        "\n",
        "# s = {l1, l2}    # unhashable type: 'list'\n",
        "\n",
        "# print(f's = {s}\\t( {len(s)} - {type(s)} )')"
      ],
      "execution_count": 5,
      "outputs": []
    },
    {
      "cell_type": "markdown",
      "metadata": {
        "id": "lcL1adAmgxu6"
      },
      "source": [
        "## sequence 자료형 공통 연산"
      ]
    },
    {
      "cell_type": "code",
      "metadata": {
        "colab": {
          "base_uri": "https://localhost:8080/"
        },
        "id": "3Hz_ZSFkf5cg",
        "outputId": "99c905fc-13d2-46ff-d1c3-91ef0c773223"
      },
      "source": [
        "s = {1, 2, 3}\n",
        "print(f's = {s}\\t( {len(s)} - {type(s)} )')"
      ],
      "execution_count": 6,
      "outputs": [
        {
          "output_type": "stream",
          "text": [
            "s = {1, 2, 3}\t( 3 - <class 'set'> )\n"
          ],
          "name": "stdout"
        }
      ]
    },
    {
      "cell_type": "code",
      "metadata": {
        "id": "naqvsSw_gv9z"
      },
      "source": [
        "# indexing\n",
        "# s[0]    # 순서대로 저장 안하니깐 인덱싱 ㄴㄴ"
      ],
      "execution_count": 7,
      "outputs": []
    },
    {
      "cell_type": "code",
      "metadata": {
        "id": "JIs6qAUXg4UL"
      },
      "source": [
        "# slicing\n",
        "# s[0:3]  # 순서대로 저장 안하니깐 슬라이싱 ㄴㄴ"
      ],
      "execution_count": 8,
      "outputs": []
    },
    {
      "cell_type": "code",
      "metadata": {
        "id": "Qpp46gcmg-5w"
      },
      "source": [
        "# s2 = s + s    # 덧셈 안됨\n",
        "# print(f's2 = {s2}\\t( {len(s2)} - {type(s2)} )')"
      ],
      "execution_count": 9,
      "outputs": []
    },
    {
      "cell_type": "code",
      "metadata": {
        "id": "KCfbptIwhho6"
      },
      "source": [
        "# s * 2   # 곱셈 안됨"
      ],
      "execution_count": 10,
      "outputs": []
    },
    {
      "cell_type": "code",
      "metadata": {
        "colab": {
          "base_uri": "https://localhost:8080/"
        },
        "id": "7_986twIhi6y",
        "outputId": "6af4055a-c702-448d-c64c-1288373ecfc9"
      },
      "source": [
        "1 in s"
      ],
      "execution_count": 11,
      "outputs": [
        {
          "output_type": "execute_result",
          "data": {
            "text/plain": [
              "True"
            ]
          },
          "metadata": {
            "tags": []
          },
          "execution_count": 11
        }
      ]
    },
    {
      "cell_type": "code",
      "metadata": {
        "colab": {
          "base_uri": "https://localhost:8080/"
        },
        "id": "5iVzq9UehqkF",
        "outputId": "5331d89e-5741-4fe0-eddc-24a20176deef"
      },
      "source": [
        "len(s)"
      ],
      "execution_count": 12,
      "outputs": [
        {
          "output_type": "execute_result",
          "data": {
            "text/plain": [
              "3"
            ]
          },
          "metadata": {
            "tags": []
          },
          "execution_count": 12
        }
      ]
    },
    {
      "cell_type": "markdown",
      "metadata": {
        "id": "rVNUdOoHiWz8"
      },
      "source": [
        "# set 메서드"
      ]
    },
    {
      "cell_type": "code",
      "metadata": {
        "colab": {
          "base_uri": "https://localhost:8080/"
        },
        "id": "seMmk5YHhspJ",
        "outputId": "2c66f494-88c6-4374-e042-62ab53775999"
      },
      "source": [
        "s = set()\n",
        "print(f's = {s}\\t( {len(s)} - {type(s)} )')"
      ],
      "execution_count": 13,
      "outputs": [
        {
          "output_type": "stream",
          "text": [
            "s = set()\t( 0 - <class 'set'> )\n"
          ],
          "name": "stdout"
        }
      ]
    },
    {
      "cell_type": "code",
      "metadata": {
        "colab": {
          "base_uri": "https://localhost:8080/"
        },
        "id": "Liy7SaGliaPO",
        "outputId": "95eb3ba4-71f6-4bb6-eca8-cd8fb6cdc8ea"
      },
      "source": [
        "s.add(1)    # set에 데이터 추가\n",
        "s.add(3)\n",
        "s.add(4)\n",
        "print(f's = {s}\\t( {len(s)} - {type(s)} )')"
      ],
      "execution_count": 14,
      "outputs": [
        {
          "output_type": "stream",
          "text": [
            "s = {1, 3, 4}\t( 3 - <class 'set'> )\n"
          ],
          "name": "stdout"
        }
      ]
    },
    {
      "cell_type": "code",
      "metadata": {
        "colab": {
          "base_uri": "https://localhost:8080/"
        },
        "id": "3aaNU_MGidz9",
        "outputId": "b8a48576-c8b4-45ad-cba8-5b13eecc02ac"
      },
      "source": [
        "s.add(1)\n",
        "s.add(4)\n",
        "print(f's = {s}\\t( {len(s)} - {type(s)} )')"
      ],
      "execution_count": 15,
      "outputs": [
        {
          "output_type": "stream",
          "text": [
            "s = {1, 3, 4}\t( 3 - <class 'set'> )\n"
          ],
          "name": "stdout"
        }
      ]
    },
    {
      "cell_type": "code",
      "metadata": {
        "colab": {
          "base_uri": "https://localhost:8080/"
        },
        "id": "6FYBUodIigdz",
        "outputId": "c029c2e8-3628-49bc-d517-c39d8d8a778b"
      },
      "source": [
        "s.update([2, 5, 7])     # set에 데이터 결합\n",
        "print(f's = {s}\\t( {len(s)} - {type(s)} )')"
      ],
      "execution_count": 16,
      "outputs": [
        {
          "output_type": "stream",
          "text": [
            "s = {1, 2, 3, 4, 5, 7}\t( 6 - <class 'set'> )\n"
          ],
          "name": "stdout"
        }
      ]
    },
    {
      "cell_type": "code",
      "metadata": {
        "colab": {
          "base_uri": "https://localhost:8080/"
        },
        "id": "auLHHvmQjN6O",
        "outputId": "0430df54-6db6-4005-f070-d061acc7dbb5"
      },
      "source": [
        "s.remove(4)     # set의 요소 중 4를 삭제\n",
        "print(f's = {s}\\t( {len(s)} - {type(s)} )')"
      ],
      "execution_count": 17,
      "outputs": [
        {
          "output_type": "stream",
          "text": [
            "s = {1, 2, 3, 5, 7}\t( 5 - <class 'set'> )\n"
          ],
          "name": "stdout"
        }
      ]
    },
    {
      "cell_type": "code",
      "metadata": {
        "colab": {
          "base_uri": "https://localhost:8080/",
          "height": 192
        },
        "id": "wEK9cXRBkcho",
        "outputId": "a0b2e6ab-b725-420e-d4f1-046ad61eb902"
      },
      "source": [
        "# s.remove(4)     # 삭제할 요소가 없으면 error\n",
        "# print(f's = {s}\\t( {len(s)} - {type(s)} )')"
      ],
      "execution_count": 18,
      "outputs": [
        {
          "output_type": "error",
          "ename": "KeyError",
          "evalue": "ignored",
          "traceback": [
            "\u001b[0;31m---------------------------------------------------------------------------\u001b[0m",
            "\u001b[0;31mKeyError\u001b[0m                                  Traceback (most recent call last)",
            "\u001b[0;32m<ipython-input-18-aed0271ec338>\u001b[0m in \u001b[0;36m<module>\u001b[0;34m()\u001b[0m\n\u001b[0;32m----> 1\u001b[0;31m \u001b[0ms\u001b[0m\u001b[0;34m.\u001b[0m\u001b[0mremove\u001b[0m\u001b[0;34m(\u001b[0m\u001b[0;36m4\u001b[0m\u001b[0;34m)\u001b[0m     \u001b[0;31m# 삭제할 요소가 없으면 error\u001b[0m\u001b[0;34m\u001b[0m\u001b[0;34m\u001b[0m\u001b[0m\n\u001b[0m\u001b[1;32m      2\u001b[0m \u001b[0mprint\u001b[0m\u001b[0;34m(\u001b[0m\u001b[0;34mf's = {s}\\t( {len(s)} - {type(s)} )'\u001b[0m\u001b[0;34m)\u001b[0m\u001b[0;34m\u001b[0m\u001b[0;34m\u001b[0m\u001b[0m\n",
            "\u001b[0;31mKeyError\u001b[0m: 4"
          ]
        }
      ]
    },
    {
      "cell_type": "code",
      "metadata": {
        "colab": {
          "base_uri": "https://localhost:8080/"
        },
        "id": "8A9BDXnGkDfK",
        "outputId": "fcbbb87c-c437-4cc3-dccd-168f167db0b7"
      },
      "source": [
        "s.discard(3)    # set의 요소 중 3을 삭제\n",
        "print(f's = {s}\\t( {len(s)} - {type(s)} )')"
      ],
      "execution_count": 19,
      "outputs": [
        {
          "output_type": "stream",
          "text": [
            "s = {1, 2, 5, 7}\t( 4 - <class 'set'> )\n"
          ],
          "name": "stdout"
        }
      ]
    },
    {
      "cell_type": "code",
      "metadata": {
        "colab": {
          "base_uri": "https://localhost:8080/"
        },
        "id": "EdWpoZOKkO6g",
        "outputId": "a3288031-d7eb-4039-9952-970737f5b897"
      },
      "source": [
        "s.discard(3)    # 만약에 삭제하고자 하는 요소가 없으면 그냥 통과\n",
        "print(f's = {s}\\t( {len(s)} - {type(s)} )')"
      ],
      "execution_count": 20,
      "outputs": [
        {
          "output_type": "stream",
          "text": [
            "s = {1, 2, 5, 7}\t( 4 - <class 'set'> )\n"
          ],
          "name": "stdout"
        }
      ]
    },
    {
      "cell_type": "code",
      "metadata": {
        "colab": {
          "base_uri": "https://localhost:8080/"
        },
        "id": "65tF0ugakrKa",
        "outputId": "a83d523e-431c-4914-a2f6-ef68041aaf64"
      },
      "source": [
        "value = s.pop()\n",
        "print(f's = {s}\\t( {len(s)} - {type(s)} )')"
      ],
      "execution_count": 21,
      "outputs": [
        {
          "output_type": "stream",
          "text": [
            "s = {2, 5, 7}\t( 3 - <class 'set'> )\n"
          ],
          "name": "stdout"
        }
      ]
    },
    {
      "cell_type": "code",
      "metadata": {
        "colab": {
          "base_uri": "https://localhost:8080/"
        },
        "id": "jilvCQavlHGm",
        "outputId": "fd97071d-a3ec-4fb9-e3dc-0974704f9230"
      },
      "source": [
        "print(f'value = {value}')"
      ],
      "execution_count": 22,
      "outputs": [
        {
          "output_type": "stream",
          "text": [
            "value = 1\n"
          ],
          "name": "stdout"
        }
      ]
    },
    {
      "cell_type": "code",
      "metadata": {
        "colab": {
          "base_uri": "https://localhost:8080/"
        },
        "id": "_09RT0DzlKnh",
        "outputId": "189228b5-0c16-4866-ab41-f4c0f711fb5e"
      },
      "source": [
        "value = s.pop()\n",
        "print(f's = {s}\\t( {len(s)} - {type(s)} )')\n",
        "print(f'value = {value}')"
      ],
      "execution_count": 23,
      "outputs": [
        {
          "output_type": "stream",
          "text": [
            "s = {5, 7}\t( 2 - <class 'set'> )\n",
            "value = 2\n"
          ],
          "name": "stdout"
        }
      ]
    },
    {
      "cell_type": "code",
      "metadata": {
        "colab": {
          "base_uri": "https://localhost:8080/"
        },
        "id": "E4xBUYqdlXhN",
        "outputId": "31de15d8-be10-409e-acc6-7a5c5ff91a2b"
      },
      "source": [
        "s.clear()\n",
        "print(f's = {s}\\t( {len(s)} - {type(s)} )')"
      ],
      "execution_count": 24,
      "outputs": [
        {
          "output_type": "stream",
          "text": [
            "s = set()\t( 0 - <class 'set'> )\n"
          ],
          "name": "stdout"
        }
      ]
    },
    {
      "cell_type": "markdown",
      "metadata": {
        "id": "x6ZGUzABl4yL"
      },
      "source": [
        "# 집합 연산"
      ]
    },
    {
      "cell_type": "code",
      "metadata": {
        "colab": {
          "base_uri": "https://localhost:8080/"
        },
        "id": "-V4bMnq1lice",
        "outputId": "657b77e2-e7e4-4008-897a-6cac0173342b"
      },
      "source": [
        "s1 = {1, 2, 3, 4, 5, 6}\n",
        "s2 = {4, 5, 6, 7, 8, 9}\n",
        "\n",
        "print(f's1 = {s1}\\t( {len(s1)} - {type(s1)} )')\n",
        "print(f's2 = {s2}\\t( {len(s2)} - {type(s2)} )')"
      ],
      "execution_count": 25,
      "outputs": [
        {
          "output_type": "stream",
          "text": [
            "s1 = {1, 2, 3, 4, 5, 6}\t( 6 - <class 'set'> )\n",
            "s2 = {4, 5, 6, 7, 8, 9}\t( 6 - <class 'set'> )\n"
          ],
          "name": "stdout"
        }
      ]
    },
    {
      "cell_type": "code",
      "metadata": {
        "colab": {
          "base_uri": "https://localhost:8080/"
        },
        "id": "N-ljO2RHmC8s",
        "outputId": "2dfd7dea-ed61-4e06-a722-9bff3da82b33"
      },
      "source": [
        "print(f'{s1} 과 {s2} 의 합집합은 {s1.union(s2)}')"
      ],
      "execution_count": 26,
      "outputs": [
        {
          "output_type": "stream",
          "text": [
            "{1, 2, 3, 4, 5, 6} 과 {4, 5, 6, 7, 8, 9} 의 합집합은 {1, 2, 3, 4, 5, 6, 7, 8, 9}\n"
          ],
          "name": "stdout"
        }
      ]
    },
    {
      "cell_type": "code",
      "metadata": {
        "colab": {
          "base_uri": "https://localhost:8080/"
        },
        "id": "EBPop_CcmV-G",
        "outputId": "d0c699f9-c0c1-497c-c60b-eb5100414b18"
      },
      "source": [
        "print(f'{s1} 과 {s2} 의 교집합은 {s1.intersection(s2)}')"
      ],
      "execution_count": 27,
      "outputs": [
        {
          "output_type": "stream",
          "text": [
            "{1, 2, 3, 4, 5, 6} 과 {4, 5, 6, 7, 8, 9} 의 교집합은 {4, 5, 6}\n"
          ],
          "name": "stdout"
        }
      ]
    },
    {
      "cell_type": "code",
      "metadata": {
        "colab": {
          "base_uri": "https://localhost:8080/"
        },
        "id": "0KsAWkfvmrEt",
        "outputId": "26c36cfc-1e03-4604-de76-37b0c6e23c6e"
      },
      "source": [
        "print(f'{s1} 과 {s2} 의 차집합은 {s1.difference(s2)}')"
      ],
      "execution_count": 28,
      "outputs": [
        {
          "output_type": "stream",
          "text": [
            "{1, 2, 3, 4, 5, 6} 과 {4, 5, 6, 7, 8, 9} 의 차집합은 {1, 2, 3}\n"
          ],
          "name": "stdout"
        }
      ]
    },
    {
      "cell_type": "code",
      "metadata": {
        "colab": {
          "base_uri": "https://localhost:8080/"
        },
        "id": "MCSpp2wGmzWL",
        "outputId": "c28784dd-8c24-4269-f3e8-71d07e9ecb3e"
      },
      "source": [
        "print(f'{s1} 과 {s2} 의 대칭차집합은 {s1.symmetric_difference(s2)}')"
      ],
      "execution_count": 29,
      "outputs": [
        {
          "output_type": "stream",
          "text": [
            "{1, 2, 3, 4, 5, 6} 과 {4, 5, 6, 7, 8, 9} 의 대칭차집합은 {1, 2, 3, 7, 8, 9}\n"
          ],
          "name": "stdout"
        }
      ]
    },
    {
      "cell_type": "code",
      "metadata": {
        "colab": {
          "base_uri": "https://localhost:8080/"
        },
        "id": "RfjZDaujnENZ",
        "outputId": "cd87b5a5-9f59-42e0-d182-481330f5d30c"
      },
      "source": [
        "s1.intersection_update(s2)      # 교집합의 결과를 s1에 반영\n",
        "\n",
        "print(f's1 = {s1}\\t( {len(s1)} - {type(s1)} )')\n",
        "print(f's2 = {s2}\\t( {len(s2)} - {type(s2)} )')"
      ],
      "execution_count": 30,
      "outputs": [
        {
          "output_type": "stream",
          "text": [
            "s1 = {4, 5, 6}\t( 3 - <class 'set'> )\n",
            "s2 = {4, 5, 6, 7, 8, 9}\t( 6 - <class 'set'> )\n"
          ],
          "name": "stdout"
        }
      ]
    },
    {
      "cell_type": "markdown",
      "metadata": {
        "id": "GYonveX7oHdT"
      },
      "source": [
        "# frozenset : 변경 불가능한 set"
      ]
    },
    {
      "cell_type": "code",
      "metadata": {
        "colab": {
          "base_uri": "https://localhost:8080/"
        },
        "id": "0YQmxf0ZncDK",
        "outputId": "23578c64-f7f8-4330-d1d1-1478ce52c768"
      },
      "source": [
        "s = frozenset([1, 2, 3, 4, 5, 6])\n",
        "print(f's = {s}\\t( {len(s)} - {type(s)} )')"
      ],
      "execution_count": 31,
      "outputs": [
        {
          "output_type": "stream",
          "text": [
            "s = frozenset({1, 2, 3, 4, 5, 6})\t( 6 - <class 'frozenset'> )\n"
          ],
          "name": "stdout"
        }
      ]
    },
    {
      "cell_type": "code",
      "metadata": {
        "id": "6FFqPm8IoQl9"
      },
      "source": [
        "# s.add(10)   # frozenset : 변경 불가\n",
        "# print(f's = {s}\\t( {len(s)} - {type(s)} )')"
      ],
      "execution_count": 32,
      "outputs": []
    },
    {
      "cell_type": "code",
      "metadata": {
        "id": "s7V9biyOoUw3"
      },
      "source": [
        "# s.remove(4)\n",
        "# print(f's = {s}\\t( {len(s)} - {type(s)} )')"
      ],
      "execution_count": 33,
      "outputs": []
    },
    {
      "cell_type": "code",
      "metadata": {
        "colab": {
          "base_uri": "https://localhost:8080/"
        },
        "id": "YJkM-Co-ooz4",
        "outputId": "e4e7755d-e936-46eb-a5ac-3e800d23c041"
      },
      "source": [
        "s.intersection([1, 2, 3, 10, 11, 12])"
      ],
      "execution_count": 34,
      "outputs": [
        {
          "output_type": "execute_result",
          "data": {
            "text/plain": [
              "frozenset({1, 2, 3})"
            ]
          },
          "metadata": {
            "tags": []
          },
          "execution_count": 34
        }
      ]
    },
    {
      "cell_type": "markdown",
      "metadata": {
        "id": "3BeDmc1fyFMA"
      },
      "source": [
        "# 함수(function) - 사용자 정의 함수 작성 및 사용 방법"
      ]
    },
    {
      "cell_type": "code",
      "metadata": {
        "id": "wE3DPEOcow2B"
      },
      "source": [
        "# 함수 정의\n",
        "\n",
        "# 함수명 : calc_max()\n",
        "# 인수 : 최대값을 구하고 싶은 값이 저장된 tuple, list 하나 전달\n",
        "# 반환값 : 최대값\n",
        "def calc_max( numbers ):\n",
        "    max_number = numbers[ 0 ]\n",
        "\n",
        "    for v in numbers:\n",
        "        if v > max_number:\n",
        "            max_number = v\n",
        "    \n",
        "    return max_number"
      ],
      "execution_count": 35,
      "outputs": []
    },
    {
      "cell_type": "code",
      "metadata": {
        "colab": {
          "base_uri": "https://localhost:8080/"
        },
        "id": "FMkIFIguy1EJ",
        "outputId": "edd77eb0-5013-460a-cb01-648f84fdd15e"
      },
      "source": [
        "l = [5, 4, 2, 3, 1]\n",
        "t = (10.5, 30.9, 20.3, 5.6)\n",
        "\n",
        "# 함수 호출\n",
        "# print() : 파이썬 라이브러리 함수\n",
        "# calc_max() : 사용자 정의 함수\n",
        "print(f'l = {l} 에서 최대값 : {calc_max(l)} 이다.')\n",
        "print(f'l = {t} 에서 최대값 : {calc_max(t)} 이다.')"
      ],
      "execution_count": 36,
      "outputs": [
        {
          "output_type": "stream",
          "text": [
            "l = [5, 4, 2, 3, 1] 에서 최대값 : 5 이다.\n",
            "l = (10.5, 30.9, 20.3, 5.6) 에서 최대값 : 30.9 이다.\n"
          ],
          "name": "stdout"
        }
      ]
    },
    {
      "cell_type": "code",
      "metadata": {
        "id": "plECmyps2Nru"
      },
      "source": [
        ""
      ],
      "execution_count": 36,
      "outputs": []
    },
    {
      "cell_type": "code",
      "metadata": {
        "id": "iNbLPBp8zIwQ"
      },
      "source": [
        "# 함수 정의\n",
        "\n",
        "# 하나의 기능을 수행하는 함수\n",
        "\n",
        "# 함수명 : cal_min(numbers):\n",
        "def calc_min(numbers):\n",
        "    min_number = numbers[0]\n",
        "\n",
        "    for v in numbers:\n",
        "        if v < min_number:\n",
        "            min_number = value\n",
        "    \n",
        "    return min_number\n",
        "\n",
        "# 함수 정의\n",
        "\n",
        "# 사용자 정의 함수를 호출하여 반환 결과를 반환하는 함수\n",
        "# 인수 : 최대/최소값을 구하고 싶은 값이 저장된 tuple, list 하나 전달\n",
        "# 반환값 : 최대값, 최소값\n",
        "def calc_maxmin(numbers):\n",
        "    max_number = calc_max(numbers)\n",
        "    min_number = calc_min(numbers)\n",
        "\n",
        "    return (max_number, min_number)"
      ],
      "execution_count": 37,
      "outputs": []
    },
    {
      "cell_type": "code",
      "metadata": {
        "colab": {
          "base_uri": "https://localhost:8080/"
        },
        "id": "amAhjpqy2nfI",
        "outputId": "a0f83eed-cf63-4677-ca07-1c16626b8b6f"
      },
      "source": [
        "max_number, min_number = calc_maxmin(l)\n",
        "print(f'l = {l} 에서 최대값 {max_number}\\t최소값 {min_number} 이다.')"
      ],
      "execution_count": 38,
      "outputs": [
        {
          "output_type": "stream",
          "text": [
            "l = [5, 4, 2, 3, 1] 에서 최대값 5\t최소값 2 이다.\n"
          ],
          "name": "stdout"
        }
      ]
    },
    {
      "cell_type": "code",
      "metadata": {
        "id": "OQEM9joY6w9x"
      },
      "source": [
        "def my_func():\n",
        "    var1 = 1\n",
        "    var2 = 2\n",
        "    var3 = 3\n",
        "\n",
        "    return [var1, var2, var3]\n",
        "\n",
        "# var1, var2, var3 --> 3개의 값을 반환하는 것이 아니고 하나의 tuple을 반환"
      ],
      "execution_count": 39,
      "outputs": []
    },
    {
      "cell_type": "code",
      "metadata": {
        "colab": {
          "base_uri": "https://localhost:8080/"
        },
        "id": "u266OS6N666n",
        "outputId": "8f6518b2-3a00-4537-a329-3a6f8ee56bee"
      },
      "source": [
        "ret_value = my_func()\n",
        "\n",
        "print(f'ret_value = {ret_value}\\t({type(ret_value)})')"
      ],
      "execution_count": 40,
      "outputs": [
        {
          "output_type": "stream",
          "text": [
            "ret_value = [1, 2, 3]\t(<class 'list'>)\n"
          ],
          "name": "stdout"
        }
      ]
    },
    {
      "cell_type": "code",
      "metadata": {
        "id": "FM0iKq4M7MHG"
      },
      "source": [
        "def my_func2():\n",
        "    print('\\tmy_func2()')\n",
        "\n",
        "    return"
      ],
      "execution_count": 41,
      "outputs": []
    },
    {
      "cell_type": "code",
      "metadata": {
        "colab": {
          "base_uri": "https://localhost:8080/"
        },
        "id": "QEgWIvqa8L3j",
        "outputId": "b7b68cd3-6d11-45a9-cd00-d77e26a87677"
      },
      "source": [
        "ret_value = my_func2()\n",
        "\n",
        "print(f'ret_value = {ret_value}\\t({type(ret_value)})')"
      ],
      "execution_count": 42,
      "outputs": [
        {
          "output_type": "stream",
          "text": [
            "\tmy_func2()\n",
            "ret_value = None\t(<class 'NoneType'>)\n"
          ],
          "name": "stdout"
        }
      ]
    },
    {
      "cell_type": "markdown",
      "metadata": {
        "id": "uTbnaQvm9Pax"
      },
      "source": [
        "## 함수 유형\n",
        "\n",
        "### 1. 인수가 없고 return 값이 없는 유형"
      ]
    },
    {
      "cell_type": "code",
      "metadata": {
        "id": "B35njOG98RvD"
      },
      "source": [
        "# 함수 정의\n",
        "def my_func():\n",
        "    print('---------------------------------')\n",
        "    print('my_func()')\n",
        "    print('인수가 없고 return 값이 없는 유형')\n",
        "    print('---------------------------------')"
      ],
      "execution_count": 43,
      "outputs": []
    },
    {
      "cell_type": "code",
      "metadata": {
        "colab": {
          "base_uri": "https://localhost:8080/"
        },
        "id": "QSzY91lF9hTE",
        "outputId": "8df7b0db-e398-4ce4-c7b6-10c6631f3b8f"
      },
      "source": [
        "# 함수 호출\n",
        "ret_value = my_func()\n",
        "print(f'my_func() 함수 반환값 --> {ret_value}')"
      ],
      "execution_count": 44,
      "outputs": [
        {
          "output_type": "stream",
          "text": [
            "---------------------------------\n",
            "my_func()\n",
            "인수가 없고 return 값이 없는 유형\n",
            "---------------------------------\n",
            "my_func() 함수 반환값 --> None\n"
          ],
          "name": "stdout"
        }
      ]
    },
    {
      "cell_type": "markdown",
      "metadata": {
        "id": "1HYRYk1z-WAK"
      },
      "source": [
        "### 2. 인수가 있고 return 값이 없는 유형"
      ]
    },
    {
      "cell_type": "code",
      "metadata": {
        "id": "7oiPMWiY9j0L"
      },
      "source": [
        "# 함수 정의\n",
        "def my_func(message):\n",
        "    print('---------------------------------')\n",
        "    print('my_func()')\n",
        "    print(f'인수 message = {message}')\n",
        "    print('인수가 있고 return 값이 없는 유형')\n",
        "    print('---------------------------------')"
      ],
      "execution_count": 45,
      "outputs": []
    },
    {
      "cell_type": "code",
      "metadata": {
        "colab": {
          "base_uri": "https://localhost:8080/"
        },
        "id": "ct6QgWFa9kI9",
        "outputId": "81e02208-e928-49fd-d4cd-68e8867f2a8b"
      },
      "source": [
        "# 함수 호출\n",
        "my_func('my_func() 함수 - 인수 : python')"
      ],
      "execution_count": 46,
      "outputs": [
        {
          "output_type": "stream",
          "text": [
            "---------------------------------\n",
            "my_func()\n",
            "인수 message = my_func() 함수 - 인수 : python\n",
            "인수가 있고 return 값이 없는 유형\n",
            "---------------------------------\n"
          ],
          "name": "stdout"
        }
      ]
    },
    {
      "cell_type": "markdown",
      "metadata": {
        "id": "xjsdm1nJ-2us"
      },
      "source": [
        "### 3. 인수가 없고 return 값이 있는 유형"
      ]
    },
    {
      "cell_type": "code",
      "metadata": {
        "id": "YLFmDFGt-1s-"
      },
      "source": [
        "# 함수 정의\n",
        "def my_func():      # 거의 안쓰는 유형\n",
        "    print('---------------------------------')\n",
        "    print('my_func()')\n",
        "    print('인수가 없고 return 값이 있는 유형')\n",
        "    print('---------------------------------')\n",
        "\n",
        "    return '인수 없고 return 값 있는 유형'"
      ],
      "execution_count": 47,
      "outputs": []
    },
    {
      "cell_type": "code",
      "metadata": {
        "colab": {
          "base_uri": "https://localhost:8080/"
        },
        "id": "yySNqtgV_Ja_",
        "outputId": "c30c78e2-998c-4edc-9655-22f3f2aa9a08"
      },
      "source": [
        "# 함수 호출\n",
        "ret_value = my_func()\n",
        "print(f'ret_value = {ret_value}')"
      ],
      "execution_count": 48,
      "outputs": [
        {
          "output_type": "stream",
          "text": [
            "---------------------------------\n",
            "my_func()\n",
            "인수가 없고 return 값이 있는 유형\n",
            "---------------------------------\n",
            "ret_value = 인수 없고 return 값 있는 유형\n"
          ],
          "name": "stdout"
        }
      ]
    },
    {
      "cell_type": "markdown",
      "metadata": {
        "id": "BVhjA2fy_kyl"
      },
      "source": [
        "### 4. 인수도 있고 return 값도 있는 유형"
      ]
    },
    {
      "cell_type": "code",
      "metadata": {
        "id": "9pktSAWC_Utz"
      },
      "source": [
        "# 함수 정의\n",
        "def my_func(message):\n",
        "    print('---------------------------------')\n",
        "    print('my_func()')\n",
        "    print(f'인수 message = {message}')\n",
        "    print('인수가 있고 return 값이 있는 유형')\n",
        "    print('---------------------------------')\n",
        "\n",
        "    return '인수 있고 return 값 있는 유형'"
      ],
      "execution_count": 49,
      "outputs": []
    },
    {
      "cell_type": "code",
      "metadata": {
        "colab": {
          "base_uri": "https://localhost:8080/"
        },
        "id": "u3iS5w8P_U0N",
        "outputId": "877895c4-b4ba-4c20-f1dc-da84aa07858d"
      },
      "source": [
        "# 함수 호출\n",
        "ret_value = my_func('인수')\n",
        "print(f'ret_value = {ret_value}')"
      ],
      "execution_count": 50,
      "outputs": [
        {
          "output_type": "stream",
          "text": [
            "---------------------------------\n",
            "my_func()\n",
            "인수 message = 인수\n",
            "인수가 있고 return 값이 있는 유형\n",
            "---------------------------------\n",
            "ret_value = 인수 있고 return 값 있는 유형\n"
          ],
          "name": "stdout"
        }
      ]
    }
  ]
}