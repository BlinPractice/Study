{
  "nbformat": 4,
  "nbformat_minor": 0,
  "metadata": {
    "colab": {
      "name": "Day06.ipynb",
      "provenance": [],
      "collapsed_sections": [],
      "toc_visible": true,
      "authorship_tag": "ABX9TyMEpUcprbhqqmu7MYkfqqUp",
      "include_colab_link": true
    },
    "kernelspec": {
      "name": "python3",
      "display_name": "Python 3"
    },
    "language_info": {
      "name": "python"
    }
  },
  "cells": [
    {
      "cell_type": "markdown",
      "metadata": {
        "id": "view-in-github",
        "colab_type": "text"
      },
      "source": [
        "<a href=\"https://colab.research.google.com/github/PyBlin/Study/blob/main/AI_Class1/Day06.ipynb\" target=\"_parent\"><img src=\"https://colab.research.google.com/assets/colab-badge.svg\" alt=\"Open In Colab\"/></a>"
      ]
    },
    {
      "cell_type": "markdown",
      "metadata": {
        "id": "oXTzmMjPI-VX"
      },
      "source": [
        "# Sequence 자료형\n",
        "\n",
        "## 가변형(mutable)과 불변형(immutable)의 특징"
      ]
    },
    {
      "cell_type": "code",
      "metadata": {
        "id": "VBbhhCEqJJ1k"
      },
      "source": [
        "variable = 10           # 정수(기본 자료형)값을 저장하는 변수 정의"
      ],
      "execution_count": 1,
      "outputs": []
    },
    {
      "cell_type": "code",
      "metadata": {
        "colab": {
          "base_uri": "https://localhost:8080/"
        },
        "id": "j-RqKeeWJN17",
        "outputId": "f2ca3ed0-1568-4404-b0a1-11e41ba1433e"
      },
      "source": [
        "id(variable)            # id() 함수 : 변수의 메모리 위치 값 확인 함수"
      ],
      "execution_count": 2,
      "outputs": [
        {
          "output_type": "execute_result",
          "data": {
            "text/plain": [
              "94855547034400"
            ]
          },
          "metadata": {
            "tags": []
          },
          "execution_count": 2
        }
      ]
    },
    {
      "cell_type": "code",
      "metadata": {
        "colab": {
          "base_uri": "https://localhost:8080/"
        },
        "id": "OQPVIozUJn-s",
        "outputId": "7c81f240-2248-459b-ab92-cf1f8443f209"
      },
      "source": [
        "variable =+ 2\n",
        "print('variable = ', variable)"
      ],
      "execution_count": 3,
      "outputs": [
        {
          "output_type": "stream",
          "text": [
            "variable =  2\n"
          ],
          "name": "stdout"
        }
      ]
    },
    {
      "cell_type": "code",
      "metadata": {
        "colab": {
          "base_uri": "https://localhost:8080/"
        },
        "id": "SnkvJuS7J0VW",
        "outputId": "5afbd800-4c7e-4cad-83da-8947a5ccac85"
      },
      "source": [
        "id(variable)"
      ],
      "execution_count": 4,
      "outputs": [
        {
          "output_type": "execute_result",
          "data": {
            "text/plain": [
              "94855547034144"
            ]
          },
          "metadata": {
            "tags": []
          },
          "execution_count": 4
        }
      ]
    },
    {
      "cell_type": "markdown",
      "metadata": {
        "id": "2fxBBMCELUj5"
      },
      "source": [
        "## 가변형(mutable)"
      ]
    },
    {
      "cell_type": "code",
      "metadata": {
        "colab": {
          "base_uri": "https://localhost:8080/"
        },
        "id": "Kn6MqPpsLavY",
        "outputId": "80329509-5074-4e86-d22b-d144774c2db9"
      },
      "source": [
        "l = [1, 2, 3]           # list형 변수 생성\n",
        "print('l = ', l)"
      ],
      "execution_count": 5,
      "outputs": [
        {
          "output_type": "stream",
          "text": [
            "l =  [1, 2, 3]\n"
          ],
          "name": "stdout"
        }
      ]
    },
    {
      "cell_type": "code",
      "metadata": {
        "colab": {
          "base_uri": "https://localhost:8080/"
        },
        "id": "WhywsLShLOXe",
        "outputId": "a58c4087-d1de-4cd1-b41e-d0d156fa9a01"
      },
      "source": [
        "id(l)"
      ],
      "execution_count": 6,
      "outputs": [
        {
          "output_type": "execute_result",
          "data": {
            "text/plain": [
              "140098666116592"
            ]
          },
          "metadata": {
            "tags": []
          },
          "execution_count": 6
        }
      ]
    },
    {
      "cell_type": "code",
      "metadata": {
        "colab": {
          "base_uri": "https://localhost:8080/"
        },
        "id": "eqAE2Em-LIQL",
        "outputId": "38c6921e-3818-463b-99ac-39261b9ce070"
      },
      "source": [
        "l.append(10)            # list형 변수에 값 추가\n",
        "print('l = ', l)"
      ],
      "execution_count": 7,
      "outputs": [
        {
          "output_type": "stream",
          "text": [
            "l =  [1, 2, 3, 10]\n"
          ],
          "name": "stdout"
        }
      ]
    },
    {
      "cell_type": "code",
      "metadata": {
        "colab": {
          "base_uri": "https://localhost:8080/"
        },
        "id": "uQGfnkyxNan6",
        "outputId": "47934f5c-5707-44df-8247-b6b5d9f43fe0"
      },
      "source": [
        "id(l)"
      ],
      "execution_count": 8,
      "outputs": [
        {
          "output_type": "execute_result",
          "data": {
            "text/plain": [
              "140098666116592"
            ]
          },
          "metadata": {
            "tags": []
          },
          "execution_count": 8
        }
      ]
    },
    {
      "cell_type": "markdown",
      "metadata": {
        "id": "dx_30zmYPk0M"
      },
      "source": [
        "# str(문자 집합, 문자열(string))\n",
        "\n",
        "## str 생성"
      ]
    },
    {
      "cell_type": "code",
      "metadata": {
        "colab": {
          "base_uri": "https://localhost:8080/",
          "height": 35
        },
        "id": "u0oB3bF_PryS",
        "outputId": "6d4553ee-c70b-4442-fa3b-7c92d14eae48"
      },
      "source": [
        "# str literal\n",
        "'python'\n",
        "\"python\"\n",
        "'''python'''\n",
        "\"\"\"python\"\"\""
      ],
      "execution_count": 9,
      "outputs": [
        {
          "output_type": "execute_result",
          "data": {
            "application/vnd.google.colaboratory.intrinsic+json": {
              "type": "string"
            },
            "text/plain": [
              "'python'"
            ]
          },
          "metadata": {
            "tags": []
          },
          "execution_count": 9
        }
      ]
    },
    {
      "cell_type": "code",
      "metadata": {
        "colab": {
          "base_uri": "https://localhost:8080/",
          "height": 35
        },
        "id": "9SHfsWBlP2-T",
        "outputId": "f55f8b36-9ebf-42c1-8109-b40c90818e55"
      },
      "source": [
        "\"python's\""
      ],
      "execution_count": 10,
      "outputs": [
        {
          "output_type": "execute_result",
          "data": {
            "application/vnd.google.colaboratory.intrinsic+json": {
              "type": "string"
            },
            "text/plain": [
              "\"python's\""
            ]
          },
          "metadata": {
            "tags": []
          },
          "execution_count": 10
        }
      ]
    },
    {
      "cell_type": "code",
      "metadata": {
        "colab": {
          "base_uri": "https://localhost:8080/",
          "height": 35
        },
        "id": "hdwsh8spQBvC",
        "outputId": "70c5d538-d65f-447b-9a47-d5530943ecfe"
      },
      "source": [
        "'\"python\"'"
      ],
      "execution_count": 11,
      "outputs": [
        {
          "output_type": "execute_result",
          "data": {
            "application/vnd.google.colaboratory.intrinsic+json": {
              "type": "string"
            },
            "text/plain": [
              "'\"python\"'"
            ]
          },
          "metadata": {
            "tags": []
          },
          "execution_count": 11
        }
      ]
    },
    {
      "cell_type": "code",
      "metadata": {
        "colab": {
          "base_uri": "https://localhost:8080/"
        },
        "id": "ZBj6yl1lQMJ6",
        "outputId": "40d25a20-e7ec-427a-c76c-1560c3d55d41"
      },
      "source": [
        "print('python \\\n",
        "program')"
      ],
      "execution_count": 12,
      "outputs": [
        {
          "output_type": "stream",
          "text": [
            "python program\n"
          ],
          "name": "stdout"
        }
      ]
    },
    {
      "cell_type": "code",
      "metadata": {
        "colab": {
          "base_uri": "https://localhost:8080/"
        },
        "id": "KA_IFQ6iQVJM",
        "outputId": "aebfd499-0d0d-46f6-b7f1-8c5a39ab75ee"
      },
      "source": [
        "print('''python\n",
        "program''')"
      ],
      "execution_count": 13,
      "outputs": [
        {
          "output_type": "stream",
          "text": [
            "python\n",
            "program\n"
          ],
          "name": "stdout"
        }
      ]
    },
    {
      "cell_type": "code",
      "metadata": {
        "colab": {
          "base_uri": "https://localhost:8080/"
        },
        "id": "IU-MrCarRhcY",
        "outputId": "c9e3c6dc-3da4-448a-944f-4b6f321c4d01"
      },
      "source": [
        "type('python')"
      ],
      "execution_count": 14,
      "outputs": [
        {
          "output_type": "execute_result",
          "data": {
            "text/plain": [
              "str"
            ]
          },
          "metadata": {
            "tags": []
          },
          "execution_count": 14
        }
      ]
    },
    {
      "cell_type": "code",
      "metadata": {
        "colab": {
          "base_uri": "https://localhost:8080/"
        },
        "id": "7-MQ3QgQRkC7",
        "outputId": "b90f2f75-13e3-4688-c4b2-93e106016540"
      },
      "source": [
        "type(str(100))"
      ],
      "execution_count": 15,
      "outputs": [
        {
          "output_type": "execute_result",
          "data": {
            "text/plain": [
              "str"
            ]
          },
          "metadata": {
            "tags": []
          },
          "execution_count": 15
        }
      ]
    },
    {
      "cell_type": "code",
      "metadata": {
        "colab": {
          "base_uri": "https://localhost:8080/"
        },
        "id": "r_ZoPlmuRmV8",
        "outputId": "983607cf-78ff-4039-a025-f5bc8e8e59ca"
      },
      "source": [
        "string = str(100)\n",
        "\n",
        "print('string = ', string)\n",
        "print('string type = ', type(string))"
      ],
      "execution_count": 16,
      "outputs": [
        {
          "output_type": "stream",
          "text": [
            "string =  100\n",
            "string type =  <class 'str'>\n"
          ],
          "name": "stdout"
        }
      ]
    },
    {
      "cell_type": "markdown",
      "metadata": {
        "id": "HLdBQsOsRxwb"
      },
      "source": [
        "# str-sequence 자료형 공통 연산\n",
        "\n",
        "## indexing"
      ]
    },
    {
      "cell_type": "code",
      "metadata": {
        "colab": {
          "base_uri": "https://localhost:8080/"
        },
        "id": "JCM_oz5sR3xU",
        "outputId": "d3743442-675f-43bb-cd05-e27a9db24627"
      },
      "source": [
        "string = 'python program'\n",
        "print('string = ', string)"
      ],
      "execution_count": 17,
      "outputs": [
        {
          "output_type": "stream",
          "text": [
            "string =  python program\n"
          ],
          "name": "stdout"
        }
      ]
    },
    {
      "cell_type": "code",
      "metadata": {
        "colab": {
          "base_uri": "https://localhost:8080/",
          "height": 35
        },
        "id": "745oiswIR-XT",
        "outputId": "18a9a379-f367-4d41-f44e-642b1ab7afda"
      },
      "source": [
        "string[0]"
      ],
      "execution_count": 18,
      "outputs": [
        {
          "output_type": "execute_result",
          "data": {
            "application/vnd.google.colaboratory.intrinsic+json": {
              "type": "string"
            },
            "text/plain": [
              "'p'"
            ]
          },
          "metadata": {
            "tags": []
          },
          "execution_count": 18
        }
      ]
    },
    {
      "cell_type": "code",
      "metadata": {
        "colab": {
          "base_uri": "https://localhost:8080/",
          "height": 35
        },
        "id": "HUJ3AigzSBoR",
        "outputId": "1ec05790-8b42-43a2-a00b-c80aa65fd010"
      },
      "source": [
        "string[1]"
      ],
      "execution_count": 19,
      "outputs": [
        {
          "output_type": "execute_result",
          "data": {
            "application/vnd.google.colaboratory.intrinsic+json": {
              "type": "string"
            },
            "text/plain": [
              "'y'"
            ]
          },
          "metadata": {
            "tags": []
          },
          "execution_count": 19
        }
      ]
    },
    {
      "cell_type": "code",
      "metadata": {
        "colab": {
          "base_uri": "https://localhost:8080/",
          "height": 35
        },
        "id": "Ahd4FvQZSDlY",
        "outputId": "ff3a7fb2-d693-4a49-bb75-9c7a2ae4990f"
      },
      "source": [
        "string[-1]"
      ],
      "execution_count": 20,
      "outputs": [
        {
          "output_type": "execute_result",
          "data": {
            "application/vnd.google.colaboratory.intrinsic+json": {
              "type": "string"
            },
            "text/plain": [
              "'m'"
            ]
          },
          "metadata": {
            "tags": []
          },
          "execution_count": 20
        }
      ]
    },
    {
      "cell_type": "markdown",
      "metadata": {
        "id": "GSy30NWwWYwM"
      },
      "source": [
        "## slicing"
      ]
    },
    {
      "cell_type": "code",
      "metadata": {
        "colab": {
          "base_uri": "https://localhost:8080/",
          "height": 35
        },
        "id": "7sQGzhyWWbOv",
        "outputId": "9f48ffa9-588b-49cf-e23a-e0a2cdd821d4"
      },
      "source": [
        "string[0:10:1]"
      ],
      "execution_count": 21,
      "outputs": [
        {
          "output_type": "execute_result",
          "data": {
            "application/vnd.google.colaboratory.intrinsic+json": {
              "type": "string"
            },
            "text/plain": [
              "'python pro'"
            ]
          },
          "metadata": {
            "tags": []
          },
          "execution_count": 21
        }
      ]
    },
    {
      "cell_type": "code",
      "metadata": {
        "colab": {
          "base_uri": "https://localhost:8080/",
          "height": 35
        },
        "id": "8VKOdLIkWr8Y",
        "outputId": "af755dc0-e801-4067-c8a3-cb7b68da36cc"
      },
      "source": [
        "string[0:10]"
      ],
      "execution_count": 22,
      "outputs": [
        {
          "output_type": "execute_result",
          "data": {
            "application/vnd.google.colaboratory.intrinsic+json": {
              "type": "string"
            },
            "text/plain": [
              "'python pro'"
            ]
          },
          "metadata": {
            "tags": []
          },
          "execution_count": 22
        }
      ]
    },
    {
      "cell_type": "code",
      "metadata": {
        "colab": {
          "base_uri": "https://localhost:8080/",
          "height": 35
        },
        "id": "LkdFstWWXhJi",
        "outputId": "a79b4fac-b485-41c7-a3d0-4defa4ee8cda"
      },
      "source": [
        "string[0:10:2]"
      ],
      "execution_count": 23,
      "outputs": [
        {
          "output_type": "execute_result",
          "data": {
            "application/vnd.google.colaboratory.intrinsic+json": {
              "type": "string"
            },
            "text/plain": [
              "'pto r'"
            ]
          },
          "metadata": {
            "tags": []
          },
          "execution_count": 23
        }
      ]
    },
    {
      "cell_type": "code",
      "metadata": {
        "colab": {
          "base_uri": "https://localhost:8080/",
          "height": 35
        },
        "id": "58MGcntBXjfA",
        "outputId": "3411d755-55ff-4180-da27-906d55f03918"
      },
      "source": [
        "string[::2]         # 시작 인덱스와 종료 인덱스 생략, 간격은 2씩"
      ],
      "execution_count": 24,
      "outputs": [
        {
          "output_type": "execute_result",
          "data": {
            "application/vnd.google.colaboratory.intrinsic+json": {
              "type": "string"
            },
            "text/plain": [
              "'pto rga'"
            ]
          },
          "metadata": {
            "tags": []
          },
          "execution_count": 24
        }
      ]
    },
    {
      "cell_type": "code",
      "metadata": {
        "colab": {
          "base_uri": "https://localhost:8080/",
          "height": 35
        },
        "id": "vMivqCdmXrtw",
        "outputId": "7a4fc23a-3dcf-408b-a5af-a33005170963"
      },
      "source": [
        "string[::-1]        # 간격이 -1이므로 역순으로 전체"
      ],
      "execution_count": 25,
      "outputs": [
        {
          "output_type": "execute_result",
          "data": {
            "application/vnd.google.colaboratory.intrinsic+json": {
              "type": "string"
            },
            "text/plain": [
              "'margorp nohtyp'"
            ]
          },
          "metadata": {
            "tags": []
          },
          "execution_count": 25
        }
      ]
    },
    {
      "cell_type": "code",
      "metadata": {
        "colab": {
          "base_uri": "https://localhost:8080/",
          "height": 35
        },
        "id": "4FjUxI1NYHZp",
        "outputId": "3b6c0025-b8d7-4cf1-c6f4-159822226155"
      },
      "source": [
        "string[-5:-3]       # 역순으로 5번째"
      ],
      "execution_count": 26,
      "outputs": [
        {
          "output_type": "execute_result",
          "data": {
            "application/vnd.google.colaboratory.intrinsic+json": {
              "type": "string"
            },
            "text/plain": [
              "'og'"
            ]
          },
          "metadata": {
            "tags": []
          },
          "execution_count": 26
        }
      ]
    },
    {
      "cell_type": "code",
      "metadata": {
        "colab": {
          "base_uri": "https://localhost:8080/",
          "height": 35
        },
        "id": "7P0XdDAAYZCu",
        "outputId": "63cffdcb-e822-478b-df57-d57101edf7e1"
      },
      "source": [
        "string[:]           # 전체"
      ],
      "execution_count": 27,
      "outputs": [
        {
          "output_type": "execute_result",
          "data": {
            "application/vnd.google.colaboratory.intrinsic+json": {
              "type": "string"
            },
            "text/plain": [
              "'python program'"
            ]
          },
          "metadata": {
            "tags": []
          },
          "execution_count": 27
        }
      ]
    },
    {
      "cell_type": "code",
      "metadata": {
        "colab": {
          "base_uri": "https://localhost:8080/",
          "height": 35
        },
        "id": "uBc3v12hYcVP",
        "outputId": "2d5acbd4-0afa-4bd3-dda4-5a970e054138"
      },
      "source": [
        "string[5:]          # 5번째 인덱스부터 끝까지"
      ],
      "execution_count": 28,
      "outputs": [
        {
          "output_type": "execute_result",
          "data": {
            "application/vnd.google.colaboratory.intrinsic+json": {
              "type": "string"
            },
            "text/plain": [
              "'n program'"
            ]
          },
          "metadata": {
            "tags": []
          },
          "execution_count": 28
        }
      ]
    },
    {
      "cell_type": "code",
      "metadata": {
        "colab": {
          "base_uri": "https://localhost:8080/",
          "height": 35
        },
        "id": "o211GukVYkmf",
        "outputId": "a08f1d83-2a09-42b7-8c7a-bde218e84977"
      },
      "source": [
        "string[:5]          # 시작부터 4번째 인덱스까지"
      ],
      "execution_count": 29,
      "outputs": [
        {
          "output_type": "execute_result",
          "data": {
            "application/vnd.google.colaboratory.intrinsic+json": {
              "type": "string"
            },
            "text/plain": [
              "'pytho'"
            ]
          },
          "metadata": {
            "tags": []
          },
          "execution_count": 29
        }
      ]
    },
    {
      "cell_type": "markdown",
      "metadata": {
        "id": "2k0kZ5W9ZLaK"
      },
      "source": [
        "# 길이 계산"
      ]
    },
    {
      "cell_type": "code",
      "metadata": {
        "colab": {
          "base_uri": "https://localhost:8080/"
        },
        "id": "ReNnzbohZMXH",
        "outputId": "54a5fe08-421c-4ed1-df66-888bc3889633"
      },
      "source": [
        "print('string 변수의 length : ', len(string))"
      ],
      "execution_count": 30,
      "outputs": [
        {
          "output_type": "stream",
          "text": [
            "string 변수의 length :  14\n"
          ],
          "name": "stdout"
        }
      ]
    },
    {
      "cell_type": "code",
      "metadata": {
        "colab": {
          "base_uri": "https://localhost:8080/"
        },
        "id": "yTeeqzeGZWAx",
        "outputId": "dd64d869-a532-4b98-bccd-d61c85c6f197"
      },
      "source": [
        "len(string[:5])"
      ],
      "execution_count": 31,
      "outputs": [
        {
          "output_type": "execute_result",
          "data": {
            "text/plain": [
              "5"
            ]
          },
          "metadata": {
            "tags": []
          },
          "execution_count": 31
        }
      ]
    },
    {
      "cell_type": "markdown",
      "metadata": {
        "id": "QyjfEjQmaWmu"
      },
      "source": [
        "# 연결"
      ]
    },
    {
      "cell_type": "code",
      "metadata": {
        "colab": {
          "base_uri": "https://localhost:8080/"
        },
        "id": "khGk34_eaZe5",
        "outputId": "c2c664d5-6c69-4ef4-8b24-b973d54fd8f0"
      },
      "source": [
        "string1 = 'python'\n",
        "string2 = 'program'\n",
        "\n",
        "print('string1 = ', string1, '\\t\\tstring2 = ', string2)"
      ],
      "execution_count": 32,
      "outputs": [
        {
          "output_type": "stream",
          "text": [
            "string1 =  python \t\tstring2 =  program\n"
          ],
          "name": "stdout"
        }
      ]
    },
    {
      "cell_type": "code",
      "metadata": {
        "colab": {
          "base_uri": "https://localhost:8080/"
        },
        "id": "VL5TKV8halqj",
        "outputId": "ef481181-7eaa-4def-f5f6-11b473c2c962"
      },
      "source": [
        "print(string1 + string2)"
      ],
      "execution_count": 33,
      "outputs": [
        {
          "output_type": "stream",
          "text": [
            "pythonprogram\n"
          ],
          "name": "stdout"
        }
      ]
    },
    {
      "cell_type": "code",
      "metadata": {
        "colab": {
          "base_uri": "https://localhost:8080/"
        },
        "id": "7b9f3Pdfao6j",
        "outputId": "1d94b4b0-b10d-4fd2-e2bf-77200ef13b0a"
      },
      "source": [
        "print(string1 + ' ' + string2)"
      ],
      "execution_count": 34,
      "outputs": [
        {
          "output_type": "stream",
          "text": [
            "python program\n"
          ],
          "name": "stdout"
        }
      ]
    },
    {
      "cell_type": "code",
      "metadata": {
        "colab": {
          "base_uri": "https://localhost:8080/"
        },
        "id": "vwa4PdG3avgb",
        "outputId": "307272aa-0cea-40ea-c8a7-c17eb6a4d54c"
      },
      "source": [
        "string3 = string1 + ' ' + string2\n",
        "print(string3)"
      ],
      "execution_count": 35,
      "outputs": [
        {
          "output_type": "stream",
          "text": [
            "python program\n"
          ],
          "name": "stdout"
        }
      ]
    },
    {
      "cell_type": "markdown",
      "metadata": {
        "id": "0IJ-3oCxbYtz"
      },
      "source": [
        "# 반복"
      ]
    },
    {
      "cell_type": "code",
      "metadata": {
        "colab": {
          "base_uri": "https://localhost:8080/"
        },
        "id": "Wz9he_imbZox",
        "outputId": "c171916f-8f20-427d-f498-c2c7e509d93d"
      },
      "source": [
        "print(string1 * 2)          # * 2 : 두 번 반복 "
      ],
      "execution_count": 36,
      "outputs": [
        {
          "output_type": "stream",
          "text": [
            "pythonpython\n"
          ],
          "name": "stdout"
        }
      ]
    },
    {
      "cell_type": "code",
      "metadata": {
        "colab": {
          "base_uri": "https://localhost:8080/"
        },
        "id": "Kzr0YQf2bgpv",
        "outputId": "1a8071c9-1870-4d57-c62b-3657bdc99f87"
      },
      "source": [
        "print((string1 + string2) * 3)"
      ],
      "execution_count": 37,
      "outputs": [
        {
          "output_type": "stream",
          "text": [
            "pythonprogrampythonprogrampythonprogram\n"
          ],
          "name": "stdout"
        }
      ]
    },
    {
      "cell_type": "markdown",
      "metadata": {
        "id": "bvH6fX4McQ4H"
      },
      "source": [
        "# 포함 유무 확인"
      ]
    },
    {
      "cell_type": "code",
      "metadata": {
        "colab": {
          "base_uri": "https://localhost:8080/"
        },
        "id": "3yvRtJZccSAK",
        "outputId": "0346bb01-53a0-45e5-e887-86dd3895e85b"
      },
      "source": [
        "'p' in string1"
      ],
      "execution_count": 38,
      "outputs": [
        {
          "output_type": "execute_result",
          "data": {
            "text/plain": [
              "True"
            ]
          },
          "metadata": {
            "tags": []
          },
          "execution_count": 38
        }
      ]
    },
    {
      "cell_type": "code",
      "metadata": {
        "colab": {
          "base_uri": "https://localhost:8080/"
        },
        "id": "jOWgbYxCcW06",
        "outputId": "8d4818b9-a7d4-4a8f-aef4-5832b16cc3cd"
      },
      "source": [
        "'P' in string1"
      ],
      "execution_count": 39,
      "outputs": [
        {
          "output_type": "execute_result",
          "data": {
            "text/plain": [
              "False"
            ]
          },
          "metadata": {
            "tags": []
          },
          "execution_count": 39
        }
      ]
    },
    {
      "cell_type": "code",
      "metadata": {
        "colab": {
          "base_uri": "https://localhost:8080/"
        },
        "id": "d5ceABwEcYdA",
        "outputId": "6e902506-b073-414e-af79-295ef17760d9"
      },
      "source": [
        "'Python' in string3"
      ],
      "execution_count": 40,
      "outputs": [
        {
          "output_type": "execute_result",
          "data": {
            "text/plain": [
              "False"
            ]
          },
          "metadata": {
            "tags": []
          },
          "execution_count": 40
        }
      ]
    },
    {
      "cell_type": "code",
      "metadata": {
        "colab": {
          "base_uri": "https://localhost:8080/"
        },
        "id": "Z9lyI_Vsc68Q",
        "outputId": "474e3ac2-4b7a-4939-afa7-4fa56ba4dca2"
      },
      "source": [
        "select = input('문자열을 입력하세요(y가 포함되면 종료) : ')\n",
        "\n",
        "while (not 'y' in select):\n",
        "    print('select = ', select)\n",
        "    select = input('문자열을 입력하세요(y가 포함되면 종료) : ')"
      ],
      "execution_count": 41,
      "outputs": [
        {
          "output_type": "stream",
          "text": [
            "문자열을 입력하세요(y가 포함되면 종료) : apple\n",
            "select =  apple\n",
            "문자열을 입력하세요(y가 포함되면 종료) : python\n"
          ],
          "name": "stdout"
        }
      ]
    },
    {
      "cell_type": "markdown",
      "metadata": {
        "id": "V7Fhb7H3f0gJ"
      },
      "source": [
        "# 형식 문자열"
      ]
    },
    {
      "cell_type": "code",
      "metadata": {
        "id": "4m_670zhf2CK"
      },
      "source": [
        "name = '홍길동'\n",
        "age = 25\n",
        "gender = '남'\n",
        "weight = 81.9"
      ],
      "execution_count": 42,
      "outputs": []
    },
    {
      "cell_type": "code",
      "metadata": {
        "colab": {
          "base_uri": "https://localhost:8080/"
        },
        "id": "0W5KUDfHf8-m",
        "outputId": "0002d647-295a-48ca-ba29-dc0637508878"
      },
      "source": [
        "print('name = ', name,\n",
        "      '\\nage = ', age,\n",
        "      '\\ngender = ', gender,\n",
        "      '\\nweight = ', weight)"
      ],
      "execution_count": 43,
      "outputs": [
        {
          "output_type": "stream",
          "text": [
            "name =  홍길동 \n",
            "age =  25 \n",
            "gender =  남 \n",
            "weight =  81.9\n"
          ],
          "name": "stdout"
        }
      ]
    },
    {
      "cell_type": "markdown",
      "metadata": {
        "id": "sRcaJRurj2-e"
      },
      "source": [
        "# 초기 형식 문자열"
      ]
    },
    {
      "cell_type": "code",
      "metadata": {
        "colab": {
          "base_uri": "https://localhost:8080/"
        },
        "id": "XWyYAnWCj4R2",
        "outputId": "2778f5c6-5f8c-4eed-acb5-35faa1594813"
      },
      "source": [
        "fmt = 'name = %-10s age = %5d gender = %2s weight %5.2f'%(name,\n",
        "                                                          age,\n",
        "                                                          gender,\n",
        "                                                          weight)\n",
        "print(fmt)"
      ],
      "execution_count": 44,
      "outputs": [
        {
          "output_type": "stream",
          "text": [
            "name = 홍길동        age =    25 gender =  남 weight 81.90\n"
          ],
          "name": "stdout"
        }
      ]
    },
    {
      "cell_type": "markdown",
      "metadata": {
        "id": "bCuz76MMmOQY"
      },
      "source": [
        "# format() 함수 이용 형식 문자열"
      ]
    },
    {
      "cell_type": "code",
      "metadata": {
        "colab": {
          "base_uri": "https://localhost:8080/"
        },
        "id": "UNJdXcCamR06",
        "outputId": "4c7c30a9-c372-4b93-f76f-1f8ea97bac32"
      },
      "source": [
        "fmt = 'name={0} age={1} gender={2} weight={3}.'.format(name, age, gender, weight)\n",
        "print(fmt)"
      ],
      "execution_count": 45,
      "outputs": [
        {
          "output_type": "stream",
          "text": [
            "name=홍길동 age=25 gender=남 weight=81.9.\n"
          ],
          "name": "stdout"
        }
      ]
    },
    {
      "cell_type": "code",
      "metadata": {
        "colab": {
          "base_uri": "https://localhost:8080/"
        },
        "id": "f1Et1XNAm9JF",
        "outputId": "6722bba7-77db-4e6a-8730-381f6f006994"
      },
      "source": [
        "fmt = 'name={0:>10s} age={1:5d} gender={2:2s} \\\n",
        "weight={3:5.2f}.'.format(name, age, gender, weight)         # {-} minus 쓰면 안됨\n",
        "print(fmt)"
      ],
      "execution_count": 46,
      "outputs": [
        {
          "output_type": "stream",
          "text": [
            "name=       홍길동 age=   25 gender=남  weight=81.90.\n"
          ],
          "name": "stdout"
        }
      ]
    },
    {
      "cell_type": "code",
      "metadata": {
        "colab": {
          "base_uri": "https://localhost:8080/"
        },
        "id": "ktYCiJvbnyzN",
        "outputId": "144ab66e-f0fe-47d7-9858-bd737f56134f"
      },
      "source": [
        "fmt = 'age={1} name={0}'.format(name, age)\n",
        "print(fmt)"
      ],
      "execution_count": 47,
      "outputs": [
        {
          "output_type": "stream",
          "text": [
            "age=25 name=홍길동\n"
          ],
          "name": "stdout"
        }
      ]
    },
    {
      "cell_type": "markdown",
      "metadata": {
        "id": "0dVz6zA4paZA"
      },
      "source": [
        "# f-string 이용 형식 문자열"
      ]
    },
    {
      "cell_type": "code",
      "metadata": {
        "colab": {
          "base_uri": "https://localhost:8080/"
        },
        "id": "vbgOnz82pcK_",
        "outputId": "c62d9705-7489-40e1-e51f-858edd5fc211"
      },
      "source": [
        "fmt = f'name={name} age={age} gender={gender} weight={weight}'\n",
        "print(fmt)"
      ],
      "execution_count": 48,
      "outputs": [
        {
          "output_type": "stream",
          "text": [
            "name=홍길동 age=25 gender=남 weight=81.9\n"
          ],
          "name": "stdout"
        }
      ]
    },
    {
      "cell_type": "code",
      "metadata": {
        "colab": {
          "base_uri": "https://localhost:8080/"
        },
        "id": "1ZhAtfz8pzbH",
        "outputId": "5129f077-8d79-45e4-f6f9-cb8e147e1a8b"
      },
      "source": [
        "fmt = f'name={name:<10} age={age:5} gender={gender:2} weight={weight:5.2f}'\n",
        "print(fmt)"
      ],
      "execution_count": 49,
      "outputs": [
        {
          "output_type": "stream",
          "text": [
            "name=홍길동        age=   25 gender=남  weight=81.90\n"
          ],
          "name": "stdout"
        }
      ]
    },
    {
      "cell_type": "code",
      "metadata": {
        "colab": {
          "base_uri": "https://localhost:8080/"
        },
        "id": "xLBndipLqByh",
        "outputId": "de0b88fd-da55-4532-ae0f-4ccb7ef34a87"
      },
      "source": [
        "print(f'{name:<10}')\n",
        "print(f'{name:^10}')\n",
        "print(f'{name:>10}')"
      ],
      "execution_count": 50,
      "outputs": [
        {
          "output_type": "stream",
          "text": [
            "홍길동       \n",
            "   홍길동    \n",
            "       홍길동\n"
          ],
          "name": "stdout"
        }
      ]
    },
    {
      "cell_type": "markdown",
      "metadata": {
        "id": "ZfreLtm2tiVH"
      },
      "source": [
        "# str 메서드"
      ]
    },
    {
      "cell_type": "code",
      "metadata": {
        "colab": {
          "base_uri": "https://localhost:8080/"
        },
        "id": "-WOav_Ultj7L",
        "outputId": "116547cd-afe7-4295-db76-5ba0850091f0"
      },
      "source": [
        "string1 = ' python '\n",
        "string2 = '010-1234-5678'\n",
        "\n",
        "print(f'string1=|{string1}| string2=|{string2}|')"
      ],
      "execution_count": 51,
      "outputs": [
        {
          "output_type": "stream",
          "text": [
            "string1=| python | string2=|010-1234-5678|\n"
          ],
          "name": "stdout"
        }
      ]
    },
    {
      "cell_type": "code",
      "metadata": {
        "colab": {
          "base_uri": "https://localhost:8080/"
        },
        "id": "YTThhucKt4Jx",
        "outputId": "05f9647a-9e6e-4cb2-c07a-fa6279f83011"
      },
      "source": [
        "print(f'string1=|{string1.strip()}| string2=|{string2.strip(\"-\")}|')"
      ],
      "execution_count": 52,
      "outputs": [
        {
          "output_type": "stream",
          "text": [
            "string1=|python| string2=|010-1234-5678|\n"
          ],
          "name": "stdout"
        }
      ]
    },
    {
      "cell_type": "code",
      "metadata": {
        "colab": {
          "base_uri": "https://localhost:8080/"
        },
        "id": "evZB3XOPuiMM",
        "outputId": "8a94d4a0-e0e0-43b5-c996-f76da78a94c6"
      },
      "source": [
        "string = input('yes라고 입력하세요 : ')\n",
        "\n",
        "if string.strip() == 'yes':\n",
        "    print(\"OK\")\n",
        "else:\n",
        "    print(\"Fail\")"
      ],
      "execution_count": 53,
      "outputs": [
        {
          "output_type": "stream",
          "text": [
            "yes라고 입력하세요 : no\n",
            "Fail\n"
          ],
          "name": "stdout"
        }
      ]
    },
    {
      "cell_type": "code",
      "metadata": {
        "colab": {
          "base_uri": "https://localhost:8080/"
        },
        "id": "qgjVOwp8vZRG",
        "outputId": "4dd97555-4bd3-47c6-c8cf-cd3127708123"
      },
      "source": [
        "string = input('/로 구분하여 단어를 입력하세요 : ')\n",
        "print(f'string = {string.split(\"/\")}')"
      ],
      "execution_count": 54,
      "outputs": [
        {
          "output_type": "stream",
          "text": [
            "/로 구분하여 단어를 입력하세요 : apple/banana/cat\n",
            "string = ['apple', 'banana', 'cat']\n"
          ],
          "name": "stdout"
        }
      ]
    }
  ]
}