{
  "nbformat": 4,
  "nbformat_minor": 0,
  "metadata": {
    "colab": {
      "name": "Day15.ipynb",
      "provenance": [],
      "collapsed_sections": [],
      "toc_visible": true,
      "authorship_tag": "ABX9TyNRhmw+7nSbtw4iE9Bmx02c",
      "include_colab_link": true
    },
    "kernelspec": {
      "name": "python3",
      "display_name": "Python 3"
    },
    "language_info": {
      "name": "python"
    }
  },
  "cells": [
    {
      "cell_type": "markdown",
      "metadata": {
        "id": "view-in-github",
        "colab_type": "text"
      },
      "source": [
        "<a href=\"https://colab.research.google.com/github/PyBlin/Study/blob/main/AI_Class1/Day15.ipynb\" target=\"_parent\"><img src=\"https://colab.research.google.com/assets/colab-badge.svg\" alt=\"Open In Colab\"/></a>"
      ]
    },
    {
      "cell_type": "code",
      "metadata": {
        "id": "tgxMxGDWNIZb"
      },
      "source": [
        "import numpy as np"
      ],
      "execution_count": 1,
      "outputs": []
    },
    {
      "cell_type": "code",
      "metadata": {
        "id": "dyXlgZW0NOhF"
      },
      "source": [
        "def asprint(arr):\n",
        "    # NumPy ndarray 객체 속성 (attribute)\n",
        "    # arr 인수 : ndarray 객체 (array)\n",
        "\n",
        "    # shape : array 구조\n",
        "    # ndim : array 차원\n",
        "    # dtype : array 자료형\n",
        "\n",
        "    print(f'type : {type(arr)}')\n",
        "    print(f'shape : {arr.shape}\\tdimension = {arr.ndim}')\n",
        "    print(f'dtype : {arr.dtype}', '\\n')\n",
        "    print(f\"Array's data : \\n{arr}\")"
      ],
      "execution_count": 2,
      "outputs": []
    },
    {
      "cell_type": "markdown",
      "metadata": {
        "id": "pwgoYTORNPp4"
      },
      "source": [
        "# 배열 연산\n",
        "\n",
        "### 산술 연산"
      ]
    },
    {
      "cell_type": "code",
      "metadata": {
        "id": "lvHk_T2dNSHc"
      },
      "source": [
        "a = np.arange(1, 10).reshape((3, 3))\n",
        "b = np.arange(9, 0, -1).reshape((3, 3))"
      ],
      "execution_count": 3,
      "outputs": []
    },
    {
      "cell_type": "code",
      "metadata": {
        "colab": {
          "base_uri": "https://localhost:8080/"
        },
        "id": "rDKhwBGINe5L",
        "outputId": "5ab026c2-15eb-4082-f6b8-c2e54eb41571"
      },
      "source": [
        "asprint(a)\n",
        "print()\n",
        "asprint(b)"
      ],
      "execution_count": 4,
      "outputs": [
        {
          "output_type": "stream",
          "text": [
            "type : <class 'numpy.ndarray'>\n",
            "shape : (3, 3)\tdimension = 2\n",
            "dtype : int64 \n",
            "\n",
            "Array's data : \n",
            "[[1 2 3]\n",
            " [4 5 6]\n",
            " [7 8 9]]\n",
            "\n",
            "type : <class 'numpy.ndarray'>\n",
            "shape : (3, 3)\tdimension = 2\n",
            "dtype : int64 \n",
            "\n",
            "Array's data : \n",
            "[[9 8 7]\n",
            " [6 5 4]\n",
            " [3 2 1]]\n"
          ],
          "name": "stdout"
        }
      ]
    },
    {
      "cell_type": "markdown",
      "metadata": {
        "id": "OCtTS3sxNh-L"
      },
      "source": [
        "### 사칙연산"
      ]
    },
    {
      "cell_type": "code",
      "metadata": {
        "colab": {
          "base_uri": "https://localhost:8080/"
        },
        "id": "ByKNf5GIOBul",
        "outputId": "875eebf8-5734-463d-e3eb-71679db9a7fd"
      },
      "source": [
        "a + b"
      ],
      "execution_count": 5,
      "outputs": [
        {
          "output_type": "execute_result",
          "data": {
            "text/plain": [
              "array([[10, 10, 10],\n",
              "       [10, 10, 10],\n",
              "       [10, 10, 10]])"
            ]
          },
          "metadata": {
            "tags": []
          },
          "execution_count": 5
        }
      ]
    },
    {
      "cell_type": "code",
      "metadata": {
        "colab": {
          "base_uri": "https://localhost:8080/"
        },
        "id": "rKMUjwL-OC--",
        "outputId": "d574bd04-e7ca-43a0-cff5-b34bc1c279be"
      },
      "source": [
        "a - b"
      ],
      "execution_count": 6,
      "outputs": [
        {
          "output_type": "execute_result",
          "data": {
            "text/plain": [
              "array([[-8, -6, -4],\n",
              "       [-2,  0,  2],\n",
              "       [ 4,  6,  8]])"
            ]
          },
          "metadata": {
            "tags": []
          },
          "execution_count": 6
        }
      ]
    },
    {
      "cell_type": "code",
      "metadata": {
        "colab": {
          "base_uri": "https://localhost:8080/"
        },
        "id": "DnwC8SiHOFDN",
        "outputId": "7f493395-f161-4ca4-c258-a28b76630fda"
      },
      "source": [
        "a * b"
      ],
      "execution_count": 7,
      "outputs": [
        {
          "output_type": "execute_result",
          "data": {
            "text/plain": [
              "array([[ 9, 16, 21],\n",
              "       [24, 25, 24],\n",
              "       [21, 16,  9]])"
            ]
          },
          "metadata": {
            "tags": []
          },
          "execution_count": 7
        }
      ]
    },
    {
      "cell_type": "code",
      "metadata": {
        "colab": {
          "base_uri": "https://localhost:8080/"
        },
        "id": "awNmzXILOGQV",
        "outputId": "3726a208-4486-4e87-bf6c-afda5c7c60da"
      },
      "source": [
        "a / b"
      ],
      "execution_count": 8,
      "outputs": [
        {
          "output_type": "execute_result",
          "data": {
            "text/plain": [
              "array([[0.11111111, 0.25      , 0.42857143],\n",
              "       [0.66666667, 1.        , 1.5       ],\n",
              "       [2.33333333, 4.        , 9.        ]])"
            ]
          },
          "metadata": {
            "tags": []
          },
          "execution_count": 8
        }
      ]
    },
    {
      "cell_type": "code",
      "metadata": {
        "colab": {
          "base_uri": "https://localhost:8080/"
        },
        "id": "2AFTcXWMOHMR",
        "outputId": "125135cc-f8af-4222-b8e7-4c8d053c85db"
      },
      "source": [
        "np.add(a, b)"
      ],
      "execution_count": 9,
      "outputs": [
        {
          "output_type": "execute_result",
          "data": {
            "text/plain": [
              "array([[10, 10, 10],\n",
              "       [10, 10, 10],\n",
              "       [10, 10, 10]])"
            ]
          },
          "metadata": {
            "tags": []
          },
          "execution_count": 9
        }
      ]
    },
    {
      "cell_type": "code",
      "metadata": {
        "colab": {
          "base_uri": "https://localhost:8080/"
        },
        "id": "R0DQjmvsOJj6",
        "outputId": "ad5abc44-7fd5-4f36-9b55-958efaf71674"
      },
      "source": [
        "np.subtract(a, b)"
      ],
      "execution_count": 10,
      "outputs": [
        {
          "output_type": "execute_result",
          "data": {
            "text/plain": [
              "array([[-8, -6, -4],\n",
              "       [-2,  0,  2],\n",
              "       [ 4,  6,  8]])"
            ]
          },
          "metadata": {
            "tags": []
          },
          "execution_count": 10
        }
      ]
    },
    {
      "cell_type": "code",
      "metadata": {
        "colab": {
          "base_uri": "https://localhost:8080/"
        },
        "id": "UD_ETr5lOLoF",
        "outputId": "3fb87a33-9ca8-44b9-c4ad-db535f328b08"
      },
      "source": [
        "np.multiply(a, b)"
      ],
      "execution_count": 11,
      "outputs": [
        {
          "output_type": "execute_result",
          "data": {
            "text/plain": [
              "array([[ 9, 16, 21],\n",
              "       [24, 25, 24],\n",
              "       [21, 16,  9]])"
            ]
          },
          "metadata": {
            "tags": []
          },
          "execution_count": 11
        }
      ]
    },
    {
      "cell_type": "code",
      "metadata": {
        "colab": {
          "base_uri": "https://localhost:8080/"
        },
        "id": "CrZvQ207ONgt",
        "outputId": "b2b98131-e485-417d-a19d-a9d4463b055c"
      },
      "source": [
        "np.divide(a, b)"
      ],
      "execution_count": 12,
      "outputs": [
        {
          "output_type": "execute_result",
          "data": {
            "text/plain": [
              "array([[0.11111111, 0.25      , 0.42857143],\n",
              "       [0.66666667, 1.        , 1.5       ],\n",
              "       [2.33333333, 4.        , 9.        ]])"
            ]
          },
          "metadata": {
            "tags": []
          },
          "execution_count": 12
        }
      ]
    },
    {
      "cell_type": "markdown",
      "metadata": {
        "id": "NjYjdGtUOP3S"
      },
      "source": [
        "### 산술연산"
      ]
    },
    {
      "cell_type": "code",
      "metadata": {
        "colab": {
          "base_uri": "https://localhost:8080/"
        },
        "id": "lAnHg_JVOe6N",
        "outputId": "d35a19c2-f6a6-4a0d-8598-07f5f5f4678a"
      },
      "source": [
        "# 제곱근\n",
        "np.sqrt(a)"
      ],
      "execution_count": 13,
      "outputs": [
        {
          "output_type": "execute_result",
          "data": {
            "text/plain": [
              "array([[1.        , 1.41421356, 1.73205081],\n",
              "       [2.        , 2.23606798, 2.44948974],\n",
              "       [2.64575131, 2.82842712, 3.        ]])"
            ]
          },
          "metadata": {
            "tags": []
          },
          "execution_count": 13
        }
      ]
    },
    {
      "cell_type": "code",
      "metadata": {
        "colab": {
          "base_uri": "https://localhost:8080/"
        },
        "id": "JFmrKP-TSPwF",
        "outputId": "62340a56-3122-4562-ebd2-7c5a07a8f673"
      },
      "source": [
        "# sin\n",
        "np.sin(a)"
      ],
      "execution_count": 14,
      "outputs": [
        {
          "output_type": "execute_result",
          "data": {
            "text/plain": [
              "array([[ 0.84147098,  0.90929743,  0.14112001],\n",
              "       [-0.7568025 , -0.95892427, -0.2794155 ],\n",
              "       [ 0.6569866 ,  0.98935825,  0.41211849]])"
            ]
          },
          "metadata": {
            "tags": []
          },
          "execution_count": 14
        }
      ]
    },
    {
      "cell_type": "code",
      "metadata": {
        "colab": {
          "base_uri": "https://localhost:8080/"
        },
        "id": "PhCZiXd8SR0k",
        "outputId": "29339dc8-acbd-426c-e4d9-5aae07946e48"
      },
      "source": [
        "# cos\n",
        "np.cos(a)"
      ],
      "execution_count": 15,
      "outputs": [
        {
          "output_type": "execute_result",
          "data": {
            "text/plain": [
              "array([[ 0.54030231, -0.41614684, -0.9899925 ],\n",
              "       [-0.65364362,  0.28366219,  0.96017029],\n",
              "       [ 0.75390225, -0.14550003, -0.91113026]])"
            ]
          },
          "metadata": {
            "tags": []
          },
          "execution_count": 15
        }
      ]
    },
    {
      "cell_type": "code",
      "metadata": {
        "colab": {
          "base_uri": "https://localhost:8080/"
        },
        "id": "p4WhLs6oSTvb",
        "outputId": "c8727ea8-8222-4c56-94f0-4599309a8618"
      },
      "source": [
        "# tan\n",
        "np.tan(a)"
      ],
      "execution_count": 16,
      "outputs": [
        {
          "output_type": "execute_result",
          "data": {
            "text/plain": [
              "array([[ 1.55740772, -2.18503986, -0.14254654],\n",
              "       [ 1.15782128, -3.38051501, -0.29100619],\n",
              "       [ 0.87144798, -6.79971146, -0.45231566]])"
            ]
          },
          "metadata": {
            "tags": []
          },
          "execution_count": 16
        }
      ]
    },
    {
      "cell_type": "code",
      "metadata": {
        "colab": {
          "base_uri": "https://localhost:8080/"
        },
        "id": "wQvAnZqYSVae",
        "outputId": "4e92f904-b9e4-426b-fe39-85e1e6283346"
      },
      "source": [
        "# log\n",
        "np.log(a)"
      ],
      "execution_count": 17,
      "outputs": [
        {
          "output_type": "execute_result",
          "data": {
            "text/plain": [
              "array([[0.        , 0.69314718, 1.09861229],\n",
              "       [1.38629436, 1.60943791, 1.79175947],\n",
              "       [1.94591015, 2.07944154, 2.19722458]])"
            ]
          },
          "metadata": {
            "tags": []
          },
          "execution_count": 17
        }
      ]
    },
    {
      "cell_type": "code",
      "metadata": {
        "colab": {
          "base_uri": "https://localhost:8080/"
        },
        "id": "_OHl17duSVmh",
        "outputId": "6e18f13a-92ca-4afe-fdc4-5ce862881e91"
      },
      "source": [
        "# dot product(내적)\n",
        "np.dot(a, b)"
      ],
      "execution_count": 18,
      "outputs": [
        {
          "output_type": "execute_result",
          "data": {
            "text/plain": [
              "array([[ 30,  24,  18],\n",
              "       [ 84,  69,  54],\n",
              "       [138, 114,  90]])"
            ]
          },
          "metadata": {
            "tags": []
          },
          "execution_count": 18
        }
      ]
    },
    {
      "cell_type": "code",
      "metadata": {
        "colab": {
          "base_uri": "https://localhost:8080/"
        },
        "id": "mPtODUJeSckr",
        "outputId": "56cf1c28-2f7a-4ca5-9b44-c7c9536399f6"
      },
      "source": [
        "# 지수\n",
        "np.exp(a)"
      ],
      "execution_count": 19,
      "outputs": [
        {
          "output_type": "execute_result",
          "data": {
            "text/plain": [
              "array([[2.71828183e+00, 7.38905610e+00, 2.00855369e+01],\n",
              "       [5.45981500e+01, 1.48413159e+02, 4.03428793e+02],\n",
              "       [1.09663316e+03, 2.98095799e+03, 8.10308393e+03]])"
            ]
          },
          "metadata": {
            "tags": []
          },
          "execution_count": 19
        }
      ]
    },
    {
      "cell_type": "markdown",
      "metadata": {
        "id": "9KEk94mMSmI-"
      },
      "source": [
        "### 비교 연산"
      ]
    },
    {
      "cell_type": "code",
      "metadata": {
        "colab": {
          "base_uri": "https://localhost:8080/"
        },
        "id": "_Cr-oEA-SVt0",
        "outputId": "af9db63b-99da-4bd0-ddd8-3e0cb2890389"
      },
      "source": [
        "a == b"
      ],
      "execution_count": 20,
      "outputs": [
        {
          "output_type": "execute_result",
          "data": {
            "text/plain": [
              "array([[False, False, False],\n",
              "       [False,  True, False],\n",
              "       [False, False, False]])"
            ]
          },
          "metadata": {
            "tags": []
          },
          "execution_count": 20
        }
      ]
    },
    {
      "cell_type": "code",
      "metadata": {
        "colab": {
          "base_uri": "https://localhost:8080/"
        },
        "id": "78AR7dekUxMD",
        "outputId": "8d71aaee-d53a-419b-f827-34f74c2540d8"
      },
      "source": [
        "a[a == b]   # boolean indexing"
      ],
      "execution_count": 21,
      "outputs": [
        {
          "output_type": "execute_result",
          "data": {
            "text/plain": [
              "array([5])"
            ]
          },
          "metadata": {
            "tags": []
          },
          "execution_count": 21
        }
      ]
    },
    {
      "cell_type": "code",
      "metadata": {
        "colab": {
          "base_uri": "https://localhost:8080/"
        },
        "id": "gw4TQfFuUD3C",
        "outputId": "c3342025-b1f5-4aaf-b3f2-21ea71247b55"
      },
      "source": [
        "a > b"
      ],
      "execution_count": 22,
      "outputs": [
        {
          "output_type": "execute_result",
          "data": {
            "text/plain": [
              "array([[False, False, False],\n",
              "       [False, False,  True],\n",
              "       [ True,  True,  True]])"
            ]
          },
          "metadata": {
            "tags": []
          },
          "execution_count": 22
        }
      ]
    },
    {
      "cell_type": "code",
      "metadata": {
        "colab": {
          "base_uri": "https://localhost:8080/"
        },
        "id": "8oujV0pTU84m",
        "outputId": "fe21781c-142d-4c54-a608-2d260ce52a72"
      },
      "source": [
        "a[a > b]"
      ],
      "execution_count": 23,
      "outputs": [
        {
          "output_type": "execute_result",
          "data": {
            "text/plain": [
              "array([6, 7, 8, 9])"
            ]
          },
          "metadata": {
            "tags": []
          },
          "execution_count": 23
        }
      ]
    },
    {
      "cell_type": "code",
      "metadata": {
        "colab": {
          "base_uri": "https://localhost:8080/"
        },
        "id": "NI0-VrIbUE52",
        "outputId": "c64f4272-9af0-4eca-ea52-6d195cd53d63"
      },
      "source": [
        "np.array_equal(a, b)"
      ],
      "execution_count": 24,
      "outputs": [
        {
          "output_type": "execute_result",
          "data": {
            "text/plain": [
              "False"
            ]
          },
          "metadata": {
            "tags": []
          },
          "execution_count": 24
        }
      ]
    },
    {
      "cell_type": "code",
      "metadata": {
        "colab": {
          "base_uri": "https://localhost:8080/"
        },
        "id": "kAW2L_S7UHJn",
        "outputId": "69654d21-73fd-412b-fb2b-60b16395dfc9"
      },
      "source": [
        "np.array_equal(a, a)"
      ],
      "execution_count": 25,
      "outputs": [
        {
          "output_type": "execute_result",
          "data": {
            "text/plain": [
              "True"
            ]
          },
          "metadata": {
            "tags": []
          },
          "execution_count": 25
        }
      ]
    },
    {
      "cell_type": "markdown",
      "metadata": {
        "id": "Wwv8vg5YUJ7x"
      },
      "source": [
        "### 집계 함수"
      ]
    },
    {
      "cell_type": "code",
      "metadata": {
        "colab": {
          "base_uri": "https://localhost:8080/"
        },
        "id": "rKbz8NhxUKVW",
        "outputId": "4944db54-a205-442e-c36e-4675cffab766"
      },
      "source": [
        "# 합계 : sum() method, numpy.sum()\n",
        "# axis = None : 전체 대상 합계 계산\n",
        "a.sum(), np.sum(a)"
      ],
      "execution_count": 26,
      "outputs": [
        {
          "output_type": "execute_result",
          "data": {
            "text/plain": [
              "(45, 45)"
            ]
          },
          "metadata": {
            "tags": []
          },
          "execution_count": 26
        }
      ]
    },
    {
      "cell_type": "code",
      "metadata": {
        "colab": {
          "base_uri": "https://localhost:8080/"
        },
        "id": "FvUEqjgqUKbW",
        "outputId": "d1fde28f-8675-4989-95e3-8c1e162c11db"
      },
      "source": [
        "# axis = 0 : 행방향 합계 계산\n",
        "a.sum(axis=0), np.sum(a, axis=0)"
      ],
      "execution_count": 27,
      "outputs": [
        {
          "output_type": "execute_result",
          "data": {
            "text/plain": [
              "(array([12, 15, 18]), array([12, 15, 18]))"
            ]
          },
          "metadata": {
            "tags": []
          },
          "execution_count": 27
        }
      ]
    },
    {
      "cell_type": "code",
      "metadata": {
        "colab": {
          "base_uri": "https://localhost:8080/"
        },
        "id": "u_a4zDJbXYvv",
        "outputId": "92c02149-2caa-4a66-cb25-ae2eee963b40"
      },
      "source": [
        "# axis = 1 : 열방향 합계 계산\n",
        "a.sum(axis=1), np.sum(a, axis=1)"
      ],
      "execution_count": 28,
      "outputs": [
        {
          "output_type": "execute_result",
          "data": {
            "text/plain": [
              "(array([ 6, 15, 24]), array([ 6, 15, 24]))"
            ]
          },
          "metadata": {
            "tags": []
          },
          "execution_count": 28
        }
      ]
    },
    {
      "cell_type": "code",
      "metadata": {
        "colab": {
          "base_uri": "https://localhost:8080/"
        },
        "id": "dkm7b6u5XdKG",
        "outputId": "ea0cc5a8-6470-450a-e669-36ec1c91614f"
      },
      "source": [
        "# 평균 : mean() method, numpy.mean()\n",
        "a.mean(), np.mean(a)"
      ],
      "execution_count": 29,
      "outputs": [
        {
          "output_type": "execute_result",
          "data": {
            "text/plain": [
              "(5.0, 5.0)"
            ]
          },
          "metadata": {
            "tags": []
          },
          "execution_count": 29
        }
      ]
    },
    {
      "cell_type": "code",
      "metadata": {
        "colab": {
          "base_uri": "https://localhost:8080/"
        },
        "id": "dEzh05ZcYGhy",
        "outputId": "e3ea61d3-e31a-4107-bfe1-5425c29a48f8"
      },
      "source": [
        "# 행방향\n",
        "a.mean(axis=0), np.mean(a, axis=0)"
      ],
      "execution_count": 30,
      "outputs": [
        {
          "output_type": "execute_result",
          "data": {
            "text/plain": [
              "(array([4., 5., 6.]), array([4., 5., 6.]))"
            ]
          },
          "metadata": {
            "tags": []
          },
          "execution_count": 30
        }
      ]
    },
    {
      "cell_type": "code",
      "metadata": {
        "colab": {
          "base_uri": "https://localhost:8080/"
        },
        "id": "0jvyQLqqYLBW",
        "outputId": "bd14cdfd-ec82-43c5-e15e-68df1b2cd850"
      },
      "source": [
        "# 열방향\n",
        "a.mean(axis=1), np.mean(a, axis=1)"
      ],
      "execution_count": 31,
      "outputs": [
        {
          "output_type": "execute_result",
          "data": {
            "text/plain": [
              "(array([2., 5., 8.]), array([2., 5., 8.]))"
            ]
          },
          "metadata": {
            "tags": []
          },
          "execution_count": 31
        }
      ]
    },
    {
      "cell_type": "code",
      "metadata": {
        "colab": {
          "base_uri": "https://localhost:8080/"
        },
        "id": "dMYbJ8ycYQUT",
        "outputId": "008d766d-5d51-42c1-e1dc-da03b6117c18"
      },
      "source": [
        "# 중앙값 : numpy.median()\n",
        "print(np.median(a))\n",
        "print(np.median(a, axis=0))\n",
        "print(np.median(a, axis=1))"
      ],
      "execution_count": 32,
      "outputs": [
        {
          "output_type": "stream",
          "text": [
            "5.0\n",
            "[4. 5. 6.]\n",
            "[2. 5. 8.]\n"
          ],
          "name": "stdout"
        }
      ]
    },
    {
      "cell_type": "code",
      "metadata": {
        "colab": {
          "base_uri": "https://localhost:8080/"
        },
        "id": "lnU_Zi6RZXYa",
        "outputId": "ce72b72d-c5e3-482f-99d5-9461808311d7"
      },
      "source": [
        "# 최대값 : max() method, numpy.max()\n",
        "a.max(), np.max(a)"
      ],
      "execution_count": 33,
      "outputs": [
        {
          "output_type": "execute_result",
          "data": {
            "text/plain": [
              "(9, 9)"
            ]
          },
          "metadata": {
            "tags": []
          },
          "execution_count": 33
        }
      ]
    },
    {
      "cell_type": "code",
      "metadata": {
        "colab": {
          "base_uri": "https://localhost:8080/"
        },
        "id": "XyiHM-3cZdci",
        "outputId": "b4e780d8-d49d-4c22-e7f4-d45c2709a089"
      },
      "source": [
        "a.max(axis=0), np.max(a, axis=0)"
      ],
      "execution_count": 34,
      "outputs": [
        {
          "output_type": "execute_result",
          "data": {
            "text/plain": [
              "(array([7, 8, 9]), array([7, 8, 9]))"
            ]
          },
          "metadata": {
            "tags": []
          },
          "execution_count": 34
        }
      ]
    },
    {
      "cell_type": "code",
      "metadata": {
        "colab": {
          "base_uri": "https://localhost:8080/"
        },
        "id": "mic2BA-UZh1D",
        "outputId": "a3b85c5e-e1ec-4d30-e95b-ed5b2dc9f1b0"
      },
      "source": [
        "a.max(axis=1), np.max(a, axis=1)"
      ],
      "execution_count": 35,
      "outputs": [
        {
          "output_type": "execute_result",
          "data": {
            "text/plain": [
              "(array([3, 6, 9]), array([3, 6, 9]))"
            ]
          },
          "metadata": {
            "tags": []
          },
          "execution_count": 35
        }
      ]
    },
    {
      "cell_type": "code",
      "metadata": {
        "colab": {
          "base_uri": "https://localhost:8080/"
        },
        "id": "Tz9pjnG6ZjST",
        "outputId": "2b3fd43c-0545-4d3b-cd1d-eecdefde0600"
      },
      "source": [
        "# 최소값 : min() method, numpy.min()\n",
        "a.min(), np.min(a)"
      ],
      "execution_count": 36,
      "outputs": [
        {
          "output_type": "execute_result",
          "data": {
            "text/plain": [
              "(1, 1)"
            ]
          },
          "metadata": {
            "tags": []
          },
          "execution_count": 36
        }
      ]
    },
    {
      "cell_type": "code",
      "metadata": {
        "colab": {
          "base_uri": "https://localhost:8080/"
        },
        "id": "D3kf9C3iZqKn",
        "outputId": "dd4e9f23-b3b1-456c-cc31-bb2c4e5b54ab"
      },
      "source": [
        "a.min(axis=0), np.min(a, axis=0)"
      ],
      "execution_count": 37,
      "outputs": [
        {
          "output_type": "execute_result",
          "data": {
            "text/plain": [
              "(array([1, 2, 3]), array([1, 2, 3]))"
            ]
          },
          "metadata": {
            "tags": []
          },
          "execution_count": 37
        }
      ]
    },
    {
      "cell_type": "code",
      "metadata": {
        "colab": {
          "base_uri": "https://localhost:8080/"
        },
        "id": "z2K3YQLEZuLY",
        "outputId": "61eff249-8d08-4efb-a433-8fe529ee9e02"
      },
      "source": [
        "a.min(axis=1), np.min(a, axis=1)"
      ],
      "execution_count": 38,
      "outputs": [
        {
          "output_type": "execute_result",
          "data": {
            "text/plain": [
              "(array([1, 4, 7]), array([1, 4, 7]))"
            ]
          },
          "metadata": {
            "tags": []
          },
          "execution_count": 38
        }
      ]
    },
    {
      "cell_type": "code",
      "metadata": {
        "colab": {
          "base_uri": "https://localhost:8080/"
        },
        "id": "0TnQwoqDZvif",
        "outputId": "3f13c149-b3b6-4e1e-bc08-6101d5999aab"
      },
      "source": [
        "# 누적합 : cumsum() method, numpy.cumsum()\n",
        "a.cumsum(), np.cumsum(a)"
      ],
      "execution_count": 39,
      "outputs": [
        {
          "output_type": "execute_result",
          "data": {
            "text/plain": [
              "(array([ 1,  3,  6, 10, 15, 21, 28, 36, 45]),\n",
              " array([ 1,  3,  6, 10, 15, 21, 28, 36, 45]))"
            ]
          },
          "metadata": {
            "tags": []
          },
          "execution_count": 39
        }
      ]
    },
    {
      "cell_type": "code",
      "metadata": {
        "colab": {
          "base_uri": "https://localhost:8080/"
        },
        "id": "sf6AXffaZ213",
        "outputId": "f801a634-959e-4e4f-e57f-49543486064b"
      },
      "source": [
        "a.cumsum(axis=0), np.cumsum(a, axis=0)"
      ],
      "execution_count": 40,
      "outputs": [
        {
          "output_type": "execute_result",
          "data": {
            "text/plain": [
              "(array([[ 1,  2,  3],\n",
              "        [ 5,  7,  9],\n",
              "        [12, 15, 18]]), array([[ 1,  2,  3],\n",
              "        [ 5,  7,  9],\n",
              "        [12, 15, 18]]))"
            ]
          },
          "metadata": {
            "tags": []
          },
          "execution_count": 40
        }
      ]
    },
    {
      "cell_type": "code",
      "metadata": {
        "colab": {
          "base_uri": "https://localhost:8080/"
        },
        "id": "6BQhsH8qZ8Ux",
        "outputId": "f8370057-4063-45ef-a5a1-99ced335c5aa"
      },
      "source": [
        "a.cumsum(axis=1), np.cumsum(a, axis=1)"
      ],
      "execution_count": 41,
      "outputs": [
        {
          "output_type": "execute_result",
          "data": {
            "text/plain": [
              "(array([[ 1,  3,  6],\n",
              "        [ 4,  9, 15],\n",
              "        [ 7, 15, 24]]), array([[ 1,  3,  6],\n",
              "        [ 4,  9, 15],\n",
              "        [ 7, 15, 24]]))"
            ]
          },
          "metadata": {
            "tags": []
          },
          "execution_count": 41
        }
      ]
    },
    {
      "cell_type": "code",
      "metadata": {
        "colab": {
          "base_uri": "https://localhost:8080/"
        },
        "id": "vYu3Dym-Z9sf",
        "outputId": "b7d32709-5080-470f-b833-301d29b7e97e"
      },
      "source": [
        "# 상관 계수(correlation coeficient) : -1 ~ 1\n",
        "np.corrcoef(a)"
      ],
      "execution_count": 42,
      "outputs": [
        {
          "output_type": "execute_result",
          "data": {
            "text/plain": [
              "array([[1., 1., 1.],\n",
              "       [1., 1., 1.],\n",
              "       [1., 1., 1.]])"
            ]
          },
          "metadata": {
            "tags": []
          },
          "execution_count": 42
        }
      ]
    },
    {
      "cell_type": "code",
      "metadata": {
        "colab": {
          "base_uri": "https://localhost:8080/"
        },
        "id": "E6GANVLFat-B",
        "outputId": "dde47d80-49d9-4f0c-87e0-c83ee40c00c3"
      },
      "source": [
        "# 표준 편차 : std() method, numpy.std()\n",
        "a.std(), np.std(a)"
      ],
      "execution_count": 43,
      "outputs": [
        {
          "output_type": "execute_result",
          "data": {
            "text/plain": [
              "(2.581988897471611, 2.581988897471611)"
            ]
          },
          "metadata": {
            "tags": []
          },
          "execution_count": 43
        }
      ]
    },
    {
      "cell_type": "code",
      "metadata": {
        "colab": {
          "base_uri": "https://localhost:8080/"
        },
        "id": "8oiKoFw-a8ud",
        "outputId": "d1730764-b5cb-415b-a7ea-b5e9b44b0a89"
      },
      "source": [
        "a.std(axis=0), np.std(a, axis=0)"
      ],
      "execution_count": 44,
      "outputs": [
        {
          "output_type": "execute_result",
          "data": {
            "text/plain": [
              "(array([2.44948974, 2.44948974, 2.44948974]),\n",
              " array([2.44948974, 2.44948974, 2.44948974]))"
            ]
          },
          "metadata": {
            "tags": []
          },
          "execution_count": 44
        }
      ]
    },
    {
      "cell_type": "code",
      "metadata": {
        "colab": {
          "base_uri": "https://localhost:8080/"
        },
        "id": "5ShjnJEJbBmE",
        "outputId": "d2784c8d-3075-47f9-9806-cbd074e191fb"
      },
      "source": [
        "a.std(axis=1), np.std(a, axis=1)"
      ],
      "execution_count": 45,
      "outputs": [
        {
          "output_type": "execute_result",
          "data": {
            "text/plain": [
              "(array([0.81649658, 0.81649658, 0.81649658]),\n",
              " array([0.81649658, 0.81649658, 0.81649658]))"
            ]
          },
          "metadata": {
            "tags": []
          },
          "execution_count": 45
        }
      ]
    },
    {
      "cell_type": "code",
      "metadata": {
        "colab": {
          "base_uri": "https://localhost:8080/"
        },
        "id": "TjxWATOubEGi",
        "outputId": "5dc71846-d77c-4fcd-c080-654e97670aa5"
      },
      "source": [
        "# 분산 : var() method, numpy.var()\n",
        "a.var(), np.var(a)"
      ],
      "execution_count": 46,
      "outputs": [
        {
          "output_type": "execute_result",
          "data": {
            "text/plain": [
              "(6.666666666666667, 6.666666666666667)"
            ]
          },
          "metadata": {
            "tags": []
          },
          "execution_count": 46
        }
      ]
    },
    {
      "cell_type": "code",
      "metadata": {
        "colab": {
          "base_uri": "https://localhost:8080/"
        },
        "id": "gfGqDteUbouN",
        "outputId": "c8ee6121-2c43-4945-b17c-30284bfd89de"
      },
      "source": [
        "a.var(axis=0), np.var(a, axis=0)"
      ],
      "execution_count": 47,
      "outputs": [
        {
          "output_type": "execute_result",
          "data": {
            "text/plain": [
              "(array([6., 6., 6.]), array([6., 6., 6.]))"
            ]
          },
          "metadata": {
            "tags": []
          },
          "execution_count": 47
        }
      ]
    },
    {
      "cell_type": "code",
      "metadata": {
        "colab": {
          "base_uri": "https://localhost:8080/"
        },
        "id": "EoFImNQvbsU1",
        "outputId": "fb6176e0-a5a1-4bdb-d467-3d0906c89c34"
      },
      "source": [
        "a.var(axis=1), np.var(a, axis=1)"
      ],
      "execution_count": 48,
      "outputs": [
        {
          "output_type": "execute_result",
          "data": {
            "text/plain": [
              "(array([0.66666667, 0.66666667, 0.66666667]),\n",
              " array([0.66666667, 0.66666667, 0.66666667]))"
            ]
          },
          "metadata": {
            "tags": []
          },
          "execution_count": 48
        }
      ]
    },
    {
      "cell_type": "code",
      "metadata": {
        "colab": {
          "base_uri": "https://localhost:8080/"
        },
        "id": "uRc1atfzbtrk",
        "outputId": "c76f5373-07f2-4925-bcb2-90f914030ea7"
      },
      "source": [
        "# 최대값 인덱스 : numpy.argmax()\n",
        "np.argmax(a), np.argmax(b)"
      ],
      "execution_count": 49,
      "outputs": [
        {
          "output_type": "execute_result",
          "data": {
            "text/plain": [
              "(8, 0)"
            ]
          },
          "metadata": {
            "tags": []
          },
          "execution_count": 49
        }
      ]
    },
    {
      "cell_type": "code",
      "metadata": {
        "colab": {
          "base_uri": "https://localhost:8080/"
        },
        "id": "pf3byYPxb_SS",
        "outputId": "5cfc58e8-fc6f-4631-9c67-17f3d945568f"
      },
      "source": [
        "# 최소값 인덱스 : numpy.argmin()\n",
        "np.argmin(a), np.argmin(b)"
      ],
      "execution_count": 50,
      "outputs": [
        {
          "output_type": "execute_result",
          "data": {
            "text/plain": [
              "(0, 8)"
            ]
          },
          "metadata": {
            "tags": []
          },
          "execution_count": 50
        }
      ]
    },
    {
      "cell_type": "code",
      "metadata": {
        "colab": {
          "base_uri": "https://localhost:8080/"
        },
        "id": "LetUlXJMcLlX",
        "outputId": "2aecac2f-46cd-4127-dcb6-f2d5002da24b"
      },
      "source": [
        "# 사분위수 : numpy.percentile()\n",
        "\n",
        "# 1사분위수 : 하위 25% 값\n",
        "# 2사분위수 : 하위 50% 값 == 중앙값\n",
        "# 3사분위수 : 하위 75% 값\n",
        "print(f'1사분위수 : {np.percentile(a, 25)}')\n",
        "print(f'2사분위수 : {np.percentile(a, 50)}')\n",
        "print(f'3사분위수 : {np.percentile(a, 75)}')"
      ],
      "execution_count": 51,
      "outputs": [
        {
          "output_type": "stream",
          "text": [
            "1사분위수 : 3.0\n",
            "2사분위수 : 5.0\n",
            "3사분위수 : 7.0\n"
          ],
          "name": "stdout"
        }
      ]
    },
    {
      "cell_type": "code",
      "metadata": {
        "colab": {
          "base_uri": "https://localhost:8080/"
        },
        "id": "ei7CLgxbgM6Q",
        "outputId": "90743a73-861f-4130-8ddc-7967ba323ac9"
      },
      "source": [
        "print(f'최소값 : {a.min()}')\n",
        "print(f'1사분위수 : {np.percentile(a, 25)}')\n",
        "print(f'2사분위수 : {np.percentile(a, 50)}')\n",
        "print(f'3사분위수 : {np.percentile(a, 75)}')\n",
        "print(f'최대값 : {a.max()}')"
      ],
      "execution_count": 52,
      "outputs": [
        {
          "output_type": "stream",
          "text": [
            "최소값 : 1\n",
            "1사분위수 : 3.0\n",
            "2사분위수 : 5.0\n",
            "3사분위수 : 7.0\n",
            "최대값 : 9\n"
          ],
          "name": "stdout"
        }
      ]
    },
    {
      "cell_type": "markdown",
      "metadata": {
        "id": "4bg-VadegdlH"
      },
      "source": [
        "# NumPy를 이용한 탐색적 데이터 분석(EDA 실습)\n",
        "\n",
        "### 문제 정의 ) 미국 역대 대통령 신장 데이터를 통한 EDA"
      ]
    },
    {
      "cell_type": "markdown",
      "metadata": {
        "id": "2UoKqrUEh2qv"
      },
      "source": [
        "#### 0. Colab에서 파일 읽기 준비"
      ]
    },
    {
      "cell_type": "code",
      "metadata": {
        "colab": {
          "base_uri": "https://localhost:8080/"
        },
        "id": "Ube2kJc5h-bs",
        "outputId": "b3b8f753-2477-4b4d-b8c0-b4fcdb087ddf"
      },
      "source": [
        "from google.colab import drive\n",
        "drive.mount('/drive')"
      ],
      "execution_count": 53,
      "outputs": [
        {
          "output_type": "stream",
          "text": [
            "Mounted at /drive\n"
          ],
          "name": "stdout"
        }
      ]
    },
    {
      "cell_type": "markdown",
      "metadata": {
        "id": "M_-Ofns-hj8S"
      },
      "source": [
        "#### 1. 데이터 저장을 위한 list 생성"
      ]
    },
    {
      "cell_type": "code",
      "metadata": {
        "id": "wTx4HGPRhp4m"
      },
      "source": [
        "orders = []\n",
        "names = []\n",
        "heights = []"
      ],
      "execution_count": 54,
      "outputs": []
    },
    {
      "cell_type": "markdown",
      "metadata": {
        "id": "Hj1lSBwQklmX"
      },
      "source": [
        "#### 2. 데이터 읽기"
      ]
    },
    {
      "cell_type": "code",
      "metadata": {
        "id": "87YoD6YUizHO"
      },
      "source": [
        "with open('/drive/MyDrive/Colab/AI1_Ouseoung_Lee/president_heights.csv') as f:\n",
        "    lines = f.readline()    # 제목줄 읽기\n",
        "\n",
        "    # 실제 데이터 처리\n",
        "    lines = f.readline()\n",
        "    while lines:\n",
        "        data = lines.split(',')\n",
        "\n",
        "        orders.append(data[0])\n",
        "        names.append(data[1])\n",
        "        heights.append(int(data[2][:3]))\n",
        "\n",
        "        lines = f.readline()"
      ],
      "execution_count": 55,
      "outputs": []
    },
    {
      "cell_type": "markdown",
      "metadata": {
        "id": "NA19HwoejYnv"
      },
      "source": [
        "#### 3. 읽어들인 데이터 확인(처음 5개, 마지막 5개 데이터 확인)"
      ]
    },
    {
      "cell_type": "code",
      "metadata": {
        "colab": {
          "base_uri": "https://localhost:8080/"
        },
        "id": "9bh7iWdrkseS",
        "outputId": "eb4392a8-ef41-43a8-edd5-332b6ecb4a73"
      },
      "source": [
        "orders[:5], orders[len(orders) - 5:]"
      ],
      "execution_count": 56,
      "outputs": [
        {
          "output_type": "execute_result",
          "data": {
            "text/plain": [
              "(['1', '2', '3', '4', '5'], ['40', '41', '42', '43', '44'])"
            ]
          },
          "metadata": {
            "tags": []
          },
          "execution_count": 56
        }
      ]
    },
    {
      "cell_type": "code",
      "metadata": {
        "colab": {
          "base_uri": "https://localhost:8080/"
        },
        "id": "1EhKo-mCk5Y1",
        "outputId": "510efd6a-32cc-4913-9e8e-ddd09525ce24"
      },
      "source": [
        "names[:5], names[len(names) - 5:]"
      ],
      "execution_count": 57,
      "outputs": [
        {
          "output_type": "execute_result",
          "data": {
            "text/plain": [
              "(['George Washington',\n",
              "  'John Adams',\n",
              "  'Thomas Jefferson',\n",
              "  'James Madison',\n",
              "  'James Monroe'],\n",
              " ['Ronald Reagan',\n",
              "  'George H. W. Bush',\n",
              "  'Bill Clinton',\n",
              "  'George W. Bush',\n",
              "  'Barack Obama'])"
            ]
          },
          "metadata": {
            "tags": []
          },
          "execution_count": 57
        }
      ]
    },
    {
      "cell_type": "code",
      "metadata": {
        "colab": {
          "base_uri": "https://localhost:8080/"
        },
        "id": "7QtURzzzk-ee",
        "outputId": "57dded6e-23a8-4eda-a72c-bb281d655aaa"
      },
      "source": [
        "heights[:5], heights[len(heights) - 5:]"
      ],
      "execution_count": 58,
      "outputs": [
        {
          "output_type": "execute_result",
          "data": {
            "text/plain": [
              "([189, 170, 189, 163, 183], [185, 188, 188, 182, 185])"
            ]
          },
          "metadata": {
            "tags": []
          },
          "execution_count": 58
        }
      ]
    },
    {
      "cell_type": "markdown",
      "metadata": {
        "id": "cUUhWf0mlEAv"
      },
      "source": [
        "#### 4. NumPy 배열로 변환"
      ]
    },
    {
      "cell_type": "code",
      "metadata": {
        "id": "AjyO6bnulmJY"
      },
      "source": [
        "order_array = np.array(orders)\n",
        "name_array = np.array(names)\n",
        "height_array = np.array(heights)"
      ],
      "execution_count": 59,
      "outputs": []
    },
    {
      "cell_type": "code",
      "metadata": {
        "colab": {
          "base_uri": "https://localhost:8080/"
        },
        "id": "u1Byr-nwluZV",
        "outputId": "a1f60c02-4159-4eda-e67f-1a4a9efad62f"
      },
      "source": [
        "asprint(order_array)"
      ],
      "execution_count": 60,
      "outputs": [
        {
          "output_type": "stream",
          "text": [
            "type : <class 'numpy.ndarray'>\n",
            "shape : (42,)\tdimension = 1\n",
            "dtype : <U2 \n",
            "\n",
            "Array's data : \n",
            "['1' '2' '3' '4' '5' '6' '7' '8' '9' '10' '11' '12' '13' '14' '15' '16'\n",
            " '17' '18' '19' '20' '21' '23' '25' '26' '27' '28' '29' '30' '31' '32'\n",
            " '33' '34' '35' '36' '37' '38' '39' '40' '41' '42' '43' '44']\n"
          ],
          "name": "stdout"
        }
      ]
    },
    {
      "cell_type": "code",
      "metadata": {
        "colab": {
          "base_uri": "https://localhost:8080/"
        },
        "id": "6T_cvmGvmILx",
        "outputId": "76834a34-720c-4c7b-f6e5-e6272d1bf109"
      },
      "source": [
        "asprint(name_array)"
      ],
      "execution_count": 61,
      "outputs": [
        {
          "output_type": "stream",
          "text": [
            "type : <class 'numpy.ndarray'>\n",
            "shape : (42,)\tdimension = 1\n",
            "dtype : <U22 \n",
            "\n",
            "Array's data : \n",
            "['George Washington' 'John Adams' 'Thomas Jefferson' 'James Madison'\n",
            " 'James Monroe' 'John Quincy Adams' 'Andrew Jackson' 'Martin Van Buren'\n",
            " 'William Henry Harrison' 'John Tyler' 'James K. Polk' 'Zachary Taylor'\n",
            " 'Millard Fillmore' 'Franklin Pierce' 'James Buchanan' 'Abraham Lincoln'\n",
            " 'Andrew Johnson' 'Ulysses S. Grant' 'Rutherford B. Hayes'\n",
            " 'James A. Garfield' 'Chester A. Arthur' 'Benjamin Harrison'\n",
            " 'William McKinley' 'Theodore Roosevelt' 'William Howard Taft'\n",
            " 'Woodrow Wilson' 'Warren G. Harding' 'Calvin Coolidge' 'Herbert Hoover'\n",
            " 'Franklin D. Roosevelt' 'Harry S. Truman' 'Dwight D. Eisenhower'\n",
            " 'John F. Kennedy' 'Lyndon B. Johnson' 'Richard Nixon' 'Gerald Ford'\n",
            " 'Jimmy Carter' 'Ronald Reagan' 'George H. W. Bush' 'Bill Clinton'\n",
            " 'George W. Bush' 'Barack Obama']\n"
          ],
          "name": "stdout"
        }
      ]
    },
    {
      "cell_type": "code",
      "metadata": {
        "colab": {
          "base_uri": "https://localhost:8080/"
        },
        "id": "tZtcVx4tmKFj",
        "outputId": "b93be434-03d2-4ebc-d009-556b8182c01f"
      },
      "source": [
        "asprint(height_array)"
      ],
      "execution_count": 62,
      "outputs": [
        {
          "output_type": "stream",
          "text": [
            "type : <class 'numpy.ndarray'>\n",
            "shape : (42,)\tdimension = 1\n",
            "dtype : int64 \n",
            "\n",
            "Array's data : \n",
            "[189 170 189 163 183 171 185 168 173 183 173 173 175 178 183 193 178 173\n",
            " 174 183 183 168 170 178 182 180 183 178 182 188 175 179 183 193 182 183\n",
            " 177 185 188 188 182 185]\n"
          ],
          "name": "stdout"
        }
      ]
    },
    {
      "cell_type": "markdown",
      "metadata": {
        "id": "HMyu_h99mMVH"
      },
      "source": [
        "#### 5. NumPy 집계 함수를 이용한 탐색적 데이터 분석"
      ]
    },
    {
      "cell_type": "code",
      "metadata": {
        "colab": {
          "base_uri": "https://localhost:8080/"
        },
        "id": "WKHDfa0ynlC5",
        "outputId": "721f9a8f-72dc-42c4-bb57-05f490997244"
      },
      "source": [
        "print(f'최소 신장 : {height_array.min():5} cm')\n",
        "print(f'최고 신장 : {height_array.max():5} cm\\n')\n",
        "\n",
        "print(f'평균 신장 : {height_array.mean():7.2f} cm')\n",
        "print(f'분     산 : {height_array.var():7.2f} cm')\n",
        "print(f'표준 편차 : {height_array.std():7.2f} cm\\n')\n",
        "\n",
        "print(f'1사분위수 : {np.percentile(height_array, 25):5} cm')\n",
        "print(f'2사분위수 : {np.percentile(height_array, 50):5} cm')\n",
        "print(f'중 앙 값  : {np.median(height_array):5} cm')\n",
        "print(f'3사분위수 : {np.percentile(height_array, 75):5} cm\\n')"
      ],
      "execution_count": 63,
      "outputs": [
        {
          "output_type": "stream",
          "text": [
            "최소 신장 :   163 cm\n",
            "최고 신장 :   193 cm\n",
            "\n",
            "평균 신장 :  179.74 cm\n",
            "분     산 :   48.05 cm\n",
            "표준 편차 :    6.93 cm\n",
            "\n",
            "1사분위수 : 174.25 cm\n",
            "2사분위수 : 182.0 cm\n",
            "중 앙 값  : 182.0 cm\n",
            "3사분위수 : 183.0 cm\n",
            "\n"
          ],
          "name": "stdout"
        }
      ]
    },
    {
      "cell_type": "code",
      "metadata": {
        "colab": {
          "base_uri": "https://localhost:8080/"
        },
        "id": "E1wZraGMopBu",
        "outputId": "381c66bd-4c6b-4b8f-dd69-01d2f7985b20"
      },
      "source": [
        "print(f'최소 신장 대통령 : {height_array.min()} cm ( \\\n",
        "        {order_array[height_array.argmin()]} \\\n",
        "        {name_array[height_array.argmin()]} )')\n",
        "print(f'최고 신장 대통령 : {height_array.max()} cm ( \\\n",
        "        {order_array[height_array.argmax()]} \\\n",
        "        {name_array[height_array.argmax()]} )')"
      ],
      "execution_count": 64,
      "outputs": [
        {
          "output_type": "stream",
          "text": [
            "최소 신장 대통령 : 163 cm (         4         James Madison )\n",
            "최고 신장 대통령 : 193 cm (         16         Abraham Lincoln )\n"
          ],
          "name": "stdout"
        }
      ]
    },
    {
      "cell_type": "markdown",
      "metadata": {
        "id": "whSX7WSXpYSa"
      },
      "source": [
        "#### 여러 명의 최소/최대 신장 대통령 정보 확인"
      ]
    },
    {
      "cell_type": "code",
      "metadata": {
        "id": "HM4sQP7IyXhx"
      },
      "source": [
        "def select_min_height(height_array):\n",
        "    ret_value = []\n",
        "    min_height = height_array.min()\n",
        "\n",
        "    # tolist() : NumPy 배열을 파이썬 list로 변환하는 method\n",
        "    for i, v in enumerate(height_array.tolist()):\n",
        "        if min_height == v:\n",
        "            ret_value.append(i)\n",
        "    return tuple(ret_value)\n",
        "\n",
        "\n",
        "\n",
        "def select_max_height(height_array):\n",
        "    ret_value = []\n",
        "    max_height = height_array.max()\n",
        "\n",
        "    for i, v in enumerate(height_array.tolist()):\n",
        "        if max_height == v:\n",
        "            ret_value.append(i)\n",
        "    return tuple(ret_value)"
      ],
      "execution_count": 65,
      "outputs": []
    },
    {
      "cell_type": "code",
      "metadata": {
        "colab": {
          "base_uri": "https://localhost:8080/"
        },
        "id": "8vomAv-0yzlr",
        "outputId": "dd6053fb-ae4f-4677-ed86-b73b356b9656"
      },
      "source": [
        "for i in select_min_height(height_array):\n",
        "    print(f'최소 신장 대통령 : {height_array.min()} cm ( \\\n",
        "        {order_array[i]} \\\n",
        "        {name_array[i]} )')\n",
        "print()\n",
        "    \n",
        "for i in select_max_height(height_array):\n",
        "    print(f'최고 신장 대통령 : {height_array.max()} cm ( \\\n",
        "        {order_array[i]} \\\n",
        "        {name_array[i]} )')"
      ],
      "execution_count": 66,
      "outputs": [
        {
          "output_type": "stream",
          "text": [
            "최소 신장 대통령 : 163 cm (         4         James Madison )\n",
            "\n",
            "최고 신장 대통령 : 193 cm (         16         Abraham Lincoln )\n",
            "최고 신장 대통령 : 193 cm (         36         Lyndon B. Johnson )\n"
          ],
          "name": "stdout"
        }
      ]
    },
    {
      "cell_type": "markdown",
      "metadata": {
        "id": "pMEj4W2c0i6P"
      },
      "source": [
        "# Pandas"
      ]
    },
    {
      "cell_type": "code",
      "metadata": {
        "colab": {
          "base_uri": "https://localhost:8080/"
        },
        "id": "350-cOvX2wUG",
        "outputId": "aa4d1c21-24c1-407c-e033-f252b528af49"
      },
      "source": [
        "!pip list"
      ],
      "execution_count": 67,
      "outputs": [
        {
          "output_type": "stream",
          "text": [
            "Package                       Version\n",
            "----------------------------- --------------\n",
            "absl-py                       0.12.0\n",
            "alabaster                     0.7.12\n",
            "albumentations                0.1.12\n",
            "altair                        4.1.0\n",
            "appdirs                       1.4.4\n",
            "argcomplete                   1.12.3\n",
            "argon2-cffi                   20.1.0\n",
            "arviz                         0.11.2\n",
            "astor                         0.8.1\n",
            "astropy                       4.3.1\n",
            "astunparse                    1.6.3\n",
            "atari-py                      0.2.9\n",
            "atomicwrites                  1.4.0\n",
            "attrs                         21.2.0\n",
            "audioread                     2.1.9\n",
            "autograd                      1.3\n",
            "Babel                         2.9.1\n",
            "backcall                      0.2.0\n",
            "beautifulsoup4                4.6.3\n",
            "bleach                        4.0.0\n",
            "blis                          0.4.1\n",
            "bokeh                         2.3.3\n",
            "Bottleneck                    1.3.2\n",
            "branca                        0.4.2\n",
            "bs4                           0.0.1\n",
            "CacheControl                  0.12.6\n",
            "cached-property               1.5.2\n",
            "cachetools                    4.2.2\n",
            "catalogue                     1.0.0\n",
            "certifi                       2021.5.30\n",
            "cffi                          1.14.6\n",
            "cftime                        1.5.0\n",
            "chardet                       3.0.4\n",
            "charset-normalizer            2.0.4\n",
            "clang                         5.0\n",
            "click                         7.1.2\n",
            "cloudpickle                   1.3.0\n",
            "cmake                         3.12.0\n",
            "cmdstanpy                     0.9.5\n",
            "colorcet                      2.0.6\n",
            "colorlover                    0.3.0\n",
            "community                     1.0.0b1\n",
            "contextlib2                   0.5.5\n",
            "convertdate                   2.3.2\n",
            "coverage                      3.7.1\n",
            "coveralls                     0.5\n",
            "crcmod                        1.7\n",
            "cufflinks                     0.17.3\n",
            "cvxopt                        1.2.6\n",
            "cvxpy                         1.0.31\n",
            "cycler                        0.10.0\n",
            "cymem                         2.0.5\n",
            "Cython                        0.29.24\n",
            "daft                          0.0.4\n",
            "dask                          2.12.0\n",
            "datascience                   0.10.6\n",
            "debugpy                       1.0.0\n",
            "decorator                     4.4.2\n",
            "defusedxml                    0.7.1\n",
            "descartes                     1.1.0\n",
            "dill                          0.3.4\n",
            "distributed                   1.25.3\n",
            "dlib                          19.18.0\n",
            "dm-tree                       0.1.6\n",
            "docopt                        0.6.2\n",
            "docutils                      0.17.1\n",
            "dopamine-rl                   1.0.5\n",
            "earthengine-api               0.1.278\n",
            "easydict                      1.9\n",
            "ecos                          2.0.7.post1\n",
            "editdistance                  0.5.3\n",
            "en-core-web-sm                2.2.5\n",
            "entrypoints                   0.3\n",
            "ephem                         4.0.0.2\n",
            "et-xmlfile                    1.1.0\n",
            "fa2                           0.3.5\n",
            "fastai                        1.0.61\n",
            "fastdtw                       0.3.4\n",
            "fastprogress                  1.0.0\n",
            "fastrlock                     0.6\n",
            "fbprophet                     0.7.1\n",
            "feather-format                0.4.1\n",
            "filelock                      3.0.12\n",
            "firebase-admin                4.4.0\n",
            "fix-yahoo-finance             0.0.22\n",
            "Flask                         1.1.4\n",
            "flatbuffers                   1.12\n",
            "folium                        0.8.3\n",
            "future                        0.16.0\n",
            "gast                          0.4.0\n",
            "GDAL                          2.2.2\n",
            "gdown                         3.6.4\n",
            "gensim                        3.6.0\n",
            "geographiclib                 1.52\n",
            "geopy                         1.17.0\n",
            "gin-config                    0.4.0\n",
            "glob2                         0.7\n",
            "google                        2.0.3\n",
            "google-api-core               1.26.3\n",
            "google-api-python-client      1.12.8\n",
            "google-auth                   1.34.0\n",
            "google-auth-httplib2          0.0.4\n",
            "google-auth-oauthlib          0.4.5\n",
            "google-cloud-bigquery         1.21.0\n",
            "google-cloud-bigquery-storage 1.1.0\n",
            "google-cloud-core             1.0.3\n",
            "google-cloud-datastore        1.8.0\n",
            "google-cloud-firestore        1.7.0\n",
            "google-cloud-language         1.2.0\n",
            "google-cloud-storage          1.18.1\n",
            "google-cloud-translate        1.5.0\n",
            "google-colab                  1.0.0\n",
            "google-pasta                  0.2.0\n",
            "google-resumable-media        0.4.1\n",
            "googleapis-common-protos      1.53.0\n",
            "googledrivedownloader         0.4\n",
            "graphviz                      0.10.1\n",
            "greenlet                      1.1.1\n",
            "grpcio                        1.39.0\n",
            "gspread                       3.0.1\n",
            "gspread-dataframe             3.0.8\n",
            "gym                           0.17.3\n",
            "h5py                          3.1.0\n",
            "HeapDict                      1.0.1\n",
            "hijri-converter               2.1.3\n",
            "holidays                      0.10.5.2\n",
            "holoviews                     1.14.5\n",
            "html5lib                      1.0.1\n",
            "httpimport                    0.5.18\n",
            "httplib2                      0.17.4\n",
            "httplib2shim                  0.0.3\n",
            "humanize                      0.5.1\n",
            "hyperopt                      0.1.2\n",
            "ideep4py                      2.0.0.post3\n",
            "idna                          2.10\n",
            "imageio                       2.4.1\n",
            "imagesize                     1.2.0\n",
            "imbalanced-learn              0.4.3\n",
            "imblearn                      0.0\n",
            "imgaug                        0.2.9\n",
            "importlib-metadata            4.6.3\n",
            "importlib-resources           5.2.2\n",
            "imutils                       0.5.4\n",
            "inflect                       2.1.0\n",
            "iniconfig                     1.1.1\n",
            "intel-openmp                  2021.3.0\n",
            "intervaltree                  2.1.0\n",
            "ipykernel                     4.10.1\n",
            "ipython                       5.5.0\n",
            "ipython-genutils              0.2.0\n",
            "ipython-sql                   0.3.9\n",
            "ipywidgets                    7.6.3\n",
            "itsdangerous                  1.1.0\n",
            "jax                           0.2.17\n",
            "jaxlib                        0.1.69+cuda110\n",
            "jdcal                         1.4.1\n",
            "jedi                          0.18.0\n",
            "jieba                         0.42.1\n",
            "Jinja2                        2.11.3\n",
            "joblib                        1.0.1\n",
            "jpeg4py                       0.1.4\n",
            "jsonschema                    2.6.0\n",
            "jupyter                       1.0.0\n",
            "jupyter-client                5.3.5\n",
            "jupyter-console               5.2.0\n",
            "jupyter-core                  4.7.1\n",
            "jupyterlab-pygments           0.1.2\n",
            "jupyterlab-widgets            1.0.0\n",
            "kaggle                        1.5.12\n",
            "kapre                         0.3.5\n",
            "keras                         2.6.0\n",
            "Keras-Preprocessing           1.1.2\n",
            "keras-vis                     0.4.1\n",
            "kiwisolver                    1.3.1\n",
            "korean-lunar-calendar         0.2.1\n",
            "librosa                       0.8.1\n",
            "lightgbm                      2.2.3\n",
            "llvmlite                      0.34.0\n",
            "lmdb                          0.99\n",
            "LunarCalendar                 0.0.9\n",
            "lxml                          4.2.6\n",
            "Markdown                      3.3.4\n",
            "MarkupSafe                    2.0.1\n",
            "matplotlib                    3.2.2\n",
            "matplotlib-inline             0.1.2\n",
            "matplotlib-venn               0.11.6\n",
            "missingno                     0.5.0\n",
            "mistune                       0.8.4\n",
            "mizani                        0.6.0\n",
            "mkl                           2019.0\n",
            "mlxtend                       0.14.0\n",
            "more-itertools                8.8.0\n",
            "moviepy                       0.2.3.5\n",
            "mpmath                        1.2.1\n",
            "msgpack                       1.0.2\n",
            "multiprocess                  0.70.12.2\n",
            "multitasking                  0.0.9\n",
            "murmurhash                    1.0.5\n",
            "music21                       5.5.0\n",
            "natsort                       5.5.0\n",
            "nbclient                      0.5.4\n",
            "nbconvert                     5.6.1\n",
            "nbformat                      5.1.3\n",
            "nest-asyncio                  1.5.1\n",
            "netCDF4                       1.5.7\n",
            "networkx                      2.6.2\n",
            "nibabel                       3.0.2\n",
            "nltk                          3.2.5\n",
            "notebook                      5.3.1\n",
            "numba                         0.51.2\n",
            "numexpr                       2.7.3\n",
            "numpy                         1.19.5\n",
            "nvidia-ml-py3                 7.352.0\n",
            "oauth2client                  4.1.3\n",
            "oauthlib                      3.1.1\n",
            "okgrade                       0.4.3\n",
            "opencv-contrib-python         4.1.2.30\n",
            "opencv-python                 4.1.2.30\n",
            "openpyxl                      2.5.9\n",
            "opt-einsum                    3.3.0\n",
            "osqp                          0.6.2.post0\n",
            "packaging                     21.0\n",
            "palettable                    3.3.0\n",
            "pandas                        1.1.5\n",
            "pandas-datareader             0.9.0\n",
            "pandas-gbq                    0.13.3\n",
            "pandas-profiling              1.4.1\n",
            "pandocfilters                 1.4.3\n",
            "panel                         0.12.1\n",
            "param                         1.11.1\n",
            "parso                         0.8.2\n",
            "pathlib                       1.0.1\n",
            "patsy                         0.5.1\n",
            "pep517                        0.11.0\n",
            "pexpect                       4.8.0\n",
            "pickleshare                   0.7.5\n",
            "Pillow                        7.1.2\n",
            "pip                           21.1.3\n",
            "pip-tools                     6.2.0\n",
            "plac                          1.1.3\n",
            "plotly                        4.4.1\n",
            "plotnine                      0.6.0\n",
            "pluggy                        0.7.1\n",
            "pooch                         1.4.0\n",
            "portpicker                    1.3.9\n",
            "prefetch-generator            1.0.1\n",
            "preshed                       3.0.5\n",
            "prettytable                   2.1.0\n",
            "progressbar2                  3.38.0\n",
            "prometheus-client             0.11.0\n",
            "promise                       2.3\n",
            "prompt-toolkit                1.0.18\n",
            "protobuf                      3.17.3\n",
            "psutil                        5.4.8\n",
            "psycopg2                      2.7.6.1\n",
            "ptyprocess                    0.7.0\n",
            "py                            1.10.0\n",
            "pyarrow                       3.0.0\n",
            "pyasn1                        0.4.8\n",
            "pyasn1-modules                0.2.8\n",
            "pycocotools                   2.0.2\n",
            "pycparser                     2.20\n",
            "pyct                          0.4.8\n",
            "pydata-google-auth            1.2.0\n",
            "pydot                         1.3.0\n",
            "pydot-ng                      2.0.0\n",
            "pydotplus                     2.0.2\n",
            "PyDrive                       1.3.1\n",
            "pyemd                         0.5.1\n",
            "pyerfa                        2.0.0\n",
            "pyglet                        1.5.0\n",
            "Pygments                      2.6.1\n",
            "pygobject                     3.26.1\n",
            "pymc3                         3.11.2\n",
            "PyMeeus                       0.5.11\n",
            "pymongo                       3.12.0\n",
            "pymystem3                     0.2.0\n",
            "PyOpenGL                      3.1.5\n",
            "pyparsing                     2.4.7\n",
            "pyrsistent                    0.18.0\n",
            "pysndfile                     1.3.8\n",
            "PySocks                       1.7.1\n",
            "pystan                        2.19.1.1\n",
            "pytest                        3.6.4\n",
            "python-apt                    0.0.0\n",
            "python-chess                  0.23.11\n",
            "python-dateutil               2.8.2\n",
            "python-louvain                0.15\n",
            "python-slugify                5.0.2\n",
            "python-utils                  2.5.6\n",
            "pytz                          2018.9\n",
            "pyviz-comms                   2.1.0\n",
            "PyWavelets                    1.1.1\n",
            "PyYAML                        3.13\n",
            "pyzmq                         22.2.1\n",
            "qdldl                         0.1.5.post0\n",
            "qtconsole                     5.1.1\n",
            "QtPy                          1.9.0\n",
            "regex                         2019.12.20\n",
            "requests                      2.23.0\n",
            "requests-oauthlib             1.3.0\n",
            "resampy                       0.2.2\n",
            "retrying                      1.3.3\n",
            "rpy2                          3.4.5\n",
            "rsa                           4.7.2\n",
            "scikit-image                  0.16.2\n",
            "scikit-learn                  0.22.2.post1\n",
            "scipy                         1.4.1\n",
            "screen-resolution-extra       0.0.0\n",
            "scs                           2.1.4\n",
            "seaborn                       0.11.1\n",
            "semver                        2.13.0\n",
            "Send2Trash                    1.8.0\n",
            "setuptools                    57.4.0\n",
            "setuptools-git                1.2\n",
            "Shapely                       1.7.1\n",
            "simplegeneric                 0.8.1\n",
            "six                           1.15.0\n",
            "sklearn                       0.0\n",
            "sklearn-pandas                1.8.0\n",
            "smart-open                    5.1.0\n",
            "snowballstemmer               2.1.0\n",
            "sortedcontainers              2.4.0\n",
            "SoundFile                     0.10.3.post1\n",
            "spacy                         2.2.4\n",
            "Sphinx                        1.8.5\n",
            "sphinxcontrib-serializinghtml 1.1.5\n",
            "sphinxcontrib-websupport      1.2.4\n",
            "SQLAlchemy                    1.4.22\n",
            "sqlparse                      0.4.1\n",
            "srsly                         1.0.5\n",
            "statsmodels                   0.10.2\n",
            "sympy                         1.7.1\n",
            "tables                        3.4.4\n",
            "tabulate                      0.8.9\n",
            "tblib                         1.7.0\n",
            "tensorboard                   2.6.0\n",
            "tensorboard-data-server       0.6.1\n",
            "tensorboard-plugin-wit        1.8.0\n",
            "tensorflow                    2.6.0\n",
            "tensorflow-datasets           4.0.1\n",
            "tensorflow-estimator          2.6.0\n",
            "tensorflow-gcs-config         2.6.0\n",
            "tensorflow-hub                0.12.0\n",
            "tensorflow-metadata           1.2.0\n",
            "tensorflow-probability        0.13.0\n",
            "termcolor                     1.1.0\n",
            "terminado                     0.11.0\n",
            "testpath                      0.5.0\n",
            "text-unidecode                1.3\n",
            "textblob                      0.15.3\n",
            "Theano-PyMC                   1.1.2\n",
            "thinc                         7.4.0\n",
            "tifffile                      2021.8.8\n",
            "toml                          0.10.2\n",
            "tomli                         1.2.1\n",
            "toolz                         0.11.1\n",
            "torch                         1.9.0+cu102\n",
            "torchsummary                  1.5.1\n",
            "torchtext                     0.10.0\n",
            "torchvision                   0.10.0+cu102\n",
            "tornado                       5.1.1\n",
            "tqdm                          4.62.0\n",
            "traitlets                     5.0.5\n",
            "tweepy                        3.10.0\n",
            "typeguard                     2.7.1\n",
            "typing-extensions             3.7.4.3\n",
            "tzlocal                       1.5.1\n",
            "uritemplate                   3.0.1\n",
            "urllib3                       1.24.3\n",
            "vega-datasets                 0.9.0\n",
            "wasabi                        0.8.2\n",
            "wcwidth                       0.2.5\n",
            "webencodings                  0.5.1\n",
            "Werkzeug                      1.0.1\n",
            "wheel                         0.37.0\n",
            "widgetsnbextension            3.5.1\n",
            "wordcloud                     1.5.0\n",
            "wrapt                         1.12.1\n",
            "xarray                        0.18.2\n",
            "xgboost                       0.90\n",
            "xkit                          0.0.0\n",
            "xlrd                          1.1.0\n",
            "xlwt                          1.3.0\n",
            "yellowbrick                   0.9.1\n",
            "zict                          2.0.0\n",
            "zipp                          3.5.0\n"
          ],
          "name": "stdout"
        }
      ]
    },
    {
      "cell_type": "code",
      "metadata": {
        "colab": {
          "base_uri": "https://localhost:8080/"
        },
        "id": "druPakdh2yj6",
        "outputId": "451bc6d8-f7e0-4e6c-ad64-2f0a1c3a6787"
      },
      "source": [
        "import pandas as pd\n",
        "import numpy as np      # set : pandas + numpy\n",
        "\n",
        "dir(pd)"
      ],
      "execution_count": 68,
      "outputs": [
        {
          "output_type": "execute_result",
          "data": {
            "text/plain": [
              "['BooleanDtype',\n",
              " 'Categorical',\n",
              " 'CategoricalDtype',\n",
              " 'CategoricalIndex',\n",
              " 'DataFrame',\n",
              " 'DateOffset',\n",
              " 'DatetimeIndex',\n",
              " 'DatetimeTZDtype',\n",
              " 'ExcelFile',\n",
              " 'ExcelWriter',\n",
              " 'Float64Index',\n",
              " 'Grouper',\n",
              " 'HDFStore',\n",
              " 'Index',\n",
              " 'IndexSlice',\n",
              " 'Int16Dtype',\n",
              " 'Int32Dtype',\n",
              " 'Int64Dtype',\n",
              " 'Int64Index',\n",
              " 'Int8Dtype',\n",
              " 'Interval',\n",
              " 'IntervalDtype',\n",
              " 'IntervalIndex',\n",
              " 'MultiIndex',\n",
              " 'NA',\n",
              " 'NaT',\n",
              " 'NamedAgg',\n",
              " 'Period',\n",
              " 'PeriodDtype',\n",
              " 'PeriodIndex',\n",
              " 'RangeIndex',\n",
              " 'Series',\n",
              " 'SparseDtype',\n",
              " 'StringDtype',\n",
              " 'Timedelta',\n",
              " 'TimedeltaIndex',\n",
              " 'Timestamp',\n",
              " 'UInt16Dtype',\n",
              " 'UInt32Dtype',\n",
              " 'UInt64Dtype',\n",
              " 'UInt64Index',\n",
              " 'UInt8Dtype',\n",
              " '__builtins__',\n",
              " '__cached__',\n",
              " '__doc__',\n",
              " '__docformat__',\n",
              " '__file__',\n",
              " '__getattr__',\n",
              " '__git_version__',\n",
              " '__loader__',\n",
              " '__name__',\n",
              " '__package__',\n",
              " '__path__',\n",
              " '__spec__',\n",
              " '__version__',\n",
              " '_config',\n",
              " '_hashtable',\n",
              " '_is_numpy_dev',\n",
              " '_lib',\n",
              " '_libs',\n",
              " '_np_version_under1p16',\n",
              " '_np_version_under1p17',\n",
              " '_np_version_under1p18',\n",
              " '_testing',\n",
              " '_tslib',\n",
              " '_typing',\n",
              " '_version',\n",
              " 'api',\n",
              " 'array',\n",
              " 'arrays',\n",
              " 'bdate_range',\n",
              " 'compat',\n",
              " 'concat',\n",
              " 'core',\n",
              " 'crosstab',\n",
              " 'cut',\n",
              " 'date_range',\n",
              " 'describe_option',\n",
              " 'errors',\n",
              " 'eval',\n",
              " 'factorize',\n",
              " 'get_dummies',\n",
              " 'get_option',\n",
              " 'infer_freq',\n",
              " 'interval_range',\n",
              " 'io',\n",
              " 'isna',\n",
              " 'isnull',\n",
              " 'json_normalize',\n",
              " 'lreshape',\n",
              " 'melt',\n",
              " 'merge',\n",
              " 'merge_asof',\n",
              " 'merge_ordered',\n",
              " 'notna',\n",
              " 'notnull',\n",
              " 'offsets',\n",
              " 'option_context',\n",
              " 'options',\n",
              " 'pandas',\n",
              " 'period_range',\n",
              " 'pivot',\n",
              " 'pivot_table',\n",
              " 'plotting',\n",
              " 'qcut',\n",
              " 'read_clipboard',\n",
              " 'read_csv',\n",
              " 'read_excel',\n",
              " 'read_feather',\n",
              " 'read_fwf',\n",
              " 'read_gbq',\n",
              " 'read_hdf',\n",
              " 'read_html',\n",
              " 'read_json',\n",
              " 'read_orc',\n",
              " 'read_parquet',\n",
              " 'read_pickle',\n",
              " 'read_sas',\n",
              " 'read_spss',\n",
              " 'read_sql',\n",
              " 'read_sql_query',\n",
              " 'read_sql_table',\n",
              " 'read_stata',\n",
              " 'read_table',\n",
              " 'reset_option',\n",
              " 'set_eng_float_format',\n",
              " 'set_option',\n",
              " 'show_versions',\n",
              " 'test',\n",
              " 'testing',\n",
              " 'timedelta_range',\n",
              " 'to_datetime',\n",
              " 'to_numeric',\n",
              " 'to_pickle',\n",
              " 'to_timedelta',\n",
              " 'tseries',\n",
              " 'unique',\n",
              " 'util',\n",
              " 'value_counts',\n",
              " 'wide_to_long']"
            ]
          },
          "metadata": {
            "tags": []
          },
          "execution_count": 68
        }
      ]
    }
  ]
}