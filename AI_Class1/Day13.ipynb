{
  "nbformat": 4,
  "nbformat_minor": 0,
  "metadata": {
    "colab": {
      "name": "Day13.ipynb",
      "provenance": [],
      "collapsed_sections": [],
      "authorship_tag": "ABX9TyNa8LtzWlstf74juRwVHdm9",
      "include_colab_link": true
    },
    "kernelspec": {
      "name": "python3",
      "display_name": "Python 3"
    },
    "language_info": {
      "name": "python"
    }
  },
  "cells": [
    {
      "cell_type": "markdown",
      "metadata": {
        "id": "view-in-github",
        "colab_type": "text"
      },
      "source": [
        "<a href=\"https://colab.research.google.com/github/PyBlin/Study/blob/main/AI_Class1/Day13.ipynb\" target=\"_parent\"><img src=\"https://colab.research.google.com/assets/colab-badge.svg\" alt=\"Open In Colab\"/></a>"
      ]
    },
    {
      "cell_type": "code",
      "metadata": {
        "id": "H-j6eG2jQry0",
        "colab": {
          "base_uri": "https://localhost:8080/"
        },
        "outputId": "6a07e286-fad2-4c64-9d7d-2b4c2ffa4dec"
      },
      "source": [
        "from google.colab import drive\n",
        "drive.mount('/drive')"
      ],
      "execution_count": 2,
      "outputs": [
        {
          "output_type": "stream",
          "text": [
            "Mounted at /drive\n"
          ],
          "name": "stdout"
        }
      ]
    },
    {
      "cell_type": "code",
      "metadata": {
        "id": "b21HL4_Qc6zr"
      },
      "source": [
        "import sys\n",
        "sys.path.append('/drive/MyDrive/Colab/AI1_Ouseoung_Lee')"
      ],
      "execution_count": 3,
      "outputs": []
    },
    {
      "cell_type": "markdown",
      "metadata": {
        "id": "yTPngXLDdDVo"
      },
      "source": [
        "# 예외 처리\n",
        "\n",
        "### 다중 예외 처리"
      ]
    },
    {
      "cell_type": "code",
      "metadata": {
        "colab": {
          "base_uri": "https://localhost:8080/"
        },
        "id": "-BuLVbRmdGWp",
        "outputId": "574116ae-db71-43b9-d49c-cebca0a82624"
      },
      "source": [
        "# 다중e (다중 exception) --> 순서 중요...\n",
        "try:\n",
        "    number1 = int(input('정수를 입력하세요 : '))\n",
        "    number2 = int(input('분모를 입력하세요 : '))\n",
        "    print(number1 / number2)\n",
        "except ValueError:\n",
        "    print(f'Exception : 정수가 아닙니다...')\n",
        "except ZeroDivisionError:\n",
        "    print(f'Exception : 0으로 나누기 했습니다...')\n",
        "except Exception as e:      # 최상위 Error이기 때문에 가장 마지막에 작성해야 함.\n",
        "    print(e)\n",
        "finally:\n",
        "    print('stop script...')"
      ],
      "execution_count": 4,
      "outputs": [
        {
          "output_type": "stream",
          "text": [
            "정수를 입력하세요 : 10\n",
            "분모를 입력하세요 : 20\n",
            "0.5\n",
            "stop script...\n"
          ],
          "name": "stdout"
        }
      ]
    },
    {
      "cell_type": "markdown",
      "metadata": {
        "id": "BmNNL24ldzyJ"
      },
      "source": [
        "# 파일 처리\n",
        "\n",
        "## 파일에 record 쓰기"
      ]
    },
    {
      "cell_type": "code",
      "metadata": {
        "colab": {
          "base_uri": "https://localhost:8080/"
        },
        "id": "EnGn2sZgvadA",
        "outputId": "5ae991a1-4214-47a2-9019-e435d225bcaa"
      },
      "source": [
        "try:\n",
        "    # file open - 쓰기 전용 모드 : 주의!!! 무조건 새로 만든다...\n",
        "    fp = open('/drive/MyDrive/Colab/AI1_Ouseoung_Lee/test.txt', 'w')\n",
        "\n",
        "    for i in range(1, 11):\n",
        "        print(f'{i:3}')\n",
        "\n",
        "        # record write\n",
        "        fp.write(f'{i:3}\\n')  # 3 byte 크기의 고정 길이 레코드로 저장\n",
        "\n",
        "except Exception as e:\n",
        "    print(e)\n",
        "\n",
        "finally:\n",
        "    # file close\n",
        "    fp.close()"
      ],
      "execution_count": 5,
      "outputs": [
        {
          "output_type": "stream",
          "text": [
            "  1\n",
            "  2\n",
            "  3\n",
            "  4\n",
            "  5\n",
            "  6\n",
            "  7\n",
            "  8\n",
            "  9\n",
            " 10\n"
          ],
          "name": "stdout"
        }
      ]
    },
    {
      "cell_type": "code",
      "metadata": {
        "colab": {
          "base_uri": "https://localhost:8080/"
        },
        "id": "cWgsgRNfwbYp",
        "outputId": "daa4ff3f-83bb-462f-eb0b-d8d985345df2"
      },
      "source": [
        "try:\n",
        "    # file open - 추가 모드\n",
        "    fp = open('/drive/MyDrive/Colab/AI1_Ouseoung_Lee/test.txt', 'a')\n",
        "\n",
        "    for i in range(1, 11):\n",
        "        print(f'{i:3}')\n",
        "\n",
        "        # record write\n",
        "        fp.write(f'{i:3}\\n')  # 3 byte 크기의 고정 길이 레코드로 저장\n",
        "\n",
        "except Exception as e:\n",
        "    print(e)\n",
        "\n",
        "finally:\n",
        "    # file close\n",
        "    fp.close()"
      ],
      "execution_count": 6,
      "outputs": [
        {
          "output_type": "stream",
          "text": [
            "  1\n",
            "  2\n",
            "  3\n",
            "  4\n",
            "  5\n",
            "  6\n",
            "  7\n",
            "  8\n",
            "  9\n",
            " 10\n"
          ],
          "name": "stdout"
        }
      ]
    },
    {
      "cell_type": "markdown",
      "metadata": {
        "id": "ma6Ls2hhyqF1"
      },
      "source": [
        "## 파일에서 record 읽기"
      ]
    },
    {
      "cell_type": "code",
      "metadata": {
        "colab": {
          "base_uri": "https://localhost:8080/"
        },
        "id": "GYgKeblqzcXW",
        "outputId": "13e11bf8-f456-4525-dc4f-3a7285834035"
      },
      "source": [
        "fp = None\n",
        "\n",
        "try:\n",
        "    # file open - 읽기 모드\n",
        "    fp = open('/drive/MyDrive/Colab/AI1_Ouseoung_Lee/test.txt', 'r')\n",
        "\n",
        "    line = fp.read()    # 첫 레코드 읽기\n",
        "    while line:     # EOF(End of File)가 아닌 동안 반복\n",
        "        print(f'{line:3}', end='')\n",
        "        line = fp.readline()    # 한 레코드씩 읽기 수행\n",
        "\n",
        "except Exception as e:\n",
        "    print(e)\n",
        "\n",
        "finally:\n",
        "    if fp == None:  # 파일 오픈 실패 시 파일 생성\n",
        "        fp = open('/drive/MyDrive/Colab/AI1_Ouseoung_Lee/test.txt', 'w')\n",
        "        print('[Message : 파일 생성 완료...]')\n",
        "\n",
        "    # file close\n",
        "    fp.close()"
      ],
      "execution_count": 8,
      "outputs": [
        {
          "output_type": "stream",
          "text": [
            "  1\n",
            "  2\n",
            "  3\n",
            "  4\n",
            "  5\n",
            "  6\n",
            "  7\n",
            "  8\n",
            "  9\n",
            " 10\n",
            "  1\n",
            "  2\n",
            "  3\n",
            "  4\n",
            "  5\n",
            "  6\n",
            "  7\n",
            "  8\n",
            "  9\n",
            " 10\n"
          ],
          "name": "stdout"
        }
      ]
    },
    {
      "cell_type": "code",
      "metadata": {
        "colab": {
          "base_uri": "https://localhost:8080/"
        },
        "id": "XdhtabDd2LzX",
        "outputId": "5b70051b-372a-464d-b97c-6f0d7dac4249"
      },
      "source": [
        "fp = None\n",
        "\n",
        "try:\n",
        "    # file open - 읽기 모드\n",
        "    fp = open('/drive/MyDrive/Colab/AI1_Ouseoung_Lee/test.txt', 'r')\n",
        "\n",
        "    lines = fp.readlines()  # 파일의 전체 레코드를 모두 읽어서 list에 기억시킴\n",
        "    print(lines, '\\n')\n",
        "    for v in lines:\n",
        "        print(v, end='')\n",
        "\n",
        "except Exception as e:\n",
        "    print(e)\n",
        "\n",
        "finally:\n",
        "    if fp == None:  # 파일 오픈 실패 시 파일 생성\n",
        "        fp = open('/drive/MyDrive/Colab/AI1_Ouseoung_Lee/test.txt', 'w')\n",
        "        print('[Message : 파일 생성 완료...]')\n",
        "\n",
        "    # file close\n",
        "    fp.close()"
      ],
      "execution_count": 9,
      "outputs": [
        {
          "output_type": "stream",
          "text": [
            "['  1\\n', '  2\\n', '  3\\n', '  4\\n', '  5\\n', '  6\\n', '  7\\n', '  8\\n', '  9\\n', ' 10\\n', '  1\\n', '  2\\n', '  3\\n', '  4\\n', '  5\\n', '  6\\n', '  7\\n', '  8\\n', '  9\\n', ' 10\\n'] \n",
            "\n",
            "  1\n",
            "  2\n",
            "  3\n",
            "  4\n",
            "  5\n",
            "  6\n",
            "  7\n",
            "  8\n",
            "  9\n",
            " 10\n",
            "  1\n",
            "  2\n",
            "  3\n",
            "  4\n",
            "  5\n",
            "  6\n",
            "  7\n",
            "  8\n",
            "  9\n",
            " 10\n"
          ],
          "name": "stdout"
        }
      ]
    },
    {
      "cell_type": "code",
      "metadata": {
        "colab": {
          "base_uri": "https://localhost:8080/"
        },
        "id": "j6dfDxmA3ah5",
        "outputId": "aaf7c90f-3443-4df3-dae3-67446a8ebfda"
      },
      "source": [
        "fp = None\n",
        "\n",
        "try:\n",
        "    # file open - 읽기 모드\n",
        "    fp = open('/drive/MyDrive/Colab/AI1_Ouseoung_Lee/test.txt', 'r')\n",
        "\n",
        "    lines = fp.read()  # 파일의 전체 레코드를 모두 읽어서 str 형태로 반환\n",
        "    print(lines, '\\n')\n",
        "    for v in lines:\n",
        "        print(v, end='')\n",
        "\n",
        "except Exception as e:\n",
        "    print(e)\n",
        "\n",
        "finally:\n",
        "    if fp == None:  # 파일 오픈 실패 시 파일 생성\n",
        "        fp = open('/drive/MyDrive/Colab/AI1_Ouseoung_Lee/test.txt', 'w')\n",
        "        print('[Message : 파일 생성 완료...]')\n",
        "\n",
        "    # file close\n",
        "    fp.close()"
      ],
      "execution_count": 10,
      "outputs": [
        {
          "output_type": "stream",
          "text": [
            "  1\n",
            "  2\n",
            "  3\n",
            "  4\n",
            "  5\n",
            "  6\n",
            "  7\n",
            "  8\n",
            "  9\n",
            " 10\n",
            "  1\n",
            "  2\n",
            "  3\n",
            "  4\n",
            "  5\n",
            "  6\n",
            "  7\n",
            "  8\n",
            "  9\n",
            " 10\n",
            " \n",
            "\n",
            "  1\n",
            "  2\n",
            "  3\n",
            "  4\n",
            "  5\n",
            "  6\n",
            "  7\n",
            "  8\n",
            "  9\n",
            " 10\n",
            "  1\n",
            "  2\n",
            "  3\n",
            "  4\n",
            "  5\n",
            "  6\n",
            "  7\n",
            "  8\n",
            "  9\n",
            " 10\n"
          ],
          "name": "stdout"
        }
      ]
    },
    {
      "cell_type": "markdown",
      "metadata": {
        "id": "cv6-ttFp34iQ"
      },
      "source": [
        "## 별도의 close 없이 파일 사용 방법"
      ]
    },
    {
      "cell_type": "code",
      "metadata": {
        "colab": {
          "base_uri": "https://localhost:8080/"
        },
        "id": "Dn8nSLKd3_bu",
        "outputId": "5a228f41-444d-457d-ea08-51f83b5a15c3"
      },
      "source": [
        "with open('/drive/MyDrive/Colab/AI1_Ouseoung_Lee/test.txt', 'r') as f:\n",
        "    lines = f.read()\n",
        "    print(lines)"
      ],
      "execution_count": 11,
      "outputs": [
        {
          "output_type": "stream",
          "text": [
            "  1\n",
            "  2\n",
            "  3\n",
            "  4\n",
            "  5\n",
            "  6\n",
            "  7\n",
            "  8\n",
            "  9\n",
            " 10\n",
            "  1\n",
            "  2\n",
            "  3\n",
            "  4\n",
            "  5\n",
            "  6\n",
            "  7\n",
            "  8\n",
            "  9\n",
            " 10\n",
            "\n"
          ],
          "name": "stdout"
        }
      ]
    },
    {
      "cell_type": "markdown",
      "metadata": {
        "id": "I2trEIHL4cD3"
      },
      "source": [
        "## 파일에 대한 읽기 처리 방법"
      ]
    },
    {
      "cell_type": "code",
      "metadata": {
        "colab": {
          "base_uri": "https://localhost:8080/"
        },
        "id": "tv2zjF-s9x6r",
        "outputId": "b8d6ee2b-8d2e-4d05-bc72-c06509acbd90"
      },
      "source": [
        "# file open and close\n",
        "with open('/drive/MyDrive/Colab/AI1_Ouseoung_Lee/president_heights.csv',\n",
        "            'r') as f:\n",
        "\n",
        "    line = f.readline()     # 하나의 레코드\n",
        "    while line:\n",
        "        print(line, end='')\n",
        "\n",
        "        data = line.split(',')\n",
        "        print('\\t', end='')\n",
        "        for v in data:\n",
        "            print(v, end='\\t')\n",
        "        print()\n",
        "        line = f.readline()"
      ],
      "execution_count": 12,
      "outputs": [
        {
          "output_type": "stream",
          "text": [
            "order,name,height(cm)\n",
            "\torder\tname\theight(cm)\n",
            "\t\n",
            "1,George Washington,189\n",
            "\t1\tGeorge Washington\t189\n",
            "\t\n",
            "2,John Adams,170\n",
            "\t2\tJohn Adams\t170\n",
            "\t\n",
            "3,Thomas Jefferson,189\n",
            "\t3\tThomas Jefferson\t189\n",
            "\t\n",
            "4,James Madison,163\n",
            "\t4\tJames Madison\t163\n",
            "\t\n",
            "5,James Monroe,183\n",
            "\t5\tJames Monroe\t183\n",
            "\t\n",
            "6,John Quincy Adams,171\n",
            "\t6\tJohn Quincy Adams\t171\n",
            "\t\n",
            "7,Andrew Jackson,185\n",
            "\t7\tAndrew Jackson\t185\n",
            "\t\n",
            "8,Martin Van Buren,168\n",
            "\t8\tMartin Van Buren\t168\n",
            "\t\n",
            "9,William Henry Harrison,173\n",
            "\t9\tWilliam Henry Harrison\t173\n",
            "\t\n",
            "10,John Tyler,183\n",
            "\t10\tJohn Tyler\t183\n",
            "\t\n",
            "11,James K. Polk,173\n",
            "\t11\tJames K. Polk\t173\n",
            "\t\n",
            "12,Zachary Taylor,173\n",
            "\t12\tZachary Taylor\t173\n",
            "\t\n",
            "13,Millard Fillmore,175\n",
            "\t13\tMillard Fillmore\t175\n",
            "\t\n",
            "14,Franklin Pierce,178\n",
            "\t14\tFranklin Pierce\t178\n",
            "\t\n",
            "15,James Buchanan,183\n",
            "\t15\tJames Buchanan\t183\n",
            "\t\n",
            "16,Abraham Lincoln,193\n",
            "\t16\tAbraham Lincoln\t193\n",
            "\t\n",
            "17,Andrew Johnson,178\n",
            "\t17\tAndrew Johnson\t178\n",
            "\t\n",
            "18,Ulysses S. Grant,173\n",
            "\t18\tUlysses S. Grant\t173\n",
            "\t\n",
            "19,Rutherford B. Hayes,174\n",
            "\t19\tRutherford B. Hayes\t174\n",
            "\t\n",
            "20,James A. Garfield,183\n",
            "\t20\tJames A. Garfield\t183\n",
            "\t\n",
            "21,Chester A. Arthur,183\n",
            "\t21\tChester A. Arthur\t183\n",
            "\t\n",
            "23,Benjamin Harrison,168\n",
            "\t23\tBenjamin Harrison\t168\n",
            "\t\n",
            "25,William McKinley,170\n",
            "\t25\tWilliam McKinley\t170\n",
            "\t\n",
            "26,Theodore Roosevelt,178\n",
            "\t26\tTheodore Roosevelt\t178\n",
            "\t\n",
            "27,William Howard Taft,182\n",
            "\t27\tWilliam Howard Taft\t182\n",
            "\t\n",
            "28,Woodrow Wilson,180\n",
            "\t28\tWoodrow Wilson\t180\n",
            "\t\n",
            "29,Warren G. Harding,183\n",
            "\t29\tWarren G. Harding\t183\n",
            "\t\n",
            "30,Calvin Coolidge,178\n",
            "\t30\tCalvin Coolidge\t178\n",
            "\t\n",
            "31,Herbert Hoover,182\n",
            "\t31\tHerbert Hoover\t182\n",
            "\t\n",
            "32,Franklin D. Roosevelt,188\n",
            "\t32\tFranklin D. Roosevelt\t188\n",
            "\t\n",
            "33,Harry S. Truman,175\n",
            "\t33\tHarry S. Truman\t175\n",
            "\t\n",
            "34,Dwight D. Eisenhower,179\n",
            "\t34\tDwight D. Eisenhower\t179\n",
            "\t\n",
            "35,John F. Kennedy,183\n",
            "\t35\tJohn F. Kennedy\t183\n",
            "\t\n",
            "36,Lyndon B. Johnson,193\n",
            "\t36\tLyndon B. Johnson\t193\n",
            "\t\n",
            "37,Richard Nixon,182\n",
            "\t37\tRichard Nixon\t182\n",
            "\t\n",
            "38,Gerald Ford,183\n",
            "\t38\tGerald Ford\t183\n",
            "\t\n",
            "39,Jimmy Carter,177\n",
            "\t39\tJimmy Carter\t177\n",
            "\t\n",
            "40,Ronald Reagan,185\n",
            "\t40\tRonald Reagan\t185\n",
            "\t\n",
            "41,George H. W. Bush,188\n",
            "\t41\tGeorge H. W. Bush\t188\n",
            "\t\n",
            "42,Bill Clinton,188\n",
            "\t42\tBill Clinton\t188\n",
            "\t\n",
            "43,George W. Bush,182\n",
            "\t43\tGeorge W. Bush\t182\n",
            "\t\n",
            "44,Barack Obama,185\n",
            "\t44\tBarack Obama\t185\n",
            "\t\n"
          ],
          "name": "stdout"
        }
      ]
    },
    {
      "cell_type": "code",
      "metadata": {
        "colab": {
          "base_uri": "https://localhost:8080/"
        },
        "id": "Fg7u0Wr8AlqX",
        "outputId": "2883635e-1926-4706-d756-f6c4f2f8591f"
      },
      "source": [
        "with open('/drive/MyDrive/Colab/AI1_Ouseoung_Lee/president_heights.csv',\n",
        "            'r', encoding='utf-8') as f:\n",
        "\n",
        "    line = f.readline()     # 하나의 레코드\n",
        "    while line:\n",
        "        print(f'record : {line}')\n",
        "        line = f.readline()"
      ],
      "execution_count": 13,
      "outputs": [
        {
          "output_type": "stream",
          "text": [
            "record : order,name,height(cm)\n",
            "\n",
            "record : 1,George Washington,189\n",
            "\n",
            "record : 2,John Adams,170\n",
            "\n",
            "record : 3,Thomas Jefferson,189\n",
            "\n",
            "record : 4,James Madison,163\n",
            "\n",
            "record : 5,James Monroe,183\n",
            "\n",
            "record : 6,John Quincy Adams,171\n",
            "\n",
            "record : 7,Andrew Jackson,185\n",
            "\n",
            "record : 8,Martin Van Buren,168\n",
            "\n",
            "record : 9,William Henry Harrison,173\n",
            "\n",
            "record : 10,John Tyler,183\n",
            "\n",
            "record : 11,James K. Polk,173\n",
            "\n",
            "record : 12,Zachary Taylor,173\n",
            "\n",
            "record : 13,Millard Fillmore,175\n",
            "\n",
            "record : 14,Franklin Pierce,178\n",
            "\n",
            "record : 15,James Buchanan,183\n",
            "\n",
            "record : 16,Abraham Lincoln,193\n",
            "\n",
            "record : 17,Andrew Johnson,178\n",
            "\n",
            "record : 18,Ulysses S. Grant,173\n",
            "\n",
            "record : 19,Rutherford B. Hayes,174\n",
            "\n",
            "record : 20,James A. Garfield,183\n",
            "\n",
            "record : 21,Chester A. Arthur,183\n",
            "\n",
            "record : 23,Benjamin Harrison,168\n",
            "\n",
            "record : 25,William McKinley,170\n",
            "\n",
            "record : 26,Theodore Roosevelt,178\n",
            "\n",
            "record : 27,William Howard Taft,182\n",
            "\n",
            "record : 28,Woodrow Wilson,180\n",
            "\n",
            "record : 29,Warren G. Harding,183\n",
            "\n",
            "record : 30,Calvin Coolidge,178\n",
            "\n",
            "record : 31,Herbert Hoover,182\n",
            "\n",
            "record : 32,Franklin D. Roosevelt,188\n",
            "\n",
            "record : 33,Harry S. Truman,175\n",
            "\n",
            "record : 34,Dwight D. Eisenhower,179\n",
            "\n",
            "record : 35,John F. Kennedy,183\n",
            "\n",
            "record : 36,Lyndon B. Johnson,193\n",
            "\n",
            "record : 37,Richard Nixon,182\n",
            "\n",
            "record : 38,Gerald Ford,183\n",
            "\n",
            "record : 39,Jimmy Carter,177\n",
            "\n",
            "record : 40,Ronald Reagan,185\n",
            "\n",
            "record : 41,George H. W. Bush,188\n",
            "\n",
            "record : 42,Bill Clinton,188\n",
            "\n",
            "record : 43,George W. Bush,182\n",
            "\n",
            "record : 44,Barack Obama,185\n",
            "\n"
          ],
          "name": "stdout"
        }
      ]
    }
  ]
}