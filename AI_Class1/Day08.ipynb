{
  "nbformat": 4,
  "nbformat_minor": 0,
  "metadata": {
    "colab": {
      "name": "Day08.ipynb",
      "provenance": [],
      "collapsed_sections": [],
      "toc_visible": true,
      "authorship_tag": "ABX9TyNB27birZQwlQC7K/ItJ36N",
      "include_colab_link": true
    },
    "kernelspec": {
      "name": "python3",
      "display_name": "Python 3"
    },
    "language_info": {
      "name": "python"
    }
  },
  "cells": [
    {
      "cell_type": "markdown",
      "metadata": {
        "id": "view-in-github",
        "colab_type": "text"
      },
      "source": [
        "<a href=\"https://colab.research.google.com/github/PyBlin/Study/blob/main/AI_Class1/Day08.ipynb\" target=\"_parent\"><img src=\"https://colab.research.google.com/assets/colab-badge.svg\" alt=\"Open In Colab\"/></a>"
      ]
    },
    {
      "cell_type": "markdown",
      "metadata": {
        "id": "YqFRfKLoqaXB"
      },
      "source": [
        "# list\n",
        "\n",
        "### list 메서드"
      ]
    },
    {
      "cell_type": "code",
      "metadata": {
        "colab": {
          "base_uri": "https://localhost:8080/"
        },
        "id": "lkPnfgb6n-IM",
        "outputId": "0ace281b-2d4b-4b54-c61f-6bb5901ad4ad"
      },
      "source": [
        "l = [5, 3, 1, 2, 4]\n",
        "print(f'l = {l} (length = {len(l)})')"
      ],
      "execution_count": 1,
      "outputs": [
        {
          "output_type": "stream",
          "text": [
            "l = [5, 3, 1, 2, 4] (length = 5)\n"
          ],
          "name": "stdout"
        }
      ]
    },
    {
      "cell_type": "code",
      "metadata": {
        "id": "a11ycSNeqsxs",
        "colab": {
          "base_uri": "https://localhost:8080/"
        },
        "outputId": "ab69a78b-293a-49aa-c949-909143ac7f72"
      },
      "source": [
        "l.sort()            # list 내용 정렬, Ascending(오름차순) sort - default(기본)\n",
        "print(f'l = {l} (length = {len(l)})')"
      ],
      "execution_count": 2,
      "outputs": [
        {
          "output_type": "stream",
          "text": [
            "l = [1, 2, 3, 4, 5] (length = 5)\n"
          ],
          "name": "stdout"
        }
      ]
    },
    {
      "cell_type": "code",
      "metadata": {
        "colab": {
          "base_uri": "https://localhost:8080/"
        },
        "id": "SlywhIhYvGsI",
        "outputId": "d073cc3e-37b6-446a-e33f-1792d16ac41e"
      },
      "source": [
        "l.sort(reverse=True)            # Descending(내림차순) sort\n",
        "print(f'l = {l} (length = {len(l)})')"
      ],
      "execution_count": 3,
      "outputs": [
        {
          "output_type": "stream",
          "text": [
            "l = [5, 4, 3, 2, 1] (length = 5)\n"
          ],
          "name": "stdout"
        }
      ]
    },
    {
      "cell_type": "code",
      "metadata": {
        "colab": {
          "base_uri": "https://localhost:8080/"
        },
        "id": "Sr7wKzdpwGhj",
        "outputId": "edb962c0-5c0d-44f4-dc87-2f5cb8bb7b62"
      },
      "source": [
        "l = ['banana', 'melon', 'watermelon', 'apple']\n",
        "print(f'l = {l} (length = {len(l)})')"
      ],
      "execution_count": 4,
      "outputs": [
        {
          "output_type": "stream",
          "text": [
            "l = ['banana', 'melon', 'watermelon', 'apple'] (length = 4)\n"
          ],
          "name": "stdout"
        }
      ]
    },
    {
      "cell_type": "code",
      "metadata": {
        "colab": {
          "base_uri": "https://localhost:8080/"
        },
        "id": "ORFH6JodwMhW",
        "outputId": "1ff08370-cb71-4c23-86b2-b2cf0ef251fc"
      },
      "source": [
        "l.sort()\n",
        "print(f'l = {l} (length = {len(l)})')"
      ],
      "execution_count": 5,
      "outputs": [
        {
          "output_type": "stream",
          "text": [
            "l = ['apple', 'banana', 'melon', 'watermelon'] (length = 4)\n"
          ],
          "name": "stdout"
        }
      ]
    },
    {
      "cell_type": "code",
      "metadata": {
        "colab": {
          "base_uri": "https://localhost:8080/"
        },
        "id": "Ns7jDJ8-wQMM",
        "outputId": "778841b2-45bf-44c8-c7b7-fdc3aaff09bb"
      },
      "source": [
        "l = ['abc', 'ab', 'abcd']\n",
        "print(f'l = {l} (length = {len(l)})')"
      ],
      "execution_count": 6,
      "outputs": [
        {
          "output_type": "stream",
          "text": [
            "l = ['abc', 'ab', 'abcd'] (length = 3)\n"
          ],
          "name": "stdout"
        }
      ]
    },
    {
      "cell_type": "code",
      "metadata": {
        "colab": {
          "base_uri": "https://localhost:8080/"
        },
        "id": "EPa_qjZxwbbO",
        "outputId": "a6dc4926-544a-4549-b4ed-d51873fc46d3"
      },
      "source": [
        "l.sort()\n",
        "print(f'l = {l} (length = {len(l)})')"
      ],
      "execution_count": 7,
      "outputs": [
        {
          "output_type": "stream",
          "text": [
            "l = ['ab', 'abc', 'abcd'] (length = 3)\n"
          ],
          "name": "stdout"
        }
      ]
    },
    {
      "cell_type": "code",
      "metadata": {
        "colab": {
          "base_uri": "https://localhost:8080/"
        },
        "id": "Rk95DrGIweqp",
        "outputId": "eb9f67b8-8794-4e0b-925d-43300b8dfbfb"
      },
      "source": [
        "l = [5, 3, 1, 4, 2]\n",
        "print(f'l = {l} (length = {len(l)})')"
      ],
      "execution_count": 8,
      "outputs": [
        {
          "output_type": "stream",
          "text": [
            "l = [5, 3, 1, 4, 2] (length = 5)\n"
          ],
          "name": "stdout"
        }
      ]
    },
    {
      "cell_type": "code",
      "metadata": {
        "colab": {
          "base_uri": "https://localhost:8080/"
        },
        "id": "rA3qYY9vxGYI",
        "outputId": "c81a3594-28f6-4850-9cbd-69b79fd38fe2"
      },
      "source": [
        "l2 = sorted(l)          # l의 내용은 바꾸지 않고 정렬된 결과를 반환\n",
        "\n",
        "print(f'l = {l} (length = {len(l)})')\n",
        "print(f'l2 = {l2} (length = {len(l2)})')"
      ],
      "execution_count": 9,
      "outputs": [
        {
          "output_type": "stream",
          "text": [
            "l = [5, 3, 1, 4, 2] (length = 5)\n",
            "l2 = [1, 2, 3, 4, 5] (length = 5)\n"
          ],
          "name": "stdout"
        }
      ]
    },
    {
      "cell_type": "code",
      "metadata": {
        "colab": {
          "base_uri": "https://localhost:8080/"
        },
        "id": "inm6uqFVxOa7",
        "outputId": "3e3100ce-a8b0-42ff-98b6-cece1a5d5b06"
      },
      "source": [
        "l3 = sorted(l, reverse=True)\n",
        "\n",
        "print(f'l = {l} (length = {len(l)})')\n",
        "print(f'l3 = {l3} (length = {len(l3)})')"
      ],
      "execution_count": 10,
      "outputs": [
        {
          "output_type": "stream",
          "text": [
            "l = [5, 3, 1, 4, 2] (length = 5)\n",
            "l3 = [5, 4, 3, 2, 1] (length = 5)\n"
          ],
          "name": "stdout"
        }
      ]
    },
    {
      "cell_type": "markdown",
      "metadata": {
        "id": "KPYXRif5zKYn"
      },
      "source": [
        "### list comprehension (list 내장)\n",
        "### 1~10정수값을 list에 저장"
      ]
    },
    {
      "cell_type": "code",
      "metadata": {
        "colab": {
          "base_uri": "https://localhost:8080/"
        },
        "id": "CImn2_0uyUXr",
        "outputId": "8fef4fbb-7cdf-4887-f560-e6815b1c9b27"
      },
      "source": [
        "# 직접 list를 생성할 때 값을 지정하는 방법으로 생성\n",
        "l= [1, 2, 3, 4, 5, 6, 7, 8, 9, 10]          # 생성할 list값 직접 입력\n",
        "print(f'l = {l} (length = {len(l)})')"
      ],
      "execution_count": 11,
      "outputs": [
        {
          "output_type": "stream",
          "text": [
            "l = [1, 2, 3, 4, 5, 6, 7, 8, 9, 10] (length = 10)\n"
          ],
          "name": "stdout"
        }
      ]
    },
    {
      "cell_type": "code",
      "metadata": {
        "colab": {
          "base_uri": "https://localhost:8080/"
        },
        "id": "F1c2gXEBzZqK",
        "outputId": "4d7d63bc-285c-41b7-c7a0-aa86c10c5764"
      },
      "source": [
        "# 반복문을 이용하여 list를 생성\n",
        "l = []          # 빈 list 생성\n",
        "for i in range(1, 101, 1):\n",
        "    l.append(i)\n",
        "\n",
        "print(f'l = {l} (length = {len(l)})')"
      ],
      "execution_count": 12,
      "outputs": [
        {
          "output_type": "stream",
          "text": [
            "l = [1, 2, 3, 4, 5, 6, 7, 8, 9, 10, 11, 12, 13, 14, 15, 16, 17, 18, 19, 20, 21, 22, 23, 24, 25, 26, 27, 28, 29, 30, 31, 32, 33, 34, 35, 36, 37, 38, 39, 40, 41, 42, 43, 44, 45, 46, 47, 48, 49, 50, 51, 52, 53, 54, 55, 56, 57, 58, 59, 60, 61, 62, 63, 64, 65, 66, 67, 68, 69, 70, 71, 72, 73, 74, 75, 76, 77, 78, 79, 80, 81, 82, 83, 84, 85, 86, 87, 88, 89, 90, 91, 92, 93, 94, 95, 96, 97, 98, 99, 100] (length = 100)\n"
          ],
          "name": "stdout"
        }
      ]
    },
    {
      "cell_type": "code",
      "metadata": {
        "colab": {
          "base_uri": "https://localhost:8080/"
        },
        "id": "nnGE6NIV0b8n",
        "outputId": "067602f8-152d-410b-b407-f89a4df9bb15"
      },
      "source": [
        "# list comprehension(list 내장)을 이용하여 list 생성\n",
        "l = [i for i in range(1, 11, 1)]            # 반복문의 결과를 사용해서 생성\n",
        "print(f'l = {l} (length = {len(l)})')"
      ],
      "execution_count": 13,
      "outputs": [
        {
          "output_type": "stream",
          "text": [
            "l = [1, 2, 3, 4, 5, 6, 7, 8, 9, 10] (length = 10)\n"
          ],
          "name": "stdout"
        }
      ]
    },
    {
      "cell_type": "code",
      "metadata": {
        "colab": {
          "base_uri": "https://localhost:8080/"
        },
        "id": "h6XwPcm01agm",
        "outputId": "215901c7-0017-46ae-d47c-7ed60b77339d"
      },
      "source": [
        "l = [i**2 for i in range(1, 11, 1)]\n",
        "print(f'l = {l} (length = {len(l)})')"
      ],
      "execution_count": 14,
      "outputs": [
        {
          "output_type": "stream",
          "text": [
            "l = [1, 4, 9, 16, 25, 36, 49, 64, 81, 100] (length = 10)\n"
          ],
          "name": "stdout"
        }
      ]
    },
    {
      "cell_type": "code",
      "metadata": {
        "colab": {
          "base_uri": "https://localhost:8080/"
        },
        "id": "fK1nZErI3OVD",
        "outputId": "e96a8d23-1d78-46a4-b1ad-390fc89d9cfa"
      },
      "source": [
        "# 1~10에서 짝수를 list에 저장\n",
        "l = [i for i in range(2, 11, 2)]\n",
        "print(f'l = {l} (length = {len(l)})')"
      ],
      "execution_count": 15,
      "outputs": [
        {
          "output_type": "stream",
          "text": [
            "l = [2, 4, 6, 8, 10] (length = 5)\n"
          ],
          "name": "stdout"
        }
      ]
    },
    {
      "cell_type": "code",
      "metadata": {
        "colab": {
          "base_uri": "https://localhost:8080/"
        },
        "id": "ANTQXvsf3aG4",
        "outputId": "94fcfee0-71f1-4055-fa68-a7564531006a"
      },
      "source": [
        "# 1~10에서 짝수를 list에 저장\n",
        "l = [i for i in range(1, 11, 1) if i%2 == 0]\n",
        "print(f'l = {l} (length = {len(l)})')"
      ],
      "execution_count": 16,
      "outputs": [
        {
          "output_type": "stream",
          "text": [
            "l = [2, 4, 6, 8, 10] (length = 5)\n"
          ],
          "name": "stdout"
        }
      ]
    },
    {
      "cell_type": "markdown",
      "metadata": {
        "id": "X_IaFKSD3tAn"
      },
      "source": [
        "### list comprehension 중첩"
      ]
    },
    {
      "cell_type": "code",
      "metadata": {
        "colab": {
          "base_uri": "https://localhost:8080/"
        },
        "id": "FofCeLP13jBe",
        "outputId": "824e4041-3f82-4284-be58-83d8d0b15026"
      },
      "source": [
        "l = [(i, j) for i in range(5) for j in range(3)]\n",
        "print(f'l = {l} (length = {len(l)})')"
      ],
      "execution_count": 17,
      "outputs": [
        {
          "output_type": "stream",
          "text": [
            "l = [(0, 0), (0, 1), (0, 2), (1, 0), (1, 1), (1, 2), (2, 0), (2, 1), (2, 2), (3, 0), (3, 1), (3, 2), (4, 0), (4, 1), (4, 2)] (length = 15)\n"
          ],
          "name": "stdout"
        }
      ]
    },
    {
      "cell_type": "code",
      "metadata": {
        "colab": {
          "base_uri": "https://localhost:8080/"
        },
        "id": "fpB8y1yD4Iyl",
        "outputId": "a5837140-a2d7-479b-c338-e6872c551288"
      },
      "source": [
        "l = []\n",
        "\n",
        "# 중첩 for 문\n",
        "for i in range(5):          # 바깥 for문\n",
        "    for j in range(3):      # 안쪽 for문\n",
        "        l.append((i, j))    # 안쪽이 끝나야 바깥이 실행됨\n",
        "\n",
        "print(f'l = {l} (length = {len(l)})')"
      ],
      "execution_count": 18,
      "outputs": [
        {
          "output_type": "stream",
          "text": [
            "l = [(0, 0), (0, 1), (0, 2), (1, 0), (1, 1), (1, 2), (2, 0), (2, 1), (2, 2), (3, 0), (3, 1), (3, 2), (4, 0), (4, 1), (4, 2)] (length = 15)\n"
          ],
          "name": "stdout"
        }
      ]
    },
    {
      "cell_type": "code",
      "metadata": {
        "colab": {
          "base_uri": "https://localhost:8080/"
        },
        "id": "XNVxbpje4i9z",
        "outputId": "b013920b-c620-47b5-fda6-ba912f81236c"
      },
      "source": [
        "string = 'abc'\n",
        "t = (1, 2, 3)\n",
        "\n",
        "l = [(x, y) for x in string for y in t]\n",
        "\n",
        "print(f'l = {l} (length = {len(l)})')"
      ],
      "execution_count": 19,
      "outputs": [
        {
          "output_type": "stream",
          "text": [
            "l = [('a', 1), ('a', 2), ('a', 3), ('b', 1), ('b', 2), ('b', 3), ('c', 1), ('c', 2), ('c', 3)] (length = 9)\n"
          ],
          "name": "stdout"
        }
      ]
    },
    {
      "cell_type": "markdown",
      "metadata": {
        "id": "UXtSUv609PT6"
      },
      "source": [
        "### list 적용 실습"
      ]
    },
    {
      "cell_type": "markdown",
      "metadata": {
        "id": "VGYkXdHJ9mKB"
      },
      "source": [
        "### 문제) 5명의 학생 점수를 입력 받아 합계와 평균을 출력하는 파이썬 스크립트 작성\n",
        "\n",
        "문제 이해)\n",
        "\n",
        "    입력 자료 : 5명 학생 점수\n",
        "    출력 자료 : 합계, 평균\n",
        "    * 합계 : 5명 학생 점수를 더한다.\n",
        "    * 평균 : 합계를 인원수로 나눈다.\n",
        "\n",
        "알고리즘 설계)\n",
        "\n",
        "    0. 변수 정의\n",
        "    1. 5만큼 반복\n",
        "        1.1 학생 점수 입력\n",
        "        1.2 합계 계산\n",
        "    2. 평균 계산\n",
        "    3. 결과 출력"
      ]
    },
    {
      "cell_type": "code",
      "metadata": {
        "colab": {
          "base_uri": "https://localhost:8080/"
        },
        "id": "NwSUcbEr4yRS",
        "outputId": "b4652f0e-b4bf-4a83-f2a1-9f9e315fbce6"
      },
      "source": [
        "score1 = int(float(input('점수1 입력 : ')))\n",
        "score2 = int(float(input('점수2 입력 : ')))\n",
        "score3 = int(float(input('점수3 입력 : ')))\n",
        "score4 = int(float(input('점수4 입력 : ')))\n",
        "score5 = int(float(input('점수5 입력 : ')))\n",
        "\n",
        "total = score1 + score2 + score3 + score4 + score5\n",
        "average = total/5\n",
        "\n",
        "print(f'\\ntotal = {total}\\taverage = {average}')"
      ],
      "execution_count": 20,
      "outputs": [
        {
          "output_type": "stream",
          "text": [
            "점수1 입력 : 10\n",
            "점수2 입력 : 20\n",
            "점수3 입력 : 30\n",
            "점수4 입력 : 40\n",
            "점수5 입력 : 50\n",
            "\n",
            "total = 150\taverage = 30.0\n"
          ],
          "name": "stdout"
        }
      ]
    },
    {
      "cell_type": "code",
      "metadata": {
        "colab": {
          "base_uri": "https://localhost:8080/"
        },
        "id": "rBYP1Hsi_ZNp",
        "outputId": "20a6a409-ca3b-425e-eb99-6e67113fec4f"
      },
      "source": [
        "total = 0\n",
        "\n",
        "for i in range(5):\n",
        "    score = int(float(input(f'점수{i+1:2} 입력 : ')))\n",
        "    total += score\n",
        "average = total/5\n",
        "\n",
        "print(f'\\ntotal = {total}\\taverage = {average}')"
      ],
      "execution_count": 21,
      "outputs": [
        {
          "output_type": "stream",
          "text": [
            "점수 1 입력 : 10\n",
            "점수 2 입력 : 20\n",
            "점수 3 입력 : 30\n",
            "점수 4 입력 : 40\n",
            "점수 5 입력 : 50\n",
            "\n",
            "total = 150\taverage = 30.0\n"
          ],
          "name": "stdout"
        }
      ]
    },
    {
      "cell_type": "code",
      "metadata": {
        "colab": {
          "base_uri": "https://localhost:8080/"
        },
        "id": "MgczClT6BLCC",
        "outputId": "294d2428-26bf-44b8-fc6d-16fdb54f6a27"
      },
      "source": [
        "# 누적 방식 --> 마지막 학생의 점수가 total 점수가 된다.\n",
        "# 나중에 5명 점수의 합계만 필요할 때 불편.\n",
        "MAX_STUDENT = 5         # Symbolic Constant : 의미화 상수, literal에 의미 부여\n",
        "total = 0\n",
        "\n",
        "for i in range(MAX_STUDENT):\n",
        "    score = int(float(input(f'점수{i+1:2} 입력 : ')))       # :2 --> 띄어쓰기\n",
        "    total += score  \n",
        "average = total / MAX_STUDENT\n",
        "\n",
        "print(f'\\ntotal = {total}\\taverage = {average}')"
      ],
      "execution_count": 22,
      "outputs": [
        {
          "output_type": "stream",
          "text": [
            "점수 1 입력 : 10\n",
            "점수 2 입력 : 20\n",
            "점수 3 입력 : 30\n",
            "점수 4 입력 : 40\n",
            "점수 5 입력 : 50\n",
            "\n",
            "total = 150\taverage = 30.0\n"
          ],
          "name": "stdout"
        }
      ]
    },
    {
      "cell_type": "code",
      "metadata": {
        "colab": {
          "base_uri": "https://localhost:8080/"
        },
        "id": "J08BJLOYClkL",
        "outputId": "60722f32-8808-458e-fc95-9cfa90714ab3"
      },
      "source": [
        "MAX_STUDENT = 5\n",
        "scores = []         # 학생 점수 저장 list\n",
        "total = 0\n",
        "\n",
        "for i in range(MAX_STUDENT):\n",
        "    score = int(float(input(f'점수{i+1:2} 입력 : ')))\n",
        "    scores.append(score)\n",
        "    total += score\n",
        "average = total / MAX_STUDENT\n",
        "\n",
        "print(f'\\ntotal = {total}\\taverage = {average}')"
      ],
      "execution_count": 23,
      "outputs": [
        {
          "output_type": "stream",
          "text": [
            "점수 1 입력 : 10\n",
            "점수 2 입력 : 20\n",
            "점수 3 입력 : 30\n",
            "점수 4 입력 : 40\n",
            "점수 5 입력 : 50\n",
            "\n",
            "total = 150\taverage = 30.0\n"
          ],
          "name": "stdout"
        }
      ]
    },
    {
      "cell_type": "markdown",
      "metadata": {
        "id": "uGM1qZ_4EnsX"
      },
      "source": [
        "### 문제) 5명의 점수를 입력 받아 평균과의 차이를 출력하는 파이썬 스크립트 작성\n",
        "\n",
        "문제 이해)\n",
        "\n",
        "    입력 자료 : 5명 점수\n",
        "    출력 자료 : 5명 점수에 대한 평균과의 차이값\n",
        "    * 평균과의 차이값 : 먼저 평균을 계산하고 평균에서 점수를 뺀 값\n",
        "\n",
        "알고리즘 설계)\n",
        "\n",
        "    0. 변수 정의\n",
        "    1. 5번 반복\n",
        "        1.1 점수 입력\n",
        "        1.2 합계 계산\n",
        "    2. 평균 계산\n",
        "    3. 각 점수와 평균과의 차이값 출력"
      ]
    },
    {
      "cell_type": "code",
      "metadata": {
        "colab": {
          "base_uri": "https://localhost:8080/"
        },
        "id": "rh6ncjflEmef",
        "outputId": "7a6c1b99-090b-4413-ceb3-db1ea96a1a4a"
      },
      "source": [
        "MAX_STUDENT = 5\n",
        "scores = []\n",
        "total = 0\n",
        "\n",
        "for i in range(MAX_STUDENT):\n",
        "    score = int(float(input(f'점수{i+1:2} 입력 : ')))\n",
        "    scores.append(score)\n",
        "    total += score\n",
        "average = total / MAX_STUDENT\n",
        "\n",
        "print()\n",
        "for i in range(MAX_STUDENT):\n",
        "    difference = average - scores[i]\n",
        "    print(f'average = {average:5.2f}\\tscore = {scores[i]:3} \\\n",
        "    \\tdifference = {difference:5.2f}')         # :5.2f --> 5자리 중의 2자리"
      ],
      "execution_count": 24,
      "outputs": [
        {
          "output_type": "stream",
          "text": [
            "점수 1 입력 : 10\n",
            "점수 2 입력 : 20\n",
            "점수 3 입력 : 30\n",
            "점수 4 입력 : 40\n",
            "점수 5 입력 : 50\n",
            "\n",
            "average = 30.00\tscore =  10     \tdifference = 20.00\n",
            "average = 30.00\tscore =  20     \tdifference = 10.00\n",
            "average = 30.00\tscore =  30     \tdifference =  0.00\n",
            "average = 30.00\tscore =  40     \tdifference = -10.00\n",
            "average = 30.00\tscore =  50     \tdifference = -20.00\n"
          ],
          "name": "stdout"
        }
      ]
    },
    {
      "cell_type": "markdown",
      "metadata": {
        "id": "LDFVcM2WJ-nQ"
      },
      "source": [
        "### 문제) 3명 학생 이름, 3과목 점수를 입력받아 평균과 총점을 계산한 후 전체 학생에 대한 성적 일람표를 출력하는 파이썬 스크립트 작성\n",
        "\n",
        "문제 이해)\n",
        "\n",
        "    입력 자료 : 3명 학생 이름, 3과목 점수\n",
        "    출력 자료 : 3명 학생 성적 일람표 출력\n",
        "\n",
        "알고리즘 설계)\n",
        "\n",
        "    0. 변수 정의\n",
        "    1. 3만큼 반복\n",
        "        1.1 학생 성적 정보 입력\n",
        "    2. 3만큼 반복\n",
        "        2.1 학생 총점, 평균 계산\n",
        "    3. 전체 성적 일람표 출력\n"
      ]
    },
    {
      "cell_type": "code",
      "metadata": {
        "colab": {
          "base_uri": "https://localhost:8080/"
        },
        "id": "yBOjse0oG12O",
        "outputId": "8540d683-1777-472a-fba8-0154e6f80807"
      },
      "source": [
        "'''\n",
        " Symbolic Constant - 일반 변수와 구별하기 위해 대문자로 사용\n",
        "                   - 추후 변할 수 있는 값에 사용\n",
        "                   - 고정된 값 (pi(3.14), 일반상수 등)에 사용 ㄴㄴ\n",
        "'''\n",
        "MAX_STUDENT = 3\n",
        "MAX_SUBJECT = 3\n",
        "\n",
        "# 변수 정의\n",
        "students = []   # 전체 학생 저장\n",
        "\n",
        "# 3명의 학생 성적 입력 및 총점 평균 계산\n",
        "for i in range(MAX_STUDENT):\n",
        "    student = []    # 한 명의 학생 성적 정보, reset\n",
        "    total = 0       # reset\n",
        "    name = input(f'{i+1:2}번 째 학생 이름 입력 : ')\n",
        "    student.append(name)\n",
        "    \n",
        "    for j in range(MAX_SUBJECT):\n",
        "        score = int(float(input(f'{name:<10} 학생 {j+1:2}번 째 점수 입력 : ')))\n",
        "        student.append(score)\n",
        "        total += score\n",
        "\n",
        "    student.append(total)\n",
        "    average = total / MAX_SUBJECT\n",
        "    student.append(average)\n",
        "\n",
        "    students.append(student)\n",
        "    print()\n",
        "\n",
        "print()\n",
        "# 성적 일람표 출력\n",
        "for v in students:\n",
        "    print(f'{v[0]:<10} {v[1]:5} {v[2]:5} {v[3]:5} {v[4]:5} {v[5]:8.2f}')"
      ],
      "execution_count": 25,
      "outputs": [
        {
          "output_type": "stream",
          "text": [
            " 1번 째 학생 이름 입력 : Hong\n",
            "Hong       학생  1번 째 점수 입력 : 10\n",
            "Hong       학생  2번 째 점수 입력 : 20\n",
            "Hong       학생  3번 째 점수 입력 : 30\n",
            "\n",
            " 2번 째 학생 이름 입력 : Kim\n",
            "Kim        학생  1번 째 점수 입력 : 40\n",
            "Kim        학생  2번 째 점수 입력 : 50\n",
            "Kim        학생  3번 째 점수 입력 : 60\n",
            "\n",
            " 3번 째 학생 이름 입력 : Lee\n",
            "Lee        학생  1번 째 점수 입력 : 70\n",
            "Lee        학생  2번 째 점수 입력 : 80\n",
            "Lee        학생  3번 째 점수 입력 : 90\n",
            "\n",
            "\n",
            "Hong          10    20    30    60    20.00\n",
            "Kim           40    50    60   150    50.00\n",
            "Lee           70    80    90   240    80.00\n"
          ],
          "name": "stdout"
        }
      ]
    },
    {
      "cell_type": "markdown",
      "metadata": {
        "id": "nHFj-EmNUPCv"
      },
      "source": [
        "### dict\n",
        "\n",
        "### dict 생성"
      ]
    },
    {
      "cell_type": "code",
      "metadata": {
        "colab": {
          "base_uri": "https://localhost:8080/"
        },
        "id": "rg8cgkfdUnL0",
        "outputId": "f0bb90e7-e85a-48a7-b348-426019971348"
      },
      "source": [
        "d = {}\n",
        "\n",
        "print(f'type : {type(d)}\\nd = {d}')"
      ],
      "execution_count": 26,
      "outputs": [
        {
          "output_type": "stream",
          "text": [
            "type : <class 'dict'>\n",
            "d = {}\n"
          ],
          "name": "stdout"
        }
      ]
    },
    {
      "cell_type": "code",
      "metadata": {
        "colab": {
          "base_uri": "https://localhost:8080/"
        },
        "id": "hzVRYGeMQS0M",
        "outputId": "ecc227df-faca-4f62-cef0-b66c96234bcc"
      },
      "source": [
        "d = {'hong' : [50, 50, 50],\n",
        "     'kim' : [90, 90, 90],\n",
        "     'lee' : [70, 70, 70]}\n",
        "\n",
        "print(f'type : {type(d)}\\ndict = {d}')"
      ],
      "execution_count": 27,
      "outputs": [
        {
          "output_type": "stream",
          "text": [
            "type : <class 'dict'>\n",
            "dict = {'hong': [50, 50, 50], 'kim': [90, 90, 90], 'lee': [70, 70, 70]}\n"
          ],
          "name": "stdout"
        }
      ]
    }
  ]
}