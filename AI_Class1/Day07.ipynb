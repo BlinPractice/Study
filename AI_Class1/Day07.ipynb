{
  "nbformat": 4,
  "nbformat_minor": 0,
  "metadata": {
    "colab": {
      "name": "Day07.ipynb",
      "provenance": [],
      "toc_visible": true,
      "authorship_tag": "ABX9TyO/bsnK53mAU4ZJpHffcLhY",
      "include_colab_link": true
    },
    "kernelspec": {
      "name": "python3",
      "display_name": "Python 3"
    },
    "language_info": {
      "name": "python"
    }
  },
  "cells": [
    {
      "cell_type": "markdown",
      "metadata": {
        "id": "view-in-github",
        "colab_type": "text"
      },
      "source": [
        "<a href=\"https://colab.research.google.com/github/PyBlin/Study/blob/main/AI_Class1/Day07.ipynb\" target=\"_parent\"><img src=\"https://colab.research.google.com/assets/colab-badge.svg\" alt=\"Open In Colab\"/></a>"
      ]
    },
    {
      "cell_type": "markdown",
      "metadata": {
        "id": "O8ElCKBYcBbg"
      },
      "source": [
        "## tuple\n",
        "\n",
        "### tuple 생성"
      ]
    },
    {
      "cell_type": "code",
      "metadata": {
        "id": "R_6NviLZcF2f"
      },
      "source": [
        "t = ()"
      ],
      "execution_count": 1,
      "outputs": []
    },
    {
      "cell_type": "code",
      "metadata": {
        "colab": {
          "base_uri": "https://localhost:8080/"
        },
        "id": "e9gvn4A_cLLe",
        "outputId": "42dceb57-a862-4b64-ab86-9eea3dfbf0f3"
      },
      "source": [
        "type(t)"
      ],
      "execution_count": 2,
      "outputs": [
        {
          "output_type": "execute_result",
          "data": {
            "text/plain": [
              "tuple"
            ]
          },
          "metadata": {
            "tags": []
          },
          "execution_count": 2
        }
      ]
    },
    {
      "cell_type": "code",
      "metadata": {
        "id": "vgc8MhT7cM6b"
      },
      "source": [
        "t = (1, 10.5, 'python')"
      ],
      "execution_count": 3,
      "outputs": []
    },
    {
      "cell_type": "code",
      "metadata": {
        "colab": {
          "base_uri": "https://localhost:8080/"
        },
        "id": "HNKmhU44cXhB",
        "outputId": "d8342bb6-b5a6-4a4c-8ba6-dcdbb9a88570"
      },
      "source": [
        "type(t)"
      ],
      "execution_count": 4,
      "outputs": [
        {
          "output_type": "execute_result",
          "data": {
            "text/plain": [
              "tuple"
            ]
          },
          "metadata": {
            "tags": []
          },
          "execution_count": 4
        }
      ]
    },
    {
      "cell_type": "code",
      "metadata": {
        "colab": {
          "base_uri": "https://localhost:8080/"
        },
        "id": "AuOjbiwHcZB8",
        "outputId": "28df009e-d57b-40e9-bd20-1ce643af25df"
      },
      "source": [
        "print(f't = {t}')"
      ],
      "execution_count": 5,
      "outputs": [
        {
          "output_type": "stream",
          "text": [
            "t = (1, 10.5, 'python')\n"
          ],
          "name": "stdout"
        }
      ]
    },
    {
      "cell_type": "code",
      "metadata": {
        "id": "CUy3ym5achNR"
      },
      "source": [
        "t = 1, 10.5, 'python'"
      ],
      "execution_count": 6,
      "outputs": []
    },
    {
      "cell_type": "code",
      "metadata": {
        "colab": {
          "base_uri": "https://localhost:8080/"
        },
        "id": "PGO1wRcjcj0O",
        "outputId": "9d86afea-6bc4-4969-8f34-91807ad43ba4"
      },
      "source": [
        "type(t)"
      ],
      "execution_count": 7,
      "outputs": [
        {
          "output_type": "execute_result",
          "data": {
            "text/plain": [
              "tuple"
            ]
          },
          "metadata": {
            "tags": []
          },
          "execution_count": 7
        }
      ]
    },
    {
      "cell_type": "code",
      "metadata": {
        "colab": {
          "base_uri": "https://localhost:8080/"
        },
        "id": "CWnb4Kq-clWf",
        "outputId": "fa7ea035-e521-4f35-f27e-c1757e8b1956"
      },
      "source": [
        "print(f't = {t}')"
      ],
      "execution_count": 8,
      "outputs": [
        {
          "output_type": "stream",
          "text": [
            "t = (1, 10.5, 'python')\n"
          ],
          "name": "stdout"
        }
      ]
    },
    {
      "cell_type": "code",
      "metadata": {
        "id": "nGWbBR5GcpY3"
      },
      "source": [
        "t = 1,"
      ],
      "execution_count": 9,
      "outputs": []
    },
    {
      "cell_type": "code",
      "metadata": {
        "colab": {
          "base_uri": "https://localhost:8080/"
        },
        "id": "ftl26E7hc8LU",
        "outputId": "2b315999-9aad-4fb6-91ab-b970d8d63c5f"
      },
      "source": [
        "type(t)"
      ],
      "execution_count": 10,
      "outputs": [
        {
          "output_type": "execute_result",
          "data": {
            "text/plain": [
              "tuple"
            ]
          },
          "metadata": {
            "tags": []
          },
          "execution_count": 10
        }
      ]
    },
    {
      "cell_type": "code",
      "metadata": {
        "colab": {
          "base_uri": "https://localhost:8080/"
        },
        "id": "U_D77SWVc-XT",
        "outputId": "7119ebcb-85df-41fa-af4f-deb723f2806b"
      },
      "source": [
        "print(f't = {t}')"
      ],
      "execution_count": 11,
      "outputs": [
        {
          "output_type": "stream",
          "text": [
            "t = (1,)\n"
          ],
          "name": "stdout"
        }
      ]
    },
    {
      "cell_type": "code",
      "metadata": {
        "colab": {
          "base_uri": "https://localhost:8080/"
        },
        "id": "ddIZcQ0TdAyy",
        "outputId": "35d33216-6b4e-45d5-c661-21e886f4820e"
      },
      "source": [
        "t = 1\n",
        "\n",
        "type(t)"
      ],
      "execution_count": 12,
      "outputs": [
        {
          "output_type": "execute_result",
          "data": {
            "text/plain": [
              "int"
            ]
          },
          "metadata": {
            "tags": []
          },
          "execution_count": 12
        }
      ]
    },
    {
      "cell_type": "code",
      "metadata": {
        "colab": {
          "base_uri": "https://localhost:8080/"
        },
        "id": "om1S8yjMdPsa",
        "outputId": "b7aaeeba-6bb1-4e9f-89d4-e4f64cc83044"
      },
      "source": [
        "t = (1,)\n",
        "\n",
        "type(t)"
      ],
      "execution_count": 13,
      "outputs": [
        {
          "output_type": "execute_result",
          "data": {
            "text/plain": [
              "tuple"
            ]
          },
          "metadata": {
            "tags": []
          },
          "execution_count": 13
        }
      ]
    },
    {
      "cell_type": "code",
      "metadata": {
        "colab": {
          "base_uri": "https://localhost:8080/"
        },
        "id": "wPzYOfXpdeh_",
        "outputId": "0e2d80db-73c5-4d15-ce47-cd4e7d432050"
      },
      "source": [
        "t = tuple()\n",
        "type(t)"
      ],
      "execution_count": 14,
      "outputs": [
        {
          "output_type": "execute_result",
          "data": {
            "text/plain": [
              "tuple"
            ]
          },
          "metadata": {
            "tags": []
          },
          "execution_count": 14
        }
      ]
    },
    {
      "cell_type": "code",
      "metadata": {
        "colab": {
          "base_uri": "https://localhost:8080/"
        },
        "id": "7BI7866YdkGE",
        "outputId": "cde22073-5fbe-4358-ea90-db88f09c04a6"
      },
      "source": [
        "t = tuple([1, 10.5, 'python'])\n",
        "\n",
        "type(t)"
      ],
      "execution_count": 15,
      "outputs": [
        {
          "output_type": "execute_result",
          "data": {
            "text/plain": [
              "tuple"
            ]
          },
          "metadata": {
            "tags": []
          },
          "execution_count": 15
        }
      ]
    },
    {
      "cell_type": "code",
      "metadata": {
        "colab": {
          "base_uri": "https://localhost:8080/"
        },
        "id": "bpcqFLZ_dpOs",
        "outputId": "1624489c-c9dc-4fc4-a77a-91ae513c2127"
      },
      "source": [
        "print(f't = {t}')"
      ],
      "execution_count": 16,
      "outputs": [
        {
          "output_type": "stream",
          "text": [
            "t = (1, 10.5, 'python')\n"
          ],
          "name": "stdout"
        }
      ]
    },
    {
      "cell_type": "markdown",
      "metadata": {
        "id": "90uiSL0ZeGld"
      },
      "source": [
        "# sequence 공통 연산"
      ]
    },
    {
      "cell_type": "code",
      "metadata": {
        "colab": {
          "base_uri": "https://localhost:8080/"
        },
        "id": "MPt4KNTpeJxw",
        "outputId": "ab0a1466-df4e-4ae1-cc87-340f843ab0e0"
      },
      "source": [
        "t = (1, 10.5, 'python')\n",
        "\n",
        "print(f'{type(t)}\\n{t}')"
      ],
      "execution_count": 17,
      "outputs": [
        {
          "output_type": "stream",
          "text": [
            "<class 'tuple'>\n",
            "(1, 10.5, 'python')\n"
          ],
          "name": "stdout"
        }
      ]
    },
    {
      "cell_type": "code",
      "metadata": {
        "colab": {
          "base_uri": "https://localhost:8080/"
        },
        "id": "7KOL897oe0is",
        "outputId": "fa6be873-bfe3-4e75-f18c-7e101486dbe7"
      },
      "source": [
        "print(t[0])         # t라는 변수의 0번 인덱스 값 읽기 --> 하나의 변수"
      ],
      "execution_count": 18,
      "outputs": [
        {
          "output_type": "stream",
          "text": [
            "1\n"
          ],
          "name": "stdout"
        }
      ]
    },
    {
      "cell_type": "code",
      "metadata": {
        "colab": {
          "base_uri": "https://localhost:8080/",
          "height": 172
        },
        "id": "2pCINCzef2kL",
        "outputId": "0605f01e-4ade-403f-8e3a-8989a48ac897"
      },
      "source": [
        "print(t[3])         # 인덱스 범위가 벗어난 경우 --> error"
      ],
      "execution_count": 19,
      "outputs": [
        {
          "output_type": "error",
          "ename": "IndexError",
          "evalue": "ignored",
          "traceback": [
            "\u001b[0;31m---------------------------------------------------------------------------\u001b[0m",
            "\u001b[0;31mIndexError\u001b[0m                                Traceback (most recent call last)",
            "\u001b[0;32m<ipython-input-19-e0fa172349fc>\u001b[0m in \u001b[0;36m<module>\u001b[0;34m()\u001b[0m\n\u001b[0;32m----> 1\u001b[0;31m \u001b[0mprint\u001b[0m\u001b[0;34m(\u001b[0m\u001b[0mt\u001b[0m\u001b[0;34m[\u001b[0m\u001b[0;36m3\u001b[0m\u001b[0;34m]\u001b[0m\u001b[0;34m)\u001b[0m         \u001b[0;31m# 인덱스 범위가 벗어난 경우 --> error\u001b[0m\u001b[0;34m\u001b[0m\u001b[0;34m\u001b[0m\u001b[0m\n\u001b[0m",
            "\u001b[0;31mIndexError\u001b[0m: tuple index out of range"
          ]
        }
      ]
    },
    {
      "cell_type": "code",
      "metadata": {
        "colab": {
          "base_uri": "https://localhost:8080/",
          "height": 190
        },
        "id": "a3oLWhbNf-ob",
        "outputId": "63a2bdb5-8813-4212-a38b-b4ef0449d6d5"
      },
      "source": [
        "t[0] = 100          # t라는 변수의 0번 인덱스 내용을 100으로 변경 --> error\n",
        "# tuple은 한 번 정해지면 변경 불가!!"
      ],
      "execution_count": 20,
      "outputs": [
        {
          "output_type": "error",
          "ename": "TypeError",
          "evalue": "ignored",
          "traceback": [
            "\u001b[0;31m---------------------------------------------------------------------------\u001b[0m",
            "\u001b[0;31mTypeError\u001b[0m                                 Traceback (most recent call last)",
            "\u001b[0;32m<ipython-input-20-c93dda789089>\u001b[0m in \u001b[0;36m<module>\u001b[0;34m()\u001b[0m\n\u001b[0;32m----> 1\u001b[0;31m \u001b[0mt\u001b[0m\u001b[0;34m[\u001b[0m\u001b[0;36m0\u001b[0m\u001b[0;34m]\u001b[0m \u001b[0;34m=\u001b[0m \u001b[0;36m100\u001b[0m          \u001b[0;31m# t라는 변수의 0번 인덱스 내용을 100으로 변경 --> error\u001b[0m\u001b[0;34m\u001b[0m\u001b[0;34m\u001b[0m\u001b[0m\n\u001b[0m\u001b[1;32m      2\u001b[0m \u001b[0;31m# tuple은 한 번 정해지면 변경 불가!!\u001b[0m\u001b[0;34m\u001b[0m\u001b[0;34m\u001b[0m\u001b[0;34m\u001b[0m\u001b[0m\n",
            "\u001b[0;31mTypeError\u001b[0m: 'tuple' object does not support item assignment"
          ]
        }
      ]
    },
    {
      "cell_type": "code",
      "metadata": {
        "colab": {
          "base_uri": "https://localhost:8080/"
        },
        "id": "4wS-pepZgRTl",
        "outputId": "dc8cedab-9fa9-4497-e94d-4e07ea228d48"
      },
      "source": [
        "# slicing\n",
        "t[0:2]"
      ],
      "execution_count": 101,
      "outputs": [
        {
          "output_type": "execute_result",
          "data": {
            "text/plain": [
              "(1, 2)"
            ]
          },
          "metadata": {
            "tags": []
          },
          "execution_count": 101
        }
      ]
    },
    {
      "cell_type": "code",
      "metadata": {
        "colab": {
          "base_uri": "https://localhost:8080/"
        },
        "id": "hOsk4qY_gd_-",
        "outputId": "37a3c714-5389-41be-e0bd-e14c4b276e48"
      },
      "source": [
        "t[::2]"
      ],
      "execution_count": 102,
      "outputs": [
        {
          "output_type": "execute_result",
          "data": {
            "text/plain": [
              "(1, 3, 5)"
            ]
          },
          "metadata": {
            "tags": []
          },
          "execution_count": 102
        }
      ]
    },
    {
      "cell_type": "code",
      "metadata": {
        "colab": {
          "base_uri": "https://localhost:8080/"
        },
        "id": "pJ_u0mkuggnc",
        "outputId": "3a41ab14-bf2d-4dc6-f411-2c9001f2cdf6"
      },
      "source": [
        "t[::-1]"
      ],
      "execution_count": 103,
      "outputs": [
        {
          "output_type": "execute_result",
          "data": {
            "text/plain": [
              "(5, 4, 3, 2, 1)"
            ]
          },
          "metadata": {
            "tags": []
          },
          "execution_count": 103
        }
      ]
    },
    {
      "cell_type": "code",
      "metadata": {
        "colab": {
          "base_uri": "https://localhost:8080/"
        },
        "id": "YpkgA2Nngji6",
        "outputId": "33bbaaf8-9c65-41f2-8924-058c95e84f76"
      },
      "source": [
        "t[-3:-1]"
      ],
      "execution_count": 104,
      "outputs": [
        {
          "output_type": "execute_result",
          "data": {
            "text/plain": [
              "(3, 4)"
            ]
          },
          "metadata": {
            "tags": []
          },
          "execution_count": 104
        }
      ]
    },
    {
      "cell_type": "code",
      "metadata": {
        "colab": {
          "base_uri": "https://localhost:8080/"
        },
        "id": "5OX0qToRgmUM",
        "outputId": "09e60afa-f7d1-40e2-a652-f9da0902c524"
      },
      "source": [
        "# 길이 계산\n",
        "len(t)          # t 변수에 저장되어 있는 값의 개수 (인덱스 개수 아님)"
      ],
      "execution_count": 105,
      "outputs": [
        {
          "output_type": "execute_result",
          "data": {
            "text/plain": [
              "5"
            ]
          },
          "metadata": {
            "tags": []
          },
          "execution_count": 105
        }
      ]
    },
    {
      "cell_type": "code",
      "metadata": {
        "colab": {
          "base_uri": "https://localhost:8080/"
        },
        "id": "YiCR6M6Gg468",
        "outputId": "70d9f01c-9db3-4897-c647-e58db1d15b25"
      },
      "source": [
        "# 연결\n",
        "t + (1, 2, 3)"
      ],
      "execution_count": 106,
      "outputs": [
        {
          "output_type": "execute_result",
          "data": {
            "text/plain": [
              "(1, 2, 3, 4, 5, 1, 2, 3)"
            ]
          },
          "metadata": {
            "tags": []
          },
          "execution_count": 106
        }
      ]
    },
    {
      "cell_type": "code",
      "metadata": {
        "colab": {
          "base_uri": "https://localhost:8080/"
        },
        "id": "ZOFQdpICg8Wo",
        "outputId": "72e177f4-2cc7-4f95-c8b3-f73e81d3df0a"
      },
      "source": [
        "t"
      ],
      "execution_count": 107,
      "outputs": [
        {
          "output_type": "execute_result",
          "data": {
            "text/plain": [
              "(1, 2, 3, 4, 5)"
            ]
          },
          "metadata": {
            "tags": []
          },
          "execution_count": 107
        }
      ]
    },
    {
      "cell_type": "code",
      "metadata": {
        "id": "51VX70b5hBFu"
      },
      "source": [
        "t = t + (1, 2, 3)"
      ],
      "execution_count": 108,
      "outputs": []
    },
    {
      "cell_type": "code",
      "metadata": {
        "colab": {
          "base_uri": "https://localhost:8080/"
        },
        "id": "vlB9ebJRhEO8",
        "outputId": "8106fb3e-733d-4a2b-da69-402fe2251b68"
      },
      "source": [
        "t"
      ],
      "execution_count": 109,
      "outputs": [
        {
          "output_type": "execute_result",
          "data": {
            "text/plain": [
              "(1, 2, 3, 4, 5, 1, 2, 3)"
            ]
          },
          "metadata": {
            "tags": []
          },
          "execution_count": 109
        }
      ]
    },
    {
      "cell_type": "code",
      "metadata": {
        "colab": {
          "base_uri": "https://localhost:8080/"
        },
        "id": "9VqMa-mihStz",
        "outputId": "83df59b1-8e00-436b-d6c8-2e10ea4ebd8b"
      },
      "source": [
        "# 반복\n",
        "t * 3"
      ],
      "execution_count": 110,
      "outputs": [
        {
          "output_type": "execute_result",
          "data": {
            "text/plain": [
              "(1, 2, 3, 4, 5, 1, 2, 3, 1, 2, 3, 4, 5, 1, 2, 3, 1, 2, 3, 4, 5, 1, 2, 3)"
            ]
          },
          "metadata": {
            "tags": []
          },
          "execution_count": 110
        }
      ]
    },
    {
      "cell_type": "code",
      "metadata": {
        "colab": {
          "base_uri": "https://localhost:8080/"
        },
        "id": "m1QRCPhyhVdt",
        "outputId": "44745ef9-d83e-45e9-aebd-cee25cf23bc3"
      },
      "source": [
        "# 포함 유무 확인\n",
        "1 in t"
      ],
      "execution_count": 111,
      "outputs": [
        {
          "output_type": "execute_result",
          "data": {
            "text/plain": [
              "True"
            ]
          },
          "metadata": {
            "tags": []
          },
          "execution_count": 111
        }
      ]
    },
    {
      "cell_type": "code",
      "metadata": {
        "colab": {
          "base_uri": "https://localhost:8080/"
        },
        "id": "i3aPQDcmhvVB",
        "outputId": "40c48ee9-ed79-4cf2-f003-2f709f6551aa"
      },
      "source": [
        "'python' in t"
      ],
      "execution_count": 112,
      "outputs": [
        {
          "output_type": "execute_result",
          "data": {
            "text/plain": [
              "False"
            ]
          },
          "metadata": {
            "tags": []
          },
          "execution_count": 112
        }
      ]
    },
    {
      "cell_type": "code",
      "metadata": {
        "colab": {
          "base_uri": "https://localhost:8080/"
        },
        "id": "lApxVuIchxo9",
        "outputId": "23108eea-96b4-4096-c16b-84576eb81cb3"
      },
      "source": [
        "'Python' in t"
      ],
      "execution_count": 113,
      "outputs": [
        {
          "output_type": "execute_result",
          "data": {
            "text/plain": [
              "False"
            ]
          },
          "metadata": {
            "tags": []
          },
          "execution_count": 113
        }
      ]
    },
    {
      "cell_type": "markdown",
      "metadata": {
        "id": "1uu1zaRCiDpQ"
      },
      "source": [
        "# tuple 메서드"
      ]
    },
    {
      "cell_type": "code",
      "metadata": {
        "colab": {
          "base_uri": "https://localhost:8080/"
        },
        "id": "md64SGRciEwB",
        "outputId": "562aa111-f67e-47b8-c2e8-7fae8ab8ff62"
      },
      "source": [
        "t = (1, 2, 3, 10.5, 1, 'python', 1)\n",
        "\n",
        "print(f't={t}')"
      ],
      "execution_count": 114,
      "outputs": [
        {
          "output_type": "stream",
          "text": [
            "t=(1, 2, 3, 10.5, 1, 'python', 1)\n"
          ],
          "name": "stdout"
        }
      ]
    },
    {
      "cell_type": "code",
      "metadata": {
        "colab": {
          "base_uri": "https://localhost:8080/"
        },
        "id": "H-w0vTu0ifWt",
        "outputId": "a6755542-de22-4759-ad15-fbfe00d9a78e"
      },
      "source": [
        "print(f't변수에 1은 몇 개 있는가? --> {t.count(1)}')"
      ],
      "execution_count": 115,
      "outputs": [
        {
          "output_type": "stream",
          "text": [
            "t변수에 1은 몇 개 있는가? --> 3\n"
          ],
          "name": "stdout"
        }
      ]
    },
    {
      "cell_type": "code",
      "metadata": {
        "colab": {
          "base_uri": "https://localhost:8080/"
        },
        "id": "69-nuMtCipli",
        "outputId": "d7bf8be7-d089-40cd-cd81-25f4682c5a0c"
      },
      "source": [
        "print(f't변수에서 1이 몇 번째에 있는가? --> {t.index(1)}')"
      ],
      "execution_count": 116,
      "outputs": [
        {
          "output_type": "stream",
          "text": [
            "t변수에서 1이 몇 번째에 있는가? --> 0\n"
          ],
          "name": "stdout"
        }
      ]
    },
    {
      "cell_type": "code",
      "metadata": {
        "colab": {
          "base_uri": "https://localhost:8080/"
        },
        "id": "1Ymu063gjLXR",
        "outputId": "86759d06-3b43-4980-af8d-d3c2002010ce"
      },
      "source": [
        "print(f't변수에서 1이 몇 번째에 있는가? --> {t.index(1, 1)}')"
      ],
      "execution_count": 117,
      "outputs": [
        {
          "output_type": "stream",
          "text": [
            "t변수에서 1이 몇 번째에 있는가? --> 4\n"
          ],
          "name": "stdout"
        }
      ]
    },
    {
      "cell_type": "markdown",
      "metadata": {
        "id": "S4eYGr3Nk03y"
      },
      "source": [
        "# tuple 중첩"
      ]
    },
    {
      "cell_type": "code",
      "metadata": {
        "colab": {
          "base_uri": "https://localhost:8080/"
        },
        "id": "ZZEXExDBk2hl",
        "outputId": "8882f423-f74e-4418-c375-0cd8762f216a"
      },
      "source": [
        "t = (1, 2, 3)\n",
        "t2 = t, (1, 10.5, 'python')\n",
        "\n",
        "print(f't={t}\\nt2={t2}')"
      ],
      "execution_count": 118,
      "outputs": [
        {
          "output_type": "stream",
          "text": [
            "t=(1, 2, 3)\n",
            "t2=((1, 2, 3), (1, 10.5, 'python'))\n"
          ],
          "name": "stdout"
        }
      ]
    },
    {
      "cell_type": "code",
      "metadata": {
        "colab": {
          "base_uri": "https://localhost:8080/"
        },
        "id": "mmNBkXe1lHI0",
        "outputId": "3680fdc1-0828-4490-8bd9-61c10fc423de"
      },
      "source": [
        "print(t)\n",
        "print(t2)"
      ],
      "execution_count": 119,
      "outputs": [
        {
          "output_type": "stream",
          "text": [
            "(1, 2, 3)\n",
            "((1, 2, 3), (1, 10.5, 'python'))\n"
          ],
          "name": "stdout"
        }
      ]
    },
    {
      "cell_type": "code",
      "metadata": {
        "colab": {
          "base_uri": "https://localhost:8080/"
        },
        "id": "WGhP6isHlPWl",
        "outputId": "f5005494-4ead-46a9-9e0d-47ae9a5d38db"
      },
      "source": [
        "t[0], type(t[0])"
      ],
      "execution_count": 120,
      "outputs": [
        {
          "output_type": "execute_result",
          "data": {
            "text/plain": [
              "(1, int)"
            ]
          },
          "metadata": {
            "tags": []
          },
          "execution_count": 120
        }
      ]
    },
    {
      "cell_type": "code",
      "metadata": {
        "colab": {
          "base_uri": "https://localhost:8080/"
        },
        "id": "bH_yQWPslUL7",
        "outputId": "e3a5666c-928f-47ef-ce0e-0c1ed56a4c25"
      },
      "source": [
        "t2[0], type(t2[0])"
      ],
      "execution_count": 121,
      "outputs": [
        {
          "output_type": "execute_result",
          "data": {
            "text/plain": [
              "((1, 2, 3), tuple)"
            ]
          },
          "metadata": {
            "tags": []
          },
          "execution_count": 121
        }
      ]
    },
    {
      "cell_type": "code",
      "metadata": {
        "colab": {
          "base_uri": "https://localhost:8080/"
        },
        "id": "TcQsKXsblX0T",
        "outputId": "2ff76b8e-5440-4887-bfbd-f349485ca90d"
      },
      "source": [
        "t2[0][0], type(t2[0][0])"
      ],
      "execution_count": 122,
      "outputs": [
        {
          "output_type": "execute_result",
          "data": {
            "text/plain": [
              "(1, int)"
            ]
          },
          "metadata": {
            "tags": []
          },
          "execution_count": 122
        }
      ]
    },
    {
      "cell_type": "code",
      "metadata": {
        "colab": {
          "base_uri": "https://localhost:8080/"
        },
        "id": "oCilMxpTlc7b",
        "outputId": "7541021b-9155-46f3-84fc-0c248136f38c"
      },
      "source": [
        "t2[1][2], type(t2[1][2])"
      ],
      "execution_count": 123,
      "outputs": [
        {
          "output_type": "execute_result",
          "data": {
            "text/plain": [
              "('python', str)"
            ]
          },
          "metadata": {
            "tags": []
          },
          "execution_count": 123
        }
      ]
    },
    {
      "cell_type": "markdown",
      "metadata": {
        "id": "YthNsV_lqa7E"
      },
      "source": [
        "# tuple 이용 값 치환"
      ]
    },
    {
      "cell_type": "code",
      "metadata": {
        "colab": {
          "base_uri": "https://localhost:8080/"
        },
        "id": "5nDQEmrVq01P",
        "outputId": "04d8ef53-a2c2-4e33-bbd3-091e1c5413d4"
      },
      "source": [
        "x = 1\n",
        "y = 2\n",
        "z = 3\n",
        "\n",
        "print(f'{x}\\t{y}\\t{z}')"
      ],
      "execution_count": 124,
      "outputs": [
        {
          "output_type": "stream",
          "text": [
            "1\t2\t3\n"
          ],
          "name": "stdout"
        }
      ]
    },
    {
      "cell_type": "code",
      "metadata": {
        "colab": {
          "base_uri": "https://localhost:8080/"
        },
        "id": "QOfipYT-qdep",
        "outputId": "fda09dab-d06a-4bdd-ae67-336b652c5bdb"
      },
      "source": [
        "x, y, z = 1, 2, 3\n",
        "\n",
        "print(f'{x}\\t{y}\\t{z}')"
      ],
      "execution_count": 125,
      "outputs": [
        {
          "output_type": "stream",
          "text": [
            "1\t2\t3\n"
          ],
          "name": "stdout"
        }
      ]
    },
    {
      "cell_type": "code",
      "metadata": {
        "colab": {
          "base_uri": "https://localhost:8080/"
        },
        "id": "ea3QV_b4qjxm",
        "outputId": "79a662d6-dff6-4189-f9b8-cd0d8aa5a52d"
      },
      "source": [
        "(x1, y1), (x2, y2) = (1, 2), (10, 20)\n",
        "print(f'{x1}\\t{y1}\\n{x2}\\t{y2}')"
      ],
      "execution_count": 126,
      "outputs": [
        {
          "output_type": "stream",
          "text": [
            "1\t2\n",
            "10\t20\n"
          ],
          "name": "stdout"
        }
      ]
    },
    {
      "cell_type": "markdown",
      "metadata": {
        "id": "nNCDzGpUrw6f"
      },
      "source": [
        "# 변수 내용 교환"
      ]
    },
    {
      "cell_type": "code",
      "metadata": {
        "colab": {
          "base_uri": "https://localhost:8080/"
        },
        "id": "8iMMrmxGrzI5",
        "outputId": "3e51942d-4fc3-498d-f486-31b04f77e31b"
      },
      "source": [
        "x = 10\n",
        "y = 20\n",
        "\n",
        "print(f'x={x}\\ty={y}')"
      ],
      "execution_count": 127,
      "outputs": [
        {
          "output_type": "stream",
          "text": [
            "x=10\ty=20\n"
          ],
          "name": "stdout"
        }
      ]
    },
    {
      "cell_type": "code",
      "metadata": {
        "colab": {
          "base_uri": "https://localhost:8080/"
        },
        "id": "-x9poU4dr4zA",
        "outputId": "bb116a41-2beb-4dd2-93e6-7fc7e9440cf7"
      },
      "source": [
        "x = y           # y변수의 내용을 x변수에 치환(복사)한다\n",
        "\n",
        "print(f'x={x}\\ty={y}')"
      ],
      "execution_count": 128,
      "outputs": [
        {
          "output_type": "stream",
          "text": [
            "x=20\ty=20\n"
          ],
          "name": "stdout"
        }
      ]
    },
    {
      "cell_type": "code",
      "metadata": {
        "colab": {
          "base_uri": "https://localhost:8080/"
        },
        "id": "kRWuigB0s0Fc",
        "outputId": "0dcc31b7-74d5-44da-b17b-734df1cee7bf"
      },
      "source": [
        "# 일반적인 변수 내용 교환 방법\n",
        "x = 10\n",
        "y = 20\n",
        "\n",
        "print(f'x={x}\\ty={y}')\n",
        "\n",
        "tmp = x         # 임시변수 tmp에 x변수의 내용을 복사\n",
        "x = y\n",
        "y = tmp         # 임시변수의 내용을 y변수에 복사\n",
        "\n",
        "print(f'x={x}\\ty={y}')"
      ],
      "execution_count": 129,
      "outputs": [
        {
          "output_type": "stream",
          "text": [
            "x=10\ty=20\n",
            "x=20\ty=10\n"
          ],
          "name": "stdout"
        }
      ]
    },
    {
      "cell_type": "code",
      "metadata": {
        "colab": {
          "base_uri": "https://localhost:8080/"
        },
        "id": "YESXqtvYtPR9",
        "outputId": "2d14e085-19a1-47cf-b3c9-cc1d20327a43"
      },
      "source": [
        "# 파이썬에서는 tuple을 이용하여 직접 교환 가능\n",
        "x = 10\n",
        "y = 20\n",
        "print(f'x={x}\\ty={y}')\n",
        "\n",
        "x, y = y, x         # tuple을 이용한 x, y 변수 내용 교환\n",
        "print(f'x={x}\\ty={y}')"
      ],
      "execution_count": 130,
      "outputs": [
        {
          "output_type": "stream",
          "text": [
            "x=10\ty=20\n",
            "x=20\ty=10\n"
          ],
          "name": "stdout"
        }
      ]
    },
    {
      "cell_type": "code",
      "metadata": {
        "colab": {
          "base_uri": "https://localhost:8080/"
        },
        "id": "eZ_scQCvu4Ck",
        "outputId": "2d390a14-b7d6-40f6-bfb7-4f2dd498073e"
      },
      "source": [
        "# tuple packing\n",
        "t = 1, 2, 3\n",
        "\n",
        "print(f't={t}')"
      ],
      "execution_count": 131,
      "outputs": [
        {
          "output_type": "stream",
          "text": [
            "t=(1, 2, 3)\n"
          ],
          "name": "stdout"
        }
      ]
    },
    {
      "cell_type": "code",
      "metadata": {
        "colab": {
          "base_uri": "https://localhost:8080/"
        },
        "id": "5bfEtGrTvkdd",
        "outputId": "f9730857-a3d5-4655-e9ec-4cbbf62b0a0a"
      },
      "source": [
        "# tuple unpacking\n",
        "x, y, z = t\n",
        "\n",
        "print(f'x={x}\\ty={y}\\tz={z}')"
      ],
      "execution_count": 132,
      "outputs": [
        {
          "output_type": "stream",
          "text": [
            "x=1\ty=2\tz=3\n"
          ],
          "name": "stdout"
        }
      ]
    },
    {
      "cell_type": "code",
      "metadata": {
        "colab": {
          "base_uri": "https://localhost:8080/"
        },
        "id": "S172fLxfvugB",
        "outputId": "e989b918-fc3b-400e-e193-1f2f1a001a18"
      },
      "source": [
        "# 확장 unpacking\n",
        "x, *y = t           # *가 붙은 변수에 나머지 내용을 치환\n",
        "\n",
        "print(f'x={x}\\ty={y}')"
      ],
      "execution_count": 133,
      "outputs": [
        {
          "output_type": "stream",
          "text": [
            "x=1\ty=[2, 3]\n"
          ],
          "name": "stdout"
        }
      ]
    },
    {
      "cell_type": "markdown",
      "metadata": {
        "id": "2nZ5g8d_wz9Y"
      },
      "source": [
        "# list\n",
        "\n",
        "## list 생성"
      ]
    },
    {
      "cell_type": "code",
      "metadata": {
        "colab": {
          "base_uri": "https://localhost:8080/"
        },
        "id": "ZrWT9VOpv9_k",
        "outputId": "342c461b-0a9a-4607-98ec-d25cbd09ceae"
      },
      "source": [
        "l = []          # empty list\n",
        "\n",
        "print(f'{type(l)}\\tl = {l}')"
      ],
      "execution_count": 134,
      "outputs": [
        {
          "output_type": "stream",
          "text": [
            "<class 'list'>\tl = []\n"
          ],
          "name": "stdout"
        }
      ]
    },
    {
      "cell_type": "code",
      "metadata": {
        "colab": {
          "base_uri": "https://localhost:8080/"
        },
        "id": "nDVCPEgTxnNG",
        "outputId": "1cd9e6ba-09e0-4260-fb51-58157e720b7e"
      },
      "source": [
        "l = [1, 10.5, 'python']\n",
        "\n",
        "print(f'{type(l)}\\tl = {l}')"
      ],
      "execution_count": 135,
      "outputs": [
        {
          "output_type": "stream",
          "text": [
            "<class 'list'>\tl = [1, 10.5, 'python']\n"
          ],
          "name": "stdout"
        }
      ]
    },
    {
      "cell_type": "code",
      "metadata": {
        "colab": {
          "base_uri": "https://localhost:8080/"
        },
        "id": "e6SHnfa-xtCO",
        "outputId": "3b1462aa-a594-426a-f4ec-97d272220d16"
      },
      "source": [
        "t = (1, 2, 3)\n",
        "l = list(t)\n",
        "\n",
        "print(f'{type(l)}\\tl = {l}')"
      ],
      "execution_count": 136,
      "outputs": [
        {
          "output_type": "stream",
          "text": [
            "<class 'list'>\tl = [1, 2, 3]\n"
          ],
          "name": "stdout"
        }
      ]
    },
    {
      "cell_type": "code",
      "metadata": {
        "colab": {
          "base_uri": "https://localhost:8080/"
        },
        "id": "WCHgthR9x3ik",
        "outputId": "18f5ab1a-2213-4393-ef42-eb29d4a6e4ad"
      },
      "source": [
        "l = list('python')\n",
        "\n",
        "print(f'{type(l)}\\tl = {l}')"
      ],
      "execution_count": 137,
      "outputs": [
        {
          "output_type": "stream",
          "text": [
            "<class 'list'>\tl = ['p', 'y', 't', 'h', 'o', 'n']\n"
          ],
          "name": "stdout"
        }
      ]
    },
    {
      "cell_type": "markdown",
      "metadata": {
        "id": "vV3iQKsmyMaT"
      },
      "source": [
        "# sequence 자료형 공통 연산"
      ]
    },
    {
      "cell_type": "code",
      "metadata": {
        "colab": {
          "base_uri": "https://localhost:8080/"
        },
        "id": "juMmGvY7x8a_",
        "outputId": "4d41a196-9c54-426d-bdb3-bec680173cf7"
      },
      "source": [
        "l = [1, 10.5, 'python']\n",
        "\n",
        "print(f'{type(l)}\\tl = {l}')"
      ],
      "execution_count": 138,
      "outputs": [
        {
          "output_type": "stream",
          "text": [
            "<class 'list'>\tl = [1, 10.5, 'python']\n"
          ],
          "name": "stdout"
        }
      ]
    },
    {
      "cell_type": "code",
      "metadata": {
        "colab": {
          "base_uri": "https://localhost:8080/"
        },
        "id": "mzYGuldWyTNF",
        "outputId": "960d5b2f-f567-4b6d-8178-3093aa02147d"
      },
      "source": [
        "# indexing\n",
        "l[0]"
      ],
      "execution_count": 139,
      "outputs": [
        {
          "output_type": "execute_result",
          "data": {
            "text/plain": [
              "1"
            ]
          },
          "metadata": {
            "tags": []
          },
          "execution_count": 139
        }
      ]
    },
    {
      "cell_type": "code",
      "metadata": {
        "colab": {
          "base_uri": "https://localhost:8080/"
        },
        "id": "Qh0XFHLjyWiK",
        "outputId": "915ba0c4-fff4-41ba-ac89-7ea1956a398e"
      },
      "source": [
        "x = l[1]\n",
        "print(x)"
      ],
      "execution_count": 140,
      "outputs": [
        {
          "output_type": "stream",
          "text": [
            "10.5\n"
          ],
          "name": "stdout"
        }
      ]
    },
    {
      "cell_type": "code",
      "metadata": {
        "colab": {
          "base_uri": "https://localhost:8080/"
        },
        "id": "jj_ic576yZPw",
        "outputId": "db7ab0ea-7d46-45c1-881e-65adaa526065"
      },
      "source": [
        "l[2] = 'Python Program'         # l변수의 2번 인덱스에 값 치환\n",
        "print(f'{type(l)}\\tl = {l}')"
      ],
      "execution_count": 141,
      "outputs": [
        {
          "output_type": "stream",
          "text": [
            "<class 'list'>\tl = [1, 10.5, 'Python Program']\n"
          ],
          "name": "stdout"
        }
      ]
    },
    {
      "cell_type": "code",
      "metadata": {
        "colab": {
          "base_uri": "https://localhost:8080/"
        },
        "id": "a9MOa5Jly5_A",
        "outputId": "963f590a-69fe-4b03-b1e9-aff509f939c3"
      },
      "source": [
        "# slicing\n",
        "l[0:3:1]"
      ],
      "execution_count": 142,
      "outputs": [
        {
          "output_type": "execute_result",
          "data": {
            "text/plain": [
              "[1, 10.5, 'Python Program']"
            ]
          },
          "metadata": {
            "tags": []
          },
          "execution_count": 142
        }
      ]
    },
    {
      "cell_type": "code",
      "metadata": {
        "colab": {
          "base_uri": "https://localhost:8080/"
        },
        "id": "3ojU6wXIy-Zg",
        "outputId": "3328c3f5-709a-4af6-b208-f3136326efbd"
      },
      "source": [
        "l[1:3]"
      ],
      "execution_count": 143,
      "outputs": [
        {
          "output_type": "execute_result",
          "data": {
            "text/plain": [
              "[10.5, 'Python Program']"
            ]
          },
          "metadata": {
            "tags": []
          },
          "execution_count": 143
        }
      ]
    },
    {
      "cell_type": "code",
      "metadata": {
        "colab": {
          "base_uri": "https://localhost:8080/"
        },
        "id": "ucgapXWuzAD1",
        "outputId": "349400c5-e006-466a-84fe-2a214c1da82a"
      },
      "source": [
        "l[::2]"
      ],
      "execution_count": 144,
      "outputs": [
        {
          "output_type": "execute_result",
          "data": {
            "text/plain": [
              "[1, 'Python Program']"
            ]
          },
          "metadata": {
            "tags": []
          },
          "execution_count": 144
        }
      ]
    },
    {
      "cell_type": "code",
      "metadata": {
        "colab": {
          "base_uri": "https://localhost:8080/"
        },
        "id": "vzzNVi--zCjX",
        "outputId": "5cc79c53-2cb8-4cde-9aa7-5ca9cf7cd8b0"
      },
      "source": [
        "l[::-1]"
      ],
      "execution_count": 145,
      "outputs": [
        {
          "output_type": "execute_result",
          "data": {
            "text/plain": [
              "['Python Program', 10.5, 1]"
            ]
          },
          "metadata": {
            "tags": []
          },
          "execution_count": 145
        }
      ]
    },
    {
      "cell_type": "code",
      "metadata": {
        "colab": {
          "base_uri": "https://localhost:8080/"
        },
        "id": "vn907CN9zEfk",
        "outputId": "4f1561c0-112a-4409-e596-664ef1d7fdef"
      },
      "source": [
        "# 길이 계산\n",
        "print(f'l 변수 길이: {len(l)}')"
      ],
      "execution_count": 146,
      "outputs": [
        {
          "output_type": "stream",
          "text": [
            "l 변수 길이: 3\n"
          ],
          "name": "stdout"
        }
      ]
    },
    {
      "cell_type": "code",
      "metadata": {
        "colab": {
          "base_uri": "https://localhost:8080/"
        },
        "id": "twyOy2js3Fqc",
        "outputId": "bef79d64-4498-4143-bb73-cfa3b2c08118"
      },
      "source": [
        "# 연결\n",
        "l + l"
      ],
      "execution_count": 147,
      "outputs": [
        {
          "output_type": "execute_result",
          "data": {
            "text/plain": [
              "[1, 10.5, 'Python Program', 1, 10.5, 'Python Program']"
            ]
          },
          "metadata": {
            "tags": []
          },
          "execution_count": 147
        }
      ]
    },
    {
      "cell_type": "code",
      "metadata": {
        "colab": {
          "base_uri": "https://localhost:8080/"
        },
        "id": "Dn7szXwp3IVt",
        "outputId": "0ba2b0b3-6a08-477c-cd65-f8fbd7dda841"
      },
      "source": [
        "l = l + list((1, 2, 3))\n",
        "\n",
        "print(f'{type(l)}\\tl = {l}')"
      ],
      "execution_count": 148,
      "outputs": [
        {
          "output_type": "stream",
          "text": [
            "<class 'list'>\tl = [1, 10.5, 'Python Program', 1, 2, 3]\n"
          ],
          "name": "stdout"
        }
      ]
    },
    {
      "cell_type": "code",
      "metadata": {
        "colab": {
          "base_uri": "https://localhost:8080/"
        },
        "id": "2ttRHNjy3QQ5",
        "outputId": "7ae1caed-0c0a-4df4-988f-a68ffe4b6fc1"
      },
      "source": [
        "# 반복\n",
        "l * 3"
      ],
      "execution_count": 149,
      "outputs": [
        {
          "output_type": "execute_result",
          "data": {
            "text/plain": [
              "[1,\n",
              " 10.5,\n",
              " 'Python Program',\n",
              " 1,\n",
              " 2,\n",
              " 3,\n",
              " 1,\n",
              " 10.5,\n",
              " 'Python Program',\n",
              " 1,\n",
              " 2,\n",
              " 3,\n",
              " 1,\n",
              " 10.5,\n",
              " 'Python Program',\n",
              " 1,\n",
              " 2,\n",
              " 3]"
            ]
          },
          "metadata": {
            "tags": []
          },
          "execution_count": 149
        }
      ]
    },
    {
      "cell_type": "code",
      "metadata": {
        "colab": {
          "base_uri": "https://localhost:8080/"
        },
        "id": "NcX7-y2a3TQU",
        "outputId": "e2626bc7-f39b-4fce-ad9c-09ef80e35908"
      },
      "source": [
        "# 포함 유무 확인\n",
        "1 in l"
      ],
      "execution_count": 150,
      "outputs": [
        {
          "output_type": "execute_result",
          "data": {
            "text/plain": [
              "True"
            ]
          },
          "metadata": {
            "tags": []
          },
          "execution_count": 150
        }
      ]
    },
    {
      "cell_type": "code",
      "metadata": {
        "colab": {
          "base_uri": "https://localhost:8080/"
        },
        "id": "Q26Y-Qwy3X7B",
        "outputId": "0413a7b8-22fb-467e-b433-28a389c1e6fa"
      },
      "source": [
        "'Program' in l"
      ],
      "execution_count": 151,
      "outputs": [
        {
          "output_type": "execute_result",
          "data": {
            "text/plain": [
              "False"
            ]
          },
          "metadata": {
            "tags": []
          },
          "execution_count": 151
        }
      ]
    },
    {
      "cell_type": "markdown",
      "metadata": {
        "id": "c-3KH4r34ZFO"
      },
      "source": [
        "# list 요소 값 변경 및 삭제"
      ]
    },
    {
      "cell_type": "code",
      "metadata": {
        "colab": {
          "base_uri": "https://localhost:8080/"
        },
        "id": "nwQ52w-C3a6g",
        "outputId": "bc850540-6286-4ebd-93c0-b6a5c1b8034c"
      },
      "source": [
        "l = [1, 2, 3, 'python', 'program']\n",
        "\n",
        "print(f'{type(l)}\\tl = {l}')"
      ],
      "execution_count": 152,
      "outputs": [
        {
          "output_type": "stream",
          "text": [
            "<class 'list'>\tl = [1, 2, 3, 'python', 'program']\n"
          ],
          "name": "stdout"
        }
      ]
    },
    {
      "cell_type": "code",
      "metadata": {
        "colab": {
          "base_uri": "https://localhost:8080/"
        },
        "id": "GXwnK_jj4iRq",
        "outputId": "53490663-ad17-459a-fdd4-363cf179310f"
      },
      "source": [
        "# 하나의 요소 값 변경 (indexing)\n",
        "l[2] = l[2] + 20            # 2번 인덱스 요소에 대한 누적\n",
        "\n",
        "print(f'{type(l)}\\tl = {l}')"
      ],
      "execution_count": 153,
      "outputs": [
        {
          "output_type": "stream",
          "text": [
            "<class 'list'>\tl = [1, 2, 23, 'python', 'program']\n"
          ],
          "name": "stdout"
        }
      ]
    },
    {
      "cell_type": "code",
      "metadata": {
        "colab": {
          "base_uri": "https://localhost:8080/"
        },
        "id": "bPSsQ9hl4o8E",
        "outputId": "39c70bac-236c-4971-a5f5-817bb70157ee"
      },
      "source": [
        "# 여러 요소 값 변경 (slicing)\n",
        "l[0:2] = [100, 200]         # 0, 1 인덱스 내용을 각각 100, 200으로 변경\n",
        "\n",
        "print(f'{type(l)}\\tl = {l}')"
      ],
      "execution_count": 154,
      "outputs": [
        {
          "output_type": "stream",
          "text": [
            "<class 'list'>\tl = [100, 200, 23, 'python', 'program']\n"
          ],
          "name": "stdout"
        }
      ]
    },
    {
      "cell_type": "code",
      "metadata": {
        "colab": {
          "base_uri": "https://localhost:8080/"
        },
        "id": "jYqb3Ed74xQ4",
        "outputId": "c807e361-cd97-44a3-e719-d8faefa65027"
      },
      "source": [
        "l[0:2] = [1000]             # 0, 1 인덱스 내용을 1000으로 변경\n",
        "                            # 앞에를 한꺼번에 1000으로 바꿈\n",
        "print(f'{type(l)}\\tl = {l}')"
      ],
      "execution_count": 155,
      "outputs": [
        {
          "output_type": "stream",
          "text": [
            "<class 'list'>\tl = [1000, 23, 'python', 'program']\n"
          ],
          "name": "stdout"
        }
      ]
    },
    {
      "cell_type": "code",
      "metadata": {
        "colab": {
          "base_uri": "https://localhost:8080/"
        },
        "id": "jscYM4s_5xqf",
        "outputId": "c9062980-39ed-49b6-d013-6ada44cef173"
      },
      "source": [
        "# slicing을 이용한 삭제\n",
        "l[0:2] = []\n",
        "\n",
        "print(f'{type(l)}\\tl = {l}')"
      ],
      "execution_count": 156,
      "outputs": [
        {
          "output_type": "stream",
          "text": [
            "<class 'list'>\tl = ['python', 'program']\n"
          ],
          "name": "stdout"
        }
      ]
    },
    {
      "cell_type": "code",
      "metadata": {
        "colab": {
          "base_uri": "https://localhost:8080/"
        },
        "id": "8wjacwZA6QFT",
        "outputId": "a8e15976-fa49-4084-ed7f-f25a043d4f16"
      },
      "source": [
        "l[1:1] = [1, 2, 3]          # slicing을 이용하여 값 추가 --> 하나만 선택하겠다\n",
        "\n",
        "print(f'{type(l)}\\tl = {l}')"
      ],
      "execution_count": 157,
      "outputs": [
        {
          "output_type": "stream",
          "text": [
            "<class 'list'>\tl = ['python', 1, 2, 3, 'program']\n"
          ],
          "name": "stdout"
        }
      ]
    },
    {
      "cell_type": "code",
      "metadata": {
        "colab": {
          "base_uri": "https://localhost:8080/"
        },
        "id": "_RFKYVPC7LZY",
        "outputId": "b5421505-8a1c-4b3f-e8cb-406f3a5f1558"
      },
      "source": [
        "del l[0]\n",
        "\n",
        "print(f'{type(l)}\\tl = {l}')"
      ],
      "execution_count": 158,
      "outputs": [
        {
          "output_type": "stream",
          "text": [
            "<class 'list'>\tl = [1, 2, 3, 'program']\n"
          ],
          "name": "stdout"
        }
      ]
    },
    {
      "cell_type": "code",
      "metadata": {
        "colab": {
          "base_uri": "https://localhost:8080/"
        },
        "id": "VFBsB8Sb7Xar",
        "outputId": "676d37c4-95df-4be7-8f16-1fe0e3573440"
      },
      "source": [
        "del l[2:]\n",
        "\n",
        "print(f'{type(l)}\\tl = {l}')"
      ],
      "execution_count": 159,
      "outputs": [
        {
          "output_type": "stream",
          "text": [
            "<class 'list'>\tl = [1, 2]\n"
          ],
          "name": "stdout"
        }
      ]
    },
    {
      "cell_type": "code",
      "metadata": {
        "colab": {
          "base_uri": "https://localhost:8080/"
        },
        "id": "VjFyyQWK7iiw",
        "outputId": "e773b77a-e8e8-400c-fb86-859727798dd9"
      },
      "source": [
        "range(1, 10, 1)"
      ],
      "execution_count": 160,
      "outputs": [
        {
          "output_type": "execute_result",
          "data": {
            "text/plain": [
              "range(1, 10)"
            ]
          },
          "metadata": {
            "tags": []
          },
          "execution_count": 160
        }
      ]
    },
    {
      "cell_type": "code",
      "metadata": {
        "colab": {
          "base_uri": "https://localhost:8080/"
        },
        "id": "avI9Vh9i7wOI",
        "outputId": "6854c7fa-7e66-4e33-9af4-4449259553c2"
      },
      "source": [
        "l = list(range(1, 10, 1))           # 1~9\n",
        "\n",
        "print(f'{type(l)}\\tl = {l}')"
      ],
      "execution_count": 161,
      "outputs": [
        {
          "output_type": "stream",
          "text": [
            "<class 'list'>\tl = [1, 2, 3, 4, 5, 6, 7, 8, 9]\n"
          ],
          "name": "stdout"
        }
      ]
    },
    {
      "cell_type": "code",
      "metadata": {
        "colab": {
          "base_uri": "https://localhost:8080/"
        },
        "id": "YoUfUFyg7-75",
        "outputId": "42f78b9f-88af-4788-cdd1-964c1232fbde"
      },
      "source": [
        "l = list(range(2, 101, 2))          # 2~100 짝수만 출력\n",
        "\n",
        "print(f'{type(l)}\\tl = {l}')"
      ],
      "execution_count": 162,
      "outputs": [
        {
          "output_type": "stream",
          "text": [
            "<class 'list'>\tl = [2, 4, 6, 8, 10, 12, 14, 16, 18, 20, 22, 24, 26, 28, 30, 32, 34, 36, 38, 40, 42, 44, 46, 48, 50, 52, 54, 56, 58, 60, 62, 64, 66, 68, 70, 72, 74, 76, 78, 80, 82, 84, 86, 88, 90, 92, 94, 96, 98, 100]\n"
          ],
          "name": "stdout"
        }
      ]
    },
    {
      "cell_type": "markdown",
      "metadata": {
        "id": "yUUfk9JN8pR5"
      },
      "source": [
        "# iterator(반복자)"
      ]
    },
    {
      "cell_type": "code",
      "metadata": {
        "id": "B5Wy_lQZ8PM4"
      },
      "source": [
        "string = 'python'\n",
        "t = (1, 2, 3, 4, 5)\n",
        "l = list(range(1, 11))"
      ],
      "execution_count": 163,
      "outputs": []
    },
    {
      "cell_type": "code",
      "metadata": {
        "colab": {
          "base_uri": "https://localhost:8080/"
        },
        "id": "qHDt-0iM81W1",
        "outputId": "9b75050a-a347-4955-aa29-9312041a1daf"
      },
      "source": [
        "# iterator를 사용하지 않는 경우\n",
        "for i in range(len(string)):\n",
        "    print(f'{string[i]:5}', end='')\n",
        "print()\n",
        "\n",
        "# str 변수에 대한 iterator 사용\n",
        "for s in string:\n",
        "    print(f'{s:5}', end='')"
      ],
      "execution_count": 164,
      "outputs": [
        {
          "output_type": "stream",
          "text": [
            "p    y    t    h    o    n    \n",
            "p    y    t    h    o    n    "
          ],
          "name": "stdout"
        }
      ]
    },
    {
      "cell_type": "code",
      "metadata": {
        "colab": {
          "base_uri": "https://localhost:8080/"
        },
        "id": "MpLl5oLX9DOF",
        "outputId": "e1cbed44-c265-448e-9e76-00d28d95e7d0"
      },
      "source": [
        "# iterator를 사용하지 않는 경우\n",
        "for i in range(len(t)):\n",
        "    print(f'{t[i]:5}', end='')\n",
        "print()\n",
        "\n",
        "# tuple 변수에 대한 iterator 사용\n",
        "for v in t:\n",
        "        print(f'{v:5}', end='')"
      ],
      "execution_count": 165,
      "outputs": [
        {
          "output_type": "stream",
          "text": [
            "    1    2    3    4    5\n",
            "    1    2    3    4    5"
          ],
          "name": "stdout"
        }
      ]
    },
    {
      "cell_type": "code",
      "metadata": {
        "colab": {
          "base_uri": "https://localhost:8080/"
        },
        "id": "-UxZlnN19Kun",
        "outputId": "71bd0ca5-601b-4fef-c621-c48b774e9536"
      },
      "source": [
        "# iterator를 사용하지 않는 경우\n",
        "for i in range(len(l)):\n",
        "    print(f'{l[i]:5}', end='')\n",
        "print()\n",
        "\n",
        "# list 변수에 대한 iterator 사용\n",
        "for v in l:\n",
        "        print(f'{v:5}', end='')"
      ],
      "execution_count": 166,
      "outputs": [
        {
          "output_type": "stream",
          "text": [
            "    1    2    3    4    5    6    7    8    9   10\n",
            "    1    2    3    4    5    6    7    8    9   10"
          ],
          "name": "stdout"
        }
      ]
    },
    {
      "cell_type": "markdown",
      "metadata": {
        "id": "nHJMKOmT_uja"
      },
      "source": [
        "# 중첩 list"
      ]
    },
    {
      "cell_type": "code",
      "metadata": {
        "colab": {
          "base_uri": "https://localhost:8080/"
        },
        "id": "a-AH7uqS-V0r",
        "outputId": "f39d4d68-fcc6-498d-c547-2e15aaa7b029"
      },
      "source": [
        "l = [[1, 2, 3], [10, 20, 30]]\n",
        "\n",
        "print(f'l = {l}')"
      ],
      "execution_count": 167,
      "outputs": [
        {
          "output_type": "stream",
          "text": [
            "l = [[1, 2, 3], [10, 20, 30]]\n"
          ],
          "name": "stdout"
        }
      ]
    },
    {
      "cell_type": "code",
      "metadata": {
        "colab": {
          "base_uri": "https://localhost:8080/"
        },
        "id": "I0iVHbLl-_No",
        "outputId": "af488181-d790-4551-a10c-6da8d2309868"
      },
      "source": [
        "l[0]"
      ],
      "execution_count": 168,
      "outputs": [
        {
          "output_type": "execute_result",
          "data": {
            "text/plain": [
              "[1, 2, 3]"
            ]
          },
          "metadata": {
            "tags": []
          },
          "execution_count": 168
        }
      ]
    },
    {
      "cell_type": "code",
      "metadata": {
        "colab": {
          "base_uri": "https://localhost:8080/"
        },
        "id": "mARvcHhB_A_s",
        "outputId": "2f0cffd7-bfcf-4057-ce88-6703c119ac4c"
      },
      "source": [
        "l[1]"
      ],
      "execution_count": 169,
      "outputs": [
        {
          "output_type": "execute_result",
          "data": {
            "text/plain": [
              "[10, 20, 30]"
            ]
          },
          "metadata": {
            "tags": []
          },
          "execution_count": 169
        }
      ]
    },
    {
      "cell_type": "code",
      "metadata": {
        "colab": {
          "base_uri": "https://localhost:8080/"
        },
        "id": "nuBkjT6z_CAF",
        "outputId": "442dce59-b76e-49b0-dc62-92b8fb931301"
      },
      "source": [
        "l[0][0]"
      ],
      "execution_count": 170,
      "outputs": [
        {
          "output_type": "execute_result",
          "data": {
            "text/plain": [
              "1"
            ]
          },
          "metadata": {
            "tags": []
          },
          "execution_count": 170
        }
      ]
    },
    {
      "cell_type": "code",
      "metadata": {
        "colab": {
          "base_uri": "https://localhost:8080/"
        },
        "id": "jK1rLska_Efs",
        "outputId": "5430e403-3094-41cd-a9ef-a98580d815c8"
      },
      "source": [
        "l[1][1]"
      ],
      "execution_count": 171,
      "outputs": [
        {
          "output_type": "execute_result",
          "data": {
            "text/plain": [
              "20"
            ]
          },
          "metadata": {
            "tags": []
          },
          "execution_count": 171
        }
      ]
    },
    {
      "cell_type": "markdown",
      "metadata": {
        "id": "j4TjGuRF_-aw"
      },
      "source": [
        "# list 메서드"
      ]
    },
    {
      "cell_type": "code",
      "metadata": {
        "colab": {
          "base_uri": "https://localhost:8080/"
        },
        "id": "p5jBBTzK_G7Q",
        "outputId": "c90fafd5-422a-4468-bd57-b26d53a5dd1f"
      },
      "source": [
        "l = []\n",
        "\n",
        "print(f'l = {l}\\t({len(l)})')"
      ],
      "execution_count": 172,
      "outputs": [
        {
          "output_type": "stream",
          "text": [
            "l = []\t(0)\n"
          ],
          "name": "stdout"
        }
      ]
    },
    {
      "cell_type": "code",
      "metadata": {
        "colab": {
          "base_uri": "https://localhost:8080/"
        },
        "id": "MhI0CRykAHKk",
        "outputId": "914bc635-9b43-418a-bbf7-c18617cb8be4"
      },
      "source": [
        "l.append(1)\n",
        "l.append(10)\n",
        "l.append(100)\n",
        "\n",
        "print(f'l = {l}\\t({len(l)})')"
      ],
      "execution_count": 173,
      "outputs": [
        {
          "output_type": "stream",
          "text": [
            "l = [1, 10, 100]\t(3)\n"
          ],
          "name": "stdout"
        }
      ]
    },
    {
      "cell_type": "code",
      "metadata": {
        "colab": {
          "base_uri": "https://localhost:8080/"
        },
        "id": "G5IprhRuAtE2",
        "outputId": "8b56e599-7ca8-49b0-a220-09c1301c8ad8"
      },
      "source": [
        "l.insert(2, 1)           # 2번 인덱스에 1을 추가 --> 기존 값을 밀어냄\n",
        "\n",
        "print(f'l = {l}\\t({len(l)})')"
      ],
      "execution_count": 174,
      "outputs": [
        {
          "output_type": "stream",
          "text": [
            "l = [1, 10, 1, 100]\t(4)\n"
          ],
          "name": "stdout"
        }
      ]
    },
    {
      "cell_type": "code",
      "metadata": {
        "colab": {
          "base_uri": "https://localhost:8080/"
        },
        "id": "zvYCcMkyBC2T",
        "outputId": "61c2f204-47d3-448e-82a3-a625c776296c"
      },
      "source": [
        "l.count(1)          # 1의 개수"
      ],
      "execution_count": 175,
      "outputs": [
        {
          "output_type": "execute_result",
          "data": {
            "text/plain": [
              "2"
            ]
          },
          "metadata": {
            "tags": []
          },
          "execution_count": 175
        }
      ]
    },
    {
      "cell_type": "code",
      "metadata": {
        "colab": {
          "base_uri": "https://localhost:8080/"
        },
        "id": "fwudXnAIBF52",
        "outputId": "0c23074f-84ce-4752-a80b-fb52521c2fde"
      },
      "source": [
        "l.index(1)          # 1의 위치"
      ],
      "execution_count": 176,
      "outputs": [
        {
          "output_type": "execute_result",
          "data": {
            "text/plain": [
              "0"
            ]
          },
          "metadata": {
            "tags": []
          },
          "execution_count": 176
        }
      ]
    },
    {
      "cell_type": "code",
      "metadata": {
        "colab": {
          "base_uri": "https://localhost:8080/"
        },
        "id": "YaFVecTgBNhh",
        "outputId": "5c98e1cc-407f-4518-ab25-6d828d64a577"
      },
      "source": [
        "l.index(1, 1)       # 1의 두 번째 위치"
      ],
      "execution_count": 177,
      "outputs": [
        {
          "output_type": "execute_result",
          "data": {
            "text/plain": [
              "2"
            ]
          },
          "metadata": {
            "tags": []
          },
          "execution_count": 177
        }
      ]
    },
    {
      "cell_type": "code",
      "metadata": {
        "colab": {
          "base_uri": "https://localhost:8080/"
        },
        "id": "w7exjh-xBSHw",
        "outputId": "06e02076-ea2d-4dd3-a8ff-2aea279854dd"
      },
      "source": [
        "l.pop()             # 마지막 값 삭제\n",
        "\n",
        "print(f'l = {l}\\t({len(l)})')"
      ],
      "execution_count": 178,
      "outputs": [
        {
          "output_type": "stream",
          "text": [
            "l = [1, 10, 1]\t(3)\n"
          ],
          "name": "stdout"
        }
      ]
    },
    {
      "cell_type": "code",
      "metadata": {
        "colab": {
          "base_uri": "https://localhost:8080/"
        },
        "id": "OOQtOqn_BYjC",
        "outputId": "3565032b-1e97-497b-fcb6-ed1811965655"
      },
      "source": [
        "value = l.pop()     # pop()는 값을 반환하는 기능도 포함\n",
        "\n",
        "print(f'l = {l}\\t({len(l)})')\n",
        "print(f'삭제된 값: {value}')"
      ],
      "execution_count": 179,
      "outputs": [
        {
          "output_type": "stream",
          "text": [
            "l = [1, 10]\t(2)\n",
            "삭제된 값: 1\n"
          ],
          "name": "stdout"
        }
      ]
    },
    {
      "cell_type": "code",
      "metadata": {
        "colab": {
          "base_uri": "https://localhost:8080/"
        },
        "id": "dDnEeCocBoEk",
        "outputId": "953ca09b-1059-4d64-9473-4d94bf713fe8"
      },
      "source": [
        "l.remove(10)\n",
        "\n",
        "print(f'l = {l}\\t({len(l)})')"
      ],
      "execution_count": 180,
      "outputs": [
        {
          "output_type": "stream",
          "text": [
            "l = [1]\t(1)\n"
          ],
          "name": "stdout"
        }
      ]
    }
  ]
}