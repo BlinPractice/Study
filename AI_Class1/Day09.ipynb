{
  "nbformat": 4,
  "nbformat_minor": 0,
  "metadata": {
    "colab": {
      "name": "Day09.ipynb",
      "provenance": [],
      "collapsed_sections": [
        "pReX05sKdUhS",
        "VqHLG1bfe7KA",
        "KG7jvZehicVX"
      ],
      "toc_visible": true,
      "authorship_tag": "ABX9TyPB7hfyTixPcNJYK/0dox6c",
      "include_colab_link": true
    },
    "kernelspec": {
      "name": "python3",
      "display_name": "Python 3"
    },
    "language_info": {
      "name": "python"
    }
  },
  "cells": [
    {
      "cell_type": "markdown",
      "metadata": {
        "id": "view-in-github",
        "colab_type": "text"
      },
      "source": [
        "<a href=\"https://colab.research.google.com/github/PyBlin/Study/blob/main/AI_Class1/Day09.ipynb\" target=\"_parent\"><img src=\"https://colab.research.google.com/assets/colab-badge.svg\" alt=\"Open In Colab\"/></a>"
      ]
    },
    {
      "cell_type": "markdown",
      "metadata": {
        "id": "gyQs0cAHOZVV"
      },
      "source": [
        "# list 순회(traverse)"
      ]
    },
    {
      "cell_type": "code",
      "metadata": {
        "id": "sd7uZj_ROZ2D"
      },
      "source": [
        "l = [i for i in range(1, 11 )]"
      ],
      "execution_count": 1,
      "outputs": []
    },
    {
      "cell_type": "code",
      "metadata": {
        "colab": {
          "base_uri": "https://localhost:8080/"
        },
        "id": "WbruO6qzOaAt",
        "outputId": "e20d4ca8-dd92-4043-992a-ad1d6a350423"
      },
      "source": [
        "print(f'l = {l}\\t({len(l)})')"
      ],
      "execution_count": 2,
      "outputs": [
        {
          "output_type": "stream",
          "text": [
            "l = [1, 2, 3, 4, 5, 6, 7, 8, 9, 10]\t(10)\n"
          ],
          "name": "stdout"
        }
      ]
    },
    {
      "cell_type": "code",
      "metadata": {
        "colab": {
          "base_uri": "https://localhost:8080/"
        },
        "id": "FUmBPVbqOaF0",
        "outputId": "7545e13b-e670-4d61-8a33-7ce183246f08"
      },
      "source": [
        "# for문을 이용한 순회\n",
        "for i in range(10):\n",
        "    print(f'[{i:<2}] : {l[i]}') # indexing 이용해서 요소의 내용 읽기"
      ],
      "execution_count": 3,
      "outputs": [
        {
          "output_type": "stream",
          "text": [
            "[0 ] : 1\n",
            "[1 ] : 2\n",
            "[2 ] : 3\n",
            "[3 ] : 4\n",
            "[4 ] : 5\n",
            "[5 ] : 6\n",
            "[6 ] : 7\n",
            "[7 ] : 8\n",
            "[8 ] : 9\n",
            "[9 ] : 10\n"
          ],
          "name": "stdout"
        }
      ]
    },
    {
      "cell_type": "code",
      "metadata": {
        "colab": {
          "base_uri": "https://localhost:8080/"
        },
        "id": "KE9_aHzGOaI4",
        "outputId": "379679cb-6ec6-441d-b7db-b0ad41031eb4"
      },
      "source": [
        "# list에 내장된 iterator(반복자)를 이용한 순회\n",
        "for v in l:\n",
        "    print(f'{v:2}') # 직접 list 요소 내용 읽기"
      ],
      "execution_count": 4,
      "outputs": [
        {
          "output_type": "stream",
          "text": [
            " 1\n",
            " 2\n",
            " 3\n",
            " 4\n",
            " 5\n",
            " 6\n",
            " 7\n",
            " 8\n",
            " 9\n",
            "10\n"
          ],
          "name": "stdout"
        }
      ]
    },
    {
      "cell_type": "code",
      "metadata": {
        "colab": {
          "base_uri": "https://localhost:8080/"
        },
        "id": "K7EZOrK-OaLS",
        "outputId": "49a12b47-2ae6-4c8c-8b25-1e98a676dd9a"
      },
      "source": [
        "# enumerate() 함수를 이용하여 list의 index와 요소 내용을 동시에 활용\n",
        "for i, v in enumerate(l): # enumerate() 함수는 index, value 형식으로 tuple로 반환\n",
        "    print(f'[{i:<2}] : {v:2}')"
      ],
      "execution_count": 5,
      "outputs": [
        {
          "output_type": "stream",
          "text": [
            "[0 ] :  1\n",
            "[1 ] :  2\n",
            "[2 ] :  3\n",
            "[3 ] :  4\n",
            "[4 ] :  5\n",
            "[5 ] :  6\n",
            "[6 ] :  7\n",
            "[7 ] :  8\n",
            "[8 ] :  9\n",
            "[9 ] : 10\n"
          ],
          "name": "stdout"
        }
      ]
    },
    {
      "cell_type": "code",
      "metadata": {
        "colab": {
          "base_uri": "https://localhost:8080/"
        },
        "id": "G4wz4J6GOaN_",
        "outputId": "c0b193cd-3d6b-4afb-cb6d-8a9bf58c2f5b"
      },
      "source": [
        "names = ['hong','kim','lee']\n",
        "ages = [35,25,45]\n",
        "\n",
        "# names와 ages list 내용을 같은 index 위치의 내용을 활용\n",
        "for i in range(len(names)):\n",
        "    print(f'name : {names[i]:<10}({ages[i]:2})')"
      ],
      "execution_count": 6,
      "outputs": [
        {
          "output_type": "stream",
          "text": [
            "name : hong      (35)\n",
            "name : kim       (25)\n",
            "name : lee       (45)\n"
          ],
          "name": "stdout"
        }
      ]
    },
    {
      "cell_type": "code",
      "metadata": {
        "colab": {
          "base_uri": "https://localhost:8080/"
        },
        "id": "G3qH9uz3OaQT",
        "outputId": "6dcca0cc-afad-4eaa-c274-1be82e7bd741"
      },
      "source": [
        "# zip() 함수를 이용하여 names와 ages list의 같은 index 위치 내용 활용\n",
        "for name, age in zip(names, ages):\n",
        "    print(f'name : {name:<10}({age:2})')"
      ],
      "execution_count": 7,
      "outputs": [
        {
          "output_type": "stream",
          "text": [
            "name : hong      (35)\n",
            "name : kim       (25)\n",
            "name : lee       (45)\n"
          ],
          "name": "stdout"
        }
      ]
    },
    {
      "cell_type": "markdown",
      "metadata": {
        "id": "X5t_LfldLtaC"
      },
      "source": [
        "# dict\n",
        "\n",
        "### dict 생성"
      ]
    },
    {
      "cell_type": "code",
      "metadata": {
        "colab": {
          "base_uri": "https://localhost:8080/"
        },
        "id": "tw9CQnMNMbvz",
        "outputId": "1ceb1ab8-62e5-4fad-dbd1-8e5ef2037266"
      },
      "source": [
        "# 빈 dict 생성\n",
        "d = {}\n",
        "\n",
        "print(f'd = {d}\\t({len(d)})')"
      ],
      "execution_count": 8,
      "outputs": [
        {
          "output_type": "stream",
          "text": [
            "d = {}\t(0)\n"
          ],
          "name": "stdout"
        }
      ]
    },
    {
      "cell_type": "code",
      "metadata": {
        "id": "clkExGaxKJXx",
        "colab": {
          "base_uri": "https://localhost:8080/"
        },
        "outputId": "ce151d4c-3729-4841-a868-59f53f7a6070"
      },
      "source": [
        "# 초기값을 갖는 dict 생성\n",
        "d = {'name':'hong', 'age':25, 'email':'hong@korea.com'}\n",
        "\n",
        "print(f'd = {d}\\t({len(d)})')"
      ],
      "execution_count": 9,
      "outputs": [
        {
          "output_type": "stream",
          "text": [
            "d = {'name': 'hong', 'age': 25, 'email': 'hong@korea.com'}\t(3)\n"
          ],
          "name": "stdout"
        }
      ]
    },
    {
      "cell_type": "code",
      "metadata": {
        "colab": {
          "base_uri": "https://localhost:8080/"
        },
        "id": "YlUBd2EfMFt_",
        "outputId": "5b35800f-43d7-4105-f853-156f9ec8c8a3"
      },
      "source": [
        "# list를 dict() 함수를 이용하여 dict로 반환\n",
        "# 중첩 list\n",
        "l = [['name', 'hong'], ['age', 25], ['email', 'hong@korea.com']]\n",
        "d = dict(l)     # list를 dict로 형변환\n",
        "\n",
        "print(f'd = {d}\\t({len(d)})')"
      ],
      "execution_count": 10,
      "outputs": [
        {
          "output_type": "stream",
          "text": [
            "d = {'name': 'hong', 'age': 25, 'email': 'hong@korea.com'}\t(3)\n"
          ],
          "name": "stdout"
        }
      ]
    },
    {
      "cell_type": "code",
      "metadata": {
        "colab": {
          "base_uri": "https://localhost:8080/"
        },
        "id": "NL9u8PQlNW7U",
        "outputId": "4b98c205-ecf9-4cc9-b9e3-eaa6e3a3eb58"
      },
      "source": [
        "# dict()를 이용한 dict 생성\n",
        "# dict() 함수에 'key = value' 형식으로 전달하여 생성\n",
        "d = dict(name='hong', age=25, email='hong@korea.com')\n",
        "\n",
        "print(f'd = {d}\\t({len(d)})')"
      ],
      "execution_count": 11,
      "outputs": [
        {
          "output_type": "stream",
          "text": [
            "d = {'name': 'hong', 'age': 25, 'email': 'hong@korea.com'}\t(3)\n"
          ],
          "name": "stdout"
        }
      ]
    },
    {
      "cell_type": "code",
      "metadata": {
        "colab": {
          "base_uri": "https://localhost:8080/"
        },
        "id": "GABA5Uq4N6V1",
        "outputId": "7ae289ee-6f2f-4d06-d6c8-d4298af7236f"
      },
      "source": [
        "# tuple을 dict() 함수를 이용하여 dict로 반환\n",
        "# 중첩 tuple\n",
        "t = (('name','hong'),('age',25),('email','hong@korea.com'))\n",
        "d = dict(t)\n",
        "\n",
        "print(f'd = {d}\\t({len(d)})')"
      ],
      "execution_count": 12,
      "outputs": [
        {
          "output_type": "stream",
          "text": [
            "d = {'name': 'hong', 'age': 25, 'email': 'hong@korea.com'}\t(3)\n"
          ],
          "name": "stdout"
        }
      ]
    },
    {
      "cell_type": "code",
      "metadata": {
        "colab": {
          "base_uri": "https://localhost:8080/"
        },
        "id": "aWj7EfPkOQ9O",
        "outputId": "b4a6674a-369f-46ca-8f4e-beb2084966f2"
      },
      "source": [
        "l = [('name','hong'), ('age',25), ('email','hong@korea.com')]\n",
        "d = dict(l)\n",
        "\n",
        "print(f'd = {d}\\t({len(d)})')"
      ],
      "execution_count": 13,
      "outputs": [
        {
          "output_type": "stream",
          "text": [
            "d = {'name': 'hong', 'age': 25, 'email': 'hong@korea.com'}\t(3)\n"
          ],
          "name": "stdout"
        }
      ]
    },
    {
      "cell_type": "markdown",
      "metadata": {
        "id": "n7ZLNTS5QfyV"
      },
      "source": [
        "### sequence 자료형 공통 연산"
      ]
    },
    {
      "cell_type": "code",
      "metadata": {
        "id": "iZexLP4AO9hP"
      },
      "source": [
        "# d[0]        # '0'이라는 key에 접근한다는 표현"
      ],
      "execution_count": 14,
      "outputs": []
    },
    {
      "cell_type": "code",
      "metadata": {
        "colab": {
          "base_uri": "https://localhost:8080/",
          "height": 35
        },
        "id": "SBse74qVQp8G",
        "outputId": "7aba02f1-8266-458d-a43c-139fb2659be0"
      },
      "source": [
        "d['name']       # index가 아니고 key라는 의미"
      ],
      "execution_count": 15,
      "outputs": [
        {
          "output_type": "execute_result",
          "data": {
            "application/vnd.google.colaboratory.intrinsic+json": {
              "type": "string"
            },
            "text/plain": [
              "'hong'"
            ]
          },
          "metadata": {
            "tags": []
          },
          "execution_count": 15
        }
      ]
    },
    {
      "cell_type": "code",
      "metadata": {
        "id": "QNUyQqfRQwp4"
      },
      "source": [
        "# d = d + {'tel':'010-1234-5678'} # 덧셈 안됨"
      ],
      "execution_count": 16,
      "outputs": []
    },
    {
      "cell_type": "code",
      "metadata": {
        "id": "S9RbK0GhRCu0"
      },
      "source": [
        "# d * 2   # 곱셈도 안됨"
      ],
      "execution_count": 17,
      "outputs": []
    },
    {
      "cell_type": "code",
      "metadata": {
        "id": "CY37B-URRJx0",
        "colab": {
          "base_uri": "https://localhost:8080/"
        },
        "outputId": "50164d91-f4bb-4c94-adb3-9709a52307f6"
      },
      "source": [
        "# 포함 유무\n",
        "'name' in d"
      ],
      "execution_count": 18,
      "outputs": [
        {
          "output_type": "execute_result",
          "data": {
            "text/plain": [
              "True"
            ]
          },
          "metadata": {
            "tags": []
          },
          "execution_count": 18
        }
      ]
    },
    {
      "cell_type": "code",
      "metadata": {
        "id": "OZiT5CDeRiGT",
        "colab": {
          "base_uri": "https://localhost:8080/"
        },
        "outputId": "491d3c54-e9ba-4cdd-b9d7-8c5b77bfb32e"
      },
      "source": [
        "'tel' in d"
      ],
      "execution_count": 19,
      "outputs": [
        {
          "output_type": "execute_result",
          "data": {
            "text/plain": [
              "False"
            ]
          },
          "metadata": {
            "tags": []
          },
          "execution_count": 19
        }
      ]
    },
    {
      "cell_type": "code",
      "metadata": {
        "id": "BYH1euC6RkQt",
        "colab": {
          "base_uri": "https://localhost:8080/"
        },
        "outputId": "e92b07fa-0c48-46a5-dd69-08a9be9bd676"
      },
      "source": [
        "# 길이 계산\n",
        "len(d)"
      ],
      "execution_count": 20,
      "outputs": [
        {
          "output_type": "execute_result",
          "data": {
            "text/plain": [
              "3"
            ]
          },
          "metadata": {
            "tags": []
          },
          "execution_count": 20
        }
      ]
    },
    {
      "cell_type": "markdown",
      "metadata": {
        "id": "EQu2avfnR30-"
      },
      "source": [
        "### dict 요소(값) 읽기 / 요소 추가 / 요소 변경"
      ]
    },
    {
      "cell_type": "code",
      "metadata": {
        "id": "jI0WtMvYRq6I",
        "colab": {
          "base_uri": "https://localhost:8080/"
        },
        "outputId": "dc12da27-3189-4fed-91aa-51ed4361edfe"
      },
      "source": [
        "print(f'd = {d}\\t({len(d)})')"
      ],
      "execution_count": 21,
      "outputs": [
        {
          "output_type": "stream",
          "text": [
            "d = {'name': 'hong', 'age': 25, 'email': 'hong@korea.com'}\t(3)\n"
          ],
          "name": "stdout"
        }
      ]
    },
    {
      "cell_type": "code",
      "metadata": {
        "id": "s46fOzJdSDXy",
        "colab": {
          "base_uri": "https://localhost:8080/"
        },
        "outputId": "1e5d19bf-5bd2-4fa8-adb5-97d07c614113"
      },
      "source": [
        "# 요소(값) 읽기\n",
        "print(f'name = {d[\"name\"]}')"
      ],
      "execution_count": 22,
      "outputs": [
        {
          "output_type": "stream",
          "text": [
            "name = hong\n"
          ],
          "name": "stdout"
        }
      ]
    },
    {
      "cell_type": "code",
      "metadata": {
        "id": "S97C4PAoTRz2",
        "colab": {
          "base_uri": "https://localhost:8080/"
        },
        "outputId": "e925782f-e861-4eb7-e599-1e8604bdcf1d"
      },
      "source": [
        "# 요소 쓰기 (요소 내용 변경)\n",
        "d['name'] = 'HONG'\n",
        "\n",
        "print(f'd = {d}\\t({len(d)})')"
      ],
      "execution_count": 23,
      "outputs": [
        {
          "output_type": "stream",
          "text": [
            "d = {'name': 'HONG', 'age': 25, 'email': 'hong@korea.com'}\t(3)\n"
          ],
          "name": "stdout"
        }
      ]
    },
    {
      "cell_type": "code",
      "metadata": {
        "id": "hCzGDK7KTY8U",
        "colab": {
          "base_uri": "https://localhost:8080/"
        },
        "outputId": "6754999b-2b64-4690-a7e6-9ede132ff9dd"
      },
      "source": [
        "# 요소 추가\n",
        "d['tel'] = '010-1234-5678'\n",
        "\n",
        "print(f'd = {d}\\t({len(d)})')"
      ],
      "execution_count": 24,
      "outputs": [
        {
          "output_type": "stream",
          "text": [
            "d = {'name': 'HONG', 'age': 25, 'email': 'hong@korea.com', 'tel': '010-1234-5678'}\t(4)\n"
          ],
          "name": "stdout"
        }
      ]
    },
    {
      "cell_type": "markdown",
      "metadata": {
        "id": "ZllIFWcpUG2u"
      },
      "source": [
        "### dict 생성 시 key가 중복된 경우"
      ]
    },
    {
      "cell_type": "code",
      "metadata": {
        "id": "V54Z1j98ThSa",
        "colab": {
          "base_uri": "https://localhost:8080/"
        },
        "outputId": "5f74e6af-06ff-46e4-af78-3a2f21449bf8"
      },
      "source": [
        "d = {'sun':0, 'mon':1, 'sun':10, 'tue':2, 'sun':-1}       # 마지막 key가 덮어 씀\n",
        "\n",
        "print(f'd = {d}\\t({len(d)})')"
      ],
      "execution_count": 25,
      "outputs": [
        {
          "output_type": "stream",
          "text": [
            "d = {'sun': -1, 'mon': 1, 'tue': 2}\t(3)\n"
          ],
          "name": "stdout"
        }
      ]
    },
    {
      "cell_type": "markdown",
      "metadata": {
        "id": "D7Tc2UiCV1Lk"
      },
      "source": [
        "### dict 메서드"
      ]
    },
    {
      "cell_type": "code",
      "metadata": {
        "id": "kqvErCQ5UZRI",
        "colab": {
          "base_uri": "https://localhost:8080/"
        },
        "outputId": "1baa55c4-cbc6-4303-d821-55d96cb0bca7"
      },
      "source": [
        "d = {'sun':0, 'mon':1, 'tue':2}\n",
        "\n",
        "print(f'd = {d}\\t({len(d)})')"
      ],
      "execution_count": 26,
      "outputs": [
        {
          "output_type": "stream",
          "text": [
            "d = {'sun': 0, 'mon': 1, 'tue': 2}\t(3)\n"
          ],
          "name": "stdout"
        }
      ]
    },
    {
      "cell_type": "code",
      "metadata": {
        "id": "YcWY6eAPZbMl",
        "colab": {
          "base_uri": "https://localhost:8080/"
        },
        "outputId": "aa6e8b9d-9710-4938-fdbe-8c92ed35a259"
      },
      "source": [
        "print(d['sun'])"
      ],
      "execution_count": 27,
      "outputs": [
        {
          "output_type": "stream",
          "text": [
            "0\n"
          ],
          "name": "stdout"
        }
      ]
    },
    {
      "cell_type": "code",
      "metadata": {
        "id": "bwqt7x9HZgVm",
        "colab": {
          "base_uri": "https://localhost:8080/",
          "height": 174
        },
        "outputId": "843f9d3d-5eab-4b09-cd06-97c4fcf1678c"
      },
      "source": [
        "print(d['wed'])     # 읽기를 수행할 때 해당 key가 없으면 error 발생"
      ],
      "execution_count": 28,
      "outputs": [
        {
          "output_type": "error",
          "ename": "KeyError",
          "evalue": "ignored",
          "traceback": [
            "\u001b[0;31m---------------------------------------------------------------------------\u001b[0m",
            "\u001b[0;31mKeyError\u001b[0m                                  Traceback (most recent call last)",
            "\u001b[0;32m<ipython-input-28-51cc7ee57d63>\u001b[0m in \u001b[0;36m<module>\u001b[0;34m()\u001b[0m\n\u001b[0;32m----> 1\u001b[0;31m \u001b[0mprint\u001b[0m\u001b[0;34m(\u001b[0m\u001b[0md\u001b[0m\u001b[0;34m[\u001b[0m\u001b[0;34m'wed'\u001b[0m\u001b[0;34m]\u001b[0m\u001b[0;34m)\u001b[0m     \u001b[0;31m# 읽기를 수행할 때 해당 key가 없으면 error 발생\u001b[0m\u001b[0;34m\u001b[0m\u001b[0;34m\u001b[0m\u001b[0m\n\u001b[0m",
            "\u001b[0;31mKeyError\u001b[0m: 'wed'"
          ]
        }
      ]
    },
    {
      "cell_type": "code",
      "metadata": {
        "id": "puhaiyaOZul0",
        "colab": {
          "base_uri": "https://localhost:8080/"
        },
        "outputId": "8b383066-b799-473f-b67d-dc6d127fb970"
      },
      "source": [
        "print(d.get('wed', 'not found'))"
      ],
      "execution_count": 29,
      "outputs": [
        {
          "output_type": "stream",
          "text": [
            "not found\n"
          ],
          "name": "stdout"
        }
      ]
    },
    {
      "cell_type": "code",
      "metadata": {
        "id": "R-Gp6rN8Z-76",
        "colab": {
          "base_uri": "https://localhost:8080/"
        },
        "outputId": "ef00e520-617f-4d94-aaaa-1cf5404a5016"
      },
      "source": [
        "value = d.get('wed',0)\n",
        "if value != 0:\n",
        "    print(value)\n",
        "else:\n",
        "    print('wed --> not found')"
      ],
      "execution_count": 30,
      "outputs": [
        {
          "output_type": "stream",
          "text": [
            "wed --> not found\n"
          ],
          "name": "stdout"
        }
      ]
    },
    {
      "cell_type": "markdown",
      "metadata": {
        "id": "wVll4-6UbC0j"
      },
      "source": [
        "### update() 메서드"
      ]
    },
    {
      "cell_type": "code",
      "metadata": {
        "id": "DrvrtqIbawP0",
        "colab": {
          "base_uri": "https://localhost:8080/"
        },
        "outputId": "1fb8d304-0bfa-43f6-aa70-fa7d8b6d122d"
      },
      "source": [
        "d1 = {'sun':0, 'mon':1, 'tue':2}\n",
        "d2 = {'wed':3, 'thu':4, 'fri':5, 'sat':6}\n",
        "\n",
        "print(f'd1 = {d1}\\t({len(d1)})')\n",
        "print(f'd2 = {d2}\\t({len(d2)})')"
      ],
      "execution_count": 31,
      "outputs": [
        {
          "output_type": "stream",
          "text": [
            "d1 = {'sun': 0, 'mon': 1, 'tue': 2}\t(3)\n",
            "d2 = {'wed': 3, 'thu': 4, 'fri': 5, 'sat': 6}\t(4)\n"
          ],
          "name": "stdout"
        }
      ]
    },
    {
      "cell_type": "code",
      "metadata": {
        "id": "dF8-QKLwbaEt",
        "colab": {
          "base_uri": "https://localhost:8080/"
        },
        "outputId": "d5654431-ea16-496d-f5d6-b94751f1f0cc"
      },
      "source": [
        "d1.update(d2)       # d1에 d2를 결합\n",
        "\n",
        "print(f'd1 = {d1}\\t({len(d1)})')\n",
        "print(f'd2 = {d2}\\t({len(d2)})')"
      ],
      "execution_count": 32,
      "outputs": [
        {
          "output_type": "stream",
          "text": [
            "d1 = {'sun': 0, 'mon': 1, 'tue': 2, 'wed': 3, 'thu': 4, 'fri': 5, 'sat': 6}\t(7)\n",
            "d2 = {'wed': 3, 'thu': 4, 'fri': 5, 'sat': 6}\t(4)\n"
          ],
          "name": "stdout"
        }
      ]
    },
    {
      "cell_type": "code",
      "metadata": {
        "id": "cr2Qa5vqbhQW",
        "colab": {
          "base_uri": "https://localhost:8080/"
        },
        "outputId": "626fe515-ef51-47c4-ae8b-1f8120e98161"
      },
      "source": [
        "# d1, d2에 'sun' key가 중복\n",
        "d1 = {'sun':0, 'mon':1, 'tue':2}\n",
        "d2 = {'wed':3, 'thu':4, 'fri':5, 'sat':6, 'sun':7}\n",
        "\n",
        "print(f'd1 = {d1}\\t({len(d1)})')\n",
        "print(f'd2 = {d2}\\t({len(d2)})')"
      ],
      "execution_count": 33,
      "outputs": [
        {
          "output_type": "stream",
          "text": [
            "d1 = {'sun': 0, 'mon': 1, 'tue': 2}\t(3)\n",
            "d2 = {'wed': 3, 'thu': 4, 'fri': 5, 'sat': 6, 'sun': 7}\t(5)\n"
          ],
          "name": "stdout"
        }
      ]
    },
    {
      "cell_type": "code",
      "metadata": {
        "id": "X3ysbgYkcANq",
        "colab": {
          "base_uri": "https://localhost:8080/"
        },
        "outputId": "72be9846-f438-4b66-ae44-af3acd71650e"
      },
      "source": [
        "d1.update(d2)       # d1에 d2를 결합 --> 중복 key는 d2의 key가 실제 요소가 된다.\n",
        "\n",
        "print(f'd1 = {d1}\\t({len(d1)})')\n",
        "print(f'd2 = {d2}\\t({len(d2)})')"
      ],
      "execution_count": 34,
      "outputs": [
        {
          "output_type": "stream",
          "text": [
            "d1 = {'sun': 7, 'mon': 1, 'tue': 2, 'wed': 3, 'thu': 4, 'fri': 5, 'sat': 6}\t(7)\n",
            "d2 = {'wed': 3, 'thu': 4, 'fri': 5, 'sat': 6, 'sun': 7}\t(5)\n"
          ],
          "name": "stdout"
        }
      ]
    },
    {
      "cell_type": "markdown",
      "metadata": {
        "id": "pReX05sKdUhS"
      },
      "source": [
        "### 삭제"
      ]
    },
    {
      "cell_type": "code",
      "metadata": {
        "id": "KYZYr3cBcKla",
        "colab": {
          "base_uri": "https://localhost:8080/"
        },
        "outputId": "856965d4-13de-4b9b-a16a-82be557fc6f0"
      },
      "source": [
        "print(f'd1 = {d1}\\t({len(d1)})')"
      ],
      "execution_count": 35,
      "outputs": [
        {
          "output_type": "stream",
          "text": [
            "d1 = {'sun': 7, 'mon': 1, 'tue': 2, 'wed': 3, 'thu': 4, 'fri': 5, 'sat': 6}\t(7)\n"
          ],
          "name": "stdout"
        }
      ]
    },
    {
      "cell_type": "code",
      "metadata": {
        "id": "rJzQevlfdYEb",
        "colab": {
          "base_uri": "https://localhost:8080/"
        },
        "outputId": "e8aa9470-09b2-4ecb-eea6-10125cc09658"
      },
      "source": [
        "del d1['sun']       # 해당 key의 요소를 삭제\n",
        "\n",
        "print(f'd1 = {d1}\\t({len(d1)})')"
      ],
      "execution_count": 36,
      "outputs": [
        {
          "output_type": "stream",
          "text": [
            "d1 = {'mon': 1, 'tue': 2, 'wed': 3, 'thu': 4, 'fri': 5, 'sat': 6}\t(6)\n"
          ],
          "name": "stdout"
        }
      ]
    },
    {
      "cell_type": "code",
      "metadata": {
        "id": "83Y1B6l1daQe",
        "colab": {
          "base_uri": "https://localhost:8080/"
        },
        "outputId": "af0ee091-57f2-4380-ef7b-921a59c12934"
      },
      "source": [
        "d1.pop('wed')       # 반환값을 사용 안하는 경우\n",
        "\n",
        "print(f'd1 = {d1}\\t({len(d1)})')"
      ],
      "execution_count": 37,
      "outputs": [
        {
          "output_type": "stream",
          "text": [
            "d1 = {'mon': 1, 'tue': 2, 'thu': 4, 'fri': 5, 'sat': 6}\t(5)\n"
          ],
          "name": "stdout"
        }
      ]
    },
    {
      "cell_type": "code",
      "metadata": {
        "id": "821XZn5Wdkz7",
        "colab": {
          "base_uri": "https://localhost:8080/"
        },
        "outputId": "87ca6c3c-5580-4678-e9b4-9b46563e814c"
      },
      "source": [
        "value = d1.pop('fri')\n",
        "\n",
        "print(f'd1 = {d1}\\t({len(d1)})')\n",
        "print(f'delete value = {value}')"
      ],
      "execution_count": 38,
      "outputs": [
        {
          "output_type": "stream",
          "text": [
            "d1 = {'mon': 1, 'tue': 2, 'thu': 4, 'sat': 6}\t(4)\n",
            "delete value = 5\n"
          ],
          "name": "stdout"
        }
      ]
    },
    {
      "cell_type": "code",
      "metadata": {
        "id": "v18EM4ATd-Lw",
        "colab": {
          "base_uri": "https://localhost:8080/"
        },
        "outputId": "8d78d08b-f568-420f-897f-0ae748884acd"
      },
      "source": [
        "d1.clear()\n",
        "\n",
        "print(f'd1 = {d1}\\t({len(d1)})')"
      ],
      "execution_count": 39,
      "outputs": [
        {
          "output_type": "stream",
          "text": [
            "d1 = {}\t(0)\n"
          ],
          "name": "stdout"
        }
      ]
    },
    {
      "cell_type": "markdown",
      "metadata": {
        "id": "VqHLG1bfe7KA"
      },
      "source": [
        "### dict 순회(traverse)"
      ]
    },
    {
      "cell_type": "code",
      "metadata": {
        "id": "D8XZVNm5ea3_",
        "colab": {
          "base_uri": "https://localhost:8080/"
        },
        "outputId": "8c7ce95f-c9ad-45fc-f737-3fe78ff3ea32"
      },
      "source": [
        "d = {'name':'hong', 'age':25, 'email':'hong@korea.com'}\n",
        "\n",
        "print(f'd = {d}\\t({len(d)})')"
      ],
      "execution_count": 40,
      "outputs": [
        {
          "output_type": "stream",
          "text": [
            "d = {'name': 'hong', 'age': 25, 'email': 'hong@korea.com'}\t(3)\n"
          ],
          "name": "stdout"
        }
      ]
    },
    {
      "cell_type": "code",
      "metadata": {
        "id": "bz1LCmbgfIJE",
        "colab": {
          "base_uri": "https://localhost:8080/"
        },
        "outputId": "a5afe28e-432c-45e5-faac-4115c5d4fae7"
      },
      "source": [
        "# for문을 이용해서 dict의 iterator(반복자) 사용\n",
        "# dict의 iterator(반복자)는 key를 반환\n",
        "for v in d:\n",
        "    print(v)"
      ],
      "execution_count": 41,
      "outputs": [
        {
          "output_type": "stream",
          "text": [
            "name\n",
            "age\n",
            "email\n"
          ],
          "name": "stdout"
        }
      ]
    },
    {
      "cell_type": "code",
      "metadata": {
        "id": "5_VrrFgZfN_k",
        "colab": {
          "base_uri": "https://localhost:8080/"
        },
        "outputId": "487e0df3-d120-4cb7-cb65-3e5a6c52a365"
      },
      "source": [
        "values = d.values()     # dict의 value 반환\n",
        "keys = d.keys()         # dict의 key 반환\n",
        "items = d.items()       # dict의 요소(key, value) 반환 (tuple로 묶어줌)\n",
        "\n",
        "print(f'values : {values}\\t({len(values)})')\n",
        "print(f'keys : {keys}\\t({len(keys)})')\n",
        "print(f'items : {items}\\t({len(items)})')"
      ],
      "execution_count": 42,
      "outputs": [
        {
          "output_type": "stream",
          "text": [
            "values : dict_values(['hong', 25, 'hong@korea.com'])\t(3)\n",
            "keys : dict_keys(['name', 'age', 'email'])\t(3)\n",
            "items : dict_items([('name', 'hong'), ('age', 25), ('email', 'hong@korea.com')])\t(3)\n"
          ],
          "name": "stdout"
        }
      ]
    },
    {
      "cell_type": "code",
      "metadata": {
        "id": "fnVgSJu9gfw4",
        "colab": {
          "base_uri": "https://localhost:8080/"
        },
        "outputId": "fc3033d5-ab98-4cb1-8b49-1a8a1b83981c"
      },
      "source": [
        "for v in d.values():\n",
        "    print(f'value : {v}')"
      ],
      "execution_count": 43,
      "outputs": [
        {
          "output_type": "stream",
          "text": [
            "value : hong\n",
            "value : 25\n",
            "value : hong@korea.com\n"
          ],
          "name": "stdout"
        }
      ]
    },
    {
      "cell_type": "code",
      "metadata": {
        "id": "ef02jg-CgrxG",
        "colab": {
          "base_uri": "https://localhost:8080/"
        },
        "outputId": "1582f234-d449-43a7-b080-a4607e17a017"
      },
      "source": [
        "for k in d.keys():\n",
        "    print(f'd[{k}] : {d[k]}')"
      ],
      "execution_count": 44,
      "outputs": [
        {
          "output_type": "stream",
          "text": [
            "d[name] : hong\n",
            "d[age] : 25\n",
            "d[email] : hong@korea.com\n"
          ],
          "name": "stdout"
        }
      ]
    },
    {
      "cell_type": "code",
      "metadata": {
        "id": "FUVGOX4ohFKz",
        "colab": {
          "base_uri": "https://localhost:8080/"
        },
        "outputId": "b2b79e43-7e4a-45d3-c04b-4c61b6513f3b"
      },
      "source": [
        "for k, v in d.items():\n",
        "    print(f'd[{k}] : {v}')"
      ],
      "execution_count": 45,
      "outputs": [
        {
          "output_type": "stream",
          "text": [
            "d[name] : hong\n",
            "d[age] : 25\n",
            "d[email] : hong@korea.com\n"
          ],
          "name": "stdout"
        }
      ]
    },
    {
      "cell_type": "code",
      "metadata": {
        "id": "3rgfu2hThcI9",
        "colab": {
          "base_uri": "https://localhost:8080/"
        },
        "outputId": "0e0593cf-b150-4e5e-c2d9-f2d473cd2c54"
      },
      "source": [
        "for k, v in d.items():\n",
        "    print(f'key = {k}\\tvalue = {v}')"
      ],
      "execution_count": 46,
      "outputs": [
        {
          "output_type": "stream",
          "text": [
            "key = name\tvalue = hong\n",
            "key = age\tvalue = 25\n",
            "key = email\tvalue = hong@korea.com\n"
          ],
          "name": "stdout"
        }
      ]
    },
    {
      "cell_type": "markdown",
      "metadata": {
        "id": "KG7jvZehicVX"
      },
      "source": [
        "### dict comprehension"
      ]
    },
    {
      "cell_type": "code",
      "metadata": {
        "id": "j5usZEVZiSv1",
        "colab": {
          "base_uri": "https://localhost:8080/"
        },
        "outputId": "327d7b1c-eec3-40fc-cb04-f8d31da4ffca"
      },
      "source": [
        "names = ['hong','kim','lee']\n",
        "values = [25,35,45]\n",
        "d = {k:v for k,v in zip(names,values)}      # dict comprehension\n",
        "\n",
        "for k, v in d.items():\n",
        "    print(f'd[{k}] : {v}')"
      ],
      "execution_count": 47,
      "outputs": [
        {
          "output_type": "stream",
          "text": [
            "d[hong] : 25\n",
            "d[kim] : 35\n",
            "d[lee] : 45\n"
          ],
          "name": "stdout"
        }
      ]
    },
    {
      "cell_type": "code",
      "metadata": {
        "id": "_pIZErcejNTk",
        "colab": {
          "base_uri": "https://localhost:8080/"
        },
        "outputId": "bf1db0f1-c82e-4a6c-dbe9-a81366d296db"
      },
      "source": [
        "# for문만 이용하여 dict 생성\n",
        "d = {}\n",
        "for i,v in enumerate(names):\n",
        "    d[v] = values[i]\n",
        "\n",
        "for k,v in d.items():\n",
        "    print(f'd[{k}] = {v}')"
      ],
      "execution_count": 48,
      "outputs": [
        {
          "output_type": "stream",
          "text": [
            "d[hong] = 25\n",
            "d[kim] = 35\n",
            "d[lee] = 45\n"
          ],
          "name": "stdout"
        }
      ]
    },
    {
      "cell_type": "markdown",
      "metadata": {
        "id": "fvi7_hPSoFCb"
      },
      "source": [
        "# dict 적용 실습\n",
        "\n",
        "문제 ) 3명의 학생의 이름, 3과목 점수를 입력받아 총점, 평균을 계산한 후 성적 일람표를 출력하는 파이썬 스크립트 작성(dict 사용)\n",
        "\n",
        "문제 이해 ) \n",
        "\n",
        "    입력 자료 : 3명 학생 시험 정보(이름, 3과목 점수)\n",
        "    출력 자료 : 3명 학생 성적 일람표\n",
        "    * 총점, 평균 계산\n",
        "\n",
        "알고리즘 설계 ) \n",
        "\n",
        "    0. 변수 정의\n",
        "    1. 3명 만큼 반복\n",
        "        1.1 학생 시험 정보 입력(이름, 3과목 성적)\n",
        "        1.2 총점 계산\n",
        "        1.3 평균 계산\n",
        "    2. 성적 일람표 출력"
      ]
    },
    {
      "cell_type": "code",
      "metadata": {
        "id": "_gnakWhvkKE8",
        "colab": {
          "base_uri": "https://localhost:8080/"
        },
        "outputId": "316973a6-760c-4c98-82e3-b3c6902bb7d9"
      },
      "source": [
        "# Symbolic Constant\n",
        "MAX_STUDENT = 3\n",
        "MAX_SUBJECT = 3\n",
        "LOW_SCORE = 0\n",
        "HIGH_SCORE = 100\n",
        "\n",
        "# 0. 변수 정의\n",
        "students = {}   # 학생 성적 정보 저장 dict\n",
        "\n",
        "# 1. 3명 만큼 반복\n",
        "for i in range(1, MAX_STUDENT + 1):\n",
        "    name = input(f'[{i}] 번째 학생 이름 입력 : ')   # dict의 key\n",
        "\n",
        "    # reset\n",
        "    student = []    # 학생 3과목 점수, 총점, 평균 저장 - value로 사용\n",
        "    total = 0\n",
        "    \n",
        "    for j in range(MAX_SUBJECT):\n",
        "        # 1.1 점수 입력\n",
        "        subject = int(float(input(f'[{i}]번째 [{name}]학생 [{j+1}]번째 점수 입력 : ')))\n",
        "\n",
        "        # 입력 점수 범위 error check --> 2-read 기법 활용\n",
        "        while subject < LOW_SCORE or subject > HIGH_SCORE:\n",
        "            print(f'Error... 점수는 {LOW_SCORE} ~ {HIGH_SCORE} 범위입니다.')\n",
        "            subject = int(float(input(f'[{i}]번째 [{name}]학생 [{j+1}]번째 점수 입력 : ')))      \n",
        "        student.append(subject)\n",
        "\n",
        "        # 1.2 총점 계산\n",
        "        total += subject\n",
        "    print()\n",
        "    student.append(total)\n",
        "\n",
        "    # 1.3 평균 계산\n",
        "    average = total / MAX_SUBJECT\n",
        "    student.append(average)\n",
        "\n",
        "    # 학생 성적 정보 dict에 학생 추가\n",
        "    students[name] = student\n",
        "\n",
        "# 2. 성적 일람표 출력\n",
        "print()\n",
        "for k, v in students.items():\n",
        "    print(f'{k:<10}', end='')\n",
        "\n",
        "    for i in range(MAX_SUBJECT):\n",
        "        print(f'{v[i]:5}', end='')\n",
        "\n",
        "    print(f'{v[3]:8} {v[4]:8.2f}')"
      ],
      "execution_count": 49,
      "outputs": [
        {
          "output_type": "stream",
          "text": [
            "[1] 번째 학생 이름 입력 : Hong\n",
            "[1]번째 [Hong]학생 [1]번째 점수 입력 : 10\n",
            "[1]번째 [Hong]학생 [2]번째 점수 입력 : 20\n",
            "[1]번째 [Hong]학생 [3]번째 점수 입력 : 30\n",
            "\n",
            "[2] 번째 학생 이름 입력 : Kim\n",
            "[2]번째 [Kim]학생 [1]번째 점수 입력 : 40\n",
            "[2]번째 [Kim]학생 [2]번째 점수 입력 : 50\n",
            "[2]번째 [Kim]학생 [3]번째 점수 입력 : 60\n",
            "\n",
            "[3] 번째 학생 이름 입력 : Lee\n",
            "[3]번째 [Lee]학생 [1]번째 점수 입력 : 70\n",
            "[3]번째 [Lee]학생 [2]번째 점수 입력 : 80\n",
            "[3]번째 [Lee]학생 [3]번째 점수 입력 : 90\n",
            "\n",
            "\n",
            "Hong         10   20   30      60    20.00\n",
            "Kim          40   50   60     150    50.00\n",
            "Lee          70   80   90     240    80.00\n"
          ],
          "name": "stdout"
        }
      ]
    },
    {
      "cell_type": "code",
      "metadata": {
        "id": "5NT4AZwOwPoW",
        "colab": {
          "base_uri": "https://localhost:8080/"
        },
        "outputId": "9d4b6cbc-f276-409f-b247-a604f66083de"
      },
      "source": [
        "# 학생 이름으로 검색\n",
        "search = input('검색할 학생의 이름을 입력(종료 : \"end\") : ')\n",
        "while search.lower() != 'end':\n",
        "    student = students.get(search, 0)   # 검색\n",
        "\n",
        "    if student != 0:    # 검색 결과에 따를 처리\n",
        "        print(f'{search:<10}', end='')\n",
        "\n",
        "        for i in range(MAX_SUBJECT):\n",
        "            print(f'{student[i]:5}', end='')\n",
        "        print(f'{student[3]:8} {student[4]:8.2f}')\n",
        "\n",
        "    else:\n",
        "        print(f'Error : {search:<10} 학생의 성적 정보는 없습니다.')\n",
        "    print()\n",
        "\n",
        "    search = input('검색할 학생의 이름을 입력(종료 : \"end\")')"
      ],
      "execution_count": 50,
      "outputs": [
        {
          "output_type": "stream",
          "text": [
            "검색할 학생의 이름을 입력(종료 : \"end\") : Hong\n",
            "Hong         10   20   30      60    20.00\n",
            "\n",
            "검색할 학생의 이름을 입력(종료 : \"end\")Kim\n",
            "Kim          40   50   60     150    50.00\n",
            "\n",
            "검색할 학생의 이름을 입력(종료 : \"end\")lee\n",
            "Error : lee        학생의 성적 정보는 없습니다.\n",
            "\n",
            "검색할 학생의 이름을 입력(종료 : \"end\")Lee\n",
            "Lee          70   80   90     240    80.00\n",
            "\n",
            "검색할 학생의 이름을 입력(종료 : \"end\")end\n"
          ],
          "name": "stdout"
        }
      ]
    }
  ]
}