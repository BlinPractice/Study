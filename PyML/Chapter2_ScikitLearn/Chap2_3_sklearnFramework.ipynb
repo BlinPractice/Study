{
  "nbformat": 4,
  "nbformat_minor": 0,
  "metadata": {
    "colab": {
      "name": "Chap2_3_sklearnFramework.ipynb",
      "provenance": [],
      "collapsed_sections": [],
      "toc_visible": true,
      "authorship_tag": "ABX9TyOBjmeutQpJo3/yF5RHACE+",
      "include_colab_link": true
    },
    "kernelspec": {
      "name": "python3",
      "display_name": "Python 3"
    },
    "language_info": {
      "name": "python"
    }
  },
  "cells": [
    {
      "cell_type": "markdown",
      "metadata": {
        "id": "view-in-github",
        "colab_type": "text"
      },
      "source": [
        "<a href=\"https://colab.research.google.com/github/PyBlin/Study/blob/main/PyML/Chap2_3_sklearnFramework.ipynb\" target=\"_parent\"><img src=\"https://colab.research.google.com/assets/colab-badge.svg\" alt=\"Open In Colab\"/></a>"
      ]
    },
    {
      "cell_type": "markdown",
      "metadata": {
        "id": "6dIAuxcT-m2h"
      },
      "source": [
        "# 3.사이킷런 기반 프레임워크 익히기"
      ]
    },
    {
      "cell_type": "markdown",
      "metadata": {
        "id": "pB_E0zUFCZhG"
      },
      "source": [
        "## 3.1 Estimator 이해 및 fit(), predict() 메서드\n",
        "\n",
        "* Estimator : 지도학습의 모든 알고리즘을 구현한 클래스\n",
        "    * Classifier : 분류 알고리즘을 구현한 클래스\n",
        "        * Decision Tree Classifier\n",
        "        * Random Forest Classifier\n",
        "        * Gradient Boosting Classifier\n",
        "        * Gaussian NB\n",
        "        * SVC\n",
        "    * Regressor : 회귀 알고리즘을 구현한 클래스\n",
        "        * Linear Regression\n",
        "        * Ridge\n",
        "        * Lasso\n",
        "        * Random Forest Regressor\n",
        "        * Gradient Boosting Regressosr\n",
        "\n",
        "* 지도학습\n",
        "    * `fit()` : 학습\n",
        "    * `predict()` : 예측\n",
        "\n",
        "* 비지도학습\n",
        "    * `fit()` : 입력 데이터의 형태에 맞춰 데이터 변환\n",
        "    * `transform()` : 차원변환, 클러스터링, 피처 추출 등의 실제 작업"
      ]
    },
    {
      "cell_type": "code",
      "metadata": {
        "id": "ScJf2K6MQ5pW"
      },
      "source": [
        "# fit_transform() = fit() + transform()"
      ],
      "execution_count": 1,
      "outputs": []
    },
    {
      "cell_type": "markdown",
      "metadata": {
        "id": "U8qPETEoANgJ"
      },
      "source": [
        "## 3.2 사이킷런의 주요 모듈\n",
        "\n",
        "* 예제 데이터\n",
        "    * `sklearn.datasets` : 예제 데이터셋\n",
        "\n",
        "* 피처 처리\n",
        "    * `sklearn.preprocessing` : 전처리에 필요한 다양한 기능 제공\n",
        "    * `sklearn.feature_selection` : 피처를 우선순위대로 선택하는 다양한 기능 제공\n",
        "    * `sklearn.feature_extraction` : 텍스트/이미지 데이터의 벡터화된 피처를 추출\n",
        "        - `sklearn.feature_extraction.text`\n",
        "        - `sklearn.feature_extraction.image`\n",
        "\n",
        "* 피처 처리 & 차원 축소\n",
        "    * `sklearn.decomposition` : 차원 축소와 관련한 알고리즘을 지원\n",
        "\n",
        "* 데이터 분리, 검증 & 파라미터 튜닝\n",
        "    * `sklearn.model_selection` : 교차 검증을 위한 학습용/테스트용 분리\n",
        "        - Grid Search로 최적 파라미터 추출 등의 API 제공\n",
        "\n",
        "* 평가\n",
        "    * `sklearn.metrics` : 분류, 회귀, clustering, pairwise에 대한 다양한 성능 측정 방법 제공\n",
        "        - Accuracy, Precision, Recall, ROC-AUC, RMSE 등 제공\n",
        "\n",
        "* ML 알고리즘\n",
        "    * `sklearn.ensemble` : 앙상블 알고리즘 제공\n",
        "        - Random Forest, Ada Boost, Gradient Boost 등을 제공\n",
        "    * `sklearn.linear_model` : 회귀 및 SGD(경사하강법) 관련 알고리즘을 지원\n",
        "    * `sklearn.naive_bayes` : 나이브 베이즈 알고리즘 제공\n",
        "        - 가우시안 NB, 다항분포 NB 등\n",
        "    * `sklearn.neighbors` : 최근접 이웃 알고리즘 (K-NN) 제공\n",
        "    * `sklearn.svm` : Support Vector Machine 알고리즘 제공\n",
        "    * `sklearn.tree` : Decision(의사결정) Tree 알고리즘 제공\n",
        "    * `sklearn.cluster` : 비지도 클러스터링 알고리즘 제공\n",
        "        - K-평균, 계층형, DBSCAN 등\n",
        "\n",
        "* 유틸리티\n",
        "    * `sklearn.pipeline` : 피처 처리 등의 변환과 ML 알고리즘 학습, 예측 등을 함께 묶어서 실행할 수 있는 유틸리티 제공"
      ]
    },
    {
      "cell_type": "code",
      "metadata": {
        "colab": {
          "base_uri": "https://localhost:8080/",
          "height": 36
        },
        "id": "KA4OQXtcRMqa",
        "outputId": "d4873e81-64e0-4bd7-d65f-e4a0a9298f78"
      },
      "source": [
        "# ML model process\n",
        "\n",
        "\"\"\"\n",
        "1. 피처 처리 (가공, 변경, 추출)\n",
        "2. ML 알고리즘 학습/예측\n",
        "3. 모델 평가\n",
        "\"\"\""
      ],
      "execution_count": 2,
      "outputs": [
        {
          "output_type": "execute_result",
          "data": {
            "application/vnd.google.colaboratory.intrinsic+json": {
              "type": "string"
            },
            "text/plain": [
              "'\\n1. 피처 처리 (가공, 변경, 추출)\\n2. ML 알고리즘 학습/예측\\n3. 모델 평가\\n'"
            ]
          },
          "metadata": {},
          "execution_count": 2
        }
      ]
    },
    {
      "cell_type": "markdown",
      "metadata": {
        "id": "2AhbzTIyC6vi"
      },
      "source": [
        "## 3.3 내장된 예제 데이터 세트\n",
        "\n",
        "* 분류 or 회귀 연습용 예제 데이터셋 (dictionary 형태)\n",
        "    * `datasets.load_boston()` : 회귀용, 보스턴 집 데이터셋\n",
        "    * `datasets.load_breast_cancer()` : 분류용, 위스콘신 유방암 데이터셋\n",
        "    * `datasets.load_diabetes()` : 회귀용, 당뇨 데이터셋\n",
        "    * `datasets.load_digits()` : 분류용, 0 ~ 9 숫자 이미지 픽셀 데이터셋\n",
        "    * `datasets.load_iris()` : 분류용, 붓꽃 데이터셋\n",
        "\n",
        "* 분류 and 클러스터링 표본 데이터 생성기\n",
        "    * `datasets.make_classifications()` : 분류용 데이터셋 만들기\n",
        "        - 높은 상관도, 불필요한 속성 등의 노이즈 효과를 위한 데이터를 무작위로 생성\n",
        "    * `datasets.make_blobs()` : 클러스터링 데이터셋 만들기 (random)\n",
        "        - 군집 지정 갯수에 따라 여러 가지 클러스터링을 위한 데이터셋을 쉽게 생성\n",
        "\n",
        "* fetch 계열 데이터 : 데이터 크기가 너무 커서 인터넷 다운로드 필요\n",
        "    - 서브 디렉터리 scikit_learn_data에 저장한 후 추후 불러들이는 데이터.\n",
        "        - `fetch_covtype()` : 회귀 분석용 토지 조사 자료\n",
        "        - `fetch_20newsgroups()` : 뉴스 그룹 텍스트 자료\n",
        "        - `fetch_olivetti_faces()` : 얼굴 이미지 자료\n",
        "        - `fetch_lfw_people()` : 얼굴 이미지 자료\n",
        "        - `fetch_lfw_pairs()` : 얼굴 이미지 자료\n",
        "        - `fetch_rcv1()` : 로이터 뉴스 말뭉치\n",
        "        - `fetch_mldata()` : ML 웹사이트에서 다운로드"
      ]
    },
    {
      "cell_type": "code",
      "metadata": {
        "colab": {
          "base_uri": "https://localhost:8080/"
        },
        "id": "IDprly_wVsUx",
        "outputId": "b4a6a3ff-750a-4039-98e2-c7e08a784c93"
      },
      "source": [
        "from sklearn.datasets import load_iris\n",
        "\n",
        "iris_data = load_iris()\n",
        "print(type(iris_data))\n",
        "\n",
        "# key 값 확인\n",
        "keys = iris_data.keys()\n",
        "print(f'\\niris data set keys : {keys}')"
      ],
      "execution_count": 3,
      "outputs": [
        {
          "output_type": "stream",
          "name": "stdout",
          "text": [
            "<class 'sklearn.utils.Bunch'>\n",
            "\n",
            "iris data set keys : dict_keys(['data', 'target', 'target_names', 'DESCR', 'feature_names', 'filename'])\n"
          ]
        }
      ]
    },
    {
      "cell_type": "code",
      "metadata": {
        "colab": {
          "base_uri": "https://localhost:8080/"
        },
        "id": "w93uW273Wed9",
        "outputId": "048f9411-0f75-48d0-f155-b3c3ae776683"
      },
      "source": [
        "print(f\"\\nfeature_names's type : {type(iris_data.feature_names)}\")\n",
        "print(f\"feature_names's shape : {len(iris_data.feature_names)}\")\n",
        "print(iris_data.feature_names)\n",
        "\n",
        "print(f\"\\ntarget_names's type : {type(iris_data.target_names)}\")\n",
        "print(f\"target_names's shape : {len(iris_data.target_names)}\")\n",
        "print(iris_data.target_names)\n",
        "\n",
        "print(f\"\\ndata's type : {type(iris_data.data)}\")\n",
        "print(f\"data's shape : {iris_data.data.shape}\")\n",
        "print(iris_data['data'][:5])\n",
        "\n",
        "print(f\"\\ntarget's type : {type(iris_data.target)}\")\n",
        "print(f\"target's shape : {iris_data.target.shape}\")\n",
        "print(iris_data.target)"
      ],
      "execution_count": 4,
      "outputs": [
        {
          "output_type": "stream",
          "name": "stdout",
          "text": [
            "\n",
            "feature_names's type : <class 'list'>\n",
            "feature_names's shape : 4\n",
            "['sepal length (cm)', 'sepal width (cm)', 'petal length (cm)', 'petal width (cm)']\n",
            "\n",
            "target_names's type : <class 'numpy.ndarray'>\n",
            "target_names's shape : 3\n",
            "['setosa' 'versicolor' 'virginica']\n",
            "\n",
            "data's type : <class 'numpy.ndarray'>\n",
            "data's shape : (150, 4)\n",
            "[[5.1 3.5 1.4 0.2]\n",
            " [4.9 3.  1.4 0.2]\n",
            " [4.7 3.2 1.3 0.2]\n",
            " [4.6 3.1 1.5 0.2]\n",
            " [5.  3.6 1.4 0.2]]\n",
            "\n",
            "target's type : <class 'numpy.ndarray'>\n",
            "target's shape : (150,)\n",
            "[0 0 0 0 0 0 0 0 0 0 0 0 0 0 0 0 0 0 0 0 0 0 0 0 0 0 0 0 0 0 0 0 0 0 0 0 0\n",
            " 0 0 0 0 0 0 0 0 0 0 0 0 0 1 1 1 1 1 1 1 1 1 1 1 1 1 1 1 1 1 1 1 1 1 1 1 1\n",
            " 1 1 1 1 1 1 1 1 1 1 1 1 1 1 1 1 1 1 1 1 1 1 1 1 1 1 2 2 2 2 2 2 2 2 2 2 2\n",
            " 2 2 2 2 2 2 2 2 2 2 2 2 2 2 2 2 2 2 2 2 2 2 2 2 2 2 2 2 2 2 2 2 2 2 2 2 2\n",
            " 2 2]\n"
          ]
        }
      ]
    }
  ]
}
