{
  "nbformat": 4,
  "nbformat_minor": 0,
  "metadata": {
    "colab": {
      "name": "Chap2_Scikit_Learn.ipynb",
      "provenance": [],
      "collapsed_sections": [],
      "toc_visible": true,
      "authorship_tag": "ABX9TyMM/jG0/86Grf8zxqHdv6JE",
      "include_colab_link": true
    },
    "kernelspec": {
      "name": "python3",
      "display_name": "Python 3"
    },
    "language_info": {
      "name": "python"
    }
  },
  "cells": [
    {
      "cell_type": "markdown",
      "metadata": {
        "id": "view-in-github",
        "colab_type": "text"
      },
      "source": [
        "<a href=\"https://colab.research.google.com/github/PyBlin/Study/blob/main/PyML/Chapter2_ScikitLearn/Chap2_Scikit_Learn.ipynb\" target=\"_parent\"><img src=\"https://colab.research.google.com/assets/colab-badge.svg\" alt=\"Open In Colab\"/></a>"
      ]
    },
    {
      "cell_type": "markdown",
      "metadata": {
        "id": "hcy93ybf1Z7p"
      },
      "source": [
        "# 1.사이킷런 소개와 특징"
      ]
    },
    {
      "cell_type": "code",
      "metadata": {
        "id": "A6VUuYHp2jR3"
      },
      "source": [
        "# 설치 (이왕이면 conda로 설치하세요~)\n",
        "# conda install scikit_learn\n",
        "# pip install scikit_learn"
      ],
      "execution_count": 1,
      "outputs": []
    },
    {
      "cell_type": "code",
      "metadata": {
        "colab": {
          "base_uri": "https://localhost:8080/",
          "height": 36
        },
        "id": "zVX_om3h2od9",
        "outputId": "0e324257-22bf-4fa3-adef-368bdbbeaa9f"
      },
      "source": [
        "# version check\n",
        "import sklearn\n",
        "\n",
        "sklearn.__version__"
      ],
      "execution_count": 2,
      "outputs": [
        {
          "output_type": "execute_result",
          "data": {
            "application/vnd.google.colaboratory.intrinsic+json": {
              "type": "string"
            },
            "text/plain": [
              "'0.22.2.post1'"
            ]
          },
          "metadata": {},
          "execution_count": 2
        }
      ]
    },
    {
      "cell_type": "markdown",
      "metadata": {
        "id": "lHR5lEgv230V"
      },
      "source": [
        "# 2.붓꽃 품종 예측하기"
      ]
    },
    {
      "cell_type": "code",
      "metadata": {
        "id": "GHhw3pFg3FMI"
      },
      "source": [
        "from sklearn.datasets import load_iris\n",
        "from sklearn.tree import DecisionTreeClassifier\n",
        "from sklearn.model_selection import train_test_split"
      ],
      "execution_count": 3,
      "outputs": []
    },
    {
      "cell_type": "markdown",
      "metadata": {
        "id": "TfyOsfM43vq9"
      },
      "source": [
        "* `sklearn.datasets` : 사이킷런 내에서 자체적으로 제공하는 데이터셋을 생성하는 모듈의 모임입니다.\n",
        "* `sklearn.tree` : Tree 기반 ML 알고리즘을 구현한 클래스의 모임입니다.\n",
        "* `sklearn.model_selection` : 학습/검증/예측 데이터를 분리하거나 최적의 하이퍼 파라미터로 평가하기 위한 다양한 모듈의 모임입니다.\n",
        "* 하이퍼 파라미터 : ML 알고리즘별로 최적의 학습을 위해 직접 입력하는 파라미터들을 통칭하며, 하이퍼 파라미터를 통해 ML 알고리즘의 성능을 튜닝할 수 있습니다.\n",
        "* `load_iris` : 붓꽃 데이터셋을 생성합니다.\n",
        "* `DecisionTreeClassifier` : ML 알고리즘의 의사결정트리를 적용합니다.\n",
        "* `train_test_split` : 학습 데이터와 테스트 데이터로 분리합니다."
      ]
    },
    {
      "cell_type": "code",
      "metadata": {
        "colab": {
          "base_uri": "https://localhost:8080/",
          "height": 257
        },
        "id": "oFDGt5Nw4Yt0",
        "outputId": "a2a7c00a-ad19-40fa-c718-19778769493c"
      },
      "source": [
        "import pandas as pd\n",
        "\n",
        "# iris data loading\n",
        "iris = load_iris()\n",
        "\n",
        "# iris.data : 붓꽃 데이터셋에서 피처만으로 된 데이터를 numpy로 가지고 있습니다.\n",
        "iris_data = iris.data\n",
        "\n",
        "# iris.target : 붓꽃 데이터셋에서 레이블(결정값) 데이터를 numpy로 가지고 있습니다.\n",
        "iris_label = iris.target\n",
        "print('iris target value : ', iris_label)\n",
        "print('iris target name : ', iris.target_names)\n",
        "\n",
        "# 붓꽃 데이터셋을 자세히 보기 위해 df로 변환합니다.\n",
        "iris_df = pd.DataFrame(data=iris_data, columns=iris.feature_names)\n",
        "iris_df['label'] = iris.target\n",
        "iris_df.head(3)"
      ],
      "execution_count": 4,
      "outputs": [
        {
          "output_type": "stream",
          "name": "stdout",
          "text": [
            "iris target value :  [0 0 0 0 0 0 0 0 0 0 0 0 0 0 0 0 0 0 0 0 0 0 0 0 0 0 0 0 0 0 0 0 0 0 0 0 0\n",
            " 0 0 0 0 0 0 0 0 0 0 0 0 0 1 1 1 1 1 1 1 1 1 1 1 1 1 1 1 1 1 1 1 1 1 1 1 1\n",
            " 1 1 1 1 1 1 1 1 1 1 1 1 1 1 1 1 1 1 1 1 1 1 1 1 1 1 2 2 2 2 2 2 2 2 2 2 2\n",
            " 2 2 2 2 2 2 2 2 2 2 2 2 2 2 2 2 2 2 2 2 2 2 2 2 2 2 2 2 2 2 2 2 2 2 2 2 2\n",
            " 2 2]\n",
            "iris target name :  ['setosa' 'versicolor' 'virginica']\n"
          ]
        },
        {
          "output_type": "execute_result",
          "data": {
            "text/html": [
              "<div>\n",
              "<style scoped>\n",
              "    .dataframe tbody tr th:only-of-type {\n",
              "        vertical-align: middle;\n",
              "    }\n",
              "\n",
              "    .dataframe tbody tr th {\n",
              "        vertical-align: top;\n",
              "    }\n",
              "\n",
              "    .dataframe thead th {\n",
              "        text-align: right;\n",
              "    }\n",
              "</style>\n",
              "<table border=\"1\" class=\"dataframe\">\n",
              "  <thead>\n",
              "    <tr style=\"text-align: right;\">\n",
              "      <th></th>\n",
              "      <th>sepal length (cm)</th>\n",
              "      <th>sepal width (cm)</th>\n",
              "      <th>petal length (cm)</th>\n",
              "      <th>petal width (cm)</th>\n",
              "      <th>label</th>\n",
              "    </tr>\n",
              "  </thead>\n",
              "  <tbody>\n",
              "    <tr>\n",
              "      <th>0</th>\n",
              "      <td>5.1</td>\n",
              "      <td>3.5</td>\n",
              "      <td>1.4</td>\n",
              "      <td>0.2</td>\n",
              "      <td>0</td>\n",
              "    </tr>\n",
              "    <tr>\n",
              "      <th>1</th>\n",
              "      <td>4.9</td>\n",
              "      <td>3.0</td>\n",
              "      <td>1.4</td>\n",
              "      <td>0.2</td>\n",
              "      <td>0</td>\n",
              "    </tr>\n",
              "    <tr>\n",
              "      <th>2</th>\n",
              "      <td>4.7</td>\n",
              "      <td>3.2</td>\n",
              "      <td>1.3</td>\n",
              "      <td>0.2</td>\n",
              "      <td>0</td>\n",
              "    </tr>\n",
              "  </tbody>\n",
              "</table>\n",
              "</div>"
            ],
            "text/plain": [
              "   sepal length (cm)  sepal width (cm)  ...  petal width (cm)  label\n",
              "0                5.1               3.5  ...               0.2      0\n",
              "1                4.9               3.0  ...               0.2      0\n",
              "2                4.7               3.2  ...               0.2      0\n",
              "\n",
              "[3 rows x 5 columns]"
            ]
          },
          "metadata": {},
          "execution_count": 4
        }
      ]
    },
    {
      "cell_type": "markdown",
      "metadata": {
        "id": "7bmuvzxb6o9Y"
      },
      "source": [
        "* 레이블(결정값) : 0(setosa), 1(versicolor), 2(virginica)"
      ]
    },
    {
      "cell_type": "code",
      "metadata": {
        "id": "CxGr3DW16eCU"
      },
      "source": [
        "# 학습용 데이터와 테스트용 데이터 분리\n",
        "# X_train : 학습용 피처 데이터셋\n",
        "# X_test : 테스트용 피처 데이터셋\n",
        "# y_train : 학습용 레이블 데이터셋\n",
        "# y_test : 테스트용 레이블 데이터셋\n",
        "X_train, X_test, y_train, y_test = train_test_split(iris_data, iris_label, \n",
        "                                                    test_size=0.2, \n",
        "                                                    random_state=11)"
      ],
      "execution_count": 5,
      "outputs": []
    },
    {
      "cell_type": "markdown",
      "metadata": {
        "id": "wGliJww-7Z4M"
      },
      "source": [
        "* `iris_data` : 피처 데이터셋입니다.\n",
        "* `iris_label` : 레이블 데이터셋입니다.\n",
        "* `test_size` : 학습 데이터와 테스트 데이터를 비율로 분할합니다.\n",
        "* `random_state` : 호출할 때마다 같은 학습/테스트용 데이터셋을 생성하기 위한 난수 발생값입니다.\n",
        "\n",
        "    * `train_test_split()` 함수는 호출 시 무작위로 데이터를 분리하므로 `random_state`를 지정하지 않으면 수행할 때마다 다른 학습/테스트용 데이터를 만들 수 있습니다. seed와 같은 의미로, 아무 값으로 지정해도 무관합니다."
      ]
    },
    {
      "cell_type": "code",
      "metadata": {
        "colab": {
          "base_uri": "https://localhost:8080/"
        },
        "id": "bUfsItjf8Tzd",
        "outputId": "2c7244cf-e001-49d5-94af-68a34aaa2a06"
      },
      "source": [
        "# DecisionTreeClassifier 객체 생성\n",
        "dt_clf = DecisionTreeClassifier(random_state=11)\n",
        "\n",
        "# 학습 수행\n",
        "dt_clf.fit(X_train, y_train)"
      ],
      "execution_count": 6,
      "outputs": [
        {
          "output_type": "execute_result",
          "data": {
            "text/plain": [
              "DecisionTreeClassifier(ccp_alpha=0.0, class_weight=None, criterion='gini',\n",
              "                       max_depth=None, max_features=None, max_leaf_nodes=None,\n",
              "                       min_impurity_decrease=0.0, min_impurity_split=None,\n",
              "                       min_samples_leaf=1, min_samples_split=2,\n",
              "                       min_weight_fraction_leaf=0.0, presort='deprecated',\n",
              "                       random_state=11, splitter='best')"
            ]
          },
          "metadata": {},
          "execution_count": 6
        }
      ]
    },
    {
      "cell_type": "markdown",
      "metadata": {
        "id": "ggt8vIee9GEa"
      },
      "source": [
        "* `fit(학습용 피처셋, 학습용 레이블셋)` : 학습을 수행합니다."
      ]
    },
    {
      "cell_type": "code",
      "metadata": {
        "id": "m5PDM34m9FUU"
      },
      "source": [
        "# 테스트용 피처 데이터셋으로 예측 수행\n",
        "pred = dt_clf.predict(X_test)"
      ],
      "execution_count": 7,
      "outputs": []
    },
    {
      "cell_type": "code",
      "metadata": {
        "colab": {
          "base_uri": "https://localhost:8080/"
        },
        "id": "eLlGr5fV-Mtk",
        "outputId": "8e288f9e-34b0-47ea-e361-fe3d7d25eed7"
      },
      "source": [
        "# 여러 가지 ML 모델 성능 평가 방법 중 정확도를 측정\n",
        "from sklearn.metrics import accuracy_score\n",
        "\n",
        "print(f'예측 정확도 : {accuracy_score(y_test, pred):.4f}')"
      ],
      "execution_count": 8,
      "outputs": [
        {
          "output_type": "stream",
          "name": "stdout",
          "text": [
            "예측 정확도 : 0.9333\n"
          ]
        }
      ]
    },
    {
      "cell_type": "markdown",
      "metadata": {
        "id": "UZVU0Fzn-uNE"
      },
      "source": [
        "* `accuracy_score(실제 레이블셋, 예측 레이블셋)` : 정확도를 예측합니다."
      ]
    },
    {
      "cell_type": "markdown",
      "metadata": {
        "id": "6dIAuxcT-m2h"
      },
      "source": [
        "# 3.사이킷런 기반 프레임워크 익히기"
      ]
    },
    {
      "cell_type": "markdown",
      "metadata": {
        "id": "pB_E0zUFCZhG"
      },
      "source": [
        "## 3.1 Estimator 이해 및 fit(), predict() 메서드\n",
        "\n",
        "* Estimator : 지도학습의 모든 알고리즘을 구현한 클래스\n",
        "    * Classifier : 분류 알고리즘을 구현한 클래스\n",
        "        * Decision Tree Classifier\n",
        "        * Random Forest Classifier\n",
        "        * Gradient Boosting Classifier\n",
        "        * Gaussian NB\n",
        "        * SVC\n",
        "    * Regressor : 회귀 알고리즘을 구현한 클래스\n",
        "        * Linear Regression\n",
        "        * Ridge\n",
        "        * Lasso\n",
        "        * Random Forest Regressor\n",
        "        * Gradient Boosting Regressosr\n",
        "\n",
        "* 지도학습\n",
        "    * `fit()` : 학습\n",
        "    * `predict()` : 예측\n",
        "\n",
        "* 비지도학습\n",
        "    * `fit()` : 입력 데이터의 형태에 맞춰 데이터 변환\n",
        "    * `transform()` : 차원변환, 클러스터링, 피처 추출 등의 실제 작업"
      ]
    },
    {
      "cell_type": "code",
      "metadata": {
        "id": "ScJf2K6MQ5pW"
      },
      "source": [
        "# fit_transform() = fit() + transform()"
      ],
      "execution_count": 9,
      "outputs": []
    },
    {
      "cell_type": "markdown",
      "metadata": {
        "id": "U8qPETEoANgJ"
      },
      "source": [
        "## 3.2 사이킷런의 주요 모듈\n",
        "\n",
        "* 예제 데이터\n",
        "    * `sklearn.datasets` : 예제 데이터셋\n",
        "\n",
        "* 피처 처리\n",
        "    * `sklearn.preprocessing` : 전처리에 필요한 다양한 기능 제공\n",
        "    * `sklearn.feature_selection` : 피처를 우선순위대로 선택하는 다양한 기능 제공\n",
        "    * `sklearn.feature_extraction` : 텍스트/이미지 데이터의 벡터화된 피처를 추출\n",
        "        - `sklearn.feature_extraction.text`\n",
        "        - `sklearn.feature_extraction.image`\n",
        "\n",
        "* 피처 처리 & 차원 축소\n",
        "    * `sklearn.decomposition` : 차원 축소와 관련한 알고리즘을 지원\n",
        "\n",
        "* 데이터 분리, 검증 & 파라미터 튜닝\n",
        "    * `sklearn.model_selection` : 교차 검증을 위한 학습용/테스트용 분리\n",
        "        - Grid Search로 최적 파라미터 추출 등의 API 제공\n",
        "\n",
        "* 평가\n",
        "    * `sklearn.metrics` : 분류, 회귀, clustering, pairwise에 대한 다양한 성능 측정 방법 제공\n",
        "        - Accuracy, Precision, Recall, ROC-AUC, RMSE 등 제공\n",
        "\n",
        "* ML 알고리즘\n",
        "    * `sklearn.ensemble` : 앙상블 알고리즘 제공\n",
        "        - Random Forest, Ada Boost, Gradient Boost 등을 제공\n",
        "    * `sklearn.linear_model` : 회귀 및 SGD(경사하강법) 관련 알고리즘을 지원\n",
        "    * `sklearn.naive_bayes` : 나이브 베이즈 알고리즘 제공\n",
        "        - 가우시안 NB, 다항분포 NB 등\n",
        "    * `sklearn.neighbors` : 최근접 이웃 알고리즘 (K-NN) 제공\n",
        "    * `sklearn.svm` : Support Vector Machine 알고리즘 제공\n",
        "    * `sklearn.tree` : Decision(의사결정) Tree 알고리즘 제공\n",
        "    * `sklearn.cluster` : 비지도 클러스터링 알고리즘 제공\n",
        "        - K-평균, 계층형, DBSCAN 등\n",
        "\n",
        "* 유틸리티\n",
        "    * `sklearn.pipeline` : 피처 처리 등의 변환과 ML 알고리즘 학습, 예측 등을 함께 묶어서 실행할 수 있는 유틸리티 제공"
      ]
    },
    {
      "cell_type": "code",
      "metadata": {
        "colab": {
          "base_uri": "https://localhost:8080/",
          "height": 36
        },
        "id": "KA4OQXtcRMqa",
        "outputId": "44af18b4-af62-4e30-9925-c5238b050ada"
      },
      "source": [
        "# ML model process\n",
        "\n",
        "\"\"\"\n",
        "1. 피처 처리 (가공, 변경, 추출)\n",
        "2. ML 알고리즘 학습/예측\n",
        "3. 모델 평가\n",
        "\"\"\""
      ],
      "execution_count": 10,
      "outputs": [
        {
          "output_type": "execute_result",
          "data": {
            "application/vnd.google.colaboratory.intrinsic+json": {
              "type": "string"
            },
            "text/plain": [
              "'\\n1. 피처 처리 (가공, 변경, 추출)\\n2. ML 알고리즘 학습/예측\\n3. 모델 평가\\n'"
            ]
          },
          "metadata": {},
          "execution_count": 10
        }
      ]
    },
    {
      "cell_type": "markdown",
      "metadata": {
        "id": "2AhbzTIyC6vi"
      },
      "source": [
        "## 3.3 내장된 예제 데이터 세트\n",
        "\n",
        "* 분류 or 회귀 연습용 예제 데이터셋 (dictionary 형태)\n",
        "    * `datasets.load_boston()` : 회귀용, 보스턴 집 데이터셋\n",
        "    * `datasets.load_breast_cancer()` : 분류용, 위스콘신 유방암 데이터셋\n",
        "    * `datasets.load_diabetes()` : 회귀용, 당뇨 데이터셋\n",
        "    * `datasets.load_digits()` : 분류용, 0 ~ 9 숫자 이미지 픽셀 데이터셋\n",
        "    * `datasets.load_iris()` : 분류용, 붓꽃 데이터셋\n",
        "\n",
        "* 분류 and 클러스터링 표본 데이터 생성기\n",
        "    * `datasets.make_classifications()` : 분류용 데이터셋 만들기\n",
        "        - 높은 상관도, 불필요한 속성 등의 노이즈 효과를 위한 데이터를 무작위로 생성\n",
        "    * `datasets.make_blobs()` : 클러스터링 데이터셋 만들기 (random)\n",
        "        - 군집 지정 갯수에 따라 여러 가지 클러스터링을 위한 데이터셋을 쉽게 생성\n",
        "\n",
        "* fetch 계열 데이터 : 데이터 크기가 너무 커서 인터넷 다운로드 필요\n",
        "    - 서브 디렉터리 scikit_learn_data에 저장한 후 추후 불러들이는 데이터.\n",
        "        - `fetch_covtype()` : 회귀 분석용 토지 조사 자료\n",
        "        - `fetch_20newsgroups()` : 뉴스 그룹 텍스트 자료\n",
        "        - `fetch_olivetti_faces()` : 얼굴 이미지 자료\n",
        "        - `fetch_lfw_people()` : 얼굴 이미지 자료\n",
        "        - `fetch_lfw_pairs()` : 얼굴 이미지 자료\n",
        "        - `fetch_rcv1()` : 로이터 뉴스 말뭉치\n",
        "        - `fetch_mldata()` : ML 웹사이트에서 다운로드"
      ]
    },
    {
      "cell_type": "code",
      "metadata": {
        "colab": {
          "base_uri": "https://localhost:8080/"
        },
        "id": "IDprly_wVsUx",
        "outputId": "761a5249-218e-4194-a2fc-90b0b63fe3d1"
      },
      "source": [
        "from sklearn.datasets import load_iris\n",
        "\n",
        "iris_data = load_iris()\n",
        "print(type(iris_data))\n",
        "\n",
        "# key 값 확인\n",
        "keys = iris_data.keys()\n",
        "print(f'\\niris data set keys : {keys}')"
      ],
      "execution_count": 11,
      "outputs": [
        {
          "output_type": "stream",
          "name": "stdout",
          "text": [
            "<class 'sklearn.utils.Bunch'>\n",
            "\n",
            "iris data set keys : dict_keys(['data', 'target', 'target_names', 'DESCR', 'feature_names', 'filename'])\n"
          ]
        }
      ]
    },
    {
      "cell_type": "code",
      "metadata": {
        "colab": {
          "base_uri": "https://localhost:8080/"
        },
        "id": "w93uW273Wed9",
        "outputId": "36e0848f-4b6d-4f84-f4ee-ef5e8258d0b3"
      },
      "source": [
        "print(f\"\\nfeature_names's type : {type(iris_data.feature_names)}\")\n",
        "print(f\"feature_names's shape : {len(iris_data.feature_names)}\")\n",
        "print(iris_data.feature_names)\n",
        "\n",
        "print(f\"\\ntarget_names's type : {type(iris_data.target_names)}\")\n",
        "print(f\"target_names's shape : {len(iris_data.target_names)}\")\n",
        "print(iris_data.target_names)\n",
        "\n",
        "print(f\"\\ndata's type : {type(iris_data.data)}\")\n",
        "print(f\"data's shape : {iris_data.data.shape}\")\n",
        "print(iris_data['data'][:5])\n",
        "\n",
        "print(f\"\\ntarget's type : {type(iris_data.target)}\")\n",
        "print(f\"target's shape : {iris_data.target.shape}\")\n",
        "print(iris_data.target)"
      ],
      "execution_count": 12,
      "outputs": [
        {
          "output_type": "stream",
          "name": "stdout",
          "text": [
            "\n",
            "feature_names's type : <class 'list'>\n",
            "feature_names's shape : 4\n",
            "['sepal length (cm)', 'sepal width (cm)', 'petal length (cm)', 'petal width (cm)']\n",
            "\n",
            "target_names's type : <class 'numpy.ndarray'>\n",
            "target_names's shape : 3\n",
            "['setosa' 'versicolor' 'virginica']\n",
            "\n",
            "data's type : <class 'numpy.ndarray'>\n",
            "data's shape : (150, 4)\n",
            "[[5.1 3.5 1.4 0.2]\n",
            " [4.9 3.  1.4 0.2]\n",
            " [4.7 3.2 1.3 0.2]\n",
            " [4.6 3.1 1.5 0.2]\n",
            " [5.  3.6 1.4 0.2]]\n",
            "\n",
            "target's type : <class 'numpy.ndarray'>\n",
            "target's shape : (150,)\n",
            "[0 0 0 0 0 0 0 0 0 0 0 0 0 0 0 0 0 0 0 0 0 0 0 0 0 0 0 0 0 0 0 0 0 0 0 0 0\n",
            " 0 0 0 0 0 0 0 0 0 0 0 0 0 1 1 1 1 1 1 1 1 1 1 1 1 1 1 1 1 1 1 1 1 1 1 1 1\n",
            " 1 1 1 1 1 1 1 1 1 1 1 1 1 1 1 1 1 1 1 1 1 1 1 1 1 1 2 2 2 2 2 2 2 2 2 2 2\n",
            " 2 2 2 2 2 2 2 2 2 2 2 2 2 2 2 2 2 2 2 2 2 2 2 2 2 2 2 2 2 2 2 2 2 2 2 2 2\n",
            " 2 2]\n"
          ]
        }
      ]
    },
    {
      "cell_type": "markdown",
      "metadata": {
        "id": "7VzmAU2aT54p"
      },
      "source": [
        "# 4.Model Selection 모듈 소개"
      ]
    },
    {
      "cell_type": "markdown",
      "metadata": {
        "id": "FJON50PZYxCE"
      },
      "source": [
        "## 4.1 train_test_split()"
      ]
    },
    {
      "cell_type": "code",
      "metadata": {
        "colab": {
          "base_uri": "https://localhost:8080/"
        },
        "id": "8JjcT7YFY1N1",
        "outputId": "2850a25f-0f17-4fea-be7d-f550c688b379"
      },
      "source": [
        "# 테스트 데이터셋을 이용하지 않고 무엇이 문제인지 확인해보기\n",
        "# 한마디로 학습과 예측을 동일한 데이터셋으로 수행\n",
        "from sklearn.datasets import load_iris\n",
        "from sklearn.tree import DecisionTreeClassifier\n",
        "from sklearn.metrics import accuracy_score\n",
        "\n",
        "iris = load_iris()\n",
        "dt_clf = DecisionTreeClassifier()\n",
        "train_data = iris.data\n",
        "train_label = iris.target\n",
        "dt_clf.fit(train_data, train_label)\n",
        "\n",
        "# 학습 데이터셋으로 예측 수행\n",
        "pred = dt_clf.predict(train_data)\n",
        "print(f\"예측 정확도 : {accuracy_score(train_label, pred)}\")"
      ],
      "execution_count": 13,
      "outputs": [
        {
          "output_type": "stream",
          "name": "stdout",
          "text": [
            "예측 정확도 : 1.0\n"
          ]
        }
      ]
    },
    {
      "cell_type": "markdown",
      "metadata": {
        "id": "1xw5yrHLZyS_"
      },
      "source": [
        "* 정확도가 100%...? 이건 그냥 컨닝한거나 다름없습니다.\n",
        "* 이제 `train_test_split()`으로 학습용과 테스트용 데이터셋을 분리해봅시다."
      ]
    },
    {
      "cell_type": "code",
      "metadata": {
        "id": "tQeBaNTLZjL9"
      },
      "source": [
        "from sklearn.datasets import load_iris\n",
        "from sklearn.tree import DecisionTreeClassifier\n",
        "from sklearn.metrics import accuracy_score\n",
        "from sklearn.model_selection import train_test_split\n",
        "\n",
        "iris_data = load_iris()\n",
        "dt_clf = DecisionTreeClassifier()\n",
        "\n",
        "X_train, X_test, y_train, y_test = train_test_split(iris_data.data, \n",
        "                                                    iris_data.target, \n",
        "                                                    test_size=0.3, \n",
        "                                                    random_state=121)"
      ],
      "execution_count": 14,
      "outputs": []
    },
    {
      "cell_type": "markdown",
      "metadata": {
        "id": "7_OncEilaxP8"
      },
      "source": [
        "* `train_test_split(피처 데이터셋, 레이블 데이터셋)`\n",
        "* `test_size` : 테스트 데이터셋 크기를 결정합니다. (default=0.25)\n",
        "* `shuffle` : 데이터 분리 전에 데이터를 섞을지 결정합니다. (default=True)\n",
        "* `random_state` : 지정하지 않으면 수행할 때마다 다른 학습용/테스트용 데이터셋을 생성합니다."
      ]
    },
    {
      "cell_type": "code",
      "metadata": {
        "colab": {
          "base_uri": "https://localhost:8080/"
        },
        "id": "T-4s86tJanAu",
        "outputId": "e5dd9690-8f1a-496b-848b-292c224fa07a"
      },
      "source": [
        "# 의사결정나무를 학습하고 예측 정확도를 측정\n",
        "dt_clf.fit(X_train, y_train)\n",
        "pred = dt_clf.predict(X_test)\n",
        "print(f\"예측 정확도 : {accuracy_score(y_test, pred):.4f}\")"
      ],
      "execution_count": 15,
      "outputs": [
        {
          "output_type": "stream",
          "name": "stdout",
          "text": [
            "예측 정확도 : 0.9556\n"
          ]
        }
      ]
    },
    {
      "cell_type": "markdown",
      "metadata": {
        "id": "PSGDJBulcRes"
      },
      "source": [
        "## 4.2 교차 검증 (Cross Validation)"
      ]
    },
    {
      "cell_type": "markdown",
      "metadata": {
        "id": "dnT0QmH3cQUU"
      },
      "source": [
        "### 4.2.1 K-fold 교차 검증"
      ]
    },
    {
      "cell_type": "code",
      "metadata": {
        "colab": {
          "base_uri": "https://localhost:8080/"
        },
        "id": "huMJ-iileF3u",
        "outputId": "5c5c16ff-4511-4204-d57d-4a03d70a5101"
      },
      "source": [
        "from sklearn.datasets import load_iris\n",
        "from sklearn.tree import DecisionTreeClassifier\n",
        "from sklearn.metrics import accuracy_score\n",
        "from sklearn.model_selection import KFold\n",
        "import numpy as np\n",
        "\n",
        "iris_data = load_iris()\n",
        "features = iris.data\n",
        "label = iris.target\n",
        "dt_clf = DecisionTreeClassifier()\n",
        "\n",
        "# 5개의 폴드셋으로 분리하는 KFold 객체와 폴드셋별 정확도를 담을 리스트 객체 생성\n",
        "kfold = KFold(n_splits=5)\n",
        "cv_accuracy = []\n",
        "print(f\"붓꽃 데이터셋 크기 : {features.shape[0]}\")"
      ],
      "execution_count": 16,
      "outputs": [
        {
          "output_type": "stream",
          "name": "stdout",
          "text": [
            "붓꽃 데이터셋 크기 : 150\n"
          ]
        }
      ]
    },
    {
      "cell_type": "markdown",
      "metadata": {
        "id": "BneYXaClfA7o"
      },
      "source": [
        "* 전체 데이터셋 150을 5등분 하면\n",
        "    - 학습용 데이터셋 : 120개\n",
        "    - 검증용 데이터셋 : 30개"
      ]
    },
    {
      "cell_type": "code",
      "metadata": {
        "colab": {
          "base_uri": "https://localhost:8080/"
        },
        "id": "sDuRDmooe577",
        "outputId": "4508fb89-2815-4bd1-c4d3-2a1aa0f9b4f1"
      },
      "source": [
        "n_iter = 0\n",
        "\n",
        "# split()를 호출하면 폴드별 학습용/검증용 테스트의 row index를 array로 반환\n",
        "for train_index, test_index in kfold.split(features):\n",
        "\n",
        "    # kfold.split()으로 반환된 인덱스를 이용해 학습용/검증용 테스트 데이터 추출\n",
        "    X_train, X_test = features[train_index], features[test_index]\n",
        "    y_train, y_test = label[train_index], label[test_index]\n",
        "\n",
        "    # 학습 및 예측\n",
        "    dt_clf.fit(X_train, y_train)\n",
        "    pred = dt_clf.predict(X_test)\n",
        "    n_iter += 1\n",
        "\n",
        "    # 반복할 때마다 정확도 측정\n",
        "    accuracy = np.round(accuracy_score(y_test, pred), 4)\n",
        "    train_size = X_train.shape[0]\n",
        "    test_size = X_test.shape[0]\n",
        "    print(f\"\\n#{n_iter} 교차 검증 정확도 : {accuracy}, \\\n",
        "    학습 데이터 크기 : {train_size}, \\\n",
        "    검증 데이터 크기 : {test_size}\")\n",
        "    print(f\"#{n_iter} 검증셋 인덱스 : {test_index}\")\n",
        "    cv_accuracy.append(accuracy)\n",
        "\n",
        "# 개별 iteration별 정확도를 합하여 평균 정확도 계산\n",
        "print(f\"\\n## 평균 검증 정확도 : {np.mean(cv_accuracy)*100:.2f} %\")"
      ],
      "execution_count": 17,
      "outputs": [
        {
          "output_type": "stream",
          "name": "stdout",
          "text": [
            "\n",
            "#1 교차 검증 정확도 : 1.0,     학습 데이터 크기 : 120,     검증 데이터 크기 : 30\n",
            "#1 검증셋 인덱스 : [ 0  1  2  3  4  5  6  7  8  9 10 11 12 13 14 15 16 17 18 19 20 21 22 23\n",
            " 24 25 26 27 28 29]\n",
            "\n",
            "#2 교차 검증 정확도 : 0.9667,     학습 데이터 크기 : 120,     검증 데이터 크기 : 30\n",
            "#2 검증셋 인덱스 : [30 31 32 33 34 35 36 37 38 39 40 41 42 43 44 45 46 47 48 49 50 51 52 53\n",
            " 54 55 56 57 58 59]\n",
            "\n",
            "#3 교차 검증 정확도 : 0.8333,     학습 데이터 크기 : 120,     검증 데이터 크기 : 30\n",
            "#3 검증셋 인덱스 : [60 61 62 63 64 65 66 67 68 69 70 71 72 73 74 75 76 77 78 79 80 81 82 83\n",
            " 84 85 86 87 88 89]\n",
            "\n",
            "#4 교차 검증 정확도 : 0.9333,     학습 데이터 크기 : 120,     검증 데이터 크기 : 30\n",
            "#4 검증셋 인덱스 : [ 90  91  92  93  94  95  96  97  98  99 100 101 102 103 104 105 106 107\n",
            " 108 109 110 111 112 113 114 115 116 117 118 119]\n",
            "\n",
            "#5 교차 검증 정확도 : 0.7333,     학습 데이터 크기 : 120,     검증 데이터 크기 : 30\n",
            "#5 검증셋 인덱스 : [120 121 122 123 124 125 126 127 128 129 130 131 132 133 134 135 136 137\n",
            " 138 139 140 141 142 143 144 145 146 147 148 149]\n",
            "\n",
            "## 평균 검증 정확도 : 89.33 %\n"
          ]
        }
      ]
    },
    {
      "cell_type": "markdown",
      "metadata": {
        "id": "X9yYLKu9h4Wq"
      },
      "source": [
        "### 4.2.2. Stratified K-fold\n",
        "\n",
        "* 불균형한 분포도를 가진 레이블 데이터 집합을 위한 K-fold 방식\n",
        "* ex) 대출사기 : 0.0001% 확률로 대출 사기 레이블이 존재"
      ]
    },
    {
      "cell_type": "code",
      "metadata": {
        "colab": {
          "base_uri": "https://localhost:8080/"
        },
        "id": "rCZz0Oa-ihsL",
        "outputId": "70b25019-3ebf-473a-b0bf-fa7ae354723e"
      },
      "source": [
        "from sklearn.datasets import load_iris\n",
        "import pandas as pd\n",
        "\n",
        "iris = load_iris()\n",
        "iris_df = pd.DataFrame(data=iris_data, columns=iris.feature_names)\n",
        "iris_df['label'] = iris.target\n",
        "iris_df['label'].value_counts()"
      ],
      "execution_count": 18,
      "outputs": [
        {
          "output_type": "execute_result",
          "data": {
            "text/plain": [
              "2    50\n",
              "1    50\n",
              "0    50\n",
              "Name: label, dtype: int64"
            ]
          },
          "metadata": {},
          "execution_count": 18
        }
      ]
    },
    {
      "cell_type": "markdown",
      "metadata": {
        "id": "Pk4l7baEj2Cm"
      },
      "source": [
        "* 레이블 값이 0(Setosa), 1(Versicolor), 2(Virginica) 모두 50개로 동일합니다.\n",
        "* 먼저 KFold를 사용하여 문제점을 알아봅시다."
      ]
    },
    {
      "cell_type": "code",
      "metadata": {
        "colab": {
          "base_uri": "https://localhost:8080/"
        },
        "id": "aJNK56u1jjUA",
        "outputId": "6a279f23-a4c0-4d38-8aae-d03f1f853193"
      },
      "source": [
        "# 3개의 폴드셋을 KFold로 생성\n",
        "# 교차 검증을 할 때마다 생성되는 학습용/검증용 레이블 데이터 값의 분포도 확인\n",
        "from sklearn.model_selection import KFold\n",
        "\n",
        "kfold = KFold(n_splits=3)\n",
        "n_iter = 0\n",
        "\n",
        "for train_index, test_index in kfold.split(iris_df):\n",
        "    n_iter += 1\n",
        "    label_train = iris_df['label'].iloc[train_index]\n",
        "    label_test = iris_df['label'].iloc[test_index]\n",
        "    print(f\"## 교차 검증 : {n_iter}\")\n",
        "    print(f\"학습 레이블 데이터 분포 : \\n{label_train.value_counts()}\")\n",
        "    print(f\"검증 레이블 데이터 분포 : \\n{label_test.value_counts()}\\n\")"
      ],
      "execution_count": 19,
      "outputs": [
        {
          "output_type": "stream",
          "name": "stdout",
          "text": [
            "## 교차 검증 : 1\n",
            "학습 레이블 데이터 분포 : \n",
            "2    50\n",
            "1    50\n",
            "Name: label, dtype: int64\n",
            "검증 레이블 데이터 분포 : \n",
            "0    50\n",
            "Name: label, dtype: int64\n",
            "\n",
            "## 교차 검증 : 2\n",
            "학습 레이블 데이터 분포 : \n",
            "2    50\n",
            "0    50\n",
            "Name: label, dtype: int64\n",
            "검증 레이블 데이터 분포 : \n",
            "1    50\n",
            "Name: label, dtype: int64\n",
            "\n",
            "## 교차 검증 : 3\n",
            "학습 레이블 데이터 분포 : \n",
            "1    50\n",
            "0    50\n",
            "Name: label, dtype: int64\n",
            "검증 레이블 데이터 분포 : \n",
            "2    50\n",
            "Name: label, dtype: int64\n",
            "\n"
          ]
        }
      ]
    },
    {
      "cell_type": "markdown",
      "metadata": {
        "id": "kR1vgSJwlZiG"
      },
      "source": [
        "* 학습 레이블과 검증 레이블이 완전히 다른 값으로 추출되었습니다.\n",
        "    - 학습한 데이터를 바탕으로 검증해야하는데, 생뚱맞은 값이 나왔습니다.\n",
        "    - 이렇게 하면 검증 예측 정확도는 0% 입니다 ㅠㅠ\n",
        "\n",
        "* Stratified KFold는 이런 문제를 해결해줍니다.\n",
        "* 이번에는 Stratified KFold를 사용해봅시다.\n",
        "* 사용 방법은 KFold와 거의 비슷하지만, split() 인자에 레이블 데이터셋을 추가해야 합니다."
      ]
    },
    {
      "cell_type": "code",
      "metadata": {
        "colab": {
          "base_uri": "https://localhost:8080/"
        },
        "id": "2M7TFggulJ4Y",
        "outputId": "a0240523-f2e5-4c02-b665-3791996bd574"
      },
      "source": [
        "from sklearn.model_selection import StratifiedKFold\n",
        "\n",
        "skf = StratifiedKFold(n_splits=3)\n",
        "n_iter = 0\n",
        "\n",
        "for train_index, test_index in skf.split(iris_df, iris_df['label']):\n",
        "    n_iter += 1\n",
        "    label_train = iris_df['label'].iloc[train_index]\n",
        "    label_test = iris_df['label'].iloc[test_index]\n",
        "    print(f\"## 교차 검증 : {n_iter}\")\n",
        "    print(f\"학습 레이블 데이터 분포 : \\n{label_train.value_counts()}\")\n",
        "    print(f\"검증 레이블 데이터 분포 : \\n{label_test.value_counts()}\\n\")"
      ],
      "execution_count": 20,
      "outputs": [
        {
          "output_type": "stream",
          "name": "stdout",
          "text": [
            "## 교차 검증 : 1\n",
            "학습 레이블 데이터 분포 : \n",
            "2    34\n",
            "1    33\n",
            "0    33\n",
            "Name: label, dtype: int64\n",
            "검증 레이블 데이터 분포 : \n",
            "1    17\n",
            "0    17\n",
            "2    16\n",
            "Name: label, dtype: int64\n",
            "\n",
            "## 교차 검증 : 2\n",
            "학습 레이블 데이터 분포 : \n",
            "1    34\n",
            "2    33\n",
            "0    33\n",
            "Name: label, dtype: int64\n",
            "검증 레이블 데이터 분포 : \n",
            "2    17\n",
            "0    17\n",
            "1    16\n",
            "Name: label, dtype: int64\n",
            "\n",
            "## 교차 검증 : 3\n",
            "학습 레이블 데이터 분포 : \n",
            "0    34\n",
            "2    33\n",
            "1    33\n",
            "Name: label, dtype: int64\n",
            "검증 레이블 데이터 분포 : \n",
            "2    17\n",
            "1    17\n",
            "0    16\n",
            "Name: label, dtype: int64\n",
            "\n"
          ]
        }
      ]
    },
    {
      "cell_type": "markdown",
      "metadata": {
        "id": "T8oD_Cb3m_-d"
      },
      "source": [
        "* 학습 레이블과 검증 레이블 데이터 값의 분포도가 동일하게 할당되었습니다.\n",
        "* 이제 StratifiedKFold를 이용해 붓꽃 데이터를 교차 검증해 봅시다."
      ]
    },
    {
      "cell_type": "code",
      "metadata": {
        "colab": {
          "base_uri": "https://localhost:8080/"
        },
        "id": "3d5NOzt-mr3J",
        "outputId": "daf8372e-d05d-4498-8f23-a8294b013f11"
      },
      "source": [
        "df_clf = DecisionTreeClassifier(random_state=156)\n",
        "\n",
        "skfold = StratifiedKFold(n_splits=3)\n",
        "n_iter = 0\n",
        "cv_accuracy = []\n",
        "\n",
        "# split() 호출 시 반드시 레이블 데이터셋 추가 입력\n",
        "for train_index, test_index in skfold.split(features, label):\n",
        "    \n",
        "    # split()으로 반환된 인덱스를 이용해 학습용/검증용 테스트 데이터 추출\n",
        "    X_train, X_test = features[train_index], features[test_index]\n",
        "    y_train, y_test = label[train_index], label[test_index]\n",
        "\n",
        "    # 학습 및 예측\n",
        "    dt_clf.fit(X_train, y_train)\n",
        "    pred = dt_clf.predict(X_test)\n",
        "\n",
        "    # 반복할 때마다 정확도 측정\n",
        "    n_iter += 1\n",
        "    accuracy = np.round(accuracy_score(y_test, pred), 4)\n",
        "    train_size = X_train.shape[0]\n",
        "    test_size = X_test.shape[0]\n",
        "    print(f\"\\n#{n_iter} 교차 검증 정확도 : {accuracy}, \\\n",
        "    학습 데이터 크기 : {train_size}, \\\n",
        "    검증 데이터 크기 : {test_size}\")\n",
        "    print(f\"#{n_iter} 검증셋 인덱스 : {test_index}\")\n",
        "    cv_accuracy.append(accuracy)\n",
        "\n",
        "# 교차 검증별 정확도 및 평균 정확도 계산\n",
        "print(f\"\\n## 교차 검증별 정확도 : {np.round(cv_accuracy, 4)}\")\n",
        "print(f\"\\n## 평균 검증 정확도 : {np.mean(cv_accuracy):.4f}\")"
      ],
      "execution_count": 21,
      "outputs": [
        {
          "output_type": "stream",
          "name": "stdout",
          "text": [
            "\n",
            "#1 교차 검증 정확도 : 0.98,     학습 데이터 크기 : 100,     검증 데이터 크기 : 50\n",
            "#1 검증셋 인덱스 : [  0   1   2   3   4   5   6   7   8   9  10  11  12  13  14  15  16  50\n",
            "  51  52  53  54  55  56  57  58  59  60  61  62  63  64  65  66 100 101\n",
            " 102 103 104 105 106 107 108 109 110 111 112 113 114 115]\n",
            "\n",
            "#2 교차 검증 정확도 : 0.94,     학습 데이터 크기 : 100,     검증 데이터 크기 : 50\n",
            "#2 검증셋 인덱스 : [ 17  18  19  20  21  22  23  24  25  26  27  28  29  30  31  32  33  67\n",
            "  68  69  70  71  72  73  74  75  76  77  78  79  80  81  82 116 117 118\n",
            " 119 120 121 122 123 124 125 126 127 128 129 130 131 132]\n",
            "\n",
            "#3 교차 검증 정확도 : 1.0,     학습 데이터 크기 : 100,     검증 데이터 크기 : 50\n",
            "#3 검증셋 인덱스 : [ 34  35  36  37  38  39  40  41  42  43  44  45  46  47  48  49  83  84\n",
            "  85  86  87  88  89  90  91  92  93  94  95  96  97  98  99 133 134 135\n",
            " 136 137 138 139 140 141 142 143 144 145 146 147 148 149]\n",
            "\n",
            "## 교차 검증별 정확도 : [0.98 0.94 1.  ]\n",
            "\n",
            "## 평균 검증 정확도 : 0.9733\n"
          ]
        }
      ]
    },
    {
      "cell_type": "markdown",
      "metadata": {
        "id": "jfO5LYrGo8pM"
      },
      "source": [
        "* 일반적으로 분류에서의 교차 검증은 Stratified K-fold로 분할되어야 합니다.\n",
        "* 회귀에서는 결정값이 연속된 숫자값이기 때문에 결정값별로 분포를 정하는 의미가 없습니다."
      ]
    },
    {
      "cell_type": "markdown",
      "metadata": {
        "id": "93v9YVJiorUn"
      },
      "source": [
        "### 4.2.3 cross_val_score()\n",
        "\n",
        "* 주요 파라미터\n",
        "    * `estimator` : Classifier or Regressor\n",
        "    * `X` : feature data set\n",
        "    * `y=None` : label data set\n",
        "    * `scoring=None` : 예측 성능 평가 지표\n",
        "    * `cv=None` : 교차 검증 폴드 수\n",
        "\n",
        "* 기타 파라미터\n",
        "    * `n_jobs=1`\n",
        "    * `verbose=0`\n",
        "    * `fit_params=None`\n",
        "    * `pre_dispatch='2*n_jobs'`"
      ]
    },
    {
      "cell_type": "code",
      "metadata": {
        "colab": {
          "base_uri": "https://localhost:8080/"
        },
        "id": "p3jDq3mzpVGD",
        "outputId": "06bfe9be-c7ae-4f63-ea96-8d175ca9e1ec"
      },
      "source": [
        "from sklearn.datasets import load_iris\n",
        "from sklearn.tree import DecisionTreeClassifier\n",
        "from sklearn.metrics import accuracy_score\n",
        "from sklearn.model_selection import cross_val_score, cross_validate\n",
        "import numpy as np\n",
        "\n",
        "iris_data = load_iris()\n",
        "dt_clf = DecisionTreeClassifier(random_state=156)\n",
        "\n",
        "data = iris_data.data\n",
        "label = iris_data.target\n",
        "\n",
        "# 성능 지표는 정확도(accuracy), 교차 검증셋은 3개\n",
        "scores = cross_val_score(dt_clf, data, label, scoring='accuracy', cv=3)\n",
        "print(f\"교차 검증별 정확도 : {np.round(scores, 4)}\")\n",
        "print(f\"평균 검증 정확도 : {np.round(np.mean(scores), 4)}\")"
      ],
      "execution_count": 22,
      "outputs": [
        {
          "output_type": "stream",
          "name": "stdout",
          "text": [
            "교차 검증별 정확도 : [0.98 0.94 0.98]\n",
            "평균 검증 정확도 : 0.9667\n"
          ]
        }
      ]
    },
    {
      "cell_type": "markdown",
      "metadata": {
        "id": "eB4MqHai1yNM"
      },
      "source": [
        "* `cross_val_score()` API는 내부에서 estimator를 학습(fit), 예측(predict), 평가(evaluation)시켜주므로 간단하게 교차 검증을 수행할 수 있습니다.\n",
        "* `cross_val_score()`는 내부적으로 Stratified K-fold를 이용합니다.\n",
        "* 비슷한 API로 `cross_validate()`가 있습니다."
      ]
    },
    {
      "cell_type": "markdown",
      "metadata": {
        "id": "-oi2ID0JqNuW"
      },
      "source": [
        "## 4.3 Grid Search Cross Validation\n",
        "\n",
        "* 교차 검증과 최적 하이퍼 파라미터 튜닝을 한 번에!!\n",
        "* Grid는 \"격자\"라는 뜻으로, 파라미터를 촘촘하게 입력하면서 테스트하는 방식입니다."
      ]
    },
    {
      "cell_type": "code",
      "metadata": {
        "colab": {
          "base_uri": "https://localhost:8080/"
        },
        "id": "6_AuuKyw2khK",
        "outputId": "19c33fa3-9e37-4670-d1fb-9b11b0e7e503"
      },
      "source": [
        "# decision tree algorithm's optimal hyper parameter\n",
        "grid_parameters = {'max_depth':[1, 2, 3], 'min_samples_split':[2, 3]}\n",
        "grid_parameters"
      ],
      "execution_count": 23,
      "outputs": [
        {
          "output_type": "execute_result",
          "data": {
            "text/plain": [
              "{'max_depth': [1, 2, 3], 'min_samples_split': [2, 3]}"
            ]
          },
          "metadata": {},
          "execution_count": 23
        }
      ]
    },
    {
      "cell_type": "markdown",
      "metadata": {
        "id": "OUCWmIhp3zgC"
      },
      "source": [
        "* depth 1 --> 2, 3\n",
        "* depth 2 --> 2, 3\n",
        "* depth 3 --> 2, 3\n",
        "    - 총 6회에 걸쳐 파라미터를 순차적으로 바꿔 실행하면서 최적의 파라미터와 수행 결과를 도출합니다.\n",
        "    - 시간이 오래 걸립니다.\n",
        "    - cv=3 이라면 총 3 x 6 = 18회의 학습/평가가 수행됩니다."
      ]
    },
    {
      "cell_type": "code",
      "metadata": {
        "id": "NRwN4tQd3leh"
      },
      "source": [
        "from sklearn.datasets import load_iris\n",
        "from sklearn.tree import DecisionTreeClassifier\n",
        "from sklearn.model_selection import GridSearchCV\n",
        "from sklearn.metrics import accuracy_score\n",
        "\n",
        "iris_data = load_iris()\n",
        "X_train, X_test, y_train, y_test = train_test_split(iris_data.data, \n",
        "                                                    iris_data.target, \n",
        "                                                    test_size=0.2, \n",
        "                                                    random_state=121)\n",
        "dtree = DecisionTreeClassifier()\n",
        "\n",
        "# 파라미터를 딕셔너리 형태로 설정\n",
        "parameters = {'max_depth':[1, 2, 3], 'min_samples_split':[2, 3]}"
      ],
      "execution_count": 24,
      "outputs": []
    },
    {
      "cell_type": "markdown",
      "metadata": {
        "id": "7IfRrvlH5HUY"
      },
      "source": [
        "* GridSearchCV 주요 생성자\n",
        "    * `estimator` : Classifier, Regressor, Pipeline\n",
        "    * `param_grid` : \"key + 리스트값\"을 가지는 딕셔너리가 주어집니다.\n",
        "        - estimator 튜닝을 위해 파라미터명과 사용될 여러 파라미터값을 지정합니다.\n",
        "    * `scoring` : 보통 문자열('accuracy')로 지정하나 별도의 함수도 지정할 수 있습니다.\n",
        "    * `cv`\n",
        "    * `refit=True` : True로 생성 시 가장 최적의 하이퍼 파라미터를 찾은 후 입력된 estimator 객체를 해당 하이퍼 파라미터로 재학습시킵니다."
      ]
    },
    {
      "cell_type": "code",
      "metadata": {
        "colab": {
          "base_uri": "https://localhost:8080/"
        },
        "id": "tXtPZWvt5GMZ",
        "outputId": "6dc007c0-816c-49ba-ff67-29f60bfe0187"
      },
      "source": [
        "import pandas as pd\n",
        "\n",
        "# param_grid의 하이퍼 파라미터를 3개의 train, test set fold로 나누어 테스트 수행\n",
        "# refit=True(default) : 가장 좋은 파라미터 설정으로 재학습\n",
        "grid_dtree = GridSearchCV(dtree, param_grid=parameters, cv=3, refit=True)\n",
        "\n",
        "# 붓꽃 학습 데이터로 param_grid 하이퍼 파라미터를 순차적으로 학습/평가\n",
        "grid_dtree.fit(X_train, y_train)\n",
        "grid_dtree.cv_results_"
      ],
      "execution_count": 25,
      "outputs": [
        {
          "output_type": "execute_result",
          "data": {
            "text/plain": [
              "{'mean_fit_time': array([0.00111763, 0.00042462, 0.00034698, 0.00038687, 0.00043575,\n",
              "        0.00043901]),\n",
              " 'mean_score_time': array([0.00069165, 0.00029135, 0.00026862, 0.00025646, 0.00024891,\n",
              "        0.00026894]),\n",
              " 'mean_test_score': array([0.7       , 0.7       , 0.95833333, 0.95833333, 0.975     ,\n",
              "        0.975     ]),\n",
              " 'param_max_depth': masked_array(data=[1, 1, 2, 2, 3, 3],\n",
              "              mask=[False, False, False, False, False, False],\n",
              "        fill_value='?',\n",
              "             dtype=object),\n",
              " 'param_min_samples_split': masked_array(data=[2, 3, 2, 3, 2, 3],\n",
              "              mask=[False, False, False, False, False, False],\n",
              "        fill_value='?',\n",
              "             dtype=object),\n",
              " 'params': [{'max_depth': 1, 'min_samples_split': 2},\n",
              "  {'max_depth': 1, 'min_samples_split': 3},\n",
              "  {'max_depth': 2, 'min_samples_split': 2},\n",
              "  {'max_depth': 2, 'min_samples_split': 3},\n",
              "  {'max_depth': 3, 'min_samples_split': 2},\n",
              "  {'max_depth': 3, 'min_samples_split': 3}],\n",
              " 'rank_test_score': array([5, 5, 3, 3, 1, 1], dtype=int32),\n",
              " 'split0_test_score': array([0.7  , 0.7  , 0.925, 0.925, 0.975, 0.975]),\n",
              " 'split1_test_score': array([0.7, 0.7, 1. , 1. , 1. , 1. ]),\n",
              " 'split2_test_score': array([0.7 , 0.7 , 0.95, 0.95, 0.95, 0.95]),\n",
              " 'std_fit_time': array([4.70122358e-04, 8.41974349e-05, 4.97197861e-06, 6.63293266e-05,\n",
              "        9.24706253e-05, 4.17218132e-05]),\n",
              " 'std_score_time': array([1.43500391e-04, 3.11760593e-05, 1.97924122e-05, 1.87653581e-05,\n",
              "        1.89308956e-05, 3.10145826e-05]),\n",
              " 'std_test_score': array([1.11022302e-16, 1.11022302e-16, 3.11804782e-02, 3.11804782e-02,\n",
              "        2.04124145e-02, 2.04124145e-02])}"
            ]
          },
          "metadata": {},
          "execution_count": 25
        }
      ]
    },
    {
      "cell_type": "markdown",
      "metadata": {
        "id": "dhV60oLQ_Hcy"
      },
      "source": [
        "* `cv_result_` : `fit()` 수행 후 학습 데이터를 폴딩셋으로 분할하여 `param_grid`에 기술된 하이퍼 \n",
        "파라미터를 순차적으로 변경하면서 학습/평가를 수행하고 그 결과를 `cv_result_`\n",
        "속성에 기록합니다."
      ]
    },
    {
      "cell_type": "code",
      "metadata": {
        "colab": {
          "base_uri": "https://localhost:8080/",
          "height": 236
        },
        "id": "nLaD8RmU-sWg",
        "outputId": "57ed4895-88b9-45d8-8558-6cd7c92c0302"
      },
      "source": [
        "# GridSearchCV 결과를 추출해 DataFrame으로 변환\n",
        "scores_df = pd.DataFrame(grid_dtree.cv_results_)\n",
        "scores_df[['params', 'mean_test_score', 'rank_test_score', 'split0_test_score', \n",
        "           'split1_test_score', 'split2_test_score']]"
      ],
      "execution_count": 26,
      "outputs": [
        {
          "output_type": "execute_result",
          "data": {
            "text/html": [
              "<div>\n",
              "<style scoped>\n",
              "    .dataframe tbody tr th:only-of-type {\n",
              "        vertical-align: middle;\n",
              "    }\n",
              "\n",
              "    .dataframe tbody tr th {\n",
              "        vertical-align: top;\n",
              "    }\n",
              "\n",
              "    .dataframe thead th {\n",
              "        text-align: right;\n",
              "    }\n",
              "</style>\n",
              "<table border=\"1\" class=\"dataframe\">\n",
              "  <thead>\n",
              "    <tr style=\"text-align: right;\">\n",
              "      <th></th>\n",
              "      <th>params</th>\n",
              "      <th>mean_test_score</th>\n",
              "      <th>rank_test_score</th>\n",
              "      <th>split0_test_score</th>\n",
              "      <th>split1_test_score</th>\n",
              "      <th>split2_test_score</th>\n",
              "    </tr>\n",
              "  </thead>\n",
              "  <tbody>\n",
              "    <tr>\n",
              "      <th>0</th>\n",
              "      <td>{'max_depth': 1, 'min_samples_split': 2}</td>\n",
              "      <td>0.700000</td>\n",
              "      <td>5</td>\n",
              "      <td>0.700</td>\n",
              "      <td>0.7</td>\n",
              "      <td>0.70</td>\n",
              "    </tr>\n",
              "    <tr>\n",
              "      <th>1</th>\n",
              "      <td>{'max_depth': 1, 'min_samples_split': 3}</td>\n",
              "      <td>0.700000</td>\n",
              "      <td>5</td>\n",
              "      <td>0.700</td>\n",
              "      <td>0.7</td>\n",
              "      <td>0.70</td>\n",
              "    </tr>\n",
              "    <tr>\n",
              "      <th>2</th>\n",
              "      <td>{'max_depth': 2, 'min_samples_split': 2}</td>\n",
              "      <td>0.958333</td>\n",
              "      <td>3</td>\n",
              "      <td>0.925</td>\n",
              "      <td>1.0</td>\n",
              "      <td>0.95</td>\n",
              "    </tr>\n",
              "    <tr>\n",
              "      <th>3</th>\n",
              "      <td>{'max_depth': 2, 'min_samples_split': 3}</td>\n",
              "      <td>0.958333</td>\n",
              "      <td>3</td>\n",
              "      <td>0.925</td>\n",
              "      <td>1.0</td>\n",
              "      <td>0.95</td>\n",
              "    </tr>\n",
              "    <tr>\n",
              "      <th>4</th>\n",
              "      <td>{'max_depth': 3, 'min_samples_split': 2}</td>\n",
              "      <td>0.975000</td>\n",
              "      <td>1</td>\n",
              "      <td>0.975</td>\n",
              "      <td>1.0</td>\n",
              "      <td>0.95</td>\n",
              "    </tr>\n",
              "    <tr>\n",
              "      <th>5</th>\n",
              "      <td>{'max_depth': 3, 'min_samples_split': 3}</td>\n",
              "      <td>0.975000</td>\n",
              "      <td>1</td>\n",
              "      <td>0.975</td>\n",
              "      <td>1.0</td>\n",
              "      <td>0.95</td>\n",
              "    </tr>\n",
              "  </tbody>\n",
              "</table>\n",
              "</div>"
            ],
            "text/plain": [
              "                                     params  ...  split2_test_score\n",
              "0  {'max_depth': 1, 'min_samples_split': 2}  ...               0.70\n",
              "1  {'max_depth': 1, 'min_samples_split': 3}  ...               0.70\n",
              "2  {'max_depth': 2, 'min_samples_split': 2}  ...               0.95\n",
              "3  {'max_depth': 2, 'min_samples_split': 3}  ...               0.95\n",
              "4  {'max_depth': 3, 'min_samples_split': 2}  ...               0.95\n",
              "5  {'max_depth': 3, 'min_samples_split': 3}  ...               0.95\n",
              "\n",
              "[6 rows x 6 columns]"
            ]
          },
          "metadata": {},
          "execution_count": 26
        }
      ]
    },
    {
      "cell_type": "markdown",
      "metadata": {
        "id": "ckOBAC7q8Pyx"
      },
      "source": [
        "* params : 수행할 때마다 적용된 하이퍼 파라미터값입니다.\n",
        "* mean_test_score : 개별 하이퍼 파라미터별로 폴딩 테스트셋에 대해 총 수행한 평가 평균값입니다.\n",
        "* rank_test_score : 하이퍼 파라미터별로 성능이 좋은 순위입니다. 1일 때 가장 최적의 하이퍼 파라미터입니다.\n",
        "* split[i]_test_score : cv 값으로 생성된 각각의 폴딩셋(cv=3 --> 3개의 폴딩셋)입니다."
      ]
    },
    {
      "cell_type": "code",
      "metadata": {
        "colab": {
          "base_uri": "https://localhost:8080/"
        },
        "id": "3QzB3QEp79MQ",
        "outputId": "6a248480-a80a-4185-a44a-790f72cdfcee"
      },
      "source": [
        "print(f\"Grid Search CV 최적 파라미터 : {grid_dtree.best_params_}\")\n",
        "print(f\"Grid Search CV 최고 정확도 : {grid_dtree.best_score_:.4f}\")"
      ],
      "execution_count": 27,
      "outputs": [
        {
          "output_type": "stream",
          "name": "stdout",
          "text": [
            "Grid Search CV 최적 파라미터 : {'max_depth': 3, 'min_samples_split': 2}\n",
            "Grid Search CV 최고 정확도 : 0.9750\n"
          ]
        }
      ]
    },
    {
      "cell_type": "markdown",
      "metadata": {
        "id": "hAakOc20_aKn"
      },
      "source": [
        "* `best_params_` : `fit()` 수행 후 최고 성능의 하이퍼 파라미터값을 `best_params_` 속성에 기록합니다.\n",
        "* `best_score_` : `fit()` 수행 후 최고 성능의 하이퍼 파라미터값의 평가 결과값을 `best_score_` 속성에 기록합니다.\n",
        "    - (즉, `cv_result_`의 `rank_test_score=1`일 때의 값입니다.)"
      ]
    },
    {
      "cell_type": "code",
      "metadata": {
        "colab": {
          "base_uri": "https://localhost:8080/"
        },
        "id": "o3-T9e2SATK_",
        "outputId": "bf994566-44bf-4774-e913-72472a1c08ff"
      },
      "source": [
        "# Grid Search CV의 refit으로 이미 학습된 estimator 반환\n",
        "estimator = grid_dtree.best_estimator_\n",
        "\n",
        "# Grid Search CV의 best_estimator_는 이미 최적 학습이 되어 별도 학습이 필요 없음\n",
        "pred = estimator.predict(X_test)\n",
        "print(f\"Test data set's accuracy : {accuracy_score(y_test, pred):.4f}\")"
      ],
      "execution_count": 28,
      "outputs": [
        {
          "output_type": "stream",
          "name": "stdout",
          "text": [
            "Test data set's accuracy : 0.9667\n"
          ]
        }
      ]
    },
    {
      "cell_type": "markdown",
      "metadata": {
        "id": "QpezGwORBeOs"
      },
      "source": [
        "* `best_estimator_` : `refit=True`이면 GridSearchCV가 최적 성능의 하이퍼 파라미터로 Estimator를 학습하여 `best_esimator_`로 저장합니다."
      ]
    },
    {
      "cell_type": "markdown",
      "metadata": {
        "id": "ZkE9xfXBBUQ1"
      },
      "source": [
        "# 5.데이터 전처리 (Data Preprocessing)\n",
        "\n",
        "* GIGO (Garbage In, Garbage Out)"
      ]
    },
    {
      "cell_type": "markdown",
      "metadata": {
        "id": "4-IaO4x8B518"
      },
      "source": [
        "## 5.1 Data Encoding"
      ]
    },
    {
      "cell_type": "markdown",
      "metadata": {
        "id": "Ge8tnZL5CSqD"
      },
      "source": [
        "### 5.1.1 Label Encoding\n",
        "\n",
        "* 카테고리 피쳐를 코드형 숫자값으로 변환합니다.\n",
        "* 사이킷런의 레이블 인코딩은 LabelEncoder 클래스로 구현합니다.\n",
        "* LabelEncoder를 객체로 생성한 후 `fit()`과 `transform()`을 호출해 레이블 인코딩을 수행합니다."
      ]
    },
    {
      "cell_type": "code",
      "metadata": {
        "colab": {
          "base_uri": "https://localhost:8080/"
        },
        "id": "uy83rpl7CtiU",
        "outputId": "f5cd091c-4c39-48da-ac40-337c37e54a78"
      },
      "source": [
        "from sklearn.preprocessing import LabelEncoder\n",
        "\n",
        "items = ['TV', '냉장고', '전자렌지', '컴퓨터', \n",
        "         '선풍기', '선풍기', '믹서', '믹서']\n",
        "\n",
        "# LabelEncoder를 객체로 생성한 후 fit()과 transform()으로 레이블 인코딩 수행\n",
        "encoder = LabelEncoder()\n",
        "encoder.fit(items)\n",
        "labels = encoder.transform(items)\n",
        "print(f\"인코딩 반환값 : {labels}\")"
      ],
      "execution_count": 29,
      "outputs": [
        {
          "output_type": "stream",
          "name": "stdout",
          "text": [
            "인코딩 반환값 : [0 1 4 5 3 3 2 2]\n"
          ]
        }
      ]
    },
    {
      "cell_type": "markdown",
      "metadata": {
        "id": "TOlLm8xsDgWa"
      },
      "source": [
        "* TV --> 0\n",
        "* 냉장고 --> 1\n",
        "* 전자렌지 --> 4\n",
        "* 컴퓨터 --> 5\n",
        "* 선풍기 --> 3\n",
        "* 믹서 --> 2\n",
        "    - 문자열이 많은 경우에는 classes_ 속성값으로 확인합니다."
      ]
    },
    {
      "cell_type": "code",
      "metadata": {
        "colab": {
          "base_uri": "https://localhost:8080/"
        },
        "id": "KGci2t50DbpV",
        "outputId": "bacef641-fe31-420b-9386-a766eb59c5fd"
      },
      "source": [
        "print(f\"인코딩 클래스 : {encoder.classes_}\")"
      ],
      "execution_count": 30,
      "outputs": [
        {
          "output_type": "stream",
          "name": "stdout",
          "text": [
            "인코딩 클래스 : ['TV' '냉장고' '믹서' '선풍기' '전자렌지' '컴퓨터']\n"
          ]
        }
      ]
    },
    {
      "cell_type": "code",
      "metadata": {
        "colab": {
          "base_uri": "https://localhost:8080/"
        },
        "id": "An9MGZ0ZD0pM",
        "outputId": "e6d41329-9c85-4a40-a4f2-c1d6a376278e"
      },
      "source": [
        "print(f\"디코딩 원본값 : {encoder.inverse_transform([4, 5, 2, 0, 1, 1, 3, 3])}\")"
      ],
      "execution_count": 31,
      "outputs": [
        {
          "output_type": "stream",
          "name": "stdout",
          "text": [
            "디코딩 원본값 : ['전자렌지' '컴퓨터' '믹서' 'TV' '냉장고' '냉장고' '선풍기' '선풍기']\n"
          ]
        }
      ]
    },
    {
      "cell_type": "markdown",
      "metadata": {
        "id": "tAIVhqMTD6Ff"
      },
      "source": [
        "* `inverse_transform()`을 통해 인코딩된 값을 다시 디코딩할 수 있습니다."
      ]
    },
    {
      "cell_type": "markdown",
      "metadata": {
        "id": "x7hC2SxHEoVz"
      },
      "source": [
        "### 5.1.2 One-Hot Encoding\n",
        "\n",
        "* 레이블 인코딩은 선형 회귀와 같은 알고리즘에는 적용하지 않아야합니다.\n",
        "* 왜냐하면 숫자에 가중치가 부여될 수 있기 때문입니다.\n",
        "* 원-핫 인코딩은 이러한 문제점을 해결해줍니다."
      ]
    },
    {
      "cell_type": "code",
      "metadata": {
        "colab": {
          "base_uri": "https://localhost:8080/"
        },
        "id": "WC93Bk_hEbnL",
        "outputId": "aeef1d7d-3475-4808-ecd3-34b735f2cae0"
      },
      "source": [
        "# OneHotEncoder 클래스로 쉽게 변환 가능\n",
        "# 변환 전에 : 모든 문자열은 숫자형으로, 입력값은 2차원으로\n",
        "from sklearn.preprocessing import OneHotEncoder, LabelEncoder\n",
        "\n",
        "items = ['TV', '냉장고', '전자렌지', '컴퓨터', \n",
        "         '선풍기', '선풍기', '믹서', '믹서']\n",
        "\n",
        "# 숫자값으로 변환을 위해 LabelEncoder로 변환\n",
        "encoder = LabelEncoder()\n",
        "encoder.fit(items)\n",
        "labels = encoder.transform(items)\n",
        "\n",
        "# 2차원 데이터로 변환\n",
        "labels = labels.reshape(-1, 1)\n",
        "\n",
        "# One-Hot Encoding 적용\n",
        "oh_encoder = OneHotEncoder()\n",
        "oh_encoder.fit(labels)\n",
        "oh_labels = oh_encoder.transform(labels)\n",
        "print(f\"One-Hot Encoding Data : \\n{oh_labels.toarray()}\\n\")\n",
        "print(f\"One-Hot Encoding Data Dimension : \\n{oh_labels.shape}\")"
      ],
      "execution_count": 32,
      "outputs": [
        {
          "output_type": "stream",
          "name": "stdout",
          "text": [
            "One-Hot Encoding Data : \n",
            "[[1. 0. 0. 0. 0. 0.]\n",
            " [0. 1. 0. 0. 0. 0.]\n",
            " [0. 0. 0. 0. 1. 0.]\n",
            " [0. 0. 0. 0. 0. 1.]\n",
            " [0. 0. 0. 1. 0. 0.]\n",
            " [0. 0. 0. 1. 0. 0.]\n",
            " [0. 0. 1. 0. 0. 0.]\n",
            " [0. 0. 1. 0. 0. 0.]]\n",
            "\n",
            "One-Hot Encoding Data Dimension : \n",
            "(8, 6)\n"
          ]
        }
      ]
    },
    {
      "cell_type": "code",
      "metadata": {
        "colab": {
          "base_uri": "https://localhost:8080/",
          "height": 299
        },
        "id": "ASoa4qwiGp7N",
        "outputId": "00c9ad4c-bbaa-4016-bc72-d232a4d5df71"
      },
      "source": [
        "# pandas One-Hot Encoding : get_dummies()\n",
        "import pandas as pd\n",
        "\n",
        "df = pd.DataFrame({'item':['TV', '냉장고', '전자렌지', '컴퓨터', \n",
        "         '선풍기', '선풍기', '믹서', '믹서']})\n",
        "pd.get_dummies(df)"
      ],
      "execution_count": 33,
      "outputs": [
        {
          "output_type": "execute_result",
          "data": {
            "text/html": [
              "<div>\n",
              "<style scoped>\n",
              "    .dataframe tbody tr th:only-of-type {\n",
              "        vertical-align: middle;\n",
              "    }\n",
              "\n",
              "    .dataframe tbody tr th {\n",
              "        vertical-align: top;\n",
              "    }\n",
              "\n",
              "    .dataframe thead th {\n",
              "        text-align: right;\n",
              "    }\n",
              "</style>\n",
              "<table border=\"1\" class=\"dataframe\">\n",
              "  <thead>\n",
              "    <tr style=\"text-align: right;\">\n",
              "      <th></th>\n",
              "      <th>item_TV</th>\n",
              "      <th>item_냉장고</th>\n",
              "      <th>item_믹서</th>\n",
              "      <th>item_선풍기</th>\n",
              "      <th>item_전자렌지</th>\n",
              "      <th>item_컴퓨터</th>\n",
              "    </tr>\n",
              "  </thead>\n",
              "  <tbody>\n",
              "    <tr>\n",
              "      <th>0</th>\n",
              "      <td>1</td>\n",
              "      <td>0</td>\n",
              "      <td>0</td>\n",
              "      <td>0</td>\n",
              "      <td>0</td>\n",
              "      <td>0</td>\n",
              "    </tr>\n",
              "    <tr>\n",
              "      <th>1</th>\n",
              "      <td>0</td>\n",
              "      <td>1</td>\n",
              "      <td>0</td>\n",
              "      <td>0</td>\n",
              "      <td>0</td>\n",
              "      <td>0</td>\n",
              "    </tr>\n",
              "    <tr>\n",
              "      <th>2</th>\n",
              "      <td>0</td>\n",
              "      <td>0</td>\n",
              "      <td>0</td>\n",
              "      <td>0</td>\n",
              "      <td>1</td>\n",
              "      <td>0</td>\n",
              "    </tr>\n",
              "    <tr>\n",
              "      <th>3</th>\n",
              "      <td>0</td>\n",
              "      <td>0</td>\n",
              "      <td>0</td>\n",
              "      <td>0</td>\n",
              "      <td>0</td>\n",
              "      <td>1</td>\n",
              "    </tr>\n",
              "    <tr>\n",
              "      <th>4</th>\n",
              "      <td>0</td>\n",
              "      <td>0</td>\n",
              "      <td>0</td>\n",
              "      <td>1</td>\n",
              "      <td>0</td>\n",
              "      <td>0</td>\n",
              "    </tr>\n",
              "    <tr>\n",
              "      <th>5</th>\n",
              "      <td>0</td>\n",
              "      <td>0</td>\n",
              "      <td>0</td>\n",
              "      <td>1</td>\n",
              "      <td>0</td>\n",
              "      <td>0</td>\n",
              "    </tr>\n",
              "    <tr>\n",
              "      <th>6</th>\n",
              "      <td>0</td>\n",
              "      <td>0</td>\n",
              "      <td>1</td>\n",
              "      <td>0</td>\n",
              "      <td>0</td>\n",
              "      <td>0</td>\n",
              "    </tr>\n",
              "    <tr>\n",
              "      <th>7</th>\n",
              "      <td>0</td>\n",
              "      <td>0</td>\n",
              "      <td>1</td>\n",
              "      <td>0</td>\n",
              "      <td>0</td>\n",
              "      <td>0</td>\n",
              "    </tr>\n",
              "  </tbody>\n",
              "</table>\n",
              "</div>"
            ],
            "text/plain": [
              "   item_TV  item_냉장고  item_믹서  item_선풍기  item_전자렌지  item_컴퓨터\n",
              "0        1         0        0         0          0         0\n",
              "1        0         1        0         0          0         0\n",
              "2        0         0        0         0          1         0\n",
              "3        0         0        0         0          0         1\n",
              "4        0         0        0         1          0         0\n",
              "5        0         0        0         1          0         0\n",
              "6        0         0        1         0          0         0\n",
              "7        0         0        1         0          0         0"
            ]
          },
          "metadata": {},
          "execution_count": 33
        }
      ]
    },
    {
      "cell_type": "markdown",
      "metadata": {
        "id": "idPC8iQzHEpO"
      },
      "source": [
        "* 판다스에는 One-Hot Encoding을 더 쉽게 지원하는 API가 있습니다.\n",
        "* `get_dummies()`를 이용하면 문자열을 숫자형으로 변환할 필요 없이 바로 가능합니다."
      ]
    },
    {
      "cell_type": "markdown",
      "metadata": {
        "id": "UVBMpt34GY1c"
      },
      "source": [
        "## 5.2 Feature Scaling and Normalization\n",
        "\n",
        "* Feature Scaling : 서로 다른 변수의 값 범위를 일정 수준으로 맞추는 작업입니다.\n",
        "* 대표적으로 표준화(Standardization)와 정규화(Normalization)가 있습니다."
      ]
    },
    {
      "cell_type": "markdown",
      "metadata": {
        "id": "IYYTGlGwHcgA"
      },
      "source": [
        "* 표준화 : 데이터 피처 각각을 평균이 0, 분산이 1인 가우시안 정규 분포를 가진 값으로 변환합니다.\n",
        "    - x[i]_new = (x[i]-mean(x)) / stdev(x)\n",
        "        - x[i]_new : 표준화를 통해 변환될 피처 x의 새로운 i번째 데이터\n",
        "        - x[i] : 원래 피처 x의 값\n",
        "        - mean(x) : 피처 x의 평균\n",
        "        - stdev(x) : 피처 x의 표준편차 (standard deviation)\n",
        "\n",
        "* 정규화 : 서로 다른 피처의 크기를 통일하기 위해 크기를 변환해줍니다. 즉, 개별 데이터의 크기를 모두 똑같은 단위로 변경합니다.\n",
        "    - x[i]_new = (x[i]-min(x)) / (max(x)-min(x))\n",
        "\n",
        "* 사이킷런의 Normalizer 모듈 : 개별 벡터의 크기를 맞추기 위해 변환합니다. 즉, 개별 벡터를 모든 피처 벡터의 크기로 나누어줍니다. (선형대수 개념)\n",
        "    - x[i]_new = x[i] / (sqrt((x[i])^2 + (y[i])^2 + (z[i])^2))\n",
        "\n",
        "* 혼선 방지를 위해 일반적인 의미의 표준화와 정규화를 피처 스케일링으로 통칭하고, 선형대수 개념의 정규화를 벡터 정규화로 지칭합니다."
      ]
    },
    {
      "cell_type": "markdown",
      "metadata": {
        "id": "S2sSFCECJQRy"
      },
      "source": [
        "### 5.2.1 Standard Scaler\n",
        "\n",
        "* 표준화를 쉽게 지원하기 위한 클래스입니다.\n",
        "* 즉, 개별 피처를 평균이 0, 분산이 1인 값으로 변환해줍니다."
      ]
    },
    {
      "cell_type": "code",
      "metadata": {
        "colab": {
          "base_uri": "https://localhost:8080/"
        },
        "id": "CX-9rf1fLD86",
        "outputId": "20ec9e4b-f086-4fa5-b3d7-6984d32b801a"
      },
      "source": [
        "from sklearn.datasets import load_iris\n",
        "import pandas as pd\n",
        "\n",
        "# 붓꽃 데이터셋을 로딩하고 DataFrame으로 변환\n",
        "iris = load_iris()\n",
        "iris_data = iris.data\n",
        "iris_df = pd.DataFrame(data=iris_data, columns=iris.feature_names)\n",
        "\n",
        "print(f\"feature mean : \\n{iris_df.mean()}\\n\")\n",
        "print(f\"feature variance : \\n{iris_df.var()}\")"
      ],
      "execution_count": 34,
      "outputs": [
        {
          "output_type": "stream",
          "name": "stdout",
          "text": [
            "feature mean : \n",
            "sepal length (cm)    5.843333\n",
            "sepal width (cm)     3.057333\n",
            "petal length (cm)    3.758000\n",
            "petal width (cm)     1.199333\n",
            "dtype: float64\n",
            "\n",
            "feature variance : \n",
            "sepal length (cm)    0.685694\n",
            "sepal width (cm)     0.189979\n",
            "petal length (cm)    3.116278\n",
            "petal width (cm)     0.581006\n",
            "dtype: float64\n"
          ]
        }
      ]
    },
    {
      "cell_type": "code",
      "metadata": {
        "colab": {
          "base_uri": "https://localhost:8080/"
        },
        "id": "gw12fbnNLmxx",
        "outputId": "6f9dbd6f-187d-4658-a3b8-272069ce532c"
      },
      "source": [
        "from sklearn.preprocessing import StandardScaler\n",
        "\n",
        "# StandardScaler 객체 생성\n",
        "scaler = StandardScaler()\n",
        "\n",
        "# StandardScaler로 데이터셋 변환 : fit(), transform() 호출\n",
        "scaler.fit(iris_df)\n",
        "iris_scaled = scaler.transform(iris_df)\n",
        "\n",
        "# transfrom()에서 변환된 데이터셋이 ndarray로 반환된 것을 DataFrame으로 변환\n",
        "iris_df_scaled = pd.DataFrame(data=iris_scaled, columns=iris.feature_names)\n",
        "print(f\"feature mean : \\n{iris_df_scaled.mean()}\\n\")\n",
        "print(f\"feature variance : \\n{iris_df_scaled.var()}\")"
      ],
      "execution_count": 35,
      "outputs": [
        {
          "output_type": "stream",
          "name": "stdout",
          "text": [
            "feature mean : \n",
            "sepal length (cm)   -1.690315e-15\n",
            "sepal width (cm)    -1.842970e-15\n",
            "petal length (cm)   -1.698641e-15\n",
            "petal width (cm)    -1.409243e-15\n",
            "dtype: float64\n",
            "\n",
            "feature variance : \n",
            "sepal length (cm)    1.006711\n",
            "sepal width (cm)     1.006711\n",
            "petal length (cm)    1.006711\n",
            "petal width (cm)     1.006711\n",
            "dtype: float64\n"
          ]
        }
      ]
    },
    {
      "cell_type": "markdown",
      "metadata": {
        "id": "bnCNRugUNJ5Y"
      },
      "source": [
        "* 모든 컬럼값의 평균이 0, 분산이 1에 가까운 값으로 변환되었습니다."
      ]
    },
    {
      "cell_type": "markdown",
      "metadata": {
        "id": "mCewPbs2NAgZ"
      },
      "source": [
        "### 5.2.2 Min Max Scaler\n",
        "\n",
        "* 데이터값을 0 ~ 1 범위값으로 변환합니다. (음수가 있으면 -1 ~ 1)\n",
        "* 데이터 분포가 가우시안 분포가 아닐 때 적용합니다."
      ]
    },
    {
      "cell_type": "code",
      "metadata": {
        "colab": {
          "base_uri": "https://localhost:8080/"
        },
        "id": "Frj8nIz_Ntyv",
        "outputId": "d6a1ad01-074e-4aee-e7f6-4301aac9bfcc"
      },
      "source": [
        "from sklearn.datasets import load_iris\n",
        "import pandas as pd\n",
        "\n",
        "# 붓꽃 데이터셋을 로딩하고 DataFrame으로 변환\n",
        "iris = load_iris()\n",
        "iris_data = iris.data\n",
        "iris_df = pd.DataFrame(data=iris_data, columns=iris.feature_names)\n",
        "\n",
        "\n",
        "\n",
        "from sklearn.preprocessing import MinMaxScaler\n",
        "\n",
        "# MinMaxScaler 객체 생성\n",
        "scaler = MinMaxScaler()\n",
        "\n",
        "# MinMaxScaler로 데이터셋 변환 : fit(), transform() 호출\n",
        "scaler.fit(iris_df)\n",
        "iris_scaled = scaler.transform(iris_df)\n",
        "\n",
        "# transfrom()에서 변환된 데이터셋이 ndarray로 반환된 것을 DataFrame으로 변환\n",
        "iris_df_scaled = pd.DataFrame(data=iris_scaled, columns=iris.feature_names)\n",
        "print(f\"feature minimum : \\n{iris_df_scaled.min()}\\n\")\n",
        "print(f\"feature maximum : \\n{iris_df_scaled.max()}\")"
      ],
      "execution_count": 36,
      "outputs": [
        {
          "output_type": "stream",
          "name": "stdout",
          "text": [
            "feature minimum : \n",
            "sepal length (cm)    0.0\n",
            "sepal width (cm)     0.0\n",
            "petal length (cm)    0.0\n",
            "petal width (cm)     0.0\n",
            "dtype: float64\n",
            "\n",
            "feature maximum : \n",
            "sepal length (cm)    1.0\n",
            "sepal width (cm)     1.0\n",
            "petal length (cm)    1.0\n",
            "petal width (cm)     1.0\n",
            "dtype: float64\n"
          ]
        }
      ]
    },
    {
      "cell_type": "markdown",
      "metadata": {
        "id": "C-bAlxbSOYXz"
      },
      "source": [
        "* 모든 컬럼값이 0 ~ 1 범위로 변환되었습니다."
      ]
    },
    {
      "cell_type": "markdown",
      "metadata": {
        "id": "TIAS1EMjOOo3"
      },
      "source": [
        "## 5.3 학습/테스트 데이터의 스케일링 변환 시 유의점\n",
        "\n",
        "* scaler 객체를 이용해 학습 데이터셋으로 `fit()`, `transform()`을 적용하면 테스트 데이터셋으로는 다시 `fit()`을 수행하지 않고 학습 데이터셋으로 `fit()`을 수행한 결과를 이용해 `transform()` 변환을 적용해야 합니다.\n",
        "* 테스트 데이터에 `fit()`을 적용하면 어떤 문제가 생기는지 알아봅시다."
      ]
    },
    {
      "cell_type": "code",
      "metadata": {
        "colab": {
          "base_uri": "https://localhost:8080/"
        },
        "id": "Vp5lyM3dPYtn",
        "outputId": "dea520bd-5175-4588-a895-0e41cca2db7e"
      },
      "source": [
        "from sklearn.preprocessing import MinMaxScaler\n",
        "import numpy as np\n",
        "\n",
        "# 학습 데이터는 0 ~ 10, 테스트 데이터는 0 ~ 5\n",
        "# Scaler 클래스의 fit(), transform()은 2차원 이상의 데이터만 가능\n",
        "train_array = np.arange(11).reshape(-1, 1)\n",
        "test_array = np.arange(6).reshape(-1, 1)\n",
        "print(f\"train_array : \\n{train_array}\\n\")\n",
        "print(f\"test_array : \\n{test_array}\")"
      ],
      "execution_count": 37,
      "outputs": [
        {
          "output_type": "stream",
          "name": "stdout",
          "text": [
            "train_array : \n",
            "[[ 0]\n",
            " [ 1]\n",
            " [ 2]\n",
            " [ 3]\n",
            " [ 4]\n",
            " [ 5]\n",
            " [ 6]\n",
            " [ 7]\n",
            " [ 8]\n",
            " [ 9]\n",
            " [10]]\n",
            "\n",
            "test_array : \n",
            "[[0]\n",
            " [1]\n",
            " [2]\n",
            " [3]\n",
            " [4]\n",
            " [5]]\n"
          ]
        }
      ]
    },
    {
      "cell_type": "markdown",
      "metadata": {
        "id": "83XR47SOQNWl"
      },
      "source": [
        "* 여기에 MinMaxScaler를 이용해 변환해봅시다.\n",
        "* `fit()`을 적용하면 최솟값 0, 최댓값 10, 1/10 Scale이 적용됩니다.\n",
        "* `transform()`을 호출하면 1/10 Scale로 학습 데이터를 변환합니다.\n",
        "* 원본 데이터 : \n",
        "    - 1 --> 0.1\n",
        "    - 2 --> 0.2\n",
        "    - 5 --> 1"
      ]
    },
    {
      "cell_type": "code",
      "metadata": {
        "colab": {
          "base_uri": "https://localhost:8080/"
        },
        "id": "MXHwixBAQC8H",
        "outputId": "aaff4c39-a839-4961-e211-af0a749a209e"
      },
      "source": [
        "\"\"\"MinMaxScaler 객체에 별도의 feature_range 파라미터값을 지정하지 않으면 \n",
        "0~1 값으로 변환\"\"\"\n",
        "scaler = MinMaxScaler()\n",
        "\n",
        "# fit() --> train_array 최솟값 0, 최댓값 10\n",
        "scaler.fit(train_array)\n",
        "\n",
        "# 1/10 scale로 train_array 데이터 변환\n",
        "train_scaled = scaler.transform(train_array)\n",
        "\n",
        "print(f\"Original train_array data : \\n{np.round(train_array.reshape(-1), 2)}\\n\")\n",
        "print(f\"Scaled train_array data : \\n{np.round(train_scaled.reshape(-1), 2)}\")"
      ],
      "execution_count": 38,
      "outputs": [
        {
          "output_type": "stream",
          "name": "stdout",
          "text": [
            "Original train_array data : \n",
            "[ 0  1  2  3  4  5  6  7  8  9 10]\n",
            "\n",
            "Scaled train_array data : \n",
            "[0.  0.1 0.2 0.3 0.4 0.5 0.6 0.7 0.8 0.9 1. ]\n"
          ]
        }
      ]
    },
    {
      "cell_type": "code",
      "metadata": {
        "colab": {
          "base_uri": "https://localhost:8080/"
        },
        "id": "9b-YjzJuSGl0",
        "outputId": "d7be38bf-2e83-4d71-bd3e-c306136953d3"
      },
      "source": [
        "# 이번에는 테스트 데이터셋을 변환\n",
        "scaler.fit(test_array)  # 최솟값 0, 최댓값 5\n",
        "\n",
        "# 1/5 scale\n",
        "test_scaled = scaler.transform(test_array)\n",
        "\n",
        "print(f\"Original test_array data : \\n{np.round(test_array.reshape(-1), 2)}\\n\")\n",
        "print(f\"Scaled test_array data : \\n{np.round(test_scaled.reshape(-1), 2)}\")"
      ],
      "execution_count": 39,
      "outputs": [
        {
          "output_type": "stream",
          "name": "stdout",
          "text": [
            "Original test_array data : \n",
            "[0 1 2 3 4 5]\n",
            "\n",
            "Scaled test_array data : \n",
            "[0.  0.2 0.4 0.6 0.8 1. ]\n"
          ]
        }
      ]
    },
    {
      "cell_type": "markdown",
      "metadata": {
        "id": "dMG3uq6bS6I3"
      },
      "source": [
        "* 학습 데이터와 테스트 데이터의 스케일링이 맞지 않습니다.\n",
        "    - 학습 데이터 스케일링 : 0, 0.1, 0.2, ... , 1\n",
        "    - 테스트 데이터 스케일링 : 0, 0.2, 0.4, 0.6, 0.8, 1\n",
        "* 이제 정상적으로 적용시켜 봅시다."
      ]
    },
    {
      "cell_type": "code",
      "metadata": {
        "colab": {
          "base_uri": "https://localhost:8080/"
        },
        "id": "M_MmjIKdSp0c",
        "outputId": "f5ffcd91-c8d5-4587-db73-541a5cf24987"
      },
      "source": [
        "scaler = MinMaxScaler()\n",
        "scaler.fit(train_array)\n",
        "train_scaled = scaler.transform(train_array)\n",
        "print(f\"Original train_array data : \\n{np.round(train_array.reshape(-1), 2)}\\n\")\n",
        "print(f\"Scaled train_array data : \\n{np.round(train_scaled.reshape(-1), 2)}\\n\")\n",
        "\n",
        "# test_array에 scale 변환 시 : fit() 호출 금지\n",
        "test_scaled = scaler.transform(test_array)\n",
        "print(f\"Original test_array data : \\n{np.round(test_array.reshape(-1), 2)}\\n\")\n",
        "print(f\"Scaled test_array data : \\n{np.round(test_scaled.reshape(-1), 2)}\")"
      ],
      "execution_count": 40,
      "outputs": [
        {
          "output_type": "stream",
          "name": "stdout",
          "text": [
            "Original train_array data : \n",
            "[ 0  1  2  3  4  5  6  7  8  9 10]\n",
            "\n",
            "Scaled train_array data : \n",
            "[0.  0.1 0.2 0.3 0.4 0.5 0.6 0.7 0.8 0.9 1. ]\n",
            "\n",
            "Original test_array data : \n",
            "[0 1 2 3 4 5]\n",
            "\n",
            "Scaled test_array data : \n",
            "[0.  0.1 0.2 0.3 0.4 0.5]\n"
          ]
        }
      ]
    },
    {
      "cell_type": "markdown",
      "metadata": {
        "id": "ICxOuiXkUWqS"
      },
      "source": [
        "* 학습 데이터와 테스트 데이터 모두 1/10 수준으로 스케일링 되었습니다.\n",
        "* 따라서 모두 동일하게 변환되었습니다.\n",
        "* `fit_transform()`을 적용할 때도 마찬가지입니다. (테스트 데이터에서는 사용 금지)\n",
        "* 이러한 주의 사항이 발생하므로 학습용/테스트용 분리 전에 전체 데이터셋에 스케일링을 적용하는 것이 바람직합니다."
      ]
    },
    {
      "cell_type": "markdown",
      "metadata": {
        "id": "C6g3hBFzT0Hm"
      },
      "source": [
        "# 6.Kaggle Titanic"
      ]
    },
    {
      "cell_type": "markdown",
      "metadata": {
        "id": "NCH8gO3E42w2"
      },
      "source": [
        "## 6.1 데이터 탐색"
      ]
    },
    {
      "cell_type": "code",
      "metadata": {
        "colab": {
          "base_uri": "https://localhost:8080/",
          "height": 205
        },
        "id": "QceOUI8IVBpU",
        "outputId": "52acbbdc-9779-464e-b6cc-e913cccf7b8b"
      },
      "source": [
        "import numpy as np\n",
        "import pandas as pd\n",
        "import matplotlib.pyplot as plt\n",
        "import seaborn as sns\n",
        "%matplotlib inline\n",
        "import warnings\n",
        "warnings.filterwarnings('ignore')\n",
        "\n",
        "titanic_df = pd.read_csv('./train.csv')\n",
        "titanic_df.head()"
      ],
      "execution_count": 41,
      "outputs": [
        {
          "output_type": "execute_result",
          "data": {
            "text/html": [
              "<div>\n",
              "<style scoped>\n",
              "    .dataframe tbody tr th:only-of-type {\n",
              "        vertical-align: middle;\n",
              "    }\n",
              "\n",
              "    .dataframe tbody tr th {\n",
              "        vertical-align: top;\n",
              "    }\n",
              "\n",
              "    .dataframe thead th {\n",
              "        text-align: right;\n",
              "    }\n",
              "</style>\n",
              "<table border=\"1\" class=\"dataframe\">\n",
              "  <thead>\n",
              "    <tr style=\"text-align: right;\">\n",
              "      <th></th>\n",
              "      <th>PassengerId</th>\n",
              "      <th>Survived</th>\n",
              "      <th>Pclass</th>\n",
              "      <th>Name</th>\n",
              "      <th>Sex</th>\n",
              "      <th>Age</th>\n",
              "      <th>SibSp</th>\n",
              "      <th>Parch</th>\n",
              "      <th>Ticket</th>\n",
              "      <th>Fare</th>\n",
              "      <th>Cabin</th>\n",
              "      <th>Embarked</th>\n",
              "    </tr>\n",
              "  </thead>\n",
              "  <tbody>\n",
              "    <tr>\n",
              "      <th>0</th>\n",
              "      <td>1</td>\n",
              "      <td>0</td>\n",
              "      <td>3</td>\n",
              "      <td>Braund, Mr. Owen Harris</td>\n",
              "      <td>male</td>\n",
              "      <td>22.0</td>\n",
              "      <td>1</td>\n",
              "      <td>0</td>\n",
              "      <td>A/5 21171</td>\n",
              "      <td>7.2500</td>\n",
              "      <td>NaN</td>\n",
              "      <td>S</td>\n",
              "    </tr>\n",
              "    <tr>\n",
              "      <th>1</th>\n",
              "      <td>2</td>\n",
              "      <td>1</td>\n",
              "      <td>1</td>\n",
              "      <td>Cumings, Mrs. John Bradley (Florence Briggs Th...</td>\n",
              "      <td>female</td>\n",
              "      <td>38.0</td>\n",
              "      <td>1</td>\n",
              "      <td>0</td>\n",
              "      <td>PC 17599</td>\n",
              "      <td>71.2833</td>\n",
              "      <td>C85</td>\n",
              "      <td>C</td>\n",
              "    </tr>\n",
              "    <tr>\n",
              "      <th>2</th>\n",
              "      <td>3</td>\n",
              "      <td>1</td>\n",
              "      <td>3</td>\n",
              "      <td>Heikkinen, Miss. Laina</td>\n",
              "      <td>female</td>\n",
              "      <td>26.0</td>\n",
              "      <td>0</td>\n",
              "      <td>0</td>\n",
              "      <td>STON/O2. 3101282</td>\n",
              "      <td>7.9250</td>\n",
              "      <td>NaN</td>\n",
              "      <td>S</td>\n",
              "    </tr>\n",
              "    <tr>\n",
              "      <th>3</th>\n",
              "      <td>4</td>\n",
              "      <td>1</td>\n",
              "      <td>1</td>\n",
              "      <td>Futrelle, Mrs. Jacques Heath (Lily May Peel)</td>\n",
              "      <td>female</td>\n",
              "      <td>35.0</td>\n",
              "      <td>1</td>\n",
              "      <td>0</td>\n",
              "      <td>113803</td>\n",
              "      <td>53.1000</td>\n",
              "      <td>C123</td>\n",
              "      <td>S</td>\n",
              "    </tr>\n",
              "    <tr>\n",
              "      <th>4</th>\n",
              "      <td>5</td>\n",
              "      <td>0</td>\n",
              "      <td>3</td>\n",
              "      <td>Allen, Mr. William Henry</td>\n",
              "      <td>male</td>\n",
              "      <td>35.0</td>\n",
              "      <td>0</td>\n",
              "      <td>0</td>\n",
              "      <td>373450</td>\n",
              "      <td>8.0500</td>\n",
              "      <td>NaN</td>\n",
              "      <td>S</td>\n",
              "    </tr>\n",
              "  </tbody>\n",
              "</table>\n",
              "</div>"
            ],
            "text/plain": [
              "   PassengerId  Survived  Pclass  ...     Fare Cabin  Embarked\n",
              "0            1         0       3  ...   7.2500   NaN         S\n",
              "1            2         1       1  ...  71.2833   C85         C\n",
              "2            3         1       3  ...   7.9250   NaN         S\n",
              "3            4         1       1  ...  53.1000  C123         S\n",
              "4            5         0       3  ...   8.0500   NaN         S\n",
              "\n",
              "[5 rows x 12 columns]"
            ]
          },
          "metadata": {},
          "execution_count": 41
        }
      ]
    },
    {
      "cell_type": "code",
      "metadata": {
        "colab": {
          "base_uri": "https://localhost:8080/"
        },
        "id": "oKD7CJ_OWfA0",
        "outputId": "451ab51b-072f-431d-ba03-ff3ff8874a3c"
      },
      "source": [
        "# 학습 데이터셋 정보\n",
        "titanic_df.info()"
      ],
      "execution_count": 42,
      "outputs": [
        {
          "output_type": "stream",
          "name": "stdout",
          "text": [
            "<class 'pandas.core.frame.DataFrame'>\n",
            "RangeIndex: 891 entries, 0 to 890\n",
            "Data columns (total 12 columns):\n",
            " #   Column       Non-Null Count  Dtype  \n",
            "---  ------       --------------  -----  \n",
            " 0   PassengerId  891 non-null    int64  \n",
            " 1   Survived     891 non-null    int64  \n",
            " 2   Pclass       891 non-null    int64  \n",
            " 3   Name         891 non-null    object \n",
            " 4   Sex          891 non-null    object \n",
            " 5   Age          714 non-null    float64\n",
            " 6   SibSp        891 non-null    int64  \n",
            " 7   Parch        891 non-null    int64  \n",
            " 8   Ticket       891 non-null    object \n",
            " 9   Fare         891 non-null    float64\n",
            " 10  Cabin        204 non-null    object \n",
            " 11  Embarked     889 non-null    object \n",
            "dtypes: float64(2), int64(5), object(5)\n",
            "memory usage: 83.7+ KB\n"
          ]
        }
      ]
    },
    {
      "cell_type": "markdown",
      "metadata": {
        "id": "H8RSYvtqWyE6"
      },
      "source": [
        "* 판다스의 object 타입은 string으로 봐도 무방합니다."
      ]
    },
    {
      "cell_type": "code",
      "metadata": {
        "colab": {
          "base_uri": "https://localhost:8080/"
        },
        "id": "Vqq4LRAFWqAM",
        "outputId": "383113a1-5a04-457b-bee4-18cc1ff288af"
      },
      "source": [
        "# 결측치를 Age는 평균값으로, 나머지는 'N'값으로 변경\n",
        "titanic_df['Age'].fillna(titanic_df['Age'].mean(), inplace=True)\n",
        "titanic_df['Cabin'].fillna('N', inplace=True)\n",
        "titanic_df['Embarked'].fillna('N', inplace=True)\n",
        "print(f\"Data set's Null count : \\n{titanic_df.isnull().sum()}\")"
      ],
      "execution_count": 43,
      "outputs": [
        {
          "output_type": "stream",
          "name": "stdout",
          "text": [
            "Data set's Null count : \n",
            "PassengerId    0\n",
            "Survived       0\n",
            "Pclass         0\n",
            "Name           0\n",
            "Sex            0\n",
            "Age            0\n",
            "SibSp          0\n",
            "Parch          0\n",
            "Ticket         0\n",
            "Fare           0\n",
            "Cabin          0\n",
            "Embarked       0\n",
            "dtype: int64\n"
          ]
        }
      ]
    },
    {
      "cell_type": "code",
      "metadata": {
        "colab": {
          "base_uri": "https://localhost:8080/"
        },
        "id": "Pb8B7TrViuon",
        "outputId": "40c8203d-34be-425a-e230-df73a4600375"
      },
      "source": [
        "print(f\"Sex : \\n{titanic_df['Sex'].value_counts()}\\n\")\n",
        "print(f\"Cabin : \\n{titanic_df['Cabin'].value_counts()}\\n\")\n",
        "print(f\"Embarked : \\n{titanic_df['Embarked'].value_counts()}\")"
      ],
      "execution_count": 44,
      "outputs": [
        {
          "output_type": "stream",
          "name": "stdout",
          "text": [
            "Sex : \n",
            "male      577\n",
            "female    314\n",
            "Name: Sex, dtype: int64\n",
            "\n",
            "Cabin : \n",
            "N              687\n",
            "C23 C25 C27      4\n",
            "B96 B98          4\n",
            "G6               4\n",
            "C22 C26          3\n",
            "              ... \n",
            "C46              1\n",
            "C50              1\n",
            "T                1\n",
            "D47              1\n",
            "D50              1\n",
            "Name: Cabin, Length: 148, dtype: int64\n",
            "\n",
            "Embarked : \n",
            "S    644\n",
            "C    168\n",
            "Q     77\n",
            "N      2\n",
            "Name: Embarked, dtype: int64\n"
          ]
        }
      ]
    },
    {
      "cell_type": "markdown",
      "metadata": {
        "id": "iSH19Xo3jdQU"
      },
      "source": [
        "* Cabin의 경우 앞의 알파벳이 중요해 보입니다. 아마 선실 등급과 연관이 있습니다.\n",
        "* Cabin의 앞 문자만 추출해봅시다."
      ]
    },
    {
      "cell_type": "code",
      "metadata": {
        "colab": {
          "base_uri": "https://localhost:8080/"
        },
        "id": "k1BsdVWNjAPG",
        "outputId": "3a6e4218-1882-4e70-d7f1-d3b71cc8aa6d"
      },
      "source": [
        "titanic_df['Cabin'] = titanic_df['Cabin'].str[:1]\n",
        "titanic_df['Cabin'].head()"
      ],
      "execution_count": 45,
      "outputs": [
        {
          "output_type": "execute_result",
          "data": {
            "text/plain": [
              "0    N\n",
              "1    C\n",
              "2    N\n",
              "3    C\n",
              "4    N\n",
              "Name: Cabin, dtype: object"
            ]
          },
          "metadata": {},
          "execution_count": 45
        }
      ]
    },
    {
      "cell_type": "code",
      "metadata": {
        "colab": {
          "base_uri": "https://localhost:8080/"
        },
        "id": "No7t9hETjxmW",
        "outputId": "8d903772-e8b9-43ea-bbc0-3ef7a6b57e8b"
      },
      "source": [
        "# 성별에 따른 생존자 수\n",
        "titanic_df.groupby(['Sex', 'Survived'])['Survived'].count()"
      ],
      "execution_count": 46,
      "outputs": [
        {
          "output_type": "execute_result",
          "data": {
            "text/plain": [
              "Sex     Survived\n",
              "female  0            81\n",
              "        1           233\n",
              "male    0           468\n",
              "        1           109\n",
              "Name: Survived, dtype: int64"
            ]
          },
          "metadata": {},
          "execution_count": 46
        }
      ]
    },
    {
      "cell_type": "markdown",
      "metadata": {
        "id": "K115BYkZkM-k"
      },
      "source": [
        "* Survived 0은 사망, 1은 생존입니다.\n",
        "* 남자가 더 많이 사망했습니다."
      ]
    },
    {
      "cell_type": "code",
      "metadata": {
        "colab": {
          "base_uri": "https://localhost:8080/",
          "height": 279
        },
        "id": "MOvahrKPkAlF",
        "outputId": "c856e230-0c82-436f-aec5-1358066d42cd"
      },
      "source": [
        "# seaborn barplot\n",
        "sns.barplot('Sex', 'Survived', data=titanic_df);"
      ],
      "execution_count": 47,
      "outputs": [
        {
          "output_type": "display_data",
          "data": {
            "image/png": "[encoded data removed]",
            "text/plain": [
              "<Figure size 432x288 with 1 Axes>"
            ]
          },
          "metadata": {
            "needs_background": "light"
          }
        }
      ]
    },
    {
      "cell_type": "code",
      "metadata": {
        "colab": {
          "base_uri": "https://localhost:8080/",
          "height": 279
        },
        "id": "5guMirc8khPu",
        "outputId": "521f9ae0-621e-43a5-a89e-c53373ed7326"
      },
      "source": [
        "# 객실 등급별 그래프\n",
        "sns.barplot('Pclass', 'Survived', hue='Sex', data=titanic_df);"
      ],
      "execution_count": 48,
      "outputs": [
        {
          "output_type": "display_data",
          "data": {
            "image/png": "[encoded data removed]",
            "text/plain": [
              "<Figure size 432x288 with 1 Axes>"
            ]
          },
          "metadata": {
            "needs_background": "light"
          }
        }
      ]
    },
    {
      "cell_type": "markdown",
      "metadata": {
        "id": "BO-Z7-xFk3_Z"
      },
      "source": [
        "* 여성의 경우 3등실의 생존률이 낮습니다.\n",
        "* 남성의 경우 1등실의 생존률이 높습니다."
      ]
    },
    {
      "cell_type": "code",
      "metadata": {
        "colab": {
          "base_uri": "https://localhost:8080/",
          "height": 389
        },
        "id": "B9V_GrFgkwS-",
        "outputId": "52314f71-e437-4c7d-badf-f049e542fa91"
      },
      "source": [
        "# 나이 그래프 : 범위별로 분류하여 카테고리값을 할당\n",
        "def get_category(age):\n",
        "    cat = ''\n",
        "    if age <= 1: cat = 'Unknown'\n",
        "    elif age <= 5: cat = 'Baby'\n",
        "    elif age <= 12: cat = 'Child'\n",
        "    elif age <= 18: cat = 'Teenager'\n",
        "    elif age <= 25: cat = 'Student'\n",
        "    elif age <= 35: cat = 'Young Adult'\n",
        "    elif age <= 60: cat = 'Adult'\n",
        "    else: cat = 'Elderly'\n",
        "    return cat\n",
        "\n",
        "# figure 크게 설정\n",
        "plt.figure(figsize=(10, 6))\n",
        "\n",
        "# x축 값을 순차적으로 표시\n",
        "group_names = ['Unknown', 'Baby', 'Child', 'Teenager', \n",
        "               'Student', 'Young Adult', 'Adult', 'Elderly']\n",
        "\n",
        "# lambda : get_category() 함수를 반환값으로 지정\n",
        "# get_category(X) : 입력값으로 'Age' 컬럼을 받아서 해당하는 cat 반환\n",
        "titanic_df['Age_cat'] = titanic_df['Age'].apply(lambda x: get_category(x))\n",
        "sns.barplot('Age_cat', 'Survived', hue='Sex', \n",
        "            data=titanic_df, order=group_names)\n",
        "titanic_df.drop(\"Age_cat\", axis=1, inplace=True)"
      ],
      "execution_count": 49,
      "outputs": [
        {
          "output_type": "display_data",
          "data": {
            "image/png": "[encoded data removed]",
            "text/plain": [
              "<Figure size 720x432 with 1 Axes>"
            ]
          },
          "metadata": {
            "needs_background": "light"
          }
        }
      ]
    },
    {
      "cell_type": "markdown",
      "metadata": {
        "id": "c5GxPqt7nDw-"
      },
      "source": [
        "* 여성 생존률의 경우 Elderly가 높고, Child가 낮습니다.\n",
        "* 성별, 나이, 객실등급이 생존을 좌우하는 것을 확인하였습니다."
      ]
    },
    {
      "cell_type": "code",
      "metadata": {
        "colab": {
          "base_uri": "https://localhost:8080/",
          "height": 205
        },
        "id": "PA9L-Slpm7Wz",
        "outputId": "d80d30f8-57d2-4baa-e20c-7e578eb9b121"
      },
      "source": [
        "# 남아있는 문자열을 숫자형으로 변환 : Label Encoder\n",
        "from sklearn import preprocessing\n",
        "\n",
        "def encode_features(dataDF):\n",
        "    features = ['Cabin', 'Sex', 'Embarked']\n",
        "\n",
        "    for feature in features:\n",
        "        le = preprocessing.LabelEncoder()\n",
        "        le = le.fit(dataDF[feature])\n",
        "        dataDF[feature] = le.transform(dataDF[feature])\n",
        "    \n",
        "    return dataDF\n",
        "\n",
        "titanic_df = encode_features(titanic_df)\n",
        "titanic_df.head()"
      ],
      "execution_count": 50,
      "outputs": [
        {
          "output_type": "execute_result",
          "data": {
            "text/html": [
              "<div>\n",
              "<style scoped>\n",
              "    .dataframe tbody tr th:only-of-type {\n",
              "        vertical-align: middle;\n",
              "    }\n",
              "\n",
              "    .dataframe tbody tr th {\n",
              "        vertical-align: top;\n",
              "    }\n",
              "\n",
              "    .dataframe thead th {\n",
              "        text-align: right;\n",
              "    }\n",
              "</style>\n",
              "<table border=\"1\" class=\"dataframe\">\n",
              "  <thead>\n",
              "    <tr style=\"text-align: right;\">\n",
              "      <th></th>\n",
              "      <th>PassengerId</th>\n",
              "      <th>Survived</th>\n",
              "      <th>Pclass</th>\n",
              "      <th>Name</th>\n",
              "      <th>Sex</th>\n",
              "      <th>Age</th>\n",
              "      <th>SibSp</th>\n",
              "      <th>Parch</th>\n",
              "      <th>Ticket</th>\n",
              "      <th>Fare</th>\n",
              "      <th>Cabin</th>\n",
              "      <th>Embarked</th>\n",
              "    </tr>\n",
              "  </thead>\n",
              "  <tbody>\n",
              "    <tr>\n",
              "      <th>0</th>\n",
              "      <td>1</td>\n",
              "      <td>0</td>\n",
              "      <td>3</td>\n",
              "      <td>Braund, Mr. Owen Harris</td>\n",
              "      <td>1</td>\n",
              "      <td>22.0</td>\n",
              "      <td>1</td>\n",
              "      <td>0</td>\n",
              "      <td>A/5 21171</td>\n",
              "      <td>7.2500</td>\n",
              "      <td>7</td>\n",
              "      <td>3</td>\n",
              "    </tr>\n",
              "    <tr>\n",
              "      <th>1</th>\n",
              "      <td>2</td>\n",
              "      <td>1</td>\n",
              "      <td>1</td>\n",
              "      <td>Cumings, Mrs. John Bradley (Florence Briggs Th...</td>\n",
              "      <td>0</td>\n",
              "      <td>38.0</td>\n",
              "      <td>1</td>\n",
              "      <td>0</td>\n",
              "      <td>PC 17599</td>\n",
              "      <td>71.2833</td>\n",
              "      <td>2</td>\n",
              "      <td>0</td>\n",
              "    </tr>\n",
              "    <tr>\n",
              "      <th>2</th>\n",
              "      <td>3</td>\n",
              "      <td>1</td>\n",
              "      <td>3</td>\n",
              "      <td>Heikkinen, Miss. Laina</td>\n",
              "      <td>0</td>\n",
              "      <td>26.0</td>\n",
              "      <td>0</td>\n",
              "      <td>0</td>\n",
              "      <td>STON/O2. 3101282</td>\n",
              "      <td>7.9250</td>\n",
              "      <td>7</td>\n",
              "      <td>3</td>\n",
              "    </tr>\n",
              "    <tr>\n",
              "      <th>3</th>\n",
              "      <td>4</td>\n",
              "      <td>1</td>\n",
              "      <td>1</td>\n",
              "      <td>Futrelle, Mrs. Jacques Heath (Lily May Peel)</td>\n",
              "      <td>0</td>\n",
              "      <td>35.0</td>\n",
              "      <td>1</td>\n",
              "      <td>0</td>\n",
              "      <td>113803</td>\n",
              "      <td>53.1000</td>\n",
              "      <td>2</td>\n",
              "      <td>3</td>\n",
              "    </tr>\n",
              "    <tr>\n",
              "      <th>4</th>\n",
              "      <td>5</td>\n",
              "      <td>0</td>\n",
              "      <td>3</td>\n",
              "      <td>Allen, Mr. William Henry</td>\n",
              "      <td>1</td>\n",
              "      <td>35.0</td>\n",
              "      <td>0</td>\n",
              "      <td>0</td>\n",
              "      <td>373450</td>\n",
              "      <td>8.0500</td>\n",
              "      <td>7</td>\n",
              "      <td>3</td>\n",
              "    </tr>\n",
              "  </tbody>\n",
              "</table>\n",
              "</div>"
            ],
            "text/plain": [
              "   PassengerId  Survived  Pclass  ...     Fare  Cabin  Embarked\n",
              "0            1         0       3  ...   7.2500      7         3\n",
              "1            2         1       1  ...  71.2833      2         0\n",
              "2            3         1       3  ...   7.9250      7         3\n",
              "3            4         1       1  ...  53.1000      2         3\n",
              "4            5         0       3  ...   8.0500      7         3\n",
              "\n",
              "[5 rows x 12 columns]"
            ]
          },
          "metadata": {},
          "execution_count": 50
        }
      ]
    },
    {
      "cell_type": "markdown",
      "metadata": {
        "id": "stIX58tmpHDI"
      },
      "source": [
        "* Sex, Cabin, Embarked의 값이 숫자로 바뀌었습니다.\n",
        "* 지금까지 가공한 피처를 함수로 정리하여 쉽게 재사용할 수 있도록 만들어 봅시다."
      ]
    },
    {
      "cell_type": "code",
      "metadata": {
        "id": "Z8c7gwWmpYnU"
      },
      "source": [
        "# Null 처리 함수\n",
        "def titanic_fillna(df):\n",
        "    df['Age'].fillna(df['Age'].mean(), inplace=True)\n",
        "    df['Cabin'].fillna('N', inplace=True)\n",
        "    df['Embarked'].fillna('N', inplace=True)\n",
        "    df['Fare'].fillna(0, inplace=True)\n",
        "    return df\n",
        "\n",
        "# ML 알고리즘에 불필요한 속성 제거\n",
        "def titanic_drop(df):\n",
        "    df.drop(['PassengerId', 'Name', 'Ticket'], axis=1, inplace=True)\n",
        "    return df\n",
        "\n",
        "# label encoding\n",
        "def titanic_le(df):\n",
        "    df['Cabin'] = df['Cabin'].str[:1]\n",
        "    features = ['Cabin', 'Sex', 'Embarked']\n",
        "    for feature in features:\n",
        "        le = LabelEncoder()\n",
        "        le = le.fit(df[feature])\n",
        "        df[feature] = le.transform(df[feature])\n",
        "    return df\n",
        "\n",
        "# 위에서 설정한 데이터 전처리 함수 종합\n",
        "def transform_features(df):\n",
        "    df = titanic_fillna(df)\n",
        "    df = titanic_drop(df)\n",
        "    df = titanic_le(df)\n",
        "    return df"
      ],
      "execution_count": 51,
      "outputs": []
    },
    {
      "cell_type": "markdown",
      "metadata": {
        "id": "uLEylwG14wpH"
      },
      "source": [
        "## 6.2 Modeling"
      ]
    },
    {
      "cell_type": "markdown",
      "metadata": {
        "id": "6WaBt6xZrNLz"
      },
      "source": [
        "* 이제 다시 원본 데이터를 로딩하여 적용해봅시다.\n",
        "* Survived 속성은 레이블이므로 별도로 분리하여 클래스 결정값 데이터셋으로 만듭니다.\n",
        "* 그리고 Survived 속성을 drop하여 피처 데이터셋을 만듭니다.\n",
        "* 이렇게 생성된 피처 데이터셋에 `transform_features()`를 적용해 봅시다."
      ]
    },
    {
      "cell_type": "code",
      "metadata": {
        "id": "7leT_0w_rJj8"
      },
      "source": [
        "# 원본 데이터를 다시 로드하고 피처 데이터셋과 레이블 데이터셋 추출\n",
        "titanic_df = pd.read_csv('./train.csv')\n",
        "y_titanic_df = titanic_df['Survived']\n",
        "X_titanic_df = titanic_df.drop('Survived', axis=1)\n",
        "\n",
        "X_titanic_df = transform_features(X_titanic_df)"
      ],
      "execution_count": 52,
      "outputs": []
    },
    {
      "cell_type": "code",
      "metadata": {
        "id": "b9ZsDjN8tViz"
      },
      "source": [
        "# 별도의 테스트 데이터셋 추출\n",
        "from sklearn.model_selection import train_test_split\n",
        "\n",
        "X_train, X_test, y_train, y_test = train_test_split(X_titanic_df, y_titanic_df, \n",
        "                                                    test_size=0.2, \n",
        "                                                    random_state=11)"
      ],
      "execution_count": 53,
      "outputs": []
    },
    {
      "cell_type": "code",
      "metadata": {
        "colab": {
          "base_uri": "https://localhost:8080/"
        },
        "id": "5ohPcbbp4kgE",
        "outputId": "8227dfe3-7c02-4e55-f87d-6908601048d8"
      },
      "source": [
        "# train and predict\n",
        "from sklearn.tree import DecisionTreeClassifier\n",
        "from sklearn.ensemble import RandomForestClassifier\n",
        "from sklearn.linear_model import LogisticRegression\n",
        "from sklearn.metrics import accuracy_score\n",
        "\n",
        "# sklearn classifier 클래스 생성\n",
        "dt_clf = DecisionTreeClassifier(random_state=11)\n",
        "rf_clf = RandomForestClassifier(random_state=11)\n",
        "lr_clf = LogisticRegression()\n",
        "\n",
        "# Decision Tree Classifier Modeling\n",
        "dt_clf.fit(X_train, y_train)\n",
        "dt_pred = dt_clf.predict(X_test)\n",
        "print(f\"DT acc : {accuracy_score(y_test, dt_pred)*100:.2f} %\")\n",
        "\n",
        "# Random Forest Classifier Modeling\n",
        "rf_clf.fit(X_train, y_train)\n",
        "rf_pred = rf_clf.predict(X_test)\n",
        "print(f\"RF acc : {accuracy_score(y_test, rf_pred)*100:.2f} %\")\n",
        "\n",
        "# Logistic Regression Classifier Modeling\n",
        "lr_clf.fit(X_train, y_train)\n",
        "lr_pred = lr_clf.predict(X_test)\n",
        "print(f\"LR acc : {accuracy_score(y_test, lr_pred)*100:.2f} %\")"
      ],
      "execution_count": 54,
      "outputs": [
        {
          "output_type": "stream",
          "name": "stdout",
          "text": [
            "DT acc : 78.77 %\n",
            "RF acc : 85.47 %\n",
            "LR acc : 84.92 %\n"
          ]
        }
      ]
    },
    {
      "cell_type": "markdown",
      "metadata": {
        "id": "4GN88ZbU6nTt"
      },
      "source": [
        "* 아직 최적화 작업을 수행하지 않았고, 데이터 양도 충분하지 않기 때문에 어떤 알고리즘이 가장 성능이 좋다고 평가할 수는 없습니다."
      ]
    },
    {
      "cell_type": "markdown",
      "metadata": {
        "id": "zZ3hlQrZ6hnD"
      },
      "source": [
        "## 6.3 Cross Validation Modeling"
      ]
    },
    {
      "cell_type": "markdown",
      "metadata": {
        "id": "Ny6zVhoO9B5N"
      },
      "source": [
        "### 6.3.1 KFold CV"
      ]
    },
    {
      "cell_type": "code",
      "metadata": {
        "colab": {
          "base_uri": "https://localhost:8080/"
        },
        "id": "RRLqz4216PPc",
        "outputId": "cee92623-9144-4b75-ebca-4596522ea2b9"
      },
      "source": [
        "from sklearn.model_selection import KFold\n",
        "\n",
        "def exec_kfold(clf, folds=5):\n",
        "    # Kfold 객체를 생성하고 폴드 수만큼 예측 결과를 리스트에 저장\n",
        "    kfold = KFold(n_splits=folds)\n",
        "    scores = []\n",
        "\n",
        "    # KFold CV\n",
        "    for iter_count, (train_index, test_index) in enumerate(kfold.split(X_titanic_df)):\n",
        "\n",
        "        # X_titanic_df 에서 CV 별로 학습과 검증 데이터를 가리키는 index 생성\n",
        "        X_train, X_test = X_titanic_df.values[train_index], X_titanic_df.values[test_index]\n",
        "        y_train, y_test = y_titanic_df.values[train_index], y_titanic_df.values[test_index]\n",
        "\n",
        "        # clf 학습, 예측, 정확도 계산\n",
        "        clf.fit(X_train, y_train)\n",
        "        predictions = clf.predict(X_test)\n",
        "        accuracy = accuracy_score(y_test, predictions)\n",
        "        scores.append(accuracy)\n",
        "        print(f\"CV {iter_count} 정확도 : {accuracy*100:.2f} %\")\n",
        "\n",
        "    # 5개 폴드에서의 평균 정확도 계산\n",
        "    mean_score = np.mean(scores)\n",
        "    print(f\"평균 정확도 : {mean_score*100:.2f} %\")\n",
        "\n",
        "# exec_kfold 호출\n",
        "exec_kfold(dt_clf)"
      ],
      "execution_count": 55,
      "outputs": [
        {
          "output_type": "stream",
          "name": "stdout",
          "text": [
            "CV 0 정확도 : 75.42 %\n",
            "CV 1 정확도 : 78.09 %\n",
            "CV 2 정확도 : 78.65 %\n",
            "CV 3 정확도 : 76.97 %\n",
            "CV 4 정확도 : 82.02 %\n",
            "평균 정확도 : 78.23 %\n"
          ]
        }
      ]
    },
    {
      "cell_type": "markdown",
      "metadata": {
        "id": "R94h0_lk9vzp"
      },
      "source": [
        "* KFold CV의 평균 정확도는 78.23 % 입니다."
      ]
    },
    {
      "cell_type": "markdown",
      "metadata": {
        "id": "w3vOFhOI8x3F"
      },
      "source": [
        "### 6.3.2 cross_val_score() API"
      ]
    },
    {
      "cell_type": "code",
      "metadata": {
        "colab": {
          "base_uri": "https://localhost:8080/"
        },
        "id": "nzBiETB09KYC",
        "outputId": "be4d9c29-4664-4b85-9b38-974766357140"
      },
      "source": [
        "from sklearn.model_selection import cross_val_score\n",
        "\n",
        "scores = cross_val_score(dt_clf, X_titanic_df, y_titanic_df, cv=5)\n",
        "for iter_count, accuracy in enumerate(scores):\n",
        "    print(f\"CV {iter_count} 정확도 : {accuracy*100:.2f} %\")\n",
        "print(f\"평균 정확도 : {np.mean(scores)*100:.2f} %\")"
      ],
      "execution_count": 56,
      "outputs": [
        {
          "output_type": "stream",
          "name": "stdout",
          "text": [
            "CV 0 정확도 : 74.30 %\n",
            "CV 1 정확도 : 77.53 %\n",
            "CV 2 정확도 : 79.21 %\n",
            "CV 3 정확도 : 78.65 %\n",
            "CV 4 정확도 : 84.27 %\n",
            "평균 정확도 : 78.79 %\n"
          ]
        }
      ]
    },
    {
      "cell_type": "markdown",
      "metadata": {
        "id": "ufACrdjI91Ce"
      },
      "source": [
        "* cross_val_score() API는 Stratified KFold를 이용해 폴드셋을 분할하기 때문에 KFold의 평균 정확도와 약간의 차이가 발생합니다."
      ]
    },
    {
      "cell_type": "markdown",
      "metadata": {
        "id": "fJ7ys-lv9s8L"
      },
      "source": [
        "### 6.3.3 Grid Search CV\n",
        "\n",
        "* 하이퍼 파라미터 : max_depth, min_samples_split, min_samples_leaf"
      ]
    },
    {
      "cell_type": "code",
      "metadata": {
        "colab": {
          "base_uri": "https://localhost:8080/"
        },
        "id": "yGwoMCMT-Fwk",
        "outputId": "4a9133cd-098e-4fc3-9cda-28d97b017e2b"
      },
      "source": [
        "from sklearn.model_selection import GridSearchCV\n",
        "\n",
        "parameters = {'max_depth':[2, 3, 4, 10], 'min_samples_split':[2, 3, 5], \n",
        "              'min_samples_leaf':[1, 5, 8]}\n",
        "grid_dclf = GridSearchCV(dt_clf, param_grid=parameters, \n",
        "                         scoring='accuracy', cv=5)\n",
        "grid_dclf.fit(X_train, y_train)\n",
        "\n",
        "print(f\"Grid Search CV 최적 하이퍼 파라미터 : {grid_dclf.best_params_}\")\n",
        "print(f\"Grid Search CV 최고 정확도 : {grid_dclf.best_score_*100:.2f} %\")\n",
        "\n",
        "# 최적 하이퍼 파라미터로 학습된 Estimator 추출\n",
        "best_dclf = grid_dclf.best_estimator_\n",
        "\n",
        "# 모델링\n",
        "gscv_pred = best_dclf.predict(X_test)\n",
        "accuracy = accuracy_score(y_test, gscv_pred)\n",
        "print(f\"테스트셋에서의 DT 정확도 : {accuracy*100:.2f} %\")"
      ],
      "execution_count": 57,
      "outputs": [
        {
          "output_type": "stream",
          "name": "stdout",
          "text": [
            "Grid Search CV 최적 하이퍼 파라미터 : {'max_depth': 3, 'min_samples_leaf': 5, 'min_samples_split': 2}\n",
            "Grid Search CV 최고 정확도 : 79.92 %\n",
            "테스트셋에서의 DT 정확도 : 87.15 %\n"
          ]
        }
      ]
    },
    {
      "cell_type": "markdown",
      "metadata": {
        "id": "Li9NDqePAHUc"
      },
      "source": [
        "* 하이퍼 파라미터 변경 전보다 약 8% 정도 정확도가 향상됐습니다.\n",
        "* 사실, 일반적으로 하이퍼 파라미터를 튜닝하더라도 이 정도 수준으로 증가하기는 매우 어렵습니다.\n",
        "* 테스트용 데이터셋이 작기 때문에 수치상으로 예측 성능이 많이 증가한 것처럼 보이는 겁니다."
      ]
    }
  ]
}