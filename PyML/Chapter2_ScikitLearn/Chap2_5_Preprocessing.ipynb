{
  "nbformat": 4,
  "nbformat_minor": 0,
  "metadata": {
    "colab": {
      "name": "Chap2_5_Preprocessing.ipynb",
      "provenance": [],
      "collapsed_sections": [],
      "toc_visible": true,
      "authorship_tag": "ABX9TyPoeTQYnXIq7p+p8Q4Dl5ZF",
      "include_colab_link": true
    },
    "kernelspec": {
      "name": "python3",
      "display_name": "Python 3"
    },
    "language_info": {
      "name": "python"
    }
  },
  "cells": [
    {
      "cell_type": "markdown",
      "metadata": {
        "id": "view-in-github",
        "colab_type": "text"
      },
      "source": [
        "<a href=\"https://colab.research.google.com/github/PyBlin/Study/blob/main/PyML/Chapter2_ScikitLearn/Chap2_5_Preprocessing.ipynb\" target=\"_parent\"><img src=\"https://colab.research.google.com/assets/colab-badge.svg\" alt=\"Open In Colab\"/></a>"
      ]
    },
    {
      "cell_type": "markdown",
      "metadata": {
        "id": "ZkE9xfXBBUQ1"
      },
      "source": [
        "# 5.데이터 전처리 (Data Preprocessing)\n",
        "\n",
        "* GIGO (Garbage In, Garbage Out)"
      ]
    },
    {
      "cell_type": "markdown",
      "metadata": {
        "id": "4-IaO4x8B518"
      },
      "source": [
        "## 5.1 Data Encoding"
      ]
    },
    {
      "cell_type": "markdown",
      "metadata": {
        "id": "Ge8tnZL5CSqD"
      },
      "source": [
        "### 5.1.1 Label Encoding\n",
        "\n",
        "* 카테고리 피쳐를 코드형 숫자값으로 변환합니다.\n",
        "* 사이킷런의 레이블 인코딩은 LabelEncoder 클래스로 구현합니다.\n",
        "* LabelEncoder를 객체로 생성한 후 `fit()`과 `transform()`을 호출해 레이블 인코딩을 수행합니다."
      ]
    },
    {
      "cell_type": "code",
      "metadata": {
        "colab": {
          "base_uri": "https://localhost:8080/"
        },
        "id": "uy83rpl7CtiU",
        "outputId": "cc4535e8-c066-4b56-f25d-a982ce1a103a"
      },
      "source": [
        "from sklearn.preprocessing import LabelEncoder\n",
        "\n",
        "items = ['TV', '냉장고', '전자렌지', '컴퓨터', \n",
        "         '선풍기', '선풍기', '믹서', '믹서']\n",
        "\n",
        "# LabelEncoder를 객체로 생성한 후 fit()과 transform()으로 레이블 인코딩 수행\n",
        "encoder = LabelEncoder()\n",
        "encoder.fit(items)\n",
        "labels = encoder.transform(items)\n",
        "print(f\"인코딩 반환값 : {labels}\")"
      ],
      "execution_count": 1,
      "outputs": [
        {
          "output_type": "stream",
          "name": "stdout",
          "text": [
            "인코딩 반환값 : [0 1 4 5 3 3 2 2]\n"
          ]
        }
      ]
    },
    {
      "cell_type": "markdown",
      "metadata": {
        "id": "TOlLm8xsDgWa"
      },
      "source": [
        "* TV --> 0\n",
        "* 냉장고 --> 1\n",
        "* 전자렌지 --> 4\n",
        "* 컴퓨터 --> 5\n",
        "* 선풍기 --> 3\n",
        "* 믹서 --> 2\n",
        "    - 문자열이 많은 경우에는 classes_ 속성값으로 확인합니다."
      ]
    },
    {
      "cell_type": "code",
      "metadata": {
        "colab": {
          "base_uri": "https://localhost:8080/"
        },
        "id": "KGci2t50DbpV",
        "outputId": "68188343-84ac-4570-e22c-3c94efbc8c04"
      },
      "source": [
        "print(f\"인코딩 클래스 : {encoder.classes_}\")"
      ],
      "execution_count": 2,
      "outputs": [
        {
          "output_type": "stream",
          "name": "stdout",
          "text": [
            "인코딩 클래스 : ['TV' '냉장고' '믹서' '선풍기' '전자렌지' '컴퓨터']\n"
          ]
        }
      ]
    },
    {
      "cell_type": "code",
      "metadata": {
        "colab": {
          "base_uri": "https://localhost:8080/"
        },
        "id": "An9MGZ0ZD0pM",
        "outputId": "34e38057-2761-41dc-eca5-2cc438b3904a"
      },
      "source": [
        "print(f\"디코딩 원본값 : {encoder.inverse_transform([4, 5, 2, 0, 1, 1, 3, 3])}\")"
      ],
      "execution_count": 3,
      "outputs": [
        {
          "output_type": "stream",
          "name": "stdout",
          "text": [
            "디코딩 원본값 : ['전자렌지' '컴퓨터' '믹서' 'TV' '냉장고' '냉장고' '선풍기' '선풍기']\n"
          ]
        }
      ]
    },
    {
      "cell_type": "markdown",
      "metadata": {
        "id": "tAIVhqMTD6Ff"
      },
      "source": [
        "* `inverse_transform()`을 통해 인코딩된 값을 다시 디코딩할 수 있습니다."
      ]
    },
    {
      "cell_type": "markdown",
      "metadata": {
        "id": "x7hC2SxHEoVz"
      },
      "source": [
        "### 5.1.2 One-Hot Encoding\n",
        "\n",
        "* 레이블 인코딩은 선형 회귀와 같은 알고리즘에는 적용하지 않아야합니다.\n",
        "* 왜냐하면 숫자에 가중치가 부여될 수 있기 때문입니다.\n",
        "* 원-핫 인코딩은 이러한 문제점을 해결해줍니다."
      ]
    },
    {
      "cell_type": "code",
      "metadata": {
        "colab": {
          "base_uri": "https://localhost:8080/"
        },
        "id": "WC93Bk_hEbnL",
        "outputId": "e6f4bb23-37b9-41df-dad4-2c8b2e86089d"
      },
      "source": [
        "# OneHotEncoder 클래스로 쉽게 변환 가능\n",
        "# 변환 전에 : 모든 문자열은 숫자형으로, 입력값은 2차원으로\n",
        "from sklearn.preprocessing import OneHotEncoder, LabelEncoder\n",
        "\n",
        "items = ['TV', '냉장고', '전자렌지', '컴퓨터', \n",
        "         '선풍기', '선풍기', '믹서', '믹서']\n",
        "\n",
        "# 숫자값으로 변환을 위해 LabelEncoder로 변환\n",
        "encoder = LabelEncoder()\n",
        "encoder.fit(items)\n",
        "labels = encoder.transform(items)\n",
        "\n",
        "# 2차원 데이터로 변환\n",
        "labels = labels.reshape(-1, 1)\n",
        "\n",
        "# One-Hot Encoding 적용\n",
        "oh_encoder = OneHotEncoder()\n",
        "oh_encoder.fit(labels)\n",
        "oh_labels = oh_encoder.transform(labels)\n",
        "print(f\"One-Hot Encoding Data : \\n{oh_labels.toarray()}\\n\")\n",
        "print(f\"One-Hot Encoding Data Dimension : \\n{oh_labels.shape}\")"
      ],
      "execution_count": 4,
      "outputs": [
        {
          "output_type": "stream",
          "name": "stdout",
          "text": [
            "One-Hot Encoding Data : \n",
            "[[1. 0. 0. 0. 0. 0.]\n",
            " [0. 1. 0. 0. 0. 0.]\n",
            " [0. 0. 0. 0. 1. 0.]\n",
            " [0. 0. 0. 0. 0. 1.]\n",
            " [0. 0. 0. 1. 0. 0.]\n",
            " [0. 0. 0. 1. 0. 0.]\n",
            " [0. 0. 1. 0. 0. 0.]\n",
            " [0. 0. 1. 0. 0. 0.]]\n",
            "\n",
            "One-Hot Encoding Data Dimension : \n",
            "(8, 6)\n"
          ]
        }
      ]
    },
    {
      "cell_type": "code",
      "metadata": {
        "colab": {
          "base_uri": "https://localhost:8080/",
          "height": 299
        },
        "id": "ASoa4qwiGp7N",
        "outputId": "2573cc0e-5e55-4fb1-86b6-85c34de35883"
      },
      "source": [
        "# pandas One-Hot Encoding : get_dummies()\n",
        "import pandas as pd\n",
        "\n",
        "df = pd.DataFrame({'item':['TV', '냉장고', '전자렌지', '컴퓨터', \n",
        "         '선풍기', '선풍기', '믹서', '믹서']})\n",
        "pd.get_dummies(df)"
      ],
      "execution_count": 5,
      "outputs": [
        {
          "output_type": "execute_result",
          "data": {
            "text/html": [
              "<div>\n",
              "<style scoped>\n",
              "    .dataframe tbody tr th:only-of-type {\n",
              "        vertical-align: middle;\n",
              "    }\n",
              "\n",
              "    .dataframe tbody tr th {\n",
              "        vertical-align: top;\n",
              "    }\n",
              "\n",
              "    .dataframe thead th {\n",
              "        text-align: right;\n",
              "    }\n",
              "</style>\n",
              "<table border=\"1\" class=\"dataframe\">\n",
              "  <thead>\n",
              "    <tr style=\"text-align: right;\">\n",
              "      <th></th>\n",
              "      <th>item_TV</th>\n",
              "      <th>item_냉장고</th>\n",
              "      <th>item_믹서</th>\n",
              "      <th>item_선풍기</th>\n",
              "      <th>item_전자렌지</th>\n",
              "      <th>item_컴퓨터</th>\n",
              "    </tr>\n",
              "  </thead>\n",
              "  <tbody>\n",
              "    <tr>\n",
              "      <th>0</th>\n",
              "      <td>1</td>\n",
              "      <td>0</td>\n",
              "      <td>0</td>\n",
              "      <td>0</td>\n",
              "      <td>0</td>\n",
              "      <td>0</td>\n",
              "    </tr>\n",
              "    <tr>\n",
              "      <th>1</th>\n",
              "      <td>0</td>\n",
              "      <td>1</td>\n",
              "      <td>0</td>\n",
              "      <td>0</td>\n",
              "      <td>0</td>\n",
              "      <td>0</td>\n",
              "    </tr>\n",
              "    <tr>\n",
              "      <th>2</th>\n",
              "      <td>0</td>\n",
              "      <td>0</td>\n",
              "      <td>0</td>\n",
              "      <td>0</td>\n",
              "      <td>1</td>\n",
              "      <td>0</td>\n",
              "    </tr>\n",
              "    <tr>\n",
              "      <th>3</th>\n",
              "      <td>0</td>\n",
              "      <td>0</td>\n",
              "      <td>0</td>\n",
              "      <td>0</td>\n",
              "      <td>0</td>\n",
              "      <td>1</td>\n",
              "    </tr>\n",
              "    <tr>\n",
              "      <th>4</th>\n",
              "      <td>0</td>\n",
              "      <td>0</td>\n",
              "      <td>0</td>\n",
              "      <td>1</td>\n",
              "      <td>0</td>\n",
              "      <td>0</td>\n",
              "    </tr>\n",
              "    <tr>\n",
              "      <th>5</th>\n",
              "      <td>0</td>\n",
              "      <td>0</td>\n",
              "      <td>0</td>\n",
              "      <td>1</td>\n",
              "      <td>0</td>\n",
              "      <td>0</td>\n",
              "    </tr>\n",
              "    <tr>\n",
              "      <th>6</th>\n",
              "      <td>0</td>\n",
              "      <td>0</td>\n",
              "      <td>1</td>\n",
              "      <td>0</td>\n",
              "      <td>0</td>\n",
              "      <td>0</td>\n",
              "    </tr>\n",
              "    <tr>\n",
              "      <th>7</th>\n",
              "      <td>0</td>\n",
              "      <td>0</td>\n",
              "      <td>1</td>\n",
              "      <td>0</td>\n",
              "      <td>0</td>\n",
              "      <td>0</td>\n",
              "    </tr>\n",
              "  </tbody>\n",
              "</table>\n",
              "</div>"
            ],
            "text/plain": [
              "   item_TV  item_냉장고  item_믹서  item_선풍기  item_전자렌지  item_컴퓨터\n",
              "0        1         0        0         0          0         0\n",
              "1        0         1        0         0          0         0\n",
              "2        0         0        0         0          1         0\n",
              "3        0         0        0         0          0         1\n",
              "4        0         0        0         1          0         0\n",
              "5        0         0        0         1          0         0\n",
              "6        0         0        1         0          0         0\n",
              "7        0         0        1         0          0         0"
            ]
          },
          "metadata": {},
          "execution_count": 5
        }
      ]
    },
    {
      "cell_type": "markdown",
      "metadata": {
        "id": "idPC8iQzHEpO"
      },
      "source": [
        "* 판다스에는 One-Hot Encoding을 더 쉽게 지원하는 API가 있습니다.\n",
        "* `get_dummies()`를 이용하면 문자열을 숫자형으로 변환할 필요 없이 바로 가능합니다."
      ]
    },
    {
      "cell_type": "markdown",
      "metadata": {
        "id": "UVBMpt34GY1c"
      },
      "source": [
        "## 5.2 Feature Scaling and Normalization\n",
        "\n",
        "* Feature Scaling : 서로 다른 변수의 값 범위를 일정 수준으로 맞추는 작업입니다.\n",
        "* 대표적으로 표준화(Standardization)와 정규화(Normalization)가 있습니다."
      ]
    },
    {
      "cell_type": "markdown",
      "metadata": {
        "id": "IYYTGlGwHcgA"
      },
      "source": [
        "* 표준화 : 데이터 피처 각각을 평균이 0, 분산이 1인 가우시안 정규 분포를 가진 값으로 변환합니다.\n",
        "    - x[i]_new = (x[i]-mean(x)) / stdev(x)\n",
        "        - x[i]_new : 표준화를 통해 변환될 피처 x의 새로운 i번째 데이터\n",
        "        - x[i] : 원래 피처 x의 값\n",
        "        - mean(x) : 피처 x의 평균\n",
        "        - stdev(x) : 피처 x의 표준편차 (standard deviation)\n",
        "\n",
        "* 정규화 : 서로 다른 피처의 크기를 통일하기 위해 크기를 변환해줍니다. 즉, 개별 데이터의 크기를 모두 똑같은 단위로 변경합니다.\n",
        "    - x[i]_new = (x[i]-min(x)) / (max(x)-min(x))\n",
        "\n",
        "* 사이킷런의 Normalizer 모듈 : 개별 벡터의 크기를 맞추기 위해 변환합니다. 즉, 개별 벡터를 모든 피처 벡터의 크기로 나누어줍니다. (선형대수 개념)\n",
        "    - x[i]_new = x[i] / (sqrt((x[i])^2 + (y[i])^2 + (z[i])^2))\n",
        "\n",
        "* 혼선 방지를 위해 일반적인 의미의 표준화와 정규화를 피처 스케일링으로 통칭하고, 선형대수 개념의 정규화를 벡터 정규화로 지칭합니다."
      ]
    },
    {
      "cell_type": "markdown",
      "metadata": {
        "id": "S2sSFCECJQRy"
      },
      "source": [
        "### 5.2.1 Standard Scaler\n",
        "\n",
        "* 표준화를 쉽게 지원하기 위한 클래스입니다.\n",
        "* 즉, 개별 피처를 평균이 0, 분산이 1인 값으로 변환해줍니다."
      ]
    },
    {
      "cell_type": "code",
      "metadata": {
        "colab": {
          "base_uri": "https://localhost:8080/"
        },
        "id": "CX-9rf1fLD86",
        "outputId": "b7fc2de7-e7e6-40ef-a5ad-03d3104f5435"
      },
      "source": [
        "from sklearn.datasets import load_iris\n",
        "import pandas as pd\n",
        "\n",
        "# 붓꽃 데이터셋을 로딩하고 DataFrame으로 변환\n",
        "iris = load_iris()\n",
        "iris_data = iris.data\n",
        "iris_df = pd.DataFrame(data=iris_data, columns=iris.feature_names)\n",
        "\n",
        "print(f\"feature mean : \\n{iris_df.mean()}\\n\")\n",
        "print(f\"feature variance : \\n{iris_df.var()}\")"
      ],
      "execution_count": 6,
      "outputs": [
        {
          "output_type": "stream",
          "name": "stdout",
          "text": [
            "feature mean : \n",
            "sepal length (cm)    5.843333\n",
            "sepal width (cm)     3.057333\n",
            "petal length (cm)    3.758000\n",
            "petal width (cm)     1.199333\n",
            "dtype: float64\n",
            "\n",
            "feature variance : \n",
            "sepal length (cm)    0.685694\n",
            "sepal width (cm)     0.189979\n",
            "petal length (cm)    3.116278\n",
            "petal width (cm)     0.581006\n",
            "dtype: float64\n"
          ]
        }
      ]
    },
    {
      "cell_type": "code",
      "metadata": {
        "colab": {
          "base_uri": "https://localhost:8080/"
        },
        "id": "gw12fbnNLmxx",
        "outputId": "6fef7eca-4717-4760-fbb8-17b84b971641"
      },
      "source": [
        "from sklearn.preprocessing import StandardScaler\n",
        "\n",
        "# StandardScaler 객체 생성\n",
        "scaler = StandardScaler()\n",
        "\n",
        "# StandardScaler로 데이터셋 변환 : fit(), transform() 호출\n",
        "scaler.fit(iris_df)\n",
        "iris_scaled = scaler.transform(iris_df)\n",
        "\n",
        "# transfrom()에서 변환된 데이터셋이 ndarray로 반환된 것을 DataFrame으로 변환\n",
        "iris_df_scaled = pd.DataFrame(data=iris_scaled, columns=iris.feature_names)\n",
        "print(f\"feature mean : \\n{iris_df_scaled.mean()}\\n\")\n",
        "print(f\"feature variance : \\n{iris_df_scaled.var()}\")"
      ],
      "execution_count": 7,
      "outputs": [
        {
          "output_type": "stream",
          "name": "stdout",
          "text": [
            "feature mean : \n",
            "sepal length (cm)   -1.690315e-15\n",
            "sepal width (cm)    -1.842970e-15\n",
            "petal length (cm)   -1.698641e-15\n",
            "petal width (cm)    -1.409243e-15\n",
            "dtype: float64\n",
            "\n",
            "feature variance : \n",
            "sepal length (cm)    1.006711\n",
            "sepal width (cm)     1.006711\n",
            "petal length (cm)    1.006711\n",
            "petal width (cm)     1.006711\n",
            "dtype: float64\n"
          ]
        }
      ]
    },
    {
      "cell_type": "markdown",
      "metadata": {
        "id": "bnCNRugUNJ5Y"
      },
      "source": [
        "* 모든 컬럼값의 평균이 0, 분산이 1에 가까운 값으로 변환되었습니다."
      ]
    },
    {
      "cell_type": "markdown",
      "metadata": {
        "id": "mCewPbs2NAgZ"
      },
      "source": [
        "### 5.2.2 Min Max Scaler\n",
        "\n",
        "* 데이터값을 0 ~ 1 범위값으로 변환합니다. (음수가 있으면 -1 ~ 1)\n",
        "* 데이터 분포가 가우시안 분포가 아닐 때 적용합니다."
      ]
    },
    {
      "cell_type": "code",
      "metadata": {
        "colab": {
          "base_uri": "https://localhost:8080/"
        },
        "id": "Frj8nIz_Ntyv",
        "outputId": "6c6a8832-36b6-4b76-dc78-d4567990cdd8"
      },
      "source": [
        "from sklearn.datasets import load_iris\n",
        "import pandas as pd\n",
        "\n",
        "# 붓꽃 데이터셋을 로딩하고 DataFrame으로 변환\n",
        "iris = load_iris()\n",
        "iris_data = iris.data\n",
        "iris_df = pd.DataFrame(data=iris_data, columns=iris.feature_names)\n",
        "\n",
        "\n",
        "\n",
        "from sklearn.preprocessing import MinMaxScaler\n",
        "\n",
        "# MinMaxScaler 객체 생성\n",
        "scaler = MinMaxScaler()\n",
        "\n",
        "# MinMaxScaler로 데이터셋 변환 : fit(), transform() 호출\n",
        "scaler.fit(iris_df)\n",
        "iris_scaled = scaler.transform(iris_df)\n",
        "\n",
        "# transfrom()에서 변환된 데이터셋이 ndarray로 반환된 것을 DataFrame으로 변환\n",
        "iris_df_scaled = pd.DataFrame(data=iris_scaled, columns=iris.feature_names)\n",
        "print(f\"feature minimum : \\n{iris_df_scaled.min()}\\n\")\n",
        "print(f\"feature maximum : \\n{iris_df_scaled.max()}\")"
      ],
      "execution_count": 8,
      "outputs": [
        {
          "output_type": "stream",
          "name": "stdout",
          "text": [
            "feature minimum : \n",
            "sepal length (cm)    0.0\n",
            "sepal width (cm)     0.0\n",
            "petal length (cm)    0.0\n",
            "petal width (cm)     0.0\n",
            "dtype: float64\n",
            "\n",
            "feature maximum : \n",
            "sepal length (cm)    1.0\n",
            "sepal width (cm)     1.0\n",
            "petal length (cm)    1.0\n",
            "petal width (cm)     1.0\n",
            "dtype: float64\n"
          ]
        }
      ]
    },
    {
      "cell_type": "markdown",
      "metadata": {
        "id": "C-bAlxbSOYXz"
      },
      "source": [
        "* 모든 컬럼값이 0 ~ 1 범위로 변환되었습니다."
      ]
    },
    {
      "cell_type": "markdown",
      "metadata": {
        "id": "TIAS1EMjOOo3"
      },
      "source": [
        "## 5.3 학습/테스트 데이터의 스케일링 변환 시 유의점\n",
        "\n",
        "* scaler 객체를 이용해 학습 데이터셋으로 `fit()`, `transform()`을 적용하면 테스트 데이터셋으로는 다시 `fit()`을 수행하지 않고 학습 데이터셋으로 `fit()`을 수행한 결과를 이용해 `transform()` 변환을 적용해야 합니다.\n",
        "* 테스트 데이터에 `fit()`을 적용하면 어떤 문제가 생기는지 알아봅시다."
      ]
    },
    {
      "cell_type": "code",
      "metadata": {
        "colab": {
          "base_uri": "https://localhost:8080/"
        },
        "id": "Vp5lyM3dPYtn",
        "outputId": "eb31558e-778f-4200-9378-a2f3b2a1e0eb"
      },
      "source": [
        "from sklearn.preprocessing import MinMaxScaler\n",
        "import numpy as np\n",
        "\n",
        "# 학습 데이터는 0 ~ 10, 테스트 데이터는 0 ~ 5\n",
        "# Scaler 클래스의 fit(), transform()은 2차원 이상의 데이터만 가능\n",
        "train_array = np.arange(11).reshape(-1, 1)\n",
        "test_array = np.arange(6).reshape(-1, 1)\n",
        "print(f\"train_array : \\n{train_array}\\n\")\n",
        "print(f\"test_array : \\n{test_array}\")"
      ],
      "execution_count": 9,
      "outputs": [
        {
          "output_type": "stream",
          "name": "stdout",
          "text": [
            "train_array : \n",
            "[[ 0]\n",
            " [ 1]\n",
            " [ 2]\n",
            " [ 3]\n",
            " [ 4]\n",
            " [ 5]\n",
            " [ 6]\n",
            " [ 7]\n",
            " [ 8]\n",
            " [ 9]\n",
            " [10]]\n",
            "\n",
            "test_array : \n",
            "[[0]\n",
            " [1]\n",
            " [2]\n",
            " [3]\n",
            " [4]\n",
            " [5]]\n"
          ]
        }
      ]
    },
    {
      "cell_type": "markdown",
      "metadata": {
        "id": "83XR47SOQNWl"
      },
      "source": [
        "* 여기에 MinMaxScaler를 이용해 변환해봅시다.\n",
        "* `fit()`을 적용하면 최솟값 0, 최댓값 10, 1/10 Scale이 적용됩니다.\n",
        "* `transform()`을 호출하면 1/10 Scale로 학습 데이터를 변환합니다.\n",
        "* 원본 데이터 : \n",
        "    - 1 --> 0.1\n",
        "    - 2 --> 0.2\n",
        "    - 5 --> 1"
      ]
    },
    {
      "cell_type": "code",
      "metadata": {
        "colab": {
          "base_uri": "https://localhost:8080/"
        },
        "id": "MXHwixBAQC8H",
        "outputId": "1768559f-30ea-4e64-a79f-10735ea260d3"
      },
      "source": [
        "\"\"\"MinMaxScaler 객체에 별도의 feature_range 파라미터값을 지정하지 않으면 \n",
        "0~1 값으로 변환\"\"\"\n",
        "scaler = MinMaxScaler()\n",
        "\n",
        "# fit() --> train_array 최솟값 0, 최댓값 10\n",
        "scaler.fit(train_array)\n",
        "\n",
        "# 1/10 scale로 train_array 데이터 변환\n",
        "train_scaled = scaler.transform(train_array)\n",
        "\n",
        "print(f\"Original train_array data : \\n{np.round(train_array.reshape(-1), 2)}\\n\")\n",
        "print(f\"Scaled train_array data : \\n{np.round(train_scaled.reshape(-1), 2)}\")"
      ],
      "execution_count": 10,
      "outputs": [
        {
          "output_type": "stream",
          "name": "stdout",
          "text": [
            "Original train_array data : \n",
            "[ 0  1  2  3  4  5  6  7  8  9 10]\n",
            "\n",
            "Scaled train_array data : \n",
            "[0.  0.1 0.2 0.3 0.4 0.5 0.6 0.7 0.8 0.9 1. ]\n"
          ]
        }
      ]
    },
    {
      "cell_type": "code",
      "metadata": {
        "colab": {
          "base_uri": "https://localhost:8080/"
        },
        "id": "9b-YjzJuSGl0",
        "outputId": "0c9a696d-85ce-46dc-ec8e-36762a1aa8fa"
      },
      "source": [
        "# 이번에는 테스트 데이터셋을 변환\n",
        "scaler.fit(test_array)  # 최솟값 0, 최댓값 5\n",
        "\n",
        "# 1/5 scale\n",
        "test_scaled = scaler.transform(test_array)\n",
        "\n",
        "print(f\"Original test_array data : \\n{np.round(test_array.reshape(-1), 2)}\\n\")\n",
        "print(f\"Scaled test_array data : \\n{np.round(test_scaled.reshape(-1), 2)}\")"
      ],
      "execution_count": 11,
      "outputs": [
        {
          "output_type": "stream",
          "name": "stdout",
          "text": [
            "Original test_array data : \n",
            "[0 1 2 3 4 5]\n",
            "\n",
            "Scaled test_array data : \n",
            "[0.  0.2 0.4 0.6 0.8 1. ]\n"
          ]
        }
      ]
    },
    {
      "cell_type": "markdown",
      "metadata": {
        "id": "dMG3uq6bS6I3"
      },
      "source": [
        "* 학습 데이터와 테스트 데이터의 스케일링이 맞지 않습니다.\n",
        "    - 학습 데이터 스케일링 : 0, 0.1, 0.2, ... , 1\n",
        "    - 테스트 데이터 스케일링 : 0, 0.2, 0.4, 0.6, 0.8, 1\n",
        "* 이제 정상적으로 적용시켜 봅시다."
      ]
    },
    {
      "cell_type": "code",
      "metadata": {
        "colab": {
          "base_uri": "https://localhost:8080/"
        },
        "id": "M_MmjIKdSp0c",
        "outputId": "18ad4289-2890-44c0-b1ff-2b1dbb79a9ef"
      },
      "source": [
        "scaler = MinMaxScaler()\n",
        "scaler.fit(train_array)\n",
        "train_scaled = scaler.transform(train_array)\n",
        "print(f\"Original train_array data : \\n{np.round(train_array.reshape(-1), 2)}\\n\")\n",
        "print(f\"Scaled train_array data : \\n{np.round(train_scaled.reshape(-1), 2)}\\n\")\n",
        "\n",
        "# test_array에 scale 변환 시 : fit() 호출 금지\n",
        "test_scaled = scaler.transform(test_array)\n",
        "print(f\"Original test_array data : \\n{np.round(test_array.reshape(-1), 2)}\\n\")\n",
        "print(f\"Scaled test_array data : \\n{np.round(test_scaled.reshape(-1), 2)}\")"
      ],
      "execution_count": 12,
      "outputs": [
        {
          "output_type": "stream",
          "name": "stdout",
          "text": [
            "Original train_array data : \n",
            "[ 0  1  2  3  4  5  6  7  8  9 10]\n",
            "\n",
            "Scaled train_array data : \n",
            "[0.  0.1 0.2 0.3 0.4 0.5 0.6 0.7 0.8 0.9 1. ]\n",
            "\n",
            "Original test_array data : \n",
            "[0 1 2 3 4 5]\n",
            "\n",
            "Scaled test_array data : \n",
            "[0.  0.1 0.2 0.3 0.4 0.5]\n"
          ]
        }
      ]
    },
    {
      "cell_type": "markdown",
      "metadata": {
        "id": "ICxOuiXkUWqS"
      },
      "source": [
        "* 학습 데이터와 테스트 데이터 모두 1/10 수준으로 스케일링 되었습니다.\n",
        "* 따라서 모두 동일하게 변환되었습니다.\n",
        "* `fit_transform()`을 적용할 때도 마찬가지입니다. (테스트 데이터에서는 사용 금지)\n",
        "* 이러한 주의 사항이 발생하므로 학습용/테스트용 분리 전에 전체 데이터셋에 스케일링을 적용하는 것이 바람직합니다."
      ]
    }
  ]
}