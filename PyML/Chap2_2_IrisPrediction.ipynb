{
  "nbformat": 4,
  "nbformat_minor": 0,
  "metadata": {
    "colab": {
      "name": "Chap2_2_IrisPrediction.ipynb",
      "provenance": [],
      "collapsed_sections": [],
      "toc_visible": true,
      "authorship_tag": "ABX9TyNxOxdp2Gr8Wlvt0+iXDclH",
      "include_colab_link": true
    },
    "kernelspec": {
      "name": "python3",
      "display_name": "Python 3"
    },
    "language_info": {
      "name": "python"
    }
  },
  "cells": [
    {
      "cell_type": "markdown",
      "metadata": {
        "id": "view-in-github",
        "colab_type": "text"
      },
      "source": [
        "<a href=\"https://colab.research.google.com/github/PyBlin/Study/blob/main/PyML/Chap2_2_IrisPrediction.ipynb\" target=\"_parent\"><img src=\"https://colab.research.google.com/assets/colab-badge.svg\" alt=\"Open In Colab\"/></a>"
      ]
    },
    {
      "cell_type": "markdown",
      "metadata": {
        "id": "lHR5lEgv230V"
      },
      "source": [
        "# 2.붓꽃 품종 예측하기"
      ]
    },
    {
      "cell_type": "code",
      "metadata": {
        "id": "GHhw3pFg3FMI"
      },
      "source": [
        "from sklearn.datasets import load_iris\n",
        "from sklearn.tree import DecisionTreeClassifier\n",
        "from sklearn.model_selection import train_test_split"
      ],
      "execution_count": 1,
      "outputs": []
    },
    {
      "cell_type": "markdown",
      "metadata": {
        "id": "TfyOsfM43vq9"
      },
      "source": [
        "* `sklearn.datasets` : 사이킷런 내에서 자체적으로 제공하는 데이터셋을 생성하는 모듈의 모임입니다.\n",
        "* `sklearn.tree` : Tree 기반 ML 알고리즘을 구현한 클래스의 모임입니다.\n",
        "* `sklearn.model_selection` : 학습/검증/예측 데이터를 분리하거나 최적의 하이퍼 파라미터로 평가하기 위한 다양한 모듈의 모임입니다.\n",
        "* 하이퍼 파라미터 : ML 알고리즘별로 최적의 학습을 위해 직접 입력하는 파라미터들을 통칭하며, 하이퍼 파라미터를 통해 ML 알고리즘의 성능을 튜닝할 수 있습니다.\n",
        "* `load_iris` : 붓꽃 데이터셋을 생성합니다.\n",
        "* `DecisionTreeClassifier` : ML 알고리즘의 의사결정트리를 적용합니다.\n",
        "* `train_test_split` : 학습 데이터와 테스트 데이터로 분리합니다."
      ]
    },
    {
      "cell_type": "code",
      "metadata": {
        "colab": {
          "base_uri": "https://localhost:8080/",
          "height": 257
        },
        "id": "oFDGt5Nw4Yt0",
        "outputId": "9174d961-a944-43b3-a570-d577f79961b6"
      },
      "source": [
        "import pandas as pd\n",
        "\n",
        "# iris data loading\n",
        "iris = load_iris()\n",
        "\n",
        "# iris.data : 붓꽃 데이터셋에서 피처만으로 된 데이터를 numpy로 가지고 있습니다.\n",
        "iris_data = iris.data\n",
        "\n",
        "# iris.target : 붓꽃 데이터셋에서 레이블(결정값) 데이터를 numpy로 가지고 있습니다.\n",
        "iris_label = iris.target\n",
        "print('iris target value : ', iris_label)\n",
        "print('iris target name : ', iris.target_names)\n",
        "\n",
        "# 붓꽃 데이터셋을 자세히 보기 위해 df로 변환합니다.\n",
        "iris_df = pd.DataFrame(data=iris_data, columns=iris.feature_names)\n",
        "iris_df['label'] = iris.target\n",
        "iris_df.head(3)"
      ],
      "execution_count": 2,
      "outputs": [
        {
          "output_type": "stream",
          "name": "stdout",
          "text": [
            "iris target value :  [0 0 0 0 0 0 0 0 0 0 0 0 0 0 0 0 0 0 0 0 0 0 0 0 0 0 0 0 0 0 0 0 0 0 0 0 0\n",
            " 0 0 0 0 0 0 0 0 0 0 0 0 0 1 1 1 1 1 1 1 1 1 1 1 1 1 1 1 1 1 1 1 1 1 1 1 1\n",
            " 1 1 1 1 1 1 1 1 1 1 1 1 1 1 1 1 1 1 1 1 1 1 1 1 1 1 2 2 2 2 2 2 2 2 2 2 2\n",
            " 2 2 2 2 2 2 2 2 2 2 2 2 2 2 2 2 2 2 2 2 2 2 2 2 2 2 2 2 2 2 2 2 2 2 2 2 2\n",
            " 2 2]\n",
            "iris target name :  ['setosa' 'versicolor' 'virginica']\n"
          ]
        },
        {
          "output_type": "execute_result",
          "data": {
            "text/html": [
              "<div>\n",
              "<style scoped>\n",
              "    .dataframe tbody tr th:only-of-type {\n",
              "        vertical-align: middle;\n",
              "    }\n",
              "\n",
              "    .dataframe tbody tr th {\n",
              "        vertical-align: top;\n",
              "    }\n",
              "\n",
              "    .dataframe thead th {\n",
              "        text-align: right;\n",
              "    }\n",
              "</style>\n",
              "<table border=\"1\" class=\"dataframe\">\n",
              "  <thead>\n",
              "    <tr style=\"text-align: right;\">\n",
              "      <th></th>\n",
              "      <th>sepal length (cm)</th>\n",
              "      <th>sepal width (cm)</th>\n",
              "      <th>petal length (cm)</th>\n",
              "      <th>petal width (cm)</th>\n",
              "      <th>label</th>\n",
              "    </tr>\n",
              "  </thead>\n",
              "  <tbody>\n",
              "    <tr>\n",
              "      <th>0</th>\n",
              "      <td>5.1</td>\n",
              "      <td>3.5</td>\n",
              "      <td>1.4</td>\n",
              "      <td>0.2</td>\n",
              "      <td>0</td>\n",
              "    </tr>\n",
              "    <tr>\n",
              "      <th>1</th>\n",
              "      <td>4.9</td>\n",
              "      <td>3.0</td>\n",
              "      <td>1.4</td>\n",
              "      <td>0.2</td>\n",
              "      <td>0</td>\n",
              "    </tr>\n",
              "    <tr>\n",
              "      <th>2</th>\n",
              "      <td>4.7</td>\n",
              "      <td>3.2</td>\n",
              "      <td>1.3</td>\n",
              "      <td>0.2</td>\n",
              "      <td>0</td>\n",
              "    </tr>\n",
              "  </tbody>\n",
              "</table>\n",
              "</div>"
            ],
            "text/plain": [
              "   sepal length (cm)  sepal width (cm)  ...  petal width (cm)  label\n",
              "0                5.1               3.5  ...               0.2      0\n",
              "1                4.9               3.0  ...               0.2      0\n",
              "2                4.7               3.2  ...               0.2      0\n",
              "\n",
              "[3 rows x 5 columns]"
            ]
          },
          "metadata": {},
          "execution_count": 2
        }
      ]
    },
    {
      "cell_type": "markdown",
      "metadata": {
        "id": "7bmuvzxb6o9Y"
      },
      "source": [
        "* 레이블(결정값) : 0(setosa), 1(versicolor), 2(virginica)"
      ]
    },
    {
      "cell_type": "code",
      "metadata": {
        "id": "CxGr3DW16eCU"
      },
      "source": [
        "# 학습용 데이터와 테스트용 데이터 분리\n",
        "# X_train : 학습용 피처 데이터셋\n",
        "# X_test : 테스트용 피처 데이터셋\n",
        "# y_train : 학습용 레이블 데이터셋\n",
        "# y_test : 테스트용 레이블 데이터셋\n",
        "X_train, X_test, y_train, y_test = train_test_split(iris_data, iris_label, \n",
        "                                                    test_size=0.2, \n",
        "                                                    random_state=11)"
      ],
      "execution_count": 3,
      "outputs": []
    },
    {
      "cell_type": "markdown",
      "metadata": {
        "id": "wGliJww-7Z4M"
      },
      "source": [
        "* `iris_data` : 피처 데이터셋입니다.\n",
        "* `iris_label` : 레이블 데이터셋입니다.\n",
        "* `test_size` : 학습 데이터와 테스트 데이터를 비율로 분할합니다.\n",
        "* `random_state` : 호출할 때마다 같은 학습/테스트용 데이터셋을 생성하기 위한 난수 발생값입니다.\n",
        "\n",
        "    * `train_test_split()` 함수는 호출 시 무작위로 데이터를 분리하므로 `random_state`를 지정하지 않으면 수행할 때마다 다른 학습/테스트용 데이터를 만들 수 있습니다. seed와 같은 의미로, 아무 값으로 지정해도 무관합니다."
      ]
    },
    {
      "cell_type": "code",
      "metadata": {
        "colab": {
          "base_uri": "https://localhost:8080/"
        },
        "id": "bUfsItjf8Tzd",
        "outputId": "c1b2a2b3-7e49-492f-e8f2-ab0041bb4ccb"
      },
      "source": [
        "# DecisionTreeClassifier 객체 생성\n",
        "dt_clf = DecisionTreeClassifier(random_state=11)\n",
        "\n",
        "# 학습 수행\n",
        "dt_clf.fit(X_train, y_train)"
      ],
      "execution_count": 4,
      "outputs": [
        {
          "output_type": "execute_result",
          "data": {
            "text/plain": [
              "DecisionTreeClassifier(ccp_alpha=0.0, class_weight=None, criterion='gini',\n",
              "                       max_depth=None, max_features=None, max_leaf_nodes=None,\n",
              "                       min_impurity_decrease=0.0, min_impurity_split=None,\n",
              "                       min_samples_leaf=1, min_samples_split=2,\n",
              "                       min_weight_fraction_leaf=0.0, presort='deprecated',\n",
              "                       random_state=11, splitter='best')"
            ]
          },
          "metadata": {},
          "execution_count": 4
        }
      ]
    },
    {
      "cell_type": "markdown",
      "metadata": {
        "id": "ggt8vIee9GEa"
      },
      "source": [
        "* `fit(학습용 피처셋, 학습용 레이블셋)` : 학습을 수행합니다."
      ]
    },
    {
      "cell_type": "code",
      "metadata": {
        "id": "m5PDM34m9FUU"
      },
      "source": [
        "# 테스트용 피처 데이터셋으로 예측 수행\n",
        "pred = dt_clf.predict(X_test)"
      ],
      "execution_count": 5,
      "outputs": []
    },
    {
      "cell_type": "code",
      "metadata": {
        "colab": {
          "base_uri": "https://localhost:8080/"
        },
        "id": "eLlGr5fV-Mtk",
        "outputId": "a94908ab-122f-437f-bb04-60f580644211"
      },
      "source": [
        "# 여러 가지 ML 모델 성능 평가 방법 중 정확도를 측정\n",
        "from sklearn.metrics import accuracy_score\n",
        "\n",
        "print(f'예측 정확도 : {accuracy_score(y_test, pred):.4f}')"
      ],
      "execution_count": 6,
      "outputs": [
        {
          "output_type": "stream",
          "name": "stdout",
          "text": [
            "예측 정확도 : 0.9333\n"
          ]
        }
      ]
    },
    {
      "cell_type": "markdown",
      "metadata": {
        "id": "UZVU0Fzn-uNE"
      },
      "source": [
        "* `accuracy_score(실제 레이블셋, 예측 레이블셋)` : 정확도를 예측합니다."
      ]
    }
  ]
}