{
  "nbformat": 4,
  "nbformat_minor": 0,
  "metadata": {
    "colab": {
      "name": "Chap3_2_ConfusionMatrix.ipynb",
      "provenance": [],
      "collapsed_sections": [],
      "toc_visible": true,
      "authorship_tag": "ABX9TyO+Kj+AnUP+K3Mar+SaFFLZ",
      "include_colab_link": true
    },
    "kernelspec": {
      "name": "python3",
      "display_name": "Python 3"
    },
    "language_info": {
      "name": "python"
    }
  },
  "cells": [
    {
      "cell_type": "markdown",
      "metadata": {
        "id": "view-in-github",
        "colab_type": "text"
      },
      "source": [
        "<a href=\"https://colab.research.google.com/github/PyBlin/Study/blob/main/PyML/Chapter3_Evaluation/Chap3_2_ConfusionMatrix.ipynb\" target=\"_parent\"><img src=\"https://colab.research.google.com/assets/colab-badge.svg\" alt=\"Open In Colab\"/></a>"
      ]
    },
    {
      "cell_type": "markdown",
      "metadata": {
        "id": "o-PqXWCM_yFa"
      },
      "source": [
        "# 2.Confusion Matrix"
      ]
    },
    {
      "cell_type": "markdown",
      "metadata": {
        "id": "4KnBf6HS_U0c"
      },
      "source": [
        "* 오차행렬(혼동행렬)은 학습된 분류 모델이 예측하면서 얼마나 헷갈리는지도 함께 보여줍니다.\n",
        ">* TN( True Negative ) | FP( False Positive )\n",
        ">* FN( False Negative) | TP( True Positive)\n",
        "\n",
        "* 정확도 예제에서 다룬 MyFakeClassifier의 예측 성능 지표를 오차 행렬로 표현해봅시다."
      ]
    },
    {
      "cell_type": "code",
      "metadata": {
        "id": "BoIeQzta__DF"
      },
      "source": [
        "from sklearn.datasets import load_digits\n",
        "from sklearn.model_selection import train_test_split\n",
        "from sklearn.base import BaseEstimator\n",
        "from sklearn.metrics import accuracy_score\n",
        "import numpy as np\n",
        "import pandas as pd\n",
        "\n",
        "class MyFakeClassifier(BaseEstimator):\n",
        "    def fit(self, X, y):\n",
        "        pass\n",
        "\n",
        "    # 입력으로 들어오는 X 데이터셋의 크기만큼 모두 0값으로 변환\n",
        "    def predict(self, X):\n",
        "        return np.zeros((len(X), 1), dtype=bool)\n",
        "\n",
        "# 사이킷런 내장 데이터셋을 이용해 MNIST 데이터 로딩\n",
        "digits = load_digits()\n",
        "\n",
        "# digits '7'이면 True, astype(int) --> 1, 나머지 0\n",
        "y = (digits.target==7).astype(int)\n",
        "X_train, X_test, y_train, y_test = train_test_split(digits.data, y, \n",
        "                                                    random_state=11)\n",
        "\n",
        "# Dummy Classifier로 학습/예측/정확도 평가\n",
        "fakeclf = MyFakeClassifier()\n",
        "fakeclf.fit(X_train, y_train)\n",
        "fakepred = fakeclf.predict(X_test)"
      ],
      "execution_count": 1,
      "outputs": []
    },
    {
      "cell_type": "code",
      "metadata": {
        "colab": {
          "base_uri": "https://localhost:8080/"
        },
        "id": "tuGN3Lad-xkE",
        "outputId": "c1c6636d-532c-4a4d-a3f5-c82643d8f337"
      },
      "source": [
        "from sklearn.metrics import confusion_matrix\n",
        "\n",
        "confusion_matrix(y_test, fakepred)"
      ],
      "execution_count": 2,
      "outputs": [
        {
          "output_type": "execute_result",
          "data": {
            "text/plain": [
              "array([[405,   0],\n",
              "       [ 45,   0]])"
            ]
          },
          "metadata": {},
          "execution_count": 2
        }
      ]
    },
    {
      "cell_type": "markdown",
      "metadata": {
        "id": "WgVza6TXAo7h"
      },
      "source": [
        "* TN = array[0, 0] = 405\n",
        ">* 전체 405건 데이터 중 무조건 Negative 0으로 예측해서 True가 된 결과 405건\n",
        "\n",
        "* FP = array[0, 1] = 0\n",
        ">* Positive 1로 예측한 건수는 없으므로 0건\n",
        "\n",
        "* FN = array[1, 0] = 45\n",
        ">* Positive 1인 건수 45건을 Negative로 예측해서 False가 된 결과 45건\n",
        "\n",
        "* TP = array[1, 1] = 0\n",
        ">* Positive 1로 예측한 건수는 없으므로 0건"
      ]
    },
    {
      "cell_type": "markdown",
      "metadata": {
        "id": "PqEtJZW6A9LT"
      },
      "source": [
        "* 위 값을 조합해 정확도(Accuracy), 정밀도(Precision), 재현율(Recall) 값을 알 수 있습니다.\n",
        "* 오차(혼동)행렬에서 정확도는 다음과 같습니다.\n",
        ">* acc = (TN + TP) / (TN + FP + FN + TP)"
      ]
    },
    {
      "cell_type": "markdown",
      "metadata": {
        "id": "gyb-6e_8Dosg"
      },
      "source": [
        "* 불균형한 이진 분류 데이터셋에서는 Positive 데이터 건수가 매우 적기 때문에 데이터에 기반한 ML 알고리즘은 Negative로 예측 정확도가 높아지는 경향이 발생합니다.\n",
        "* 그래서 TN은 매우 커지고 TP는 매우 작아지게 됩니다.\n",
        "* 또한, FN이 매우 작아지고 FP 역시 매우 작아집니다.\n",
        "* 결과적으로, Negative에 대한 예측 정확도만으로도 분류의 정확도가 높게 나타나는 수치적 판단 오류가 발생합니다."
      ]
    }
  ]
}