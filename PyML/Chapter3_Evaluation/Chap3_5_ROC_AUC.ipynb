{
  "nbformat": 4,
  "nbformat_minor": 0,
  "metadata": {
    "colab": {
      "name": "Chap3_5_ROC_AUC.ipynb",
      "provenance": [],
      "collapsed_sections": [],
      "authorship_tag": "ABX9TyP9URtSufgIuIP9kR5QqCSV",
      "include_colab_link": true
    },
    "kernelspec": {
      "name": "python3",
      "display_name": "Python 3"
    },
    "language_info": {
      "name": "python"
    }
  },
  "cells": [
    {
      "cell_type": "markdown",
      "metadata": {
        "id": "view-in-github",
        "colab_type": "text"
      },
      "source": [
        "<a href=\"https://colab.research.google.com/github/PyBlin/Study/blob/main/PyML/Chapter3_Evaluation/Chap3_5_ROC_AUC.ipynb\" target=\"_parent\"><img src=\"https://colab.research.google.com/assets/colab-badge.svg\" alt=\"Open In Colab\"/></a>"
      ]
    },
    {
      "cell_type": "markdown",
      "metadata": {
        "id": "PTePyZFL6kwp"
      },
      "source": [
        "# 5.ROC Curve & AUC\n",
        "\n",
        "* ROC( Receiver Operation Characteristic ) Curve : 수신자 판단 곡선\n",
        "* X축 : FPR( False Positive Rate )\n",
        ">* FPR = FP / (FP + TN)\n",
        "* Y축 : TPR( True Positive Rate ) --> Recall or Sensitivity\n",
        "* Sensitivity(민감도) vs Specificity(특이성)\n",
        ">* 민감도(TPR) : 실제 Positive가 정확히 예측돼야 하는 수준\n",
        ">>* 질병이 있는 사람은 질병이 있는 것으로 양성 판정\n",
        ">* 특이성(TNR) : 실제 Negative가 정확히 예측돼야 하는 수준\n",
        ">>* TNR = TN / (FP + TN)\n",
        ">>* FPR = 1 - TNR"
      ]
    },
    {
      "cell_type": "markdown",
      "metadata": {
        "id": "MX6p_YHn8Qb9"
      },
      "source": [
        "* ROC 곡선은 FPR을 0부터 1까지 변경하면서 TPR의 변화값을 구합니다.\n",
        ">* 임계값=1 --> FPR=0\n",
        ">* 임계값=0 --> FPR=1"
      ]
    },
    {
      "cell_type": "code",
      "metadata": {
        "id": "RXgq-AXV9q0d"
      },
      "source": [
        "# transform_features() 생성\n",
        "\n",
        "from sklearn.preprocessing import LabelEncoder\n",
        "\n",
        "# Null 처리 함수\n",
        "def titanic_fillna(df):\n",
        "    df['Age'].fillna(df['Age'].mean(), inplace=True)\n",
        "    df['Cabin'].fillna('N', inplace=True)\n",
        "    df['Embarked'].fillna('N', inplace=True)\n",
        "    df['Fare'].fillna(0, inplace=True)\n",
        "    return df\n",
        "\n",
        "# ML 알고리즘에 불필요한 속성 제거\n",
        "def titanic_drop(df):\n",
        "    df.drop(['PassengerId', 'Name', 'Ticket'], axis=1, inplace=True)\n",
        "    return df\n",
        "\n",
        "# label encoding\n",
        "def titanic_le(df):\n",
        "    df['Cabin'] = df['Cabin'].str[:1]\n",
        "    features = ['Cabin', 'Sex', 'Embarked']\n",
        "    for feature in features:\n",
        "        le = LabelEncoder()\n",
        "        le = le.fit(df[feature])\n",
        "        df[feature] = le.transform(df[feature])\n",
        "    return df\n",
        "\n",
        "# 위에서 설정한 데이터 전처리 함수 종합\n",
        "def transform_features(df):\n",
        "    df = titanic_fillna(df)\n",
        "    df = titanic_drop(df)\n",
        "    df = titanic_le(df)\n",
        "    return df"
      ],
      "execution_count": 1,
      "outputs": []
    },
    {
      "cell_type": "code",
      "metadata": {
        "id": "mWqtEYlt926F"
      },
      "source": [
        "import pandas as pd\n",
        "import warnings\n",
        "warnings.filterwarnings('ignore')\n",
        "from sklearn.model_selection import train_test_split\n",
        "from sklearn.linear_model import LogisticRegression\n",
        "\n",
        "# 원본 데이터 로딩, 데이터 가공, 학습/테스트 데이터 분할\n",
        "titanic_df = pd.read_csv('./train.csv')\n",
        "y_titanic_df = titanic_df['Survived']\n",
        "X_titanic_df = titanic_df.drop('Survived', axis=1)\n",
        "\n",
        "# transform_features() 설정 필요\n",
        "X_titanic_df = transform_features(X_titanic_df)\n",
        "X_train, X_test, y_train, y_test = train_test_split(X_titanic_df, y_titanic_df, \n",
        "                                                    test_size=0.2, \n",
        "                                                    random_state=11)\n",
        "\n",
        "lr_clf = LogisticRegression()\n",
        "lr_clf.fit(X_train, y_train)\n",
        "pred = lr_clf.predict(X_test)\n",
        "\n",
        "pred_proba = lr_clf.predict_proba(X_test)"
      ],
      "execution_count": 2,
      "outputs": []
    },
    {
      "cell_type": "markdown",
      "metadata": {
        "id": "1gw8AQsz9831"
      },
      "source": [
        "* `roc_curve()` API를 이용해 FPR, TPR, 임계값을 구해봅시다!"
      ]
    },
    {
      "cell_type": "code",
      "metadata": {
        "colab": {
          "base_uri": "https://localhost:8080/"
        },
        "id": "iLIJXuc79578",
        "outputId": "4c9bcfdd-d7b7-48fa-d78f-bb720d16baca"
      },
      "source": [
        "from sklearn.metrics import roc_curve\n",
        "import numpy as np\n",
        "\n",
        "# 레이블 값이 1일 때의 예측 확률\n",
        "pred_proba_class1 = lr_clf.predict_proba(X_test)[:, 1]\n",
        "\n",
        "fprs, tprs, thresholds = roc_curve(y_test, pred_proba_class1)\n",
        "# 반환된 임계값 배열에서 샘플로 데이터를 추출하되 5 Step으로 추출\n",
        "# thresholds[0]은 max(예측확률)+1로 임의 설정되므로, \n",
        "# 이를 제외하기 위해 np.arange는 1부터 시작\n",
        "thr_index = np.arange(1, thresholds.shape[0], 5)\n",
        "print(f\"샘플 추출을 위한 임계값 배열의 인덱스 : {thr_index}\")\n",
        "print(f\"샘플 인덱스로 추출한 임계값 : {np.round(thresholds[thr_index], 2)}\")\n",
        "\n",
        "# 5 Step 단위로 추출된 임계값에 따른 FPR, TPR 값\n",
        "print(f\"\\n샘플 임계값별 FPR : {np.round(fprs[thr_index], 3)}\")\n",
        "print(f\"샘플 임계값별 TPR : {np.round(tprs[thr_index], 3)}\")"
      ],
      "execution_count": 3,
      "outputs": [
        {
          "output_type": "stream",
          "name": "stdout",
          "text": [
            "샘플 추출을 위한 임계값 배열의 인덱스 : [ 1  6 11 16 21 26 31 36 41 46 51]\n",
            "샘플 인덱스로 추출한 임계값 : [0.97 0.65 0.63 0.56 0.45 0.4  0.35 0.15 0.13 0.11 0.11]\n",
            "\n",
            "샘플 임계값별 FPR : [0.    0.017 0.034 0.076 0.127 0.169 0.203 0.466 0.585 0.686 0.797]\n",
            "샘플 임계값별 TPR : [0.033 0.639 0.721 0.754 0.803 0.836 0.885 0.902 0.934 0.967 0.984]\n"
          ]
        }
      ]
    },
    {
      "cell_type": "markdown",
      "metadata": {
        "id": "xgxFDQid_key"
      },
      "source": [
        "* 임계값이 1부터 점점 작아지면서 FPR이 점점 커집니다.\n",
        "* FPR이 조금씩 커질 때 TPR은 가파르게 커집니다.\n",
        "* 이제 시각화로 표현해 봅시다!"
      ]
    },
    {
      "cell_type": "code",
      "metadata": {
        "colab": {
          "base_uri": "https://localhost:8080/",
          "height": 283
        },
        "id": "3KKUMFAq_97J",
        "outputId": "863c6685-381a-4a31-be17-357c6869f638"
      },
      "source": [
        "import matplotlib.pyplot as plt\n",
        "import matplotlib.ticker as ticker\n",
        "%matplotlib inline\n",
        "\n",
        "def roc_curve_plot(y_test, pred_proba_c1):\n",
        "    # 임계값에 따른 FPR, TPR 값을 반환\n",
        "    fprs, tprs, thresholds = roc_curve(y_test, pred_proba_c1)\n",
        "    \n",
        "    # ROC 곡선\n",
        "    plt.plot(fprs, tprs, label='ROC')\n",
        "\n",
        "    # 가운데 대각선 직선\n",
        "    plt.plot([0, 1], [0, 1], 'k--', label='Random')\n",
        "\n",
        "    # FPR X축의 스케일을 0.1 단위로 변경 및 축 이름 설정\n",
        "    start, end = plt.xlim()\n",
        "    plt.xticks(np.round(np.arange(start, end, 0.1), 2))\n",
        "    plt.xlim(0, 1)\n",
        "    plt.ylim(0, 1)\n",
        "    plt.xlabel('FPR( 1 - Sensitivity )')\n",
        "    plt.ylabel('TPR( Recall )')\n",
        "    plt.legend()\n",
        "\n",
        "roc_curve_plot(y_test, pred_proba[:, 1])"
      ],
      "execution_count": 4,
      "outputs": [
        {
          "output_type": "display_data",
          "data": {
            "image/png": "[encoded data removed]",
            "text/plain": [
              "<Figure size 432x288 with 1 Axes>"
            ]
          },
          "metadata": {
            "needs_background": "light"
          }
        }
      ]
    },
    {
      "cell_type": "markdown",
      "metadata": {
        "id": "wtESWiNmBP-F"
      },
      "source": [
        "* ROC 곡선 자체는 FPR, TPR의 변화를 보는 용도입니다.\n",
        "* 분류의 성능 지표로 사용되는 것은 AUC 입니다.\n",
        ">* Area Under Curve\n",
        ">* ROC 곡선 밑의 면적으로 1에 가까울 수록 좋습니다.\n",
        ">* AUC를 높이려면 FPR이 작을 때 TPR을 크게 얻어야 합니다.\n",
        ">* 가운데 직선은 랜덤 수준의 이진 분류 AUC 값으로 0.5 입니다.\n",
        ">* 따라서 보통의 분류는 0.5 이상의 AUC 값입니다."
      ]
    },
    {
      "cell_type": "code",
      "metadata": {
        "colab": {
          "base_uri": "https://localhost:8080/"
        },
        "id": "zgrlB2MHCBQx",
        "outputId": "8281fd69-d04d-4a11-e9b2-95d723c3867f"
      },
      "source": [
        "from sklearn.metrics import roc_auc_score\n",
        "\n",
        "pred_proba = lr_clf.predict_proba(X_test)[:, 1]\n",
        "roc_score = roc_auc_score(y_test, pred_proba)\n",
        "print(f\"ROC AUC value : {roc_score:.4f}\")"
      ],
      "execution_count": 5,
      "outputs": [
        {
          "output_type": "stream",
          "name": "stdout",
          "text": [
            "ROC AUC value : 0.9024\n"
          ]
        }
      ]
    },
    {
      "cell_type": "markdown",
      "metadata": {
        "id": "QrhX51aMCVA7"
      },
      "source": [
        "* 타이타닉 생존자 예측 Logistic Regression 모델의 AUC 값은 0.9024 입니다.\n",
        "* 이제 `get_clf_eval()`에 `roc_auc_score()`를 추가해 봅시다!\n",
        "* AUC는 예측 확률값을 기반으로 계산되므로\n",
        ">* `get_clf_eval(y_test, pred=None, pred_proba=None)`로 변경합니다."
      ]
    },
    {
      "cell_type": "code",
      "metadata": {
        "id": "R0-UOM16Cvpy"
      },
      "source": [
        "# 평가를 한번에 호출하는 get_clf_eval() 함수 생성\n",
        "from sklearn.metrics import accuracy_score, precision_score, recall_score, \\\n",
        "confusion_matrix\n",
        "\n",
        "def get_clf_eval(y_test, pred=None, pred_proba=None):\n",
        "    confusion = confusion_matrix(y_test, pred)\n",
        "    acc = accuracy_score(y_test, pred)\n",
        "    precision = precision_score(y_test, pred)\n",
        "    recall = recall_score(y_test, pred)\n",
        "    f1 = f1_score(y_test, pred)\n",
        "\n",
        "    # ROC AUC 추가\n",
        "    roc_auc = roc_auc_score(y_test, pred_proba)\n",
        "\n",
        "    print(f\"Confusion Matrix : \\n{confusion}\")\n",
        "    print(f\"\\nAccuracy  : {acc:.4f}\")\n",
        "    print(f\"Precision : {precision:.4f}\")\n",
        "    print(f\"Recall    : {recall:.4f}\")\n",
        "    print(f\"F1 Score  : {f1:.4f}\")\n",
        "    print(f\"ROC AUC   : {roc_auc:.4f}\")"
      ],
      "execution_count": 6,
      "outputs": []
    },
    {
      "cell_type": "code",
      "metadata": {
        "colab": {
          "base_uri": "https://localhost:8080/",
          "height": 216
        },
        "id": "jVofVof1D0Hy",
        "outputId": "fc1dce4c-1669-490c-b3ac-a4e39ef6ce0f"
      },
      "source": [
        "from sklearn.preprocessing import Binarizer\n",
        "\n",
        "thresholds = [0.4, 0.45, 0.5, 0.55, 0.6]\n",
        "\n",
        "def get_eval_by_threshold(y_test, pred_proba_c1, thresholds):\n",
        "    # thresholds list 객체 내의 값을 차례로 반복하면서 평가 수행\n",
        "    for custom_threshold in thresholds:\n",
        "        binarizer = Binarizer(threshold=custom_threshold).fit(pred_proba_c1)\n",
        "        custom_predict = binarizer.transform(pred_proba_c1)\n",
        "        print('-'*30)\n",
        "        print(f\"임계값 : {custom_threshold}\")\n",
        "        get_clf_eval(y_test, custom_predict)\n",
        "\n",
        "get_eval_by_threshold(y_test, pred_proba[:, 1].reshape(-1, 1), thresholds)"
      ],
      "execution_count": 7,
      "outputs": [
        {
          "output_type": "error",
          "ename": "IndexError",
          "evalue": "ignored",
          "traceback": [
            "\u001b[0;31m---------------------------------------------------------------------------\u001b[0m",
            "\u001b[0;31mIndexError\u001b[0m                                Traceback (most recent call last)",
            "\u001b[0;32m<ipython-input-7-bd1e6ad03c70>\u001b[0m in \u001b[0;36m<module>\u001b[0;34m()\u001b[0m\n\u001b[1;32m     12\u001b[0m         \u001b[0mget_clf_eval\u001b[0m\u001b[0;34m(\u001b[0m\u001b[0my_test\u001b[0m\u001b[0;34m,\u001b[0m \u001b[0mcustom_predict\u001b[0m\u001b[0;34m)\u001b[0m\u001b[0;34m\u001b[0m\u001b[0;34m\u001b[0m\u001b[0m\n\u001b[1;32m     13\u001b[0m \u001b[0;34m\u001b[0m\u001b[0m\n\u001b[0;32m---> 14\u001b[0;31m \u001b[0mget_eval_by_threshold\u001b[0m\u001b[0;34m(\u001b[0m\u001b[0my_test\u001b[0m\u001b[0;34m,\u001b[0m \u001b[0mpred_proba\u001b[0m\u001b[0;34m[\u001b[0m\u001b[0;34m:\u001b[0m\u001b[0;34m,\u001b[0m \u001b[0;36m1\u001b[0m\u001b[0;34m]\u001b[0m\u001b[0;34m.\u001b[0m\u001b[0mreshape\u001b[0m\u001b[0;34m(\u001b[0m\u001b[0;34m-\u001b[0m\u001b[0;36m1\u001b[0m\u001b[0;34m,\u001b[0m \u001b[0;36m1\u001b[0m\u001b[0;34m)\u001b[0m\u001b[0;34m,\u001b[0m \u001b[0mthresholds\u001b[0m\u001b[0;34m)\u001b[0m\u001b[0;34m\u001b[0m\u001b[0;34m\u001b[0m\u001b[0m\n\u001b[0m",
            "\u001b[0;31mIndexError\u001b[0m: too many indices for array: array is 1-dimensional, but 2 were indexed"
          ]
        }
      ]
    }
  ]
}