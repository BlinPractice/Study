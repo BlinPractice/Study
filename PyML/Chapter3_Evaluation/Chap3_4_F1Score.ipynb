{
  "nbformat": 4,
  "nbformat_minor": 0,
  "metadata": {
    "colab": {
      "name": "Chap3_4_F1Score.ipynb",
      "provenance": [],
      "collapsed_sections": [],
      "authorship_tag": "ABX9TyO+vrBc/gZqK/Tzh6mV5Wap",
      "include_colab_link": true
    },
    "kernelspec": {
      "name": "python3",
      "display_name": "Python 3"
    },
    "language_info": {
      "name": "python"
    }
  },
  "cells": [
    {
      "cell_type": "markdown",
      "metadata": {
        "id": "view-in-github",
        "colab_type": "text"
      },
      "source": [
        "<a href=\"https://colab.research.google.com/github/PyBlin/Study/blob/main/PyML/Chapter3_Evaluation/Chap3_4_F1Score.ipynb\" target=\"_parent\"><img src=\"https://colab.research.google.com/assets/colab-badge.svg\" alt=\"Open In Colab\"/></a>"
      ]
    },
    {
      "cell_type": "markdown",
      "metadata": {
        "id": "R1B_WGuZ2o1L"
      },
      "source": [
        "F1 스코어는 정밀도와 재현율을 결합한 지표입니다.\n",
        "* F1 = 2 / {(1/precision) + (1/recall)}\n",
        "* F1 = 2 * precision * recall / (precision + recall)\n",
        "* f1_score() API를 이용해 F1 스코어를 구해봅시다!"
      ]
    },
    {
      "cell_type": "code",
      "metadata": {
        "id": "q6tU3-Rb3-7x"
      },
      "source": [
        "# transform_features() 생성\n",
        "\n",
        "from sklearn.preprocessing import LabelEncoder\n",
        "\n",
        "# Null 처리 함수\n",
        "def titanic_fillna(df):\n",
        "    df['Age'].fillna(df['Age'].mean(), inplace=True)\n",
        "    df['Cabin'].fillna('N', inplace=True)\n",
        "    df['Embarked'].fillna('N', inplace=True)\n",
        "    df['Fare'].fillna(0, inplace=True)\n",
        "    return df\n",
        "\n",
        "# ML 알고리즘에 불필요한 속성 제거\n",
        "def titanic_drop(df):\n",
        "    df.drop(['PassengerId', 'Name', 'Ticket'], axis=1, inplace=True)\n",
        "    return df\n",
        "\n",
        "# label encoding\n",
        "def titanic_le(df):\n",
        "    df['Cabin'] = df['Cabin'].str[:1]\n",
        "    features = ['Cabin', 'Sex', 'Embarked']\n",
        "    for feature in features:\n",
        "        le = LabelEncoder()\n",
        "        le = le.fit(df[feature])\n",
        "        df[feature] = le.transform(df[feature])\n",
        "    return df\n",
        "\n",
        "# 위에서 설정한 데이터 전처리 함수 종합\n",
        "def transform_features(df):\n",
        "    df = titanic_fillna(df)\n",
        "    df = titanic_drop(df)\n",
        "    df = titanic_le(df)\n",
        "    return df"
      ],
      "execution_count": 1,
      "outputs": []
    },
    {
      "cell_type": "code",
      "metadata": {
        "id": "dOnJj_Ef3whG"
      },
      "source": [
        "import pandas as pd\n",
        "import warnings\n",
        "warnings.filterwarnings('ignore')\n",
        "from sklearn.model_selection import train_test_split\n",
        "from sklearn.linear_model import LogisticRegression\n",
        "\n",
        "# 원본 데이터 로딩, 데이터 가공, 학습/테스트 데이터 분할\n",
        "titanic_df = pd.read_csv('./train.csv')\n",
        "y_titanic_df = titanic_df['Survived']\n",
        "X_titanic_df = titanic_df.drop('Survived', axis=1)\n",
        "\n",
        "# transform_features() 설정 필요\n",
        "X_titanic_df = transform_features(X_titanic_df)\n",
        "X_train, X_test, y_train, y_test = train_test_split(X_titanic_df, y_titanic_df, \n",
        "                                                    test_size=0.2, \n",
        "                                                    random_state=11)\n",
        "\n",
        "lr_clf = LogisticRegression()\n",
        "lr_clf.fit(X_train, y_train)\n",
        "pred = lr_clf.predict(X_test)\n",
        "\n",
        "pred_proba = lr_clf.predict_proba(X_test)"
      ],
      "execution_count": 2,
      "outputs": []
    },
    {
      "cell_type": "code",
      "metadata": {
        "colab": {
          "base_uri": "https://localhost:8080/"
        },
        "id": "JHJ0ZUYZ3Ldj",
        "outputId": "9e512f05-ea2b-491e-e379-1f702a038214"
      },
      "source": [
        "from sklearn.metrics import f1_score\n",
        "\n",
        "f1 = f1_score(y_test, pred)\n",
        "print(f\"F1 Score : {f1:.4f}\")"
      ],
      "execution_count": 3,
      "outputs": [
        {
          "output_type": "stream",
          "name": "stdout",
          "text": [
            "F1 Score : 0.7805\n"
          ]
        }
      ]
    },
    {
      "cell_type": "markdown",
      "metadata": {
        "id": "oT0bAaCM4Wu-"
      },
      "source": [
        "* 이번에는 임계값을 변화시키면서 F1 스코어를 포함한 평가 지표를 구해봅시다!"
      ]
    },
    {
      "cell_type": "code",
      "metadata": {
        "id": "97ia5C874Kot"
      },
      "source": [
        "# 평가를 한번에 호출하는 get_clf_eval() 함수 생성\n",
        "from sklearn.metrics import accuracy_score, precision_score, recall_score, \\\n",
        "confusion_matrix\n",
        "\n",
        "def get_clf_eval(y_test, pred):\n",
        "    confusion = confusion_matrix(y_test, pred)\n",
        "    acc = accuracy_score(y_test, pred)\n",
        "    precision = precision_score(y_test, pred)\n",
        "    recall = recall_score(y_test, pred)\n",
        "\n",
        "    # F1 스코어 추가\n",
        "    f1 = f1_score(y_test, pred)\n",
        "\n",
        "    print(f\"Confusion Matrix : \\n{confusion}\")\n",
        "    print(f\"\\nAccuracy  : {acc:.4f}\")\n",
        "    print(f\"Precision : {precision:.4f}\")\n",
        "    print(f\"Recall    : {recall:.4f}\")\n",
        "    print(f\"F1 Score  : {f1:.4f}\")"
      ],
      "execution_count": 4,
      "outputs": []
    },
    {
      "cell_type": "code",
      "metadata": {
        "colab": {
          "base_uri": "https://localhost:8080/"
        },
        "id": "ZGHAQs4w4nn2",
        "outputId": "3ce98b02-0026-45a7-ade4-284316519ead"
      },
      "source": [
        "from sklearn.preprocessing import Binarizer\n",
        "\n",
        "thresholds = [0.4, 0.45, 0.5, 0.55, 0.6]\n",
        "\n",
        "def get_eval_by_threshold(y_test, pred_proba_c1, thresholds):\n",
        "    # thresholds list 객체 내의 값을 차례로 반복하면서 평가 수행\n",
        "    for custom_threshold in thresholds:\n",
        "        binarizer = Binarizer(threshold=custom_threshold).fit(pred_proba_c1)\n",
        "        custom_predict = binarizer.transform(pred_proba_c1)\n",
        "        print('-'*30)\n",
        "        print(f\"임계값 : {custom_threshold}\")\n",
        "        get_clf_eval(y_test, custom_predict)\n",
        "\n",
        "get_eval_by_threshold(y_test, pred_proba[:, 1].reshape(-1, 1), thresholds)"
      ],
      "execution_count": 5,
      "outputs": [
        {
          "output_type": "stream",
          "name": "stdout",
          "text": [
            "------------------------------\n",
            "임계값 : 0.4\n",
            "Confusion Matrix : \n",
            "[[98 20]\n",
            " [10 51]]\n",
            "\n",
            "Accuracy  : 0.8324\n",
            "Precision : 0.7183\n",
            "Recall    : 0.8361\n",
            "F1 Score  : 0.7727\n",
            "------------------------------\n",
            "임계값 : 0.45\n",
            "Confusion Matrix : \n",
            "[[103  15]\n",
            " [ 12  49]]\n",
            "\n",
            "Accuracy  : 0.8492\n",
            "Precision : 0.7656\n",
            "Recall    : 0.8033\n",
            "F1 Score  : 0.7840\n",
            "------------------------------\n",
            "임계값 : 0.5\n",
            "Confusion Matrix : \n",
            "[[104  14]\n",
            " [ 13  48]]\n",
            "\n",
            "Accuracy  : 0.8492\n",
            "Precision : 0.7742\n",
            "Recall    : 0.7869\n",
            "F1 Score  : 0.7805\n",
            "------------------------------\n",
            "임계값 : 0.55\n",
            "Confusion Matrix : \n",
            "[[109   9]\n",
            " [ 15  46]]\n",
            "\n",
            "Accuracy  : 0.8659\n",
            "Precision : 0.8364\n",
            "Recall    : 0.7541\n",
            "F1 Score  : 0.7931\n",
            "------------------------------\n",
            "임계값 : 0.6\n",
            "Confusion Matrix : \n",
            "[[112   6]\n",
            " [ 16  45]]\n",
            "\n",
            "Accuracy  : 0.8771\n",
            "Precision : 0.8824\n",
            "Recall    : 0.7377\n",
            "F1 Score  : 0.8036\n"
          ]
        }
      ]
    },
    {
      "cell_type": "markdown",
      "metadata": {
        "id": "4z-uH2kr5gGO"
      },
      "source": [
        "* F1 스코어는 임계값이 0.6일 때 가장 좋습니다.\n",
        "* 하지만 재현율이 크게 감소하므로 주의하시기 바랍니다."
      ]
    }
  ]
}