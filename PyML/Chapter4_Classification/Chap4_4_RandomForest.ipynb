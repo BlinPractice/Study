{
  "nbformat": 4,
  "nbformat_minor": 0,
  "metadata": {
    "colab": {
      "name": "Chap4_4_RandomForest.ipynb",
      "provenance": [],
      "collapsed_sections": [],
      "toc_visible": true,
      "authorship_tag": "ABX9TyNYw4TVFzePPkb0kuK5oGkR",
      "include_colab_link": true
    },
    "kernelspec": {
      "name": "python3",
      "display_name": "Python 3"
    },
    "language_info": {
      "name": "python"
    }
  },
  "cells": [
    {
      "cell_type": "markdown",
      "metadata": {
        "id": "view-in-github",
        "colab_type": "text"
      },
      "source": [
        "<a href=\"https://colab.research.google.com/github/PyBlin/Study/blob/main/PyML/Chapter4_Classification/Chap4_4_RandomForest.ipynb\" target=\"_parent\"><img src=\"https://colab.research.google.com/assets/colab-badge.svg\" alt=\"Open In Colab\"/></a>"
      ]
    },
    {
      "cell_type": "markdown",
      "metadata": {
        "id": "pg4go7zRblqS"
      },
      "source": [
        "# 4.Random Forest"
      ]
    },
    {
      "cell_type": "markdown",
      "metadata": {
        "id": "Irn-TtQyb6Rb"
      },
      "source": [
        "## 4.1 Random Forest Intro\n",
        "\n",
        "* Bagging은 Voting과는 다르게, 같은 알고리즘으로 여러 분류기를 만들어서 Voting으로 최종 결정합니다. 대표적으로 Random Forest가 있습니다.\n",
        "* 빠른 수행과 높은 예측 성능으로 다재다능합니다.\n",
        "* Decision Tree의 쉽고 직관적인 장점을 그대로 가집니다. (Boosting 대부분이 Decision Tree Algorithm)\n",
        "* 여러 DT가 배깅으로 샘플링해서 개별적으로 학습한 뒤 최종적으로 보팅을 통해 예측합니다."
      ]
    },
    {
      "cell_type": "markdown",
      "metadata": {
        "id": "6SGlklRHcqx8"
      },
      "source": [
        "* Bootstrapping\n",
        ">* 여러 데이터셋을 중첩되게 분리하는 방식입니다.\n",
        ">* Bagging( Bootstrap Aggregating )\n",
        "\n",
        "* Subset\n",
        ">* Bootstrapping으로 임의로 만들어진 데이터입니다.\n",
        ">* 전체 데이터 건수와 동일하지만, 개별 데이터가 중첩되어 만들어집니다.\n",
        ">* `n_estimators` 하이퍼 파라미터로 Subset을 만듭니다."
      ]
    },
    {
      "cell_type": "code",
      "metadata": {
        "colab": {
          "base_uri": "https://localhost:8080/"
        },
        "id": "vJrMMjAEeeEr",
        "outputId": "9e4ad61b-73a5-4a81-8a78-17cdc06c79f5"
      },
      "source": [
        "from google.colab import drive\n",
        "drive.mount('/drive')\n",
        "\n",
        "path = '/drive/MyDrive/Colab/ML_Study/Chapter4_Classification/human_activity/'"
      ],
      "execution_count": 1,
      "outputs": [
        {
          "output_type": "stream",
          "name": "stdout",
          "text": [
            "Drive already mounted at /drive; to attempt to forcibly remount, call drive.mount(\"/drive\", force_remount=True).\n"
          ]
        }
      ]
    },
    {
      "cell_type": "code",
      "metadata": {
        "id": "7pcWuVucezzE"
      },
      "source": [
        "def get_new_feature_name_df(old_name):\n",
        "    feature_dup_df = pd.DataFrame(data=old_name.groupby('column_name').cumcount(), \n",
        "                                  columns=['dup_cnt'])\n",
        "    feature_dup_df = feature_dup_df.reset_index()\n",
        "    new_name = pd.merge(old_name.reset_index(), feature_dup_df, how='outer')\n",
        "    new_name['column_name'] = new_name[['column_name', \n",
        "                                        'dup_cnt']].apply(\n",
        "                                            lambda x: x[0] + '_' + str(x[1]) \n",
        "                                            if x[1] > 0 else x[0], axis=1)\n",
        "    new_name = new_name.drop(['index'], axis=1)\n",
        "    return new_name"
      ],
      "execution_count": 2,
      "outputs": []
    },
    {
      "cell_type": "code",
      "metadata": {
        "id": "d_MC_ydNebab"
      },
      "source": [
        "import pandas as pd\n",
        "\n",
        "# 이후 자주 사용되므로 함수로 생성 (레이블 칼럼 명은 'action')\n",
        "def get_human_dataset():\n",
        "\n",
        "    # 공백 분리 --> sep으로 할당\n",
        "    feature_name_df = pd.read_csv(path+'features.txt', sep='\\s+', \n",
        "                              header=None, \n",
        "                              names=['column_index', 'column_name'])\n",
        "    \n",
        "    # 중복된 피처명을 처리하는 함수를 이용해서 신규 DataFrame 생성\n",
        "    new_name = get_new_feature_name_df(feature_name_df)\n",
        "\n",
        "    # DataFrame에 피처명을 칼럼으로 부여하기 위해 리스트도 변환\n",
        "    feature_name = new_name.iloc[:, 1].values.tolist()\n",
        "\n",
        "    # 학습/테스트 피처 데이터셋 로딩 (칼럼명은 feature_name 적용)\n",
        "    X_train = pd.read_csv(path+'train/X_train.txt', sep='\\s+', \n",
        "                          names=feature_name)\n",
        "    X_test = pd.read_csv(path+'test/X_test.txt', sep='\\s+', \n",
        "                         names=feature_name)\n",
        "    \n",
        "    # 학습/테스트 레이블 데이터셋 로딩 (칼럼명은 'action')\n",
        "    y_train = pd.read_csv(path+'train/y_train.txt', sep='\\s+', \n",
        "                          header=None, names=['action'])\n",
        "    y_test = pd.read_csv(path+'test/y_test.txt', sep='\\s+', \n",
        "                         header=None, names=['action'])\n",
        "    \n",
        "    # 학습/테스트 데이터셋 모두 반환\n",
        "    return X_train, X_test, y_train, y_test\n",
        "\n",
        "X_train, X_test, y_train, y_test = get_human_dataset()"
      ],
      "execution_count": 3,
      "outputs": []
    },
    {
      "cell_type": "code",
      "metadata": {
        "colab": {
          "base_uri": "https://localhost:8080/"
        },
        "id": "XN-C3CsZdRjz",
        "outputId": "96160b07-c8a3-4e3b-a24b-73b509a8a512"
      },
      "source": [
        "from sklearn.ensemble import RandomForestClassifier\n",
        "from sklearn.metrics import accuracy_score\n",
        "import pandas as pd\n",
        "import warnings\n",
        "warnings.filterwarnings('ignore')\n",
        "\n",
        "# Decision Tree 에서 사용한 get_human_dataset()을 이용해 학습/테스트용 df 반환\n",
        "X_train, X_test, y_train, y_test = get_human_dataset()\n",
        "\n",
        "# random forest 학습 및 별도의 테스트셋으로 예측 성능 평가\n",
        "rf_clf = RandomForestClassifier(random_state=0)\n",
        "rf_clf.fit(X_train, y_train)\n",
        "pred = rf_clf.predict(X_test)\n",
        "acc = accuracy_score(y_test, pred)\n",
        "print(f\"Random Forest Accuracy : {acc:.4f}\")"
      ],
      "execution_count": 4,
      "outputs": [
        {
          "output_type": "stream",
          "name": "stdout",
          "text": [
            "Random Forest Accuracy : 0.9253\n"
          ]
        }
      ]
    },
    {
      "cell_type": "markdown",
      "metadata": {
        "id": "RRLTm5EHeWbk"
      },
      "source": [
        "## 4.2 Hyper Parameter Tuning\n",
        "\n",
        "* `n_estimators=10` : decision tree 개수를 지정합니다.\n",
        "* `max_features='auto'='sqrt'`\n",
        "* `max_depth`\n",
        "* `min_samples_leaf`"
      ]
    },
    {
      "cell_type": "markdown",
      "metadata": {
        "id": "cZy-_AfPgGDC"
      },
      "source": [
        "* Grid Search CV를 이용해 Random Forest Hyper Parameter Tuning을 해보겠습니다.\n",
        "* `n_estimators` : 100 --> 300\n",
        "* 멀티 코어 환경에서는 GridSearchCV `n_jobs=-1`를 추가하면 모든 CPU 코어를 이용해 학습합니다."
      ]
    },
    {
      "cell_type": "code",
      "metadata": {
        "colab": {
          "base_uri": "https://localhost:8080/"
        },
        "id": "nU0Y42sigq4q",
        "outputId": "7293b7e8-687a-4b23-98a6-a961824c209c"
      },
      "source": [
        "from sklearn.model_selection import GridSearchCV\n",
        "\n",
        "params = {'n_estimators':[100], 'max_depth':[6, 8, 10, 12], \n",
        "          'min_samples_leaf':[8, 12, 18], 'min_samples_split':[8, 16, 20]}\n",
        "\n",
        "# random forest classifier 객체 생성 후 grid search cv 수행\n",
        "rf_clf = RandomForestClassifier(random_state=0, n_jobs=-1)\n",
        "grid_cv = GridSearchCV(rf_clf, param_grid=params, cv=2, n_jobs=-1)\n",
        "grid_cv.fit(X_train, y_train)\n",
        "\n",
        "print(f\"최적 하이퍼 파라미터 : \\n{grid_cv.best_params_}\")\n",
        "print(f\"\\n최고 예측 정확도 : {grid_cv.best_score_:.4f}\")"
      ],
      "execution_count": 5,
      "outputs": [
        {
          "output_type": "stream",
          "name": "stdout",
          "text": [
            "최적 하이퍼 파라미터 : \n",
            "{'max_depth': 10, 'min_samples_leaf': 8, 'min_samples_split': 8, 'n_estimators': 100}\n",
            "\n",
            "최고 예측 정확도 : 0.9180\n"
          ]
        }
      ]
    },
    {
      "cell_type": "markdown",
      "metadata": {
        "id": "SRlxJPjNhkGE"
      },
      "source": [
        "* `n_estimator=300` 으로 하고 별도의 테스트셋에서 예측 성능을 측정해 봅시다!"
      ]
    },
    {
      "cell_type": "code",
      "metadata": {
        "colab": {
          "base_uri": "https://localhost:8080/"
        },
        "id": "Q-lh0F9OiOOE",
        "outputId": "b6daa542-3c9c-42d0-af33-d7d7f0623a36"
      },
      "source": [
        "rf_clf1 = RandomForestClassifier(n_estimators=300, max_depth=10, \n",
        "                                 min_samples_leaf=8, min_samples_split=8, \n",
        "                                 random_state=0)\n",
        "rf_clf1.fit(X_train, y_train)\n",
        "pred = rf_clf1.predict(X_test)\n",
        "print(f\"예측 정확도 : {accuracy_score(y_test, pred):.4f}\")"
      ],
      "execution_count": 6,
      "outputs": [
        {
          "output_type": "stream",
          "name": "stdout",
          "text": [
            "예측 정확도 : 0.9165\n"
          ]
        }
      ]
    },
    {
      "cell_type": "markdown",
      "metadata": {
        "id": "3jSi2_NEiuaD"
      },
      "source": [
        "* Decision Tree Classifier처럼 `feature_importances_` 속성을 이용해 피처의 중요도를 알 수 있습니다.\n",
        "* 이 중요도를 막대그래프로 시각화해 봅시다!"
      ]
    },
    {
      "cell_type": "code",
      "metadata": {
        "colab": {
          "base_uri": "https://localhost:8080/",
          "height": 390
        },
        "id": "nL-HMgdCjEXC",
        "outputId": "238a1897-5b6c-4ef8-fcc3-7bc4e7969ab3"
      },
      "source": [
        "import matplotlib.pyplot as plt\n",
        "import seaborn as sns\n",
        "%matplotlib inline\n",
        "\n",
        "ftr_importances_values = rf_clf1.feature_importances_\n",
        "ftr_importances = pd.Series(ftr_importances_values, index=X_train.columns)\n",
        "ftr_top20 = ftr_importances.sort_values(ascending=False)[:20]\n",
        "\n",
        "plt.figure(figsize=(8, 6))\n",
        "plt.title('Feature Importances Top 20')\n",
        "sns.barplot(ftr_top20, ftr_top20.index)\n",
        "plt.show()"
      ],
      "execution_count": 7,
      "outputs": [
        {
          "output_type": "display_data",
          "data": {
            "image/png": "[encoded data removed]",
            "text/plain": [
              "<Figure size 576x432 with 1 Axes>"
            ]
          },
          "metadata": {
            "needs_background": "light"
          }
        }
      ]
    }
  ]
}