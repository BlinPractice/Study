{
  "nbformat": 4,
  "nbformat_minor": 0,
  "metadata": {
    "colab": {
      "name": "Day05.ipynb",
      "provenance": [],
      "collapsed_sections": [],
      "authorship_tag": "ABX9TyNe8/Xz53BQTtUSgdJvLUpI",
      "include_colab_link": true
    },
    "kernelspec": {
      "name": "python3",
      "display_name": "Python 3"
    },
    "language_info": {
      "name": "python"
    }
  },
  "cells": [
    {
      "cell_type": "markdown",
      "metadata": {
        "id": "view-in-github",
        "colab_type": "text"
      },
      "source": [
        "<a href=\"https://colab.research.google.com/github/PyBlin/Study/blob/main/Python_Bascis/Day05.ipynb\" target=\"_parent\"><img src=\"https://colab.research.google.com/assets/colab-badge.svg\" alt=\"Open In Colab\"/></a>"
      ]
    },
    {
      "cell_type": "markdown",
      "metadata": {
        "id": "ITURvobKm_QE"
      },
      "source": [
        "## 표준 입/출력"
      ]
    },
    {
      "cell_type": "markdown",
      "metadata": {
        "id": "2oMVY_sRnIcg"
      },
      "source": [
        "표준 입력"
      ]
    },
    {
      "cell_type": "code",
      "metadata": {
        "colab": {
          "base_uri": "https://localhost:8080/"
        },
        "id": "_29RhaB7nKCE",
        "outputId": "f07f75f5-8c49-40ed-cb57-389ab3323778"
      },
      "source": [
        "# type : 함수 이름\n",
        "# (10) : 인수(매개변수, parameter)\n",
        "type(10)            # 함수 호출"
      ],
      "execution_count": 1,
      "outputs": [
        {
          "output_type": "execute_result",
          "data": {
            "text/plain": [
              "int"
            ]
          },
          "metadata": {
            "tags": []
          },
          "execution_count": 1
        }
      ]
    },
    {
      "cell_type": "code",
      "metadata": {
        "colab": {
          "base_uri": "https://localhost:8080/",
          "height": 172
        },
        "id": "T0POsr-VnfPa",
        "outputId": "a06ba03d-7026-495f-ab76-1be808752169"
      },
      "source": [
        "type()              # type() 함수는 인수가 반드시 있어야 한다."
      ],
      "execution_count": 2,
      "outputs": [
        {
          "output_type": "error",
          "ename": "TypeError",
          "evalue": "ignored",
          "traceback": [
            "\u001b[0;31m---------------------------------------------------------------------------\u001b[0m",
            "\u001b[0;31mTypeError\u001b[0m                                 Traceback (most recent call last)",
            "\u001b[0;32m<ipython-input-2-dbab1bea295b>\u001b[0m in \u001b[0;36m<module>\u001b[0;34m()\u001b[0m\n\u001b[0;32m----> 1\u001b[0;31m \u001b[0mtype\u001b[0m\u001b[0;34m(\u001b[0m\u001b[0;34m)\u001b[0m              \u001b[0;31m# type() 함수는 인수가 반드시 있어야 한다.\u001b[0m\u001b[0;34m\u001b[0m\u001b[0;34m\u001b[0m\u001b[0m\n\u001b[0m",
            "\u001b[0;31mTypeError\u001b[0m: type() takes 1 or 3 arguments"
          ]
        }
      ]
    },
    {
      "cell_type": "code",
      "metadata": {
        "colab": {
          "base_uri": "https://localhost:8080/",
          "height": 53
        },
        "id": "Vta5dzsir-9N",
        "outputId": "7036be2b-8273-4afc-b457-a9ad76dd1bf1"
      },
      "source": [
        "input()                     # input 함수를 호출하고 결과를 별도로 저장하지 않음"
      ],
      "execution_count": 3,
      "outputs": [
        {
          "output_type": "stream",
          "text": [
            "10\n"
          ],
          "name": "stdout"
        },
        {
          "output_type": "execute_result",
          "data": {
            "application/vnd.google.colaboratory.intrinsic+json": {
              "type": "string"
            },
            "text/plain": [
              "'10'"
            ]
          },
          "metadata": {
            "tags": []
          },
          "execution_count": 3
        }
      ]
    },
    {
      "cell_type": "code",
      "metadata": {
        "colab": {
          "base_uri": "https://localhost:8080/",
          "height": 53
        },
        "id": "zfFD6EfLsBi0",
        "outputId": "60790a36-b78a-4bc7-8a9a-6c2f9a9922c3"
      },
      "source": [
        "variable = input()          # input 함수를 호출하고 결과를 variable에 저장\n",
        "\n",
        "variable"
      ],
      "execution_count": 4,
      "outputs": [
        {
          "output_type": "stream",
          "text": [
            "20\n"
          ],
          "name": "stdout"
        },
        {
          "output_type": "execute_result",
          "data": {
            "application/vnd.google.colaboratory.intrinsic+json": {
              "type": "string"
            },
            "text/plain": [
              "'20'"
            ]
          },
          "metadata": {
            "tags": []
          },
          "execution_count": 4
        }
      ]
    },
    {
      "cell_type": "code",
      "metadata": {
        "colab": {
          "base_uri": "https://localhost:8080/",
          "height": 53
        },
        "id": "eSlR2n8EsNXh",
        "outputId": "c12b3d24-18a5-4dcd-ce17-da4117af2cf8"
      },
      "source": [
        "variable = input('아무 값이나 입력하세요 : ')\n",
        "\n",
        "variable"
      ],
      "execution_count": 5,
      "outputs": [
        {
          "output_type": "stream",
          "text": [
            "아무 값이나 입력하세요 : 30\n"
          ],
          "name": "stdout"
        },
        {
          "output_type": "execute_result",
          "data": {
            "application/vnd.google.colaboratory.intrinsic+json": {
              "type": "string"
            },
            "text/plain": [
              "'30'"
            ]
          },
          "metadata": {
            "tags": []
          },
          "execution_count": 5
        }
      ]
    },
    {
      "cell_type": "code",
      "metadata": {
        "colab": {
          "base_uri": "https://localhost:8080/"
        },
        "id": "dmt1Y2YQssiP",
        "outputId": "b1f86f33-4127-44bf-db0d-b919400d850d"
      },
      "source": [
        "variable = input('숫자를 입력하세요 : ')\n",
        "\n",
        "variable, type(variable)            # input 함수는 문자열(str) 함수이다"
      ],
      "execution_count": 6,
      "outputs": [
        {
          "output_type": "stream",
          "text": [
            "숫자를 입력하세요 : 40\n"
          ],
          "name": "stdout"
        },
        {
          "output_type": "execute_result",
          "data": {
            "text/plain": [
              "('40', str)"
            ]
          },
          "metadata": {
            "tags": []
          },
          "execution_count": 6
        }
      ]
    },
    {
      "cell_type": "code",
      "metadata": {
        "colab": {
          "base_uri": "https://localhost:8080/"
        },
        "id": "ImxNABeds-i5",
        "outputId": "d9b9cac8-07b4-49d3-bbf7-03ec9e9dbae6"
      },
      "source": [
        "# 입력 받은 문자를 정수로 변환\n",
        "variable = int(input('숫자를 입력하세요 : '))\n",
        "\n",
        "variable, type(variable)            # 형변환을 활용하면 문자열에서 벗어날 수 있다"
      ],
      "execution_count": 7,
      "outputs": [
        {
          "output_type": "stream",
          "text": [
            "숫자를 입력하세요 : 50\n"
          ],
          "name": "stdout"
        },
        {
          "output_type": "execute_result",
          "data": {
            "text/plain": [
              "(50, int)"
            ]
          },
          "metadata": {
            "tags": []
          },
          "execution_count": 7
        }
      ]
    },
    {
      "cell_type": "code",
      "metadata": {
        "colab": {
          "base_uri": "https://localhost:8080/"
        },
        "id": "YMAOT0b7tnqp",
        "outputId": "15b72f34-ccea-4231-9ff9-dbda87310a20"
      },
      "source": [
        "# 입력 받은 문자를 실수로 변환 후 정수로 변환\n",
        "variable = int(float(input('숫자를 입력하세요 : ')))\n",
        "\n",
        "variable, type(variable)"
      ],
      "execution_count": 8,
      "outputs": [
        {
          "output_type": "stream",
          "text": [
            "숫자를 입력하세요 : 60\n"
          ],
          "name": "stdout"
        },
        {
          "output_type": "execute_result",
          "data": {
            "text/plain": [
              "(60, int)"
            ]
          },
          "metadata": {
            "tags": []
          },
          "execution_count": 8
        }
      ]
    },
    {
      "cell_type": "markdown",
      "metadata": {
        "id": "9HSg-KKCvFwi"
      },
      "source": [
        "## 두 개의 정수를 입력 받아 사칙연산의 결과를 출력\n",
        "\n",
        "문제 이해  \n",
        "    입력 자료 : 두 개의 정수  \n",
        "    출력 자료 : 사칙연산 결과  \n",
        "\n",
        "알고리즘 설계  \n",
        "    0. 변수 정의  \n",
        "    1. 두 개의 정수 입력  \n",
        "    2. 사칙연산 계산  \n",
        "    3. 사칙연산 결과 출력  \n",
        "    4. 종료  "
      ]
    },
    {
      "cell_type": "code",
      "metadata": {
        "colab": {
          "base_uri": "https://localhost:8080/"
        },
        "id": "QDMFdobavkl2",
        "outputId": "48b29061-5556-4d5c-9880-8a95a01b8f04"
      },
      "source": [
        "# 1. 두 개의 정수 입력\n",
        "number1 = int(float(input('첫 번째 정수를 입력하세요 : ')))\n",
        "number2 = int(float(input('두 번째 정수를 입력하세요 : ')))\n",
        "\n",
        "# 2. 사칙연산 계산\n",
        "add = number1 + number2\n",
        "subtract = number1 - number2\n",
        "multiple = number1 * number2\n",
        "divide = number1 / number2\n",
        "\n",
        "# 3. 사칙연산 결과 출력\n",
        "print(add)\n",
        "print(subtract)\n",
        "print(multiple)\n",
        "print(divide)"
      ],
      "execution_count": 9,
      "outputs": [
        {
          "output_type": "stream",
          "text": [
            "첫 번째 정수를 입력하세요 : 70\n",
            "두 번째 정수를 입력하세요 : 80\n",
            "150\n",
            "-10\n",
            "5600\n",
            "0.875\n"
          ],
          "name": "stdout"
        }
      ]
    },
    {
      "cell_type": "code",
      "metadata": {
        "colab": {
          "base_uri": "https://localhost:8080/"
        },
        "id": "sIlUrk0DwdSr",
        "outputId": "0f41211e-9d0d-41b6-d8cf-86d7e319d132"
      },
      "source": [
        "print('python programing')"
      ],
      "execution_count": 10,
      "outputs": [
        {
          "output_type": "stream",
          "text": [
            "python programing\n"
          ],
          "name": "stdout"
        }
      ]
    },
    {
      "cell_type": "code",
      "metadata": {
        "colab": {
          "base_uri": "https://localhost:8080/"
        },
        "id": "2bl6RzhxxysN",
        "outputId": "0a1ba853-6035-4901-9318-378bcd1ed30a"
      },
      "source": [
        "print('add = ', add)\n",
        "print('subtract = ', subtract)\n",
        "print('multiple = ', multiple)\n",
        "print('divide = ', divide)"
      ],
      "execution_count": 11,
      "outputs": [
        {
          "output_type": "stream",
          "text": [
            "add =  150\n",
            "subtract =  -10\n",
            "multiple =  5600\n",
            "divide =  0.875\n"
          ],
          "name": "stdout"
        }
      ]
    },
    {
      "cell_type": "code",
      "metadata": {
        "colab": {
          "base_uri": "https://localhost:8080/"
        },
        "id": "5t8_vAl9yGOk",
        "outputId": "af13c45e-bbf4-4602-a71d-6b70ff2a48f5"
      },
      "source": [
        "print(number1, '+', number2, ' = ', add)\n",
        "print(number1, '-', number2, ' = ', subtract)\n",
        "print(number1, '*', number2, ' = ', multiple)\n",
        "print(number1, '/', number2, ' = ', divide)"
      ],
      "execution_count": 12,
      "outputs": [
        {
          "output_type": "stream",
          "text": [
            "70 + 80  =  150\n",
            "70 - 80  =  -10\n",
            "70 * 80  =  5600\n",
            "70 / 80  =  0.875\n"
          ],
          "name": "stdout"
        }
      ]
    },
    {
      "cell_type": "code",
      "metadata": {
        "colab": {
          "base_uri": "https://localhost:8080/"
        },
        "id": "L-HftFQUyXFK",
        "outputId": "0d465222-984b-4048-f6fa-53ab7c3bbaf3"
      },
      "source": [
        "print('add = ', add, '\\nsubtract = ', subtract, '\\nmultiple = ', multiple, '\\ndivide = ', divide)"
      ],
      "execution_count": 13,
      "outputs": [
        {
          "output_type": "stream",
          "text": [
            "add =  150 \n",
            "subtract =  -10 \n",
            "multiple =  5600 \n",
            "divide =  0.875\n"
          ],
          "name": "stdout"
        }
      ]
    },
    {
      "cell_type": "code",
      "metadata": {
        "colab": {
          "base_uri": "https://localhost:8080/"
        },
        "id": "knz-dmSgzr4j",
        "outputId": "ce51c3ed-a9ff-4cfa-f5c1-61d44e12d141"
      },
      "source": [
        "print('add = ', add, '\\t\\t\\tsubtract = ', subtract)"
      ],
      "execution_count": 14,
      "outputs": [
        {
          "output_type": "stream",
          "text": [
            "add =  150 \t\t\tsubtract =  -10\n"
          ],
          "name": "stdout"
        }
      ]
    },
    {
      "cell_type": "code",
      "metadata": {
        "colab": {
          "base_uri": "https://localhost:8080/"
        },
        "id": "WnFjTqwRzuiF",
        "outputId": "ed5ef7ae-8709-407b-e520-0b708484b689"
      },
      "source": [
        "# end 인수는 print 각각을 줄바꿈하지 않고 end에 부여된 문자를 출력함. 즉, 자동 줄바꿈 off 역할.\n",
        "print('add = ', add, end='|')\n",
        "print('subtract = ', subtract, end='|')\n",
        "print('multiple = ', multiple, end='|')\n",
        "print('divide = ', divide, end='|')"
      ],
      "execution_count": 15,
      "outputs": [
        {
          "output_type": "stream",
          "text": [
            "add =  150|subtract =  -10|multiple =  5600|divide =  0.875|"
          ],
          "name": "stdout"
        }
      ]
    },
    {
      "cell_type": "code",
      "metadata": {
        "colab": {
          "base_uri": "https://localhost:8080/"
        },
        "id": "tszqZU7K0Wt1",
        "outputId": "caf7fdb2-2bbc-4f6f-8e1c-f2ea1f839aca"
      },
      "source": [
        "print('add = ', add, end='\\t')\n",
        "print('subtract = ', subtract)"
      ],
      "execution_count": 16,
      "outputs": [
        {
          "output_type": "stream",
          "text": [
            "add =  150\tsubtract =  -10\n"
          ],
          "name": "stdout"
        }
      ]
    },
    {
      "cell_type": "markdown",
      "metadata": {
        "id": "mOegpKrC1TFQ"
      },
      "source": [
        "## 실습문제) 5개의 정수를 입력받아 합계와 평균을 출력\n",
        "\n",
        "실행 결과)  \n",
        "    첫 번째 정수 입력 :  \n",
        "    두 번째 정수 입력 :  \n",
        "    세 번째 정수 입력 :  \n",
        "    네 번째 정수 입력 :  \n",
        "    다섯 번째 정수 입력 :  \n",
        "\n",
        "    첫 번째 정수 + 두 번째 정수 + 세 번째 정수 + 네 번째 정수 + 다섯 번째 정수 = 합계  \n",
        "\n",
        "    합계 / 5 = 평균  "
      ]
    },
    {
      "cell_type": "code",
      "metadata": {
        "colab": {
          "base_uri": "https://localhost:8080/"
        },
        "id": "HtAR-Qhb16fG",
        "outputId": "540e72d3-2080-49b4-800e-1ab714e47625"
      },
      "source": [
        "a = int(float(input('첫 번째 정수 : ')))\n",
        "b = int(float(input('두 번째 정수 : ')))\n",
        "c = int(float(input('세 번째 정수 : ')))\n",
        "d = int(float(input('네 번째 정수 : ')))\n",
        "e = int(float(input('다섯 번째 정수 : ')))\n",
        "\n",
        "add = a + b + c + d + e\n",
        "avg = add / 5\n",
        "print('\\n')\n",
        "\n",
        "# if문 오류,,, 뭐가 문제야 say something ㅠㅠ\n",
        "if type(add) or type(avg) == str:\n",
        "    print('Result is a string... Try again.')\n",
        "elif type(add) == int and type(avg) == float:\n",
        "    print('\\nSuccess Output!')\n",
        "else:\n",
        "    print(\"Something is wrong... Try again\")\n",
        "\n",
        "print('\\n')\n",
        "print(a, '+', b, '+', c, '+', d, '+', e, ' = ', add, '\\t\\t', type(add))\n",
        "print(add, '/', '5', ' = ', avg, '\\t\\t\\t', type(avg))"
      ],
      "execution_count": 17,
      "outputs": [
        {
          "output_type": "stream",
          "text": [
            "첫 번째 정수 : 90\n",
            "두 번째 정수 : 100\n",
            "세 번째 정수 : 110\n",
            "네 번째 정수 : 120\n",
            "다섯 번째 정수 : 130\n",
            "\n",
            "\n",
            "Result is a string... Try again.\n",
            "\n",
            "\n",
            "90 + 100 + 110 + 120 + 130  =  550 \t\t <class 'int'>\n",
            "550 / 5  =  110.0 \t\t\t <class 'float'>\n"
          ],
          "name": "stdout"
        }
      ]
    },
    {
      "cell_type": "code",
      "metadata": {
        "colab": {
          "base_uri": "https://localhost:8080/",
          "height": 136
        },
        "id": "Qq0h9OFi_mFa",
        "outputId": "6e9e3a4e-b973-4c2e-8fc2-c95e7b3ce2b7"
      },
      "source": [
        "print('python\n",
        "program')\n",
        "# 그냥 줄바꿈을 하면 에러 발생"
      ],
      "execution_count": 18,
      "outputs": [
        {
          "output_type": "error",
          "ename": "SyntaxError",
          "evalue": "ignored",
          "traceback": [
            "\u001b[0;36m  File \u001b[0;32m\"<ipython-input-18-53e0a1235dd9>\"\u001b[0;36m, line \u001b[0;32m1\u001b[0m\n\u001b[0;31m    print('python\u001b[0m\n\u001b[0m                 ^\u001b[0m\n\u001b[0;31mSyntaxError\u001b[0m\u001b[0;31m:\u001b[0m EOL while scanning string literal\n"
          ]
        }
      ]
    },
    {
      "cell_type": "code",
      "metadata": {
        "colab": {
          "base_uri": "https://localhost:8080/"
        },
        "id": "QyRFAnp9Cz0W",
        "outputId": "2cec99fa-eaf4-438b-8051-74f526c8caee"
      },
      "source": [
        "print('python \\\n",
        "program')           # \\ 뒤에 아무것도 없어야 함"
      ],
      "execution_count": 19,
      "outputs": [
        {
          "output_type": "stream",
          "text": [
            "python program\n"
          ],
          "name": "stdout"
        }
      ]
    },
    {
      "cell_type": "markdown",
      "metadata": {
        "id": "2XG9Qk-2JOtn"
      },
      "source": [
        "## 제어 구조\n",
        "\n",
        "### 선택 구조\n",
        "\n",
        "단순 선택"
      ]
    },
    {
      "cell_type": "code",
      "metadata": {
        "colab": {
          "base_uri": "https://localhost:8080/"
        },
        "id": "IHkRSlQPJTHP",
        "outputId": "9775ebbe-ca03-4662-8bfd-90c4311b3c66"
      },
      "source": [
        "if 10 > 5:\n",
        "    print('10 > 5')"
      ],
      "execution_count": 20,
      "outputs": [
        {
          "output_type": "stream",
          "text": [
            "10 > 5\n"
          ],
          "name": "stdout"
        }
      ]
    },
    {
      "cell_type": "code",
      "metadata": {
        "colab": {
          "base_uri": "https://localhost:8080/"
        },
        "id": "HgnBeCjOJZJC",
        "outputId": "afb1e85d-e24b-49a9-ab4b-88f90aa49faa"
      },
      "source": [
        "if 10 < 5:\n",
        "    print('10 > 5')\n",
        "print('stop script')"
      ],
      "execution_count": 21,
      "outputs": [
        {
          "output_type": "stream",
          "text": [
            "stop script\n"
          ],
          "name": "stdout"
        }
      ]
    },
    {
      "cell_type": "code",
      "metadata": {
        "colab": {
          "base_uri": "https://localhost:8080/"
        },
        "id": "Trb56QyjJjjm",
        "outputId": "332c5303-ab6b-4ec1-ef5f-ecdf0103500b"
      },
      "source": [
        "if 10 > 5:\n",
        "    print('True')\n",
        "    print('10 > 5')"
      ],
      "execution_count": 22,
      "outputs": [
        {
          "output_type": "stream",
          "text": [
            "True\n",
            "10 > 5\n"
          ],
          "name": "stdout"
        }
      ]
    },
    {
      "cell_type": "code",
      "metadata": {
        "colab": {
          "base_uri": "https://localhost:8080/"
        },
        "id": "r4kh3OP7KGbW",
        "outputId": "467cd128-b6c7-46a7-ec22-da02e7d6f7ba"
      },
      "source": [
        "if True:\n",
        "    print('10 > 5')\n",
        "# 이건 의미없는 동작..."
      ],
      "execution_count": 23,
      "outputs": [
        {
          "output_type": "stream",
          "text": [
            "10 > 5\n"
          ],
          "name": "stdout"
        }
      ]
    },
    {
      "cell_type": "code",
      "metadata": {
        "colab": {
          "base_uri": "https://localhost:8080/"
        },
        "id": "EHFLrsjRKNwc",
        "outputId": "fae585fd-1715-4e5a-a1a8-00e90ba05da5"
      },
      "source": [
        "if 10:\n",
        "    print('10 > 5')\n",
        "# 이것도 의미없는 동작... bool type에서 0이 아니면 True로 보기 때문."
      ],
      "execution_count": 24,
      "outputs": [
        {
          "output_type": "stream",
          "text": [
            "10 > 5\n"
          ],
          "name": "stdout"
        }
      ]
    },
    {
      "cell_type": "markdown",
      "metadata": {
        "id": "aGHtv46eKsPU"
      },
      "source": [
        "### 양자 택일 구조"
      ]
    },
    {
      "cell_type": "code",
      "metadata": {
        "colab": {
          "base_uri": "https://localhost:8080/"
        },
        "id": "9mOOGkRAKtqX",
        "outputId": "34f45cdf-a8e6-4cf9-d12d-6ed887042743"
      },
      "source": [
        "if 10 > 5:\n",
        "    print('10 > 5')\n",
        "else:\n",
        "    print('10 <= 5')"
      ],
      "execution_count": 25,
      "outputs": [
        {
          "output_type": "stream",
          "text": [
            "10 > 5\n"
          ],
          "name": "stdout"
        }
      ]
    },
    {
      "cell_type": "code",
      "metadata": {
        "colab": {
          "base_uri": "https://localhost:8080/"
        },
        "id": "x7cSHC8iK1LV",
        "outputId": "5ca6d917-a2c1-4cfc-da48-87dc7501a65c"
      },
      "source": [
        "if 10 > 15:\n",
        "    print('10 > 15')\n",
        "else:\n",
        "    print('10 <= 15')"
      ],
      "execution_count": 26,
      "outputs": [
        {
          "output_type": "stream",
          "text": [
            "10 <= 15\n"
          ],
          "name": "stdout"
        }
      ]
    },
    {
      "cell_type": "markdown",
      "metadata": {
        "id": "mDkOCvqzLCmn"
      },
      "source": [
        "### 다중 선택 구조"
      ]
    },
    {
      "cell_type": "code",
      "metadata": {
        "colab": {
          "base_uri": "https://localhost:8080/"
        },
        "id": "SolIN-2iK8kd",
        "outputId": "f72d2150-7d67-493f-cfde-bba4696b9b4b"
      },
      "source": [
        "number = 51\n",
        "\n",
        "if number >= 90:\n",
        "    print('over 90')\n",
        "elif number >= 80:\n",
        "    print('over 80')\n",
        "elif number >= 70:\n",
        "    print('over 70')\n",
        "elif number >= 60:\n",
        "    print('over 60')\n",
        "else:\n",
        "    print('under 60')"
      ],
      "execution_count": 27,
      "outputs": [
        {
          "output_type": "stream",
          "text": [
            "under 60\n"
          ],
          "name": "stdout"
        }
      ]
    },
    {
      "cell_type": "markdown",
      "metadata": {
        "id": "1ceMP7v-MBwc"
      },
      "source": [
        "### 중첩 선택"
      ]
    },
    {
      "cell_type": "code",
      "metadata": {
        "colab": {
          "base_uri": "https://localhost:8080/"
        },
        "id": "XYyz05C7MDpu",
        "outputId": "b4efc3f3-64e1-48ca-d155-fc57e16d8dcb"
      },
      "source": [
        "number1 = 10\n",
        "number2 = 20\n",
        "\n",
        "if number1 >= 10:\n",
        "    if number2 >= 20:\n",
        "        print('number1 = ', number1, '\\tnumber2 = ', number2)\n",
        "else:\n",
        "    print('number1 < 10')"
      ],
      "execution_count": 28,
      "outputs": [
        {
          "output_type": "stream",
          "text": [
            "number1 =  10 \tnumber2 =  20\n"
          ],
          "name": "stdout"
        }
      ]
    },
    {
      "cell_type": "code",
      "metadata": {
        "colab": {
          "base_uri": "https://localhost:8080/"
        },
        "id": "bIHt07aeMbsm",
        "outputId": "b4498deb-9e10-487b-be85-9923a07b7371"
      },
      "source": [
        "if number1 >= 10 and number2 >= 20:\n",
        "    print('number1 = ', number1, '\\tnumber2 = ', number2)\n",
        "else:\n",
        "    print('number1 < 10')"
      ],
      "execution_count": 29,
      "outputs": [
        {
          "output_type": "stream",
          "text": [
            "number1 =  10 \tnumber2 =  20\n"
          ],
          "name": "stdout"
        }
      ]
    },
    {
      "cell_type": "markdown",
      "metadata": {
        "id": "f7LukzB0NxWG"
      },
      "source": [
        "## 반복 구조\n",
        "\n",
        "### 반복 횟수가 정해진 경우"
      ]
    },
    {
      "cell_type": "code",
      "metadata": {
        "colab": {
          "base_uri": "https://localhost:8080/"
        },
        "id": "1I0IUYUON1hy",
        "outputId": "d960fdc6-181b-48de-eef0-0b1a7cc0750d"
      },
      "source": [
        "for i in range(1, 10, 1):\n",
        "    print(i)"
      ],
      "execution_count": 30,
      "outputs": [
        {
          "output_type": "stream",
          "text": [
            "1\n",
            "2\n",
            "3\n",
            "4\n",
            "5\n",
            "6\n",
            "7\n",
            "8\n",
            "9\n"
          ],
          "name": "stdout"
        }
      ]
    },
    {
      "cell_type": "code",
      "metadata": {
        "colab": {
          "base_uri": "https://localhost:8080/"
        },
        "id": "_7a08BUqN7fD",
        "outputId": "925c6267-a115-4a2a-d652-a6d2e7bb03f6"
      },
      "source": [
        "for i in range(10):\n",
        "    print(i)"
      ],
      "execution_count": 31,
      "outputs": [
        {
          "output_type": "stream",
          "text": [
            "0\n",
            "1\n",
            "2\n",
            "3\n",
            "4\n",
            "5\n",
            "6\n",
            "7\n",
            "8\n",
            "9\n"
          ],
          "name": "stdout"
        }
      ]
    },
    {
      "cell_type": "code",
      "metadata": {
        "colab": {
          "base_uri": "https://localhost:8080/"
        },
        "id": "CF8Tb9fwOeAw",
        "outputId": "f9429900-cb0f-4af0-9549-fb6f7b5ed6ce"
      },
      "source": [
        "for i in range(1, 11, 2):\n",
        "    print(i)"
      ],
      "execution_count": 32,
      "outputs": [
        {
          "output_type": "stream",
          "text": [
            "1\n",
            "3\n",
            "5\n",
            "7\n",
            "9\n"
          ],
          "name": "stdout"
        }
      ]
    },
    {
      "cell_type": "code",
      "metadata": {
        "colab": {
          "base_uri": "https://localhost:8080/"
        },
        "id": "kZDd9QhzOrD6",
        "outputId": "ed4d4618-bbed-4915-df65-5739330f08c6"
      },
      "source": [
        "for _ in range(10):\n",
        "    print(i, 'loop...')"
      ],
      "execution_count": 33,
      "outputs": [
        {
          "output_type": "stream",
          "text": [
            "9 loop...\n",
            "9 loop...\n",
            "9 loop...\n",
            "9 loop...\n",
            "9 loop...\n",
            "9 loop...\n",
            "9 loop...\n",
            "9 loop...\n",
            "9 loop...\n",
            "9 loop...\n"
          ],
          "name": "stdout"
        }
      ]
    },
    {
      "cell_type": "code",
      "metadata": {
        "colab": {
          "base_uri": "https://localhost:8080/"
        },
        "id": "BY6387YCPQyn",
        "outputId": "34e8389e-2ed7-4655-c123-72dffba1312b"
      },
      "source": [
        "for i in range(1, 11, 1):\n",
        "    if i > 5:\n",
        "        break\n",
        "    print('loop...', i)"
      ],
      "execution_count": 34,
      "outputs": [
        {
          "output_type": "stream",
          "text": [
            "loop... 1\n",
            "loop... 2\n",
            "loop... 3\n",
            "loop... 4\n",
            "loop... 5\n"
          ],
          "name": "stdout"
        }
      ]
    },
    {
      "cell_type": "code",
      "metadata": {
        "colab": {
          "base_uri": "https://localhost:8080/"
        },
        "id": "c_GaTyyDP4o0",
        "outputId": "f09dd68f-ca0c-4bee-afd5-a8946b78caf2"
      },
      "source": [
        "total = 0\n",
        "\n",
        "for i in range(5):\n",
        "    number = int(float(input('정수 입력 : ')))\n",
        "    total += number\n",
        "avg = total / 5\n",
        "print()\n",
        "\n",
        "print('number1 + number2 + number3 + number4 + number5 = ', total, end='')\n",
        "print('\\n', total, '/ 5 = ', avg, '\\t\\t\\t', type(avg))"
      ],
      "execution_count": 35,
      "outputs": [
        {
          "output_type": "stream",
          "text": [
            "정수 입력 : 10\n",
            "정수 입력 : 20\n",
            "정수 입력 : 30\n",
            "정수 입력 : 40\n",
            "정수 입력 : 50\n",
            "\n",
            "number1 + number2 + number3 + number4 + number5 =  150\n",
            " 150 / 5 =  30.0 \t\t\t <class 'float'>\n"
          ],
          "name": "stdout"
        }
      ]
    },
    {
      "cell_type": "code",
      "metadata": {
        "colab": {
          "base_uri": "https://localhost:8080/"
        },
        "id": "0HHnuqaLdy_9",
        "outputId": "239ac1e8-fe41-4417-97f3-6e39ac8adf84"
      },
      "source": [
        "total = 0\n",
        "number = 0\n",
        "\n",
        "for i in range(1, 6):\n",
        "    number = int(float(input('정수 입력 : ')))\n",
        "    total += number\n",
        "    print(f'sum = ', number)\n",
        "\n",
        "    if i == 5:\n",
        "        print(total, '\\t\\t\\t\\t', type(total))\n",
        "\n",
        "avg = total / 5\n",
        "print('\\n5')\n",
        "print(total, '/ 5 = ', avg, '\\t\\t', type(avg))"
      ],
      "execution_count": 36,
      "outputs": [
        {
          "output_type": "stream",
          "text": [
            "정수 입력 : 60\n",
            "sum =  60\n",
            "정수 입력 : 70\n",
            "sum =  70\n",
            "정수 입력 : 80\n",
            "sum =  80\n",
            "정수 입력 : 90\n",
            "sum =  90\n",
            "정수 입력 : 100\n",
            "sum =  100\n",
            "400 \t\t\t\t <class 'int'>\n",
            "\n",
            "5\n",
            "400 / 5 =  80.0 \t\t <class 'float'>\n"
          ],
          "name": "stdout"
        }
      ]
    },
    {
      "cell_type": "code",
      "metadata": {
        "colab": {
          "base_uri": "https://localhost:8080/"
        },
        "id": "pgS8lwhfRKcH",
        "outputId": "23b42594-0444-4fde-c323-2b2d0ba1865d"
      },
      "source": [
        "i = 1\n",
        "while i <= 10:\n",
        "    print(i)\n",
        "    i += 1"
      ],
      "execution_count": 37,
      "outputs": [
        {
          "output_type": "stream",
          "text": [
            "1\n",
            "2\n",
            "3\n",
            "4\n",
            "5\n",
            "6\n",
            "7\n",
            "8\n",
            "9\n",
            "10\n"
          ],
          "name": "stdout"
        }
      ]
    },
    {
      "cell_type": "code",
      "metadata": {
        "colab": {
          "base_uri": "https://localhost:8080/"
        },
        "id": "xvjNUcBzRq9K",
        "outputId": "210e137a-a3f1-42a7-efe3-37ea9113dea2"
      },
      "source": [
        "# 무한 루프를 이용\n",
        "while True:\n",
        "    number = int(float(input('정수 입력 (0이면 종료) : ')))\n",
        "    \n",
        "    if number == 0:\n",
        "        break\n",
        "    print(number)"
      ],
      "execution_count": 38,
      "outputs": [
        {
          "output_type": "stream",
          "text": [
            "정수 입력 (0이면 종료) : 10\n",
            "10\n",
            "정수 입력 (0이면 종료) : 20\n",
            "20\n",
            "정수 입력 (0이면 종료) : 30\n",
            "30\n",
            "정수 입력 (0이면 종료) : 40\n",
            "40\n",
            "정수 입력 (0이면 종료) : 50\n",
            "50\n",
            "정수 입력 (0이면 종료) : 0\n"
          ],
          "name": "stdout"
        }
      ]
    },
    {
      "cell_type": "code",
      "metadata": {
        "colab": {
          "base_uri": "https://localhost:8080/"
        },
        "id": "wXo8KPpGSR3E",
        "outputId": "7c39fcb1-2b02-4d6a-da93-91f77be0017d"
      },
      "source": [
        "# 2-read 기법 이용 --> 입력 값에 따라 한 번도 반복을 수행하지 않을 수도 있음\n",
        "# 무한 루프의 break 누락 방지를 위해 사용\n",
        "number = int(float(input('정수 입력 (0이면 종료) : ')))\n",
        "\n",
        "while number != 0:\n",
        "    print(number)\n",
        "    number = int(float(input('정수 입력 (0이면 종료) : ')))"
      ],
      "execution_count": 39,
      "outputs": [
        {
          "output_type": "stream",
          "text": [
            "정수 입력 (0이면 종료) : 10\n",
            "10\n",
            "정수 입력 (0이면 종료) : 20\n",
            "20\n",
            "정수 입력 (0이면 종료) : 30\n",
            "30\n",
            "정수 입력 (0이면 종료) : 0\n"
          ],
          "name": "stdout"
        }
      ]
    }
  ]
}