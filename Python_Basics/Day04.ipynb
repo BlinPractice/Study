{
  "nbformat": 4,
  "nbformat_minor": 0,
  "metadata": {
    "colab": {
      "name": "Day04.ipynb",
      "provenance": [],
      "collapsed_sections": [],
      "authorship_tag": "ABX9TyOugw9cP1Vpq0/cojKH12UQ",
      "include_colab_link": true
    },
    "kernelspec": {
      "name": "python3",
      "display_name": "Python 3"
    },
    "language_info": {
      "name": "python"
    }
  },
  "cells": [
    {
      "cell_type": "markdown",
      "metadata": {
        "id": "view-in-github",
        "colab_type": "text"
      },
      "source": [
        "<a href=\"https://colab.research.google.com/github/PyBlin/Study/blob/main/Python_Basics/Day04.ipynb\" target=\"_parent\"><img src=\"https://colab.research.google.com/assets/colab-badge.svg\" alt=\"Open In Colab\"/></a>"
      ]
    },
    {
      "cell_type": "markdown",
      "metadata": {
        "id": "aq92Rj_nbDnV"
      },
      "source": [
        "## 기본 자료형 값"
      ]
    },
    {
      "cell_type": "code",
      "metadata": {
        "colab": {
          "base_uri": "https://localhost:8080/"
        },
        "id": "ughiUq6BbGck",
        "outputId": "03f320db-c65c-4aa8-f8ec-0ce6b8307d1a"
      },
      "source": [
        "True, type(True)            # 논리형 literal"
      ],
      "execution_count": 1,
      "outputs": [
        {
          "output_type": "execute_result",
          "data": {
            "text/plain": [
              "(True, bool)"
            ]
          },
          "metadata": {
            "tags": []
          },
          "execution_count": 1
        }
      ]
    },
    {
      "cell_type": "code",
      "metadata": {
        "colab": {
          "base_uri": "https://localhost:8080/"
        },
        "id": "8cRlkHVxbPV9",
        "outputId": "366adfdc-59e2-43a6-9255-4ad501b7742d"
      },
      "source": [
        "10, type(10)                # 정수형"
      ],
      "execution_count": 2,
      "outputs": [
        {
          "output_type": "execute_result",
          "data": {
            "text/plain": [
              "(10, int)"
            ]
          },
          "metadata": {
            "tags": []
          },
          "execution_count": 2
        }
      ]
    },
    {
      "cell_type": "code",
      "metadata": {
        "colab": {
          "base_uri": "https://localhost:8080/"
        },
        "id": "3VYK3p2XbRMq",
        "outputId": "eec9084d-09e9-4ffa-f93b-ed4f9879e0e3"
      },
      "source": [
        "10.0, type(10.0)            # 실수형"
      ],
      "execution_count": 3,
      "outputs": [
        {
          "output_type": "execute_result",
          "data": {
            "text/plain": [
              "(10.0, float)"
            ]
          },
          "metadata": {
            "tags": []
          },
          "execution_count": 3
        }
      ]
    },
    {
      "cell_type": "code",
      "metadata": {
        "colab": {
          "base_uri": "https://localhost:8080/"
        },
        "id": "U4CFw64obTts",
        "outputId": "a5f0b35f-5c24-4534-a9e6-e5f220969db6"
      },
      "source": [
        "2 + 3j, type(2 + 3j)        # 복소수형"
      ],
      "execution_count": 4,
      "outputs": [
        {
          "output_type": "execute_result",
          "data": {
            "text/plain": [
              "((2+3j), complex)"
            ]
          },
          "metadata": {
            "tags": []
          },
          "execution_count": 4
        }
      ]
    },
    {
      "cell_type": "code",
      "metadata": {
        "colab": {
          "base_uri": "https://localhost:8080/"
        },
        "id": "Ei8Kw_0xbYUM",
        "outputId": "27e97f28-f248-42b8-8708-c2488901cdd8"
      },
      "source": [
        "b'python', type(b'python')  # byte형"
      ],
      "execution_count": 5,
      "outputs": [
        {
          "output_type": "execute_result",
          "data": {
            "text/plain": [
              "(b'python', bytes)"
            ]
          },
          "metadata": {
            "tags": []
          },
          "execution_count": 5
        }
      ]
    },
    {
      "cell_type": "code",
      "metadata": {
        "id": "VAd38_2Pe68N"
      },
      "source": [
        "# 기본 자료형 변수 정의\n",
        "bool_variable = False\n",
        "int_variable = 15\n",
        "float_variable = 15.9\n",
        "comp_variable = 2 + 3j\n",
        "byte_variable = b'python'"
      ],
      "execution_count": 6,
      "outputs": []
    },
    {
      "cell_type": "code",
      "metadata": {
        "colab": {
          "base_uri": "https://localhost:8080/"
        },
        "id": "8E9dVcGbfOZr",
        "outputId": "13dc1704-a60b-4177-803d-7e9d812bc739"
      },
      "source": [
        "print(bool_variable, type(bool_variable))\n",
        "print(int_variable, type(int_variable))\n",
        "print(float_variable, type(float_variable))\n",
        "print(comp_variable, type(comp_variable))\n",
        "print(byte_variable, type(byte_variable))"
      ],
      "execution_count": 7,
      "outputs": [
        {
          "output_type": "stream",
          "text": [
            "False <class 'bool'>\n",
            "15 <class 'int'>\n",
            "15.9 <class 'float'>\n",
            "(2+3j) <class 'complex'>\n",
            "b'python' <class 'bytes'>\n"
          ],
          "name": "stdout"
        }
      ]
    },
    {
      "cell_type": "code",
      "metadata": {
        "colab": {
          "base_uri": "https://localhost:8080/"
        },
        "id": "gyc2KVd3f4s6",
        "outputId": "c2243601-6659-450f-b7f4-3a4e2a319848"
      },
      "source": [
        "bool_variable = True\n",
        "bool_variable"
      ],
      "execution_count": 8,
      "outputs": [
        {
          "output_type": "execute_result",
          "data": {
            "text/plain": [
              "True"
            ]
          },
          "metadata": {
            "tags": []
          },
          "execution_count": 8
        }
      ]
    },
    {
      "cell_type": "markdown",
      "metadata": {
        "id": "xM8shl-xgypV"
      },
      "source": [
        "## 형변환"
      ]
    },
    {
      "cell_type": "code",
      "metadata": {
        "colab": {
          "base_uri": "https://localhost:8080/"
        },
        "id": "XP5hYFvggzrI",
        "outputId": "feae045e-7faf-4e52-ea7a-31087e79a415"
      },
      "source": [
        "bool_variable = 1\n",
        "bool_variable"
      ],
      "execution_count": 9,
      "outputs": [
        {
          "output_type": "execute_result",
          "data": {
            "text/plain": [
              "1"
            ]
          },
          "metadata": {
            "tags": []
          },
          "execution_count": 9
        }
      ]
    },
    {
      "cell_type": "code",
      "metadata": {
        "colab": {
          "base_uri": "https://localhost:8080/"
        },
        "id": "infac_Szg4NV",
        "outputId": "f20abb68-4f69-4abf-ad65-8160b5e658be"
      },
      "source": [
        "type(bool_variable)"
      ],
      "execution_count": 10,
      "outputs": [
        {
          "output_type": "execute_result",
          "data": {
            "text/plain": [
              "int"
            ]
          },
          "metadata": {
            "tags": []
          },
          "execution_count": 10
        }
      ]
    },
    {
      "cell_type": "code",
      "metadata": {
        "colab": {
          "base_uri": "https://localhost:8080/"
        },
        "id": "-mPExI14g6ps",
        "outputId": "4648f2ac-4247-4136-d49f-b555937d751c"
      },
      "source": [
        "bool_variable = True\n",
        "bool_variable"
      ],
      "execution_count": 11,
      "outputs": [
        {
          "output_type": "execute_result",
          "data": {
            "text/plain": [
              "True"
            ]
          },
          "metadata": {
            "tags": []
          },
          "execution_count": 11
        }
      ]
    },
    {
      "cell_type": "code",
      "metadata": {
        "colab": {
          "base_uri": "https://localhost:8080/"
        },
        "id": "XF-gb9uWg-5A",
        "outputId": "0e854f97-6c1c-4068-facd-5cfd01a5e670"
      },
      "source": [
        "type(bool_variable)"
      ],
      "execution_count": 12,
      "outputs": [
        {
          "output_type": "execute_result",
          "data": {
            "text/plain": [
              "bool"
            ]
          },
          "metadata": {
            "tags": []
          },
          "execution_count": 12
        }
      ]
    },
    {
      "cell_type": "code",
      "metadata": {
        "colab": {
          "base_uri": "https://localhost:8080/"
        },
        "id": "eGAyakINhCYn",
        "outputId": "91e04a17-9283-4bf0-dd84-67576aa45c3f"
      },
      "source": [
        "bool_variable = bool(-2)         # bool() 함수 : 논리형으로 형변환하는 함수\n",
        "bool_variable"
      ],
      "execution_count": 13,
      "outputs": [
        {
          "output_type": "execute_result",
          "data": {
            "text/plain": [
              "True"
            ]
          },
          "metadata": {
            "tags": []
          },
          "execution_count": 13
        }
      ]
    },
    {
      "cell_type": "code",
      "metadata": {
        "colab": {
          "base_uri": "https://localhost:8080/"
        },
        "id": "dlqOAppPhHD9",
        "outputId": "2751f016-d78b-41b7-9559-e8c66e394adb"
      },
      "source": [
        "type(bool_variable)"
      ],
      "execution_count": 14,
      "outputs": [
        {
          "output_type": "execute_result",
          "data": {
            "text/plain": [
              "bool"
            ]
          },
          "metadata": {
            "tags": []
          },
          "execution_count": 14
        }
      ]
    },
    {
      "cell_type": "code",
      "metadata": {
        "colab": {
          "base_uri": "https://localhost:8080/"
        },
        "id": "teHRlJKzhJv_",
        "outputId": "cb496f61-ccd2-4a3c-c078-36b7e911442c"
      },
      "source": [
        "bool_variable = bool(0)\n",
        "bool_variable"
      ],
      "execution_count": 15,
      "outputs": [
        {
          "output_type": "execute_result",
          "data": {
            "text/plain": [
              "False"
            ]
          },
          "metadata": {
            "tags": []
          },
          "execution_count": 15
        }
      ]
    },
    {
      "cell_type": "code",
      "metadata": {
        "colab": {
          "base_uri": "https://localhost:8080/"
        },
        "id": "bA5fyz3ahN7W",
        "outputId": "32960a4c-7420-4087-d8b5-8c39a2217941"
      },
      "source": [
        "type(bool_variable)"
      ],
      "execution_count": 16,
      "outputs": [
        {
          "output_type": "execute_result",
          "data": {
            "text/plain": [
              "bool"
            ]
          },
          "metadata": {
            "tags": []
          },
          "execution_count": 16
        }
      ]
    },
    {
      "cell_type": "code",
      "metadata": {
        "colab": {
          "base_uri": "https://localhost:8080/"
        },
        "id": "Zq_3u6bghmgB",
        "outputId": "7f7d33e0-9ce5-4616-b0f7-5bd276f14a36"
      },
      "source": [
        "type(10.5)          # 10.5 : 실수"
      ],
      "execution_count": 17,
      "outputs": [
        {
          "output_type": "execute_result",
          "data": {
            "text/plain": [
              "float"
            ]
          },
          "metadata": {
            "tags": []
          },
          "execution_count": 17
        }
      ]
    },
    {
      "cell_type": "code",
      "metadata": {
        "colab": {
          "base_uri": "https://localhost:8080/"
        },
        "id": "C3yrqekhhqSv",
        "outputId": "13ed85dc-f9ff-42a5-f4e3-7e3703ff25fe"
      },
      "source": [
        "type(int(10.5))     # int(10.5) : 10.5(실수)를 정수로 변환"
      ],
      "execution_count": 18,
      "outputs": [
        {
          "output_type": "execute_result",
          "data": {
            "text/plain": [
              "int"
            ]
          },
          "metadata": {
            "tags": []
          },
          "execution_count": 18
        }
      ]
    },
    {
      "cell_type": "code",
      "metadata": {
        "colab": {
          "base_uri": "https://localhost:8080/"
        },
        "id": "RrP143XeiRmS",
        "outputId": "06e1f200-6d5a-454b-d2f9-9a928e2352ab"
      },
      "source": [
        "type(10)"
      ],
      "execution_count": 19,
      "outputs": [
        {
          "output_type": "execute_result",
          "data": {
            "text/plain": [
              "int"
            ]
          },
          "metadata": {
            "tags": []
          },
          "execution_count": 19
        }
      ]
    },
    {
      "cell_type": "code",
      "metadata": {
        "colab": {
          "base_uri": "https://localhost:8080/"
        },
        "id": "fdxoIpIziU5S",
        "outputId": "a3b92e88-13c0-4745-a7b0-8147bc100441"
      },
      "source": [
        "type(float(10))"
      ],
      "execution_count": 20,
      "outputs": [
        {
          "output_type": "execute_result",
          "data": {
            "text/plain": [
              "float"
            ]
          },
          "metadata": {
            "tags": []
          },
          "execution_count": 20
        }
      ]
    },
    {
      "cell_type": "code",
      "metadata": {
        "id": "kQjEwQFWicik"
      },
      "source": [
        "variable = 10\n",
        "float_variable = float(variable)            # 실수로 형변환해서 저장\n",
        "bool_variable = bool(variable)              # 논리형으로 형변환해서 저장"
      ],
      "execution_count": 21,
      "outputs": []
    },
    {
      "cell_type": "code",
      "metadata": {
        "colab": {
          "base_uri": "https://localhost:8080/"
        },
        "id": "8eQLB0w4iloM",
        "outputId": "1bb75806-ce44-44a2-dc60-af6773db8ddf"
      },
      "source": [
        "print(variable)\n",
        "print(float_variable)\n",
        "print(bool_variable)"
      ],
      "execution_count": 22,
      "outputs": [
        {
          "output_type": "stream",
          "text": [
            "10\n",
            "10.0\n",
            "True\n"
          ],
          "name": "stdout"
        }
      ]
    },
    {
      "cell_type": "markdown",
      "metadata": {
        "id": "5TFjXBs9nKqf"
      },
      "source": [
        "##변수(variable)"
      ]
    },
    {
      "cell_type": "code",
      "metadata": {
        "colab": {
          "base_uri": "https://localhost:8080/"
        },
        "id": "nC5Bi2JBnOIl",
        "outputId": "c497bebb-e8e3-49da-f23d-d167fe4912fa"
      },
      "source": [
        "number1 = 999999999                 # 변수 정의, 초기값\n",
        "number1                             # 제곱"
      ],
      "execution_count": 23,
      "outputs": [
        {
          "output_type": "execute_result",
          "data": {
            "text/plain": [
              "999999999"
            ]
          },
          "metadata": {
            "tags": []
          },
          "execution_count": 23
        }
      ]
    },
    {
      "cell_type": "code",
      "metadata": {
        "colab": {
          "base_uri": "https://localhost:8080/"
        },
        "id": "r-aF6s-6oOnP",
        "outputId": "3631f8f8-8c8a-401a-e2de-db29b27fc0fa"
      },
      "source": [
        "# 변수에 값 치환(값 저장), number1에 10(literal)을 기억시켜라\n",
        "number1 = 10\n",
        "number1"
      ],
      "execution_count": 24,
      "outputs": [
        {
          "output_type": "execute_result",
          "data": {
            "text/plain": [
              "10"
            ]
          },
          "metadata": {
            "tags": []
          },
          "execution_count": 24
        }
      ]
    },
    {
      "cell_type": "code",
      "metadata": {
        "colab": {
          "base_uri": "https://localhost:8080/"
        },
        "id": "cIuhEkydpZZ2",
        "outputId": "a1a7aa74-e105-4e51-bb81-3540bdbd9807"
      },
      "source": [
        "# number2 변수에 number1 변수의 내용을 기억시켜라\n",
        "number2 = number1\n",
        "number2"
      ],
      "execution_count": 25,
      "outputs": [
        {
          "output_type": "execute_result",
          "data": {
            "text/plain": [
              "10"
            ]
          },
          "metadata": {
            "tags": []
          },
          "execution_count": 25
        }
      ]
    },
    {
      "cell_type": "code",
      "metadata": {
        "colab": {
          "base_uri": "https://localhost:8080/"
        },
        "id": "Ij9SfTiiqLeL",
        "outputId": "d5b9295d-3a3e-4dec-f9b8-1563a8afa5fe"
      },
      "source": [
        "number1"
      ],
      "execution_count": 26,
      "outputs": [
        {
          "output_type": "execute_result",
          "data": {
            "text/plain": [
              "10"
            ]
          },
          "metadata": {
            "tags": []
          },
          "execution_count": 26
        }
      ]
    },
    {
      "cell_type": "code",
      "metadata": {
        "colab": {
          "base_uri": "https://localhost:8080/"
        },
        "id": "Tqe6DIv_qMuq",
        "outputId": "5f453996-8b4e-47c5-ed25-e4e182e89ec8"
      },
      "source": [
        "number1 = 20\n",
        "number1"
      ],
      "execution_count": 27,
      "outputs": [
        {
          "output_type": "execute_result",
          "data": {
            "text/plain": [
              "20"
            ]
          },
          "metadata": {
            "tags": []
          },
          "execution_count": 27
        }
      ]
    },
    {
      "cell_type": "code",
      "metadata": {
        "colab": {
          "base_uri": "https://localhost:8080/"
        },
        "id": "fMMWYFSgqP9i",
        "outputId": "b9f1499c-363d-441f-e343-22a0a72440bc"
      },
      "source": [
        "number2"
      ],
      "execution_count": 28,
      "outputs": [
        {
          "output_type": "execute_result",
          "data": {
            "text/plain": [
              "10"
            ]
          },
          "metadata": {
            "tags": []
          },
          "execution_count": 28
        }
      ]
    },
    {
      "cell_type": "markdown",
      "metadata": {
        "id": "FXDBw9-Xqfao"
      },
      "source": [
        "##누적"
      ]
    },
    {
      "cell_type": "code",
      "metadata": {
        "colab": {
          "base_uri": "https://localhost:8080/"
        },
        "id": "h92HY4Ffqgt9",
        "outputId": "51da6d49-2b6e-4003-8565-c45fd80effa0"
      },
      "source": [
        "# 변수에 초기값 0을 기억\n",
        "total = 0\n",
        "total"
      ],
      "execution_count": 29,
      "outputs": [
        {
          "output_type": "execute_result",
          "data": {
            "text/plain": [
              "0"
            ]
          },
          "metadata": {
            "tags": []
          },
          "execution_count": 29
        }
      ]
    },
    {
      "cell_type": "code",
      "metadata": {
        "colab": {
          "base_uri": "https://localhost:8080/"
        },
        "id": "fng5nyzXqkOr",
        "outputId": "baafdf5e-6ec4-492c-f33c-36a66e6062c3"
      },
      "source": [
        "# total 변수의 내용을 읽어 1을 더한 후 변수에 기억\n",
        "total += 2\n",
        "total"
      ],
      "execution_count": 30,
      "outputs": [
        {
          "output_type": "execute_result",
          "data": {
            "text/plain": [
              "2"
            ]
          },
          "metadata": {
            "tags": []
          },
          "execution_count": 30
        }
      ]
    },
    {
      "cell_type": "code",
      "metadata": {
        "colab": {
          "base_uri": "https://localhost:8080/"
        },
        "id": "mI78Yf2aqoms",
        "outputId": "3ad1a6f8-b0c3-4edd-8d54-ef18c0287172"
      },
      "source": [
        "total += 2\n",
        "total"
      ],
      "execution_count": 31,
      "outputs": [
        {
          "output_type": "execute_result",
          "data": {
            "text/plain": [
              "4"
            ]
          },
          "metadata": {
            "tags": []
          },
          "execution_count": 31
        }
      ]
    },
    {
      "cell_type": "code",
      "metadata": {
        "colab": {
          "base_uri": "https://localhost:8080/"
        },
        "id": "cxtd_MBzrEyd",
        "outputId": "427d636d-5dbb-4b74-b1a1-08242c367655"
      },
      "source": [
        "total += 2\n",
        "total"
      ],
      "execution_count": 32,
      "outputs": [
        {
          "output_type": "execute_result",
          "data": {
            "text/plain": [
              "6"
            ]
          },
          "metadata": {
            "tags": []
          },
          "execution_count": 32
        }
      ]
    },
    {
      "cell_type": "code",
      "metadata": {
        "colab": {
          "base_uri": "https://localhost:8080/"
        },
        "id": "1lOHk6ugrdYH",
        "outputId": "abcb55b5-48cb-406d-d632-d1b9934574ab"
      },
      "source": [
        "total = 0\n",
        "total"
      ],
      "execution_count": 33,
      "outputs": [
        {
          "output_type": "execute_result",
          "data": {
            "text/plain": [
              "0"
            ]
          },
          "metadata": {
            "tags": []
          },
          "execution_count": 33
        }
      ]
    },
    {
      "cell_type": "code",
      "metadata": {
        "colab": {
          "base_uri": "https://localhost:8080/"
        },
        "id": "ugQ5rrDvrf_j",
        "outputId": "77222b62-e381-4bcb-85e8-9b8b9e95e8bd"
      },
      "source": [
        "total = 2+2+2           # 누적 표현일까요? 아닐까요? --> 누적이 아니라 연산 결과 치환\n",
        "total"
      ],
      "execution_count": 34,
      "outputs": [
        {
          "output_type": "execute_result",
          "data": {
            "text/plain": [
              "6"
            ]
          },
          "metadata": {
            "tags": []
          },
          "execution_count": 34
        }
      ]
    },
    {
      "cell_type": "code",
      "metadata": {
        "colab": {
          "base_uri": "https://localhost:8080/"
        },
        "id": "hM-CjHe2rqRp",
        "outputId": "f560903c-fa53-4828-8b1f-1e8931d4c658"
      },
      "source": [
        "total = 100\n",
        "total"
      ],
      "execution_count": 35,
      "outputs": [
        {
          "output_type": "execute_result",
          "data": {
            "text/plain": [
              "100"
            ]
          },
          "metadata": {
            "tags": []
          },
          "execution_count": 35
        }
      ]
    },
    {
      "cell_type": "code",
      "metadata": {
        "colab": {
          "base_uri": "https://localhost:8080/"
        },
        "id": "nNWXCqfCsMGk",
        "outputId": "9a4ff2e0-8b50-43a5-c623-c1d26e076c7b"
      },
      "source": [
        "total -= 5\n",
        "total"
      ],
      "execution_count": 36,
      "outputs": [
        {
          "output_type": "execute_result",
          "data": {
            "text/plain": [
              "95"
            ]
          },
          "metadata": {
            "tags": []
          },
          "execution_count": 36
        }
      ]
    },
    {
      "cell_type": "code",
      "metadata": {
        "colab": {
          "base_uri": "https://localhost:8080/"
        },
        "id": "SfZMNW8PsQ5u",
        "outputId": "7d666ae2-3cf2-49eb-cfcc-eca0e960b5a3"
      },
      "source": [
        "total -= 5\n",
        "total"
      ],
      "execution_count": 37,
      "outputs": [
        {
          "output_type": "execute_result",
          "data": {
            "text/plain": [
              "90"
            ]
          },
          "metadata": {
            "tags": []
          },
          "execution_count": 37
        }
      ]
    },
    {
      "cell_type": "code",
      "metadata": {
        "colab": {
          "base_uri": "https://localhost:8080/"
        },
        "id": "aXVkWcLmsTjc",
        "outputId": "ed21165f-3feb-4f6b-aefe-906599bb99ac"
      },
      "source": [
        "total -= 5\n",
        "total"
      ],
      "execution_count": 38,
      "outputs": [
        {
          "output_type": "execute_result",
          "data": {
            "text/plain": [
              "85"
            ]
          },
          "metadata": {
            "tags": []
          },
          "execution_count": 38
        }
      ]
    },
    {
      "cell_type": "markdown",
      "metadata": {
        "id": "WBwzn7tasoyp"
      },
      "source": [
        "##산술연산"
      ]
    },
    {
      "cell_type": "code",
      "metadata": {
        "id": "_ZLolf1vsqkR"
      },
      "source": [
        "# 정수 산술 연산\n",
        "number1 = 10\n",
        "number2 = 5\n",
        "\n",
        "add = number1 + number2\n",
        "subtract = number1 - number2\n",
        "multiple = number1 * number2\n",
        "divide_float = number1 / number2\n",
        "divide_int = number1 // number2\n",
        "remainder = number1 % number2\n",
        "square = number1 ** number2"
      ],
      "execution_count": 39,
      "outputs": []
    },
    {
      "cell_type": "code",
      "metadata": {
        "colab": {
          "base_uri": "https://localhost:8080/"
        },
        "id": "7VrNyKo_tHVL",
        "outputId": "3b32ad1c-8670-4184-f3ad-a28ec6d182ce"
      },
      "source": [
        "print(add)\n",
        "print(subtract)\n",
        "print(multiple)\n",
        "print(divide_float)\n",
        "print(divide_int)\n",
        "print(remainder)\n",
        "print(square)"
      ],
      "execution_count": 40,
      "outputs": [
        {
          "output_type": "stream",
          "text": [
            "15\n",
            "5\n",
            "50\n",
            "2.0\n",
            "2\n",
            "0\n",
            "100000\n"
          ],
          "name": "stdout"
        }
      ]
    },
    {
      "cell_type": "code",
      "metadata": {
        "id": "GC_ol_9nukMb"
      },
      "source": [
        "# 실수 산술 연산\n",
        "number1 = 10.5\n",
        "number2 = 5.9\n",
        "\n",
        "add = number1 + number2\n",
        "subtract = number1 - number2\n",
        "multiple = number1 * number2\n",
        "divide_float = number1 / number2\n",
        "divide_int = number1 // number2\n",
        "remainder = number1 % number2\n",
        "square = number1 ** number2"
      ],
      "execution_count": 41,
      "outputs": []
    },
    {
      "cell_type": "code",
      "metadata": {
        "colab": {
          "base_uri": "https://localhost:8080/"
        },
        "id": "7CEbtQSLuoKa",
        "outputId": "7255873a-ff97-4723-d902-f608c26f6f2d"
      },
      "source": [
        "print(add)\n",
        "print(subtract)\n",
        "print(multiple)\n",
        "print(divide_float)\n",
        "print(divide_int)\n",
        "print(remainder)\n",
        "print(square)"
      ],
      "execution_count": 42,
      "outputs": [
        {
          "output_type": "stream",
          "text": [
            "16.4\n",
            "4.6\n",
            "61.95\n",
            "1.7796610169491525\n",
            "1.0\n",
            "4.6\n",
            "1059294.8588905274\n"
          ],
          "name": "stdout"
        }
      ]
    },
    {
      "cell_type": "code",
      "metadata": {
        "id": "cEawj5t4uuqH"
      },
      "source": [
        "# 정수, 실수 산술 연산\n",
        "number1 = 10\n",
        "number2 = 5.9\n",
        "\n",
        "add = number1 + number2\n",
        "subtract = number1 - number2\n",
        "multiple = number1 * number2\n",
        "divide_float = number1 / number2\n",
        "divide_int = number1 // number2\n",
        "remainder = number1 % number2\n",
        "square = number1 ** number2"
      ],
      "execution_count": 43,
      "outputs": []
    },
    {
      "cell_type": "code",
      "metadata": {
        "colab": {
          "base_uri": "https://localhost:8080/"
        },
        "id": "3FjWiciouzLu",
        "outputId": "cb49d0cb-4b00-413b-d55b-d635154169df"
      },
      "source": [
        "print(add)\n",
        "print(subtract)\n",
        "print(multiple)\n",
        "print(divide_float)\n",
        "print(divide_int)\n",
        "print(remainder)\n",
        "print(square)"
      ],
      "execution_count": 44,
      "outputs": [
        {
          "output_type": "stream",
          "text": [
            "15.9\n",
            "4.1\n",
            "59.0\n",
            "1.694915254237288\n",
            "1.0\n",
            "4.1\n",
            "794328.2347242822\n"
          ],
          "name": "stdout"
        }
      ]
    },
    {
      "cell_type": "code",
      "metadata": {
        "colab": {
          "base_uri": "https://localhost:8080/"
        },
        "id": "3AqK7yqLvNfO",
        "outputId": "bb83cf26-64f9-4f43-efce-a28eb589b06b"
      },
      "source": [
        "# 산술 연산 결과를 int() 함수를 이용하여 형변환하여 출력\n",
        "print(int(add))\n",
        "print(int(subtract))\n",
        "print(int(multiple))\n",
        "print(int(divide_float))\n",
        "print(int(divide_int))\n",
        "print(int(remainder))\n",
        "print(int(square))"
      ],
      "execution_count": 45,
      "outputs": [
        {
          "output_type": "stream",
          "text": [
            "15\n",
            "4\n",
            "59\n",
            "1\n",
            "1\n",
            "4\n",
            "794328\n"
          ],
          "name": "stdout"
        }
      ]
    },
    {
      "cell_type": "code",
      "metadata": {
        "colab": {
          "base_uri": "https://localhost:8080/"
        },
        "id": "jsXghZExvqmi",
        "outputId": "d04dc232-7830-4771-9279-156dde9f4c76"
      },
      "source": [
        "# 논리형에 대한 산술 연산\n",
        "# 파이썬에서 True는 정수 1, False는 정수 0\n",
        "bool_variable1 = True\n",
        "bool_variable2 = False\n",
        "\n",
        "print(bool_variable1 + bool_variable2)\n",
        "print(bool_variable1 - bool_variable2)\n",
        "print(bool_variable1 * 2)\n",
        "print(bool_variable2 * 2)"
      ],
      "execution_count": 46,
      "outputs": [
        {
          "output_type": "stream",
          "text": [
            "1\n",
            "1\n",
            "2\n",
            "0\n"
          ],
          "name": "stdout"
        }
      ]
    },
    {
      "cell_type": "code",
      "metadata": {
        "colab": {
          "base_uri": "https://localhost:8080/"
        },
        "id": "5wpbS6Z_v2_e",
        "outputId": "973341d3-2bd5-4c90-f348-ccfc0d01f4d9"
      },
      "source": [
        "print(5 + True)"
      ],
      "execution_count": 47,
      "outputs": [
        {
          "output_type": "stream",
          "text": [
            "6\n"
          ],
          "name": "stdout"
        }
      ]
    },
    {
      "cell_type": "markdown",
      "metadata": {
        "id": "mKi2POUS17QR"
      },
      "source": [
        "##관계연산"
      ]
    },
    {
      "cell_type": "code",
      "metadata": {
        "colab": {
          "base_uri": "https://localhost:8080/"
        },
        "id": "ehWHoDHs18c7",
        "outputId": "7b9d41dd-420e-4182-b249-1fc7404589a4"
      },
      "source": [
        "number1 = 10\n",
        "number2 = 9\n",
        "number3 = 10\n",
        "\n",
        "print(number1 > number2)\n",
        "print(number1 < number3)\n",
        "print(number1 >= number2)\n",
        "print(number1 <= number3)\n",
        "print(number1 == number3)\n",
        "print(number1 != number3)"
      ],
      "execution_count": 48,
      "outputs": [
        {
          "output_type": "stream",
          "text": [
            "True\n",
            "False\n",
            "True\n",
            "True\n",
            "True\n",
            "False\n"
          ],
          "name": "stdout"
        }
      ]
    },
    {
      "cell_type": "code",
      "metadata": {
        "colab": {
          "base_uri": "https://localhost:8080/"
        },
        "id": "OowOgltK2jpe",
        "outputId": "7a3068f7-21a0-4be2-95dc-5e47d390e058"
      },
      "source": [
        "float_number1 = 10.5\n",
        "float_number2 = 9.9\n",
        "float_number3 = 10.5\n",
        "\n",
        "print(float_number1 > float_number2)\n",
        "print(float_number1 < float_number3)\n",
        "print(float_number1 >= float_number2)\n",
        "print(float_number1 <= float_number3)\n",
        "print(float_number1 == float_number3)           # 실수형에 대해서는 등가 연산을 수행하지 않는다.\n",
        "print(float_number1 != float_number3)"
      ],
      "execution_count": 49,
      "outputs": [
        {
          "output_type": "stream",
          "text": [
            "True\n",
            "False\n",
            "True\n",
            "True\n",
            "True\n",
            "False\n"
          ],
          "name": "stdout"
        }
      ]
    },
    {
      "cell_type": "markdown",
      "metadata": {
        "id": "MN80jLxS37FN"
      },
      "source": [
        "##논리연산"
      ]
    },
    {
      "cell_type": "code",
      "metadata": {
        "colab": {
          "base_uri": "https://localhost:8080/"
        },
        "id": "CWch2jtp38uI",
        "outputId": "341f333a-f7a8-4d4a-b08b-509536c323cc"
      },
      "source": [
        "number1 = 25\n",
        "number2 = 52\n",
        "number3 = 15\n",
        "\n",
        "print(number1 > number2 and number1 > number3)\n",
        "print(number1 > number2 or number1 > number3)\n",
        "print(not(number1))\n",
        "print(not(not(number1)))"
      ],
      "execution_count": 50,
      "outputs": [
        {
          "output_type": "stream",
          "text": [
            "False\n",
            "True\n",
            "False\n",
            "True\n"
          ],
          "name": "stdout"
        }
      ]
    },
    {
      "cell_type": "code",
      "metadata": {
        "colab": {
          "base_uri": "https://localhost:8080/"
        },
        "id": "BtriGRIB5FFw",
        "outputId": "49e6fe89-0bd4-4c81-ad34-0304eb32c3c5"
      },
      "source": [
        "print(number1 > number2 and number1 > number3)\n",
        "print(number2 < number1 > number3)              # and 연산의 다른 표현"
      ],
      "execution_count": 51,
      "outputs": [
        {
          "output_type": "stream",
          "text": [
            "False\n",
            "False\n"
          ],
          "name": "stdout"
        }
      ]
    },
    {
      "cell_type": "code",
      "metadata": {
        "id": "2k1WgrMu6STc"
      },
      "source": [
        "number1 = 15\n",
        "number2 = 25.7\n",
        "number3 = 35\n",
        "number4 = 25.9"
      ],
      "execution_count": 52,
      "outputs": []
    },
    {
      "cell_type": "code",
      "metadata": {
        "colab": {
          "base_uri": "https://localhost:8080/"
        },
        "id": "YsRoFMKH6ZKk",
        "outputId": "20e8db1c-d029-48b9-d98b-281a6c8028bf"
      },
      "source": [
        "print(number1 + number2 * number3 / number4)\n",
        "print(number1 + number2 + number3 + number4)\n",
        "print(number1 * (number2 + (number3 - number4)))"
      ],
      "execution_count": 53,
      "outputs": [
        {
          "output_type": "stream",
          "text": [
            "49.72972972972973\n",
            "101.6\n",
            "522.0\n"
          ],
          "name": "stdout"
        }
      ]
    },
    {
      "cell_type": "code",
      "metadata": {
        "id": "GyFG3cin612u",
        "colab": {
          "base_uri": "https://localhost:8080/"
        },
        "outputId": "dbf30593-641f-47fa-f35b-2a0589360097"
      },
      "source": [
        "number1 += 2\n",
        "number1"
      ],
      "execution_count": 54,
      "outputs": [
        {
          "output_type": "execute_result",
          "data": {
            "text/plain": [
              "17"
            ]
          },
          "metadata": {
            "tags": []
          },
          "execution_count": 54
        }
      ]
    }
  ]
}