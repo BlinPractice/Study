{
  "nbformat": 4,
  "nbformat_minor": 0,
  "metadata": {
    "colab": {
      "name": "Day06.ipynb",
      "provenance": [],
      "collapsed_sections": [],
      "authorship_tag": "ABX9TyMEpUcprbhqqmu7MYkfqqUp",
      "include_colab_link": true
    },
    "kernelspec": {
      "name": "python3",
      "display_name": "Python 3"
    },
    "language_info": {
      "name": "python"
    }
  },
  "cells": [
    {
      "cell_type": "markdown",
      "metadata": {
        "id": "view-in-github",
        "colab_type": "text"
      },
      "source": [
        "<a href=\"https://colab.research.google.com/github/PyBlin/Study/blob/main/Python_Basics/Day06.ipynb\" target=\"_parent\"><img src=\"https://colab.research.google.com/assets/colab-badge.svg\" alt=\"Open In Colab\"/></a>"
      ]
    },
    {
      "cell_type": "markdown",
      "metadata": {
        "id": "oXTzmMjPI-VX"
      },
      "source": [
        "# Sequence 자료형\n",
        "\n",
        "## 가변형(mutable)과 불변형(immutable)의 특징"
      ]
    },
    {
      "cell_type": "code",
      "metadata": {
        "id": "VBbhhCEqJJ1k"
      },
      "source": [
        "variable = 10           # 정수(기본 자료형)값을 저장하는 변수 정의"
      ],
      "execution_count": 1,
      "outputs": []
    },
    {
      "cell_type": "code",
      "metadata": {
        "colab": {
          "base_uri": "https://localhost:8080/"
        },
        "id": "j-RqKeeWJN17",
        "outputId": "54fd7985-7051-44ce-c27d-ba89476a49bf"
      },
      "source": [
        "id(variable)            # id() 함수 : 변수의 메모리 위치 값 확인 함수"
      ],
      "execution_count": 2,
      "outputs": [
        {
          "output_type": "execute_result",
          "data": {
            "text/plain": [
              "93887151840032"
            ]
          },
          "metadata": {
            "tags": []
          },
          "execution_count": 2
        }
      ]
    },
    {
      "cell_type": "code",
      "metadata": {
        "colab": {
          "base_uri": "https://localhost:8080/"
        },
        "id": "OQPVIozUJn-s",
        "outputId": "24fa80f6-aae1-4af8-cdcc-bfca6af50f8a"
      },
      "source": [
        "variable =+ 2\n",
        "print('variable = ', variable)"
      ],
      "execution_count": 3,
      "outputs": [
        {
          "output_type": "stream",
          "text": [
            "variable =  2\n"
          ],
          "name": "stdout"
        }
      ]
    },
    {
      "cell_type": "code",
      "metadata": {
        "colab": {
          "base_uri": "https://localhost:8080/"
        },
        "id": "SnkvJuS7J0VW",
        "outputId": "dc798f9d-6681-46a1-c6d8-588eee41158c"
      },
      "source": [
        "id(variable)"
      ],
      "execution_count": 4,
      "outputs": [
        {
          "output_type": "execute_result",
          "data": {
            "text/plain": [
              "93887151839776"
            ]
          },
          "metadata": {
            "tags": []
          },
          "execution_count": 4
        }
      ]
    },
    {
      "cell_type": "markdown",
      "metadata": {
        "id": "2fxBBMCELUj5"
      },
      "source": [
        "## 가변형(mutable)"
      ]
    },
    {
      "cell_type": "code",
      "metadata": {
        "colab": {
          "base_uri": "https://localhost:8080/"
        },
        "id": "Kn6MqPpsLavY",
        "outputId": "ec61bb1a-02fa-4a18-f60d-1e6ebca5005a"
      },
      "source": [
        "l = [1, 2, 3]           # list형 변수 생성\n",
        "print('l = ', l)"
      ],
      "execution_count": 5,
      "outputs": [
        {
          "output_type": "stream",
          "text": [
            "l =  [1, 2, 3]\n"
          ],
          "name": "stdout"
        }
      ]
    },
    {
      "cell_type": "code",
      "metadata": {
        "colab": {
          "base_uri": "https://localhost:8080/"
        },
        "id": "WhywsLShLOXe",
        "outputId": "328a63f0-d4c7-49b6-b9f2-9adfea729b85"
      },
      "source": [
        "id(l)"
      ],
      "execution_count": 6,
      "outputs": [
        {
          "output_type": "execute_result",
          "data": {
            "text/plain": [
              "140323227477248"
            ]
          },
          "metadata": {
            "tags": []
          },
          "execution_count": 6
        }
      ]
    },
    {
      "cell_type": "code",
      "metadata": {
        "colab": {
          "base_uri": "https://localhost:8080/"
        },
        "id": "eqAE2Em-LIQL",
        "outputId": "2e651300-7219-4c96-8229-d5c1b1f5a895"
      },
      "source": [
        "l.append(10)            # list형 변수에 값 추가\n",
        "print('l = ', l)"
      ],
      "execution_count": 7,
      "outputs": [
        {
          "output_type": "stream",
          "text": [
            "l =  [1, 2, 3, 10]\n"
          ],
          "name": "stdout"
        }
      ]
    },
    {
      "cell_type": "code",
      "metadata": {
        "colab": {
          "base_uri": "https://localhost:8080/"
        },
        "id": "uQGfnkyxNan6",
        "outputId": "455a452b-5ead-4fd4-89b3-75e0bbe0c2b9"
      },
      "source": [
        "id(l)"
      ],
      "execution_count": 8,
      "outputs": [
        {
          "output_type": "execute_result",
          "data": {
            "text/plain": [
              "140323227477248"
            ]
          },
          "metadata": {
            "tags": []
          },
          "execution_count": 8
        }
      ]
    },
    {
      "cell_type": "markdown",
      "metadata": {
        "id": "dx_30zmYPk0M"
      },
      "source": [
        "# str(문자 집합, 문자열(string))\n",
        "\n",
        "## str 생성"
      ]
    },
    {
      "cell_type": "code",
      "metadata": {
        "colab": {
          "base_uri": "https://localhost:8080/",
          "height": 35
        },
        "id": "u0oB3bF_PryS",
        "outputId": "4e3ca497-9be7-49fe-bfa6-838254970aaf"
      },
      "source": [
        "# str literal\n",
        "'python'\n",
        "\"python\"\n",
        "'''python'''\n",
        "\"\"\"python\"\"\""
      ],
      "execution_count": 9,
      "outputs": [
        {
          "output_type": "execute_result",
          "data": {
            "application/vnd.google.colaboratory.intrinsic+json": {
              "type": "string"
            },
            "text/plain": [
              "'python'"
            ]
          },
          "metadata": {
            "tags": []
          },
          "execution_count": 9
        }
      ]
    },
    {
      "cell_type": "code",
      "metadata": {
        "colab": {
          "base_uri": "https://localhost:8080/",
          "height": 35
        },
        "id": "9SHfsWBlP2-T",
        "outputId": "702d3b07-e818-4fbd-90a5-ed9dcf443a2e"
      },
      "source": [
        "\"python's\""
      ],
      "execution_count": 10,
      "outputs": [
        {
          "output_type": "execute_result",
          "data": {
            "application/vnd.google.colaboratory.intrinsic+json": {
              "type": "string"
            },
            "text/plain": [
              "\"python's\""
            ]
          },
          "metadata": {
            "tags": []
          },
          "execution_count": 10
        }
      ]
    },
    {
      "cell_type": "code",
      "metadata": {
        "colab": {
          "base_uri": "https://localhost:8080/",
          "height": 35
        },
        "id": "hdwsh8spQBvC",
        "outputId": "fd6c9e13-3b90-4c69-870b-7dfb407e6546"
      },
      "source": [
        "'\"python\"'"
      ],
      "execution_count": 11,
      "outputs": [
        {
          "output_type": "execute_result",
          "data": {
            "application/vnd.google.colaboratory.intrinsic+json": {
              "type": "string"
            },
            "text/plain": [
              "'\"python\"'"
            ]
          },
          "metadata": {
            "tags": []
          },
          "execution_count": 11
        }
      ]
    },
    {
      "cell_type": "code",
      "metadata": {
        "colab": {
          "base_uri": "https://localhost:8080/"
        },
        "id": "ZBj6yl1lQMJ6",
        "outputId": "59a2b8aa-7607-4fd7-f60f-3de6833c82b8"
      },
      "source": [
        "print('python \\\n",
        "program')"
      ],
      "execution_count": 12,
      "outputs": [
        {
          "output_type": "stream",
          "text": [
            "python program\n"
          ],
          "name": "stdout"
        }
      ]
    },
    {
      "cell_type": "code",
      "metadata": {
        "colab": {
          "base_uri": "https://localhost:8080/"
        },
        "id": "KA_IFQ6iQVJM",
        "outputId": "04a6ebd5-63f0-4ec9-b8d9-525ad2af165e"
      },
      "source": [
        "print('''python\n",
        "program''')"
      ],
      "execution_count": 13,
      "outputs": [
        {
          "output_type": "stream",
          "text": [
            "python\n",
            "program\n"
          ],
          "name": "stdout"
        }
      ]
    },
    {
      "cell_type": "code",
      "metadata": {
        "colab": {
          "base_uri": "https://localhost:8080/"
        },
        "id": "IU-MrCarRhcY",
        "outputId": "c2b0d424-4b53-4eb0-ec67-f441b2f7c730"
      },
      "source": [
        "type('python')"
      ],
      "execution_count": 14,
      "outputs": [
        {
          "output_type": "execute_result",
          "data": {
            "text/plain": [
              "str"
            ]
          },
          "metadata": {
            "tags": []
          },
          "execution_count": 14
        }
      ]
    },
    {
      "cell_type": "code",
      "metadata": {
        "colab": {
          "base_uri": "https://localhost:8080/"
        },
        "id": "7-MQ3QgQRkC7",
        "outputId": "23cd2dcb-1a3d-4439-a391-4e6613e405c7"
      },
      "source": [
        "type(str(100))"
      ],
      "execution_count": 15,
      "outputs": [
        {
          "output_type": "execute_result",
          "data": {
            "text/plain": [
              "str"
            ]
          },
          "metadata": {
            "tags": []
          },
          "execution_count": 15
        }
      ]
    },
    {
      "cell_type": "code",
      "metadata": {
        "colab": {
          "base_uri": "https://localhost:8080/"
        },
        "id": "r_ZoPlmuRmV8",
        "outputId": "a8a5ac6e-de12-4ce1-a4b7-29c1fd019070"
      },
      "source": [
        "string = str(100)\n",
        "\n",
        "print('string = ', string)\n",
        "print('string type = ', type(string))"
      ],
      "execution_count": 16,
      "outputs": [
        {
          "output_type": "stream",
          "text": [
            "string =  100\n",
            "string type =  <class 'str'>\n"
          ],
          "name": "stdout"
        }
      ]
    },
    {
      "cell_type": "markdown",
      "metadata": {
        "id": "HLdBQsOsRxwb"
      },
      "source": [
        "# str-sequence 자료형 공통 연산\n",
        "\n",
        "## indexing"
      ]
    },
    {
      "cell_type": "code",
      "metadata": {
        "colab": {
          "base_uri": "https://localhost:8080/"
        },
        "id": "JCM_oz5sR3xU",
        "outputId": "cab989fc-9473-4cba-855d-7b4ca581f5d4"
      },
      "source": [
        "string = 'python program'\n",
        "print('string = ', string)"
      ],
      "execution_count": 17,
      "outputs": [
        {
          "output_type": "stream",
          "text": [
            "string =  python program\n"
          ],
          "name": "stdout"
        }
      ]
    },
    {
      "cell_type": "code",
      "metadata": {
        "colab": {
          "base_uri": "https://localhost:8080/",
          "height": 35
        },
        "id": "745oiswIR-XT",
        "outputId": "a19caeb5-d04b-4a44-9c94-5aaf1c5efbb8"
      },
      "source": [
        "string[0]"
      ],
      "execution_count": 18,
      "outputs": [
        {
          "output_type": "execute_result",
          "data": {
            "application/vnd.google.colaboratory.intrinsic+json": {
              "type": "string"
            },
            "text/plain": [
              "'p'"
            ]
          },
          "metadata": {
            "tags": []
          },
          "execution_count": 18
        }
      ]
    },
    {
      "cell_type": "code",
      "metadata": {
        "colab": {
          "base_uri": "https://localhost:8080/",
          "height": 35
        },
        "id": "HUJ3AigzSBoR",
        "outputId": "8cf4afe9-a3ef-4595-9722-4219e630ea43"
      },
      "source": [
        "string[1]"
      ],
      "execution_count": 19,
      "outputs": [
        {
          "output_type": "execute_result",
          "data": {
            "application/vnd.google.colaboratory.intrinsic+json": {
              "type": "string"
            },
            "text/plain": [
              "'y'"
            ]
          },
          "metadata": {
            "tags": []
          },
          "execution_count": 19
        }
      ]
    },
    {
      "cell_type": "code",
      "metadata": {
        "colab": {
          "base_uri": "https://localhost:8080/",
          "height": 35
        },
        "id": "Ahd4FvQZSDlY",
        "outputId": "0261dc0e-b893-4c54-8328-82e76483b16b"
      },
      "source": [
        "string[-1]"
      ],
      "execution_count": 20,
      "outputs": [
        {
          "output_type": "execute_result",
          "data": {
            "application/vnd.google.colaboratory.intrinsic+json": {
              "type": "string"
            },
            "text/plain": [
              "'m'"
            ]
          },
          "metadata": {
            "tags": []
          },
          "execution_count": 20
        }
      ]
    },
    {
      "cell_type": "markdown",
      "metadata": {
        "id": "GSy30NWwWYwM"
      },
      "source": [
        "## slicing"
      ]
    },
    {
      "cell_type": "code",
      "metadata": {
        "colab": {
          "base_uri": "https://localhost:8080/",
          "height": 35
        },
        "id": "7sQGzhyWWbOv",
        "outputId": "419818ae-8d9f-442b-fda1-1996660f9581"
      },
      "source": [
        "string[0:10:1]"
      ],
      "execution_count": 21,
      "outputs": [
        {
          "output_type": "execute_result",
          "data": {
            "application/vnd.google.colaboratory.intrinsic+json": {
              "type": "string"
            },
            "text/plain": [
              "'python pro'"
            ]
          },
          "metadata": {
            "tags": []
          },
          "execution_count": 21
        }
      ]
    },
    {
      "cell_type": "code",
      "metadata": {
        "colab": {
          "base_uri": "https://localhost:8080/",
          "height": 35
        },
        "id": "8VKOdLIkWr8Y",
        "outputId": "7606280a-9645-4e27-c33e-80efd644e218"
      },
      "source": [
        "string[0:10]"
      ],
      "execution_count": 22,
      "outputs": [
        {
          "output_type": "execute_result",
          "data": {
            "application/vnd.google.colaboratory.intrinsic+json": {
              "type": "string"
            },
            "text/plain": [
              "'python pro'"
            ]
          },
          "metadata": {
            "tags": []
          },
          "execution_count": 22
        }
      ]
    },
    {
      "cell_type": "code",
      "metadata": {
        "colab": {
          "base_uri": "https://localhost:8080/",
          "height": 35
        },
        "id": "LkdFstWWXhJi",
        "outputId": "fd41d609-5b6f-4b26-a285-33663c0ba362"
      },
      "source": [
        "string[0:10:2]"
      ],
      "execution_count": 23,
      "outputs": [
        {
          "output_type": "execute_result",
          "data": {
            "application/vnd.google.colaboratory.intrinsic+json": {
              "type": "string"
            },
            "text/plain": [
              "'pto r'"
            ]
          },
          "metadata": {
            "tags": []
          },
          "execution_count": 23
        }
      ]
    },
    {
      "cell_type": "code",
      "metadata": {
        "colab": {
          "base_uri": "https://localhost:8080/",
          "height": 35
        },
        "id": "58MGcntBXjfA",
        "outputId": "83e442e5-9bf8-4f9a-97c5-17821d485621"
      },
      "source": [
        "string[::2]         # 시작 인덱스와 종료 인덱스 생략, 간격은 2씩"
      ],
      "execution_count": 24,
      "outputs": [
        {
          "output_type": "execute_result",
          "data": {
            "application/vnd.google.colaboratory.intrinsic+json": {
              "type": "string"
            },
            "text/plain": [
              "'pto rga'"
            ]
          },
          "metadata": {
            "tags": []
          },
          "execution_count": 24
        }
      ]
    },
    {
      "cell_type": "code",
      "metadata": {
        "colab": {
          "base_uri": "https://localhost:8080/",
          "height": 35
        },
        "id": "vMivqCdmXrtw",
        "outputId": "4731375c-fbbf-448e-aaa1-77583455ca62"
      },
      "source": [
        "string[::-1]        # 간격이 -1이므로 역순으로 전체"
      ],
      "execution_count": 25,
      "outputs": [
        {
          "output_type": "execute_result",
          "data": {
            "application/vnd.google.colaboratory.intrinsic+json": {
              "type": "string"
            },
            "text/plain": [
              "'margorp nohtyp'"
            ]
          },
          "metadata": {
            "tags": []
          },
          "execution_count": 25
        }
      ]
    },
    {
      "cell_type": "code",
      "metadata": {
        "colab": {
          "base_uri": "https://localhost:8080/",
          "height": 35
        },
        "id": "4FjUxI1NYHZp",
        "outputId": "9e40e83d-6fa4-4f7a-c2c9-df5d66d8d6d6"
      },
      "source": [
        "string[-5:-3]       # 역순으로 5번째"
      ],
      "execution_count": 26,
      "outputs": [
        {
          "output_type": "execute_result",
          "data": {
            "application/vnd.google.colaboratory.intrinsic+json": {
              "type": "string"
            },
            "text/plain": [
              "'og'"
            ]
          },
          "metadata": {
            "tags": []
          },
          "execution_count": 26
        }
      ]
    },
    {
      "cell_type": "code",
      "metadata": {
        "colab": {
          "base_uri": "https://localhost:8080/",
          "height": 35
        },
        "id": "7P0XdDAAYZCu",
        "outputId": "a2235301-61de-45f2-c0ff-32c004a30425"
      },
      "source": [
        "string[:]           # 전체"
      ],
      "execution_count": 27,
      "outputs": [
        {
          "output_type": "execute_result",
          "data": {
            "application/vnd.google.colaboratory.intrinsic+json": {
              "type": "string"
            },
            "text/plain": [
              "'python program'"
            ]
          },
          "metadata": {
            "tags": []
          },
          "execution_count": 27
        }
      ]
    },
    {
      "cell_type": "code",
      "metadata": {
        "colab": {
          "base_uri": "https://localhost:8080/",
          "height": 35
        },
        "id": "uBc3v12hYcVP",
        "outputId": "558704df-c956-4bcf-d6e6-65a28f73bcb0"
      },
      "source": [
        "string[5:]          # 5번째 인덱스부터 끝까지"
      ],
      "execution_count": 28,
      "outputs": [
        {
          "output_type": "execute_result",
          "data": {
            "application/vnd.google.colaboratory.intrinsic+json": {
              "type": "string"
            },
            "text/plain": [
              "'n program'"
            ]
          },
          "metadata": {
            "tags": []
          },
          "execution_count": 28
        }
      ]
    },
    {
      "cell_type": "code",
      "metadata": {
        "colab": {
          "base_uri": "https://localhost:8080/",
          "height": 35
        },
        "id": "o211GukVYkmf",
        "outputId": "8309610d-6aaf-4609-eaa8-2167907151e5"
      },
      "source": [
        "string[:5]          # 시작부터 4번째 인덱스까지"
      ],
      "execution_count": 29,
      "outputs": [
        {
          "output_type": "execute_result",
          "data": {
            "application/vnd.google.colaboratory.intrinsic+json": {
              "type": "string"
            },
            "text/plain": [
              "'pytho'"
            ]
          },
          "metadata": {
            "tags": []
          },
          "execution_count": 29
        }
      ]
    },
    {
      "cell_type": "markdown",
      "metadata": {
        "id": "2k0kZ5W9ZLaK"
      },
      "source": [
        "# 길이 계산"
      ]
    },
    {
      "cell_type": "code",
      "metadata": {
        "colab": {
          "base_uri": "https://localhost:8080/"
        },
        "id": "ReNnzbohZMXH",
        "outputId": "ad3cc1b6-0399-40cb-b8ae-260b75c1dd55"
      },
      "source": [
        "print('string 변수의 length : ', len(string))"
      ],
      "execution_count": 30,
      "outputs": [
        {
          "output_type": "stream",
          "text": [
            "string 변수의 length :  14\n"
          ],
          "name": "stdout"
        }
      ]
    },
    {
      "cell_type": "code",
      "metadata": {
        "colab": {
          "base_uri": "https://localhost:8080/"
        },
        "id": "yTeeqzeGZWAx",
        "outputId": "fecae54e-6f55-42a0-c0be-3ca2be6d1005"
      },
      "source": [
        "len(string[:5])"
      ],
      "execution_count": 31,
      "outputs": [
        {
          "output_type": "execute_result",
          "data": {
            "text/plain": [
              "5"
            ]
          },
          "metadata": {
            "tags": []
          },
          "execution_count": 31
        }
      ]
    },
    {
      "cell_type": "markdown",
      "metadata": {
        "id": "QyjfEjQmaWmu"
      },
      "source": [
        "# 연결"
      ]
    },
    {
      "cell_type": "code",
      "metadata": {
        "colab": {
          "base_uri": "https://localhost:8080/"
        },
        "id": "khGk34_eaZe5",
        "outputId": "8d4e5fa6-9c6e-475f-cd5f-6f557ac25174"
      },
      "source": [
        "string1 = 'python'\n",
        "string2 = 'program'\n",
        "\n",
        "print('string1 = ', string1, '\\t\\tstring2 = ', string2)"
      ],
      "execution_count": 32,
      "outputs": [
        {
          "output_type": "stream",
          "text": [
            "string1 =  python \t\tstring2 =  program\n"
          ],
          "name": "stdout"
        }
      ]
    },
    {
      "cell_type": "code",
      "metadata": {
        "colab": {
          "base_uri": "https://localhost:8080/"
        },
        "id": "VL5TKV8halqj",
        "outputId": "dd387750-20f0-487b-9d35-6216e7ac7007"
      },
      "source": [
        "print(string1 + string2)"
      ],
      "execution_count": 33,
      "outputs": [
        {
          "output_type": "stream",
          "text": [
            "pythonprogram\n"
          ],
          "name": "stdout"
        }
      ]
    },
    {
      "cell_type": "code",
      "metadata": {
        "colab": {
          "base_uri": "https://localhost:8080/"
        },
        "id": "7b9f3Pdfao6j",
        "outputId": "22c390bf-c1cf-4390-c45d-961b82d5f952"
      },
      "source": [
        "print(string1 + ' ' + string2)"
      ],
      "execution_count": 34,
      "outputs": [
        {
          "output_type": "stream",
          "text": [
            "python program\n"
          ],
          "name": "stdout"
        }
      ]
    },
    {
      "cell_type": "code",
      "metadata": {
        "colab": {
          "base_uri": "https://localhost:8080/"
        },
        "id": "vwa4PdG3avgb",
        "outputId": "32156854-408c-4817-91bc-df97f96d1541"
      },
      "source": [
        "string3 = string1 + ' ' + string2\n",
        "print(string3)"
      ],
      "execution_count": 35,
      "outputs": [
        {
          "output_type": "stream",
          "text": [
            "python program\n"
          ],
          "name": "stdout"
        }
      ]
    },
    {
      "cell_type": "markdown",
      "metadata": {
        "id": "0IJ-3oCxbYtz"
      },
      "source": [
        "# 반복"
      ]
    },
    {
      "cell_type": "code",
      "metadata": {
        "colab": {
          "base_uri": "https://localhost:8080/"
        },
        "id": "Wz9he_imbZox",
        "outputId": "46ad1322-0170-4636-ce8b-2e7606b7be5f"
      },
      "source": [
        "print(string1 * 2)          # * 2 : 두 번 반복 "
      ],
      "execution_count": 36,
      "outputs": [
        {
          "output_type": "stream",
          "text": [
            "pythonpython\n"
          ],
          "name": "stdout"
        }
      ]
    },
    {
      "cell_type": "code",
      "metadata": {
        "colab": {
          "base_uri": "https://localhost:8080/"
        },
        "id": "Kzr0YQf2bgpv",
        "outputId": "bde046cc-4057-4df3-c075-8aa2cfe0981e"
      },
      "source": [
        "print((string1 + string2) * 3)"
      ],
      "execution_count": 37,
      "outputs": [
        {
          "output_type": "stream",
          "text": [
            "pythonprogrampythonprogrampythonprogram\n"
          ],
          "name": "stdout"
        }
      ]
    },
    {
      "cell_type": "markdown",
      "metadata": {
        "id": "bvH6fX4McQ4H"
      },
      "source": [
        "# 포함 유무 확인"
      ]
    },
    {
      "cell_type": "code",
      "metadata": {
        "colab": {
          "base_uri": "https://localhost:8080/"
        },
        "id": "3yvRtJZccSAK",
        "outputId": "25e09142-8148-4ed1-f014-a9cee4e39c02"
      },
      "source": [
        "'p' in string1"
      ],
      "execution_count": 38,
      "outputs": [
        {
          "output_type": "execute_result",
          "data": {
            "text/plain": [
              "True"
            ]
          },
          "metadata": {
            "tags": []
          },
          "execution_count": 38
        }
      ]
    },
    {
      "cell_type": "code",
      "metadata": {
        "colab": {
          "base_uri": "https://localhost:8080/"
        },
        "id": "jOWgbYxCcW06",
        "outputId": "780bd984-0910-4d59-f8c2-81a140ae63ae"
      },
      "source": [
        "'P' in string1"
      ],
      "execution_count": 39,
      "outputs": [
        {
          "output_type": "execute_result",
          "data": {
            "text/plain": [
              "False"
            ]
          },
          "metadata": {
            "tags": []
          },
          "execution_count": 39
        }
      ]
    },
    {
      "cell_type": "code",
      "metadata": {
        "colab": {
          "base_uri": "https://localhost:8080/"
        },
        "id": "d5ceABwEcYdA",
        "outputId": "752635cf-cf3f-4b9a-c33f-875907176527"
      },
      "source": [
        "'Python' in string3"
      ],
      "execution_count": 40,
      "outputs": [
        {
          "output_type": "execute_result",
          "data": {
            "text/plain": [
              "False"
            ]
          },
          "metadata": {
            "tags": []
          },
          "execution_count": 40
        }
      ]
    },
    {
      "cell_type": "code",
      "metadata": {
        "colab": {
          "base_uri": "https://localhost:8080/"
        },
        "id": "Z9lyI_Vsc68Q",
        "outputId": "8110afc6-fb9a-4ce6-b52f-93468b1735bc"
      },
      "source": [
        "select = input('문자열을 입력하세요(y가 포함되면 종료) : ')\n",
        "\n",
        "while (not 'y' in select):\n",
        "    print('select = ', select)\n",
        "    select = input('문자열을 입력하세요(y가 포함되면 종료) : ')"
      ],
      "execution_count": 41,
      "outputs": [
        {
          "output_type": "stream",
          "text": [
            "문자열을 입력하세요(y가 포함되면 종료) : program\n",
            "select =  program\n",
            "문자열을 입력하세요(y가 포함되면 종료) : python\n"
          ],
          "name": "stdout"
        }
      ]
    },
    {
      "cell_type": "markdown",
      "metadata": {
        "id": "V7Fhb7H3f0gJ"
      },
      "source": [
        "# 형식 문자열"
      ]
    },
    {
      "cell_type": "code",
      "metadata": {
        "id": "4m_670zhf2CK"
      },
      "source": [
        "name = '홍길동'\n",
        "age = 25\n",
        "gender = '남'\n",
        "weight = 81.9"
      ],
      "execution_count": 42,
      "outputs": []
    },
    {
      "cell_type": "code",
      "metadata": {
        "colab": {
          "base_uri": "https://localhost:8080/"
        },
        "id": "0W5KUDfHf8-m",
        "outputId": "8cdc1297-5f9f-4bc8-fdfd-c5a8ebb93c7f"
      },
      "source": [
        "print('name = ', name,\n",
        "      '\\nage = ', age,\n",
        "      '\\ngender = ', gender,\n",
        "      '\\nweight = ', weight)"
      ],
      "execution_count": 43,
      "outputs": [
        {
          "output_type": "stream",
          "text": [
            "name =  홍길동 \n",
            "age =  25 \n",
            "gender =  남 \n",
            "weight =  81.9\n"
          ],
          "name": "stdout"
        }
      ]
    },
    {
      "cell_type": "markdown",
      "metadata": {
        "id": "sRcaJRurj2-e"
      },
      "source": [
        "# 초기 형식 문자열"
      ]
    },
    {
      "cell_type": "code",
      "metadata": {
        "colab": {
          "base_uri": "https://localhost:8080/"
        },
        "id": "XWyYAnWCj4R2",
        "outputId": "ef7a754f-073b-4b4d-d88c-b7e0a6b65081"
      },
      "source": [
        "fmt = 'name = %-10s age = %5d gender = %2s weight %5.2f'%(name,\n",
        "                                                          age,\n",
        "                                                          gender,\n",
        "                                                          weight)\n",
        "print(fmt)"
      ],
      "execution_count": 44,
      "outputs": [
        {
          "output_type": "stream",
          "text": [
            "name = 홍길동        age =    25 gender =  남 weight 81.90\n"
          ],
          "name": "stdout"
        }
      ]
    },
    {
      "cell_type": "markdown",
      "metadata": {
        "id": "bCuz76MMmOQY"
      },
      "source": [
        "# format() 함수 이용 형식 문자열"
      ]
    },
    {
      "cell_type": "code",
      "metadata": {
        "colab": {
          "base_uri": "https://localhost:8080/"
        },
        "id": "UNJdXcCamR06",
        "outputId": "f1e67b24-4534-4f6f-84df-68f352248472"
      },
      "source": [
        "fmt = 'name={0} age={1} gender={2} weight={3}.'.format(name, age, gender, weight)\n",
        "print(fmt)"
      ],
      "execution_count": 45,
      "outputs": [
        {
          "output_type": "stream",
          "text": [
            "name=홍길동 age=25 gender=남 weight=81.9.\n"
          ],
          "name": "stdout"
        }
      ]
    },
    {
      "cell_type": "code",
      "metadata": {
        "colab": {
          "base_uri": "https://localhost:8080/"
        },
        "id": "f1Et1XNAm9JF",
        "outputId": "0df023e6-2dbc-4752-8b95-a3b7183122df"
      },
      "source": [
        "fmt = 'name={0:>10s} age={1:5d} gender={2:2s} \\\n",
        "weight={3:5.2f}.'.format(name, age, gender, weight)         # {-} minus 쓰면 안됨\n",
        "print(fmt)"
      ],
      "execution_count": 46,
      "outputs": [
        {
          "output_type": "stream",
          "text": [
            "name=       홍길동 age=   25 gender=남  weight=81.90.\n"
          ],
          "name": "stdout"
        }
      ]
    },
    {
      "cell_type": "code",
      "metadata": {
        "colab": {
          "base_uri": "https://localhost:8080/"
        },
        "id": "ktYCiJvbnyzN",
        "outputId": "dc96eb45-195c-4677-d382-e419a8fff638"
      },
      "source": [
        "fmt = 'age={1} name={0}'.format(name, age)\n",
        "print(fmt)"
      ],
      "execution_count": 47,
      "outputs": [
        {
          "output_type": "stream",
          "text": [
            "age=25 name=홍길동\n"
          ],
          "name": "stdout"
        }
      ]
    },
    {
      "cell_type": "markdown",
      "metadata": {
        "id": "0dVz6zA4paZA"
      },
      "source": [
        "# f-string 이용 형식 문자열"
      ]
    },
    {
      "cell_type": "code",
      "metadata": {
        "colab": {
          "base_uri": "https://localhost:8080/"
        },
        "id": "vbgOnz82pcK_",
        "outputId": "f9c4b1d1-2d5c-4bf5-8a83-8a3102fc19d3"
      },
      "source": [
        "fmt = f'name={name} age={age} gender={gender} weight={weight}'\n",
        "print(fmt)"
      ],
      "execution_count": 48,
      "outputs": [
        {
          "output_type": "stream",
          "text": [
            "name=홍길동 age=25 gender=남 weight=81.9\n"
          ],
          "name": "stdout"
        }
      ]
    },
    {
      "cell_type": "code",
      "metadata": {
        "colab": {
          "base_uri": "https://localhost:8080/"
        },
        "id": "1ZhAtfz8pzbH",
        "outputId": "eee7d312-af8f-416d-a65c-71b3c798ff69"
      },
      "source": [
        "fmt = f'name={name:<10} age={age:5} gender={gender:2} weight={weight:5.2f}'\n",
        "print(fmt)"
      ],
      "execution_count": 49,
      "outputs": [
        {
          "output_type": "stream",
          "text": [
            "name=홍길동        age=   25 gender=남  weight=81.90\n"
          ],
          "name": "stdout"
        }
      ]
    },
    {
      "cell_type": "code",
      "metadata": {
        "colab": {
          "base_uri": "https://localhost:8080/"
        },
        "id": "xLBndipLqByh",
        "outputId": "b29d79f8-f5f7-4b90-a047-409ad0381807"
      },
      "source": [
        "print(f'{name:<10}')\n",
        "print(f'{name:^10}')\n",
        "print(f'{name:>10}')"
      ],
      "execution_count": 50,
      "outputs": [
        {
          "output_type": "stream",
          "text": [
            "홍길동       \n",
            "   홍길동    \n",
            "       홍길동\n"
          ],
          "name": "stdout"
        }
      ]
    },
    {
      "cell_type": "markdown",
      "metadata": {
        "id": "ZfreLtm2tiVH"
      },
      "source": [
        "# str 메서드"
      ]
    },
    {
      "cell_type": "code",
      "metadata": {
        "colab": {
          "base_uri": "https://localhost:8080/"
        },
        "id": "-WOav_Ultj7L",
        "outputId": "21cea735-de09-452e-aa87-6f48fc256dd9"
      },
      "source": [
        "string1 = ' python '\n",
        "string2 = '010-1234-5678'\n",
        "\n",
        "print(f'string1=|{string1}| string2=|{string2}|')"
      ],
      "execution_count": 51,
      "outputs": [
        {
          "output_type": "stream",
          "text": [
            "string1=| python | string2=|010-1234-5678|\n"
          ],
          "name": "stdout"
        }
      ]
    },
    {
      "cell_type": "code",
      "metadata": {
        "colab": {
          "base_uri": "https://localhost:8080/"
        },
        "id": "YTThhucKt4Jx",
        "outputId": "27667fdc-d02d-48dd-9e25-88097ddc6a6a"
      },
      "source": [
        "print(f'string1=|{string1.strip()}| string2=|{string2.strip(\"-\")}|')"
      ],
      "execution_count": 52,
      "outputs": [
        {
          "output_type": "stream",
          "text": [
            "string1=|python| string2=|010-1234-5678|\n"
          ],
          "name": "stdout"
        }
      ]
    },
    {
      "cell_type": "code",
      "metadata": {
        "colab": {
          "base_uri": "https://localhost:8080/"
        },
        "id": "evZB3XOPuiMM",
        "outputId": "860d88eb-00e6-4870-fac3-18773ef4afd8"
      },
      "source": [
        "string = input('yes라고 입력하세요 : ')\n",
        "\n",
        "if string.strip() == 'yes':\n",
        "    print(\"OK\")\n",
        "else:\n",
        "    print(\"Fail\")"
      ],
      "execution_count": 53,
      "outputs": [
        {
          "output_type": "stream",
          "text": [
            "yes라고 입력하세요 : yes\n",
            "OK\n"
          ],
          "name": "stdout"
        }
      ]
    },
    {
      "cell_type": "code",
      "metadata": {
        "colab": {
          "base_uri": "https://localhost:8080/"
        },
        "id": "qgjVOwp8vZRG",
        "outputId": "16d42da2-71b9-40d8-dfb1-ede46005acd8"
      },
      "source": [
        "string = input('/로 구분하여 단어를 입력하세요 : ')\n",
        "print(f'string = {string.split(\"/\")}')"
      ],
      "execution_count": 54,
      "outputs": [
        {
          "output_type": "stream",
          "text": [
            "/로 구분하여 단어를 입력하세요 : apple/banana/cat\n",
            "string = ['apple', 'banana', 'cat']\n"
          ],
          "name": "stdout"
        }
      ]
    }
  ]
}