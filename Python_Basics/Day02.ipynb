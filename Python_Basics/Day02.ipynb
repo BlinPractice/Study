{
  "nbformat": 4,
  "nbformat_minor": 0,
  "metadata": {
    "colab": {
      "name": "Day02.ipynb",
      "provenance": [],
      "collapsed_sections": [],
      "authorship_tag": "ABX9TyOq7yAqJBxXqxP91HVNSVeS",
      "include_colab_link": true
    },
    "kernelspec": {
      "name": "python3",
      "display_name": "Python 3"
    },
    "language_info": {
      "name": "python"
    }
  },
  "cells": [
    {
      "cell_type": "markdown",
      "metadata": {
        "id": "view-in-github",
        "colab_type": "text"
      },
      "source": [
        "<a href=\"https://colab.research.google.com/github/BlinPractice/Study/blob/main/Python_Basics/Day02.ipynb\" target=\"_parent\"><img src=\"https://colab.research.google.com/assets/colab-badge.svg\" alt=\"Open In Colab\"/></a>"
      ]
    },
    {
      "cell_type": "code",
      "metadata": {
        "id": "_OcnkXAdz6mv",
        "colab": {
          "base_uri": "https://localhost:8080/"
        },
        "outputId": "204a0b8b-a807-493b-a8de-f28f9b60cb3a"
      },
      "source": [
        "5 + 3 * 2 - 1"
      ],
      "execution_count": 1,
      "outputs": [
        {
          "output_type": "execute_result",
          "data": {
            "text/plain": [
              "10"
            ]
          },
          "metadata": {
            "tags": []
          },
          "execution_count": 1
        }
      ]
    },
    {
      "cell_type": "code",
      "metadata": {
        "colab": {
          "base_uri": "https://localhost:8080/"
        },
        "id": "ztKkvxqz65mr",
        "outputId": "46fc838b-47da-46ef-965e-fc2a155e3912"
      },
      "source": [
        "print(5 + 3 * 2 - 1)"
      ],
      "execution_count": 2,
      "outputs": [
        {
          "output_type": "stream",
          "text": [
            "10\n"
          ],
          "name": "stdout"
        }
      ]
    },
    {
      "cell_type": "code",
      "metadata": {
        "colab": {
          "base_uri": "https://localhost:8080/"
        },
        "id": "bUHlEPan69tM",
        "outputId": "f5fef2f9-4007-450c-815c-cbdf5d584c7a"
      },
      "source": [
        "variable1 = 5\n",
        "variable2 = 3\n",
        "variable3 = 2\n",
        "variable4 = 1\n",
        "result = variable1 + variable2 * variable3 - variable4\n",
        "변수1 = 10\n",
        "\n",
        "print(variable1, \"+\", variable2, \"*\", variable3, \"-\", variable4, \"=\", result)\n",
        "print(변수1)"
      ],
      "execution_count": 3,
      "outputs": [
        {
          "output_type": "stream",
          "text": [
            "5 + 3 * 2 - 1 = 10\n",
            "10\n"
          ],
          "name": "stdout"
        }
      ]
    },
    {
      "cell_type": "code",
      "metadata": {
        "colab": {
          "base_uri": "https://localhost:8080/"
        },
        "id": "AEc4yQ627acW",
        "outputId": "4424e8c0-be9d-46fd-bedc-4460b5e1e33e"
      },
      "source": [
        "total = 0\n",
        "for i in range (1, 11):\n",
        "    total = total + i\n",
        "    print(f'{total}')\n",
        "\n",
        "print()\n",
        "print(f'1 + 2 + ... + 9 + 10 = {total}')"
      ],
      "execution_count": 4,
      "outputs": [
        {
          "output_type": "stream",
          "text": [
            "1\n",
            "3\n",
            "6\n",
            "10\n",
            "15\n",
            "21\n",
            "28\n",
            "36\n",
            "45\n",
            "55\n",
            "\n",
            "1 + 2 + ... + 9 + 10 = 55\n"
          ],
          "name": "stdout"
        }
      ]
    }
  ]
}
