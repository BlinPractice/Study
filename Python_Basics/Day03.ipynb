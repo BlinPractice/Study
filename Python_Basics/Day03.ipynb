{
  "nbformat": 4,
  "nbformat_minor": 0,
  "metadata": {
    "colab": {
      "name": "Day03.ipynb",
      "provenance": [],
      "collapsed_sections": [],
      "authorship_tag": "ABX9TyMwSj9Oq6wRLoE4V4FUaeMR",
      "include_colab_link": true
    },
    "kernelspec": {
      "name": "python3",
      "display_name": "Python 3"
    },
    "language_info": {
      "name": "python"
    }
  },
  "cells": [
    {
      "cell_type": "markdown",
      "metadata": {
        "id": "view-in-github",
        "colab_type": "text"
      },
      "source": [
        "<a href=\"https://colab.research.google.com/github/PyBlin/Study/blob/main/Python_Basics/Day03.ipynb\" target=\"_parent\"><img src=\"https://colab.research.google.com/assets/colab-badge.svg\" alt=\"Open In Colab\"/></a>"
      ]
    },
    {
      "cell_type": "markdown",
      "metadata": {
        "id": "e8pEy-mkFUBf"
      },
      "source": [
        "# 문제 풀이 과정\n",
        "\n",
        "문제) 두 정수를 입력받아 사칙연산의 결과를 출력하는 프로그램 작성\n",
        "\n",
        "문제 정의)\n",
        "\n",
        "    입력 자료 : 두 정수 입력\n",
        "    출력 자료(결과) : 사칙연산 결과\n",
        "        * 사칙연산 : 덧셈, 뺄셈, 곱셈, 나눗셈\n",
        "\n",
        "Algorithm 설계) 의사 코드(Pseudo Code)\n",
        "\n",
        "    0. 변수 정의 (기억 장소 확보)\n",
        "        - 두 정수 저장 변수\n",
        "        - 사칙연산 결과 저장 변수\n",
        "    1. 두 정수를 입력 받는다.\n",
        "    2. 사칙연산을 수행한다.\n",
        "    3. 사칙연산 결과를 출력한다.\n",
        "    4. 종료\n",
        "\n",
        "구현) - 파이썬으로 구현한다."
      ]
    },
    {
      "cell_type": "code",
      "metadata": {
        "id": "EGfSIIQEHgjW",
        "colab": {
          "base_uri": "https://localhost:8080/"
        },
        "outputId": "292e2d3d-ae00-4c19-955d-f44165e53f1e"
      },
      "source": [
        "# 1. 두 정수를 입력 받는다.\n",
        "number1 = int(float(input(\"정수1을 입력하세요 : \")))\n",
        "number2 = int(float(input(\"정수2를 입력하세요 : \")))"
      ],
      "execution_count": 1,
      "outputs": [
        {
          "output_type": "stream",
          "text": [
            "정수1을 입력하세요 : 10\n",
            "정수2를 입력하세요 : 20\n"
          ],
          "name": "stdout"
        }
      ]
    },
    {
      "cell_type": "code",
      "metadata": {
        "id": "hWZ7rfPSJYt9",
        "colab": {
          "base_uri": "https://localhost:8080/"
        },
        "outputId": "fde8b504-91ac-4071-f4e7-98d129f9999a"
      },
      "source": [
        "number1"
      ],
      "execution_count": 2,
      "outputs": [
        {
          "output_type": "execute_result",
          "data": {
            "text/plain": [
              "10"
            ]
          },
          "metadata": {
            "tags": []
          },
          "execution_count": 2
        }
      ]
    },
    {
      "cell_type": "code",
      "metadata": {
        "id": "s34_-ZwUJc4I",
        "colab": {
          "base_uri": "https://localhost:8080/"
        },
        "outputId": "e7be7110-eaca-497a-f512-2b53f9443cbd"
      },
      "source": [
        "number2"
      ],
      "execution_count": 3,
      "outputs": [
        {
          "output_type": "execute_result",
          "data": {
            "text/plain": [
              "20"
            ]
          },
          "metadata": {
            "tags": []
          },
          "execution_count": 3
        }
      ]
    },
    {
      "cell_type": "code",
      "metadata": {
        "id": "hc3xw_X-McDE"
      },
      "source": [
        "# 2. 사칙연산을 수행한다.\n",
        "add = number1 + number2\n",
        "subtract = number1 - number2\n",
        "multiple = number1 * number2\n",
        "divide = number1 / number2"
      ],
      "execution_count": 4,
      "outputs": []
    },
    {
      "cell_type": "code",
      "metadata": {
        "colab": {
          "base_uri": "https://localhost:8080/"
        },
        "id": "fOZu6RkAM72T",
        "outputId": "48c9ac98-3f8f-4f0b-e2ab-8eac4627fba7"
      },
      "source": [
        "add"
      ],
      "execution_count": 5,
      "outputs": [
        {
          "output_type": "execute_result",
          "data": {
            "text/plain": [
              "30"
            ]
          },
          "metadata": {
            "tags": []
          },
          "execution_count": 5
        }
      ]
    },
    {
      "cell_type": "code",
      "metadata": {
        "colab": {
          "base_uri": "https://localhost:8080/"
        },
        "id": "oJFomDnfM7_7",
        "outputId": "c93c5ae0-f003-4dcc-bf31-9e3b2679110b"
      },
      "source": [
        "subtract"
      ],
      "execution_count": 6,
      "outputs": [
        {
          "output_type": "execute_result",
          "data": {
            "text/plain": [
              "-10"
            ]
          },
          "metadata": {
            "tags": []
          },
          "execution_count": 6
        }
      ]
    },
    {
      "cell_type": "code",
      "metadata": {
        "colab": {
          "base_uri": "https://localhost:8080/"
        },
        "id": "0_GxZS-UM8Hi",
        "outputId": "d52f9ae2-3648-4ec7-a448-387d5405a210"
      },
      "source": [
        "multiple"
      ],
      "execution_count": 7,
      "outputs": [
        {
          "output_type": "execute_result",
          "data": {
            "text/plain": [
              "200"
            ]
          },
          "metadata": {
            "tags": []
          },
          "execution_count": 7
        }
      ]
    },
    {
      "cell_type": "code",
      "metadata": {
        "colab": {
          "base_uri": "https://localhost:8080/"
        },
        "id": "5wSqjjz-M8Ph",
        "outputId": "08dd9734-554a-4e33-a2cf-bce49c9971cf"
      },
      "source": [
        "divide"
      ],
      "execution_count": 8,
      "outputs": [
        {
          "output_type": "execute_result",
          "data": {
            "text/plain": [
              "0.5"
            ]
          },
          "metadata": {
            "tags": []
          },
          "execution_count": 8
        }
      ]
    },
    {
      "cell_type": "code",
      "metadata": {
        "colab": {
          "base_uri": "https://localhost:8080/"
        },
        "id": "5gqEDIOINAAL",
        "outputId": "504cc644-0c68-42df-a441-9d639502b0c4"
      },
      "source": [
        "# 3. 사칙연산 결과를 출력한다.\n",
        "print(number1, \" + \", number2, \" = \", add)\n",
        "print(number1, \" - \", number2, \" = \", subtract)\n",
        "print(number1, \" * \", number2, \" = \", multiple)\n",
        "print(number1, \" / \", number2, \" = \", divide)"
      ],
      "execution_count": 9,
      "outputs": [
        {
          "output_type": "stream",
          "text": [
            "10  +  20  =  30\n",
            "10  -  20  =  -10\n",
            "10  *  20  =  200\n",
            "10  /  20  =  0.5\n"
          ],
          "name": "stdout"
        }
      ]
    },
    {
      "cell_type": "code",
      "metadata": {
        "colab": {
          "base_uri": "https://localhost:8080/"
        },
        "id": "l9Fmf9IYVxuF",
        "outputId": "654bcb7b-88d9-4e89-d406-a785698e1b6d"
      },
      "source": [
        "# 1. 두 정수를 입력 받는다.\n",
        "number1 = int(float(input(\"정수1을 입력하세요 : \")))\n",
        "number2 = int(float(input(\"정수2를 입력하세요 : \")))\n",
        "\n",
        "# 2. 사칙연산을 수행한다.\n",
        "add = number1 + number2\n",
        "subtract = number1 - number2\n",
        "multiple = number1 * number2\n",
        "divide = number1 / number2\n",
        "\n",
        "# 3. 사칙연산 결과를 출력한다.\n",
        "print(number1, \" + \", number2, \" = \", add)\n",
        "print(number1, \" - \", number2, \" = \", subtract)\n",
        "print(number1, \" * \", number2, \" = \", multiple)\n",
        "print(number1, \" / \", number2, \" = \", divide)"
      ],
      "execution_count": 10,
      "outputs": [
        {
          "output_type": "stream",
          "text": [
            "정수1을 입력하세요 : 30\n",
            "정수2를 입력하세요 : 40\n",
            "30  +  40  =  70\n",
            "30  -  40  =  -10\n",
            "30  *  40  =  1200\n",
            "30  /  40  =  0.75\n"
          ],
          "name": "stdout"
        }
      ]
    },
    {
      "cell_type": "markdown",
      "metadata": {
        "id": "a-EAK976WLbf"
      },
      "source": [
        "문제) 5개의 정수를 입력받아 평균을 출력하는 프로그램\n",
        "\n",
        "문제 정의)\n",
        "\n",
        "    입력 자료 : 5개의 정수\n",
        "    출력 자료(결과) : 평균\n",
        "    추가 자료 : 합계\n",
        "        * 합계 : 5개의 정수를 모두 더한다.\n",
        "\n",
        "Algorith, 설계)\n",
        "\n",
        "    0. 변수 정의\n",
        "    1. 5번 반복한다.\n",
        "        1.1 반복 한 번 할 때마다 수행 내용\n",
        "        1.2 합계 누적\n",
        "    2. 평균 계산\n",
        "    3. 평균 출력\n",
        "    4. 프로그램 종료\n",
        "\n",
        "구현)"
      ]
    },
    {
      "cell_type": "code",
      "metadata": {
        "colab": {
          "base_uri": "https://localhost:8080/"
        },
        "id": "LYib5hHoW2d5",
        "outputId": "832f86cf-bd7e-43c5-cfb3-11964c45f105"
      },
      "source": [
        "# 0. 변수 정의\n",
        "# 누적 변수 : 계속 값을 추가하여 이전 값에 합하는 변수\n",
        "# 누적 변수는 초기값(변수 생성 시 미리 부여하는 값)을 부여한다.\n",
        "total = 0\n",
        "\n",
        "# 1. 5번 반복한다.\n",
        "for i in range(1, 6):\n",
        "    number = int(float(input(f\"정수[{i:2}]를 입력하세요 : \")))\n",
        "    total += number\n",
        "    print(\"\\ttotal = \", total)\n",
        "\n",
        "# 2. 평균 계산\n",
        "average = total/5\n",
        "\n",
        "# 3. 평균 출력\n",
        "print(f\"\\naverage = {average:.2f}\")\n",
        "print(\"stop script...\")"
      ],
      "execution_count": 11,
      "outputs": [
        {
          "output_type": "stream",
          "text": [
            "정수[ 1]를 입력하세요 : 50\n",
            "\ttotal =  50\n",
            "정수[ 2]를 입력하세요 : 60\n",
            "\ttotal =  110\n",
            "정수[ 3]를 입력하세요 : 70\n",
            "\ttotal =  180\n",
            "정수[ 4]를 입력하세요 : 80\n",
            "\ttotal =  260\n",
            "정수[ 5]를 입력하세요 : 90\n",
            "\ttotal =  350\n",
            "\n",
            "average = 70.00\n",
            "stop script...\n"
          ],
          "name": "stdout"
        }
      ]
    },
    {
      "cell_type": "markdown",
      "metadata": {
        "id": "N34V3EaagVYs"
      },
      "source": [
        "문제) 1~100 사이의 짝수를 출력하고 마지막에 그 합을 출력하는 프로그램\n",
        "\n",
        "문제 정의)\n",
        "\n",
        "    입력 자료 : 없음\n",
        "    출력 자료(결과) : \n",
        "        - 1~100 사이의 값 저장 변수\n",
        "        - 짝수 합 저장 변수\n",
        "\n",
        "Algorithm 설계)\n",
        "\n",
        "    0. 변수 정의\n",
        "    1. 100까지 반복\n",
        "        1.1 짝수인지 판별하여 짝수이면 출력\n",
        "        1.2 짝수 누적\n",
        "    2. 짝수 합 출력\n",
        "    3. 종료\n",
        "\n",
        "구현)"
      ]
    },
    {
      "cell_type": "code",
      "metadata": {
        "colab": {
          "base_uri": "https://localhost:8080/"
        },
        "id": "WFxZ0_Z_g6xx",
        "outputId": "978e8ac1-0663-42f1-9e71-1187a33e5df1"
      },
      "source": [
        "# 0. 변수 정의\n",
        "even_total = 0\n",
        "\n",
        "# 1. 100까지 반복\n",
        "for i in range(1, 101):                     # 반복 구조\n",
        "    # 1.1 짝수인지 판별하여 짝수이면 출력\n",
        "    if i%2 == 0:                            # 선택 구조\n",
        "        print(i, \" \", end=\"\")\n",
        "        # 1.2 짝수 누적\n",
        "        even_total += i\n",
        "\n",
        "# 2. 짝수 합 출력\n",
        "print(\"\\neven total\", even_total)\n",
        "print(\"stop script...\")"
      ],
      "execution_count": 12,
      "outputs": [
        {
          "output_type": "stream",
          "text": [
            "2  4  6  8  10  12  14  16  18  20  22  24  26  28  30  32  34  36  38  40  42  44  46  48  50  52  54  56  58  60  62  64  66  68  70  72  74  76  78  80  82  84  86  88  90  92  94  96  98  100  \n",
            "even total 2550\n",
            "stop script...\n"
          ],
          "name": "stdout"
        }
      ]
    },
    {
      "cell_type": "code",
      "metadata": {
        "colab": {
          "base_uri": "https://localhost:8080/"
        },
        "id": "fPAU1Vvci-bk",
        "outputId": "b302f097-4c15-43ad-95f1-63e39b75be67"
      },
      "source": [
        "# 0. 변수 정의\n",
        "even_total = 0\n",
        "line = 0                                    # 하나의 라인(line, 줄)에 출력되는 값을 세는 변수\n",
        "\n",
        "# 1. 1~100 사이의 짝수만큼 반복\n",
        "for i in range(1, 101):                     # 반복 구조\n",
        "    # 1.1 짝수인지 판별하여 짝수이면 출력\n",
        "    if i%2 == 0:                            # 선택 구조\n",
        "        print(f\"{i:4}\", end=\"\")\n",
        "        line += 1\n",
        "        if line == 10:\n",
        "            line = 0                        # reset\n",
        "            print(\"\\n\")                     # 줄 바꿈\n",
        "        # 1.2 짝수 누적\n",
        "        even_total += i\n",
        "\n",
        "# 2. 짝수 합 출력\n",
        "print(\"\\neven total\", even_total)\n",
        "print(\"stop script...\")"
      ],
      "execution_count": 13,
      "outputs": [
        {
          "output_type": "stream",
          "text": [
            "   2   4   6   8  10  12  14  16  18  20\n",
            "\n",
            "  22  24  26  28  30  32  34  36  38  40\n",
            "\n",
            "  42  44  46  48  50  52  54  56  58  60\n",
            "\n",
            "  62  64  66  68  70  72  74  76  78  80\n",
            "\n",
            "  82  84  86  88  90  92  94  96  98 100\n",
            "\n",
            "\n",
            "even total 2550\n",
            "stop script...\n"
          ],
          "name": "stdout"
        }
      ]
    },
    {
      "cell_type": "code",
      "metadata": {
        "colab": {
          "base_uri": "https://localhost:8080/"
        },
        "id": "s4qaj3zUkXeW",
        "outputId": "d8909680-1b4b-49cf-fadf-a773e9509d68"
      },
      "source": [
        "# 0. 변수 정의\n",
        "even_total = 0\n",
        "line = 0\n",
        "\n",
        "# 1. 100까지 반복\n",
        "for i in range(2, 101, 2):                     # 반복 구조\n",
        "    # 1.1 짝수인지 판별하여 짝수이면 출력\n",
        "    print(f\"{i:4}\", end=\"\")\n",
        "    line += 1\n",
        "    if line == 10:\n",
        "        line = 0\n",
        "        print(\"\\n\")\n",
        "    # 1.2 짝수 누적\n",
        "    even_total += i\n",
        "\n",
        "# 2. 짝수 합 출력\n",
        "print(\"\\neven total\", even_total)\n",
        "print(\"stop script...\")"
      ],
      "execution_count": 14,
      "outputs": [
        {
          "output_type": "stream",
          "text": [
            "   2   4   6   8  10  12  14  16  18  20\n",
            "\n",
            "  22  24  26  28  30  32  34  36  38  40\n",
            "\n",
            "  42  44  46  48  50  52  54  56  58  60\n",
            "\n",
            "  62  64  66  68  70  72  74  76  78  80\n",
            "\n",
            "  82  84  86  88  90  92  94  96  98 100\n",
            "\n",
            "\n",
            "even total 2550\n",
            "stop script...\n"
          ],
          "name": "stdout"
        }
      ]
    }
  ]
}