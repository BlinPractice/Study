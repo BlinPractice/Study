{
  "nbformat": 4,
  "nbformat_minor": 0,
  "metadata": {
    "colab": {
      "name": "Jihoon_Seong04.ipynb",
      "provenance": [],
      "collapsed_sections": [],
      "toc_visible": true,
      "authorship_tag": "ABX9TyOB5GVoL+3ovjWeUgv6faNI",
      "include_colab_link": true
    },
    "kernelspec": {
      "name": "python3",
      "display_name": "Python 3"
    },
    "language_info": {
      "name": "python"
    }
  },
  "cells": [
    {
      "cell_type": "markdown",
      "metadata": {
        "id": "view-in-github",
        "colab_type": "text"
      },
      "source": [
        "<a href=\"https://colab.research.google.com/github/PyBlin/Study/blob/main/AI_Class2/Second_Tutor/Jihoon_Seong04.ipynb\" target=\"_parent\"><img src=\"https://colab.research.google.com/assets/colab-badge.svg\" alt=\"Open In Colab\"/></a>"
      ]
    },
    {
      "cell_type": "markdown",
      "metadata": {
        "id": "q1k-Rh6I6n2k"
      },
      "source": [
        "# 1.Class\n",
        "\n",
        "- class : 과자틀, 템플릿\n",
        "\n",
        "- 객체 : 과자(피조물)\n",
        "\n",
        "클래스 변화 --> 객체 전체의 변화.\n",
        "\n",
        "객체 변화 --> 다른 객체에 영향 없음."
      ]
    },
    {
      "cell_type": "code",
      "metadata": {
        "id": "t_jrYsKq68ZI"
      },
      "source": [
        "class test():\n",
        "    pass"
      ],
      "execution_count": 1,
      "outputs": []
    },
    {
      "cell_type": "code",
      "metadata": {
        "id": "rk4m9BC-7Gkx"
      },
      "source": [
        "test1 = test()\n",
        "test2 = test()"
      ],
      "execution_count": 2,
      "outputs": []
    },
    {
      "cell_type": "code",
      "metadata": {
        "id": "G6NqNvH77XE4"
      },
      "source": [
        "test1.greeting = \"Hi\"\n",
        "test2.greeting = \"Hello\""
      ],
      "execution_count": 3,
      "outputs": []
    },
    {
      "cell_type": "code",
      "metadata": {
        "colab": {
          "base_uri": "https://localhost:8080/"
        },
        "id": "R1u1gnhR7epI",
        "outputId": "219602e6-82e0-42c4-960a-1b2b5cc2f162"
      },
      "source": [
        "print(test1.greeting)\n",
        "print(test2.greeting)"
      ],
      "execution_count": 4,
      "outputs": [
        {
          "output_type": "stream",
          "text": [
            "Hi\n",
            "Hello\n"
          ],
          "name": "stdout"
        }
      ]
    },
    {
      "cell_type": "markdown",
      "metadata": {
        "id": "Gm5pL4zJ7lLA"
      },
      "source": [
        "## Example of class : Calculator"
      ]
    },
    {
      "cell_type": "code",
      "metadata": {
        "id": "B8vOJXmG7ztA"
      },
      "source": [
        "def add(save_v, value):\n",
        "    save_v += value\n",
        "    return save_v"
      ],
      "execution_count": 5,
      "outputs": []
    },
    {
      "cell_type": "code",
      "metadata": {
        "id": "mlGWj1pp8hVh"
      },
      "source": [
        "save_v2 = 0\n",
        "def add_2(value):\n",
        "    global save_v2\n",
        "    save_v2 += value\n",
        "    return save_v2\n",
        "\n",
        "# 여러 개의 계산기 만들기\n",
        "save_v3 = 0\n",
        "def add_3(value):\n",
        "    global save_v3\n",
        "    save_v3 += value\n",
        "    return save_v3\n",
        "\n",
        "save_v4 = 0\n",
        "def add_4(value):\n",
        "    global save_v4\n",
        "    save_v4 += value\n",
        "    return save_v4\n",
        "\n",
        "# 비효율적... --> class 사용!!!"
      ],
      "execution_count": 6,
      "outputs": []
    },
    {
      "cell_type": "code",
      "metadata": {
        "colab": {
          "base_uri": "https://localhost:8080/"
        },
        "id": "N180x80i8iaH",
        "outputId": "8e143769-d015-4455-8d9a-f2a7ce260ece"
      },
      "source": [
        "add_2(3)"
      ],
      "execution_count": 7,
      "outputs": [
        {
          "output_type": "execute_result",
          "data": {
            "text/plain": [
              "3"
            ]
          },
          "metadata": {},
          "execution_count": 7
        }
      ]
    },
    {
      "cell_type": "code",
      "metadata": {
        "id": "lwZU0UdI8_G_"
      },
      "source": [
        "class calculator():\n",
        "    version = 1.0\n",
        "\n",
        "    def __init__(self, initial=0):\n",
        "        self.result = initial\n",
        "\n",
        "    def add(self, value):\n",
        "        self.result += value\n",
        "        return self.result\n",
        "\n",
        "    def sub(self, value):\n",
        "        self.result -= value\n",
        "        return self.result\n",
        "\n",
        "    def mul(self, value):\n",
        "        self.result *= value\n",
        "        return self.result\n",
        "\n",
        "    def div(self, value):\n",
        "        # if value == 0:\n",
        "        #     print(\"Error... 0으로 나눌 수 없습니다.\")\n",
        "        # else:\n",
        "        self.result /= value\n",
        "        return self.result\n",
        "\n",
        "    def update(self, value):\n",
        "        calculator.version += value\n",
        "        return calculator.version"
      ],
      "execution_count": 8,
      "outputs": []
    },
    {
      "cell_type": "code",
      "metadata": {
        "id": "C-3xGRP59dSP"
      },
      "source": [
        "cal1 = calculator()\n",
        "cal2 = calculator()"
      ],
      "execution_count": 9,
      "outputs": []
    },
    {
      "cell_type": "code",
      "metadata": {
        "colab": {
          "base_uri": "https://localhost:8080/"
        },
        "id": "-CHb0JJL_sIA",
        "outputId": "fb955598-f913-4b33-d68c-b184387de09b"
      },
      "source": [
        "calculator.version"
      ],
      "execution_count": 10,
      "outputs": [
        {
          "output_type": "execute_result",
          "data": {
            "text/plain": [
              "1.0"
            ]
          },
          "metadata": {},
          "execution_count": 10
        }
      ]
    },
    {
      "cell_type": "code",
      "metadata": {
        "colab": {
          "base_uri": "https://localhost:8080/"
        },
        "id": "15ckL8nIAITZ",
        "outputId": "fb827e48-f761-48b5-9b01-08cc89f5f131"
      },
      "source": [
        "cal1.update(0.1)"
      ],
      "execution_count": 11,
      "outputs": [
        {
          "output_type": "execute_result",
          "data": {
            "text/plain": [
              "1.1"
            ]
          },
          "metadata": {},
          "execution_count": 11
        }
      ]
    },
    {
      "cell_type": "code",
      "metadata": {
        "colab": {
          "base_uri": "https://localhost:8080/"
        },
        "id": "4z3EWTzBANRC",
        "outputId": "f1234854-ace0-476c-d25a-a61fe7f30e49"
      },
      "source": [
        "cal2.version"
      ],
      "execution_count": 12,
      "outputs": [
        {
          "output_type": "execute_result",
          "data": {
            "text/plain": [
              "1.1"
            ]
          },
          "metadata": {},
          "execution_count": 12
        }
      ]
    },
    {
      "cell_type": "code",
      "metadata": {
        "colab": {
          "base_uri": "https://localhost:8080/"
        },
        "id": "DCuoHJvp9kjY",
        "outputId": "83601b6a-afbb-4f93-d427-dfa335557094"
      },
      "source": [
        "# 객체.함수이름(인수)\n",
        "print(cal1.result)"
      ],
      "execution_count": 13,
      "outputs": [
        {
          "output_type": "stream",
          "text": [
            "0\n"
          ],
          "name": "stdout"
        }
      ]
    },
    {
      "cell_type": "code",
      "metadata": {
        "colab": {
          "base_uri": "https://localhost:8080/"
        },
        "id": "XK7_wOHP95d_",
        "outputId": "3c11a420-1e0f-4382-aad4-5890be024edf"
      },
      "source": [
        "cal2.sub(2)"
      ],
      "execution_count": 14,
      "outputs": [
        {
          "output_type": "execute_result",
          "data": {
            "text/plain": [
              "-2"
            ]
          },
          "metadata": {},
          "execution_count": 14
        }
      ]
    },
    {
      "cell_type": "code",
      "metadata": {
        "colab": {
          "base_uri": "https://localhost:8080/"
        },
        "id": "mEQ4OUXB-yP3",
        "outputId": "e021def1-59ea-411c-949d-52b0fe9074a0"
      },
      "source": [
        "cal2.mul(4)"
      ],
      "execution_count": 15,
      "outputs": [
        {
          "output_type": "execute_result",
          "data": {
            "text/plain": [
              "-8"
            ]
          },
          "metadata": {},
          "execution_count": 15
        }
      ]
    },
    {
      "cell_type": "code",
      "metadata": {
        "id": "wJjRp9SV-0w2"
      },
      "source": [
        "# cal2.dir(0)"
      ],
      "execution_count": 16,
      "outputs": []
    },
    {
      "cell_type": "markdown",
      "metadata": {
        "id": "jpxZbBZb_HHW"
      },
      "source": [
        "- 인스턴스 변수\n",
        "\n",
        "- 클래스 변수\n",
        "\n",
        "- 메소드"
      ]
    },
    {
      "cell_type": "code",
      "metadata": {
        "colab": {
          "base_uri": "https://localhost:8080/"
        },
        "id": "R9EG_Z2mAjL-",
        "outputId": "a3ac2fce-0cc4-424c-ea27-0aaa9bc4d416"
      },
      "source": [
        "myList = [1, 2, 3]\n",
        "myDict = {'key1':1}\n",
        "\n",
        "print(type(1))\n",
        "print(type(3.2))\n",
        "print(type('python'))\n",
        "print(type(myList))\n",
        "print(type(myDict))\n",
        "print(type(cal1))"
      ],
      "execution_count": 17,
      "outputs": [
        {
          "output_type": "stream",
          "text": [
            "<class 'int'>\n",
            "<class 'float'>\n",
            "<class 'str'>\n",
            "<class 'list'>\n",
            "<class 'dict'>\n",
            "<class '__main__.calculator'>\n"
          ],
          "name": "stdout"
        }
      ]
    },
    {
      "cell_type": "code",
      "metadata": {
        "colab": {
          "base_uri": "https://localhost:8080/"
        },
        "id": "aqFRBr0MA45W",
        "outputId": "54169083-6498-4e22-9213-4a1c8b8d2178"
      },
      "source": [
        "dir(cal1)"
      ],
      "execution_count": 18,
      "outputs": [
        {
          "output_type": "execute_result",
          "data": {
            "text/plain": [
              "['__class__',\n",
              " '__delattr__',\n",
              " '__dict__',\n",
              " '__dir__',\n",
              " '__doc__',\n",
              " '__eq__',\n",
              " '__format__',\n",
              " '__ge__',\n",
              " '__getattribute__',\n",
              " '__gt__',\n",
              " '__hash__',\n",
              " '__init__',\n",
              " '__init_subclass__',\n",
              " '__le__',\n",
              " '__lt__',\n",
              " '__module__',\n",
              " '__ne__',\n",
              " '__new__',\n",
              " '__reduce__',\n",
              " '__reduce_ex__',\n",
              " '__repr__',\n",
              " '__setattr__',\n",
              " '__sizeof__',\n",
              " '__str__',\n",
              " '__subclasshook__',\n",
              " '__weakref__',\n",
              " 'add',\n",
              " 'div',\n",
              " 'mul',\n",
              " 'result',\n",
              " 'sub',\n",
              " 'update',\n",
              " 'version']"
            ]
          },
          "metadata": {},
          "execution_count": 18
        }
      ]
    },
    {
      "cell_type": "markdown",
      "metadata": {
        "id": "KHrAiRJ8BmgF"
      },
      "source": [
        "- 설정 안했는데 언더바 : 매직 매소드\n",
        "\n",
        "- 언더바 없음 : 우리가 설정한 메소드"
      ]
    },
    {
      "cell_type": "code",
      "metadata": {
        "colab": {
          "base_uri": "https://localhost:8080/"
        },
        "id": "26urH71ABUuk",
        "outputId": "81e1b22f-2a26-47c6-cd0f-a0f16cea0777"
      },
      "source": [
        "dir(myList)"
      ],
      "execution_count": 19,
      "outputs": [
        {
          "output_type": "execute_result",
          "data": {
            "text/plain": [
              "['__add__',\n",
              " '__class__',\n",
              " '__contains__',\n",
              " '__delattr__',\n",
              " '__delitem__',\n",
              " '__dir__',\n",
              " '__doc__',\n",
              " '__eq__',\n",
              " '__format__',\n",
              " '__ge__',\n",
              " '__getattribute__',\n",
              " '__getitem__',\n",
              " '__gt__',\n",
              " '__hash__',\n",
              " '__iadd__',\n",
              " '__imul__',\n",
              " '__init__',\n",
              " '__init_subclass__',\n",
              " '__iter__',\n",
              " '__le__',\n",
              " '__len__',\n",
              " '__lt__',\n",
              " '__mul__',\n",
              " '__ne__',\n",
              " '__new__',\n",
              " '__reduce__',\n",
              " '__reduce_ex__',\n",
              " '__repr__',\n",
              " '__reversed__',\n",
              " '__rmul__',\n",
              " '__setattr__',\n",
              " '__setitem__',\n",
              " '__sizeof__',\n",
              " '__str__',\n",
              " '__subclasshook__',\n",
              " 'append',\n",
              " 'clear',\n",
              " 'copy',\n",
              " 'count',\n",
              " 'extend',\n",
              " 'index',\n",
              " 'insert',\n",
              " 'pop',\n",
              " 'remove',\n",
              " 'reverse',\n",
              " 'sort']"
            ]
          },
          "metadata": {},
          "execution_count": 19
        }
      ]
    },
    {
      "cell_type": "markdown",
      "metadata": {
        "id": "2mW5B4_wCRO_"
      },
      "source": [
        "# 2.상속 & 오버라이딩"
      ]
    },
    {
      "cell_type": "code",
      "metadata": {
        "id": "XXhsnO1fCUKP"
      },
      "source": [
        "# 새 제품인데 calculator의 기능을 다 상속!!!\n",
        "# pow 기능 추가\n",
        "class calculator2(calculator):\n",
        "    def pow(self, value):\n",
        "        self.result **= value\n",
        "        return self.result\n",
        "\n",
        "    # over riding (기존 함수 덮어쓰기)\n",
        "    def div(self, value):\n",
        "        if value==0.0:\n",
        "            print(\"Error...\")\n",
        "        else:\n",
        "            self.result /= value\n",
        "        return self.result"
      ],
      "execution_count": 20,
      "outputs": []
    },
    {
      "cell_type": "code",
      "metadata": {
        "colab": {
          "base_uri": "https://localhost:8080/"
        },
        "id": "3nvsgTYjC3EU",
        "outputId": "a04fe8f5-5bc1-4c19-b813-e44967aae343"
      },
      "source": [
        "cal_1 = calculator2()\n",
        "print(cal_1.result)\n",
        "print(round(cal_1.version, 2))\n",
        "print(round(cal_1.update(0.1), 2))"
      ],
      "execution_count": 21,
      "outputs": [
        {
          "output_type": "stream",
          "text": [
            "0\n",
            "1.1\n",
            "1.2\n"
          ],
          "name": "stdout"
        }
      ]
    },
    {
      "cell_type": "code",
      "metadata": {
        "colab": {
          "base_uri": "https://localhost:8080/"
        },
        "id": "0edXXUD-DBR7",
        "outputId": "5acb1431-9707-4c2c-cbe8-2400a8a0f993"
      },
      "source": [
        "print(cal_1.add(2))"
      ],
      "execution_count": 22,
      "outputs": [
        {
          "output_type": "stream",
          "text": [
            "2\n"
          ],
          "name": "stdout"
        }
      ]
    },
    {
      "cell_type": "code",
      "metadata": {
        "colab": {
          "base_uri": "https://localhost:8080/"
        },
        "id": "mrsJmxyiDWsc",
        "outputId": "653faf9e-675e-4115-ae24-406cb8aee52f"
      },
      "source": [
        "print(cal_1.pow(4))"
      ],
      "execution_count": 23,
      "outputs": [
        {
          "output_type": "stream",
          "text": [
            "16\n"
          ],
          "name": "stdout"
        }
      ]
    },
    {
      "cell_type": "code",
      "metadata": {
        "colab": {
          "base_uri": "https://localhost:8080/"
        },
        "id": "llitrjS5Dbdk",
        "outputId": "eb449eb7-30d1-4b17-8167-7d6faa223995"
      },
      "source": [
        "print(cal_1.div(0))"
      ],
      "execution_count": 24,
      "outputs": [
        {
          "output_type": "stream",
          "text": [
            "Error...\n",
            "16\n"
          ],
          "name": "stdout"
        }
      ]
    },
    {
      "cell_type": "markdown",
      "metadata": {
        "id": "B4vwnJgvcOjw"
      },
      "source": [
        "# 3.상속 & 오버라이딩, super()"
      ]
    },
    {
      "cell_type": "code",
      "metadata": {
        "id": "H9nH7UmNDuv8"
      },
      "source": [
        "class parents():\n",
        "    def handsome(self):\n",
        "        print(\"잘 생겼다!\")"
      ],
      "execution_count": 25,
      "outputs": []
    },
    {
      "cell_type": "code",
      "metadata": {
        "colab": {
          "base_uri": "https://localhost:8080/"
        },
        "id": "3SAHlvPncU4V",
        "outputId": "c0507c9c-9081-411b-8cd9-8acff74e886b"
      },
      "source": [
        "father = parents()\n",
        "father.handsome()"
      ],
      "execution_count": 26,
      "outputs": [
        {
          "output_type": "stream",
          "text": [
            "잘 생겼다!\n"
          ],
          "name": "stdout"
        }
      ]
    },
    {
      "cell_type": "code",
      "metadata": {
        "id": "qHihzJdScesE"
      },
      "source": [
        "class child_m(parents):\n",
        "    def handsome(self):\n",
        "        super().handsome()    # super = parents() 가져옴\n",
        "        print(\"부모님 닮아서\")"
      ],
      "execution_count": 27,
      "outputs": []
    },
    {
      "cell_type": "code",
      "metadata": {
        "id": "vLi-4przc0s-"
      },
      "source": [
        "class child_f(parents):\n",
        "    def handsome(self):\n",
        "        pass\n",
        "    def pretty(self):\n",
        "        print(\"어? 예쁘다...\")"
      ],
      "execution_count": 28,
      "outputs": []
    },
    {
      "cell_type": "code",
      "metadata": {
        "colab": {
          "base_uri": "https://localhost:8080/"
        },
        "id": "4zopWz9TcjND",
        "outputId": "baa1b2fc-e6b6-4e69-f0f3-bb1109e2b7f8"
      },
      "source": [
        "boy = child_m()\n",
        "boy.handsome()"
      ],
      "execution_count": 29,
      "outputs": [
        {
          "output_type": "stream",
          "text": [
            "잘 생겼다!\n",
            "부모님 닮아서\n"
          ],
          "name": "stdout"
        }
      ]
    },
    {
      "cell_type": "code",
      "metadata": {
        "colab": {
          "base_uri": "https://localhost:8080/"
        },
        "id": "GR89oUG_cocU",
        "outputId": "79ccec34-15f3-4117-a092-99570a24d4d4"
      },
      "source": [
        "girl = child_f()\n",
        "girl.handsome()\n",
        "girl.pretty()"
      ],
      "execution_count": 30,
      "outputs": [
        {
          "output_type": "stream",
          "text": [
            "어? 예쁘다...\n"
          ],
          "name": "stdout"
        }
      ]
    },
    {
      "cell_type": "markdown",
      "metadata": {
        "id": "KWv2VxSOfqbb"
      },
      "source": [
        "# Example sample"
      ]
    },
    {
      "cell_type": "code",
      "metadata": {
        "id": "0sNdDpXGdJDj"
      },
      "source": [
        "class child():\n",
        "    def __init__(self, who): # magic (or special) method : __init__은 생성자!!\n",
        "        self.who = who  # return 값 없어야됨!!\n",
        "\n",
        "    def handsome(self):\n",
        "        print(f\"{self.who}를 닮아서 잘 생겼다!\")\n",
        "\n",
        "    def pretty(self):\n",
        "        print(f\"{self.who}를 닮아서 예쁘다!\")"
      ],
      "execution_count": 31,
      "outputs": []
    },
    {
      "cell_type": "code",
      "metadata": {
        "colab": {
          "base_uri": "https://localhost:8080/"
        },
        "id": "ZY2RRmMihiIn",
        "outputId": "68a67f73-2403-4a9d-b417-cb37ebb637f8"
      },
      "source": [
        "print(dir([]))"
      ],
      "execution_count": 32,
      "outputs": [
        {
          "output_type": "stream",
          "text": [
            "['__add__', '__class__', '__contains__', '__delattr__', '__delitem__', '__dir__', '__doc__', '__eq__', '__format__', '__ge__', '__getattribute__', '__getitem__', '__gt__', '__hash__', '__iadd__', '__imul__', '__init__', '__init_subclass__', '__iter__', '__le__', '__len__', '__lt__', '__mul__', '__ne__', '__new__', '__reduce__', '__reduce_ex__', '__repr__', '__reversed__', '__rmul__', '__setattr__', '__setitem__', '__sizeof__', '__str__', '__subclasshook__', 'append', 'clear', 'copy', 'count', 'extend', 'index', 'insert', 'pop', 'remove', 'reverse', 'sort']\n"
          ],
          "name": "stdout"
        }
      ]
    },
    {
      "cell_type": "code",
      "metadata": {
        "id": "Nt36Pk3Wfl4u"
      },
      "source": [
        "# child class 상속받기 --> 매개변수(who)도 추가해줘야됨 --> 이름 달라도 됨\n",
        "class boy(child):\n",
        "    def __init__(self, who, where):\n",
        "        super().__init__(who)\n",
        "        self.where = where\n",
        "\n",
        "    def handsome(self):\n",
        "        super().handsome()\n",
        "        print(f\"특히 {self.where}(이)가 닮았어.\")"
      ],
      "execution_count": 33,
      "outputs": []
    },
    {
      "cell_type": "code",
      "metadata": {
        "colab": {
          "base_uri": "https://localhost:8080/",
          "height": 35
        },
        "id": "WJnTBBMYelKE",
        "outputId": "6f1e850d-86bd-4b25-c18a-ec536cea8068"
      },
      "source": [
        "son_1 = child(\"아버지\")\n",
        "son_1.who"
      ],
      "execution_count": 34,
      "outputs": [
        {
          "output_type": "execute_result",
          "data": {
            "application/vnd.google.colaboratory.intrinsic+json": {
              "type": "string"
            },
            "text/plain": [
              "'아버지'"
            ]
          },
          "metadata": {},
          "execution_count": 34
        }
      ]
    },
    {
      "cell_type": "code",
      "metadata": {
        "colab": {
          "base_uri": "https://localhost:8080/"
        },
        "id": "vTWYVtAPexRS",
        "outputId": "bb1c424c-0491-4c20-98fa-38349cc503d7"
      },
      "source": [
        "son_1.handsome()"
      ],
      "execution_count": 35,
      "outputs": [
        {
          "output_type": "stream",
          "text": [
            "아버지를 닮아서 잘 생겼다!\n"
          ],
          "name": "stdout"
        }
      ]
    },
    {
      "cell_type": "code",
      "metadata": {
        "colab": {
          "base_uri": "https://localhost:8080/"
        },
        "id": "BBuTw43hfbdi",
        "outputId": "9b7227d9-8b4f-471a-c9ee-8ec5ea05d052"
      },
      "source": [
        "son_2 = boy(\"아버지\", \"팔뚝\")\n",
        "son_2.handsome()"
      ],
      "execution_count": 36,
      "outputs": [
        {
          "output_type": "stream",
          "text": [
            "아버지를 닮아서 잘 생겼다!\n",
            "특히 팔뚝(이)가 닮았어.\n"
          ],
          "name": "stdout"
        }
      ]
    },
    {
      "cell_type": "markdown",
      "metadata": {
        "id": "1GAmWm1biLYt"
      },
      "source": [
        "## Example 1\n",
        "\n",
        "- 사칙연산 계산기를 상속받아서, 제곱과 루트 계산이 가능하게 하자."
      ]
    },
    {
      "cell_type": "code",
      "metadata": {
        "id": "8lqi9g68f_4g"
      },
      "source": [
        "class renew_cal(calculator):\n",
        "    def square(self, value):\n",
        "        self.result **= value\n",
        "        return self.result\n",
        "\n",
        "    def root(self, value=2):\n",
        "        if value == 0.0:\n",
        "            print(\"Error...\")\n",
        "        else:\n",
        "            self.result **= 1/value\n",
        "        return self.result\n",
        "\n",
        "    def div(self, value):\n",
        "        if value == 0.0:\n",
        "            print(\"Error...\")\n",
        "        else:\n",
        "            self.result = self.result / value\n",
        "        return self.result"
      ],
      "execution_count": 37,
      "outputs": []
    },
    {
      "cell_type": "code",
      "metadata": {
        "colab": {
          "base_uri": "https://localhost:8080/"
        },
        "id": "TgLynFZlivrx",
        "outputId": "af51b41d-7df5-4e3f-a817-91d25653e25a"
      },
      "source": [
        "test1 = renew_cal()\n",
        "test1.result"
      ],
      "execution_count": 38,
      "outputs": [
        {
          "output_type": "execute_result",
          "data": {
            "text/plain": [
              "0"
            ]
          },
          "metadata": {},
          "execution_count": 38
        }
      ]
    },
    {
      "cell_type": "code",
      "metadata": {
        "colab": {
          "base_uri": "https://localhost:8080/"
        },
        "id": "YaF_SlqnjZjX",
        "outputId": "09a55fcd-7651-4302-a188-ad1dbb6b8c35"
      },
      "source": [
        "test1.add(2)"
      ],
      "execution_count": 39,
      "outputs": [
        {
          "output_type": "execute_result",
          "data": {
            "text/plain": [
              "2"
            ]
          },
          "metadata": {},
          "execution_count": 39
        }
      ]
    },
    {
      "cell_type": "code",
      "metadata": {
        "colab": {
          "base_uri": "https://localhost:8080/"
        },
        "id": "uTDjtlmuj3F4",
        "outputId": "e1d5761f-0746-421e-9c2d-d7bb36b809f6"
      },
      "source": [
        "test1.square(5)"
      ],
      "execution_count": 40,
      "outputs": [
        {
          "output_type": "execute_result",
          "data": {
            "text/plain": [
              "32"
            ]
          },
          "metadata": {},
          "execution_count": 40
        }
      ]
    },
    {
      "cell_type": "code",
      "metadata": {
        "colab": {
          "base_uri": "https://localhost:8080/"
        },
        "id": "0ZbYRVjkj4i_",
        "outputId": "6df64983-03ff-4f07-8dc1-c860c8315ab6"
      },
      "source": [
        "test1.root()"
      ],
      "execution_count": 41,
      "outputs": [
        {
          "output_type": "execute_result",
          "data": {
            "text/plain": [
              "5.656854249492381"
            ]
          },
          "metadata": {},
          "execution_count": 41
        }
      ]
    },
    {
      "cell_type": "markdown",
      "metadata": {
        "id": "wv8xypCWkMLr"
      },
      "source": [
        "## Example 2\n",
        "\n",
        "- 예제 1에서 만든 계산기를 상속받아, 계산 중인 값을 초기화 할 수 있게 하자."
      ]
    },
    {
      "cell_type": "code",
      "metadata": {
        "id": "ovvXM5BRj6QP"
      },
      "source": [
        "class reset_cal(renew_cal):\n",
        "    def reset(self):\n",
        "        self.result = 0\n",
        "        return self.result"
      ],
      "execution_count": 42,
      "outputs": []
    },
    {
      "cell_type": "code",
      "metadata": {
        "colab": {
          "base_uri": "https://localhost:8080/"
        },
        "id": "98ltK2YSkp9H",
        "outputId": "4c21a0e9-d856-47f4-9507-c55afb867c23"
      },
      "source": [
        "test2 = reset_cal()\n",
        "test2.result"
      ],
      "execution_count": 43,
      "outputs": [
        {
          "output_type": "execute_result",
          "data": {
            "text/plain": [
              "0"
            ]
          },
          "metadata": {},
          "execution_count": 43
        }
      ]
    },
    {
      "cell_type": "code",
      "metadata": {
        "colab": {
          "base_uri": "https://localhost:8080/"
        },
        "id": "e1jBvbaCktEf",
        "outputId": "7e1b31cd-7961-44bd-e671-8e14c4b22518"
      },
      "source": [
        "test2.add(3)"
      ],
      "execution_count": 44,
      "outputs": [
        {
          "output_type": "execute_result",
          "data": {
            "text/plain": [
              "3"
            ]
          },
          "metadata": {},
          "execution_count": 44
        }
      ]
    },
    {
      "cell_type": "code",
      "metadata": {
        "colab": {
          "base_uri": "https://localhost:8080/"
        },
        "id": "dxZhkZKmk4HX",
        "outputId": "ae71494a-2c3e-415f-cd9e-a3aedea9657a"
      },
      "source": [
        "test2.square(4)"
      ],
      "execution_count": 45,
      "outputs": [
        {
          "output_type": "execute_result",
          "data": {
            "text/plain": [
              "81"
            ]
          },
          "metadata": {},
          "execution_count": 45
        }
      ]
    },
    {
      "cell_type": "code",
      "metadata": {
        "colab": {
          "base_uri": "https://localhost:8080/"
        },
        "id": "Fmveb-ivk6Gm",
        "outputId": "417eee58-7b2e-43f1-b97d-049e11898c1f"
      },
      "source": [
        "test2.root()"
      ],
      "execution_count": 46,
      "outputs": [
        {
          "output_type": "execute_result",
          "data": {
            "text/plain": [
              "9.0"
            ]
          },
          "metadata": {},
          "execution_count": 46
        }
      ]
    },
    {
      "cell_type": "code",
      "metadata": {
        "colab": {
          "base_uri": "https://localhost:8080/"
        },
        "id": "_Hcpa46vk7re",
        "outputId": "54286c29-6b9a-4c27-dc24-4c9c1a4c1970"
      },
      "source": [
        "test2.reset()"
      ],
      "execution_count": 47,
      "outputs": [
        {
          "output_type": "execute_result",
          "data": {
            "text/plain": [
              "0"
            ]
          },
          "metadata": {},
          "execution_count": 47
        }
      ]
    },
    {
      "cell_type": "markdown",
      "metadata": {
        "id": "-E26DYu8pwno"
      },
      "source": [
        "## Example 3\n",
        "\n",
        "- 인적사항을 담고 있는 클래스 \"company\"를 만들고 객체를 만들어보자."
      ]
    },
    {
      "cell_type": "code",
      "metadata": {
        "id": "FmR0FEPPk9ge"
      },
      "source": [
        "class company():\n",
        "    def __init__(self, birth, join, basic_score, eval_score):\n",
        "        self.birth = birth\n",
        "        self.join = join\n",
        "        self.basic_score = basic_score\n",
        "        self.eval_score = eval_score\n",
        "\n",
        "        self.age=0; self.cyear=None\n",
        "        self.calc_info()\n",
        "    def calc_info(self):\n",
        "        today = 2021\n",
        "        self.age = today - self.birth + 1\n",
        "        self.cyear = today - self.join + 1\n",
        "        self.total_score = self.basic_score + self.eval_score"
      ],
      "execution_count": 48,
      "outputs": []
    },
    {
      "cell_type": "code",
      "metadata": {
        "id": "u_BlqWtLvECW"
      },
      "source": [
        "jack = company(1992, 2018, 8.5, 7)\n",
        "marry = company(1995, 2017, 8, 9)"
      ],
      "execution_count": 49,
      "outputs": []
    },
    {
      "cell_type": "code",
      "metadata": {
        "colab": {
          "base_uri": "https://localhost:8080/"
        },
        "id": "XbUK4CmPvNUR",
        "outputId": "f25be01d-31cb-41e9-954e-8b39f000a2c7"
      },
      "source": [
        "print(jack.birth)\n",
        "print(marry.basic_score)"
      ],
      "execution_count": 50,
      "outputs": [
        {
          "output_type": "stream",
          "text": [
            "1992\n",
            "8\n"
          ],
          "name": "stdout"
        }
      ]
    },
    {
      "cell_type": "code",
      "metadata": {
        "colab": {
          "base_uri": "https://localhost:8080/"
        },
        "id": "WnhZVNykvR2I",
        "outputId": "c329ebf8-169b-429b-e750-d039b5385e83"
      },
      "source": [
        "print(jack.age)\n",
        "print(marry.cyear)"
      ],
      "execution_count": 51,
      "outputs": [
        {
          "output_type": "stream",
          "text": [
            "30\n",
            "5\n"
          ],
          "name": "stdout"
        }
      ]
    },
    {
      "cell_type": "markdown",
      "metadata": {
        "id": "O-BU1Z8vrEIq"
      },
      "source": [
        "## Example 4\n",
        "\n",
        "- 예제 3에서 객체를 초기화할 때 나이, 연차, 총 점수 정보를 계산하고 변수로 저장하자."
      ]
    },
    {
      "cell_type": "code",
      "metadata": {
        "id": "m1Eh-AoQvVkk"
      },
      "source": [
        "class company():\n",
        "    def __init__(self, birth, join, basic_score, eval_score):\n",
        "        self.birth = birth\n",
        "        self.join = join\n",
        "        self.basic_score = basic_score\n",
        "        self.eval_score = eval_score\n",
        "\n",
        "        # 예제 4번 부분\n",
        "        self.age=0; self.cyear=None\n",
        "        self.calc_info()\n",
        "    def calc_info(self):\n",
        "        today = 2021\n",
        "        self.age = today - self.birth + 1\n",
        "        self.cyear = today - self.join + 1\n",
        "        self.total_score = self.basic_score + self.eval_score"
      ],
      "execution_count": 52,
      "outputs": []
    },
    {
      "cell_type": "markdown",
      "metadata": {
        "id": "fvfQpeesrLL9"
      },
      "source": [
        "## Example 5\n",
        "\n",
        "- 클래스 변수를 사용해서 \"company\"에 입력된 사원의 수를 저장해보자.\n"
      ]
    },
    {
      "cell_type": "code",
      "metadata": {
        "id": "1XRtVKKTwWk2"
      },
      "source": [
        "class company():\n",
        "    num_employee = 0\n",
        "    \n",
        "    def __init__(self, birth=1900, join=2021, basic_score=0, eval_score=0):\n",
        "        self.birth = birth\n",
        "        self.join = join\n",
        "        self.basic_score = basic_score\n",
        "        self.eval_score = eval_score\n",
        "\n",
        "        # 예제 4\n",
        "        self.age=0; self.cyear=None\n",
        "        self.calc_info()\n",
        "\n",
        "        # 예제 5\n",
        "        company.num_employee += 1\n",
        "\n",
        "    def calc_info(self):\n",
        "        today = 2021\n",
        "        self.age = today - self.birth + 1\n",
        "        self.cyear = today - self.join + 1\n",
        "        self.total_score = self.basic_score + self.eval_score"
      ],
      "execution_count": 53,
      "outputs": []
    },
    {
      "cell_type": "code",
      "metadata": {
        "id": "LEvt-4axw6ZV"
      },
      "source": [
        "jack = company(1992, 2018, 8.5, 7)\n",
        "marry = company(1995, 2017, 8, 9)\n",
        "paseco = company(1986, 2003, 3, 10)\n",
        "blokus = company(1997, 2021, 8)"
      ],
      "execution_count": 54,
      "outputs": []
    },
    {
      "cell_type": "code",
      "metadata": {
        "colab": {
          "base_uri": "https://localhost:8080/"
        },
        "id": "TP22VLT0xCrq",
        "outputId": "a587e686-a767-4bec-85b2-55c92d526be7"
      },
      "source": [
        "print(company.num_employee)"
      ],
      "execution_count": 55,
      "outputs": [
        {
          "output_type": "stream",
          "text": [
            "4\n"
          ],
          "name": "stdout"
        }
      ]
    },
    {
      "cell_type": "markdown",
      "metadata": {
        "id": "6bl5vyrxrUds"
      },
      "source": [
        "## Example 6\n",
        "\n",
        "- 저장한 사원의 수를 출력하는 메소드, \\\n",
        "사원의 점수를 수정하는 메소드, \\\n",
        "사원의 인적사항을 출력하는 메소드를 추가해보자"
      ]
    },
    {
      "cell_type": "code",
      "metadata": {
        "id": "vQ-fANMRrgF0"
      },
      "source": [
        "class company():\n",
        "    num_employee = 0\n",
        "    \n",
        "    def __init__(self, birth=1900, join=2021, basic_score=0, eval_score=0):\n",
        "        self.birth = birth\n",
        "        self.join = join\n",
        "        self.basic_score = basic_score\n",
        "        self.eval_score = eval_score\n",
        "\n",
        "        # 예제 4\n",
        "        self.age=0; self.cyear=None\n",
        "        self.calc_info()\n",
        "\n",
        "        # 예제 5\n",
        "        company.num_employee += 1\n",
        "\n",
        "    def calc_info(self):\n",
        "        today = 2021\n",
        "        self.age = today - self.birth + 1\n",
        "        self.cyear = today - self.join + 1\n",
        "        self.total_score = self.basic_score + self.eval_score\n",
        "\n",
        "        # 예제 6\n",
        "    def print_num_employee():\n",
        "        print(f\"총 사원 수는 {company.num_employee}명 입니다.\")\n",
        "\n",
        "    def modify_score(self, basic_score=None, eval_score=None):\n",
        "        if basic_score:\n",
        "            self.basic_score = basic_score\n",
        "        if eval_score:\n",
        "            self.eval_score = eval_score\n",
        "        self.total_score = self.basic_score + self.eval_score\n",
        "\n",
        "    def print_employee_info(self):\n",
        "        print(f\"나이 : {self.age} 세 ({self.birth}년 생)\")\n",
        "        print(f\"경력 : {self.cyear} 년차 ({self.join}년 입사)\")\n",
        "        print(f\"총 점수 : {self.total_score} 점 \\\n",
        "        (기초 : {self.basic_score}점, 평가 : {self.eval_score}점)\")"
      ],
      "execution_count": 56,
      "outputs": []
    },
    {
      "cell_type": "code",
      "metadata": {
        "id": "bymqwrD92rM7"
      },
      "source": [
        "jack = company(1992, 2018, 8.5, 7)\n",
        "marry = company(1995, 2017, 8, 9)\n",
        "paseco = company(1986, 2003, 3, 10)\n",
        "blokus = company(1997, 2021, 8) # 모르면 안넣음"
      ],
      "execution_count": 57,
      "outputs": []
    },
    {
      "cell_type": "code",
      "metadata": {
        "colab": {
          "base_uri": "https://localhost:8080/"
        },
        "id": "-oT__VX-yJKv",
        "outputId": "5cba1f83-5e87-4205-cbcf-bc915cd6a085"
      },
      "source": [
        "company.print_num_employee()"
      ],
      "execution_count": 58,
      "outputs": [
        {
          "output_type": "stream",
          "text": [
            "총 사원 수는 4명 입니다.\n"
          ],
          "name": "stdout"
        }
      ]
    },
    {
      "cell_type": "code",
      "metadata": {
        "colab": {
          "base_uri": "https://localhost:8080/"
        },
        "id": "3ssJfFw6yLWP",
        "outputId": "cc1092f0-62b6-4204-861c-388fa20d8857"
      },
      "source": [
        "marry.print_employee_info()"
      ],
      "execution_count": 59,
      "outputs": [
        {
          "output_type": "stream",
          "text": [
            "나이 : 27 세 (1995년 생)\n",
            "경력 : 5 년차 (2017년 입사)\n",
            "총 점수 : 17 점         (기초 : 8점, 평가 : 9점)\n"
          ],
          "name": "stdout"
        }
      ]
    },
    {
      "cell_type": "code",
      "metadata": {
        "colab": {
          "base_uri": "https://localhost:8080/"
        },
        "id": "0KJPqcmt29O9",
        "outputId": "e35fe7c1-28ce-40e4-bfcd-3713e53e9ba5"
      },
      "source": [
        "marry.modify_score(eval_score=7)\n",
        "marry.print_employee_info()"
      ],
      "execution_count": 60,
      "outputs": [
        {
          "output_type": "stream",
          "text": [
            "나이 : 27 세 (1995년 생)\n",
            "경력 : 5 년차 (2017년 입사)\n",
            "총 점수 : 15 점         (기초 : 8점, 평가 : 7점)\n"
          ],
          "name": "stdout"
        }
      ]
    }
  ]
}