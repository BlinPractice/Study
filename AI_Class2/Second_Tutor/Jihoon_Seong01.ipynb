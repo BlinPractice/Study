{
  "nbformat": 4,
  "nbformat_minor": 0,
  "metadata": {
    "colab": {
      "name": "Jihoon_Seong01.ipynb",
      "provenance": [],
      "collapsed_sections": [],
      "toc_visible": true,
      "include_colab_link": true
    },
    "kernelspec": {
      "name": "python3",
      "display_name": "Python 3"
    },
    "language_info": {
      "name": "python"
    }
  },
  "cells": [
    {
      "cell_type": "markdown",
      "metadata": {
        "id": "view-in-github",
        "colab_type": "text"
      },
      "source": [
        "<a href=\"https://colab.research.google.com/github/PyBlin/Study/blob/main/AI_Class2/Second_Tutor/Jihoon_Seong01.ipynb\" target=\"_parent\"><img src=\"https://colab.research.google.com/assets/colab-badge.svg\" alt=\"Open In Colab\"/></a>"
      ]
    },
    {
      "cell_type": "code",
      "metadata": {
        "id": "YnwsrHA1-Vlp",
        "colab": {
          "base_uri": "https://localhost:8080/",
          "height": 35
        },
        "outputId": "4994fca9-b663-498b-b362-d57e2e9fb6fa"
      },
      "source": [
        "# 한 줄 주석 : (ctrl + /)\n",
        "'''여러 줄은 이렇게 주석 처리'''"
      ],
      "execution_count": 1,
      "outputs": [
        {
          "output_type": "execute_result",
          "data": {
            "application/vnd.google.colaboratory.intrinsic+json": {
              "type": "string"
            },
            "text/plain": [
              "'여러 줄은 이렇게 주석 처리'"
            ]
          },
          "metadata": {},
          "execution_count": 1
        }
      ]
    },
    {
      "cell_type": "markdown",
      "metadata": {
        "id": "QmRY5LQnvHMm"
      },
      "source": [
        "# 1.변수선언 및 출력"
      ]
    },
    {
      "cell_type": "markdown",
      "metadata": {
        "id": "_0cXhsO90MBm"
      },
      "source": [
        "## 1.1 변수 (Variable)\n",
        "\n",
        "어떠한 값(value)을 담는 저장 공간(storage location)과 그에 상응하는 이름(symbolic name)\n",
        "\n",
        "- 첫 문자는 영문 혹은 underscore (_)\n",
        "- 대소문자 구분\n",
        "- 예약어는 변수명으로 사용 불가능. >> 함수명은 변수명으로 사용하지 말 것 !\n",
        "- 값(value)의 의미를 추측할 수 있는 이름을 사용하면 유용함\n",
        "- 변수에 줄 수 있는 값은 숫자, 문자, 다른 데이터타입의 형들이 모두 가능\n",
        "- 변수를 만들고 나면 변수를 저장하는 메모리를 자동으로 생성하고 주소가 생김\n",
        "- 변수는 변할 수 있음\n"
      ]
    },
    {
      "cell_type": "markdown",
      "metadata": {
        "id": "chFqmh6V09V7"
      },
      "source": [
        "### 1.1.1 변수 선언"
      ]
    },
    {
      "cell_type": "code",
      "metadata": {
        "id": "QAo7dOzi1UHj"
      },
      "source": [
        "a = 7\n",
        "A = 6"
      ],
      "execution_count": 2,
      "outputs": []
    },
    {
      "cell_type": "markdown",
      "metadata": {
        "id": "d03q1s9G1aJ0"
      },
      "source": [
        "### 1.1.2 변수 출력"
      ]
    },
    {
      "cell_type": "code",
      "metadata": {
        "id": "XiPzlM1v1ejy",
        "colab": {
          "base_uri": "https://localhost:8080/"
        },
        "outputId": "67ac74d2-6b27-41df-efad-85d5aaac2d3c"
      },
      "source": [
        "print(a)\n",
        "print(A)"
      ],
      "execution_count": 3,
      "outputs": [
        {
          "output_type": "stream",
          "text": [
            "7\n",
            "6\n"
          ],
          "name": "stdout"
        }
      ]
    },
    {
      "cell_type": "markdown",
      "metadata": {
        "id": "R2vLBIgi1y8k"
      },
      "source": [
        "### 1.1.3 변수 복사"
      ]
    },
    {
      "cell_type": "code",
      "metadata": {
        "id": "Jf5v39NZ1tEM"
      },
      "source": [
        "a = 7\n",
        "b = a"
      ],
      "execution_count": 4,
      "outputs": []
    },
    {
      "cell_type": "code",
      "metadata": {
        "id": "q_5DZ_Cx128A",
        "colab": {
          "base_uri": "https://localhost:8080/"
        },
        "outputId": "72db6d6e-686d-4c9f-aa05-22e036191b14"
      },
      "source": [
        "print(b)"
      ],
      "execution_count": 5,
      "outputs": [
        {
          "output_type": "stream",
          "text": [
            "7\n"
          ],
          "name": "stdout"
        }
      ]
    },
    {
      "cell_type": "code",
      "metadata": {
        "id": "ZjNnJRE713Im",
        "colab": {
          "base_uri": "https://localhost:8080/"
        },
        "outputId": "1a8eb2fc-9d3d-4869-be4e-7c8a9d8c81b0"
      },
      "source": [
        "print(a)"
      ],
      "execution_count": 6,
      "outputs": [
        {
          "output_type": "stream",
          "text": [
            "7\n"
          ],
          "name": "stdout"
        }
      ]
    },
    {
      "cell_type": "markdown",
      "metadata": {
        "id": "fn9d33PK2VM4"
      },
      "source": [
        "### 1.1.4 변수 선언 방법\n",
        "\n",
        "1. 하나의 변수에 하나의 값을 대입\n",
        "2. 두개의 변수에 같은 값을 대입\n",
        "3. 변수에 변수를 대입\n",
        "\n",
        "(+ 한줄에 여러 변수를 선언하고 싶을 때는 \";\"를 이용한다.)"
      ]
    },
    {
      "cell_type": "code",
      "metadata": {
        "id": "McH2UsoqB2zV"
      },
      "source": [
        "a = 1\n",
        "b = 1"
      ],
      "execution_count": 7,
      "outputs": []
    },
    {
      "cell_type": "code",
      "metadata": {
        "id": "3HLuMfm42V5e"
      },
      "source": [
        "a = b = 1"
      ],
      "execution_count": 8,
      "outputs": []
    },
    {
      "cell_type": "code",
      "metadata": {
        "id": "xNoPEn8tCKBN"
      },
      "source": [
        "a, b = 1, 1"
      ],
      "execution_count": 9,
      "outputs": []
    },
    {
      "cell_type": "code",
      "metadata": {
        "colab": {
          "base_uri": "https://localhost:8080/"
        },
        "id": "M6gZbx75oVti",
        "outputId": "7bfe0baa-f643-43f2-a557-68a9e7977985"
      },
      "source": [
        "print(a)\n",
        "print(b)"
      ],
      "execution_count": 10,
      "outputs": [
        {
          "output_type": "stream",
          "text": [
            "1\n",
            "1\n"
          ],
          "name": "stdout"
        }
      ]
    },
    {
      "cell_type": "markdown",
      "metadata": {
        "id": "vNn5wjPQ2V-N"
      },
      "source": [
        "# 2.자료형\n"
      ]
    },
    {
      "cell_type": "markdown",
      "metadata": {
        "id": "H-HTtMhmKbmN"
      },
      "source": [
        "- 수치형 (number) : 정수, 실수 등\n",
        "- 문자열 (string) : 문자들의 모임\n",
        "- 리스트 (list) : 순서를 가지는 python 객체의 집합\n",
        "- 사전 (dictionary) : 순서를 가지지 않는 객체의 쌍 (key & value)\n",
        "- 튜플 (tuple) : 순서를 가지는 python 객체의 집합\n",
        "- 집합 (set) : 중복이 없고 순서를 가지지 않는 객체의 집합(집합 관련 데이터 처리)\n",
        "- 부울 (bool) : 참과 거짓을 나타냄"
      ]
    },
    {
      "cell_type": "markdown",
      "metadata": {
        "id": "Ome5ZhTi2WCK"
      },
      "source": [
        "## 2.1 수치형 (number)"
      ]
    },
    {
      "cell_type": "code",
      "metadata": {
        "id": "bNW3RNIl2WFq",
        "colab": {
          "base_uri": "https://localhost:8080/"
        },
        "outputId": "e667face-afec-4c21-8ad2-c023b4d1a910"
      },
      "source": [
        "print(3)\n",
        "print(3.2)\n",
        "print(-1.2e5)\n",
        "print(1.2E-10)"
      ],
      "execution_count": 11,
      "outputs": [
        {
          "output_type": "stream",
          "text": [
            "3\n",
            "3.2\n",
            "-120000.0\n",
            "1.2e-10\n"
          ],
          "name": "stdout"
        }
      ]
    },
    {
      "cell_type": "markdown",
      "metadata": {
        "id": "v53Bdvxq2WJX"
      },
      "source": [
        "### 2.1.1 수치형 연산\n",
        "\n",
        "- 사칙연산 : +  -  * /\n",
        "- 나머지 연산: %\n",
        "- 몫: //\n",
        "- 제곱 연산: ** "
      ]
    },
    {
      "cell_type": "code",
      "metadata": {
        "id": "yVBC_8H14lH4"
      },
      "source": [
        "a = 4\n",
        "b = 3.2\n",
        "c = 2"
      ],
      "execution_count": 12,
      "outputs": []
    },
    {
      "cell_type": "code",
      "metadata": {
        "id": "BK0tseFkDNXw",
        "colab": {
          "base_uri": "https://localhost:8080/"
        },
        "outputId": "9ed62915-d5d0-464d-d527-d76e9cfda7cd"
      },
      "source": [
        "print(a + b)\n",
        "print(a - b)    # 2진소수를 10진소수로 정확히 표현하지 못해서 생기는 오차\n",
        "print(round((a - b), 2))\n",
        "print(a * b)\n",
        "print(a / b)"
      ],
      "execution_count": 13,
      "outputs": [
        {
          "output_type": "stream",
          "text": [
            "7.2\n",
            "0.7999999999999998\n",
            "0.8\n",
            "12.8\n",
            "1.25\n"
          ],
          "name": "stdout"
        }
      ]
    },
    {
      "cell_type": "code",
      "metadata": {
        "colab": {
          "base_uri": "https://localhost:8080/"
        },
        "id": "UEkEFvDwrU8k",
        "outputId": "31725923-a02c-46a7-b9af-24dd3da88ff4"
      },
      "source": [
        "print(a / c)\n",
        "print(a % c)    # 나누기게 제일 많이 쓰인다.\n",
        "print(a // c)"
      ],
      "execution_count": 14,
      "outputs": [
        {
          "output_type": "stream",
          "text": [
            "2.0\n",
            "0\n",
            "2\n"
          ],
          "name": "stdout"
        }
      ]
    },
    {
      "cell_type": "code",
      "metadata": {
        "id": "g7U92REZDNnz",
        "colab": {
          "base_uri": "https://localhost:8080/"
        },
        "outputId": "bc357e0e-d8f0-451f-a962-780ee4bbea23"
      },
      "source": [
        "a ** c"
      ],
      "execution_count": 15,
      "outputs": [
        {
          "output_type": "execute_result",
          "data": {
            "text/plain": [
              "16"
            ]
          },
          "metadata": {},
          "execution_count": 15
        }
      ]
    },
    {
      "cell_type": "code",
      "metadata": {
        "id": "qnCK6gktDNtG",
        "colab": {
          "base_uri": "https://localhost:8080/"
        },
        "outputId": "54f5a4e9-8f13-47e2-8ef5-e114dc652882"
      },
      "source": [
        "a ** b"
      ],
      "execution_count": 16,
      "outputs": [
        {
          "output_type": "execute_result",
          "data": {
            "text/plain": [
              "84.44850628946526"
            ]
          },
          "metadata": {},
          "execution_count": 16
        }
      ]
    },
    {
      "cell_type": "markdown",
      "metadata": {
        "id": "U-VKoFYX4U6r"
      },
      "source": [
        "### 2.1.2 수치형 관련 함수\n",
        "\n",
        "자주 사용하는 함수형 연산\n",
        "- abs()\n",
        "- int()\n",
        "- float()\n",
        "- pow()"
      ]
    },
    {
      "cell_type": "code",
      "metadata": {
        "id": "IcXFnltZ4lqj",
        "colab": {
          "base_uri": "https://localhost:8080/"
        },
        "outputId": "9d666155-8b8f-42fd-9fc0-8f1359ade91b"
      },
      "source": [
        "print(int(6.2))\n",
        "print(int(-6.2))"
      ],
      "execution_count": 17,
      "outputs": [
        {
          "output_type": "stream",
          "text": [
            "6\n",
            "-6\n"
          ],
          "name": "stdout"
        }
      ]
    },
    {
      "cell_type": "code",
      "metadata": {
        "id": "IEjlB814D94r",
        "colab": {
          "base_uri": "https://localhost:8080/"
        },
        "outputId": "9bee28a2-7db0-40e0-8a22-337f7640bb41"
      },
      "source": [
        "print(5)\n",
        "print(float(5))"
      ],
      "execution_count": 18,
      "outputs": [
        {
          "output_type": "stream",
          "text": [
            "5\n",
            "5.0\n"
          ],
          "name": "stdout"
        }
      ]
    },
    {
      "cell_type": "code",
      "metadata": {
        "id": "aOx5E0iSD-Db",
        "colab": {
          "base_uri": "https://localhost:8080/"
        },
        "outputId": "9f3711d1-9263-451f-c9ea-f70c5f9ca534"
      },
      "source": [
        "abs(-6.2)   # absolute : 거리개념 --> 부호만 떼어줌"
      ],
      "execution_count": 19,
      "outputs": [
        {
          "output_type": "execute_result",
          "data": {
            "text/plain": [
              "6.2"
            ]
          },
          "metadata": {},
          "execution_count": 19
        }
      ]
    },
    {
      "cell_type": "code",
      "metadata": {
        "id": "yCaBZJieD-NM",
        "colab": {
          "base_uri": "https://localhost:8080/"
        },
        "outputId": "5c00bbe1-220f-4cdf-fdf6-750141391271"
      },
      "source": [
        "pow(4, 2)   # pow(밑, 지수) --> 4 ** 2"
      ],
      "execution_count": 20,
      "outputs": [
        {
          "output_type": "execute_result",
          "data": {
            "text/plain": [
              "16"
            ]
          },
          "metadata": {},
          "execution_count": 20
        }
      ]
    },
    {
      "cell_type": "markdown",
      "metadata": {
        "id": "8Rvv9RgN4l5e"
      },
      "source": [
        "## 2.2 문자열 (string)\n",
        "\n",
        "문자, 단어 등으로 구성된 문자들의 집합을 의미함"
      ]
    },
    {
      "cell_type": "markdown",
      "metadata": {
        "id": "v42bq8M65Jwy"
      },
      "source": [
        "### 2.2.1 문자열 입력 방법\n",
        "\n",
        "1. ' '\n",
        "2. \" \"\n",
        "3. ''' '''\n",
        "4. \"\"\" \"\"\"\n",
        "\n",
        "[why?] 이렇게 여러가지 방법을 만들었을까?"
      ]
    },
    {
      "cell_type": "code",
      "metadata": {
        "id": "ZUqpJRjAJCeD",
        "colab": {
          "base_uri": "https://localhost:8080/",
          "height": 35
        },
        "outputId": "fc059881-1f5c-4043-e29b-3501eadcd934"
      },
      "source": [
        "word = \"phone\"\n",
        "word"
      ],
      "execution_count": 21,
      "outputs": [
        {
          "output_type": "execute_result",
          "data": {
            "application/vnd.google.colaboratory.intrinsic+json": {
              "type": "string"
            },
            "text/plain": [
              "'phone'"
            ]
          },
          "metadata": {},
          "execution_count": 21
        }
      ]
    },
    {
      "cell_type": "code",
      "metadata": {
        "id": "-b2muBiuEfU1",
        "colab": {
          "base_uri": "https://localhost:8080/"
        },
        "outputId": "deb021ac-37d2-43f5-c3f9-27b499728cdc"
      },
      "source": [
        "print(\"I'm smart\")"
      ],
      "execution_count": 22,
      "outputs": [
        {
          "output_type": "stream",
          "text": [
            "I'm smart\n"
          ],
          "name": "stdout"
        }
      ]
    },
    {
      "cell_type": "code",
      "metadata": {
        "id": "W-4hzq_oEfMt",
        "colab": {
          "base_uri": "https://localhost:8080/"
        },
        "outputId": "8b4cc4df-a8d9-4bdb-a02f-2ca58182863a"
      },
      "source": [
        "sentence = '''글을 이렇게\n",
        "여러 줄 쓰고 싶어요.\n",
        "세 줄도 되고\n",
        "네 줄도 되는'''\n",
        "print(sentence)"
      ],
      "execution_count": 23,
      "outputs": [
        {
          "output_type": "stream",
          "text": [
            "글을 이렇게\n",
            "여러 줄 쓰고 싶어요.\n",
            "세 줄도 되고\n",
            "네 줄도 되는\n"
          ],
          "name": "stdout"
        }
      ]
    },
    {
      "cell_type": "code",
      "metadata": {
        "colab": {
          "base_uri": "https://localhost:8080/",
          "height": 35
        },
        "id": "8RThLyAiyIj9",
        "outputId": "a7cfc5c6-4f76-40ed-ccd8-497b7e0cf322"
      },
      "source": [
        "sentence"
      ],
      "execution_count": 24,
      "outputs": [
        {
          "output_type": "execute_result",
          "data": {
            "application/vnd.google.colaboratory.intrinsic+json": {
              "type": "string"
            },
            "text/plain": [
              "'글을 이렇게\\n여러 줄 쓰고 싶어요.\\n세 줄도 되고\\n네 줄도 되는'"
            ]
          },
          "metadata": {},
          "execution_count": 24
        }
      ]
    },
    {
      "cell_type": "code",
      "metadata": {
        "id": "5L8Iq61PEfC9",
        "colab": {
          "base_uri": "https://localhost:8080/"
        },
        "outputId": "3c4f0752-2fbf-4d94-f45f-7bd80bc59d3b"
      },
      "source": [
        "print('그가 \"바보\"라고 말했다.')"
      ],
      "execution_count": 25,
      "outputs": [
        {
          "output_type": "stream",
          "text": [
            "그가 \"바보\"라고 말했다.\n"
          ],
          "name": "stdout"
        }
      ]
    },
    {
      "cell_type": "markdown",
      "metadata": {
        "id": "zYKraFef5YWR"
      },
      "source": [
        "### 2.2.2 이스케이프코드\n",
        "\n",
        "미리 정의해 둔 '문자 조합 >> 출력물을 보기 좋게 만드는 용도 ! (print()와 함께 사용)\n",
        "\n",
        "- 줄바꿈 : \\n\n",
        "- 탭 : \\t\n",
        "- \\: \\\\\n",
        "- ' : \\'\n",
        "- \" : \\\""
      ]
    },
    {
      "cell_type": "code",
      "metadata": {
        "id": "gs8IUAIUFmu6",
        "colab": {
          "base_uri": "https://localhost:8080/"
        },
        "outputId": "8ec565b1-ff75-4954-9fda-1669005c16ef"
      },
      "source": [
        "sentence1 = '1\\n2'\n",
        "sentence2 = '1\\t2'      # 2의 위치는\n",
        "sentence3 = '123\\t2'    # 바뀌지 않음.\n",
        "sentence4 = '그는 \\'좋다\\'라고 생각했다. 그러나 \"싫다\"라고 말했다.'\n",
        "\n",
        "print(sentence1)\n",
        "print(sentence2)\n",
        "print(sentence3)\n",
        "print(sentence4)"
      ],
      "execution_count": 26,
      "outputs": [
        {
          "output_type": "stream",
          "text": [
            "1\n",
            "2\n",
            "1\t2\n",
            "123\t2\n",
            "그는 '좋다'라고 생각했다. 그러나 \"싫다\"라고 말했다.\n"
          ],
          "name": "stdout"
        }
      ]
    },
    {
      "cell_type": "code",
      "metadata": {
        "colab": {
          "base_uri": "https://localhost:8080/"
        },
        "id": "_npjCLuS50aw",
        "outputId": "a3816130-f1b9-43a9-e318-04beeaecb388"
      },
      "source": [
        "# 어떻게 하면 아래 결과가 나올까요~~~?\n",
        "# sentence를 하나의 문자열로 선언하여 아래의 출력 결과를 만들어 봅시다.\n",
        "sentence = \"커피 한 잔\\n매실차 두 잔\\n'커피콩빵도 있잖아?'\\t\\\"강릉 커피콩빵이랑 비교해보자!\\\"\"\n",
        "print(sentence)"
      ],
      "execution_count": 27,
      "outputs": [
        {
          "output_type": "stream",
          "text": [
            "커피 한 잔\n",
            "매실차 두 잔\n",
            "'커피콩빵도 있잖아?'\t\"강릉 커피콩빵이랑 비교해보자!\"\n"
          ],
          "name": "stdout"
        }
      ]
    },
    {
      "cell_type": "markdown",
      "metadata": {
        "id": "FP_eYHqO6TUx"
      },
      "source": [
        "### 정답은 아래!"
      ]
    },
    {
      "cell_type": "code",
      "metadata": {
        "id": "1lPCg0E46aWE",
        "colab": {
          "base_uri": "https://localhost:8080/"
        },
        "outputId": "61ffb4c1-5715-490f-e780-575ac46c0365"
      },
      "source": [
        "sentence = \"커피 한 잔\\n매실차 두 잔\\n\\'커피콩빵도 있잖아?\\'\\t\\\"강릉 커피콩빵이랑 비교해보자!\\\"\"\n",
        "print(sentence)"
      ],
      "execution_count": 28,
      "outputs": [
        {
          "output_type": "stream",
          "text": [
            "커피 한 잔\n",
            "매실차 두 잔\n",
            "'커피콩빵도 있잖아?'\t\"강릉 커피콩빵이랑 비교해보자!\"\n"
          ],
          "name": "stdout"
        }
      ]
    },
    {
      "cell_type": "markdown",
      "metadata": {
        "id": "vBgTveRU6ap2"
      },
      "source": [
        "### 2.2.3 문자열 연산\n",
        "\n",
        "문자열도 숫자형처럼 연산이 가능합니다."
      ]
    },
    {
      "cell_type": "code",
      "metadata": {
        "id": "201FD9ba6a2y",
        "colab": {
          "base_uri": "https://localhost:8080/",
          "height": 35
        },
        "outputId": "a0fe4379-f62b-4871-b945-f2d5b819c6e3"
      },
      "source": [
        "a = 'python! '\n",
        "b = 'good!'\n",
        "a + b"
      ],
      "execution_count": 29,
      "outputs": [
        {
          "output_type": "execute_result",
          "data": {
            "application/vnd.google.colaboratory.intrinsic+json": {
              "type": "string"
            },
            "text/plain": [
              "'python! good!'"
            ]
          },
          "metadata": {},
          "execution_count": 29
        }
      ]
    },
    {
      "cell_type": "code",
      "metadata": {
        "colab": {
          "base_uri": "https://localhost:8080/",
          "height": 35
        },
        "id": "RgvuVJwRzzAx",
        "outputId": "63dffb2c-49f3-4091-cfe7-1137ca42b353"
      },
      "source": [
        "a * 5"
      ],
      "execution_count": 30,
      "outputs": [
        {
          "output_type": "execute_result",
          "data": {
            "application/vnd.google.colaboratory.intrinsic+json": {
              "type": "string"
            },
            "text/plain": [
              "'python! python! python! python! python! '"
            ]
          },
          "metadata": {},
          "execution_count": 30
        }
      ]
    },
    {
      "cell_type": "code",
      "metadata": {
        "colab": {
          "base_uri": "https://localhost:8080/"
        },
        "id": "nrJwyfMB7hlj",
        "outputId": "7a5616ef-4f73-471e-c89d-e67463403952"
      },
      "source": [
        "# 어떻게 하면 아래 결과가 나올까요~~~?\n",
        "# 문자열 곱셈과 문자열 덧셈을 이용해 아래 모양을 만들어봅시다.\n",
        "equal = '=' * 30\n",
        "sentence = equal + '\\n파이썬 하루만에 끝내보자!\\n' + equal\n",
        "print(sentence)"
      ],
      "execution_count": 31,
      "outputs": [
        {
          "output_type": "stream",
          "text": [
            "==============================\n",
            "파이썬 하루만에 끝내보자!\n",
            "==============================\n"
          ],
          "name": "stdout"
        }
      ]
    },
    {
      "cell_type": "markdown",
      "metadata": {
        "id": "erTDBJmq7htj"
      },
      "source": [
        "### 정답은 아래에"
      ]
    },
    {
      "cell_type": "code",
      "metadata": {
        "id": "-zqLrRfm8j1K",
        "colab": {
          "base_uri": "https://localhost:8080/"
        },
        "outputId": "0d4ebcf5-5941-4c13-8556-530bd56ac822"
      },
      "source": [
        "sentence = '='*30 + '\\n파이썬 하루만에 끝내보자!\\n' + '='*30\n",
        "print(sentence)"
      ],
      "execution_count": 32,
      "outputs": [
        {
          "output_type": "stream",
          "text": [
            "==============================\n",
            "파이썬 하루만에 끝내보자!\n",
            "==============================\n"
          ],
          "name": "stdout"
        }
      ]
    },
    {
      "cell_type": "markdown",
      "metadata": {
        "id": "Dz-w-F2R7QjP"
      },
      "source": [
        "### 2.2.4 문자열 인덱싱\n",
        "\n",
        "index = 색인 = 찾아보기\n",
        "\n",
        "- 순방향 인덱스: 0 부터 시작\n",
        "- 역방향 인덱스: -1 부터 시작\n",
        "- 문자열[인덱스]로 호출"
      ]
    },
    {
      "cell_type": "code",
      "metadata": {
        "id": "mTnfsjYG9TJY"
      },
      "source": [
        "sentence = '파이썬 하루만에 끝내보자!'"
      ],
      "execution_count": 33,
      "outputs": []
    },
    {
      "cell_type": "code",
      "metadata": {
        "id": "wZABv7ab9TSs",
        "colab": {
          "base_uri": "https://localhost:8080/"
        },
        "outputId": "c2f202e4-787d-464e-d397-813ba1e013a5"
      },
      "source": [
        "print(sentence)\n",
        "print(sentence[1])\n",
        "print(sentence[3])  # 띄어쓰기(공백)도 인덱스에 포함됨.\n",
        "print(sentence[-1])"
      ],
      "execution_count": 34,
      "outputs": [
        {
          "output_type": "stream",
          "text": [
            "파이썬 하루만에 끝내보자!\n",
            "이\n",
            " \n",
            "!\n"
          ],
          "name": "stdout"
        }
      ]
    },
    {
      "cell_type": "code",
      "metadata": {
        "id": "WUZfbKLQ9TY3",
        "colab": {
          "base_uri": "https://localhost:8080/",
          "height": 35
        },
        "outputId": "9ca6d7b0-0f73-443a-d276-1603e130a730"
      },
      "source": [
        "### 문자열 인덱싱으로, 문자열을 변경할 수 있나요?\n",
        "# sentence[-1] = '.'\n",
        "\n",
        "# string : imutable... 새로 선언하는 수 밖에...\n",
        "sentence = '파이썬 하루만에 끝내보자.'\n",
        "sentence"
      ],
      "execution_count": 35,
      "outputs": [
        {
          "output_type": "execute_result",
          "data": {
            "application/vnd.google.colaboratory.intrinsic+json": {
              "type": "string"
            },
            "text/plain": [
              "'파이썬 하루만에 끝내보자.'"
            ]
          },
          "metadata": {},
          "execution_count": 35
        }
      ]
    },
    {
      "cell_type": "markdown",
      "metadata": {
        "id": "m4pD7dOj9TuP"
      },
      "source": [
        "### 2.2.5 문자열 슬라이싱\n",
        "\n",
        "slicing = 잘라내기\n",
        "\n",
        "- 문자열[인덱스1:인덱스2]로 호출 (인덱스1 이상, 인덱스2 미만)"
      ]
    },
    {
      "cell_type": "code",
      "metadata": {
        "id": "z4SfSH8WAj2b",
        "colab": {
          "base_uri": "https://localhost:8080/",
          "height": 35
        },
        "outputId": "789cc586-990b-46b0-a5ec-bb416c48aff0"
      },
      "source": [
        "sentence[4:8]"
      ],
      "execution_count": 36,
      "outputs": [
        {
          "output_type": "execute_result",
          "data": {
            "application/vnd.google.colaboratory.intrinsic+json": {
              "type": "string"
            },
            "text/plain": [
              "'하루만에'"
            ]
          },
          "metadata": {},
          "execution_count": 36
        }
      ]
    },
    {
      "cell_type": "markdown",
      "metadata": {
        "id": "SjqbCDY-9Twk"
      },
      "source": [
        "### 2.2.6 문자열 포맷팅\n",
        "\n",
        "1. % 포맷팅 (c 스타일, %d: 정수 / %f: 실수 / %s: 문자열)\n",
        "2. '{}'.format\n",
        "3. f-string"
      ]
    },
    {
      "cell_type": "code",
      "metadata": {
        "colab": {
          "base_uri": "https://localhost:8080/"
        },
        "id": "Qj55kaoP308z",
        "outputId": "392917c3-2075-49e3-ea37-ab5e76f3e6a4"
      },
      "source": [
        "a = 6\n",
        "b = 7\n",
        "c = 9\n",
        "sentence = '나는 ' + str(a) + '호선을 타고 다녀.'\n",
        "print(sentence)"
      ],
      "execution_count": 37,
      "outputs": [
        {
          "output_type": "stream",
          "text": [
            "나는 6호선을 타고 다녀.\n"
          ],
          "name": "stdout"
        }
      ]
    },
    {
      "cell_type": "code",
      "metadata": {
        "id": "eJbcdycTAkgf",
        "colab": {
          "base_uri": "https://localhost:8080/"
        },
        "outputId": "30361eb7-54bc-4f4b-a17e-874a233845a9"
      },
      "source": [
        "# % 포맷팅\n",
        "print('나는 %d호선을 타고 다녀.' %a)\n",
        "print('나는 %.f호선을 타고 다녀.' %a)\n",
        "print('나는 %s호선을 타고 다녀.' %a)    # ...? string에 정수가 되네요?"
      ],
      "execution_count": 38,
      "outputs": [
        {
          "output_type": "stream",
          "text": [
            "나는 6호선을 타고 다녀.\n",
            "나는 6호선을 타고 다녀.\n",
            "나는 6호선을 타고 다녀.\n"
          ],
          "name": "stdout"
        }
      ]
    },
    {
      "cell_type": "code",
      "metadata": {
        "id": "8ymBs226HdJM",
        "colab": {
          "base_uri": "https://localhost:8080/"
        },
        "outputId": "8805ca8e-c043-4f55-ec37-c40772a1007a"
      },
      "source": [
        "# {}.format() / {index}.format(), / {variable}.format(variable=)\n",
        "print('나는 {}호선과 {}호선을 주로 타고 다녀.'.format(a, b))\n",
        "\n",
        "# indexing 가능\n",
        "print('나는 {1}호선과 {0}호선을 주로 타고 다녀.'.format(a, b))\n",
        "\n",
        "# 중복 가능\n",
        "print('나는 {1}호선과 {1}호선, {1}호선을 주로 타고 다녀.'.format(a, b, c))\n",
        "\n",
        "# 변수 가능\n",
        "print('나는 {x}호선과 {y}호선, {z}호선을 주로 타고 다녀.'.format(x=a, y=b, z=c))"
      ],
      "execution_count": 39,
      "outputs": [
        {
          "output_type": "stream",
          "text": [
            "나는 6호선과 7호선을 주로 타고 다녀.\n",
            "나는 7호선과 6호선을 주로 타고 다녀.\n",
            "나는 7호선과 7호선, 7호선을 주로 타고 다녀.\n",
            "나는 6호선과 7호선, 9호선을 주로 타고 다녀.\n"
          ],
          "name": "stdout"
        }
      ]
    },
    {
      "cell_type": "code",
      "metadata": {
        "id": "MHFLvalaHlAX",
        "colab": {
          "base_uri": "https://localhost:8080/"
        },
        "outputId": "8718c4ef-3071-4bd9-c1d3-1367217ace64"
      },
      "source": [
        "# f-string\n",
        "print(f'나는 {a}호선과 {b}호선, {c}호선을 주로 타고 다녀.')\n",
        "\n",
        "# 산술연산 가능\n",
        "print(f'나는 {a}호선과 {b+c}호선, {c}호선을 주로 타고 다녀.')"
      ],
      "execution_count": 40,
      "outputs": [
        {
          "output_type": "stream",
          "text": [
            "나는 6호선과 7호선, 9호선을 주로 타고 다녀.\n",
            "나는 6호선과 16호선, 9호선을 주로 타고 다녀.\n"
          ],
          "name": "stdout"
        }
      ]
    },
    {
      "cell_type": "markdown",
      "metadata": {
        "id": "kD-eFMq5AlSq"
      },
      "source": [
        "### 2.2.7 문자열 관련 함수\n",
        "\n",
        "- len(x)\n",
        "\n",
        "\n",
        "- .count(x)\n",
        "- .find(x)\n",
        "- .join(x)\n",
        "- .upper()\n",
        "- .lower()\n",
        "- .replace(a, b)\n",
        "- .split()"
      ]
    },
    {
      "cell_type": "code",
      "metadata": {
        "id": "1oyrDsxWCwjw",
        "colab": {
          "base_uri": "https://localhost:8080/"
        },
        "outputId": "5467add3-31f6-4849-f0a6-c1bf3302e71d"
      },
      "source": [
        "# len(x)\n",
        "sentence = '나는 7호선을 타고 다녀.'\n",
        "print(len(sentence))\n",
        "print(sentence[13])"
      ],
      "execution_count": 41,
      "outputs": [
        {
          "output_type": "stream",
          "text": [
            "14\n",
            ".\n"
          ],
          "name": "stdout"
        }
      ]
    },
    {
      "cell_type": "code",
      "metadata": {
        "id": "9BQdy7fDSI3g",
        "colab": {
          "base_uri": "https://localhost:8080/"
        },
        "outputId": "e18ca3ca-6ce7-47f1-8ac9-9321964396b8"
      },
      "source": [
        "# .count(x)\n",
        "haha = 'hahahahhahahahahohohohohohihihihihihihihih'\n",
        "print(haha.count('ho'))"
      ],
      "execution_count": 42,
      "outputs": [
        {
          "output_type": "stream",
          "text": [
            "5\n"
          ],
          "name": "stdout"
        }
      ]
    },
    {
      "cell_type": "code",
      "metadata": {
        "id": "V4k3loFHSItv",
        "colab": {
          "base_uri": "https://localhost:8080/"
        },
        "outputId": "7618af7f-bd2d-4a7f-e49c-99e60720f62c"
      },
      "source": [
        "# .find(x)\n",
        "file_name = 'JIAT_20210803_files.jpg'\n",
        "print(file_name.find('.'))"
      ],
      "execution_count": 43,
      "outputs": [
        {
          "output_type": "stream",
          "text": [
            "19\n"
          ],
          "name": "stdout"
        }
      ]
    },
    {
      "cell_type": "code",
      "metadata": {
        "id": "exPR5klPTOT6",
        "colab": {
          "base_uri": "https://localhost:8080/"
        },
        "outputId": "0ba2183d-4053-4e7d-ba72-f8638ef5d7aa"
      },
      "source": [
        "# .upper()\n",
        "print(haha.upper())"
      ],
      "execution_count": 44,
      "outputs": [
        {
          "output_type": "stream",
          "text": [
            "HAHAHAHHAHAHAHAHOHOHOHOHOHIHIHIHIHIHIHIHIH\n"
          ],
          "name": "stdout"
        }
      ]
    },
    {
      "cell_type": "code",
      "metadata": {
        "id": "Hs0DGhisTfdS",
        "colab": {
          "base_uri": "https://localhost:8080/"
        },
        "outputId": "30a128dc-ebd1-42b1-b7e2-621442f7c87b"
      },
      "source": [
        "# .lower()\n",
        "print(haha.lower())"
      ],
      "execution_count": 45,
      "outputs": [
        {
          "output_type": "stream",
          "text": [
            "hahahahhahahahahohohohohohihihihihihihihih\n"
          ],
          "name": "stdout"
        }
      ]
    },
    {
      "cell_type": "code",
      "metadata": {
        "id": "3TKHCuYTT4eh",
        "colab": {
          "base_uri": "https://localhost:8080/"
        },
        "outputId": "de1d6fc3-aa47-402e-daea-09a797fa0696"
      },
      "source": [
        "# .join()\n",
        "sentence = '.'.join('abcde')\n",
        "print(sentence)"
      ],
      "execution_count": 46,
      "outputs": [
        {
          "output_type": "stream",
          "text": [
            "a.b.c.d.e\n"
          ],
          "name": "stdout"
        }
      ]
    },
    {
      "cell_type": "code",
      "metadata": {
        "colab": {
          "base_uri": "https://localhost:8080/"
        },
        "id": "6j1SlIs4-qBG",
        "outputId": "ea5c0688-76d0-4ea0-c8d5-7cc9687f0086"
      },
      "source": [
        "# .replace(a, b)\n",
        "kiki = haha.replace('ha', 'ki')\n",
        "print(haha)\n",
        "print(kiki)"
      ],
      "execution_count": 47,
      "outputs": [
        {
          "output_type": "stream",
          "text": [
            "hahahahhahahahahohohohohohihihihihihihihih\n",
            "kikikihkikikikihohohohohohihihihihihihihih\n"
          ],
          "name": "stdout"
        }
      ]
    },
    {
      "cell_type": "code",
      "metadata": {
        "colab": {
          "base_uri": "https://localhost:8080/"
        },
        "id": "ILe2IRJE-phD",
        "outputId": "82a7a7e0-f5af-4382-dcfd-ffcad2bdc462"
      },
      "source": [
        "# .split()\n",
        "file_name = 'JIAT_20210803_files.jpg'\n",
        "print(file_name.split('.'))"
      ],
      "execution_count": 48,
      "outputs": [
        {
          "output_type": "stream",
          "text": [
            "['JIAT_20210803_files', 'jpg']\n"
          ],
          "name": "stdout"
        }
      ]
    },
    {
      "cell_type": "markdown",
      "metadata": {
        "id": "sZfzqS9ZHywA"
      },
      "source": [
        "## 2.3 리스트 (list)"
      ]
    },
    {
      "cell_type": "markdown",
      "metadata": {
        "id": "2oOeqW3NJXMH"
      },
      "source": [
        "여러 자료형을 담을 수 있고, 여러 요소를 하나의 변수로 사용하고 싶을 때 사용.\n",
        "\n",
        "- [ ]를 사용해서 초기화\n",
        "- 리스트 또한 인덱싱과 슬라이싱 가능\n",
        "- 다차원 배열 표현 가능 << 리스트 안에 리스트\n",
        "- 리스트 안의 원소는 리스트, 집합, 딕셔너리 등도 가능"
      ]
    },
    {
      "cell_type": "code",
      "metadata": {
        "id": "GMLTJ6ewJNJl",
        "colab": {
          "base_uri": "https://localhost:8080/"
        },
        "outputId": "f9e240dd-7243-4aa7-e006-8940712ba1ce"
      },
      "source": [
        "myList = [1, 1.25, 1, 'word', [1, 2, [3, 4]]]\n",
        "myList"
      ],
      "execution_count": 49,
      "outputs": [
        {
          "output_type": "execute_result",
          "data": {
            "text/plain": [
              "[1, 1.25, 1, 'word', [1, 2, [3, 4]]]"
            ]
          },
          "metadata": {},
          "execution_count": 49
        }
      ]
    },
    {
      "cell_type": "markdown",
      "metadata": {
        "id": "EnmBGAM3JXU9"
      },
      "source": [
        "### 2.3.1 리스트의 인덱싱과 슬라이싱"
      ]
    },
    {
      "cell_type": "code",
      "metadata": {
        "id": "RgYvipWLJNlX",
        "colab": {
          "base_uri": "https://localhost:8080/"
        },
        "outputId": "686e261c-bd1b-4f83-87bf-48806f805a83"
      },
      "source": [
        "# 3 추출하기\n",
        "print(myList[4])\n",
        "print(myList[4][2])\n",
        "print(myList[4][2][0], '\\n')\n",
        "\n",
        "# slicing\n",
        "print(myList[2:4])\n",
        "print(myList[3][0])"
      ],
      "execution_count": 50,
      "outputs": [
        {
          "output_type": "stream",
          "text": [
            "[1, 2, [3, 4]]\n",
            "[3, 4]\n",
            "3 \n",
            "\n",
            "[1, 'word']\n",
            "w\n"
          ],
          "name": "stdout"
        }
      ]
    },
    {
      "cell_type": "code",
      "metadata": {
        "colab": {
          "base_uri": "https://localhost:8080/"
        },
        "id": "pOAJnTUNjL8z",
        "outputId": "7f870271-eb8c-4956-893e-31fa7aa444f3"
      },
      "source": [
        "# 어떻게 하면 아래 결과가 나올까요~~~?\n",
        "# 리스트의 인덱싱과 슬라이싱을 이용해 봅시다.\n",
        "myList = [1, 5.2, 2*3, ['coffee', 'water', ['매실차', '유자차']]]\n",
        "\n",
        "print(myList[3][2][0][:2])\n",
        "print(myList[-1][-1][0][:2])"
      ],
      "execution_count": 51,
      "outputs": [
        {
          "output_type": "stream",
          "text": [
            "매실\n",
            "매실\n"
          ],
          "name": "stdout"
        }
      ]
    },
    {
      "cell_type": "markdown",
      "metadata": {
        "id": "ZTBwldgTJXch"
      },
      "source": [
        "### 정답은 아래"
      ]
    },
    {
      "cell_type": "code",
      "metadata": {
        "id": "iFNK7XY4j8uh",
        "colab": {
          "base_uri": "https://localhost:8080/",
          "height": 35
        },
        "outputId": "e30a797e-d819-4b31-c312-52fce64341c8"
      },
      "source": [
        "myList[-1][-1][0][:2]"
      ],
      "execution_count": 52,
      "outputs": [
        {
          "output_type": "execute_result",
          "data": {
            "application/vnd.google.colaboratory.intrinsic+json": {
              "type": "string"
            },
            "text/plain": [
              "'매실'"
            ]
          },
          "metadata": {},
          "execution_count": 52
        }
      ]
    },
    {
      "cell_type": "markdown",
      "metadata": {
        "id": "ZvUhLu5ZkM5c"
      },
      "source": [
        "### 2.3.2 리스트의 연산"
      ]
    },
    {
      "cell_type": "code",
      "metadata": {
        "id": "ysW-sJ30kRSs",
        "colab": {
          "base_uri": "https://localhost:8080/"
        },
        "outputId": "6a15a75d-4fdb-495b-c635-7b62241bd6c9"
      },
      "source": [
        "list1 = [1, 2, 3]\n",
        "list2 = [4, 5, 6]\n",
        "print(list1 * 2 + list2)\n",
        "print(len(list1))"
      ],
      "execution_count": 53,
      "outputs": [
        {
          "output_type": "stream",
          "text": [
            "[1, 2, 3, 1, 2, 3, 4, 5, 6]\n",
            "3\n"
          ],
          "name": "stdout"
        }
      ]
    },
    {
      "cell_type": "markdown",
      "metadata": {
        "id": "S7DTXi5wkRl-"
      },
      "source": [
        "### 2.3.3 리스트의 수정"
      ]
    },
    {
      "cell_type": "code",
      "metadata": {
        "id": "DD0VNatWkUSc",
        "colab": {
          "base_uri": "https://localhost:8080/"
        },
        "outputId": "f55c9036-5414-4bf1-d32c-62bbae3e1af3"
      },
      "source": [
        "### 리스트 인덱싱으로, 리스트를 변경할 수 있나요? --> list is mutable!\n",
        "myList = [1, 5.2, 2*3, ['coffee', 'water', ['매실차', '유자차']]]\n",
        "print(myList)\n",
        "myList[3] = 4\n",
        "print(myList)"
      ],
      "execution_count": 54,
      "outputs": [
        {
          "output_type": "stream",
          "text": [
            "[1, 5.2, 6, ['coffee', 'water', ['매실차', '유자차']]]\n",
            "[1, 5.2, 6, 4]\n"
          ],
          "name": "stdout"
        }
      ]
    },
    {
      "cell_type": "markdown",
      "metadata": {
        "id": "VAkIafrDkZUd"
      },
      "source": [
        "### 2.3.4 리스트 관련 함수\n",
        "\n",
        "- append(x)\n",
        "- extend(x)\n",
        "- sort()\n",
        "- reverse()\n",
        "- insert(a, b) : a는 index, b는 값\n",
        "- remove(x)\n",
        "- pop()\n",
        "- count(x)\n",
        "\n",
        "\n",
        "- del"
      ]
    },
    {
      "cell_type": "code",
      "metadata": {
        "colab": {
          "base_uri": "https://localhost:8080/"
        },
        "id": "niIJ0AdsGx0P",
        "outputId": "5b3c67a8-3f34-41e8-daf3-f398a49c0b3f"
      },
      "source": [
        "myList = [1, 5.2, 2, 6, 2]\n",
        "myList"
      ],
      "execution_count": 55,
      "outputs": [
        {
          "output_type": "execute_result",
          "data": {
            "text/plain": [
              "[1, 5.2, 2, 6, 2]"
            ]
          },
          "metadata": {},
          "execution_count": 55
        }
      ]
    },
    {
      "cell_type": "code",
      "metadata": {
        "id": "UBC0zJUWk8nQ",
        "colab": {
          "base_uri": "https://localhost:8080/"
        },
        "outputId": "299b010f-1003-4f9e-cb89-5c1ca5ad15e9"
      },
      "source": [
        "# .append(x)\n",
        "myList.append([1, 2])\n",
        "myList"
      ],
      "execution_count": 56,
      "outputs": [
        {
          "output_type": "execute_result",
          "data": {
            "text/plain": [
              "[1, 5.2, 2, 6, 2, [1, 2]]"
            ]
          },
          "metadata": {},
          "execution_count": 56
        }
      ]
    },
    {
      "cell_type": "code",
      "metadata": {
        "colab": {
          "base_uri": "https://localhost:8080/"
        },
        "id": "OPIW_fHVHVwZ",
        "outputId": "816e9947-257b-413c-a0d5-0b13bd7a292b"
      },
      "source": [
        "# .extend(x)\n",
        "myList = [1, 5.2, 2, 6, 2]\n",
        "myList.extend([1, 2])\n",
        "myList"
      ],
      "execution_count": 57,
      "outputs": [
        {
          "output_type": "execute_result",
          "data": {
            "text/plain": [
              "[1, 5.2, 2, 6, 2, 1, 2]"
            ]
          },
          "metadata": {},
          "execution_count": 57
        }
      ]
    },
    {
      "cell_type": "code",
      "metadata": {
        "id": "JQ2ZtCcOb1Am",
        "colab": {
          "base_uri": "https://localhost:8080/"
        },
        "outputId": "38ad977a-c4e8-49df-e7a8-4db0a9cba484"
      },
      "source": [
        "# .sort()\n",
        "myList = [1, 5.2, 2, 6, 2]\n",
        "myList.sort()\n",
        "myList"
      ],
      "execution_count": 58,
      "outputs": [
        {
          "output_type": "execute_result",
          "data": {
            "text/plain": [
              "[1, 2, 2, 5.2, 6]"
            ]
          },
          "metadata": {},
          "execution_count": 58
        }
      ]
    },
    {
      "cell_type": "code",
      "metadata": {
        "colab": {
          "base_uri": "https://localhost:8080/"
        },
        "id": "dznfSCVzHv0s",
        "outputId": "07b9bac5-c622-4ebc-cf12-50d580345617"
      },
      "source": [
        "# .reverse()\n",
        "myList.reverse()\n",
        "myList"
      ],
      "execution_count": 59,
      "outputs": [
        {
          "output_type": "execute_result",
          "data": {
            "text/plain": [
              "[6, 5.2, 2, 2, 1]"
            ]
          },
          "metadata": {},
          "execution_count": 59
        }
      ]
    },
    {
      "cell_type": "code",
      "metadata": {
        "colab": {
          "base_uri": "https://localhost:8080/"
        },
        "id": "yzuRsteKH0-_",
        "outputId": "3c61f287-5fba-48dd-9861-73c226d90721"
      },
      "source": [
        "# .insert(a, b) : (index, value)\n",
        "myList.insert(2, 3)\n",
        "myList"
      ],
      "execution_count": 60,
      "outputs": [
        {
          "output_type": "execute_result",
          "data": {
            "text/plain": [
              "[6, 5.2, 3, 2, 2, 1]"
            ]
          },
          "metadata": {},
          "execution_count": 60
        }
      ]
    },
    {
      "cell_type": "code",
      "metadata": {
        "colab": {
          "base_uri": "https://localhost:8080/"
        },
        "id": "_Gs7uw2NIFFI",
        "outputId": "cae2258b-4eca-4c91-b34e-9578eee515da"
      },
      "source": [
        "# .remove() : 값을 반환 불가능\n",
        "ret = myList.remove(3)\n",
        "print(myList)\n",
        "print(ret)"
      ],
      "execution_count": 61,
      "outputs": [
        {
          "output_type": "stream",
          "text": [
            "[6, 5.2, 2, 2, 1]\n",
            "None\n"
          ],
          "name": "stdout"
        }
      ]
    },
    {
      "cell_type": "code",
      "metadata": {
        "colab": {
          "base_uri": "https://localhost:8080/"
        },
        "id": "RQXqTObAIHRZ",
        "outputId": "f2e83eb4-fc75-4d8b-a03f-a26b7d236e77"
      },
      "source": [
        "# .pop() : 값을 반환 가능\n",
        "lastword = myList.pop()\n",
        "print(myList)\n",
        "print(lastword)"
      ],
      "execution_count": 62,
      "outputs": [
        {
          "output_type": "stream",
          "text": [
            "[6, 5.2, 2, 2]\n",
            "1\n"
          ],
          "name": "stdout"
        }
      ]
    },
    {
      "cell_type": "code",
      "metadata": {
        "colab": {
          "base_uri": "https://localhost:8080/"
        },
        "id": "27xFXeTFIHWr",
        "outputId": "ee308f36-9930-4a15-bec7-3f39600c0e4e"
      },
      "source": [
        "# .count(x)\n",
        "myList.count(0)"
      ],
      "execution_count": 63,
      "outputs": [
        {
          "output_type": "execute_result",
          "data": {
            "text/plain": [
              "0"
            ]
          },
          "metadata": {},
          "execution_count": 63
        }
      ]
    },
    {
      "cell_type": "code",
      "metadata": {
        "colab": {
          "base_uri": "https://localhost:8080/"
        },
        "id": "0EGswWYlINQ3",
        "outputId": "b30ffa35-941a-4842-fb88-f3ea41f4f4bf"
      },
      "source": [
        "# del\n",
        "del myList[1]\n",
        "myList"
      ],
      "execution_count": 64,
      "outputs": [
        {
          "output_type": "execute_result",
          "data": {
            "text/plain": [
              "[6, 2, 2]"
            ]
          },
          "metadata": {},
          "execution_count": 64
        }
      ]
    },
    {
      "cell_type": "code",
      "metadata": {
        "id": "4JCk7FMhnFT9",
        "colab": {
          "base_uri": "https://localhost:8080/"
        },
        "outputId": "f7452084-b681-4bb7-f99e-a2fdf330c4c2"
      },
      "source": [
        "# 리스트 관련 함수 예제 1\n",
        "myList = [1,2,3,4,5]\n",
        "\n",
        "myList.insert(2, 6)\n",
        "print(myList)\n",
        "# 결과 : [1, 2, 6, 3, 4, 5]"
      ],
      "execution_count": 65,
      "outputs": [
        {
          "output_type": "stream",
          "text": [
            "[1, 2, 6, 3, 4, 5]\n"
          ],
          "name": "stdout"
        }
      ]
    },
    {
      "cell_type": "code",
      "metadata": {
        "id": "n6R9zaOfnFig",
        "colab": {
          "base_uri": "https://localhost:8080/"
        },
        "outputId": "3b3709f5-c98a-46ee-b138-efa7c486e1aa"
      },
      "source": [
        "# 리스트 관련 함수 예제 2\n",
        "myList = [3,4,1,2,5]\n",
        "\n",
        "myList.sort(reverse=True)\n",
        "print(myList)\n",
        "# 결과 : [5,4,3,2,1]"
      ],
      "execution_count": 66,
      "outputs": [
        {
          "output_type": "stream",
          "text": [
            "[5, 4, 3, 2, 1]\n"
          ],
          "name": "stdout"
        }
      ]
    },
    {
      "cell_type": "code",
      "metadata": {
        "colab": {
          "base_uri": "https://localhost:8080/"
        },
        "id": "ZSHKb4xToZyY",
        "outputId": "d19eaacd-08ea-4e17-bad4-a6c22425f065"
      },
      "source": [
        "# 리스트 관련 함수 예제 3\n",
        "myList = [1,2,3]\n",
        "\n",
        "myList.extend([4, 5, 6])\n",
        "print(myList)\n",
        "# 결과 : [1, 2, 3, 4, 5, 6]"
      ],
      "execution_count": 67,
      "outputs": [
        {
          "output_type": "stream",
          "text": [
            "[1, 2, 3, 4, 5, 6]\n"
          ],
          "name": "stdout"
        }
      ]
    },
    {
      "cell_type": "markdown",
      "metadata": {
        "id": "pTzX50g8JXkf"
      },
      "source": [
        "## 2.4 사전 (dictionary)"
      ]
    },
    {
      "cell_type": "markdown",
      "metadata": {
        "id": "pB0OHjgFonZF"
      },
      "source": [
        "대응 관계를 나타내는 자료형\n",
        "\n",
        "- { }를 사용해서 초기화.\n",
        "- 순서를 따지지 않음.\n",
        "- key:value 의 쌍으로 이루어짐.\n",
        "- key는 숫자형 혹은 문자열. 중복 불가능.\n",
        "- value는 숫자형, 문자형, 리스트형, 사전형 등 대부분의 형식 가능."
      ]
    },
    {
      "cell_type": "code",
      "metadata": {
        "id": "imzqrKh0onuu",
        "colab": {
          "base_uri": "https://localhost:8080/"
        },
        "outputId": "6fdab6ce-27a7-4521-9731-64426ad8080f"
      },
      "source": [
        "myDict = {'name':'Goblin', 'age':30}\n",
        "print(myDict)"
      ],
      "execution_count": 68,
      "outputs": [
        {
          "output_type": "stream",
          "text": [
            "{'name': 'Goblin', 'age': 30}\n"
          ],
          "name": "stdout"
        }
      ]
    },
    {
      "cell_type": "code",
      "metadata": {
        "id": "9_sdYVnMfA7H",
        "colab": {
          "base_uri": "https://localhost:8080/"
        },
        "outputId": "cf135b44-c564-4d14-f2e2-453e8a62c302"
      },
      "source": [
        "# indexing\n",
        "print(myDict['name'])"
      ],
      "execution_count": 69,
      "outputs": [
        {
          "output_type": "stream",
          "text": [
            "Goblin\n"
          ],
          "name": "stdout"
        }
      ]
    },
    {
      "cell_type": "code",
      "metadata": {
        "id": "HtgcatuJfnX9",
        "colab": {
          "base_uri": "https://localhost:8080/"
        },
        "outputId": "3389a96b-8c14-4f03-ae83-a0dcd784ebc4"
      },
      "source": [
        "# add\n",
        "myDict['grade'] = [10, 12, 8]\n",
        "print(myDict)"
      ],
      "execution_count": 70,
      "outputs": [
        {
          "output_type": "stream",
          "text": [
            "{'name': 'Goblin', 'age': 30, 'grade': [10, 12, 8]}\n"
          ],
          "name": "stdout"
        }
      ]
    },
    {
      "cell_type": "code",
      "metadata": {
        "id": "owCzUhuUfNYb",
        "colab": {
          "base_uri": "https://localhost:8080/"
        },
        "outputId": "33a5e776-0915-49a0-e1fc-32dd975f428e"
      },
      "source": [
        "# change value\n",
        "myDict['age'] = 20\n",
        "print(myDict)"
      ],
      "execution_count": 71,
      "outputs": [
        {
          "output_type": "stream",
          "text": [
            "{'name': 'Goblin', 'age': 20, 'grade': [10, 12, 8]}\n"
          ],
          "name": "stdout"
        }
      ]
    },
    {
      "cell_type": "markdown",
      "metadata": {
        "id": "E5x9Poh4on6t"
      },
      "source": [
        "### 2.4.1 사전의 수정"
      ]
    },
    {
      "cell_type": "code",
      "metadata": {
        "colab": {
          "base_uri": "https://localhost:8080/"
        },
        "id": "uPErgUNufmAP",
        "outputId": "be4924e6-4704-4c1e-b8f3-5d60d114b382"
      },
      "source": [
        "del myDict['grade']\n",
        "print(myDict)"
      ],
      "execution_count": 72,
      "outputs": [
        {
          "output_type": "stream",
          "text": [
            "{'name': 'Goblin', 'age': 20}\n"
          ],
          "name": "stdout"
        }
      ]
    },
    {
      "cell_type": "markdown",
      "metadata": {
        "id": "vXL_KU7PooNi"
      },
      "source": [
        "### 2.4.2 사전 관련 함수\n",
        "\n",
        "- keys()\n",
        "- values()\n",
        "- items()\n",
        "- clear()\n",
        "- get()\n",
        "\n",
        "\n",
        "- del\n",
        "- in"
      ]
    },
    {
      "cell_type": "code",
      "metadata": {
        "id": "vpsiDeMuooE7",
        "colab": {
          "base_uri": "https://localhost:8080/"
        },
        "outputId": "ed0f23b8-79ac-4a47-a8ba-00709e80f7da"
      },
      "source": [
        "myDict = {'name':'Goblin', 'age':30, 'grade':[10, 12, 8]}\n",
        "myDict"
      ],
      "execution_count": 73,
      "outputs": [
        {
          "output_type": "execute_result",
          "data": {
            "text/plain": [
              "{'age': 30, 'grade': [10, 12, 8], 'name': 'Goblin'}"
            ]
          },
          "metadata": {},
          "execution_count": 73
        }
      ]
    },
    {
      "cell_type": "code",
      "metadata": {
        "id": "ldJIjLbSooVT",
        "colab": {
          "base_uri": "https://localhost:8080/"
        },
        "outputId": "21cd6b27-a78e-4478-c6b9-7058cce7576b"
      },
      "source": [
        "print(myDict)\n",
        "\n",
        "# keys()\n",
        "print(myDict.keys())\n",
        "\n",
        "# values()\n",
        "print(myDict.values())\n",
        "\n",
        "# items()\n",
        "print(myDict.items())"
      ],
      "execution_count": 74,
      "outputs": [
        {
          "output_type": "stream",
          "text": [
            "{'name': 'Goblin', 'age': 30, 'grade': [10, 12, 8]}\n",
            "dict_keys(['name', 'age', 'grade'])\n",
            "dict_values(['Goblin', 30, [10, 12, 8]])\n",
            "dict_items([('name', 'Goblin'), ('age', 30), ('grade', [10, 12, 8])])\n"
          ],
          "name": "stdout"
        }
      ]
    },
    {
      "cell_type": "code",
      "metadata": {
        "id": "tIEGFJUphAyh",
        "colab": {
          "base_uri": "https://localhost:8080/"
        },
        "outputId": "c6ba2784-b12b-4b72-dfd0-b4215024a2e6"
      },
      "source": [
        "# clear()\n",
        "myDict.clear()\n",
        "print(myDict)\n",
        "\n",
        "# enter new keys and values\n",
        "myDict['name'] = 'Jack'\n",
        "myDict['age'] = 40\n",
        "print(myDict)"
      ],
      "execution_count": 75,
      "outputs": [
        {
          "output_type": "stream",
          "text": [
            "{}\n",
            "{'name': 'Jack', 'age': 40}\n"
          ],
          "name": "stdout"
        }
      ]
    },
    {
      "cell_type": "code",
      "metadata": {
        "colab": {
          "base_uri": "https://localhost:8080/"
        },
        "id": "05qLXer1kyrb",
        "outputId": "0c8e2a0c-0116-48ef-d016-dd9e264aad51"
      },
      "source": [
        "# get() : 모두 실행 시 오류 발생하면 멈추지 않고 원활히 수행하기 위함.\n",
        "print(myDict.get('grade'))"
      ],
      "execution_count": 76,
      "outputs": [
        {
          "output_type": "stream",
          "text": [
            "None\n"
          ],
          "name": "stdout"
        }
      ]
    },
    {
      "cell_type": "code",
      "metadata": {
        "id": "8C-No-AyhBDt",
        "colab": {
          "base_uri": "https://localhost:8080/"
        },
        "outputId": "c154a5ff-eff7-4992-ff3b-7da7f34d7726"
      },
      "source": [
        "# in : only find key\n",
        "print('grade' in myDict)\n",
        "print('name' in myDict)"
      ],
      "execution_count": 77,
      "outputs": [
        {
          "output_type": "stream",
          "text": [
            "False\n",
            "True\n"
          ],
          "name": "stdout"
        }
      ]
    },
    {
      "cell_type": "code",
      "metadata": {
        "colab": {
          "base_uri": "https://localhost:8080/"
        },
        "id": "bvYh_N0xqyQe",
        "outputId": "cc01ce0e-1179-4788-cf22-aed3b6c355b6"
      },
      "source": [
        "# 사전 관련 함수 예제\n",
        "myDict = {'coffee':4000, 'water':2000, 'milk':2500}\n",
        "\n",
        "\"\"\"\n",
        "myDict에 cake 목록(아래)을 추가하고, 결과를 확인해보세요!\n",
        "choco : 2000\n",
        "banana : 4000\n",
        "straw berry : 5000\n",
        "\"\"\"\n",
        "\n",
        "# dictionary can make dictionary in itself\n",
        "myDict['cake'] = {'choco':2000, 'banana':4000, 'straw berry':5000}\n",
        "\n",
        "print(myDict)\n",
        "print(myDict['cake']['choco'])\n",
        "print(myDict['cake'].keys())\n",
        "print('mint choco' in myDict['cake'])"
      ],
      "execution_count": 78,
      "outputs": [
        {
          "output_type": "stream",
          "text": [
            "{'coffee': 4000, 'water': 2000, 'milk': 2500, 'cake': {'choco': 2000, 'banana': 4000, 'straw berry': 5000}}\n",
            "2000\n",
            "dict_keys(['choco', 'banana', 'straw berry'])\n",
            "False\n"
          ],
          "name": "stdout"
        }
      ]
    },
    {
      "cell_type": "markdown",
      "metadata": {
        "id": "8bpiHHVoJXsI"
      },
      "source": [
        "## 2.5 튜플 (tuple)"
      ]
    },
    {
      "cell_type": "markdown",
      "metadata": {
        "id": "4_LagDa7ueQe"
      },
      "source": [
        "리스트와 비슷하지만, 값을 추가, 삭제, 수정할 수 없음!\n",
        "\n",
        "- ( )를 이용하여 초기화 (( ) 없이도 선언 가능)\n",
        "- 값 한개를 가질 때는 마지막에 \",\"를 써줘야 함\n",
        "- 수정해서는 안되는 값들을 저장할 때 사용"
      ]
    },
    {
      "cell_type": "code",
      "metadata": {
        "id": "hKuJY3-CueeR",
        "colab": {
          "base_uri": "https://localhost:8080/"
        },
        "outputId": "11b5bba5-1101-4d7f-b2bf-b6be1a3cdc4d"
      },
      "source": [
        "tuple1 = (1)\n",
        "print(type(tuple1))\n",
        "\n",
        "# 튜플임을 명시하기 위해 1개일 시 컴마(,)를 사용해준다.\n",
        "tuple1 = (1,)\n",
        "print(type(tuple1))"
      ],
      "execution_count": 79,
      "outputs": [
        {
          "output_type": "stream",
          "text": [
            "<class 'int'>\n",
            "<class 'tuple'>\n"
          ],
          "name": "stdout"
        }
      ]
    },
    {
      "cell_type": "code",
      "metadata": {
        "colab": {
          "base_uri": "https://localhost:8080/"
        },
        "id": "eUufEN4zn6DP",
        "outputId": "bd158ea0-dc04-4414-f4c3-5debbcb7017d"
      },
      "source": [
        "tuple1 = (2.3,)\n",
        "tuple2 = (2.3)\n",
        "tuple3 = 1, 2, 3, 4, 5\n",
        "\n",
        "print(tuple1, type(tuple1))\n",
        "print(tuple2, type(tuple2))\n",
        "print(tuple3, type(tuple3))"
      ],
      "execution_count": 80,
      "outputs": [
        {
          "output_type": "stream",
          "text": [
            "(2.3,) <class 'tuple'>\n",
            "2.3 <class 'float'>\n",
            "(1, 2, 3, 4, 5) <class 'tuple'>\n"
          ],
          "name": "stdout"
        }
      ]
    },
    {
      "cell_type": "code",
      "metadata": {
        "id": "rpsBlsz2z4pN",
        "colab": {
          "base_uri": "https://localhost:8080/"
        },
        "outputId": "b1cbf90b-1906-4dfb-c074-bf8f1396d9fa"
      },
      "source": [
        "# indexing\n",
        "tuple1 = 1, 2, 3, '?', [1, 23]\n",
        "print(tuple1[1:-2]*2)   # [1:-2] --> ???"
      ],
      "execution_count": 81,
      "outputs": [
        {
          "output_type": "stream",
          "text": [
            "(2, 3, 2, 3)\n"
          ],
          "name": "stdout"
        }
      ]
    },
    {
      "cell_type": "markdown",
      "metadata": {
        "id": "KzXlpznvJjPt"
      },
      "source": [
        "## 2.6 집합 (set)"
      ]
    },
    {
      "cell_type": "markdown",
      "metadata": {
        "id": "uQzFXX4JfxJF"
      },
      "source": [
        "집합 관련 자료를 쉽게 처리하기 위해 만든 자료형\n",
        "\n",
        "- { }을 사용해서 초기화\n",
        "- 중복을 허용하지 않고 순서가 없음 >> 인덱싱 x\n",
        "- 순서를 사용하고 싶다면, list나 tuple로 변형"
      ]
    },
    {
      "cell_type": "code",
      "metadata": {
        "id": "WRRMqefKgGvT",
        "colab": {
          "base_uri": "https://localhost:8080/"
        },
        "outputId": "7c08feeb-7ce2-4618-b999-9cb19485441d"
      },
      "source": [
        "set1 = {1, 4, 5}\n",
        "print(set1)"
      ],
      "execution_count": 82,
      "outputs": [
        {
          "output_type": "stream",
          "text": [
            "{1, 4, 5}\n"
          ],
          "name": "stdout"
        }
      ]
    },
    {
      "cell_type": "code",
      "metadata": {
        "id": "KTwstoCs018G",
        "colab": {
          "base_uri": "https://localhost:8080/"
        },
        "outputId": "b2b30ecb-bc1c-49cc-c994-badebc053c0d"
      },
      "source": [
        "list1 = [1, 2, 3, 4, 1, 3, 5, 7, 9]\n",
        "print(list1)\n",
        "\n",
        "# set : 중복된 값을 없애준다.\n",
        "print(set(list1))\n",
        "\n",
        "# 중복된 값이 없어진 set을 다시 list로 만든다.\n",
        "print(list(set(list1)))"
      ],
      "execution_count": 83,
      "outputs": [
        {
          "output_type": "stream",
          "text": [
            "[1, 2, 3, 4, 1, 3, 5, 7, 9]\n",
            "{1, 2, 3, 4, 5, 7, 9}\n",
            "[1, 2, 3, 4, 5, 7, 9]\n"
          ],
          "name": "stdout"
        }
      ]
    },
    {
      "cell_type": "markdown",
      "metadata": {
        "id": "ArWO4uv3gKpU"
      },
      "source": [
        "### 2.6.1 합집합, 교집합, 차집합\n",
        "\n",
        "- 합집합 : |\n",
        "- 교집합 : &\n",
        "- 차집합 : -"
      ]
    },
    {
      "cell_type": "code",
      "metadata": {
        "id": "HBr1xAL4gREK",
        "colab": {
          "base_uri": "https://localhost:8080/"
        },
        "outputId": "4d291937-23eb-4d76-c67f-122c3b82d584"
      },
      "source": [
        "set1 = {1, 2, 3, 4, 5}\n",
        "set2 = {1, 3, 5, 7, 9}\n",
        "\n",
        "print(set1 | set2)\n",
        "print(set1 & set2)\n",
        "print(set1 - set2, '\\n')\n",
        "\n",
        "# x and y : x is False --> x,    x is True --> y\n",
        "print(set1 and set2)\n",
        "# x or y : x is False --> y,    x is True --> x\n",
        "print(set1 or set2)"
      ],
      "execution_count": 84,
      "outputs": [
        {
          "output_type": "stream",
          "text": [
            "{1, 2, 3, 4, 5, 7, 9}\n",
            "{1, 3, 5}\n",
            "{2, 4} \n",
            "\n",
            "{1, 3, 5, 7, 9}\n",
            "{1, 2, 3, 4, 5}\n"
          ],
          "name": "stdout"
        }
      ]
    },
    {
      "cell_type": "markdown",
      "metadata": {
        "id": "Q9RMsFKygR7b"
      },
      "source": [
        "### 2.6.2 집합 관련 함수\n",
        "\n",
        "- .add()\n",
        "- .updata()\n",
        "- .remove()\n",
        "- .union()\n",
        "- .defference()"
      ]
    },
    {
      "cell_type": "code",
      "metadata": {
        "id": "Cx8sgFtzgYyq",
        "colab": {
          "base_uri": "https://localhost:8080/"
        },
        "outputId": "d52f9cb3-ebaf-4b3e-f299-01baeb138bb4"
      },
      "source": [
        "set1 = {1, 2, 3, 4, 5}\n",
        "set2 = {1, 3, 5, 7, 9}\n",
        "print(f'set1 : {set1}\\t\\tset2 : {set2}')\n",
        "\n",
        "# add()\n",
        "set1.add(6)\n",
        "print(f'set1 : {set1}\\tset2 : {set2}')\n",
        "\n",
        "# update()\n",
        "set2.update([11, 13])\n",
        "print(f'set1 : {set1}\\tset2 : {set2}')\n",
        "\n",
        "# remove()\n",
        "set1.remove(1)\n",
        "print(f'set1 : {set1}\\t\\tset2 : {set2}', '\\n')\n",
        "\n",
        "# union() : 합집합\n",
        "print(f'union : {set1.union(set2)}')\n",
        "print(f'union : {set1 | set2}')\n",
        "\n",
        "# difference() : 차집합\n",
        "print(f'diff : {set1.difference(set2)}')\n",
        "print(f'diff : {set1 - set2}')\n",
        "\n",
        "# intersection() : 합집합\n",
        "print(f'intersection : {set1.intersection(set2)}')\n",
        "print(f'intersection : {set1 & set2}')"
      ],
      "execution_count": 85,
      "outputs": [
        {
          "output_type": "stream",
          "text": [
            "set1 : {1, 2, 3, 4, 5}\t\tset2 : {1, 3, 5, 7, 9}\n",
            "set1 : {1, 2, 3, 4, 5, 6}\tset2 : {1, 3, 5, 7, 9}\n",
            "set1 : {1, 2, 3, 4, 5, 6}\tset2 : {1, 3, 5, 7, 9, 11, 13}\n",
            "set1 : {2, 3, 4, 5, 6}\t\tset2 : {1, 3, 5, 7, 9, 11, 13} \n",
            "\n",
            "union : {1, 2, 3, 4, 5, 6, 7, 9, 11, 13}\n",
            "union : {1, 2, 3, 4, 5, 6, 7, 9, 11, 13}\n",
            "diff : {2, 4, 6}\n",
            "diff : {2, 4, 6}\n",
            "intersection : {3, 5}\n",
            "intersection : {3, 5}\n"
          ],
          "name": "stdout"
        }
      ]
    },
    {
      "cell_type": "markdown",
      "metadata": {
        "id": "qTpAQiTEJjXR"
      },
      "source": [
        "## 2.7 부울 (bool)"
      ]
    },
    {
      "cell_type": "markdown",
      "metadata": {
        "id": "-tz8NWENg4F7"
      },
      "source": [
        "참과 거짓을 나타내는 자료형\n",
        "\n",
        "- True / False\n",
        "- 주로 조건문의 반환 값으로 사용"
      ]
    },
    {
      "cell_type": "code",
      "metadata": {
        "id": "NkSNQryYg4oZ",
        "colab": {
          "base_uri": "https://localhost:8080/"
        },
        "outputId": "3b7ad996-2575-4976-8846-a45f17166ff5"
      },
      "source": [
        "a = True\n",
        "b = False\n",
        "print(type(a), type(b))"
      ],
      "execution_count": 86,
      "outputs": [
        {
          "output_type": "stream",
          "text": [
            "<class 'bool'> <class 'bool'>\n"
          ],
          "name": "stdout"
        }
      ]
    },
    {
      "cell_type": "code",
      "metadata": {
        "id": "2lsyCFEgj8uW",
        "colab": {
          "base_uri": "https://localhost:8080/"
        },
        "outputId": "9c82f7c2-ac24-4a22-8e8d-0acb63068a7d"
      },
      "source": [
        "# &\n",
        "print(True & True)\n",
        "print(True & False)\n",
        "print(False & False, '\\n')\n",
        "\n",
        "# |\n",
        "print(True | True)\n",
        "print(True | False)\n",
        "print(False | False, '\\n')"
      ],
      "execution_count": 87,
      "outputs": [
        {
          "output_type": "stream",
          "text": [
            "True\n",
            "False\n",
            "False \n",
            "\n",
            "True\n",
            "True\n",
            "False \n",
            "\n"
          ],
          "name": "stdout"
        }
      ]
    },
    {
      "cell_type": "code",
      "metadata": {
        "colab": {
          "base_uri": "https://localhost:8080/"
        },
        "id": "E6EA8N1PwsfT",
        "outputId": "9b8b1050-fdef-4c47-9592-572fb9fd65e7"
      },
      "source": [
        "myDict1 = {'name':'Jack'}\n",
        "myDict2 = {}\n",
        "\n",
        "# 하나 이상의 값이 있으면 True, 비어있거나 0 이면 False\n",
        "print(bool(myDict1))\n",
        "print(bool(myDict2))"
      ],
      "execution_count": 88,
      "outputs": [
        {
          "output_type": "stream",
          "text": [
            "True\n",
            "False\n"
          ],
          "name": "stdout"
        }
      ]
    },
    {
      "cell_type": "markdown",
      "metadata": {
        "id": "UKjSyC3_h2oy"
      },
      "source": [
        "## 2.8 input 함수"
      ]
    },
    {
      "cell_type": "markdown",
      "metadata": {
        "id": "QcfJ_6Jkh-4J"
      },
      "source": [
        "문자열을 띄워 질문하고 사용자의 입력값을 받음"
      ]
    },
    {
      "cell_type": "code",
      "metadata": {
        "id": "uHrF4v2nhSHq",
        "colab": {
          "base_uri": "https://localhost:8080/"
        },
        "outputId": "3994c9b5-bfb1-4ba5-cac2-c814c8151533"
      },
      "source": [
        "print('Hello')"
      ],
      "execution_count": 89,
      "outputs": [
        {
          "output_type": "stream",
          "text": [
            "Hello\n"
          ],
          "name": "stdout"
        }
      ]
    },
    {
      "cell_type": "code",
      "metadata": {
        "id": "A3HXPyKp4f9h",
        "colab": {
          "base_uri": "https://localhost:8080/"
        },
        "outputId": "f7b3fcc4-3f5b-4b27-8c9b-92f7ab0419a8"
      },
      "source": [
        "num = input('값을 입력해주세요.\\n')\n",
        "\n",
        "# 어떤 값을 쳐도 string으로 입력된다.\n",
        "print(num, type(num))"
      ],
      "execution_count": 90,
      "outputs": [
        {
          "output_type": "stream",
          "text": [
            "값을 입력해주세요.\n",
            "100\n",
            "100 <class 'str'>\n"
          ],
          "name": "stdout"
        }
      ]
    }
  ]
}