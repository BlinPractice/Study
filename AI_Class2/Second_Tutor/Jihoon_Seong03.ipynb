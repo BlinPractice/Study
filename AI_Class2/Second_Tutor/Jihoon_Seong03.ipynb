{
  "nbformat": 4,
  "nbformat_minor": 0,
  "metadata": {
    "colab": {
      "name": "Jihoon_Seong03.ipynb",
      "provenance": [],
      "collapsed_sections": [],
      "toc_visible": true,
      "include_colab_link": true
    },
    "kernelspec": {
      "name": "python3",
      "display_name": "Python 3"
    },
    "language_info": {
      "name": "python"
    }
  },
  "cells": [
    {
      "cell_type": "markdown",
      "metadata": {
        "id": "view-in-github",
        "colab_type": "text"
      },
      "source": [
        "<a href=\"https://colab.research.google.com/github/PyBlin/Study/blob/main/AI_Class2/Second_Tutor/Jihoon_Seong03.ipynb\" target=\"_parent\"><img src=\"https://colab.research.google.com/assets/colab-badge.svg\" alt=\"Open In Colab\"/></a>"
      ]
    },
    {
      "cell_type": "markdown",
      "metadata": {
        "id": "b-OBNJpfeS93"
      },
      "source": [
        "# 1.함수\n"
      ]
    },
    {
      "cell_type": "markdown",
      "metadata": {
        "id": "Jefb4WAreimq"
      },
      "source": [
        "입력 >> **함수** >> 출력\n",
        "\n",
        "\n",
        "반복적으로 사용되는 기능을 함수로 사용.\n",
        "\n",
        "\n",
        "ex)\n",
        "```\n",
        "def add(arg1, arg2):\n",
        "  result = arg1+arg2\n",
        "  return result \n",
        "```\n"
      ]
    },
    {
      "cell_type": "code",
      "metadata": {
        "id": "cSX7QiJlcZ0-"
      },
      "source": [
        "def add(x, y):\n",
        "    return x + y"
      ],
      "execution_count": 1,
      "outputs": []
    },
    {
      "cell_type": "code",
      "metadata": {
        "id": "jtA8FpzEdXZj",
        "colab": {
          "base_uri": "https://localhost:8080/"
        },
        "outputId": "b090dea0-63f6-498c-ac0e-48d716f58320"
      },
      "source": [
        "z = add(3, 6)\n",
        "z"
      ],
      "execution_count": 2,
      "outputs": [
        {
          "output_type": "execute_result",
          "data": {
            "text/plain": [
              "9"
            ]
          },
          "metadata": {},
          "execution_count": 2
        }
      ]
    },
    {
      "cell_type": "markdown",
      "metadata": {
        "id": "cSQySGEsf5qw"
      },
      "source": [
        "## 1.1 함수의 특징\n",
        "\n",
        "- 입력값(argument), 결과값(return)이 없을 수 있다.\n",
        "- 결과값은 하나이다.\n",
        "- 입력값을 미리 정해 놓을 수 있다.\n",
        "- 함수 안에서 선언한 변수는 함수 안에서만 유효하다. (return, global 제외)"
      ]
    },
    {
      "cell_type": "code",
      "metadata": {
        "id": "JPr4mVpGMTPr"
      },
      "source": [
        "def greeting():\n",
        "    print(\"Hi~\")"
      ],
      "execution_count": 3,
      "outputs": []
    },
    {
      "cell_type": "code",
      "metadata": {
        "id": "wVsRSB9Cd32w",
        "colab": {
          "base_uri": "https://localhost:8080/"
        },
        "outputId": "208a1803-3115-43e3-a55d-95826579ec63"
      },
      "source": [
        "greeting()"
      ],
      "execution_count": 4,
      "outputs": [
        {
          "output_type": "stream",
          "text": [
            "Hi~\n"
          ],
          "name": "stdout"
        }
      ]
    },
    {
      "cell_type": "code",
      "metadata": {
        "id": "_Zgj8nR2d8v3",
        "colab": {
          "base_uri": "https://localhost:8080/"
        },
        "outputId": "f8f3399c-d485-4631-e053-fd230cca11c7"
      },
      "source": [
        "z = greeting()\n",
        "print(z)"
      ],
      "execution_count": 5,
      "outputs": [
        {
          "output_type": "stream",
          "text": [
            "Hi~\n",
            "None\n"
          ],
          "name": "stdout"
        }
      ]
    },
    {
      "cell_type": "code",
      "metadata": {
        "id": "DajeZ36beEvF"
      },
      "source": [
        "def greeting_v2(name):\n",
        "    print(f\"Hi~ {name}\")"
      ],
      "execution_count": 6,
      "outputs": []
    },
    {
      "cell_type": "code",
      "metadata": {
        "id": "77Hsa2rPe37-",
        "colab": {
          "base_uri": "https://localhost:8080/"
        },
        "outputId": "05b831ce-1e2e-476a-9455-c7c367183aea"
      },
      "source": [
        "z = greeting_v2('Jack')\n",
        "z"
      ],
      "execution_count": 7,
      "outputs": [
        {
          "output_type": "stream",
          "text": [
            "Hi~ Jack\n"
          ],
          "name": "stdout"
        }
      ]
    },
    {
      "cell_type": "code",
      "metadata": {
        "id": "SQmOo9A0fulE"
      },
      "source": [
        "# return --> print\n",
        "def greeting_v3():\n",
        "    return \"Hi~\""
      ],
      "execution_count": 8,
      "outputs": []
    },
    {
      "cell_type": "code",
      "metadata": {
        "id": "GKZ5q6-4gw7y"
      },
      "source": [
        "z = greeting_v3()"
      ],
      "execution_count": 9,
      "outputs": []
    },
    {
      "cell_type": "code",
      "metadata": {
        "id": "t1pVz4IePpDR",
        "colab": {
          "base_uri": "https://localhost:8080/"
        },
        "outputId": "67f97483-ab1c-4405-f899-865d0052d601"
      },
      "source": [
        "print(z)"
      ],
      "execution_count": 10,
      "outputs": [
        {
          "output_type": "stream",
          "text": [
            "Hi~\n"
          ],
          "name": "stdout"
        }
      ]
    },
    {
      "cell_type": "code",
      "metadata": {
        "id": "hYZ_N6TVPpQa"
      },
      "source": [
        "# default 값이 뒤로 와야됨. (x=3, y) 안됨.\n",
        "def add_mul(x, y=8):\n",
        "    result1 = x + y\n",
        "    result2 = x * y\n",
        "    return result1, result2"
      ],
      "execution_count": 11,
      "outputs": []
    },
    {
      "cell_type": "code",
      "metadata": {
        "colab": {
          "base_uri": "https://localhost:8080/"
        },
        "id": "OJaFFFIc8Y9T",
        "outputId": "f41a74fe-7b19-4c0f-e7a9-8f1d99b94b8f"
      },
      "source": [
        "result1, result2 = add_mul(4, 5)\n",
        "print(result1)\n",
        "print(result2)"
      ],
      "execution_count": 12,
      "outputs": [
        {
          "output_type": "stream",
          "text": [
            "9\n",
            "20\n"
          ],
          "name": "stdout"
        }
      ]
    },
    {
      "cell_type": "code",
      "metadata": {
        "id": "1GiUeR0A9R4i"
      },
      "source": [
        "def sum_pow(x, y):\n",
        "    '''input : \n",
        "    x = 밑\n",
        "    y = 지수\n",
        "    output : \n",
        "    (x+y, x**y)\n",
        "    '''\n",
        "    result1 = x + y\n",
        "    result2 = x ** y\n",
        "    return result1, result2"
      ],
      "execution_count": 13,
      "outputs": []
    },
    {
      "cell_type": "code",
      "metadata": {
        "colab": {
          "base_uri": "https://localhost:8080/"
        },
        "id": "C4zBDYPg9dRr",
        "outputId": "6d5f5330-cf69-441e-d6b1-f34fd046894c"
      },
      "source": [
        "result1, result2 = sum_pow(y=3, x=2)\n",
        "print(result1, end='\\t')\n",
        "print(result2)"
      ],
      "execution_count": 14,
      "outputs": [
        {
          "output_type": "stream",
          "text": [
            "5\t8\n"
          ],
          "name": "stdout"
        }
      ]
    },
    {
      "cell_type": "code",
      "metadata": {
        "id": "VKv3Ed4Y_Kfd"
      },
      "source": [
        "def greeting_v4():\n",
        "    global hi\n",
        "    hi = \"Hi\"\n",
        "    print(hi)"
      ],
      "execution_count": 15,
      "outputs": []
    },
    {
      "cell_type": "code",
      "metadata": {
        "colab": {
          "base_uri": "https://localhost:8080/"
        },
        "id": "FMYhKDpV_UKd",
        "outputId": "725703a4-7848-475a-8f18-1fcf7436ee2e"
      },
      "source": [
        "greeting_v4()"
      ],
      "execution_count": 16,
      "outputs": [
        {
          "output_type": "stream",
          "text": [
            "Hi\n"
          ],
          "name": "stdout"
        }
      ]
    },
    {
      "cell_type": "code",
      "metadata": {
        "colab": {
          "base_uri": "https://localhost:8080/"
        },
        "id": "s_pQkAi__V_D",
        "outputId": "7fac9069-887a-4949-8b71-13c02c24a98d"
      },
      "source": [
        "# 함수 안에서 선언한 변수는 함수 안에서만 유효하다. (return, global 제외)\n",
        "print(hi)"
      ],
      "execution_count": 17,
      "outputs": [
        {
          "output_type": "stream",
          "text": [
            "Hi\n"
          ],
          "name": "stdout"
        }
      ]
    },
    {
      "cell_type": "code",
      "metadata": {
        "id": "qntOd71L_wV9"
      },
      "source": [
        "# argument 갯수 제한 없이 사용 가능 : *\n",
        "def add(*args, **kargs):\n",
        "    sum = 0\n",
        "    print(args)\n",
        "    print(type(args))\n",
        "    for arg in args:\n",
        "        sum += arg\n",
        "    return sum"
      ],
      "execution_count": 18,
      "outputs": []
    },
    {
      "cell_type": "code",
      "metadata": {
        "colab": {
          "base_uri": "https://localhost:8080/"
        },
        "id": "ZkoHaT1uAIzE",
        "outputId": "a9b23a23-307b-4e22-f168-d9310ac4a0a9"
      },
      "source": [
        "print(add(1, 2, 3, 54, 6))"
      ],
      "execution_count": 19,
      "outputs": [
        {
          "output_type": "stream",
          "text": [
            "(1, 2, 3, 54, 6)\n",
            "<class 'tuple'>\n",
            "66\n"
          ],
          "name": "stdout"
        }
      ]
    },
    {
      "cell_type": "code",
      "metadata": {
        "id": "FV4kW3R_Atut"
      },
      "source": [
        "# dictionary 형태로 받기\n",
        "def capital(**kwargs):\n",
        "    for key, value in kwargs.items():\n",
        "        print(f\"{key}'s capital city' is {value}.\")"
      ],
      "execution_count": 20,
      "outputs": []
    },
    {
      "cell_type": "code",
      "metadata": {
        "colab": {
          "base_uri": "https://localhost:8080/"
        },
        "id": "kQnPZaX9BdSQ",
        "outputId": "6b695fb1-4bbf-4046-b9d9-67a394f659a3"
      },
      "source": [
        "# key : string 형태로 들어가면 안됨.\n",
        "capital(대한민국='서울', 일본='도쿄')"
      ],
      "execution_count": 21,
      "outputs": [
        {
          "output_type": "stream",
          "text": [
            "대한민국's capital city' is 서울.\n",
            "일본's capital city' is 도쿄.\n"
          ],
          "name": "stdout"
        }
      ]
    },
    {
      "cell_type": "markdown",
      "metadata": {
        "id": "eruEzKH4gbOf"
      },
      "source": [
        "## 1.2 lambda\n",
        "\n",
        "- 간단한 작업을 함수를 이용해 만드는 방법 (예약어=lambda)\n",
        "- 함수이름 = **lambda** arg1, arg2: 수행(결과값)"
      ]
    },
    {
      "cell_type": "code",
      "metadata": {
        "colab": {
          "base_uri": "https://localhost:8080/"
        },
        "id": "3Xtlg8Vh8YVV",
        "outputId": "8ffc833a-0e6a-4655-ea6d-349477ac4096"
      },
      "source": [
        "add2 = lambda x,y : x+y\n",
        "add2(1, 3)"
      ],
      "execution_count": 22,
      "outputs": [
        {
          "output_type": "execute_result",
          "data": {
            "text/plain": [
              "4"
            ]
          },
          "metadata": {},
          "execution_count": 22
        }
      ]
    },
    {
      "cell_type": "markdown",
      "metadata": {
        "id": "3tcHdIOVNL6S"
      },
      "source": [
        "# 함수 예제"
      ]
    },
    {
      "cell_type": "code",
      "metadata": {
        "id": "ATo9CD83NLcw",
        "colab": {
          "base_uri": "https://localhost:8080/"
        },
        "outputId": "ca249272-c1a0-4a9c-87eb-b0cde6ef766a"
      },
      "source": [
        "# 1. 리스트를 입력 받아서, 홀수만 반환하는 함수를 작성\n",
        "\n",
        "# teacher's solution\n",
        "def odd_pick(inList):\n",
        "    '''\n",
        "    설명 적어 놓으면 더 좋음.\n",
        "    '''\n",
        "    result = []\n",
        "    for num in inList:\n",
        "\n",
        "        if type(num) == int:    # 정수만 추출\n",
        "            if num%2 == 1:\n",
        "                result.append(num)\n",
        "\n",
        "        if type(num) == list:   # 이중 list 고려\n",
        "            for list_num in num:\n",
        "                if type(list_num) == int:\n",
        "                    if list_num%2 == 1:\n",
        "                        result.append(list_num)\n",
        "    return result\n",
        "\n",
        "\n",
        "\n",
        "myList1 = [1, 2, 3, 4, 5, 6, 7, 8, 9, 10, 'answer', 5.2]\n",
        "print(odd_pick(myList1))\n",
        "\n",
        "# 이중 list... 안됨 ㅠㅠ\n",
        "myList2 = [1, 2, 3, 4, 5, [6, 7, 8, 9, 10]]\n",
        "print(odd_pick(myList2))"
      ],
      "execution_count": 23,
      "outputs": [
        {
          "output_type": "stream",
          "text": [
            "[1, 3, 5, 7, 9]\n",
            "[1, 3, 5, 7, 9]\n"
          ],
          "name": "stdout"
        }
      ]
    },
    {
      "cell_type": "code",
      "metadata": {
        "id": "h6z4CD1LO_ll"
      },
      "source": [
        "def odd_list(items):\n",
        "    return [item for item in items if item%2==1 and type(item)%2==int]"
      ],
      "execution_count": 24,
      "outputs": []
    },
    {
      "cell_type": "code",
      "metadata": {
        "id": "uSXBy32NNQOt",
        "colab": {
          "base_uri": "https://localhost:8080/"
        },
        "outputId": "2c66fe46-eead-4b70-af8f-874bfa9328c3"
      },
      "source": [
        "2# 2. 사용자 입력을 여러 개 받아서 평균을 계산해주는 함수를 작성\n",
        "\n",
        "# teacher's solution\n",
        "def input_avg():\n",
        "    count=0; sum=0; max_num=10\n",
        "\n",
        "    while count<10:\n",
        "        value = input(f'평균을 구할 값을 하나씩 입력해주세요.\\\n",
        "        입력이 끝나면, \"x\"를 입력하세요. (최대 {max_num} 개의 값)\\n')\n",
        "        if value == 'x':\n",
        "            break\n",
        "        else:\n",
        "            sum += float(value)\n",
        "        count += 1\n",
        "\n",
        "    if count>0:\n",
        "        avg = sum / count\n",
        "        print(f'입력된 값들의 평균은 {round(avg, 2)} 입니다.')\n",
        "    else:\n",
        "        print('입력된 값이 없습니다.')\n",
        "\n",
        "\n",
        "\n",
        "input_avg()"
      ],
      "execution_count": 25,
      "outputs": [
        {
          "output_type": "stream",
          "text": [
            "평균을 구할 값을 하나씩 입력해주세요.        입력이 끝나면, \"x\"를 입력하세요. (최대 10 개의 값)\n",
            "10\n",
            "평균을 구할 값을 하나씩 입력해주세요.        입력이 끝나면, \"x\"를 입력하세요. (최대 10 개의 값)\n",
            "20\n",
            "평균을 구할 값을 하나씩 입력해주세요.        입력이 끝나면, \"x\"를 입력하세요. (최대 10 개의 값)\n",
            "30\n",
            "평균을 구할 값을 하나씩 입력해주세요.        입력이 끝나면, \"x\"를 입력하세요. (최대 10 개의 값)\n",
            "x\n",
            "입력된 값들의 평균은 20.0 입니다.\n"
          ],
          "name": "stdout"
        }
      ]
    },
    {
      "cell_type": "code",
      "metadata": {
        "id": "Ticf9IKRNQwC",
        "colab": {
          "base_uri": "https://localhost:8080/"
        },
        "outputId": "bfc1dc90-5be3-4949-8ce0-192d7879cc9d"
      },
      "source": [
        "# 3. 1000 미만의 자연수에서 3의 배수와 5의 배수의 총합을 구하라.\n",
        "\n",
        "# teacher's solution\n",
        "def three_five():\n",
        "    sum=0\n",
        "    for i in range(1, 1000):\n",
        "        if i%3==0 or i%5==0:\n",
        "            sum += i\n",
        "    print(sum)\n",
        "    return sum\n",
        "\n",
        "\n",
        "\n",
        "three_five()"
      ],
      "execution_count": 26,
      "outputs": [
        {
          "output_type": "stream",
          "text": [
            "233168\n"
          ],
          "name": "stdout"
        },
        {
          "output_type": "execute_result",
          "data": {
            "text/plain": [
              "233168"
            ]
          },
          "metadata": {},
          "execution_count": 26
        }
      ]
    },
    {
      "cell_type": "code",
      "metadata": {
        "id": "P-rAXuG1NQoO",
        "colab": {
          "base_uri": "https://localhost:8080/"
        },
        "outputId": "c87009ba-df1a-477e-b0f9-dae31e19734d"
      },
      "source": [
        "# 4. range() 함수와 같은 기능을 하는 my_range()를 작성 (반환값은 list로)\n",
        "\n",
        "# teacher's solution\n",
        "def my_range(arg1, arg2=None, stride=1):\n",
        "    if arg2 == None:\n",
        "        start = 0; end = arg1\n",
        "    else:\n",
        "        start = arg1; end = arg2\n",
        "\n",
        "    count = start\n",
        "    myList = []\n",
        "    while count < end:\n",
        "        myList.append(count)\n",
        "        count += stride\n",
        "    return myList\n",
        "\n",
        "\n",
        "\n",
        "print(my_range(5, 10, 3))"
      ],
      "execution_count": 27,
      "outputs": [
        {
          "output_type": "stream",
          "text": [
            "[5, 8]\n"
          ],
          "name": "stdout"
        }
      ]
    },
    {
      "cell_type": "code",
      "metadata": {
        "colab": {
          "base_uri": "https://localhost:8080/"
        },
        "id": "z44VLg0CXhzb",
        "outputId": "6d7ac81f-c0f9-4a50-97f6-3a38510e312d"
      },
      "source": [
        "print(list(range(5, 10, 3)))"
      ],
      "execution_count": 28,
      "outputs": [
        {
          "output_type": "stream",
          "text": [
            "[5, 8]\n"
          ],
          "name": "stdout"
        }
      ]
    },
    {
      "cell_type": "code",
      "metadata": {
        "id": "8PcYuKddNQd5",
        "colab": {
          "base_uri": "https://localhost:8080/"
        },
        "outputId": "57cb5a90-d3e7-4485-8562-46482aa0e56d"
      },
      "source": [
        "# 5. 리스트와 한 정수를 입력 받고, \n",
        "# 한 줄에 입력 받은 정수 값만큼의 길이 씩 출력하는 함수를 작성\n",
        "\n",
        "# teacher's solution\n",
        "def print_p(in_list, num):\n",
        "    for i, value in enumerate(in_list):\n",
        "        if (i+1)%num == 0:\n",
        "            print(str(value))\n",
        "        else:\n",
        "            print(str(value), end='\\t')\n",
        "\n",
        "\n",
        "\n",
        "print_p(my_range(18), 5)"
      ],
      "execution_count": 29,
      "outputs": [
        {
          "output_type": "stream",
          "text": [
            "0\t1\t2\t3\t4\n",
            "5\t6\t7\t8\t9\n",
            "10\t11\t12\t13\t14\n",
            "15\t16\t17\t"
          ],
          "name": "stdout"
        }
      ]
    },
    {
      "cell_type": "code",
      "metadata": {
        "colab": {
          "base_uri": "https://localhost:8080/"
        },
        "id": "Q_PJfKuxUvgE",
        "outputId": "931b6bf1-68c9-48e2-bacc-7f1e944ae586"
      },
      "source": [
        "print(my_range(18))\n",
        "print_p(my_range(18), 3)"
      ],
      "execution_count": 30,
      "outputs": [
        {
          "output_type": "stream",
          "text": [
            "[0, 1, 2, 3, 4, 5, 6, 7, 8, 9, 10, 11, 12, 13, 14, 15, 16, 17]\n",
            "0\t1\t2\n",
            "3\t4\t5\n",
            "6\t7\t8\n",
            "9\t10\t11\n",
            "12\t13\t14\n",
            "15\t16\t17\n"
          ],
          "name": "stdout"
        }
      ]
    },
    {
      "cell_type": "markdown",
      "metadata": {
        "id": "B3EojtJ6Z5um"
      },
      "source": [
        "# 매우 중요!!!\n",
        "- int((len(in_list)-num)/stride + 1)\n",
        "- 향후 딥러닝(CNN)에서 자주 쓰이는 범위"
      ]
    },
    {
      "cell_type": "code",
      "metadata": {
        "id": "aDq_DNSGKcOx",
        "colab": {
          "base_uri": "https://localhost:8080/"
        },
        "outputId": "c88f817a-b7fd-414f-d327-ad4ed9403e91"
      },
      "source": [
        "# 6. 리스트와 두 정수를 입력 받고, 두 번째 정수 값만큼 이동하며, \n",
        "# 한 줄에 첫번째 정수 값만큼의 길이 씩 출력하는 함수를 작성...\n",
        "# 반복문은 적을 수록 빠르고 좋다.\n",
        "\n",
        "# teacher's solution\n",
        "def print_p2(in_list, num, stride):\n",
        "    for i in range(int((len(in_list)-num)/stride + 1)):\n",
        "        for j, value in enumerate(in_list[i*stride : i*stride+num]):\n",
        "            if (j+1)%num == 0:\n",
        "                print(str(value))\n",
        "            else:\n",
        "                print(str(value), end='\\t')\n",
        "\n",
        "\n",
        "\n",
        "print_p2(my_range(18), 5, 3)"
      ],
      "execution_count": 31,
      "outputs": [
        {
          "output_type": "stream",
          "text": [
            "0\t1\t2\t3\t4\n",
            "3\t4\t5\t6\t7\n",
            "6\t7\t8\t9\t10\n",
            "9\t10\t11\t12\t13\n",
            "12\t13\t14\t15\t16\n"
          ],
          "name": "stdout"
        }
      ]
    },
    {
      "cell_type": "code",
      "metadata": {
        "colab": {
          "base_uri": "https://localhost:8080/"
        },
        "id": "bcA_klTMZOd8",
        "outputId": "272099f7-ec1e-437c-fff2-f31d4a90197e"
      },
      "source": [
        "# teacher's solution 2\n",
        "# using ex5\n",
        "def print_p2(in_list, num, stride):\n",
        "    for i in range(int((len(in_list)-num)/stride + 1)):\n",
        "        print_p(in_list[i*stride : i*stride+num], num)\n",
        "        # for j, value in enumerate(in_list[i*stride : i*stride+num]):\n",
        "        #     if (j+1)%num == 0:\n",
        "        #         print(str(value))\n",
        "        #     else:\n",
        "        #         print(str(value), end='\\t')\n",
        "\n",
        "\n",
        "\n",
        "print_p2(my_range(18), 5, 3)"
      ],
      "execution_count": 32,
      "outputs": [
        {
          "output_type": "stream",
          "text": [
            "0\t1\t2\t3\t4\n",
            "3\t4\t5\t6\t7\n",
            "6\t7\t8\t9\t10\n",
            "9\t10\t11\t12\t13\n",
            "12\t13\t14\t15\t16\n"
          ],
          "name": "stdout"
        }
      ]
    },
    {
      "cell_type": "code",
      "metadata": {
        "id": "3oAN07GtWvSy"
      },
      "source": [
        "# ex\n",
        "# len(in_list) = l = 10\n",
        "# num = 3\n",
        "# stride = 2\n",
        "\n",
        "# 0 1 2 3 4 5 6 7 8 9\n",
        "# 0 1 2\n",
        "#     2 3 4\n",
        "#         4 5 6\n",
        "# ...\n",
        "#             6 7 8\n",
        "# (8 9 10) : 10이 없기 때문에 출력이 안됨.\n",
        "\n",
        "# i < i+num\n",
        "# 0 <= i*s\n",
        "# i * stride + num - 1 <= l - 1\n",
        "\n",
        "# 0 <= i\n",
        "# i <= int((l-num)/stride)\n",
        "\n",
        "# 0 < int((l-num)/stride) + 1"
      ],
      "execution_count": 33,
      "outputs": []
    }
  ]
}